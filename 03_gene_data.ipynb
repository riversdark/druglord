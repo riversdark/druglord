{
 "cells": [
  {
   "cell_type": "code",
   "execution_count": 1,
   "metadata": {},
   "outputs": [],
   "source": [
    "# default_exp molmap.gene.distance"
   ]
  },
  {
   "cell_type": "markdown",
   "metadata": {},
   "source": [
    "problems to be addressed:\n",
    "\n",
    "1. the features have no categories\n",
    "2. interactions between features obfuscates the original categories\n",
    "3. the dimension reduction algorithms are applied to the wrong input"
   ]
  },
  {
   "cell_type": "markdown",
   "metadata": {},
   "source": [
    "# molmap.gene\n",
    "\n",
    "> Gene feature processing using MolMap"
   ]
  },
  {
   "cell_type": "markdown",
   "metadata": {},
   "source": [
    "# Add feature sums"
   ]
  },
  {
   "cell_type": "markdown",
   "metadata": {},
   "source": [
    "The data we have in mind is a $(N, M)$ matrix, with $N$ being the number of genes and $M$ the number of features.\n",
    "\n",
    "Here we expand the features by calculating the sums of each two features, this will result in a $(N, M^2)$ matrix. \n",
    "\n",
    "and split "
   ]
  },
  {
   "cell_type": "code",
   "execution_count": 2,
   "metadata": {},
   "outputs": [],
   "source": [
    "import umap\n",
    "import numpy as np\n",
    "import pandas as pd\n",
    "from lapjv import lapjv\n",
    "from sklearn.metrics import pairwise_distances\n",
    "from scipy.spatial.distance import squareform\n",
    "from scipy.cluster.hierarchy import fcluster, linkage\n",
    "import matplotlib.pyplot as plt\n",
    "%config Completer.use_jedi = False"
   ]
  },
  {
   "cell_type": "code",
   "execution_count": 3,
   "metadata": {},
   "outputs": [
    {
     "data": {
      "text/plain": [
       "(268, 18533)"
      ]
     },
     "execution_count": 3,
     "metadata": {},
     "output_type": "execute_result"
    }
   ],
   "source": [
    "\n",
    "file_name = \"/mnt/storage2/molmap_features/gene/input/CN-AML_log2expression-response.csv\"\n",
    "\n",
    "data_T = pd.read_csv(file_name, header = 0, index_col = 0)\n",
    "data_T.shape"
   ]
  },
  {
   "cell_type": "code",
   "execution_count": 27,
   "metadata": {},
   "outputs": [
    {
     "data": {
      "text/plain": [
       "171745311"
      ]
     },
     "execution_count": 27,
     "metadata": {},
     "output_type": "execute_result"
    }
   ],
   "source": [
    "np.sum(np.arange(1, 18534))"
   ]
  },
  {
   "cell_type": "code",
   "execution_count": 4,
   "metadata": {},
   "outputs": [
    {
     "data": {
      "text/html": [
       "<div>\n",
       "<style scoped>\n",
       "    .dataframe tbody tr th:only-of-type {\n",
       "        vertical-align: middle;\n",
       "    }\n",
       "\n",
       "    .dataframe tbody tr th {\n",
       "        vertical-align: top;\n",
       "    }\n",
       "\n",
       "    .dataframe thead th {\n",
       "        text-align: right;\n",
       "    }\n",
       "</style>\n",
       "<table border=\"1\" class=\"dataframe\">\n",
       "  <thead>\n",
       "    <tr style=\"text-align: right;\">\n",
       "      <th></th>\n",
       "      <th>DPM1</th>\n",
       "      <th>SCYL3</th>\n",
       "      <th>C1orf112</th>\n",
       "      <th>FGR</th>\n",
       "      <th>CFH</th>\n",
       "      <th>FUCA2</th>\n",
       "      <th>GCLC</th>\n",
       "      <th>NFYA</th>\n",
       "      <th>STPG1</th>\n",
       "      <th>NIPAL3</th>\n",
       "      <th>...</th>\n",
       "      <th>ARHGAP11B</th>\n",
       "      <th>LINC02795</th>\n",
       "      <th>HULC</th>\n",
       "      <th>RALY-AS1</th>\n",
       "      <th>ENSG00000285258</th>\n",
       "      <th>ENSG00000285399</th>\n",
       "      <th>GABPB1-IT1</th>\n",
       "      <th>PDGFRL2P</th>\n",
       "      <th>ENSG00000285441</th>\n",
       "      <th>response</th>\n",
       "    </tr>\n",
       "  </thead>\n",
       "  <tbody>\n",
       "    <tr>\n",
       "      <th>GSM5033365</th>\n",
       "      <td>8.528089</td>\n",
       "      <td>8.618803</td>\n",
       "      <td>6.189037</td>\n",
       "      <td>8.480500</td>\n",
       "      <td>7.029838</td>\n",
       "      <td>8.788284</td>\n",
       "      <td>9.976258</td>\n",
       "      <td>7.974697</td>\n",
       "      <td>6.252231</td>\n",
       "      <td>8.826851</td>\n",
       "      <td>...</td>\n",
       "      <td>5.677537</td>\n",
       "      <td>3.582379</td>\n",
       "      <td>3.122948</td>\n",
       "      <td>7.145316</td>\n",
       "      <td>5.955838</td>\n",
       "      <td>8.540800</td>\n",
       "      <td>9.951084</td>\n",
       "      <td>6.077144</td>\n",
       "      <td>5.646510</td>\n",
       "      <td>0</td>\n",
       "    </tr>\n",
       "    <tr>\n",
       "      <th>GSM5033186</th>\n",
       "      <td>8.969203</td>\n",
       "      <td>8.672092</td>\n",
       "      <td>6.527113</td>\n",
       "      <td>11.208401</td>\n",
       "      <td>3.075902</td>\n",
       "      <td>8.506354</td>\n",
       "      <td>9.245827</td>\n",
       "      <td>8.459606</td>\n",
       "      <td>5.415752</td>\n",
       "      <td>8.504262</td>\n",
       "      <td>...</td>\n",
       "      <td>5.502166</td>\n",
       "      <td>2.776341</td>\n",
       "      <td>3.982792</td>\n",
       "      <td>6.388785</td>\n",
       "      <td>6.205185</td>\n",
       "      <td>8.426841</td>\n",
       "      <td>10.608258</td>\n",
       "      <td>6.152717</td>\n",
       "      <td>5.830789</td>\n",
       "      <td>0</td>\n",
       "    </tr>\n",
       "    <tr>\n",
       "      <th>GSM5033399</th>\n",
       "      <td>9.378293</td>\n",
       "      <td>8.609907</td>\n",
       "      <td>7.127125</td>\n",
       "      <td>10.546779</td>\n",
       "      <td>5.114741</td>\n",
       "      <td>9.245445</td>\n",
       "      <td>9.341568</td>\n",
       "      <td>9.799792</td>\n",
       "      <td>5.504687</td>\n",
       "      <td>8.102250</td>\n",
       "      <td>...</td>\n",
       "      <td>4.900616</td>\n",
       "      <td>0.256759</td>\n",
       "      <td>3.256760</td>\n",
       "      <td>6.234040</td>\n",
       "      <td>6.322849</td>\n",
       "      <td>8.354792</td>\n",
       "      <td>10.715167</td>\n",
       "      <td>5.163650</td>\n",
       "      <td>6.886116</td>\n",
       "      <td>1</td>\n",
       "    </tr>\n",
       "    <tr>\n",
       "      <th>GSM5033203</th>\n",
       "      <td>9.100713</td>\n",
       "      <td>9.080373</td>\n",
       "      <td>6.916288</td>\n",
       "      <td>7.916288</td>\n",
       "      <td>3.835368</td>\n",
       "      <td>7.354097</td>\n",
       "      <td>9.312348</td>\n",
       "      <td>8.712357</td>\n",
       "      <td>5.807354</td>\n",
       "      <td>8.059741</td>\n",
       "      <td>...</td>\n",
       "      <td>4.992910</td>\n",
       "      <td>3.942284</td>\n",
       "      <td>5.179323</td>\n",
       "      <td>6.065666</td>\n",
       "      <td>5.304854</td>\n",
       "      <td>8.243453</td>\n",
       "      <td>10.176588</td>\n",
       "      <td>5.304854</td>\n",
       "      <td>4.527246</td>\n",
       "      <td>1</td>\n",
       "    </tr>\n",
       "    <tr>\n",
       "      <th>GSM5033258</th>\n",
       "      <td>9.209079</td>\n",
       "      <td>7.988480</td>\n",
       "      <td>7.131674</td>\n",
       "      <td>11.877276</td>\n",
       "      <td>3.950344</td>\n",
       "      <td>10.172276</td>\n",
       "      <td>9.824228</td>\n",
       "      <td>8.705232</td>\n",
       "      <td>5.464917</td>\n",
       "      <td>7.982193</td>\n",
       "      <td>...</td>\n",
       "      <td>3.602421</td>\n",
       "      <td>2.950344</td>\n",
       "      <td>2.950344</td>\n",
       "      <td>5.897877</td>\n",
       "      <td>5.727952</td>\n",
       "      <td>7.917777</td>\n",
       "      <td>10.309152</td>\n",
       "      <td>4.666552</td>\n",
       "      <td>5.230452</td>\n",
       "      <td>1</td>\n",
       "    </tr>\n",
       "  </tbody>\n",
       "</table>\n",
       "<p>5 rows × 18533 columns</p>\n",
       "</div>"
      ],
      "text/plain": [
       "                DPM1     SCYL3  C1orf112        FGR       CFH      FUCA2  \\\n",
       "GSM5033365  8.528089  8.618803  6.189037   8.480500  7.029838   8.788284   \n",
       "GSM5033186  8.969203  8.672092  6.527113  11.208401  3.075902   8.506354   \n",
       "GSM5033399  9.378293  8.609907  7.127125  10.546779  5.114741   9.245445   \n",
       "GSM5033203  9.100713  9.080373  6.916288   7.916288  3.835368   7.354097   \n",
       "GSM5033258  9.209079  7.988480  7.131674  11.877276  3.950344  10.172276   \n",
       "\n",
       "                GCLC      NFYA     STPG1    NIPAL3  ...  ARHGAP11B  LINC02795  \\\n",
       "GSM5033365  9.976258  7.974697  6.252231  8.826851  ...   5.677537   3.582379   \n",
       "GSM5033186  9.245827  8.459606  5.415752  8.504262  ...   5.502166   2.776341   \n",
       "GSM5033399  9.341568  9.799792  5.504687  8.102250  ...   4.900616   0.256759   \n",
       "GSM5033203  9.312348  8.712357  5.807354  8.059741  ...   4.992910   3.942284   \n",
       "GSM5033258  9.824228  8.705232  5.464917  7.982193  ...   3.602421   2.950344   \n",
       "\n",
       "                HULC  RALY-AS1  ENSG00000285258  ENSG00000285399  GABPB1-IT1  \\\n",
       "GSM5033365  3.122948  7.145316         5.955838         8.540800    9.951084   \n",
       "GSM5033186  3.982792  6.388785         6.205185         8.426841   10.608258   \n",
       "GSM5033399  3.256760  6.234040         6.322849         8.354792   10.715167   \n",
       "GSM5033203  5.179323  6.065666         5.304854         8.243453   10.176588   \n",
       "GSM5033258  2.950344  5.897877         5.727952         7.917777   10.309152   \n",
       "\n",
       "            PDGFRL2P  ENSG00000285441  response  \n",
       "GSM5033365  6.077144         5.646510         0  \n",
       "GSM5033186  6.152717         5.830789         0  \n",
       "GSM5033399  5.163650         6.886116         1  \n",
       "GSM5033203  5.304854         4.527246         1  \n",
       "GSM5033258  4.666552         5.230452         1  \n",
       "\n",
       "[5 rows x 18533 columns]"
      ]
     },
     "execution_count": 4,
     "metadata": {},
     "output_type": "execute_result"
    }
   ],
   "source": [
    "data_T.head()"
   ]
  },
  {
   "cell_type": "code",
   "execution_count": 5,
   "metadata": {},
   "outputs": [],
   "source": [
    "#Feature Matrix and Y_true labels\n",
    "dataX = data_T.drop(columns = \"response\")\n",
    "dataY = data_T[\"response\"]"
   ]
  },
  {
   "cell_type": "code",
   "execution_count": 6,
   "metadata": {},
   "outputs": [],
   "source": [
    "#Feature variance sorting\n",
    "VAR_list = np.var(dataX, axis = 0)\n",
    "f_sorted = np.argsort(VAR_list)[::-1]\n",
    "f_name = dataX.columns[f_sorted]"
   ]
  },
  {
   "cell_type": "code",
   "execution_count": 7,
   "metadata": {},
   "outputs": [],
   "source": [
    "f_percentage = 0.01 #feature selection: (0,1], total number: 18532"
   ]
  },
  {
   "cell_type": "code",
   "execution_count": 8,
   "metadata": {},
   "outputs": [],
   "source": [
    "f_num = round(f_percentage * len(f_name))\n",
    "dataX = dataX.reindex(columns = f_name[:f_num])"
   ]
  },
  {
   "cell_type": "code",
   "execution_count": 9,
   "metadata": {},
   "outputs": [
    {
     "data": {
      "text/plain": [
       "(268, 185)"
      ]
     },
     "execution_count": 9,
     "metadata": {},
     "output_type": "execute_result"
    }
   ],
   "source": [
    "dataX.shape"
   ]
  },
  {
   "cell_type": "code",
   "execution_count": 10,
   "metadata": {},
   "outputs": [],
   "source": [
    "x = dataX.values\n"
   ]
  },
  {
   "cell_type": "code",
   "execution_count": 11,
   "metadata": {},
   "outputs": [
    {
     "data": {
      "text/plain": [
       "(268, 185, 185)"
      ]
     },
     "execution_count": 11,
     "metadata": {},
     "output_type": "execute_result"
    }
   ],
   "source": [
    "x1 = (x[..., None] + x[:, None, :]) / 2\n",
    "x1.shape"
   ]
  },
  {
   "cell_type": "code",
   "execution_count": 12,
   "metadata": {},
   "outputs": [
    {
     "data": {
      "text/plain": [
       "(268, 34225)"
      ]
     },
     "execution_count": 12,
     "metadata": {},
     "output_type": "execute_result"
    }
   ],
   "source": [
    "x2 = np.triu(x1).reshape(len(dataX), -1)\n",
    "x2.shape"
   ]
  },
  {
   "cell_type": "code",
   "execution_count": 13,
   "metadata": {},
   "outputs": [],
   "source": [
    "dataX = pd.DataFrame(x2, index=dataX.index)"
   ]
  },
  {
   "cell_type": "code",
   "execution_count": 14,
   "metadata": {},
   "outputs": [
    {
     "data": {
      "text/plain": [
       "(268, 34225)"
      ]
     },
     "execution_count": 14,
     "metadata": {},
     "output_type": "execute_result"
    }
   ],
   "source": [
    "dataX.shape"
   ]
  },
  {
   "cell_type": "code",
   "execution_count": 15,
   "metadata": {},
   "outputs": [
    {
     "data": {
      "text/plain": [
       "(268, 17205)"
      ]
     },
     "execution_count": 15,
     "metadata": {},
     "output_type": "execute_result"
    }
   ],
   "source": [
    "dataX = dataX.loc[:, (dataX != 0).any(axis=0)]\n",
    "dataX.shape"
   ]
  },
  {
   "cell_type": "code",
   "execution_count": 16,
   "metadata": {},
   "outputs": [
    {
     "data": {
      "text/plain": [
       "17205"
      ]
     },
     "execution_count": 16,
     "metadata": {},
     "output_type": "execute_result"
    }
   ],
   "source": [
    "np.sum(np.arange(1, 186))"
   ]
  },
  {
   "cell_type": "code",
   "execution_count": 17,
   "metadata": {},
   "outputs": [],
   "source": [
    "dataX = dataX.replace([np.nan, np.inf, -np.inf], 0)\n",
    "distance_matrix = pairwise_distances(dataX.T, metric = 'cosine')"
   ]
  },
  {
   "cell_type": "code",
   "execution_count": 18,
   "metadata": {},
   "outputs": [
    {
     "data": {
      "text/plain": [
       "(17205, 17205)"
      ]
     },
     "execution_count": 18,
     "metadata": {},
     "output_type": "execute_result"
    }
   ],
   "source": [
    "distance_matrix.shape"
   ]
  },
  {
   "cell_type": "markdown",
   "metadata": {},
   "source": [
    "## precomputing the pairewise distance"
   ]
  },
  {
   "cell_type": "code",
   "execution_count": 19,
   "metadata": {},
   "outputs": [],
   "source": [
    "d = pairwise_distances(distance_matrix, metric='cosine')"
   ]
  },
  {
   "cell_type": "code",
   "execution_count": 20,
   "metadata": {},
   "outputs": [
    {
     "name": "stderr",
     "output_type": "stream",
     "text": [
      "/home/ma/miniconda3/envs/molmap/lib/python3.7/site-packages/umap/umap_.py:1780: UserWarning: using precomputed metric; inverse_transform will be unavailable\n",
      "  warn(\"using precomputed metric; inverse_transform will be unavailable\")\n"
     ]
    }
   ],
   "source": [
    "reducer = umap.UMAP(\n",
    "    n_neighbors = 30, \n",
    "    min_dist = 0.1, \n",
    "    n_components = 2, \n",
    "    metric = 'precomputed', \n",
    "    init='random', \n",
    "    random_state = 123)\n",
    "embedding = reducer.fit_transform(d)"
   ]
  },
  {
   "cell_type": "code",
   "execution_count": 21,
   "metadata": {},
   "outputs": [
    {
     "data": {
      "text/plain": [
       "(17205, 2)"
      ]
     },
     "execution_count": 21,
     "metadata": {},
     "output_type": "execute_result"
    }
   ],
   "source": [
    "embedding.shape"
   ]
  },
  {
   "cell_type": "code",
   "execution_count": 22,
   "metadata": {},
   "outputs": [
    {
     "data": {
      "text/plain": [
       "array([[-6.355319 , 15.34469  ],\n",
       "       [ 3.3813012, 10.887586 ],\n",
       "       [ 3.42659  , 10.845109 ],\n",
       "       [ 3.831416 , 10.384565 ],\n",
       "       [ 3.8210213, 10.487432 ]], dtype=float32)"
      ]
     },
     "execution_count": 22,
     "metadata": {},
     "output_type": "execute_result"
    }
   ],
   "source": [
    "embedding[:5]"
   ]
  },
  {
   "cell_type": "code",
   "execution_count": 23,
   "metadata": {},
   "outputs": [
    {
     "data": {
      "image/png": "[encoded data removed]",
      "text/plain": [
       "<Figure size 432x288 with 1 Axes>"
      ]
     },
     "metadata": {
      "needs_background": "light"
     },
     "output_type": "display_data"
    }
   ],
   "source": [
    "plt.scatter(embedding[:, 0], embedding[:, 1]);\n"
   ]
  },
  {
   "cell_type": "markdown",
   "metadata": {},
   "source": [
    "## not precomputing the pairewise distance"
   ]
  },
  {
   "cell_type": "code",
   "execution_count": 24,
   "metadata": {},
   "outputs": [
    {
     "name": "stderr",
     "output_type": "stream",
     "text": [
      "/home/ma/miniconda3/envs/molmap/lib/python3.7/site-packages/umap/umap_.py:1780: UserWarning: using precomputed metric; inverse_transform will be unavailable\n",
      "  warn(\"using precomputed metric; inverse_transform will be unavailable\")\n"
     ]
    },
    {
     "data": {
      "text/plain": [
       "(17205, 2)"
      ]
     },
     "execution_count": 24,
     "metadata": {},
     "output_type": "execute_result"
    }
   ],
   "source": [
    "reducer2 = umap.UMAP(\n",
    "    n_neighbors = 30, \n",
    "    min_dist = 0.1, \n",
    "    n_components = 2, \n",
    "    metric='cosine', \n",
    "    init='random', \n",
    "    random_state = 123)\n",
    "embedding2 = reducer.fit_transform(distance_matrix)\n",
    "embedding2.shape"
   ]
  },
  {
   "cell_type": "code",
   "execution_count": 25,
   "metadata": {},
   "outputs": [
    {
     "data": {
      "text/plain": [
       "array([[ 2.9450164, 20.089283 ],\n",
       "       [ 6.560175 , 12.468213 ],\n",
       "       [ 6.54701  , 12.594105 ],\n",
       "       [ 6.5758476, 12.5189905],\n",
       "       [ 6.5498405, 12.490305 ]], dtype=float32)"
      ]
     },
     "execution_count": 25,
     "metadata": {},
     "output_type": "execute_result"
    }
   ],
   "source": [
    "embedding2[:5]"
   ]
  },
  {
   "cell_type": "code",
   "execution_count": 26,
   "metadata": {},
   "outputs": [
    {
     "data": {
      "image/png": "[encoded data removed]",
      "text/plain": [
       "<Figure size 432x288 with 1 Axes>"
      ]
     },
     "metadata": {
      "needs_background": "light"
     },
     "output_type": "display_data"
    }
   ],
   "source": [
    "plt.scatter(embedding2[:, 0], embedding2[:, 1]);\n"
   ]
  }
 ],
 "metadata": {
  "interpreter": {
   "hash": "9d0865d041e67b53219329a2d317362ab3dabc3c39d758892df86351648cfb29"
  },
  "kernelspec": {
   "display_name": "Python 3.7.13 ('molmap')",
   "language": "python",
   "name": "python3"
  },
  "language_info": {
   "codemirror_mode": {
    "name": "ipython",
    "version": 3
   },
   "file_extension": ".py",
   "mimetype": "text/x-python",
   "name": "python",
   "nbconvert_exporter": "python",
   "pygments_lexer": "ipython3",
   "version": "3.7.13"
  },
  "orig_nbformat": 4
 },
 "nbformat": 4,
 "nbformat_minor": 2
}
