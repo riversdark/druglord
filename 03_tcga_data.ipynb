{
 "cells": [
  {
   "cell_type": "code",
   "execution_count": 2,
   "metadata": {},
   "outputs": [],
   "source": [
    "# default_exp molmap.gene.distance"
   ]
  },
  {
   "cell_type": "markdown",
   "metadata": {},
   "source": [
    "# molmap.gene\n",
    "\n",
    "> Gene feature processing using MolMap"
   ]
  },
  {
   "cell_type": "markdown",
   "metadata": {},
   "source": [
    "# Add feature sums"
   ]
  },
  {
   "cell_type": "markdown",
   "metadata": {},
   "source": [
    "The data we have in mind is a $(N, M)$ matrix, with $N$ being the number of genes and $M$ the number of features.\n",
    "\n",
    "Here we expand the features by calculating the sums of each two features, this will result in a $(N, M^2)$ matrix. \n",
    "\n",
    "and split "
   ]
  },
  {
   "cell_type": "code",
   "execution_count": 1,
   "metadata": {},
   "outputs": [],
   "source": [
    "import umap\n",
    "import numpy as np\n",
    "import pandas as pd\n",
    "from lapjv import lapjv\n",
    "from sklearn.metrics import pairwise_distances\n",
    "from scipy.spatial.distance import squareform\n",
    "from scipy.cluster.hierarchy import fcluster, linkage\n",
    "%config Completer.use_jedi = False"
   ]
  },
  {
   "cell_type": "markdown",
   "metadata": {},
   "source": [
    "no need to untar the archive file"
   ]
  },
  {
   "cell_type": "code",
   "execution_count": 2,
   "metadata": {},
   "outputs": [
    {
     "data": {
      "text/plain": [
       "(16988, 17750)"
      ]
     },
     "execution_count": 2,
     "metadata": {},
     "output_type": "execute_result"
    }
   ],
   "source": [
    "file_name = \"/mnt/storage2/molmap_features/gene/input/All-TCGA-sample_log2expression-matrix.csv\"\n",
    "\n",
    "data_T = pd.read_csv(file_name, header = 0, index_col = 0)\n",
    "data_T.shape"
   ]
  },
  {
   "cell_type": "markdown",
   "metadata": {},
   "source": [
    "we have 16,988 samples and 17,750 genes.\n",
    "\n",
    "But what exactly are the data?"
   ]
  },
  {
   "cell_type": "code",
   "execution_count": 3,
   "metadata": {},
   "outputs": [
    {
     "data": {
      "text/html": [
       "<div>\n",
       "<style scoped>\n",
       "    .dataframe tbody tr th:only-of-type {\n",
       "        vertical-align: middle;\n",
       "    }\n",
       "\n",
       "    .dataframe tbody tr th {\n",
       "        vertical-align: top;\n",
       "    }\n",
       "\n",
       "    .dataframe thead th {\n",
       "        text-align: right;\n",
       "    }\n",
       "</style>\n",
       "<table border=\"1\" class=\"dataframe\">\n",
       "  <thead>\n",
       "    <tr style=\"text-align: right;\">\n",
       "      <th></th>\n",
       "      <th>TSPAN6</th>\n",
       "      <th>DPM1</th>\n",
       "      <th>SCYL3</th>\n",
       "      <th>C1orf112</th>\n",
       "      <th>FGR</th>\n",
       "      <th>CFH</th>\n",
       "      <th>FUCA2</th>\n",
       "      <th>GCLC</th>\n",
       "      <th>NFYA</th>\n",
       "      <th>STPG1</th>\n",
       "      <th>...</th>\n",
       "      <th>DUS4L-BCAP29</th>\n",
       "      <th>AC016394.2</th>\n",
       "      <th>AL357079.3</th>\n",
       "      <th>AL357874.3</th>\n",
       "      <th>C8orf44</th>\n",
       "      <th>AL354833.1</th>\n",
       "      <th>AL133351.4</th>\n",
       "      <th>AC073611.1</th>\n",
       "      <th>AL592295.6</th>\n",
       "      <th>AP006621.6</th>\n",
       "    </tr>\n",
       "  </thead>\n",
       "  <tbody>\n",
       "    <tr>\n",
       "      <th>ID-1</th>\n",
       "      <td>-4.299028</td>\n",
       "      <td>3.519240</td>\n",
       "      <td>1.536550</td>\n",
       "      <td>1.325214</td>\n",
       "      <td>-1.511691</td>\n",
       "      <td>-5.921390</td>\n",
       "      <td>0.749663</td>\n",
       "      <td>2.514021</td>\n",
       "      <td>5.151169</td>\n",
       "      <td>-0.718331</td>\n",
       "      <td>...</td>\n",
       "      <td>-1.246053</td>\n",
       "      <td>2.770343</td>\n",
       "      <td>1.803310</td>\n",
       "      <td>-1.604279</td>\n",
       "      <td>0.465818</td>\n",
       "      <td>-0.824699</td>\n",
       "      <td>-1.683623</td>\n",
       "      <td>-1.761702</td>\n",
       "      <td>0.580338</td>\n",
       "      <td>0.477677</td>\n",
       "    </tr>\n",
       "    <tr>\n",
       "      <th>ID-2</th>\n",
       "      <td>4.029771</td>\n",
       "      <td>4.813514</td>\n",
       "      <td>1.968828</td>\n",
       "      <td>-0.442026</td>\n",
       "      <td>-1.286304</td>\n",
       "      <td>2.061085</td>\n",
       "      <td>3.516658</td>\n",
       "      <td>1.823668</td>\n",
       "      <td>3.525380</td>\n",
       "      <td>1.390558</td>\n",
       "      <td>...</td>\n",
       "      <td>-0.782893</td>\n",
       "      <td>1.574877</td>\n",
       "      <td>0.048376</td>\n",
       "      <td>-0.169096</td>\n",
       "      <td>0.550704</td>\n",
       "      <td>-5.304719</td>\n",
       "      <td>-1.763171</td>\n",
       "      <td>-2.417348</td>\n",
       "      <td>0.853038</td>\n",
       "      <td>-0.276835</td>\n",
       "    </tr>\n",
       "    <tr>\n",
       "      <th>ID-3</th>\n",
       "      <td>3.116315</td>\n",
       "      <td>5.166434</td>\n",
       "      <td>1.999531</td>\n",
       "      <td>1.942496</td>\n",
       "      <td>3.857643</td>\n",
       "      <td>2.456412</td>\n",
       "      <td>3.869625</td>\n",
       "      <td>2.112233</td>\n",
       "      <td>3.731694</td>\n",
       "      <td>0.115300</td>\n",
       "      <td>...</td>\n",
       "      <td>-0.500014</td>\n",
       "      <td>-0.618606</td>\n",
       "      <td>0.765280</td>\n",
       "      <td>-1.484388</td>\n",
       "      <td>1.604783</td>\n",
       "      <td>-3.172669</td>\n",
       "      <td>-0.844251</td>\n",
       "      <td>-1.522426</td>\n",
       "      <td>1.708540</td>\n",
       "      <td>-0.412347</td>\n",
       "    </tr>\n",
       "    <tr>\n",
       "      <th>ID-4</th>\n",
       "      <td>3.769412</td>\n",
       "      <td>4.538290</td>\n",
       "      <td>1.331419</td>\n",
       "      <td>-0.193965</td>\n",
       "      <td>2.272979</td>\n",
       "      <td>2.762285</td>\n",
       "      <td>4.021355</td>\n",
       "      <td>2.557386</td>\n",
       "      <td>2.982035</td>\n",
       "      <td>0.044044</td>\n",
       "      <td>...</td>\n",
       "      <td>-0.400492</td>\n",
       "      <td>0.259182</td>\n",
       "      <td>0.364124</td>\n",
       "      <td>-2.306859</td>\n",
       "      <td>0.780058</td>\n",
       "      <td>-4.097888</td>\n",
       "      <td>0.392867</td>\n",
       "      <td>-3.386846</td>\n",
       "      <td>2.698374</td>\n",
       "      <td>-2.871971</td>\n",
       "    </tr>\n",
       "    <tr>\n",
       "      <th>ID-5</th>\n",
       "      <td>NaN</td>\n",
       "      <td>4.825831</td>\n",
       "      <td>2.337797</td>\n",
       "      <td>1.283092</td>\n",
       "      <td>6.389016</td>\n",
       "      <td>-1.501034</td>\n",
       "      <td>3.324018</td>\n",
       "      <td>2.601649</td>\n",
       "      <td>3.896485</td>\n",
       "      <td>-0.235144</td>\n",
       "      <td>...</td>\n",
       "      <td>-0.117318</td>\n",
       "      <td>2.482977</td>\n",
       "      <td>1.484860</td>\n",
       "      <td>-1.158429</td>\n",
       "      <td>2.800144</td>\n",
       "      <td>-3.566613</td>\n",
       "      <td>-0.204566</td>\n",
       "      <td>-0.710520</td>\n",
       "      <td>3.071643</td>\n",
       "      <td>-0.962126</td>\n",
       "    </tr>\n",
       "  </tbody>\n",
       "</table>\n",
       "<p>5 rows × 17750 columns</p>\n",
       "</div>"
      ],
      "text/plain": [
       "        TSPAN6      DPM1     SCYL3  C1orf112       FGR       CFH     FUCA2  \\\n",
       "ID-1 -4.299028  3.519240  1.536550  1.325214 -1.511691 -5.921390  0.749663   \n",
       "ID-2  4.029771  4.813514  1.968828 -0.442026 -1.286304  2.061085  3.516658   \n",
       "ID-3  3.116315  5.166434  1.999531  1.942496  3.857643  2.456412  3.869625   \n",
       "ID-4  3.769412  4.538290  1.331419 -0.193965  2.272979  2.762285  4.021355   \n",
       "ID-5       NaN  4.825831  2.337797  1.283092  6.389016 -1.501034  3.324018   \n",
       "\n",
       "          GCLC      NFYA     STPG1  ...  DUS4L-BCAP29  AC016394.2  AL357079.3  \\\n",
       "ID-1  2.514021  5.151169 -0.718331  ...     -1.246053    2.770343    1.803310   \n",
       "ID-2  1.823668  3.525380  1.390558  ...     -0.782893    1.574877    0.048376   \n",
       "ID-3  2.112233  3.731694  0.115300  ...     -0.500014   -0.618606    0.765280   \n",
       "ID-4  2.557386  2.982035  0.044044  ...     -0.400492    0.259182    0.364124   \n",
       "ID-5  2.601649  3.896485 -0.235144  ...     -0.117318    2.482977    1.484860   \n",
       "\n",
       "      AL357874.3   C8orf44  AL354833.1  AL133351.4  AC073611.1  AL592295.6  \\\n",
       "ID-1   -1.604279  0.465818   -0.824699   -1.683623   -1.761702    0.580338   \n",
       "ID-2   -0.169096  0.550704   -5.304719   -1.763171   -2.417348    0.853038   \n",
       "ID-3   -1.484388  1.604783   -3.172669   -0.844251   -1.522426    1.708540   \n",
       "ID-4   -2.306859  0.780058   -4.097888    0.392867   -3.386846    2.698374   \n",
       "ID-5   -1.158429  2.800144   -3.566613   -0.204566   -0.710520    3.071643   \n",
       "\n",
       "      AP006621.6  \n",
       "ID-1    0.477677  \n",
       "ID-2   -0.276835  \n",
       "ID-3   -0.412347  \n",
       "ID-4   -2.871971  \n",
       "ID-5   -0.962126  \n",
       "\n",
       "[5 rows x 17750 columns]"
      ]
     },
     "execution_count": 3,
     "metadata": {},
     "output_type": "execute_result"
    }
   ],
   "source": [
    "data_T.head()"
   ]
  },
  {
   "cell_type": "code",
   "execution_count": 12,
   "metadata": {},
   "outputs": [
    {
     "data": {
      "text/plain": [
       "Index(['ID-1', 'ID-2', 'ID-3', 'ID-4', 'ID-5', 'ID-6', 'ID-7', 'ID-8', 'ID-9',\n",
       "       'ID-10',\n",
       "       ...\n",
       "       'ID-16979', 'ID-16980', 'ID-16981', 'ID-16982', 'ID-16983', 'ID-16984',\n",
       "       'ID-16985', 'ID-16986', 'ID-16987', 'ID-16988'],\n",
       "      dtype='object', length=16988)"
      ]
     },
     "execution_count": 12,
     "metadata": {},
     "output_type": "execute_result"
    }
   ],
   "source": [
    "data_T.index"
   ]
  },
  {
   "cell_type": "code",
   "execution_count": 13,
   "metadata": {},
   "outputs": [
    {
     "data": {
      "text/plain": [
       "Index(['TSPAN6', 'DPM1', 'SCYL3', 'C1orf112', 'FGR', 'CFH', 'FUCA2', 'GCLC',\n",
       "       'NFYA', 'STPG1',\n",
       "       ...\n",
       "       'DUS4L-BCAP29', 'AC016394.2', 'AL357079.3', 'AL357874.3', 'C8orf44',\n",
       "       'AL354833.1', 'AL133351.4', 'AC073611.1', 'AL592295.6', 'AP006621.6'],\n",
       "      dtype='object', length=17750)"
      ]
     },
     "execution_count": 13,
     "metadata": {},
     "output_type": "execute_result"
    }
   ],
   "source": [
    "data_T.columns"
   ]
  }
 ],
 "metadata": {
  "interpreter": {
   "hash": "9d0865d041e67b53219329a2d317362ab3dabc3c39d758892df86351648cfb29"
  },
  "kernelspec": {
   "display_name": "Python 3.7.13 ('molmap')",
   "language": "python",
   "name": "python3"
  },
  "language_info": {
   "codemirror_mode": {
    "name": "ipython",
    "version": 3
   },
   "file_extension": ".py",
   "mimetype": "text/x-python",
   "name": "python",
   "nbconvert_exporter": "python",
   "pygments_lexer": "ipython3",
   "version": "3.7.13"
  },
  "orig_nbformat": 4
 },
 "nbformat": 4,
 "nbformat_minor": 2
}
