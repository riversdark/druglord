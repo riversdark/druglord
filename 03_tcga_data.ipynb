{
 "cells": [
  {
   "cell_type": "code",
   "execution_count": 2,
   "metadata": {},
   "outputs": [],
   "source": [
    "# default_exp molmap.gene.distance"
   ]
  },
  {
   "cell_type": "markdown",
   "metadata": {},
   "source": [
    "# molmap.gene\n",
    "\n",
    "> Gene feature processing using MolMap"
   ]
  },
  {
   "cell_type": "markdown",
   "metadata": {},
   "source": [
    "# Add feature sums"
   ]
  },
  {
   "cell_type": "markdown",
   "metadata": {},
   "source": [
    "The data we have in mind is a $(N, M)$ matrix, with $N$ being the number of genes and $M$ the number of features.\n",
    "\n",
    "Here we expand the features by calculating the sums of each two features, this will result in a $(N, M^2)$ matrix. \n",
    "\n",
    "and split "
   ]
  },
  {
   "cell_type": "code",
   "execution_count": 1,
   "metadata": {},
   "outputs": [],
   "source": [
    "import umap\n",
    "import numpy as np\n",
    "import pandas as pd\n",
    "from lapjv import lapjv\n",
    "from sklearn.metrics import pairwise_distances\n",
    "from scipy.spatial.distance import squareform\n",
    "from scipy.cluster.hierarchy import fcluster, linkage\n",
    "%config Completer.use_jedi = False"
   ]
  },
  {
   "cell_type": "markdown",
   "metadata": {},
   "source": [
    "no need to untar the archive file"
   ]
  },
  {
   "cell_type": "code",
   "execution_count": 10,
   "metadata": {},
   "outputs": [
    {
     "data": {
      "text/plain": [
       "(16988, 17750)"
      ]
     },
     "execution_count": 10,
     "metadata": {},
     "output_type": "execute_result"
    }
   ],
   "source": [
    "file_name = \"/mnt/storage2/molmap_features/gene/input/All-TCGA-sample_log2expression-matrix.csv\"\n",
    "\n",
    "data_T = pd.read_csv(file_name, header = 0, index_col = 0)\n",
    "data_T.shape"
   ]
  },
  {
   "cell_type": "markdown",
   "metadata": {},
   "source": [
    "we have 16,988 samples and 17,750 genes.\n",
    "\n",
    "But what exactly are the data?"
   ]
  },
  {
   "cell_type": "code",
   "execution_count": 11,
   "metadata": {},
   "outputs": [
    {
     "data": {
      "text/html": [
       "<div>\n",
       "<style scoped>\n",
       "    .dataframe tbody tr th:only-of-type {\n",
       "        vertical-align: middle;\n",
       "    }\n",
       "\n",
       "    .dataframe tbody tr th {\n",
       "        vertical-align: top;\n",
       "    }\n",
       "\n",
       "    .dataframe thead th {\n",
       "        text-align: right;\n",
       "    }\n",
       "</style>\n",
       "<table border=\"1\" class=\"dataframe\">\n",
       "  <thead>\n",
       "    <tr style=\"text-align: right;\">\n",
       "      <th></th>\n",
       "      <th>TSPAN6</th>\n",
       "      <th>DPM1</th>\n",
       "      <th>SCYL3</th>\n",
       "      <th>C1orf112</th>\n",
       "      <th>FGR</th>\n",
       "      <th>CFH</th>\n",
       "      <th>FUCA2</th>\n",
       "      <th>GCLC</th>\n",
       "      <th>NFYA</th>\n",
       "      <th>STPG1</th>\n",
       "      <th>...</th>\n",
       "      <th>DUS4L-BCAP29</th>\n",
       "      <th>AC016394.2</th>\n",
       "      <th>AL357079.3</th>\n",
       "      <th>AL357874.3</th>\n",
       "      <th>C8orf44</th>\n",
       "      <th>AL354833.1</th>\n",
       "      <th>AL133351.4</th>\n",
       "      <th>AC073611.1</th>\n",
       "      <th>AL592295.6</th>\n",
       "      <th>AP006621.6</th>\n",
       "    </tr>\n",
       "  </thead>\n",
       "  <tbody>\n",
       "    <tr>\n",
       "      <th>ID-16984</th>\n",
       "      <td>3.764505</td>\n",
       "      <td>4.632960</td>\n",
       "      <td>1.209828</td>\n",
       "      <td>0.796349</td>\n",
       "      <td>0.415759</td>\n",
       "      <td>2.363564</td>\n",
       "      <td>3.848938</td>\n",
       "      <td>2.812970</td>\n",
       "      <td>3.452951</td>\n",
       "      <td>0.387693</td>\n",
       "      <td>...</td>\n",
       "      <td>-0.715960</td>\n",
       "      <td>0.378290</td>\n",
       "      <td>0.513895</td>\n",
       "      <td>-0.902659</td>\n",
       "      <td>1.102591</td>\n",
       "      <td>-4.970300</td>\n",
       "      <td>-1.572179</td>\n",
       "      <td>-4.921390</td>\n",
       "      <td>2.189508</td>\n",
       "      <td>-3.689660</td>\n",
       "    </tr>\n",
       "    <tr>\n",
       "      <th>ID-16985</th>\n",
       "      <td>3.248838</td>\n",
       "      <td>4.315516</td>\n",
       "      <td>1.345283</td>\n",
       "      <td>-0.565759</td>\n",
       "      <td>1.671882</td>\n",
       "      <td>4.475039</td>\n",
       "      <td>3.541577</td>\n",
       "      <td>2.197991</td>\n",
       "      <td>2.311590</td>\n",
       "      <td>-0.399350</td>\n",
       "      <td>...</td>\n",
       "      <td>-0.171531</td>\n",
       "      <td>-0.310790</td>\n",
       "      <td>1.450274</td>\n",
       "      <td>-2.346665</td>\n",
       "      <td>1.351572</td>\n",
       "      <td>-2.982791</td>\n",
       "      <td>1.263215</td>\n",
       "      <td>-2.398969</td>\n",
       "      <td>2.288447</td>\n",
       "      <td>-2.031504</td>\n",
       "    </tr>\n",
       "    <tr>\n",
       "      <th>ID-16986</th>\n",
       "      <td>4.461764</td>\n",
       "      <td>5.514662</td>\n",
       "      <td>0.523963</td>\n",
       "      <td>1.932893</td>\n",
       "      <td>0.822118</td>\n",
       "      <td>3.998927</td>\n",
       "      <td>4.824391</td>\n",
       "      <td>-0.060397</td>\n",
       "      <td>3.204908</td>\n",
       "      <td>-0.130523</td>\n",
       "      <td>...</td>\n",
       "      <td>1.106750</td>\n",
       "      <td>-0.539729</td>\n",
       "      <td>-1.962969</td>\n",
       "      <td>-1.475936</td>\n",
       "      <td>-0.513337</td>\n",
       "      <td>-5.853084</td>\n",
       "      <td>-1.683159</td>\n",
       "      <td>-3.601212</td>\n",
       "      <td>1.581448</td>\n",
       "      <td>-1.778432</td>\n",
       "    </tr>\n",
       "    <tr>\n",
       "      <th>ID-16987</th>\n",
       "      <td>3.910877</td>\n",
       "      <td>5.442280</td>\n",
       "      <td>1.382612</td>\n",
       "      <td>1.143655</td>\n",
       "      <td>1.352081</td>\n",
       "      <td>4.442479</td>\n",
       "      <td>3.356186</td>\n",
       "      <td>3.216362</td>\n",
       "      <td>4.253815</td>\n",
       "      <td>-0.076128</td>\n",
       "      <td>...</td>\n",
       "      <td>-0.540778</td>\n",
       "      <td>1.870621</td>\n",
       "      <td>-0.993379</td>\n",
       "      <td>-0.828025</td>\n",
       "      <td>3.297030</td>\n",
       "      <td>-3.503078</td>\n",
       "      <td>-0.405069</td>\n",
       "      <td>-2.111539</td>\n",
       "      <td>1.609991</td>\n",
       "      <td>-3.070967</td>\n",
       "    </tr>\n",
       "    <tr>\n",
       "      <th>ID-16988</th>\n",
       "      <td>2.735847</td>\n",
       "      <td>4.452378</td>\n",
       "      <td>1.527921</td>\n",
       "      <td>0.222805</td>\n",
       "      <td>1.103733</td>\n",
       "      <td>4.433527</td>\n",
       "      <td>3.923216</td>\n",
       "      <td>1.661750</td>\n",
       "      <td>3.816047</td>\n",
       "      <td>1.441377</td>\n",
       "      <td>...</td>\n",
       "      <td>0.485015</td>\n",
       "      <td>0.876330</td>\n",
       "      <td>0.919226</td>\n",
       "      <td>0.517528</td>\n",
       "      <td>1.286231</td>\n",
       "      <td>-2.780909</td>\n",
       "      <td>-1.229382</td>\n",
       "      <td>-2.610874</td>\n",
       "      <td>2.402749</td>\n",
       "      <td>-2.554697</td>\n",
       "    </tr>\n",
       "  </tbody>\n",
       "</table>\n",
       "<p>5 rows × 17750 columns</p>\n",
       "</div>"
      ],
      "text/plain": [
       "            TSPAN6      DPM1     SCYL3  C1orf112       FGR       CFH  \\\n",
       "ID-16984  3.764505  4.632960  1.209828  0.796349  0.415759  2.363564   \n",
       "ID-16985  3.248838  4.315516  1.345283 -0.565759  1.671882  4.475039   \n",
       "ID-16986  4.461764  5.514662  0.523963  1.932893  0.822118  3.998927   \n",
       "ID-16987  3.910877  5.442280  1.382612  1.143655  1.352081  4.442479   \n",
       "ID-16988  2.735847  4.452378  1.527921  0.222805  1.103733  4.433527   \n",
       "\n",
       "             FUCA2      GCLC      NFYA     STPG1  ...  DUS4L-BCAP29  \\\n",
       "ID-16984  3.848938  2.812970  3.452951  0.387693  ...     -0.715960   \n",
       "ID-16985  3.541577  2.197991  2.311590 -0.399350  ...     -0.171531   \n",
       "ID-16986  4.824391 -0.060397  3.204908 -0.130523  ...      1.106750   \n",
       "ID-16987  3.356186  3.216362  4.253815 -0.076128  ...     -0.540778   \n",
       "ID-16988  3.923216  1.661750  3.816047  1.441377  ...      0.485015   \n",
       "\n",
       "          AC016394.2  AL357079.3  AL357874.3   C8orf44  AL354833.1  \\\n",
       "ID-16984    0.378290    0.513895   -0.902659  1.102591   -4.970300   \n",
       "ID-16985   -0.310790    1.450274   -2.346665  1.351572   -2.982791   \n",
       "ID-16986   -0.539729   -1.962969   -1.475936 -0.513337   -5.853084   \n",
       "ID-16987    1.870621   -0.993379   -0.828025  3.297030   -3.503078   \n",
       "ID-16988    0.876330    0.919226    0.517528  1.286231   -2.780909   \n",
       "\n",
       "          AL133351.4  AC073611.1  AL592295.6  AP006621.6  \n",
       "ID-16984   -1.572179   -4.921390    2.189508   -3.689660  \n",
       "ID-16985    1.263215   -2.398969    2.288447   -2.031504  \n",
       "ID-16986   -1.683159   -3.601212    1.581448   -1.778432  \n",
       "ID-16987   -0.405069   -2.111539    1.609991   -3.070967  \n",
       "ID-16988   -1.229382   -2.610874    2.402749   -2.554697  \n",
       "\n",
       "[5 rows x 17750 columns]"
      ]
     },
     "execution_count": 11,
     "metadata": {},
     "output_type": "execute_result"
    }
   ],
   "source": [
    "data_T.tail()"
   ]
  },
  {
   "cell_type": "code",
   "execution_count": 12,
   "metadata": {},
   "outputs": [
    {
     "data": {
      "text/plain": [
       "Index(['ID-1', 'ID-2', 'ID-3', 'ID-4', 'ID-5', 'ID-6', 'ID-7', 'ID-8', 'ID-9',\n",
       "       'ID-10',\n",
       "       ...\n",
       "       'ID-16979', 'ID-16980', 'ID-16981', 'ID-16982', 'ID-16983', 'ID-16984',\n",
       "       'ID-16985', 'ID-16986', 'ID-16987', 'ID-16988'],\n",
       "      dtype='object', length=16988)"
      ]
     },
     "execution_count": 12,
     "metadata": {},
     "output_type": "execute_result"
    }
   ],
   "source": [
    "data_T.index"
   ]
  },
  {
   "cell_type": "code",
   "execution_count": 13,
   "metadata": {},
   "outputs": [
    {
     "data": {
      "text/plain": [
       "Index(['TSPAN6', 'DPM1', 'SCYL3', 'C1orf112', 'FGR', 'CFH', 'FUCA2', 'GCLC',\n",
       "       'NFYA', 'STPG1',\n",
       "       ...\n",
       "       'DUS4L-BCAP29', 'AC016394.2', 'AL357079.3', 'AL357874.3', 'C8orf44',\n",
       "       'AL354833.1', 'AL133351.4', 'AC073611.1', 'AL592295.6', 'AP006621.6'],\n",
       "      dtype='object', length=17750)"
      ]
     },
     "execution_count": 13,
     "metadata": {},
     "output_type": "execute_result"
    }
   ],
   "source": [
    "data_T.columns"
   ]
  },
  {
   "cell_type": "markdown",
   "metadata": {},
   "source": [
    "# Split and save data\n",
    "\n",
    "Even with only two percent of the original features, we now have already near two million generated features. This is too much for the distance matrix computation, so we gonna split the data into smaller blocks and compute the distance matrix for each block, one by one.\n",
    "\n",
    "The size of each block will be determined by the computation power."
   ]
  },
  {
   "cell_type": "markdown",
   "metadata": {},
   "source": [
    "On our machine, UMAP can handle $100000*10000$ matrices without issue. This is what we are aiming at."
   ]
  },
  {
   "cell_type": "markdown",
   "metadata": {},
   "source": [
    "the remainder should be as small as possible"
   ]
  },
  {
   "cell_type": "code",
   "execution_count": 45,
   "metadata": {},
   "outputs": [
    {
     "data": {
      "text/plain": [
       "1731"
      ]
     },
     "execution_count": 45,
     "metadata": {},
     "output_type": "execute_result"
    }
   ],
   "source": [
    "dataX.shape[1] % 22000"
   ]
  },
  {
   "cell_type": "code",
   "execution_count": 46,
   "metadata": {},
   "outputs": [],
   "source": [
    "BATCH = 22000\n",
    "split = np.ceil(1717731 / BATCH)"
   ]
  },
  {
   "cell_type": "code",
   "execution_count": 47,
   "metadata": {},
   "outputs": [
    {
     "data": {
      "text/plain": [
       "79.0"
      ]
     },
     "execution_count": 47,
     "metadata": {},
     "output_type": "execute_result"
    }
   ],
   "source": [
    "split"
   ]
  },
  {
   "cell_type": "code",
   "execution_count": 48,
   "metadata": {},
   "outputs": [
    {
     "name": "stdout",
     "output_type": "stream",
     "text": [
      "mkdir: cannot create directory ‘protein’: File exists\n"
     ]
    }
   ],
   "source": [
    "!mkdir protein"
   ]
  },
  {
   "cell_type": "code",
   "execution_count": 49,
   "metadata": {},
   "outputs": [
    {
     "name": "stdout",
     "output_type": "stream",
     "text": [
      "======> 0\n",
      "======> 1\n",
      "======> 2\n",
      "======> 3\n",
      "======> 4\n",
      "======> 5\n",
      "======> 6\n",
      "======> 7\n",
      "======> 8\n",
      "======> 9\n",
      "======> 10\n",
      "======> 11\n",
      "======> 12\n",
      "======> 13\n",
      "======> 14\n",
      "======> 15\n",
      "======> 16\n",
      "======> 17\n",
      "======> 18\n",
      "======> 19\n",
      "======> 20\n",
      "======> 21\n",
      "======> 22\n",
      "======> 23\n",
      "======> 24\n",
      "======> 25\n",
      "======> 26\n",
      "======> 27\n",
      "======> 28\n",
      "======> 29\n",
      "======> 30\n",
      "======> 31\n",
      "======> 32\n",
      "======> 33\n",
      "======> 34\n",
      "======> 35\n",
      "======> 36\n",
      "======> 37\n",
      "======> 38\n",
      "======> 39\n",
      "======> 40\n",
      "======> 41\n",
      "======> 42\n",
      "======> 43\n",
      "======> 44\n",
      "======> 45\n",
      "======> 46\n",
      "======> 47\n",
      "======> 48\n",
      "======> 49\n",
      "======> 50\n",
      "======> 51\n",
      "======> 52\n",
      "======> 53\n",
      "======> 54\n",
      "======> 55\n",
      "======> 56\n",
      "======> 57\n",
      "======> 58\n",
      "======> 59\n",
      "======> 60\n",
      "======> 61\n",
      "======> 62\n",
      "======> 63\n",
      "======> 64\n",
      "======> 65\n",
      "======> 66\n",
      "======> 67\n",
      "======> 68\n",
      "======> 69\n",
      "======> 70\n",
      "======> 71\n",
      "======> 72\n",
      "======> 73\n",
      "======> 74\n",
      "======> 75\n",
      "======> 76\n",
      "======> 77\n",
      "======> 78\n"
     ]
    }
   ],
   "source": [
    "for i in range(int(split)):\n",
    "    print(f'======> {i}')\n",
    "    _d = dataX.iloc[:, i*BATCH:(i+1)*BATCH]\n",
    "    d = _d.values\n",
    "    np.save(f'protein/t_{i}_descriptor.npy', d)"
   ]
  },
  {
   "cell_type": "code",
   "execution_count": 68,
   "metadata": {},
   "outputs": [
    {
     "data": {
      "text/plain": [
       "(268, 1731)"
      ]
     },
     "execution_count": 68,
     "metadata": {},
     "output_type": "execute_result"
    }
   ],
   "source": [
    "d.shape"
   ]
  },
  {
   "cell_type": "code",
   "execution_count": 50,
   "metadata": {},
   "outputs": [],
   "source": [
    "cos00 = np.load('cosine/diag_0_0_cosine_dist.npy')\n",
    "cos11 = np.load('cosine/diag_1_1_cosine_dist.npy')\n",
    "cos10 = np.load('cosine/cross_1_0_cosine_dist.npy')"
   ]
  },
  {
   "cell_type": "code",
   "execution_count": 51,
   "metadata": {},
   "outputs": [
    {
     "data": {
      "text/plain": [
       "(22000, 22000)"
      ]
     },
     "execution_count": 51,
     "metadata": {},
     "output_type": "execute_result"
    }
   ],
   "source": [
    "cos11.shape"
   ]
  },
  {
   "cell_type": "code",
   "execution_count": 52,
   "metadata": {},
   "outputs": [],
   "source": [
    "combined = np.empty((44000, 44000))"
   ]
  },
  {
   "cell_type": "code",
   "execution_count": 53,
   "metadata": {},
   "outputs": [],
   "source": [
    "combined[:22000, :22000] = cos00\n",
    "combined[22000:, :22000] = cos10\n",
    "combined[22000:, 22000:] = cos11"
   ]
  },
  {
   "cell_type": "code",
   "execution_count": 54,
   "metadata": {},
   "outputs": [
    {
     "data": {
      "text/plain": [
       "True"
      ]
     },
     "execution_count": 54,
     "metadata": {},
     "output_type": "execute_result"
    }
   ],
   "source": [
    "combined[1, 3] == combined[3, 1]"
   ]
  },
  {
   "cell_type": "code",
   "execution_count": 55,
   "metadata": {},
   "outputs": [],
   "source": [
    "import umap\n"
   ]
  },
  {
   "cell_type": "code",
   "execution_count": 56,
   "metadata": {},
   "outputs": [],
   "source": [
    "reducer = umap.UMAP(metric='cosine', min_dist=0.1)"
   ]
  },
  {
   "cell_type": "code",
   "execution_count": 57,
   "metadata": {},
   "outputs": [
    {
     "data": {
      "text/plain": [
       "(44000, 2)"
      ]
     },
     "execution_count": 57,
     "metadata": {},
     "output_type": "execute_result"
    }
   ],
   "source": [
    "embedding = reducer.fit_transform(combined)\n",
    "embedding.shape\n"
   ]
  },
  {
   "cell_type": "code",
   "execution_count": 58,
   "metadata": {},
   "outputs": [
    {
     "data": {
      "text/plain": [
       "array([[12.616543, 11.864838],\n",
       "       [16.954111, 10.39153 ],\n",
       "       [16.946775, 10.392755],\n",
       "       [16.93592 , 10.052655],\n",
       "       [16.9383  , 10.051486]], dtype=float32)"
      ]
     },
     "execution_count": 58,
     "metadata": {},
     "output_type": "execute_result"
    }
   ],
   "source": [
    "embedding[:5, :5]"
   ]
  },
  {
   "cell_type": "code",
   "execution_count": 59,
   "metadata": {},
   "outputs": [
    {
     "data": {
      "image/png": "[encoded data removed]",
      "text/plain": [
       "<Figure size 432x288 with 1 Axes>"
      ]
     },
     "metadata": {
      "needs_background": "light"
     },
     "output_type": "display_data"
    }
   ],
   "source": [
    "import matplotlib.pyplot as plt\n",
    "plt.scatter(embedding[:, 0], embedding[:, 1], s=0.05);"
   ]
  },
  {
   "cell_type": "markdown",
   "metadata": {},
   "source": [
    "The cosine distance between two vectors\n",
    "\n",
    "$$ \\frac{u \\cdot v}{{||u||}_2 {||v||}_2}$$"
   ]
  },
  {
   "cell_type": "code",
   "execution_count": 73,
   "metadata": {},
   "outputs": [],
   "source": [
    "from numpy import dstack, meshgrid, linspace, sqrt\n",
    "grid = dstack(meshgrid(linspace(0, 1, int(sqrt(size * 2))),\n",
    "                       linspace(0, 1, int(sqrt(size * 2))))).reshape(-1, 2)\n"
   ]
  },
  {
   "cell_type": "code",
   "execution_count": 74,
   "metadata": {},
   "outputs": [
    {
     "data": {
      "text/plain": [
       "(43681, 2)"
      ]
     },
     "execution_count": 74,
     "metadata": {},
     "output_type": "execute_result"
    }
   ],
   "source": [
    "grid.shape"
   ]
  },
  {
   "cell_type": "code",
   "execution_count": null,
   "metadata": {},
   "outputs": [],
   "source": [
    "from scipy.spatial.distance import cdist\n",
    "cost = cdist(embedding, grid, \"sqeuclidean\")\n"
   ]
  }
 ],
 "metadata": {
  "interpreter": {
   "hash": "9d0865d041e67b53219329a2d317362ab3dabc3c39d758892df86351648cfb29"
  },
  "kernelspec": {
   "display_name": "Python 3.7.13 ('molmap')",
   "language": "python",
   "name": "python3"
  },
  "language_info": {
   "codemirror_mode": {
    "name": "ipython",
    "version": 3
   },
   "file_extension": ".py",
   "mimetype": "text/x-python",
   "name": "python",
   "nbconvert_exporter": "python",
   "pygments_lexer": "ipython3",
   "version": "3.7.13"
  },
  "orig_nbformat": 4
 },
 "nbformat": 4,
 "nbformat_minor": 2
}
