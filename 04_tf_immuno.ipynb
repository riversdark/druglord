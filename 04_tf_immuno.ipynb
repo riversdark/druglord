{
 "cells": [
  {
   "cell_type": "markdown",
   "metadata": {},
   "source": [
    "# immunogenecity prediction\n",
    "\n",
    "Deep-learning empowered prediction and generation of immunogenic epitopes for T cell immunity\n",
    "\n"
   ]
  }
 ],
 "metadata": {
  "kernelspec": {
   "display_name": "Python 3.7.13 ('molmap')",
   "language": "python",
   "name": "python3"
  },
  "language_info": {
   "name": "python",
   "version": "3.7.13"
  },
  "orig_nbformat": 4,
  "vscode": {
   "interpreter": {
    "hash": "9d0865d041e67b53219329a2d317362ab3dabc3c39d758892df86351648cfb29"
   }
  }
 },
 "nbformat": 4,
 "nbformat_minor": 2
}
