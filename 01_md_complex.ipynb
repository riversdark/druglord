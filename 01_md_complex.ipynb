{
 "cells": [
  {
   "cell_type": "markdown",
   "metadata": {},
   "source": [
    "# Protein Ligand Complex MD Setup tutorial using BioExcel Building Blocks (biobb)\n",
    "### Based on the official Gromacs tutorial: http://www.mdtutorials.com/gmx/complex/index.html\n",
    "***\n",
    "This tutorial aims to illustrate the process of **setting up a simulation system** containing a **protein in complex with a ligand**, step by step, using the **BioExcel Building Blocks library (biobb)**. The particular example used is the **T4 lysozyme** L99A/M102Q protein (PDB code 3HTB), in complex with the **2-propylphenol** small molecule (3-letter Code JZ4). \n",
    "***\n",
    "**Biobb modules** used:\n",
    "\n",
    " - [biobb_io](https://github.com/bioexcel/biobb_io): Tools to fetch biomolecular data from public databases.\n",
    " - [biobb_model](https://github.com/bioexcel/biobb_model): Tools to model macromolecular structures.\n",
    " - [biobb_chemistry](https://github.com/bioexcel/biobb_chemistry): Tools to manipulate chemical data.\n",
    " - [biobb_md](https://github.com/bioexcel/biobb_md): Tools to setup and run Molecular Dynamics simulations.\n",
    " - [biobb_analysis](https://github.com/bioexcel/biobb_analysis): Tools to analyse Molecular Dynamics trajectories.\n",
    " - [biobb_structure_utils](https://github.com/bioexcel/biobb_structure_utils):  Tools to modify or extract information from a PDB structure file.\n",
    " \n",
    "**Auxiliar libraries** used:\n",
    "\n",
    " - [nb_conda_kernels](https://github.com/Anaconda-Platform/nb_conda_kernels): Enables a Jupyter Notebook or JupyterLab application in one conda environment to access kernels for Python, R, and other languages found in other environments.\n",
    " - [nglview](http://nglviewer.org/#nglview): Jupyter/IPython widget to interactively view molecular structures and trajectories in notebooks.\n",
    " - [ipywidgets](https://github.com/jupyter-widgets/ipywidgets): Interactive HTML widgets for Jupyter notebooks and the IPython kernel.\n",
    " - [os](https://docs.python.org/3/library/os.html): Python miscellaneous operating system interfaces\n",
    " - [plotly](https://plot.ly/python/offline/): Python interactive graphing library integrated in Jupyter notebooks.\n",
    " - [simpletraj](https://github.com/arose/simpletraj): Lightweight coordinate-only trajectory reader based on code from GROMACS, MDAnalysis and VMD.\n",
    "\n",
    "\n",
    "### Conda Installation and Launch\n",
    "\n",
    "```console\n",
    "git clone https://github.com/bioexcel/biobb_wf_protein-complex_md_setup.git\n",
    "cd biobb_wf_protein-complex_md_setup\n",
    "conda env create -f conda_env/environment.yml\n",
    "conda activate biobb_Protein-Complex_MDsetup_tutorial\n",
    "jupyter-nbextension enable --py --user widgetsnbextension\n",
    "jupyter-nbextension enable --py --user nglview\n",
    "jupyter-notebook biobb_wf_protein-complex_md_setup/notebooks/biobb_Protein-Complex_MDsetup_tutorial.ipynb\n",
    "  ``` \n",
    "\n",
    "***\n",
    "### Pipeline steps:\n",
    " 1. [Input Parameters](#input)\n",
    " 2. [Fetching PDB Structure](#fetch)\n",
    " 3. [Fix Protein Structure](#fix)\n",
    " 4. [Create Protein System Topology](#top)\n",
    " 5. [Create ligand system topology](#ligtop)\n",
    " 6. [Preparing Ligand Restraints](#restraints)\n",
    " 7. [Create new protein-ligand complex structure file](#complex)\n",
    " 8. [Create new protein-ligand complex topology file](#complextop)\n",
    " 9. [Create Solvent Box](#box)\n",
    " 10. [Fill the Box with Water Molecules](#water)\n",
    " 11. [Adding Ions](#ions)\n",
    " 12. [Energetically Minimize the System](#min)\n",
    " 13. [Equilibrate the System (NVT)](#nvt)\n",
    " 14. [Equilibrate the System (NPT)](#npt)\n",
    " 15. [Free Molecular Dynamics Simulation](#free)\n",
    " 16. [Post-processing and Visualizing Resulting 3D Trajectory](#post)\n",
    " 17. [Output Files](#output)\n",
    " 18. [Questions & Comments](#questions)\n",
    " \n",
    "***\n",
    "***\n",
    "<img src=\"https://bioexcel.eu/wp-content/uploads/2019/04/Bioexcell_logo_1080px_transp.png\" alt=\"Bioexcel2 logo\"\n",
    "\ttitle=\"Bioexcel2 logo\" width=\"400\" />\n",
    "***\n"
   ]
  },
  {
   "cell_type": "markdown",
   "metadata": {},
   "source": [
    "<a id=\"input\"></a>\n",
    "## Input parameters\n",
    "**Input parameters** needed:\n",
    " - **pdbCode**: PDB code of the protein-ligand complex structure (e.g. 3HTB)\n",
    " - **ligandCode**: Small molecule 3-letter code for the ligand structure (e.g. JZ4)\n",
    " - **mol_charge**: Charge of the small molecule, needed to add hydrogen atoms."
   ]
  },
  {
   "cell_type": "code",
   "execution_count": 1,
   "metadata": {},
   "outputs": [],
   "source": [
    "from pathlib import Path\n",
    "working_dir = \"temp/3HTB\"\n",
    "Path(working_dir).mkdir(parents=True, exist_ok=True)"
   ]
  },
  {
   "cell_type": "code",
   "execution_count": null,
   "metadata": {},
   "outputs": [],
   "source": [
    "import os\n",
    "os.chdir(working_dir)\n",
    "os.getcwd()"
   ]
  },
  {
   "cell_type": "code",
   "execution_count": null,
   "metadata": {},
   "outputs": [],
   "source": [
    "from pathlib import Path\n",
    "working_dir = \"temp/3HTB\"\n",
    "Path(working_dir).mkdir(parents=True, exist_ok=True)"
   ]
  },
  {
   "cell_type": "code",
   "execution_count": 3,
   "metadata": {
    "scrolled": true
   },
   "outputs": [
    {
     "data": {
      "application/vnd.jupyter.widget-view+json": {
       "model_id": "7dd0b49d9739450f8cd1b34377b0b3f2",
       "version_major": 2,
       "version_minor": 0
      },
      "text/plain": []
     },
     "metadata": {},
     "output_type": "display_data"
    }
   ],
   "source": [
    "import nglview\n",
    "import ipywidgets\n",
    "import os\n",
    "import zipfile\n",
    "\n",
    "pdbCode = \"3HTB\"\n",
    "ligandCode = \"JZ4\"\n",
    "mol_charge = 0"
   ]
  },
  {
   "cell_type": "markdown",
   "metadata": {},
   "source": [
    "<a id=\"fetch\"></a>\n",
    "***\n",
    "## Fetching PDB structure\n",
    "Downloading **PDB structure** with the **protein-ligand complex** from the RCSB PDB database.<br>\n",
    "Alternatively, a PDB file can be used as starting structure. <br>\n",
    "Splitting the molecule in **three different files**: \n",
    "- **proteinFile**: Protein structure\n",
    "- **ligandFile**: Ligand structure\n",
    "- **complexFile**: Protein-ligand complex structure \n",
    "\n",
    "***\n",
    "**Building Blocks** used:\n",
    " - [Pdb](https://biobb-io.readthedocs.io/en/latest/api.html#module-api.pdb) from **biobb_io.api.pdb**\n",
    "***"
   ]
  },
  {
   "cell_type": "code",
   "execution_count": 4,
   "metadata": {
    "scrolled": true
   },
   "outputs": [
    {
     "name": "stdout",
     "output_type": "stream",
     "text": [
      "2022-04-26 18:33:38,639 [MainThread  ] [INFO ]  Downloading: 3htb from: https://www.ebi.ac.uk/pdbe/entry-files/download/pdb3htb.ent\n"
     ]
    },
    {
     "name": "stderr",
     "output_type": "stream",
     "text": [
      "/home/ma/miniconda3/envs/biobb_Protein-Complex_MDsetup_tutorial/lib/python3.7/site-packages/urllib3/connectionpool.py:1050: InsecureRequestWarning: Unverified HTTPS request is being made to host 'www.ebi.ac.uk'. Adding certificate verification is strongly advised. See: https://urllib3.readthedocs.io/en/1.26.x/advanced-usage.html#ssl-warnings\n",
      "  InsecureRequestWarning,\n"
     ]
    },
    {
     "name": "stdout",
     "output_type": "stream",
     "text": [
      "2022-04-26 18:33:40,164 [MainThread  ] [INFO ]  Writting pdb to: 3HTB.orig.pdb\n"
     ]
    },
    {
     "data": {
      "text/plain": [
       "0"
      ]
     },
     "execution_count": 4,
     "metadata": {},
     "output_type": "execute_result"
    }
   ],
   "source": [
    "# Downloading desired PDB file \n",
    "# Import module\n",
    "from biobb_io.api.pdb import pdb\n",
    "\n",
    "# Create properties dict and inputs/outputs\n",
    "downloaded_pdb = pdbCode+'.orig.pdb'\n",
    "prop = {\n",
    "    'pdb_code': pdbCode,\n",
    "    'filter': False\n",
    "}\n",
    "\n",
    "# Create and launch bb\n",
    "pdb(output_pdb_path=downloaded_pdb,\n",
    "    properties=prop)"
   ]
  },
  {
   "cell_type": "code",
   "execution_count": 5,
   "metadata": {
    "scrolled": false
   },
   "outputs": [
    {
     "name": "stdout",
     "output_type": "stream",
     "text": [
      "2022-04-26 18:33:40,490 [MainThread  ] [INFO ]  File JZ4.pdb created\n",
      "2022-04-26 18:33:40,493 [MainThread  ] [INFO ]  Creating 0b010222-d814-495a-8f02-c93551bbfb4d temporary folder\n",
      "2022-04-26 18:33:40,989 [MainThread  ] [INFO ]  check_structure -i /home/ma/git/druglord/temp/3HTB/3HTB.orig.pdb -o 3HTB.pdb --force_save --non_interactive command_list --list 0b010222-d814-495a-8f02-c93551bbfb4d/extract_prot.lst\n",
      "\n",
      "2022-04-26 18:33:40,991 [MainThread  ] [INFO ]  Exit code 0\n",
      "\n",
      "2022-04-26 18:33:40,993 [MainThread  ] [INFO ]  ===============================================================================\n",
      "=                   BioBB structure checking utility v3.8.1                   =\n",
      "=                 A. Hospital, P. Andrio, J.L. Gelpi 2018-21                  =\n",
      "===============================================================================\n",
      "\n",
      "Warning: sequence features only available in mmCIF format or with external fasta input\n",
      "Structure /home/ma/git/druglord/temp/3HTB/3HTB.orig.pdb loaded\n",
      " Title: 2-propylphenol in complex with t4 lysozyme l99a/m102q\n",
      " Experimental method: x-ray diffraction\n",
      " Keywords: hydrolase, glycosidase, bacteriolytic enzyme, antimicrobial\n",
      " Resolution (A): 1.81\n",
      "\n",
      " Num. models: 1\n",
      " Num. chains: 1 (A: Protein)\n",
      " Num. residues:  387\n",
      " Num. residues with ins. codes:  0\n",
      " Num. HETATM residues:  224\n",
      " Num. ligands or modified residues:  4\n",
      " Num. water mol.:  220\n",
      " Num. atoms:  1544\n",
      "Small mol ligands found\n",
      "PO4 A165\n",
      "PO4 A166\n",
      "JZ4 A167\n",
      "BME A168\n",
      "\n",
      "\n",
      "Step 1: ligands --remove All\n",
      "\n",
      "Running ligands. Options: --remove All\n",
      "4 Ligands detected\n",
      " PO4 A165\n",
      " PO4 A166\n",
      " JZ4 A167\n",
      " BME A168\n",
      "Ligands removed All (4)\n",
      "\n",
      "Step 2: water --remove Yes\n",
      "\n",
      "Running water. Options: --remove Yes\n",
      "220 Water molecules detected\n",
      "220 Water molecules removed\n",
      "Command list completed\n",
      "Final Num. models: 1\n",
      "Final Num. chains: 1 (A: Protein)\n",
      "Final Num. residues:  163\n",
      "Final Num. residues with ins. codes:  0\n",
      "Final Num. HETATM residues:  0\n",
      "Final Num. ligands or modified residues:  0\n",
      "Final Num. water mol.:  0\n",
      "Final Num. atoms:  1300\n",
      "Structure saved on 3HTB.pdb\n",
      "\n",
      "2022-04-26 18:33:40,995 [MainThread  ] [INFO ]  Removing 0b010222-d814-495a-8f02-c93551bbfb4d temporary folder\n",
      "3HTB.pdb JZ4.pdb 3HTB_JZ4.pdb\n",
      "2022-04-26 18:33:41,001 [MainThread  ] [INFO ]  File 3HTB_JZ4.pdb created\n"
     ]
    },
    {
     "data": {
      "text/plain": [
       "0"
      ]
     },
     "execution_count": 5,
     "metadata": {},
     "output_type": "execute_result"
    }
   ],
   "source": [
    "# Extracting Protein, Ligand and Protein-Ligand Complex to three different files\n",
    "# Import module\n",
    "from biobb_structure_utils.utils.extract_heteroatoms import extract_heteroatoms\n",
    "from biobb_structure_utils.utils.extract_molecule import extract_molecule\n",
    "from biobb_structure_utils.utils.cat_pdb import cat_pdb\n",
    "\n",
    "# Create properties dict and inputs/outputs\n",
    "proteinFile = pdbCode+'.pdb'\n",
    "ligandFile = ligandCode+'.pdb'\n",
    "complexFile = pdbCode+'_'+ligandCode+'.pdb'\n",
    "\n",
    "prop = {\n",
    "     'heteroatoms' : [{\"name\": \"JZ4\"}]\n",
    "}\n",
    "\n",
    "extract_heteroatoms(input_structure_path=downloaded_pdb,\n",
    "     output_heteroatom_path=ligandFile,\n",
    "     properties=prop)\n",
    "\n",
    "extract_molecule(input_structure_path=downloaded_pdb,\n",
    "     output_molecule_path=proteinFile)\n",
    "\n",
    "print(proteinFile, ligandFile, complexFile)\n",
    "\n",
    "cat_pdb(input_structure1=proteinFile,\n",
    "       input_structure2=ligandFile,\n",
    "       output_structure_path=complexFile)"
   ]
  },
  {
   "cell_type": "markdown",
   "metadata": {},
   "source": [
    "### Visualizing 3D structures\n",
    "Visualizing the generated **PDB structures** using **NGL**:  \n",
    "- **Protein structure** (Left)\n",
    "- **Ligand structure** (Center)\n",
    "- **Protein-ligand complex** (Right)  "
   ]
  },
  {
   "cell_type": "code",
   "execution_count": 6,
   "metadata": {
    "scrolled": true
   },
   "outputs": [
    {
     "data": {
      "application/vnd.jupyter.widget-view+json": {
       "model_id": "a60126eae6274f3188f86d4d868d9b8e",
       "version_major": 2,
       "version_minor": 0
      },
      "text/plain": [
       "HBox(children=(NGLWidget(), NGLWidget(), NGLWidget()))"
      ]
     },
     "metadata": {},
     "output_type": "display_data"
    }
   ],
   "source": [
    "# Show structures: protein, ligand and protein-ligand complex\n",
    "view1 = nglview.show_structure_file(proteinFile)\n",
    "view1._remote_call('setSize', target='Widget', args=['350px','400px'])\n",
    "view1.camera='orthographic'\n",
    "view1\n",
    "view2 = nglview.show_structure_file(ligandFile)\n",
    "view2.add_representation(repr_type='ball+stick')\n",
    "view2._remote_call('setSize', target='Widget', args=['350px','400px'])\n",
    "view2.camera='orthographic'\n",
    "view2\n",
    "view3 = nglview.show_structure_file(complexFile)\n",
    "view3.add_representation(repr_type='licorice', radius='.5', selection=ligandCode)\n",
    "view3._remote_call('setSize', target='Widget', args=['350px','400px'])\n",
    "view3.camera='orthographic'\n",
    "view3\n",
    "ipywidgets.HBox([view1, view2, view3])"
   ]
  },
  {
   "cell_type": "markdown",
   "metadata": {},
   "source": [
    "<a id=\"fix\"></a>\n",
    "***\n",
    "## Fix protein structure\n",
    "**Checking** and **fixing** (if needed) the protein structure:<br>\n",
    "- **Modeling** **missing side-chain atoms**, modifying incorrect **amide assignments**, choosing **alternative locations**.<br>\n",
    "- **Checking** for missing **backbone atoms**, **heteroatoms**, **modified residues** and possible **atomic clashes**.\n",
    "\n",
    "***\n",
    "**Building Blocks** used:\n",
    " - [FixSideChain](https://biobb-model.readthedocs.io/en/latest/model.html#module-model.fix_side_chain) from **biobb_model.model.fix_side_chain**\n",
    "***"
   ]
  },
  {
   "cell_type": "code",
   "execution_count": 7,
   "metadata": {
    "scrolled": false
   },
   "outputs": [
    {
     "name": "stdout",
     "output_type": "stream",
     "text": [
      "2022-04-26 18:33:42,189 [MainThread  ] [INFO ]  check_structure -i 3HTB.pdb -o 3HTB_fixed.pdb --force_save fixside --fix ALL\n",
      "\n",
      "2022-04-26 18:33:42,192 [MainThread  ] [INFO ]  Exit code 0\n",
      "\n",
      "2022-04-26 18:33:42,193 [MainThread  ] [INFO ]  ===============================================================================\n",
      "=                   BioBB structure checking utility v3.8.1                   =\n",
      "=                 A. Hospital, P. Andrio, J.L. Gelpi 2018-21                  =\n",
      "===============================================================================\n",
      "\n",
      "Warning: sequence features only available in mmCIF format or with external fasta input\n",
      "Structure 3HTB.pdb loaded\n",
      " Title: \n",
      " Experimental method: unknown\n",
      " Resolution (A): N.A.\n",
      "\n",
      " Num. models: 1\n",
      " Num. chains: 1 (A: Protein)\n",
      " Num. residues:  163\n",
      " Num. residues with ins. codes:  0\n",
      " Num. HETATM residues:  0\n",
      " Num. ligands or modified residues:  0\n",
      " Num. water mol.:  0\n",
      " Num. atoms:  1300\n",
      "\n",
      "Running fixside. Options: --fix ALL\n",
      "No residues with missing or unknown side chain atoms found\n",
      "Structure not modified, saving due to --force_save option\n",
      "Final Num. models: 1\n",
      "Final Num. chains: 1 (A: Protein)\n",
      "Final Num. residues:  163\n",
      "Final Num. residues with ins. codes:  0\n",
      "Final Num. HETATM residues:  0\n",
      "Final Num. ligands or modified residues:  0\n",
      "Final Num. water mol.:  0\n",
      "Final Num. atoms:  1300\n",
      "Structure saved on 3HTB_fixed.pdb\n",
      "\n",
      "2022-04-26 18:33:42,195 [MainThread  ] [INFO ]  Removed: []\n"
     ]
    },
    {
     "data": {
      "text/plain": [
       "0"
      ]
     },
     "execution_count": 7,
     "metadata": {},
     "output_type": "execute_result"
    }
   ],
   "source": [
    "# Check & Fix Protein Structure\n",
    "# Import module\n",
    "from biobb_model.model.fix_side_chain import fix_side_chain\n",
    "\n",
    "# Create prop dict and inputs/outputs\n",
    "fixed_pdb = pdbCode+'_fixed.pdb'\n",
    "\n",
    "# Create and launch bb\n",
    "fix_side_chain(input_pdb_path=proteinFile,\n",
    "             output_pdb_path=fixed_pdb)"
   ]
  },
  {
   "cell_type": "markdown",
   "metadata": {},
   "source": [
    "<a id=\"top\"></a>\n",
    "***\n",
    "## Create protein system topology\n",
    "**Building GROMACS topology** corresponding to the protein structure.<br>\n",
    "Force field used in this tutorial is [**amber99sb-ildn**](https://dx.doi.org/10.1002%2Fprot.22711): AMBER **parm99** force field with **corrections on backbone** (sb) and **side-chain torsion potentials** (ildn). Water molecules type used in this tutorial is [**spc/e**](https://pubs.acs.org/doi/abs/10.1021/j100308a038).<br>\n",
    "Adding **hydrogen atoms** if missing. Automatically identifying **disulfide bridges**. <br>\n",
    "\n",
    "Generating two output files: \n",
    "- **GROMACS structure** (gro file)\n",
    "- **GROMACS topology** ZIP compressed file containing:\n",
    "    - *GROMACS topology top file* (top file)\n",
    "    - *GROMACS position restraint file/s* (itp file/s)\n",
    "***\n",
    "**Building Blocks** used:\n",
    " - [Pdb2gmx](https://biobb-md.readthedocs.io/en/latest/gromacs.html#module-gromacs.pdb2gmx) from **biobb_md.gromacs.pdb2gmx**\n",
    "***"
   ]
  },
  {
   "cell_type": "code",
   "execution_count": 8,
   "metadata": {
    "scrolled": false
   },
   "outputs": [
    {
     "name": "stdout",
     "output_type": "stream",
     "text": [
      "2022-04-26 18:33:42,478 [MainThread  ] [INFO ]  GROMACS Pdb2gmx 20191 version detected\n",
      "2022-04-26 18:33:42,480 [MainThread  ] [INFO ]  Not using any container\n",
      "2022-04-26 18:33:42,970 [MainThread  ] [INFO ]  gmx -nobackup -nocopyright pdb2gmx -f 3HTB_fixed.pdb -o 3HTB_pdb2gmx.gro -p p2g.top -water spce -ff amber99sb-ildn -i posre.itp\n",
      "\n",
      "2022-04-26 18:33:42,973 [MainThread  ] [INFO ]  Exit code 0\n",
      "\n",
      "2022-04-26 18:33:42,974 [MainThread  ] [INFO ]  \n",
      "Using the Amber99sb-ildn force field in directory amber99sb-ildn.ff\n",
      "\n",
      "going to rename amber99sb-ildn.ff/aminoacids.r2b\n",
      "going to rename amber99sb-ildn.ff/dna.r2b\n",
      "going to rename amber99sb-ildn.ff/rna.r2b\n",
      "Reading 3HTB_fixed.pdb...\n",
      "Read '', 1364 atoms\n",
      "Analyzing pdb file\n",
      "Splitting chemical chains based on TER records or chain id changing.\n",
      "There are 1 chains and 0 blocks of water and 163 residues with 1364 atoms\n",
      "\n",
      "  chain  #res #atoms\n",
      "  1 'A'   163   1364  \n",
      "\n",
      "Reading residue database... (Amber99sb-ildn)\n",
      "Processing chain 1 'A' (1364 atoms, 163 residues)\n",
      "Identified residue MET1 as a starting terminus.\n",
      "Identified residue ASN163 as a ending terminus.\n",
      "Checking for duplicate atoms....\n",
      "Now there are 1300 atoms. Deleted 64 duplicates.\n",
      "Generating any missing hydrogen atoms and/or adding termini.\n",
      "Now there are 163 residues with 2614 atoms\n",
      "\t\t--------- PLEASE NOTE ------------\n",
      "You have successfully generated a topology from: 3HTB_fixed.pdb.\n",
      "The Amber99sb-ildn force field and the spce water model are used.\n",
      "\t\t--------- ETON ESAELP ------------\n",
      "\n",
      "2022-04-26 18:33:42,975 [MainThread  ] [INFO ]                       :-) GROMACS - gmx pdb2gmx, 2019.1 (-:\n",
      "\n",
      "Executable:   /home/ma/miniconda3/envs/biobb_Protein-Complex_MDsetup_tutorial/bin/gmx\n",
      "Data prefix:  /home/ma/miniconda3/envs/biobb_Protein-Complex_MDsetup_tutorial\n",
      "Working dir:  /home/ma/git/druglord/temp/3HTB\n",
      "Command line:\n",
      "  gmx -nobackup -nocopyright pdb2gmx -f 3HTB_fixed.pdb -o 3HTB_pdb2gmx.gro -p p2g.top -water spce -ff amber99sb-ildn -i posre.itp\n",
      "\n",
      "Opening force field file /home/ma/miniconda3/envs/biobb_Protein-Complex_MDsetup_tutorial/share/gromacs/top/amber99sb-ildn.ff/aminoacids.r2b\n",
      "Opening force field file /home/ma/miniconda3/envs/biobb_Protein-Complex_MDsetup_tutorial/share/gromacs/top/amber99sb-ildn.ff/dna.r2b\n",
      "Opening force field file /home/ma/miniconda3/envs/biobb_Protein-Complex_MDsetup_tutorial/share/gromacs/top/amber99sb-ildn.ff/rna.r2b\n",
      "\n",
      "WARNING: there were 0 atoms with zero occupancy and 178 atoms with\n",
      "         occupancy unequal to one (out of 1364 atoms). Check your pdb file.\n",
      "\n",
      "Opening force field file /home/ma/miniconda3/envs/biobb_Protein-Complex_MDsetup_tutorial/share/gromacs/top/amber99sb-ildn.ff/atomtypes.atp\n",
      "Atomtype 67\n",
      "Opening force field file /home/ma/miniconda3/envs/biobb_Protein-Complex_MDsetup_tutorial/share/gromacs/top/amber99sb-ildn.ff/aminoacids.rtp\n",
      "Residue 93\n",
      "Sorting it all out...\n",
      "Opening force field file /home/ma/miniconda3/envs/biobb_Protein-Complex_MDsetup_tutorial/share/gromacs/top/amber99sb-ildn.ff/dna.rtp\n",
      "Residue 109\n",
      "Sorting it all out...\n",
      "Opening force field file /home/ma/miniconda3/envs/biobb_Protein-Complex_MDsetup_tutorial/share/gromacs/top/amber99sb-ildn.ff/rna.rtp\n",
      "Residue 125\n",
      "Sorting it all out...\n",
      "Opening force field file /home/ma/miniconda3/envs/biobb_Protein-Complex_MDsetup_tutorial/share/gromacs/top/amber99sb-ildn.ff/aminoacids.hdb\n",
      "Opening force field file /home/ma/miniconda3/envs/biobb_Protein-Complex_MDsetup_tutorial/share/gromacs/top/amber99sb-ildn.ff/dna.hdb\n",
      "Opening force field file /home/ma/miniconda3/envs/biobb_Protein-Complex_MDsetup_tutorial/share/gromacs/top/amber99sb-ildn.ff/rna.hdb\n",
      "Opening force field file /home/ma/miniconda3/envs/biobb_Protein-Complex_MDsetup_tutorial/share/gromacs/top/amber99sb-ildn.ff/aminoacids.n.tdb\n",
      "Opening force field file /home/ma/miniconda3/envs/biobb_Protein-Complex_MDsetup_tutorial/share/gromacs/top/amber99sb-ildn.ff/aminoacids.c.tdb\n",
      "Analysing hydrogen-bonding network for automated assignment of histidine\n",
      " protonation. 273 donors and 248 acceptors were found.\n",
      "There are 347 hydrogen bonds\n",
      "Will use HISD for residue 31\n",
      "8 out of 8 lines of specbond.dat converted successfully\n",
      "Special Atom Distance matrix:\n",
      "                    MET1    MET6   HIS31   CYS54   CYS97  MET106\n",
      "                    SD10    SD56  NE2276   SG446   SG808   SD883\n",
      "    MET6    SD56   0.631\n",
      "   HIS31  NE2276   2.196   1.931\n",
      "   CYS54   SG446   2.781   2.718   1.052\n",
      "   CYS97   SG808   0.820   0.539   2.117   2.897\n",
      "  MET106   SD883   1.900   1.314   1.848   2.841   1.635\n",
      "  MET120   SD982   2.525   2.014   3.286   4.293   2.112   1.520\n",
      "Opening force field file /home/ma/miniconda3/envs/biobb_Protein-Complex_MDsetup_tutorial/share/gromacs/top/amber99sb-ildn.ff/aminoacids.arn\n",
      "Opening force field file /home/ma/miniconda3/envs/biobb_Protein-Complex_MDsetup_tutorial/share/gromacs/top/amber99sb-ildn.ff/dna.arn\n",
      "Opening force field file /home/ma/miniconda3/envs/biobb_Protein-Complex_MDsetup_tutorial/share/gromacs/top/amber99sb-ildn.ff/rna.arn\n",
      "Making bonds...\n",
      "Number of bonds was 2635, now 2634\n",
      "Generating angles, dihedrals and pairs...\n",
      "Before cleaning: 6889 pairs\n",
      "Before cleaning: 7252 dihedrals\n",
      "Keeping all generated dihedrals\n",
      "Making cmap torsions...\n",
      "There are 7252 dihedrals,  522 impropers, 4751 angles\n",
      "          6847 pairs,     2634 bonds and     0 virtual sites\n",
      "Total mass 18512.384 a.m.u.\n",
      "Total charge 6.000 e\n",
      "Writing topology\n",
      "\n",
      "Writing coordinate file...\n",
      "\n",
      "GROMACS reminds you: \"If it's a good idea, go ahead and do it. It's much easier to apologize than it is to get permission.\" (Grace Hopper, developer of COBOL)\n",
      "\n",
      "\n",
      "2022-04-26 18:33:42,976 [MainThread  ] [INFO ]  Compressing topology to: 3HTB_pdb2gmx_top.zip\n",
      "2022-04-26 18:33:42,977 [MainThread  ] [INFO ]  Ignored file amber99sb-ildn.ff/forcefield.itp\n",
      "2022-04-26 18:33:42,987 [MainThread  ] [INFO ]  Ignored file amber99sb-ildn.ff/spce.itp\n",
      "2022-04-26 18:33:42,988 [MainThread  ] [INFO ]  Ignored file amber99sb-ildn.ff/ions.itp\n",
      "2022-04-26 18:33:42,991 [MainThread  ] [INFO ]  Adding:\n",
      "2022-04-26 18:33:42,992 [MainThread  ] [INFO ]  ['p2g.top', 'posre.itp']\n",
      "2022-04-26 18:33:42,993 [MainThread  ] [INFO ]  to: /home/ma/git/druglord/temp/3HTB/3HTB_pdb2gmx_top.zip\n",
      "2022-04-26 18:33:42,994 [MainThread  ] [INFO ]  Removed: ['p2g.top', 'posre.itp']\n"
     ]
    },
    {
     "data": {
      "text/plain": [
       "0"
      ]
     },
     "execution_count": 8,
     "metadata": {},
     "output_type": "execute_result"
    }
   ],
   "source": [
    "# Create Protein system topology\n",
    "# Import module\n",
    "from biobb_md.gromacs.pdb2gmx import pdb2gmx\n",
    "\n",
    "# Create inputs/outputs\n",
    "output_pdb2gmx_gro = pdbCode+'_pdb2gmx.gro'\n",
    "output_pdb2gmx_top_zip = pdbCode+'_pdb2gmx_top.zip'\n",
    "prop = {\n",
    "    'force_field' : 'amber99sb-ildn',\n",
    "    'water_type': 'spce'\n",
    "}\n",
    "\n",
    "# Create and launch bb\n",
    "pdb2gmx(input_pdb_path=fixed_pdb,\n",
    "        output_gro_path=output_pdb2gmx_gro,\n",
    "        output_top_zip_path=output_pdb2gmx_top_zip,\n",
    "        properties=prop)"
   ]
  },
  {
   "cell_type": "markdown",
   "metadata": {},
   "source": [
    "<a id=\"ligtop\"></a>\n",
    "***\n",
    "## Create ligand system topology\n",
    "**Building GROMACS topology** corresponding to the ligand structure.<br>\n",
    "Force field used in this tutorial step is **amberGAFF**: [General AMBER Force Field](http://ambermd.org/antechamber/gaff.html), designed for rational drug design.<br>\n",
    "- [Step 1](#ligandTopologyStep1): Add **hydrogen atoms** if missing.\n",
    "- [Step 2](#ligandTopologyStep2): **Energetically minimize the system** with the new hydrogen atoms. \n",
    "- [Step 3](#ligandTopologyStep3): Generate **ligand topology** (parameters). \n",
    "***\n",
    "**Building Blocks** used:\n",
    " - [ReduceAddHydrogens](https://biobb-chemistry.readthedocs.io/en/latest/ambertools.html#module-ambertools.reduce_add_hydrogens) from **biobb_chemistry.ambertools.reduce_add_hydrogens**\n",
    " - [BabelMinimize](https://biobb-chemistry.readthedocs.io/en/latest/babelm.html#module-babelm.babel_minimize) from **biobb_chemistry.babelm.babel_minimize** \n",
    " - [AcpypeParamsGMX](https://biobb-chemistry.readthedocs.io/en/latest/acpype.html#module-acpype.acpype_params_gmx) from **biobb_chemistry.acpype.acpype_params_gmx** \n",
    "***"
   ]
  },
  {
   "cell_type": "markdown",
   "metadata": {},
   "source": [
    "<a id=\"ligandTopologyStep1\"></a>\n",
    "### Step 1: Add **hydrogen atoms**"
   ]
  },
  {
   "cell_type": "code",
   "execution_count": 9,
   "metadata": {
    "scrolled": false
   },
   "outputs": [
    {
     "name": "stdout",
     "output_type": "stream",
     "text": [
      "2022-04-26 18:33:43,212 [MainThread  ] [INFO ]  Not using any container\n",
      "2022-04-26 18:33:43,331 [MainThread  ] [INFO ]  reduce -NUClear -OH -ROTNH3 -ALLALT JZ4.pdb > JZ4.reduce.H.pdb\n",
      "\n",
      "2022-04-26 18:33:43,334 [MainThread  ] [INFO ]  Exit code 0\n",
      "\n",
      "2022-04-26 18:33:43,335 [MainThread  ] [INFO ]  reduce: version 3.3 06/02/2016, Copyright 1997-2016, J. Michael Word\n",
      "Processing file: \"JZ4.pdb\"\n",
      "Database of HETATM connections: \"/home/ma/miniconda3/envs/biobb_Protein-Complex_MDsetup_tutorial//dat/reduce_wwPDB_het_dict.txt\"\n",
      "VDW dot density = 16/A^2\n",
      "Orientation penalty scale = 1 (100%)\n",
      "Eliminate contacts within 3 bonds.\n",
      "Ignore atoms with |occupancy| <= 0.01 during adjustments.\n",
      "Waters ignored if B-Factor >= 40 or |occupancy| < 0.66\n",
      "Aromatic rings in amino acids accept hydrogen bonds.\n",
      "Building or keeping OH & SH Hydrogens.\n",
      "Rotating NH3 Hydrogens.\n",
      "Not processing Met methyls.\n",
      "WARNING: atom H13A from JZ4 will be treated as hydrogen\n",
      "WARNING: atom H14A from JZ4 will be treated as hydrogen\n",
      "WARNING: atom H13A from JZ4 will be treated as hydrogen\n",
      "WARNING: atom H13A from JZ4 will be treated as hydrogen\n",
      "WARNING: atom H14A from JZ4 will be treated as hydrogen\n",
      "WARNING: atom H14A from JZ4 will be treated as hydrogen\n",
      "WARNING: atom H14A from JZ4 will be treated as hydrogen\n",
      "WARNING: atom H14A from JZ4 will be treated as hydrogen\n",
      "WARNING: atom H13A from JZ4 will be treated as hydrogen\n",
      "WARNING: atom H13A from JZ4 will be treated as hydrogen\n",
      "WARNING: atom H14A from JZ4 will be treated as hydrogen\n",
      "WARNING: atom H13A from JZ4 will be treated as hydrogen\n",
      " Singles(size 1): A 167 JZ4 OAB \n",
      " orientation 1: A 167 JZ4 OAB :   rot  120: bump=0.000, HB=0.000, total=0.000\n",
      "Found 0 hydrogens (0 hets)\n",
      "Standardized 0 hydrogens (0 hets)\n",
      "Added 12 hydrogens (12 hets)\n",
      "Removed 0 hydrogens (0 hets)\n",
      "Adjusted 1 group(s)\n",
      "If you publish work which uses reduce, please cite:\n",
      "Word, et. al. (1999) J. Mol. Biol. 285, 1735-1747.\n",
      "For more information see http://kinemage.biochem.duke.edu\n",
      "\n"
     ]
    },
    {
     "data": {
      "text/plain": [
       "0"
      ]
     },
     "execution_count": 9,
     "metadata": {},
     "output_type": "execute_result"
    }
   ],
   "source": [
    "# Create Ligand system topology, STEP 1\n",
    "# Reduce_add_hydrogens: add Hydrogen atoms to a small molecule (using Reduce tool from Ambertools package)\n",
    "# Import module\n",
    "from biobb_chemistry.ambertools.reduce_add_hydrogens import reduce_add_hydrogens\n",
    "\n",
    "# Create prop dict and inputs/outputs\n",
    "output_reduce_h = ligandCode+'.reduce.H.pdb' \n",
    "prop = {\n",
    "    'nuclear' : 'true'\n",
    "}\n",
    "\n",
    "# Create and launch bb\n",
    "reduce_add_hydrogens(input_path=ligandFile,\n",
    "                   output_path=output_reduce_h,\n",
    "                   properties=prop)\n"
   ]
  },
  {
   "cell_type": "markdown",
   "metadata": {},
   "source": [
    "<a id=\"ligandTopologyStep2\"></a>\n",
    "### Step 2: **Energetically minimize the system** with the new hydrogen atoms. "
   ]
  },
  {
   "cell_type": "code",
   "execution_count": 10,
   "metadata": {
    "scrolled": false
   },
   "outputs": [
    {
     "name": "stdout",
     "output_type": "stream",
     "text": [
      "2022-04-26 18:33:43,544 [MainThread  ] [INFO ]  Hydrogens  is not correct, assigned default value: False\n",
      "2022-04-26 18:33:43,546 [MainThread  ] [INFO ]  Steps  is not correct, assigned default value: 2500\n",
      "2022-04-26 18:33:43,547 [MainThread  ] [INFO ]  Cut-off  is not correct, assigned default value: False\n",
      "2022-04-26 18:33:43,548 [MainThread  ] [INFO ]  Rvdw  is not correct, assigned default value: 6.0\n",
      "2022-04-26 18:33:43,549 [MainThread  ] [INFO ]  Rele  is not correct, assigned default value: 10.0\n",
      "2022-04-26 18:33:43,551 [MainThread  ] [INFO ]  Frequency  is not correct, assigned default value: 10\n",
      "2022-04-26 18:33:43,552 [MainThread  ] [INFO ]  Not using any container\n",
      "2022-04-26 18:33:44,007 [MainThread  ] [INFO ]  obminimize -c 1e-10 -sd -ff GAFF -ipdb JZ4.reduce.H.pdb -omol2 > JZ4.H.min.mol2\n",
      "\n",
      "2022-04-26 18:33:44,009 [MainThread  ] [INFO ]  Exit code 0\n",
      "\n",
      "2022-04-26 18:33:44,010 [MainThread  ] [INFO ]  \n",
      "A T O M   T Y P E S\n",
      "\n",
      "IDX\tTYPE\tRING\n",
      "1\tc3\tNO\n",
      "2\tca\tAR\n",
      "3\tca\tAR\n",
      "4\tca\tAR\n",
      "5\tca\tAR\n",
      "6\tca\tAR\n",
      "7\tca\tAR\n",
      "8\tc3\tNO\n",
      "9\tc3\tNO\n",
      "10\toh\tNO\n",
      "11\tho\tNO\n",
      "12\thc\tNO\n",
      "13\thc\tNO\n",
      "14\tha\tNO\n",
      "15\tha\tNO\n",
      "16\tha\tNO\n",
      "17\thc\tNO\n",
      "18\thc\tNO\n",
      "19\thc\tNO\n",
      "20\thc\tNO\n",
      "21\thc\tNO\n",
      "22\tha\tNO\n",
      "\n",
      "C H A R G E S\n",
      "\n",
      "IDX\tCHARGE\n",
      "1\t-0.064979\n",
      "2\t-0.061278\n",
      "3\t-0.058294\n",
      "4\t-0.019907\n",
      "5\t0.120013\n",
      "6\t-0.055115\n",
      "7\t-0.005954\n",
      "8\t-0.024481\n",
      "9\t-0.051799\n",
      "10\t-0.506496\n",
      "11\t0.292144\n",
      "12\t0.026577\n",
      "13\t0.031423\n",
      "14\t0.065403\n",
      "15\t0.061871\n",
      "16\t0.061769\n",
      "17\t0.022987\n",
      "18\t0.022987\n",
      "19\t0.022987\n",
      "20\t0.026577\n",
      "21\t0.031423\n",
      "22\t0.062142\n",
      "\n",
      "S E T T I N G   U P   C A L C U L A T I O N S\n",
      "\n",
      "SETTING UP BOND CALCULATIONS...\n",
      "SETTING UP ANGLE CALCULATIONS...\n",
      "SETTING UP TORSION CALCULATIONS...\n",
      "SETTING UP IMPROPER TORSION CALCULATIONS...\n",
      "SETTING UP VAN DER WAALS CALCULATIONS...\n",
      "SETTING UP ELECTROSTATIC CALCULATIONS...\n",
      "\n",
      "S T E E P E S T   D E S C E N T\n",
      "\n",
      "STEPS = 2500\n",
      "\n",
      "STEP n       E(n)         E(n-1)    \n",
      "------------------------------------\n",
      "    0      50.048      ----\n",
      "   10    36.21724    36.73363\n",
      "   20    32.62519    32.90050\n",
      "   30    30.42176    30.60740\n",
      "   40    28.84022    28.98002\n",
      "   50    27.60107    27.71398\n",
      "   60    26.57419    26.66957\n",
      "   70    25.69242    25.77532\n",
      "   80    24.91809    24.99145\n",
      "   90    24.22825    24.29392\n",
      "  100    23.60848    23.66758\n",
      "  110    23.04960    23.10303\n",
      "  120    22.54147    22.59027\n",
      "  130    22.07638    22.12112\n",
      "  140    21.64899    21.69018\n",
      "  150    21.25485    21.29289\n",
      "  160    20.89018    20.92542\n",
      "  170    20.55172    20.58448\n",
      "  180    20.23672    20.26724\n",
      "  190    19.94279    19.97131\n",
      "  200    19.66791    19.69460\n",
      "  210    19.41032    19.43536\n",
      "  220    19.16851    19.19203\n",
      "  230    18.94116    18.96329\n",
      "  240    18.72713    18.74797\n",
      "  250    18.52541    18.54506\n",
      "  260    18.33510    18.35365\n",
      "  270    18.15542    18.17293\n",
      "  280    17.98563    18.00219\n",
      "  290    17.82510    17.84076\n",
      "  300    17.67323    17.68805\n",
      "  310    17.52948    17.54351\n",
      "  320    17.39335    17.40664\n",
      "  330    17.26438    17.27697\n",
      "  340    17.14215    17.15408\n",
      "  350    17.02625    17.03757\n",
      "  360    16.91633    16.92707\n",
      "  370    16.81204    16.82223\n",
      "  380    16.71305    16.72272\n",
      "  390    16.61907    16.62825\n",
      "  400    16.52981    16.53853\n",
      "  410    16.44502    16.45331\n",
      "  420    16.36444    16.37232\n",
      "  430    16.28785    16.29534\n",
      "  440    16.21503    16.22215\n",
      "  450    16.14577    16.15255\n",
      "  460    16.07989    16.08634\n",
      "  470    16.01721    16.02334\n",
      "  480    15.95755    15.96338\n",
      "  490    15.90076    15.90631\n",
      "  500    15.84668    15.85198\n",
      "  510    15.79519    15.80023\n",
      "  520    15.74614    15.75094\n",
      "  530    15.69941    15.70398\n",
      "  540    15.65488    15.65924\n",
      "  550    15.61245    15.61660\n",
      "  560    15.57200    15.57596\n",
      "  570    15.53344    15.53721\n",
      "  580    15.49667    15.50027\n",
      "  590    15.46160    15.46504\n",
      "  600    15.42816    15.43144\n",
      "  610    15.39626    15.39939\n",
      "  620    15.36583    15.36881\n",
      "  630    15.33679    15.33963\n",
      "  640    15.30908    15.31179\n",
      "  650    15.28263    15.28522\n",
      "  660    15.25739    15.25986\n",
      "  670    15.23329    15.23565\n",
      "  680    15.21029    15.21254\n",
      "  690    15.18832    15.19047\n",
      "  700    15.16735    15.16940\n",
      "  710    15.14731    15.14928\n",
      "  720    15.12818    15.13005\n",
      "  730    15.10990    15.11169\n",
      "  740    15.09243    15.09415\n",
      "  750    15.07575    15.07738\n",
      "  760    15.05980    15.06137\n",
      "  770    15.04456    15.04606\n",
      "  780    15.03000    15.03143\n",
      "  790    15.01607    15.01744\n",
      "  800    15.00276    15.00406\n",
      "  810    14.99003    14.99127\n",
      "  820    14.97785    14.97904\n",
      "  830    14.96620    14.96734\n",
      "  840    14.95506    14.95615\n",
      "  850    14.94439    14.94544\n",
      "  860    14.93419    14.93519\n",
      "  870    14.92442    14.92538\n",
      "  880    14.91507    14.91598\n",
      "  890    14.90611    14.90699\n",
      "  900    14.89753    14.89837\n",
      "  910    14.88931    14.89011\n",
      "  920    14.88143    14.88220\n",
      "  930    14.87388    14.87462\n",
      "  940    14.86663    14.86735\n",
      "  950    14.85969    14.86037\n",
      "  960    14.85302    14.85368\n",
      "  970    14.84662    14.84725\n",
      "  980    14.84048    14.84108\n",
      "  990    14.83458    14.83516\n",
      " 1000    14.82891    14.82946\n",
      " 1010    14.82345    14.82399\n",
      " 1020    14.81821    14.81873\n",
      " 1030    14.81316    14.81366\n",
      " 1040    14.80831    14.80878\n",
      " 1050    14.80362    14.80409\n",
      " 1060    14.79911    14.79956\n",
      " 1070    14.79476    14.79519\n",
      " 1080    14.79056    14.79098\n",
      " 1090    14.78650    14.78691\n",
      " 1100    14.78258    14.78297\n",
      " 1110    14.77879    14.77917\n",
      " 1120    14.77512    14.77548\n",
      " 1130    14.77156    14.77191\n",
      " 1140    14.76835    14.76859\n",
      " 1150    14.76655    14.76671\n",
      " 1160    14.76491    14.76508\n",
      " 1170    14.76332    14.76348\n",
      " 1180    14.76177    14.76192\n",
      " 1190    14.76025    14.76040\n",
      " 1200    14.75876    14.75891\n",
      " 1210    14.75731    14.75746\n",
      " 1220    14.75589    14.75603\n",
      " 1230    14.75450    14.75464\n",
      " 1240    14.75315    14.75328\n",
      " 1250    14.75181    14.75195\n",
      " 1260    14.75051    14.75064\n",
      " 1270    14.74924    14.74936\n",
      " 1280    14.74798    14.74811\n",
      " 1290    14.74676    14.74688\n",
      " 1300    14.74556    14.74568\n",
      " 1310    14.74438    14.74449\n",
      " 1320    14.74322    14.74333\n",
      " 1330    14.74208    14.74220\n",
      " 1340    14.74097    14.74108\n",
      " 1350    14.73987    14.73998\n",
      " 1360    14.73880    14.73890\n",
      " 1370    14.73774    14.73784\n",
      " 1380    14.73669    14.73680\n",
      " 1390    14.73567    14.73577\n",
      " 1400    14.73466    14.73476\n",
      " 1410    14.73367    14.73377\n",
      " 1420    14.73269    14.73279\n",
      " 1430    14.73173    14.73182\n",
      " 1440    14.73078    14.73087\n",
      " 1450    14.72984    14.72993\n",
      " 1460    14.72891    14.72901\n",
      " 1470    14.72800    14.72809\n",
      " 1480    14.72710    14.72719\n",
      " 1490    14.72621    14.72630\n",
      " 1500    14.72549    14.72554\n",
      " 1510    14.72504    14.72509\n",
      " 1520    14.72461    14.72466\n",
      " 1530    14.72419    14.72423\n",
      " 1540    14.72377    14.72381\n",
      " 1550    14.72336    14.72340\n",
      " 1560    14.72295    14.72299\n",
      " 1570    14.72255    14.72259\n",
      " 1580    14.72216    14.72220\n",
      " 1590    14.72177    14.72181\n",
      " 1600    14.72138    14.72142\n",
      " 1610    14.72100    14.72104\n",
      " 1620    14.72063    14.72067\n",
      " 1630    14.72026    14.72030\n",
      " 1640    14.71989    14.71993\n",
      " 1650    14.71953    14.71957\n",
      " 1660    14.71918    14.71921\n",
      " 1670    14.71883    14.71886\n",
      " 1680    14.71848    14.71851\n",
      " 1690    14.71813    14.71817\n",
      " 1700    14.71780    14.71783\n",
      " 1710    14.71746    14.71749\n",
      " 1720    14.71713    14.71716\n",
      " 1730    14.71680    14.71683\n",
      " 1740    14.71648    14.71651\n",
      " 1750    14.71616    14.71619\n",
      " 1760    14.71584    14.71587\n",
      " 1770    14.71553    14.71556\n",
      " 1780    14.71522    14.71525\n",
      " 1790    14.71491    14.71495\n",
      " 1800    14.71461    14.71464\n",
      " 1810    14.71431    14.71434\n",
      " 1820    14.71402    14.71405\n",
      " 1830    14.71372    14.71375\n",
      " 1840    14.71344    14.71346\n",
      " 1850    14.71323    14.71324\n",
      " 1860    14.71308    14.71309\n",
      " 1870    14.71293    14.71294\n",
      " 1880    14.71278    14.71280\n",
      " 1890    14.71264    14.71265\n",
      " 1900    14.71250    14.71251\n",
      " 1910    14.71236    14.71237\n",
      " 1920    14.71222    14.71223\n",
      " 1930    14.71208    14.71209\n",
      " 1940    14.71194    14.71196\n",
      " 1950    14.71181    14.71182\n",
      " 1960    14.71168    14.71169\n",
      " 1970    14.71155    14.71156\n",
      " 1980    14.71142    14.71144\n",
      " 1990    14.71130    14.71131\n",
      " 2000    14.71117    14.71119\n",
      " 2010    14.71105    14.71107\n",
      " 2020    14.71093    14.71095\n",
      " 2030    14.71082    14.71083\n",
      " 2040    14.71070    14.71071\n",
      " 2050    14.71058    14.71060\n",
      " 2060    14.71047    14.71048\n",
      " 2070    14.71036    14.71037\n",
      " 2080    14.71025    14.71026\n",
      " 2090    14.71014    14.71015\n",
      " 2100    14.71003    14.71005\n",
      " 2110    14.70993    14.70994\n",
      " 2120    14.70982    14.70983\n",
      " 2130    14.70972    14.70973\n",
      " 2140    14.70962    14.70963\n",
      " 2150    14.70952    14.70953\n",
      " 2160    14.70942    14.70943\n",
      " 2170    14.70933    14.70934\n",
      " 2180    14.70923    14.70924\n",
      " 2190    14.70914    14.70915\n",
      " 2200    14.70904    14.70905\n",
      " 2210    14.70896    14.70896\n",
      " 2220    14.70889    14.70890\n",
      " 2230    14.70884    14.70885\n",
      " 2240    14.70879    14.70880\n",
      " 2250    14.70874    14.70875\n",
      " 2260    14.70869    14.70870\n",
      " 2270    14.70865    14.70865\n",
      " 2280    14.70860    14.70860\n",
      " 2290    14.70855    14.70856\n",
      " 2300    14.70851    14.70851\n",
      " 2310    14.70846    14.70847\n",
      " 2320    14.70842    14.70842\n",
      " 2330    14.70837    14.70838\n",
      " 2340    14.70833    14.70833\n",
      " 2350    14.70829    14.70829\n",
      " 2360    14.70825    14.70825\n",
      " 2370    14.70820    14.70821\n",
      " 2380    14.70816    14.70817\n",
      " 2390    14.70812    14.70813\n",
      " 2400    14.70808    14.70809\n",
      " 2410    14.70805    14.70805\n",
      " 2420    14.70801    14.70801\n",
      " 2430    14.70797    14.70797\n",
      " 2440    14.70793    14.70794\n",
      " 2450    14.70790    14.70790\n",
      " 2460    14.70786    14.70786\n",
      " 2470    14.70783    14.70783\n",
      " 2480    14.70779    14.70779\n",
      " 2490    14.70776    14.70776\n",
      " 2500    14.70772    14.70773\n",
      "Time: 0.390217seconds. Iterations per second: 6409.25\n",
      "\n"
     ]
    },
    {
     "data": {
      "text/plain": [
       "0"
      ]
     },
     "execution_count": 10,
     "metadata": {},
     "output_type": "execute_result"
    }
   ],
   "source": [
    "# Create Ligand system topology, STEP 2\n",
    "# Babel_minimize: Structure energy minimization of a small molecule after being modified adding hydrogen atoms\n",
    "# Import module\n",
    "from biobb_chemistry.babelm.babel_minimize import babel_minimize\n",
    "\n",
    "# Create prop dict and inputs/outputs\n",
    "output_babel_min = ligandCode+'.H.min.mol2'                              \n",
    "prop = {\n",
    "    'method' : 'sd',\n",
    "    'criteria' : '1e-10',\n",
    "    'force_field' : 'GAFF'\n",
    "}\n",
    "\n",
    "\n",
    "# Create and launch bb\n",
    "babel_minimize(input_path=output_reduce_h,\n",
    "              output_path=output_babel_min,\n",
    "              properties=prop)"
   ]
  },
  {
   "cell_type": "markdown",
   "metadata": {},
   "source": [
    "### Visualizing 3D structures\n",
    "Visualizing the small molecule generated **PDB structures** using **NGL**:  \n",
    "- **Original Ligand Structure** (Left)\n",
    "- **Ligand Structure with hydrogen atoms added** (with Reduce program) (Center)\n",
    "- **Ligand Structure with hydrogen atoms added** (with Reduce program), **energy minimized** (with Open Babel) (Right) "
   ]
  },
  {
   "cell_type": "code",
   "execution_count": 11,
   "metadata": {
    "scrolled": true
   },
   "outputs": [
    {
     "data": {
      "application/vnd.jupyter.widget-view+json": {
       "model_id": "90e70b119d884a29b71a8818dbdd729a",
       "version_major": 2,
       "version_minor": 0
      },
      "text/plain": [
       "HBox(children=(NGLWidget(), NGLWidget(), NGLWidget()))"
      ]
     },
     "metadata": {},
     "output_type": "display_data"
    }
   ],
   "source": [
    "# Show different structures generated (for comparison)\n",
    "\n",
    "view1 = nglview.show_structure_file(ligandFile)\n",
    "view1.add_representation(repr_type='ball+stick')\n",
    "view1._remote_call('setSize', target='Widget', args=['350px','400px'])\n",
    "view1.camera='orthographic'\n",
    "view1\n",
    "view2 = nglview.show_structure_file(output_reduce_h)\n",
    "view2.add_representation(repr_type='ball+stick')\n",
    "view2._remote_call('setSize', target='Widget', args=['350px','400px'])\n",
    "view2.camera='orthographic'\n",
    "view2\n",
    "view3 = nglview.show_structure_file(output_babel_min)\n",
    "view3.add_representation(repr_type='ball+stick')\n",
    "view3._remote_call('setSize', target='Widget', args=['350px','400px'])\n",
    "view3.camera='orthographic'\n",
    "view3\n",
    "ipywidgets.HBox([view1, view2, view3])"
   ]
  },
  {
   "cell_type": "markdown",
   "metadata": {},
   "source": [
    "<a id=\"ligandTopologyStep3\"></a>\n",
    "### Step 3: Generate **ligand topology** (parameters)."
   ]
  },
  {
   "cell_type": "code",
   "execution_count": 12,
   "metadata": {
    "scrolled": false
   },
   "outputs": [
    {
     "name": "stdout",
     "output_type": "stream",
     "text": [
      "2022-04-26 18:33:44,536 [MainThread  ] [INFO ]  Running acpype, this execution can take a while\n",
      "2022-04-26 18:33:44,538 [MainThread  ] [INFO ]  Not using any container\n",
      "2022-04-26 18:33:46,772 [MainThread  ] [INFO ]  acpype -i /home/ma/git/druglord/temp/3HTB/JZ4.H.min.mol2 -b JZ4params.vj3x6T -n 0\n",
      "\n",
      "2022-04-26 18:33:46,775 [MainThread  ] [INFO ]  Exit code 0\n",
      "\n",
      "2022-04-26 18:33:46,776 [MainThread  ] [INFO ]  ========================================================================================\n",
      "| ACPYPE: AnteChamber PYthon Parser interfacE v. 2019-11-07T23:16:00CET (c) 2022 AWSdS |\n",
      "========================================================================================\n",
      "==> ... charge set to 0\n",
      "==> Executing Antechamber...\n",
      "==> * Antechamber OK *\n",
      "==> * Parmchk OK *\n",
      "==> Executing Tleap...\n",
      "++++++++++start_quote+++++++++++++++++++++++++++++++++++++++++++++++++++++++++++\n",
      "Checking 'JZ4'....\n",
      "Checking parameters for unit 'JZ4'.\n",
      "Checking for bond parameters.\n",
      "Checking for angle parameters.\n",
      "Unit is OK.\n",
      "++++++++++end_quote+++++++++++++++++++++++++++++++++++++++++++++++++++++++++++++\n",
      "==> * Tleap OK *\n",
      "==> Removing temporary files...\n",
      "==> Writing NEW PDB file\n",
      "\n",
      "==> Writing CNS/XPLOR files\n",
      "\n",
      "==> Writing GROMACS files\n",
      "\n",
      "==> Writing GMX dihedrals for GMX 4.5 and higher.\n",
      "\n",
      "==> Writing CHARMM files\n",
      "\n",
      "==> Writing pickle file JZ4params.vj3x6T.pkl\n",
      "Total time of execution: 2s\n",
      "\n",
      "2022-04-26 18:33:46,780 [MainThread  ] [INFO ]  File JZ4params.gro succesfully created\n",
      "2022-04-26 18:33:46,783 [MainThread  ] [INFO ]  File JZ4params.itp succesfully created\n",
      "2022-04-26 18:33:46,785 [MainThread  ] [INFO ]  File JZ4params.top succesfully created\n",
      "2022-04-26 18:33:46,786 [MainThread  ] [INFO ]  Removed temporary folder: JZ4params.vj3x6T.acpype\n"
     ]
    },
    {
     "data": {
      "text/plain": [
       "0"
      ]
     },
     "execution_count": 12,
     "metadata": {},
     "output_type": "execute_result"
    }
   ],
   "source": [
    "# Create Ligand system topology, STEP 3\n",
    "# Acpype_params_gmx: Generation of topologies for GROMACS with ACPype\n",
    "# Import module\n",
    "from biobb_chemistry.acpype.acpype_params_gmx import acpype_params_gmx\n",
    "\n",
    "# Create prop dict and inputs/outputs\n",
    "output_acpype_gro = ligandCode+'params.gro'\n",
    "output_acpype_itp = ligandCode+'params.itp'\n",
    "output_acpype_top = ligandCode+'params.top'\n",
    "output_acpype = ligandCode+'params'\n",
    "prop = {\n",
    "    'basename' : output_acpype,\n",
    "    'charge' : mol_charge\n",
    "}\n",
    "\n",
    "# Create and launch bb\n",
    "acpype_params_gmx(input_path=output_babel_min, \n",
    "                output_path_gro=output_acpype_gro,\n",
    "                output_path_itp=output_acpype_itp,\n",
    "                output_path_top=output_acpype_top,\n",
    "                properties=prop)"
   ]
  },
  {
   "cell_type": "markdown",
   "metadata": {},
   "source": [
    "<a id=\"restraints\"></a>\n",
    "***\n",
    "## Preparing Ligand Restraints\n",
    "In subsequent steps of the pipeline, such as the equilibration stages of the **protein-ligand complex** system, it is recommended to apply some **restraints** to the small molecule, to avoid a possible change in position due to protein repulsion. **Position restraints** will be applied to the ligand, using a **force constant of 1000 KJ/mol\\*nm^2** on the three coordinates: x, y and z. In this steps the **restriction files** will be created and integrated in the **ligand topology**.\n",
    "- [Step 1](#restraintsStep1): Creating an index file with a new group including just the **small molecule heavy atoms**.\n",
    "- [Step 2](#restraintsStep2): Generating the **position restraints** file.\n",
    "***\n",
    "**Building Blocks** used:\n",
    " - [MakeNdx](https://biobb-md.readthedocs.io/en/latest/gromacs.html#module-gromacs.make_ndx) from **biobb_md.gromacs.make_ndx** \n",
    " - [Genrestr](https://biobb-md.readthedocs.io/en/latest/gromacs.html#module-gromacs.genrestr) from **biobb_md.gromacs.genrestr** \n",
    "***"
   ]
  },
  {
   "cell_type": "markdown",
   "metadata": {},
   "source": [
    "<a id=\"restraintsStep1\"></a>\n",
    "### Step 1: Creating an index file for the small molecule heavy atoms"
   ]
  },
  {
   "cell_type": "code",
   "execution_count": 13,
   "metadata": {
    "scrolled": false
   },
   "outputs": [
    {
     "name": "stdout",
     "output_type": "stream",
     "text": [
      "2022-04-26 18:33:47,015 [MainThread  ] [INFO ]  GROMACS MakeNdx 20191 version detected\n",
      "2022-04-26 18:33:47,017 [MainThread  ] [INFO ]  Not using any container\n",
      "2022-04-26 18:33:47,042 [MainThread  ] [INFO ]  echo -e '0 & ! a H*\\nq' | gmx -nobackup -nocopyright make_ndx -f JZ4params.gro -o JZ4_index.ndx\n",
      "\n",
      "2022-04-26 18:33:47,044 [MainThread  ] [INFO ]  Exit code 0\n",
      "\n",
      "2022-04-26 18:33:47,045 [MainThread  ] [INFO ]  Going to read 0 old index file(s)\n",
      "Analysing residue names:\n",
      "There are:     1      Other residues\n",
      "Analysing residues not classified as Protein/DNA/RNA/Water and splitting into groups...\n",
      "\n",
      "  0 System              :    22 atoms\n",
      "  1 Other               :    22 atoms\n",
      "  2 JZ4                 :    22 atoms\n",
      "\n",
      " nr : group      '!': not  'name' nr name   'splitch' nr    Enter: list groups\n",
      " 'a': atom       '&': and  'del' nr         'splitres' nr   'l': list residues\n",
      " 't': atom type  '|': or   'keep' nr        'splitat' nr    'h': help\n",
      " 'r': residue              'res' nr         'chain' char\n",
      " \"name\": group             'case': case sensitive           'q': save and quit\n",
      " 'ri': residue index\n",
      "\n",
      "> \n",
      "Copied index group 0 'System'\n",
      "Found 12 atoms with name H*\n",
      "Complemented group: 10 atoms\n",
      "Merged two groups with AND: 22 10 -> 10\n",
      "\n",
      "  3 System_&_!H*        :    10 atoms\n",
      "\n",
      "> \n",
      "\n",
      "2022-04-26 18:33:47,046 [MainThread  ] [INFO ]                       :-) GROMACS - gmx make_ndx, 2019.1 (-:\n",
      "\n",
      "Executable:   /home/ma/miniconda3/envs/biobb_Protein-Complex_MDsetup_tutorial/bin/gmx\n",
      "Data prefix:  /home/ma/miniconda3/envs/biobb_Protein-Complex_MDsetup_tutorial\n",
      "Working dir:  /home/ma/git/druglord/temp/3HTB\n",
      "Command line:\n",
      "  gmx -nobackup -nocopyright make_ndx -f JZ4params.gro -o JZ4_index.ndx\n",
      "\n",
      "\n",
      "Reading structure file\n",
      "\n",
      "GROMACS reminds you: \"It is now quite lawful for a Catholic woman to avoid pregnancy by a resort to mathematics, though she is still forbidden to resort to physics and chemistry.\" (Henry Louis Mencken)\n",
      "\n",
      "\n",
      "2022-04-26 18:33:47,047 [MainThread  ] [INFO ]  Removed: []\n"
     ]
    },
    {
     "data": {
      "text/plain": [
       "0"
      ]
     },
     "execution_count": 13,
     "metadata": {},
     "output_type": "execute_result"
    }
   ],
   "source": [
    "# MakeNdx: Creating index file with a new group (small molecule heavy atoms)\n",
    "from biobb_md.gromacs.make_ndx import make_ndx\n",
    "\n",
    "# Create prop dict and inputs/outputs\n",
    "output_ligand_ndx = ligandCode+'_index.ndx'\n",
    "prop = {\n",
    "    'selection': \"0 & ! a H*\"\n",
    "}\n",
    "\n",
    "# Create and launch bb\n",
    "make_ndx(input_structure_path=output_acpype_gro,\n",
    "        output_ndx_path=output_ligand_ndx,\n",
    "        properties=prop)"
   ]
  },
  {
   "cell_type": "markdown",
   "metadata": {},
   "source": [
    "<a id=\"restraintsStep2\"></a>\n",
    "### Step 2: Generating the position restraints file"
   ]
  },
  {
   "cell_type": "code",
   "execution_count": 14,
   "metadata": {
    "scrolled": false
   },
   "outputs": [
    {
     "name": "stdout",
     "output_type": "stream",
     "text": [
      "2022-04-26 18:33:47,476 [MainThread  ] [INFO ]  GROMACS Genrestr 20191 version detected\n",
      "2022-04-26 18:33:47,478 [MainThread  ] [INFO ]  Not using any container\n",
      "2022-04-26 18:33:47,498 [MainThread  ] [INFO ]  echo \"System\" | gmx -nobackup -nocopyright genrestr -f JZ4params.gro -o JZ4_posres.itp -fc 1000 1000 1000 -n JZ4_index.ndx\n",
      "\n",
      "2022-04-26 18:33:47,500 [MainThread  ] [INFO ]  Exit code 0\n",
      "\n",
      "2022-04-26 18:33:47,501 [MainThread  ] [INFO ]  Select group to position restrain\n",
      "Selected 0: 'System'\n",
      "\n",
      "2022-04-26 18:33:47,502 [MainThread  ] [INFO ]                       :-) GROMACS - gmx genrestr, 2019.1 (-:\n",
      "\n",
      "Executable:   /home/ma/miniconda3/envs/biobb_Protein-Complex_MDsetup_tutorial/bin/gmx\n",
      "Data prefix:  /home/ma/miniconda3/envs/biobb_Protein-Complex_MDsetup_tutorial\n",
      "Working dir:  /home/ma/git/druglord/temp/3HTB\n",
      "Command line:\n",
      "  gmx -nobackup -nocopyright genrestr -f JZ4params.gro -o JZ4_posres.itp -fc 1000 1000 1000 -n JZ4_index.ndx\n",
      "\n",
      "\n",
      "Reading structure file\n",
      "Group     0 (         System) has    22 elements\n",
      "Group     1 (          Other) has    22 elements\n",
      "Group     2 (            JZ4) has    22 elements\n",
      "Group     3 (   System_&_!H*) has    10 elements\n",
      "Select a group: \n",
      "GROMACS reminds you: \"Some People Say Not to Worry About the Air\" (The Talking Heads)\n",
      "\n",
      "\n",
      "2022-04-26 18:33:47,503 [MainThread  ] [INFO ]  Removed: []\n"
     ]
    },
    {
     "data": {
      "text/plain": [
       "0"
      ]
     },
     "execution_count": 14,
     "metadata": {},
     "output_type": "execute_result"
    }
   ],
   "source": [
    "# Genrestr: Generating the position restraints file\n",
    "from biobb_md.gromacs.genrestr import genrestr\n",
    "\n",
    "# Create prop dict and inputs/outputs\n",
    "output_restraints_top = ligandCode+'_posres.itp'\n",
    "prop = {\n",
    "    'force_constants': \"1000 1000 1000\",\n",
    "    'restrained_group': \"System\"\n",
    "}\n",
    "\n",
    "# Create and launch bb\n",
    "genrestr(input_structure_path=output_acpype_gro,\n",
    "         input_ndx_path=output_ligand_ndx,\n",
    "         output_itp_path=output_restraints_top,\n",
    "         properties=prop)"
   ]
  },
  {
   "cell_type": "markdown",
   "metadata": {},
   "source": [
    "<a id=\"complex\"></a>\n",
    "***\n",
    "## Create new protein-ligand complex structure file\n",
    "Building new **protein-ligand complex** PDB file with:\n",
    "- The new **protein system** with fixed problems from *Fix Protein Structure* step and hydrogens atoms added from *Create Protein System Topology* step.\n",
    "- The new **ligand system** with hydrogens atoms added from *Create Ligand System Topology* step. \n",
    "\n",
    "This new structure is needed for **GROMACS** as it is **force field-compliant**, it **has all the new hydrogen atoms**, and the **atom names are matching the newly generated protein and ligand topologies**.\n",
    "***\n",
    "**Building Blocks** used:\n",
    " - [GMXTrjConvStr](https://biobb-analysis.readthedocs.io/en/latest/gromacs.html#module-gromacs.gmx_trjconv_str) from **biobb_analysis.gromacs.gmx_trjconv_str**\n",
    "***"
   ]
  },
  {
   "cell_type": "code",
   "execution_count": 15,
   "metadata": {
    "scrolled": false
   },
   "outputs": [
    {
     "name": "stdout",
     "output_type": "stream",
     "text": [
      "2022-04-26 18:33:47,722 [MainThread  ] [INFO ]  Not using any container\n",
      "2022-04-26 18:33:47,771 [MainThread  ] [INFO ]  echo \"System\" | gmx trjconv -f /home/ma/git/druglord/temp/3HTB/3HTB_pdb2gmx.gro -s /home/ma/git/druglord/temp/3HTB/3HTB_pdb2gmx.gro -o 3HTB_JZ4_complex_H.pdb\n",
      "\n",
      "2022-04-26 18:33:47,773 [MainThread  ] [INFO ]  Exit code 0\n",
      "\n",
      "2022-04-26 18:33:47,774 [MainThread  ] [INFO ]  Note that major changes are planned in future for trjconv, to improve usability and utility.Select group for output\n",
      "Selected 0: 'System'\n",
      "\n",
      "2022-04-26 18:33:47,775 [MainThread  ] [INFO ]                       :-) GROMACS - gmx trjconv, 2019.1 (-:\n",
      "\n",
      "                            GROMACS is written by:\n",
      "     Emile Apol      Rossen Apostolov      Paul Bauer     Herman J.C. Berendsen\n",
      "    Par Bjelkmar      Christian Blau   Viacheslav Bolnykh     Kevin Boyd    \n",
      " Aldert van Buuren   Rudi van Drunen     Anton Feenstra       Alan Gray     \n",
      "  Gerrit Groenhof     Anca Hamuraru    Vincent Hindriksen  M. Eric Irrgang  \n",
      "  Aleksei Iupinov   Christoph Junghans     Joe Jordan     Dimitrios Karkoulis\n",
      "    Peter Kasson        Jiri Kraus      Carsten Kutzner      Per Larsson    \n",
      "  Justin A. Lemkul    Viveca Lindahl    Magnus Lundborg     Erik Marklund   \n",
      "    Pascal Merz     Pieter Meulenhoff    Teemu Murtola       Szilard Pall   \n",
      "    Sander Pronk      Roland Schulz      Michael Shirts    Alexey Shvetsov  \n",
      "   Alfons Sijbers     Peter Tieleman      Jon Vincent      Teemu Virolainen \n",
      " Christian Wennberg    Maarten Wolf   \n",
      "                           and the project leaders:\n",
      "        Mark Abraham, Berk Hess, Erik Lindahl, and David van der Spoel\n",
      "\n",
      "Copyright (c) 1991-2000, University of Groningen, The Netherlands.\n",
      "Copyright (c) 2001-2018, The GROMACS development team at\n",
      "Uppsala University, Stockholm University and\n",
      "the Royal Institute of Technology, Sweden.\n",
      "check out http://www.gromacs.org for more information.\n",
      "\n",
      "GROMACS is free software; you can redistribute it and/or modify it\n",
      "under the terms of the GNU Lesser General Public License\n",
      "as published by the Free Software Foundation; either version 2.1\n",
      "of the License, or (at your option) any later version.\n",
      "\n",
      "GROMACS:      gmx trjconv, version 2019.1\n",
      "Executable:   /home/ma/miniconda3/envs/biobb_Protein-Complex_MDsetup_tutorial/bin/gmx\n",
      "Data prefix:  /home/ma/miniconda3/envs/biobb_Protein-Complex_MDsetup_tutorial\n",
      "Working dir:  /home/ma/git/druglord/temp/3HTB\n",
      "Command line:\n",
      "  gmx trjconv -f /home/ma/git/druglord/temp/3HTB/3HTB_pdb2gmx.gro -s /home/ma/git/druglord/temp/3HTB/3HTB_pdb2gmx.gro -o 3HTB_JZ4_complex_H.pdb\n",
      "\n",
      "Will write pdb: Protein data bank file\n",
      "Group     0 (         System) has  2614 elements\n",
      "Group     1 (        Protein) has  2614 elements\n",
      "Group     2 (      Protein-H) has  1301 elements\n",
      "Group     3 (        C-alpha) has   163 elements\n",
      "Group     4 (       Backbone) has   489 elements\n",
      "Group     5 (      MainChain) has   653 elements\n",
      "Group     6 (   MainChain+Cb) has   805 elements\n",
      "Group     7 (    MainChain+H) has   815 elements\n",
      "Group     8 (      SideChain) has  1799 elements\n",
      "Group     9 (    SideChain-H) has   648 elements\n",
      "Select a group: Reading frames from gro file 'S  C  A  M  O  R  G', 2614 atoms.\n",
      "Reading frame       0 time    0.000   \n",
      "Precision of /home/ma/git/druglord/temp/3HTB/3HTB_pdb2gmx.gro is 0.001 (nm)\n",
      "Last frame          0 time    0.000   \n",
      "\n",
      "\n",
      "GROMACS reminds you: \"You Don't Wanna Know\" (Pulp Fiction)\n",
      "\n",
      "\n",
      "2022-04-26 18:33:47,780 [MainThread  ] [INFO ]  Not using any container\n",
      "2022-04-26 18:33:47,804 [MainThread  ] [INFO ]  echo \"System\" | gmx trjconv -f /home/ma/git/druglord/temp/3HTB/JZ4params.gro -s /home/ma/git/druglord/temp/3HTB/JZ4params.gro -o JZ4_complex_H.pdb\n",
      "\n",
      "2022-04-26 18:33:47,806 [MainThread  ] [INFO ]  Exit code 0\n",
      "\n",
      "2022-04-26 18:33:47,806 [MainThread  ] [INFO ]  Note that major changes are planned in future for trjconv, to improve usability and utility.Select group for output\n",
      "Selected 0: 'System'\n",
      "\n",
      "2022-04-26 18:33:47,807 [MainThread  ] [INFO ]                       :-) GROMACS - gmx trjconv, 2019.1 (-:\n",
      "\n",
      "                            GROMACS is written by:\n",
      "     Emile Apol      Rossen Apostolov      Paul Bauer     Herman J.C. Berendsen\n",
      "    Par Bjelkmar      Christian Blau   Viacheslav Bolnykh     Kevin Boyd    \n",
      " Aldert van Buuren   Rudi van Drunen     Anton Feenstra       Alan Gray     \n",
      "  Gerrit Groenhof     Anca Hamuraru    Vincent Hindriksen  M. Eric Irrgang  \n",
      "  Aleksei Iupinov   Christoph Junghans     Joe Jordan     Dimitrios Karkoulis\n",
      "    Peter Kasson        Jiri Kraus      Carsten Kutzner      Per Larsson    \n",
      "  Justin A. Lemkul    Viveca Lindahl    Magnus Lundborg     Erik Marklund   \n",
      "    Pascal Merz     Pieter Meulenhoff    Teemu Murtola       Szilard Pall   \n",
      "    Sander Pronk      Roland Schulz      Michael Shirts    Alexey Shvetsov  \n",
      "   Alfons Sijbers     Peter Tieleman      Jon Vincent      Teemu Virolainen \n",
      " Christian Wennberg    Maarten Wolf   \n",
      "                           and the project leaders:\n",
      "        Mark Abraham, Berk Hess, Erik Lindahl, and David van der Spoel\n",
      "\n",
      "Copyright (c) 1991-2000, University of Groningen, The Netherlands.\n",
      "Copyright (c) 2001-2018, The GROMACS development team at\n",
      "Uppsala University, Stockholm University and\n",
      "the Royal Institute of Technology, Sweden.\n",
      "check out http://www.gromacs.org for more information.\n",
      "\n",
      "GROMACS is free software; you can redistribute it and/or modify it\n",
      "under the terms of the GNU Lesser General Public License\n",
      "as published by the Free Software Foundation; either version 2.1\n",
      "of the License, or (at your option) any later version.\n",
      "\n",
      "GROMACS:      gmx trjconv, version 2019.1\n",
      "Executable:   /home/ma/miniconda3/envs/biobb_Protein-Complex_MDsetup_tutorial/bin/gmx\n",
      "Data prefix:  /home/ma/miniconda3/envs/biobb_Protein-Complex_MDsetup_tutorial\n",
      "Working dir:  /home/ma/git/druglord/temp/3HTB\n",
      "Command line:\n",
      "  gmx trjconv -f /home/ma/git/druglord/temp/3HTB/JZ4params.gro -s /home/ma/git/druglord/temp/3HTB/JZ4params.gro -o JZ4_complex_H.pdb\n",
      "\n",
      "Will write pdb: Protein data bank file\n",
      "Group     0 (         System) has    22 elements\n",
      "Group     1 (          Other) has    22 elements\n",
      "Group     2 (            JZ4) has    22 elements\n",
      "Select a group: Reading frames from gro file 'JZ4params_GMX.gro created by acpype (v: 2019-11-07T23:16:00CET) on Tue Apr 26 18:33:44 2022', 22 atoms.\n",
      "Reading frame       0 time    0.000   \n",
      "Precision of /home/ma/git/druglord/temp/3HTB/JZ4params.gro is 0.001 (nm)\n",
      "Last frame          0 time    0.000   \n",
      "\n",
      "\n",
      "GROMACS reminds you: \"I Smell Smoke From a Gun Named Extinction\" (Pixies)\n",
      "\n",
      "\n",
      "2022-04-26 18:33:47,815 [MainThread  ] [INFO ]  File 3HTB_JZ4_H.pdb created\n"
     ]
    },
    {
     "data": {
      "text/plain": [
       "0"
      ]
     },
     "execution_count": 15,
     "metadata": {},
     "output_type": "execute_result"
    }
   ],
   "source": [
    "# biobb analysis module\n",
    "from biobb_analysis.gromacs.gmx_trjconv_str import gmx_trjconv_str\n",
    "from biobb_structure_utils.utils.cat_pdb import cat_pdb\n",
    "\n",
    "# Convert gro (with hydrogens) to pdb (PROTEIN)\n",
    "proteinFile_H = pdbCode+'_'+ligandCode+'_complex_H.pdb'\n",
    "prop = {\n",
    "    'selection' : 'System'\n",
    "}\n",
    "\n",
    "# Create and launch bb\n",
    "gmx_trjconv_str(input_structure_path=output_pdb2gmx_gro,\n",
    "              input_top_path=output_pdb2gmx_gro,\n",
    "              output_str_path=proteinFile_H, \n",
    "              properties=prop)\n",
    "\n",
    "# Convert gro (with hydrogens) to pdb (LIGAND)\n",
    "ligandFile_H = ligandCode+'_complex_H.pdb'\n",
    "prop = {\n",
    "    'selection' : 'System'\n",
    "}\n",
    "\n",
    "# Create and launch bb\n",
    "gmx_trjconv_str(input_structure_path=output_acpype_gro,\n",
    "              input_top_path=output_acpype_gro,\n",
    "              output_str_path=ligandFile_H, \n",
    "              properties=prop)\n",
    "\n",
    "\n",
    "# Concatenating both PDB files: Protein + Ligand\n",
    "complexFile_H = pdbCode+'_'+ligandCode+'_H.pdb'\n",
    "\n",
    "# Create and launch bb\n",
    "cat_pdb(input_structure1=proteinFile_H,\n",
    "       input_structure2=ligandFile_H,\n",
    "       output_structure_path=complexFile_H)"
   ]
  },
  {
   "cell_type": "markdown",
   "metadata": {},
   "source": [
    "<a id=\"complextop\"></a>\n",
    "***\n",
    "## Create new protein-ligand complex topology file\n",
    "Building new **protein-ligand complex** GROMACS topology file with:\n",
    "- The new **protein system** topology generated from *Create Protein System Topology* step.\n",
    "- The new **ligand system** topology generated from *Create Ligand System Topology* step. \n",
    "\n",
    "NOTE: From this point on, the **protein-ligand complex structure and topology** generated can be used in a regular MD setup.\n",
    "***\n",
    "**Building Blocks** used:\n",
    " - [AppendLigand](https://biobb-md.readthedocs.io/en/latest/modules.html) from **biobb_md.gromacs_extra.append_ligand**  (NOTE: link should be updated with the documentation)\n",
    "***"
   ]
  },
  {
   "cell_type": "code",
   "execution_count": 16,
   "metadata": {
    "scrolled": false
   },
   "outputs": [
    {
     "name": "stdout",
     "output_type": "stream",
     "text": [
      "2022-04-26 18:33:48,086 [MainThread  ] [INFO ]  Extracting: /home/ma/git/druglord/temp/3HTB/3HTB_pdb2gmx_top.zip\n",
      "2022-04-26 18:33:48,088 [MainThread  ] [INFO ]  to:\n",
      "2022-04-26 18:33:48,089 [MainThread  ] [INFO ]  ['7d19f1b7-226a-4f38-9cff-3e45e676c56c/p2g.top', '7d19f1b7-226a-4f38-9cff-3e45e676c56c/posre.itp']\n",
      "2022-04-26 18:33:48,089 [MainThread  ] [INFO ]  Unzipping: \n",
      "2022-04-26 18:33:48,090 [MainThread  ] [INFO ]  3HTB_pdb2gmx_top.zip\n",
      "2022-04-26 18:33:48,091 [MainThread  ] [INFO ]  To: \n",
      "2022-04-26 18:33:48,092 [MainThread  ] [INFO ]  7d19f1b7-226a-4f38-9cff-3e45e676c56c/p2g.top\n",
      "2022-04-26 18:33:48,092 [MainThread  ] [INFO ]  7d19f1b7-226a-4f38-9cff-3e45e676c56c/posre.itp\n",
      "2022-04-26 18:33:48,125 [MainThread  ] [INFO ]  Compressing topology to: 3HTB_JZ4_complex.top.zip\n",
      "2022-04-26 18:33:48,128 [MainThread  ] [INFO ]  Ignored file 7d19f1b7-226a-4f38-9cff-3e45e676c56c/amber99sb-ildn.ff/forcefield.itp\n",
      "2022-04-26 18:33:48,141 [MainThread  ] [INFO ]  Ignored file 7d19f1b7-226a-4f38-9cff-3e45e676c56c/amber99sb-ildn.ff/spce.itp\n",
      "2022-04-26 18:33:48,142 [MainThread  ] [INFO ]  Ignored file 7d19f1b7-226a-4f38-9cff-3e45e676c56c/amber99sb-ildn.ff/ions.itp\n",
      "2022-04-26 18:33:48,146 [MainThread  ] [INFO ]  Adding:\n",
      "2022-04-26 18:33:48,147 [MainThread  ] [INFO ]  ['7d19f1b7-226a-4f38-9cff-3e45e676c56c/JZ4_posres.itp', '7d19f1b7-226a-4f38-9cff-3e45e676c56c/JZ4params.itp', '7d19f1b7-226a-4f38-9cff-3e45e676c56c/ligand.top', '7d19f1b7-226a-4f38-9cff-3e45e676c56c/posre.itp']\n",
      "2022-04-26 18:33:48,148 [MainThread  ] [INFO ]  to: /home/ma/git/druglord/temp/3HTB/3HTB_JZ4_complex.top.zip\n",
      "2022-04-26 18:33:48,150 [MainThread  ] [INFO ]  Removed: ['7d19f1b7-226a-4f38-9cff-3e45e676c56c']\n"
     ]
    },
    {
     "data": {
      "text/plain": [
       "0"
      ]
     },
     "execution_count": 16,
     "metadata": {},
     "output_type": "execute_result"
    }
   ],
   "source": [
    "# AppendLigand: Append a ligand to a GROMACS topology\n",
    "# Import module\n",
    "from biobb_md.gromacs_extra.append_ligand import append_ligand\n",
    "\n",
    "# Create prop dict and inputs/outputs\n",
    "output_complex_top = pdbCode+'_'+ligandCode+'_complex.top.zip'\n",
    "\n",
    "posresifdef = \"POSRES_\"+ligandCode.upper()\n",
    "prop = {\n",
    "    'posres_name': posresifdef\n",
    "}\n",
    "\n",
    "# Create and launch bb\n",
    "append_ligand(input_top_zip_path=output_pdb2gmx_top_zip,\n",
    "             input_posres_itp_path=output_restraints_top,\n",
    "             input_itp_path=output_acpype_itp, \n",
    "             output_top_zip_path=output_complex_top,\n",
    "             properties=prop)"
   ]
  },
  {
   "cell_type": "markdown",
   "metadata": {},
   "source": [
    "<a id=\"box\"></a>\n",
    "***\n",
    "## Create solvent box\n",
    "Define the unit cell for the **protein-ligand complex** to fill it with water molecules.<br>\n",
    "**Truncated octahedron** box is used for the unit cell. This box type is the one which best reflects the geometry of the solute/protein, in this case a **globular protein**, as it approximates a sphere. It is also convenient for the computational point of view, as it accumulates **less water molecules at the corners**, reducing the final number of water molecules in the system and making the simulation run faster.<br> A **protein to box** distance of **0.8 nm** is used, and the protein is **centered in the box**.  \n",
    "\n",
    "***\n",
    "**Building Blocks** used:\n",
    " - [Editconf](https://biobb-md.readthedocs.io/en/latest/gromacs.html#module-gromacs.editconf) from **biobb_md.gromacs.editconf** \n",
    "***"
   ]
  },
  {
   "cell_type": "code",
   "execution_count": 17,
   "metadata": {
    "scrolled": false
   },
   "outputs": [
    {
     "name": "stdout",
     "output_type": "stream",
     "text": [
      "2022-04-26 18:33:49,144 [MainThread  ] [INFO ]  GROMACS Editconf 20191 version detected\n",
      "2022-04-26 18:33:49,146 [MainThread  ] [INFO ]  Centering molecule in the box.\n",
      "2022-04-26 18:33:49,147 [MainThread  ] [INFO ]  Distance of the box to molecule:   0.80\n",
      "2022-04-26 18:33:49,148 [MainThread  ] [INFO ]  Box type: octahedron\n",
      "2022-04-26 18:33:49,149 [MainThread  ] [INFO ]  Not using any container\n",
      "2022-04-26 18:33:49,211 [MainThread  ] [INFO ]  gmx -nobackup -nocopyright editconf -f 3HTB_JZ4_H.pdb -o 3HTB_JZ4_complex_editconf.gro -d 0.8 -bt octahedron -c\n",
      "\n",
      "2022-04-26 18:33:49,213 [MainThread  ] [INFO ]  Exit code 0\n",
      "\n",
      "2022-04-26 18:33:49,214 [MainThread  ] [INFO ]  Note that major changes are planned in future for editconf, to improve usability and utility.Read 2636 atoms\n",
      "Volume: 1322.64 nm^3, corresponds to roughly 595100 electrons\n",
      "No velocities found\n",
      "    system size :  4.069  4.192  5.073 (nm)\n",
      "    diameter    :  5.849               (nm)\n",
      "    center      :  2.241 -1.669 -0.935 (nm)\n",
      "    box vectors :  8.398 10.808 14.572 (nm)\n",
      "    box angles  :  90.00  90.00  90.00 (degrees)\n",
      "    box volume  :1322.64               (nm^3)\n",
      "    shift       :  1.483  6.937  3.976 (nm)\n",
      "new center      :  3.725  5.267  3.041 (nm)\n",
      "new box vectors :  7.449  7.449  7.449 (nm)\n",
      "new box angles  :  70.53 109.47  70.53 (degrees)\n",
      "new box volume  : 318.21               (nm^3)\n",
      "\n",
      "2022-04-26 18:33:49,214 [MainThread  ] [INFO ]                       :-) GROMACS - gmx editconf, 2019.1 (-:\n",
      "\n",
      "Executable:   /home/ma/miniconda3/envs/biobb_Protein-Complex_MDsetup_tutorial/bin/gmx\n",
      "Data prefix:  /home/ma/miniconda3/envs/biobb_Protein-Complex_MDsetup_tutorial\n",
      "Working dir:  /home/ma/git/druglord/temp/3HTB\n",
      "Command line:\n",
      "  gmx -nobackup -nocopyright editconf -f 3HTB_JZ4_H.pdb -o 3HTB_JZ4_complex_editconf.gro -d 0.8 -bt octahedron -c\n",
      "\n",
      "\n",
      "GROMACS reminds you: \"This is Tense !\" (Star Wars Episode I The Phantom Menace)\n",
      "\n",
      "\n",
      "2022-04-26 18:33:49,216 [MainThread  ] [INFO ]  Removed: []\n"
     ]
    },
    {
     "data": {
      "text/plain": [
       "0"
      ]
     },
     "execution_count": 17,
     "metadata": {},
     "output_type": "execute_result"
    }
   ],
   "source": [
    "# Editconf: Create solvent box\n",
    "# Import module\n",
    "from biobb_md.gromacs.editconf import editconf\n",
    "\n",
    "# Create prop dict and inputs/outputs\n",
    "output_editconf_gro = pdbCode+'_'+ligandCode+'_complex_editconf.gro'\n",
    "\n",
    "prop = {\n",
    "    'box_type': 'octahedron',\n",
    "    'distance_to_molecule': 0.8\n",
    "}\n",
    "\n",
    "# Create and launch bb\n",
    "editconf(input_gro_path=complexFile_H, \n",
    "         output_gro_path=output_editconf_gro,\n",
    "         properties=prop)"
   ]
  },
  {
   "cell_type": "markdown",
   "metadata": {},
   "source": [
    "<a id=\"water\"></a>\n",
    "***\n",
    "## Fill the box with water molecules\n",
    "Fill the unit cell for the **protein-ligand complex** with water molecules.<br>\n",
    "The solvent type used is the default **Simple Point Charge water (SPC)**, a generic equilibrated 3-point solvent model. \n",
    "\n",
    "***\n",
    "**Building Blocks** used:\n",
    " - [Solvate](https://biobb-md.readthedocs.io/en/latest/gromacs.html#module-gromacs.solvate) from **biobb_md.gromacs.solvate** \n",
    "***"
   ]
  },
  {
   "cell_type": "code",
   "execution_count": 18,
   "metadata": {
    "scrolled": false
   },
   "outputs": [
    {
     "name": "stdout",
     "output_type": "stream",
     "text": [
      "2022-04-26 18:33:49,657 [MainThread  ] [INFO ]  GROMACS Solvate 20191 version detected\n",
      "2022-04-26 18:33:49,664 [MainThread  ] [INFO ]  Extracting: /home/ma/git/druglord/temp/3HTB/3HTB_JZ4_complex.top.zip\n",
      "2022-04-26 18:33:49,665 [MainThread  ] [INFO ]  to:\n",
      "2022-04-26 18:33:49,666 [MainThread  ] [INFO ]  ['35a99fea-0959-428e-a86b-9dfe713ccd8f/JZ4_posres.itp', '35a99fea-0959-428e-a86b-9dfe713ccd8f/JZ4params.itp', '35a99fea-0959-428e-a86b-9dfe713ccd8f/ligand.top', '35a99fea-0959-428e-a86b-9dfe713ccd8f/posre.itp']\n",
      "2022-04-26 18:33:49,667 [MainThread  ] [INFO ]  Unzipping: \n",
      "2022-04-26 18:33:49,667 [MainThread  ] [INFO ]  3HTB_JZ4_complex.top.zip\n",
      "2022-04-26 18:33:49,668 [MainThread  ] [INFO ]  To: \n",
      "2022-04-26 18:33:49,669 [MainThread  ] [INFO ]  35a99fea-0959-428e-a86b-9dfe713ccd8f/JZ4_posres.itp\n",
      "2022-04-26 18:33:49,669 [MainThread  ] [INFO ]  35a99fea-0959-428e-a86b-9dfe713ccd8f/JZ4params.itp\n",
      "2022-04-26 18:33:49,670 [MainThread  ] [INFO ]  35a99fea-0959-428e-a86b-9dfe713ccd8f/ligand.top\n",
      "2022-04-26 18:33:49,670 [MainThread  ] [INFO ]  35a99fea-0959-428e-a86b-9dfe713ccd8f/posre.itp\n",
      "2022-04-26 18:33:49,671 [MainThread  ] [INFO ]  Not using any container\n",
      "2022-04-26 18:33:50,104 [MainThread  ] [INFO ]  gmx -nobackup -nocopyright solvate -cp 3HTB_JZ4_complex_editconf.gro -cs spc216.gro -o 3HTB_JZ4_solvate.gro -p 35a99fea-0959-428e-a86b-9dfe713ccd8f/ligand.top\n",
      "\n",
      "2022-04-26 18:33:50,106 [MainThread  ] [INFO ]  Exit code 0\n",
      "\n",
      "2022-04-26 18:33:50,107 [MainThread  ] [INFO ]  \n",
      "WARNING: Masses and atomic (Van der Waals) radii will be guessed\n",
      "         based on residue and atom names, since they could not be\n",
      "         definitively assigned from the information in your input\n",
      "         files. These guessed numbers might deviate from the mass\n",
      "         and radius of the atom type. Please check the output\n",
      "         files if necessary.\n",
      "\n",
      "NOTE: From version 5.0 gmx solvate uses the Van der Waals radii\n",
      "from the source below. This means the results may be different\n",
      "compared to previous GROMACS versions.\n",
      "\n",
      "++++ PLEASE READ AND CITE THE FOLLOWING REFERENCE ++++\n",
      "A. Bondi\n",
      "van der Waals Volumes and Radii\n",
      "J. Phys. Chem. 68 (1964) pp. 441-451\n",
      "-------- -------- --- Thank You --- -------- --------\n",
      "\n",
      "Adding line for 9531 solvent molecules with resname (SOL) to topology file (35a99fea-0959-428e-a86b-9dfe713ccd8f/ligand.top)\n",
      "\n",
      "2022-04-26 18:33:50,108 [MainThread  ] [INFO ]                       :-) GROMACS - gmx solvate, 2019.1 (-:\n",
      "\n",
      "Executable:   /home/ma/miniconda3/envs/biobb_Protein-Complex_MDsetup_tutorial/bin/gmx\n",
      "Data prefix:  /home/ma/miniconda3/envs/biobb_Protein-Complex_MDsetup_tutorial\n",
      "Working dir:  /home/ma/git/druglord/temp/3HTB\n",
      "Command line:\n",
      "  gmx -nobackup -nocopyright solvate -cp 3HTB_JZ4_complex_editconf.gro -cs spc216.gro -o 3HTB_JZ4_solvate.gro -p 35a99fea-0959-428e-a86b-9dfe713ccd8f/ligand.top\n",
      "\n",
      "Reading solute configuration\n",
      "Reading solvent configuration\n",
      "\n",
      "Initialising inter-atomic distances...\n",
      "Generating solvent configuration\n",
      "Will generate new solvent configuration of 5x4x4 boxes\n",
      "Solvent box contains 36060 atoms in 12020 residues\n",
      "Removed 5094 solvent atoms due to solvent-solvent overlap\n",
      "Removed 2373 solvent atoms due to solute-solvent overlap\n",
      "Sorting configuration\n",
      "Found 1 molecule type:\n",
      "    SOL (   3 atoms):  9531 residues\n",
      "Generated solvent containing 28593 atoms in 9531 residues\n",
      "Writing generated configuration to 3HTB_JZ4_solvate.gro\n",
      "\n",
      "Output configuration contains 31229 atoms in 9695 residues\n",
      "Volume                 :     318.205 (nm^3)\n",
      "Density                :     1000.12 (g/l)\n",
      "Number of solvent molecules:   9531   \n",
      "\n",
      "Processing topology\n",
      "\n",
      "GROMACS reminds you: \"You're like them scientists on TV explaining black holes. More you talk, less I get\" (Jess Walter)\n",
      "\n",
      "\n",
      "2022-04-26 18:33:50,110 [MainThread  ] [INFO ]  Compressing topology to: 3HTB_JZ4_solvate_top.zip\n",
      "2022-04-26 18:33:50,112 [MainThread  ] [INFO ]  Ignored file 35a99fea-0959-428e-a86b-9dfe713ccd8f/amber99sb-ildn.ff/forcefield.itp\n",
      "2022-04-26 18:33:50,128 [MainThread  ] [INFO ]  Ignored file 35a99fea-0959-428e-a86b-9dfe713ccd8f/amber99sb-ildn.ff/spce.itp\n",
      "2022-04-26 18:33:50,129 [MainThread  ] [INFO ]  Ignored file 35a99fea-0959-428e-a86b-9dfe713ccd8f/amber99sb-ildn.ff/ions.itp\n",
      "2022-04-26 18:33:50,133 [MainThread  ] [INFO ]  Adding:\n",
      "2022-04-26 18:33:50,134 [MainThread  ] [INFO ]  ['35a99fea-0959-428e-a86b-9dfe713ccd8f/JZ4_posres.itp', '35a99fea-0959-428e-a86b-9dfe713ccd8f/JZ4params.itp', '35a99fea-0959-428e-a86b-9dfe713ccd8f/ligand.top', '35a99fea-0959-428e-a86b-9dfe713ccd8f/posre.itp']\n",
      "2022-04-26 18:33:50,135 [MainThread  ] [INFO ]  to: /home/ma/git/druglord/temp/3HTB/3HTB_JZ4_solvate_top.zip\n",
      "2022-04-26 18:33:50,136 [MainThread  ] [INFO ]  Removed: ['35a99fea-0959-428e-a86b-9dfe713ccd8f']\n"
     ]
    },
    {
     "data": {
      "text/plain": [
       "0"
      ]
     },
     "execution_count": 18,
     "metadata": {},
     "output_type": "execute_result"
    }
   ],
   "source": [
    "# Solvate: Fill the box with water molecules\n",
    "from biobb_md.gromacs.solvate import solvate\n",
    "\n",
    "# Create prop dict and inputs/outputs\n",
    "output_solvate_gro = pdbCode+'_'+ligandCode+'_solvate.gro'\n",
    "output_solvate_top_zip = pdbCode+'_'+ligandCode+'_solvate_top.zip'\n",
    "\n",
    "# Create and launch bb\n",
    "solvate(input_solute_gro_path=output_editconf_gro,\n",
    "        output_gro_path=output_solvate_gro,\n",
    "        input_top_zip_path=output_complex_top,\n",
    "        output_top_zip_path=output_solvate_top_zip)"
   ]
  },
  {
   "cell_type": "markdown",
   "metadata": {},
   "source": [
    "### Visualizing 3D structure\n",
    "Visualizing the **protein-ligand complex** with the newly added **solvent box** using **NGL**<br>\n",
    "Note the **octahedral box** filled with **water molecules** surrounding the **protein structure**, which is **centered** right in the middle of the box."
   ]
  },
  {
   "cell_type": "code",
   "execution_count": 19,
   "metadata": {
    "scrolled": true
   },
   "outputs": [
    {
     "data": {
      "application/vnd.jupyter.widget-view+json": {
       "model_id": "52bae7125729472bb5c23b71fb192e24",
       "version_major": 2,
       "version_minor": 0
      },
      "text/plain": [
       "NGLWidget()"
      ]
     },
     "metadata": {},
     "output_type": "display_data"
    }
   ],
   "source": [
    "#Show protein\n",
    "view = nglview.show_structure_file(output_solvate_gro)\n",
    "view.clear_representations()\n",
    "view.add_representation(repr_type='cartoon', selection='protein', color='sstruc')\n",
    "view.add_representation(repr_type='licorice', radius='.5', selection=ligandCode)\n",
    "view.add_representation(repr_type='line', linewidth='1', selection='SOL', opacity='.3')\n",
    "view._remote_call('setSize', target='Widget', args=['','600px'])\n",
    "view.camera='orthographic'\n",
    "view"
   ]
  },
  {
   "cell_type": "markdown",
   "metadata": {},
   "source": [
    "<a id=\"ions\"></a>\n",
    "***\n",
    "## Adding ions\n",
    "Add ions to neutralize the **protein-ligand complex** and reach a desired ionic concentration.\n",
    "- [Step 1](#ionsStep1): Creating portable binary run file for ion generation\n",
    "- [Step 2](#ionsStep2): Adding ions to **neutralize** the system and reach a **0.05 molar ionic concentration**\n",
    "***\n",
    "**Building Blocks** used:\n",
    " - [Grompp](https://biobb-md.readthedocs.io/en/latest/gromacs.html#module-gromacs.grompp) from **biobb_md.gromacs.grompp** \n",
    " - [Genion](https://biobb-md.readthedocs.io/en/latest/gromacs.html#module-gromacs.genion) from **biobb_md.gromacs.genion** \n",
    "***"
   ]
  },
  {
   "cell_type": "markdown",
   "metadata": {},
   "source": [
    "<a id=\"ionsStep1\"></a>\n",
    "### Step 1: Creating portable binary run file for ion generation"
   ]
  },
  {
   "cell_type": "code",
   "execution_count": 20,
   "metadata": {
    "scrolled": false
   },
   "outputs": [
    {
     "name": "stdout",
     "output_type": "stream",
     "text": [
      "2022-04-26 18:33:55,064 [MainThread  ] [INFO ]  GROMACS Grompp 20191 version detected\n",
      "2022-04-26 18:33:55,070 [MainThread  ] [INFO ]  Extracting: /home/ma/git/druglord/temp/3HTB/3HTB_JZ4_solvate_top.zip\n",
      "2022-04-26 18:33:55,072 [MainThread  ] [INFO ]  to:\n",
      "2022-04-26 18:33:55,072 [MainThread  ] [INFO ]  ['9e887eca-0934-40fa-ac10-4bbdf62cfee9/JZ4_posres.itp', '9e887eca-0934-40fa-ac10-4bbdf62cfee9/JZ4params.itp', '9e887eca-0934-40fa-ac10-4bbdf62cfee9/ligand.top', '9e887eca-0934-40fa-ac10-4bbdf62cfee9/posre.itp']\n",
      "2022-04-26 18:33:55,073 [MainThread  ] [INFO ]  Unzipping: \n",
      "2022-04-26 18:33:55,074 [MainThread  ] [INFO ]  3HTB_JZ4_solvate_top.zip\n",
      "2022-04-26 18:33:55,075 [MainThread  ] [INFO ]  To: \n",
      "2022-04-26 18:33:55,075 [MainThread  ] [INFO ]  9e887eca-0934-40fa-ac10-4bbdf62cfee9/JZ4_posres.itp\n",
      "2022-04-26 18:33:55,075 [MainThread  ] [INFO ]  9e887eca-0934-40fa-ac10-4bbdf62cfee9/JZ4params.itp\n",
      "2022-04-26 18:33:55,076 [MainThread  ] [INFO ]  9e887eca-0934-40fa-ac10-4bbdf62cfee9/ligand.top\n",
      "2022-04-26 18:33:55,076 [MainThread  ] [INFO ]  9e887eca-0934-40fa-ac10-4bbdf62cfee9/posre.itp\n",
      "2022-04-26 18:33:55,078 [MainThread  ] [INFO ]  Not using any container\n",
      "2022-04-26 18:33:55,406 [MainThread  ] [INFO ]  gmx -nobackup -nocopyright grompp -f 231c7529-60f6-4d53-9b79-00c87e7bfba5/grompp.mdp -c 3HTB_JZ4_solvate.gro -r 3HTB_JZ4_solvate.gro -p 9e887eca-0934-40fa-ac10-4bbdf62cfee9/ligand.top -o 3HTB_JZ4_complex_gppion.tpr -po mdout.mdp -maxwarn 1\n",
      "\n",
      "2022-04-26 18:33:55,409 [MainThread  ] [INFO ]  Exit code 0\n",
      "\n",
      "2022-04-26 18:33:55,410 [MainThread  ] [INFO ]  \n",
      "++++ PLEASE READ AND CITE THE FOLLOWING REFERENCE ++++\n",
      "J. S. Hub, B. L. de Groot, H. Grubmueller, G. Groenhof\n",
      "Quantifying Artifacts in Ewald Simulations of Inhomogeneous Systems with a Net\n",
      "Charge\n",
      "J. Chem. Theory Comput. 10 (2014) pp. 381-393\n",
      "-------- -------- --- Thank You --- -------- --------\n",
      "\n",
      "Analysing residue names:\n",
      "There are:   163    Protein residues\n",
      "There are:     1      Other residues\n",
      "There are:  9531      Water residues\n",
      "Analysing Protein...\n",
      "Analysing residues not classified as Protein/DNA/RNA/Water and splitting into groups...\n",
      "Calculating fourier grid dimensions for X Y Z\n",
      "Using a fourier grid of 64x64x64, spacing 0.116 0.116 0.116\n",
      "This run will generate roughly 2 Mb of data\n",
      "\n",
      "2022-04-26 18:33:55,411 [MainThread  ] [INFO ]                        :-) GROMACS - gmx grompp, 2019.1 (-:\n",
      "\n",
      "Executable:   /home/ma/miniconda3/envs/biobb_Protein-Complex_MDsetup_tutorial/bin/gmx\n",
      "Data prefix:  /home/ma/miniconda3/envs/biobb_Protein-Complex_MDsetup_tutorial\n",
      "Working dir:  /home/ma/git/druglord/temp/3HTB\n",
      "Command line:\n",
      "  gmx -nobackup -nocopyright grompp -f 231c7529-60f6-4d53-9b79-00c87e7bfba5/grompp.mdp -c 3HTB_JZ4_solvate.gro -r 3HTB_JZ4_solvate.gro -p 9e887eca-0934-40fa-ac10-4bbdf62cfee9/ligand.top -o 3HTB_JZ4_complex_gppion.tpr -po mdout.mdp -maxwarn 1\n",
      "\n",
      "Setting the LD random seed to 357479846\n",
      "Generated 2556 of the 2556 non-bonded parameter combinations\n",
      "Generating 1-4 interactions: fudge = 0.5\n",
      "Generated 2556 of the 2556 1-4 parameter combinations\n",
      "Excluding 3 bonded neighbours molecule type 'Protein_chain_A'\n",
      "Excluding 3 bonded neighbours molecule type 'JZ4params'\n",
      "Excluding 2 bonded neighbours molecule type 'SOL'\n",
      "\n",
      "NOTE 1 [file ligand.top, line 24863]:\n",
      "  System has non-zero total charge: 5.999999\n",
      "  Total charge should normally be an integer. See\n",
      "  http://www.gromacs.org/Documentation/Floating_Point_Arithmetic\n",
      "  for discussion on how close it should be to an integer.\n",
      "  \n",
      "\n",
      "\n",
      "\n",
      "WARNING 1 [file ligand.top, line 24863]:\n",
      "  You are using Ewald electrostatics in a system with net charge. This can\n",
      "  lead to severe artifacts, such as ions moving into regions with low\n",
      "  dielectric, due to the uniform background charge. We suggest to\n",
      "  neutralize your system with counter ions, possibly in combination with a\n",
      "  physiological salt concentration.\n",
      "\n",
      "Removing all charge groups because cutoff-scheme=Verlet\n",
      "Number of degrees of freedom in T-Coupling group rest is 65091.00\n",
      "Estimate for the relative computational load of the PME mesh part: 0.18\n",
      "\n",
      "There was 1 note\n",
      "\n",
      "There was 1 warning\n",
      "\n",
      "GROMACS reminds you: \"Computer dating is fine, if you are a computer.\" (Rita May Brown)\n",
      "\n",
      "\n",
      "2022-04-26 18:33:55,413 [MainThread  ] [INFO ]  Removed: ['mdout.mdp', '9e887eca-0934-40fa-ac10-4bbdf62cfee9', '231c7529-60f6-4d53-9b79-00c87e7bfba5']\n"
     ]
    },
    {
     "data": {
      "text/plain": [
       "0"
      ]
     },
     "execution_count": 20,
     "metadata": {},
     "output_type": "execute_result"
    }
   ],
   "source": [
    "# Grompp: Creating portable binary run file for ion generation\n",
    "from biobb_md.gromacs.grompp import grompp\n",
    "\n",
    "# Create prop dict and inputs/outputs\n",
    "prop = {\n",
    "    'mdp':{\n",
    "        'nsteps':'5000'\n",
    "    },\n",
    "    'simulation_type':'minimization',\n",
    "    'maxwarn': 1\n",
    "}\n",
    "output_gppion_tpr = pdbCode+'_'+ligandCode+'_complex_gppion.tpr'\n",
    "\n",
    "# Create and launch bb\n",
    "grompp(input_gro_path=output_solvate_gro,\n",
    "       input_top_zip_path=output_solvate_top_zip, \n",
    "       output_tpr_path=output_gppion_tpr,\n",
    "       properties=prop)"
   ]
  },
  {
   "cell_type": "markdown",
   "metadata": {},
   "source": [
    "<a id=\"ionsStep2\"></a>\n",
    "### Step 2: Adding ions to neutralize the system and reach a 0.05 molar concentration\n",
    "Replace **solvent molecules** with **ions** to **neutralize** the system and reaching a **0.05 molar ionic concentration**"
   ]
  },
  {
   "cell_type": "code",
   "execution_count": 21,
   "metadata": {
    "scrolled": false
   },
   "outputs": [
    {
     "name": "stdout",
     "output_type": "stream",
     "text": [
      "2022-04-26 18:33:55,920 [MainThread  ] [INFO ]  GROMACS Genion 20191 version detected\n",
      "2022-04-26 18:33:55,926 [MainThread  ] [INFO ]  Extracting: /home/ma/git/druglord/temp/3HTB/3HTB_JZ4_solvate_top.zip\n",
      "2022-04-26 18:33:55,927 [MainThread  ] [INFO ]  to:\n",
      "2022-04-26 18:33:55,928 [MainThread  ] [INFO ]  ['90d36218-b23f-4acb-90fb-7886194b79b6/JZ4_posres.itp', '90d36218-b23f-4acb-90fb-7886194b79b6/JZ4params.itp', '90d36218-b23f-4acb-90fb-7886194b79b6/ligand.top', '90d36218-b23f-4acb-90fb-7886194b79b6/posre.itp']\n",
      "2022-04-26 18:33:55,929 [MainThread  ] [INFO ]  Unzipping: \n",
      "2022-04-26 18:33:55,930 [MainThread  ] [INFO ]  3HTB_JZ4_solvate_top.zip\n",
      "2022-04-26 18:33:55,930 [MainThread  ] [INFO ]  To: \n",
      "2022-04-26 18:33:55,931 [MainThread  ] [INFO ]  90d36218-b23f-4acb-90fb-7886194b79b6/JZ4_posres.itp\n",
      "2022-04-26 18:33:55,931 [MainThread  ] [INFO ]  90d36218-b23f-4acb-90fb-7886194b79b6/JZ4params.itp\n",
      "2022-04-26 18:33:55,932 [MainThread  ] [INFO ]  90d36218-b23f-4acb-90fb-7886194b79b6/ligand.top\n",
      "2022-04-26 18:33:55,932 [MainThread  ] [INFO ]  90d36218-b23f-4acb-90fb-7886194b79b6/posre.itp\n",
      "2022-04-26 18:33:55,933 [MainThread  ] [INFO ]  To reach up 0.05 mol/litre concentration\n",
      "2022-04-26 18:33:55,934 [MainThread  ] [INFO ]  Not using any container\n",
      "2022-04-26 18:33:56,055 [MainThread  ] [INFO ]  echo \"SOL\" | gmx -nobackup -nocopyright genion -s 3HTB_JZ4_complex_gppion.tpr -o 3HTB_JZ4_genion.gro -p 90d36218-b23f-4acb-90fb-7886194b79b6/ligand.top -neutral -conc 0.05 -seed 1993\n",
      "\n",
      "2022-04-26 18:33:56,058 [MainThread  ] [INFO ]  Exit code 0\n",
      "\n",
      "2022-04-26 18:33:56,059 [MainThread  ] [INFO ]  Will try to add 10 NA ions and 16 CL ions.\n",
      "Select a continuous group of solvent molecules\n",
      "Selected 15: 'SOL'\n",
      "\n",
      "Processing topology\n",
      "Replacing 26 solute molecules in topology file (90d36218-b23f-4acb-90fb-7886194b79b6/ligand.top)  by 10 NA and 16 CL ions.\n",
      "\n",
      "2022-04-26 18:33:56,060 [MainThread  ] [INFO ]                        :-) GROMACS - gmx genion, 2019.1 (-:\n",
      "\n",
      "Executable:   /home/ma/miniconda3/envs/biobb_Protein-Complex_MDsetup_tutorial/bin/gmx\n",
      "Data prefix:  /home/ma/miniconda3/envs/biobb_Protein-Complex_MDsetup_tutorial\n",
      "Working dir:  /home/ma/git/druglord/temp/3HTB\n",
      "Command line:\n",
      "  gmx -nobackup -nocopyright genion -s 3HTB_JZ4_complex_gppion.tpr -o 3HTB_JZ4_genion.gro -p 90d36218-b23f-4acb-90fb-7886194b79b6/ligand.top -neutral -conc 0.05 -seed 1993\n",
      "\n",
      "Reading file 3HTB_JZ4_complex_gppion.tpr, VERSION 2019.1 (single precision)\n",
      "Reading file 3HTB_JZ4_complex_gppion.tpr, VERSION 2019.1 (single precision)\n",
      "Group     0 (         System) has 31229 elements\n",
      "Group     1 (        Protein) has  2614 elements\n",
      "Group     2 (      Protein-H) has  1301 elements\n",
      "Group     3 (        C-alpha) has   163 elements\n",
      "Group     4 (       Backbone) has   489 elements\n",
      "Group     5 (      MainChain) has   653 elements\n",
      "Group     6 (   MainChain+Cb) has   805 elements\n",
      "Group     7 (    MainChain+H) has   815 elements\n",
      "Group     8 (      SideChain) has  1799 elements\n",
      "Group     9 (    SideChain-H) has   648 elements\n",
      "Group    10 (    Prot-Masses) has  2614 elements\n",
      "Group    11 (    non-Protein) has 28615 elements\n",
      "Group    12 (          Other) has    22 elements\n",
      "Group    13 (            JZ4) has    22 elements\n",
      "Group    14 (          Water) has 28593 elements\n",
      "Group    15 (            SOL) has 28593 elements\n",
      "Group    16 (      non-Water) has  2636 elements\n",
      "Select a group: Number of (3-atomic) solvent molecules: 9531\n",
      "Using random seed 1993.\n",
      "Replacing solvent molecule 6684 (atom 22688) with NA\n",
      "Replacing solvent molecule 3713 (atom 13775) with NA\n",
      "Replacing solvent molecule 6865 (atom 23231) with NA\n",
      "Replacing solvent molecule 6607 (atom 22457) with NA\n",
      "Replacing solvent molecule 2054 (atom 8798) with NA\n",
      "Replacing solvent molecule 3610 (atom 13466) with NA\n",
      "Replacing solvent molecule 2213 (atom 9275) with NA\n",
      "Replacing solvent molecule 2304 (atom 9548) with NA\n",
      "Replacing solvent molecule 1640 (atom 7556) with NA\n",
      "Replacing solvent molecule 2994 (atom 11618) with NA\n",
      "Replacing solvent molecule 905 (atom 5351) with CL\n",
      "Replacing solvent molecule 4068 (atom 14840) with CL\n",
      "Replacing solvent molecule 9064 (atom 29828) with CL\n",
      "Replacing solvent molecule 4558 (atom 16310) with CL\n",
      "Replacing solvent molecule 1900 (atom 8336) with CL\n",
      "Replacing solvent molecule 7505 (atom 25151) with CL\n",
      "Replacing solvent molecule 9184 (atom 30188) with CL\n",
      "Replacing solvent molecule 5771 (atom 19949) with CL\n",
      "Replacing solvent molecule 6751 (atom 22889) with CL\n",
      "Replacing solvent molecule 2902 (atom 11342) with CL\n",
      "Replacing solvent molecule 2024 (atom 8708) with CL\n",
      "Replacing solvent molecule 8521 (atom 28199) with CL\n",
      "Replacing solvent molecule 909 (atom 5363) with CL\n",
      "Replacing solvent molecule 3452 (atom 12992) with CL\n",
      "Replacing solvent molecule 3869 (atom 14243) with CL\n",
      "Replacing solvent molecule 4530 (atom 16226) with CL\n",
      "\n",
      "\n",
      "GROMACS reminds you: \"...sometimes a scream is better than a thesis.\" (Ralph Waldo Emerson)\n",
      "\n",
      "\n",
      "2022-04-26 18:33:56,061 [MainThread  ] [INFO ]  Compressing topology to: 3HTB_JZ4_genion_top.zip\n",
      "2022-04-26 18:33:56,063 [MainThread  ] [INFO ]  Ignored file 90d36218-b23f-4acb-90fb-7886194b79b6/amber99sb-ildn.ff/forcefield.itp\n",
      "2022-04-26 18:33:56,078 [MainThread  ] [INFO ]  Ignored file 90d36218-b23f-4acb-90fb-7886194b79b6/amber99sb-ildn.ff/spce.itp\n",
      "2022-04-26 18:33:56,079 [MainThread  ] [INFO ]  Ignored file 90d36218-b23f-4acb-90fb-7886194b79b6/amber99sb-ildn.ff/ions.itp\n",
      "2022-04-26 18:33:56,083 [MainThread  ] [INFO ]  Adding:\n",
      "2022-04-26 18:33:56,084 [MainThread  ] [INFO ]  ['90d36218-b23f-4acb-90fb-7886194b79b6/JZ4_posres.itp', '90d36218-b23f-4acb-90fb-7886194b79b6/JZ4params.itp', '90d36218-b23f-4acb-90fb-7886194b79b6/ligand.top', '90d36218-b23f-4acb-90fb-7886194b79b6/posre.itp']\n",
      "2022-04-26 18:33:56,085 [MainThread  ] [INFO ]  to: /home/ma/git/druglord/temp/3HTB/3HTB_JZ4_genion_top.zip\n",
      "2022-04-26 18:33:56,086 [MainThread  ] [INFO ]  Removed: ['90d36218-b23f-4acb-90fb-7886194b79b6']\n"
     ]
    },
    {
     "data": {
      "text/plain": [
       "0"
      ]
     },
     "execution_count": 21,
     "metadata": {},
     "output_type": "execute_result"
    }
   ],
   "source": [
    "# Genion: Adding ions to reach a 0.05 molar concentration\n",
    "from biobb_md.gromacs.genion import genion\n",
    "\n",
    "# Create prop dict and inputs/outputs\n",
    "prop={\n",
    "    'neutral':True,\n",
    "    'concentration':0.05\n",
    "}\n",
    "output_genion_gro = pdbCode+'_'+ligandCode+'_genion.gro'\n",
    "output_genion_top_zip = pdbCode+'_'+ligandCode+'_genion_top.zip'\n",
    "\n",
    "# Create and launch bb\n",
    "genion(input_tpr_path=output_gppion_tpr,\n",
    "       output_gro_path=output_genion_gro, \n",
    "       input_top_zip_path=output_solvate_top_zip,\n",
    "       output_top_zip_path=output_genion_top_zip, \n",
    "       properties=prop)"
   ]
  },
  {
   "cell_type": "markdown",
   "metadata": {},
   "source": [
    "### Visualizing 3D structure\n",
    "Visualizing the **protein-ligand complex** with the newly added **ionic concentration** using **NGL**"
   ]
  },
  {
   "cell_type": "code",
   "execution_count": 22,
   "metadata": {
    "scrolled": true
   },
   "outputs": [
    {
     "data": {
      "application/vnd.jupyter.widget-view+json": {
       "model_id": "fa6d4f86e9904e4495f56a86cbacfa84",
       "version_major": 2,
       "version_minor": 0
      },
      "text/plain": [
       "NGLWidget()"
      ]
     },
     "metadata": {},
     "output_type": "display_data"
    }
   ],
   "source": [
    "#Show protein\n",
    "view = nglview.show_structure_file(output_genion_gro)\n",
    "view.clear_representations()\n",
    "view.add_representation(repr_type='cartoon', selection='protein', color='sstruc')\n",
    "view.add_representation(repr_type='licorice', radius='.5', selection=ligandCode)\n",
    "view.add_representation(repr_type='ball+stick', selection='NA')\n",
    "view.add_representation(repr_type='ball+stick', selection='CL')\n",
    "view._remote_call('setSize', target='Widget', args=['','600px'])\n",
    "view.camera='orthographic'\n",
    "view"
   ]
  },
  {
   "cell_type": "markdown",
   "metadata": {},
   "source": [
    "<a id=\"min\"></a>\n",
    "***\n",
    "## Energetically minimize the system\n",
    "Energetically minimize the **protein-ligand complex** till reaching a desired potential energy.\n",
    "- [Step 1](#emStep1): Creating portable binary run file for energy minimization\n",
    "- [Step 2](#emStep2): Energetically minimize the **protein-ligand complex** till reaching a force of 500 kJ mol-1 nm-1.\n",
    "- [Step 3](#emStep3): Checking **energy minimization** results. Plotting energy by time during the **minimization** process.\n",
    "***\n",
    "**Building Blocks** used:\n",
    " - [Grompp](https://biobb-md.readthedocs.io/en/latest/gromacs.html#module-gromacs.grompp) from **biobb_md.gromacs.grompp** \n",
    " - [Mdrun](https://biobb-md.readthedocs.io/en/latest/gromacs.html#module-gromacs.mdrun) from **biobb_md.gromacs.mdrun** \n",
    " - [GMXEnergy](https://biobb-analysis.readthedocs.io/en/latest/gromacs.html#module-gromacs.gmx_energy) from **biobb_analysis.gromacs.gmx_energy** \n",
    "***"
   ]
  },
  {
   "cell_type": "markdown",
   "metadata": {},
   "source": [
    "<a id=\"emStep1\"></a>\n",
    "### Step 1: Creating portable binary run file for energy minimization\n",
    "Method used to run the **energy minimization** is a **steepest descent**, with a **maximum force of 500 KJ/mol\\*nm^2**, and a minimization **step size of 1fs**. The **maximum number of steps** to perform if the maximum force is not reached is **5,000 steps**. "
   ]
  },
  {
   "cell_type": "code",
   "execution_count": 23,
   "metadata": {
    "scrolled": true
   },
   "outputs": [
    {
     "name": "stdout",
     "output_type": "stream",
     "text": [
      "2022-04-26 18:34:01,652 [MainThread  ] [INFO ]  GROMACS Grompp 20191 version detected\n",
      "2022-04-26 18:34:01,658 [MainThread  ] [INFO ]  Extracting: /home/ma/git/druglord/temp/3HTB/3HTB_JZ4_genion_top.zip\n",
      "2022-04-26 18:34:01,659 [MainThread  ] [INFO ]  to:\n",
      "2022-04-26 18:34:01,659 [MainThread  ] [INFO ]  ['3b82a2d8-cc6f-40ec-8182-9adaef18d13d/JZ4_posres.itp', '3b82a2d8-cc6f-40ec-8182-9adaef18d13d/JZ4params.itp', '3b82a2d8-cc6f-40ec-8182-9adaef18d13d/ligand.top', '3b82a2d8-cc6f-40ec-8182-9adaef18d13d/posre.itp']\n",
      "2022-04-26 18:34:01,660 [MainThread  ] [INFO ]  Unzipping: \n",
      "2022-04-26 18:34:01,661 [MainThread  ] [INFO ]  3HTB_JZ4_genion_top.zip\n",
      "2022-04-26 18:34:01,661 [MainThread  ] [INFO ]  To: \n",
      "2022-04-26 18:34:01,662 [MainThread  ] [INFO ]  3b82a2d8-cc6f-40ec-8182-9adaef18d13d/JZ4_posres.itp\n",
      "2022-04-26 18:34:01,662 [MainThread  ] [INFO ]  3b82a2d8-cc6f-40ec-8182-9adaef18d13d/JZ4params.itp\n",
      "2022-04-26 18:34:01,663 [MainThread  ] [INFO ]  3b82a2d8-cc6f-40ec-8182-9adaef18d13d/ligand.top\n",
      "2022-04-26 18:34:01,663 [MainThread  ] [INFO ]  3b82a2d8-cc6f-40ec-8182-9adaef18d13d/posre.itp\n",
      "2022-04-26 18:34:01,665 [MainThread  ] [INFO ]  Not using any container\n",
      "2022-04-26 18:34:01,964 [MainThread  ] [INFO ]  gmx -nobackup -nocopyright grompp -f d3788852-7220-44c6-be14-85bbb6a64745/grompp.mdp -c 3HTB_JZ4_genion.gro -r 3HTB_JZ4_genion.gro -p 3b82a2d8-cc6f-40ec-8182-9adaef18d13d/ligand.top -o 3HTB_JZ4_gppmin.tpr -po mdout.mdp -maxwarn 0\n",
      "\n",
      "2022-04-26 18:34:01,966 [MainThread  ] [INFO ]  Exit code 0\n",
      "\n",
      "2022-04-26 18:34:01,967 [MainThread  ] [INFO ]  Analysing residue names:\n",
      "There are:   163    Protein residues\n",
      "There are:     1      Other residues\n",
      "There are:  9505      Water residues\n",
      "There are:    26        Ion residues\n",
      "Analysing Protein...\n",
      "Analysing residues not classified as Protein/DNA/RNA/Water and splitting into groups...\n",
      "Analysing residues not classified as Protein/DNA/RNA/Water and splitting into groups...\n",
      "Calculating fourier grid dimensions for X Y Z\n",
      "Using a fourier grid of 64x64x64, spacing 0.116 0.116 0.116\n",
      "This run will generate roughly 2 Mb of data\n",
      "\n",
      "2022-04-26 18:34:01,968 [MainThread  ] [INFO ]                        :-) GROMACS - gmx grompp, 2019.1 (-:\n",
      "\n",
      "Executable:   /home/ma/miniconda3/envs/biobb_Protein-Complex_MDsetup_tutorial/bin/gmx\n",
      "Data prefix:  /home/ma/miniconda3/envs/biobb_Protein-Complex_MDsetup_tutorial\n",
      "Working dir:  /home/ma/git/druglord/temp/3HTB\n",
      "Command line:\n",
      "  gmx -nobackup -nocopyright grompp -f d3788852-7220-44c6-be14-85bbb6a64745/grompp.mdp -c 3HTB_JZ4_genion.gro -r 3HTB_JZ4_genion.gro -p 3b82a2d8-cc6f-40ec-8182-9adaef18d13d/ligand.top -o 3HTB_JZ4_gppmin.tpr -po mdout.mdp -maxwarn 0\n",
      "\n",
      "Setting the LD random seed to -1745715287\n",
      "Generated 2556 of the 2556 non-bonded parameter combinations\n",
      "Generating 1-4 interactions: fudge = 0.5\n",
      "Generated 2556 of the 2556 1-4 parameter combinations\n",
      "Excluding 3 bonded neighbours molecule type 'Protein_chain_A'\n",
      "Excluding 3 bonded neighbours molecule type 'JZ4params'\n",
      "Excluding 2 bonded neighbours molecule type 'SOL'\n",
      "Excluding 1 bonded neighbours molecule type 'NA'\n",
      "Excluding 1 bonded neighbours molecule type 'CL'\n",
      "Removing all charge groups because cutoff-scheme=Verlet\n",
      "Number of degrees of freedom in T-Coupling group rest is 65013.00\n",
      "Estimate for the relative computational load of the PME mesh part: 0.18\n",
      "\n",
      "GROMACS reminds you: \"All models are wrong, but some are useful.\" (George Box)\n",
      "\n",
      "\n",
      "2022-04-26 18:34:01,971 [MainThread  ] [INFO ]  Removed: ['mdout.mdp', '3b82a2d8-cc6f-40ec-8182-9adaef18d13d', 'd3788852-7220-44c6-be14-85bbb6a64745']\n"
     ]
    },
    {
     "data": {
      "text/plain": [
       "0"
      ]
     },
     "execution_count": 23,
     "metadata": {},
     "output_type": "execute_result"
    }
   ],
   "source": [
    "# Grompp: Creating portable binary run file for mdrun\n",
    "from biobb_md.gromacs.grompp import grompp\n",
    "\n",
    "# Create prop dict and inputs/outputs\n",
    "prop = {\n",
    "    'mdp':{\n",
    "        'nsteps':'5000',\n",
    "        'emstep': 0.01,\n",
    "        'emtol':'500'\n",
    "    },\n",
    "    'simulation_type':'minimization'\n",
    "}\n",
    "output_gppmin_tpr = pdbCode+'_'+ligandCode+'_gppmin.tpr'\n",
    "\n",
    "# Create and launch bb\n",
    "grompp(input_gro_path=output_genion_gro,\n",
    "       input_top_zip_path=output_genion_top_zip,\n",
    "       output_tpr_path=output_gppmin_tpr,\n",
    "       properties=prop)"
   ]
  },
  {
   "cell_type": "markdown",
   "metadata": {},
   "source": [
    "<a id=\"emStep2\"></a>\n",
    "### Step 2: Running Energy Minimization\n",
    "Running **energy minimization** using the **tpr file** generated in the previous step."
   ]
  },
  {
   "cell_type": "code",
   "execution_count": 24,
   "metadata": {
    "scrolled": true
   },
   "outputs": [
    {
     "name": "stdout",
     "output_type": "stream",
     "text": [
      "2022-04-26 18:34:02,272 [MainThread  ] [INFO ]  GROMACS Mdrun 20191 version detected\n",
      "2022-04-26 18:34:02,273 [MainThread  ] [INFO ]  Not using any container\n",
      "2022-04-26 18:34:22,222 [MainThread  ] [INFO ]  gmx -nobackup -nocopyright mdrun -s 3HTB_JZ4_gppmin.tpr -o 3HTB_JZ4_min.trr -c 3HTB_JZ4_min.gro -e 3HTB_JZ4_min.edr -g 3HTB_JZ4_min.log\n",
      "\n",
      "2022-04-26 18:34:22,224 [MainThread  ] [INFO ]  Exit code 0\n",
      "\n",
      "2022-04-26 18:34:22,224 [MainThread  ] [INFO ]                        :-) GROMACS - gmx mdrun, 2019.1 (-:\n",
      "\n",
      "Executable:   /home/ma/miniconda3/envs/biobb_Protein-Complex_MDsetup_tutorial/bin/gmx\n",
      "Data prefix:  /home/ma/miniconda3/envs/biobb_Protein-Complex_MDsetup_tutorial\n",
      "Working dir:  /home/ma/git/druglord/temp/3HTB\n",
      "Command line:\n",
      "  gmx -nobackup -nocopyright mdrun -s 3HTB_JZ4_gppmin.tpr -o 3HTB_JZ4_min.trr -c 3HTB_JZ4_min.gro -e 3HTB_JZ4_min.edr -g 3HTB_JZ4_min.log\n",
      "\n",
      "Compiled SIMD: SSE2, but for this host/run AVX_512 might be better (see log).\n",
      "The current CPU can measure timings more accurately than the code in\n",
      "gmx mdrun was configured to use. This might affect your simulation\n",
      "speed as accurate timings are needed for load-balancing.\n",
      "Please consider rebuilding gmx mdrun with the GMX_USE_RDTSCP=ON CMake option.\n",
      "Reading file 3HTB_JZ4_gppmin.tpr, VERSION 2019.1 (single precision)\n",
      "\n",
      "Using 72 MPI threads\n",
      "Using 1 OpenMP thread per tMPI thread\n",
      "\n",
      "\n",
      "Steepest Descents:\n",
      "   Tolerance (Fmax)   =  5.00000e+02\n",
      "   Number of steps    =         5000\n",
      "\n",
      "writing lowest energy coordinates.\n",
      "\n",
      "Steepest Descents converged to Fmax < 500 in 1782 steps\n",
      "Potential Energy  = -5.4674619e+05\n",
      "Maximum force     =  4.9675845e+02 on atom 1462\n",
      "Norm of force     =  1.2294933e+01\n",
      "\n",
      "GROMACS reminds you: \"I Live the Life They Wish They Did\" (Tricky)\n",
      "\n",
      "\n",
      "2022-04-26 18:34:22,225 [MainThread  ] [INFO ]  Removed: []\n"
     ]
    },
    {
     "data": {
      "text/plain": [
       "0"
      ]
     },
     "execution_count": 24,
     "metadata": {},
     "output_type": "execute_result"
    }
   ],
   "source": [
    "# Mdrun: Running minimization\n",
    "from biobb_md.gromacs.mdrun import mdrun\n",
    "\n",
    "# Create prop dict and inputs/outputs\n",
    "output_min_trr = pdbCode+'_'+ligandCode+'_min.trr'\n",
    "output_min_gro = pdbCode+'_'+ligandCode+'_min.gro'\n",
    "output_min_edr = pdbCode+'_'+ligandCode+'_min.edr'\n",
    "output_min_log = pdbCode+'_'+ligandCode+'_min.log'\n",
    "\n",
    "# Create and launch bb\n",
    "mdrun(input_tpr_path=output_gppmin_tpr,\n",
    "      output_trr_path=output_min_trr, \n",
    "      output_gro_path=output_min_gro,\n",
    "      output_edr_path=output_min_edr, \n",
    "      output_log_path=output_min_log)"
   ]
  },
  {
   "cell_type": "markdown",
   "metadata": {},
   "source": [
    "<a id=\"emStep3\"></a>\n",
    "### Step 3: Checking Energy Minimization results\n",
    "Checking **energy minimization** results. Plotting **potential energy** by time during the minimization process. "
   ]
  },
  {
   "cell_type": "code",
   "execution_count": 25,
   "metadata": {
    "scrolled": true
   },
   "outputs": [
    {
     "name": "stdout",
     "output_type": "stream",
     "text": [
      "2022-04-26 18:34:22,534 [MainThread  ] [INFO ]  Not using any container\n",
      "2022-04-26 18:34:22,565 [MainThread  ] [INFO ]  gmx energy -f /home/ma/git/druglord/temp/3HTB/3HTB_JZ4_min.edr -o 3HTB_JZ4_min_ene.xvg -xvg none < 2f3c391f-5ff9-4b58-8c0c-d8ca0c2df8ab/instructions.in\n",
      "\n",
      "2022-04-26 18:34:22,566 [MainThread  ] [INFO ]  Exit code 0\n",
      "\n",
      "2022-04-26 18:34:22,567 [MainThread  ] [INFO ]  \n",
      "Statistics over 1782 steps [ 0.0000 through 1781.0000 ps ], 1 data sets\n",
      "All statistics are over 1410 points (frames)\n",
      "\n",
      "Energy                      Average   Err.Est.       RMSD  Tot-Drift\n",
      "-------------------------------------------------------------------------------\n",
      "Potential                   -530342       8700    22380.4   -56826.2  (kJ/mol)\n",
      "\n",
      "2022-04-26 18:34:22,567 [MainThread  ] [INFO ]                        :-) GROMACS - gmx energy, 2019.1 (-:\n",
      "\n",
      "                            GROMACS is written by:\n",
      "     Emile Apol      Rossen Apostolov      Paul Bauer     Herman J.C. Berendsen\n",
      "    Par Bjelkmar      Christian Blau   Viacheslav Bolnykh     Kevin Boyd    \n",
      " Aldert van Buuren   Rudi van Drunen     Anton Feenstra       Alan Gray     \n",
      "  Gerrit Groenhof     Anca Hamuraru    Vincent Hindriksen  M. Eric Irrgang  \n",
      "  Aleksei Iupinov   Christoph Junghans     Joe Jordan     Dimitrios Karkoulis\n",
      "    Peter Kasson        Jiri Kraus      Carsten Kutzner      Per Larsson    \n",
      "  Justin A. Lemkul    Viveca Lindahl    Magnus Lundborg     Erik Marklund   \n",
      "    Pascal Merz     Pieter Meulenhoff    Teemu Murtola       Szilard Pall   \n",
      "    Sander Pronk      Roland Schulz      Michael Shirts    Alexey Shvetsov  \n",
      "   Alfons Sijbers     Peter Tieleman      Jon Vincent      Teemu Virolainen \n",
      " Christian Wennberg    Maarten Wolf   \n",
      "                           and the project leaders:\n",
      "        Mark Abraham, Berk Hess, Erik Lindahl, and David van der Spoel\n",
      "\n",
      "Copyright (c) 1991-2000, University of Groningen, The Netherlands.\n",
      "Copyright (c) 2001-2018, The GROMACS development team at\n",
      "Uppsala University, Stockholm University and\n",
      "the Royal Institute of Technology, Sweden.\n",
      "check out http://www.gromacs.org for more information.\n",
      "\n",
      "GROMACS is free software; you can redistribute it and/or modify it\n",
      "under the terms of the GNU Lesser General Public License\n",
      "as published by the Free Software Foundation; either version 2.1\n",
      "of the License, or (at your option) any later version.\n",
      "\n",
      "GROMACS:      gmx energy, version 2019.1\n",
      "Executable:   /home/ma/miniconda3/envs/biobb_Protein-Complex_MDsetup_tutorial/bin/gmx\n",
      "Data prefix:  /home/ma/miniconda3/envs/biobb_Protein-Complex_MDsetup_tutorial\n",
      "Working dir:  /home/ma/git/druglord/temp/3HTB\n",
      "Command line:\n",
      "  gmx energy -f /home/ma/git/druglord/temp/3HTB/3HTB_JZ4_min.edr -o 3HTB_JZ4_min_ene.xvg -xvg none\n",
      "\n",
      "Opened /home/ma/git/druglord/temp/3HTB/3HTB_JZ4_min.edr as single precision energy file\n",
      "\n",
      "Select the terms you want from the following list by\n",
      "selecting either (part of) the name or the number or a combination.\n",
      "End your selection with an empty line or a zero.\n",
      "-------------------------------------------------------------------\n",
      "  1  Bond             2  Angle            3  Proper-Dih.      4  Improper-Dih. \n",
      "  5  LJ-14            6  Coulomb-14       7  LJ-(SR)          8  Coulomb-(SR)  \n",
      "  9  Coul.-recip.    10  Position-Rest.  11  Potential       12  Pressure      \n",
      " 13  Vir-XX          14  Vir-XY          15  Vir-XZ          16  Vir-YX        \n",
      " 17  Vir-YY          18  Vir-YZ          19  Vir-ZX          20  Vir-ZY        \n",
      " 21  Vir-ZZ          22  Pres-XX         23  Pres-XY         24  Pres-XZ       \n",
      " 25  Pres-YX         26  Pres-YY         27  Pres-YZ         28  Pres-ZX       \n",
      " 29  Pres-ZY         30  Pres-ZZ         31  #Surf*SurfTen   32  T-rest        \n",
      "\n",
      "Last energy frame read 1409 time 1781.000         \n",
      "\n",
      "GROMACS reminds you: \"I Don't Like Dirt\" (The Breeders)\n",
      "\n",
      "\n",
      "2022-04-26 18:34:22,569 [MainThread  ] [INFO ]  Removed: [PurePosixPath('2f3c391f-5ff9-4b58-8c0c-d8ca0c2df8ab')]\n"
     ]
    },
    {
     "data": {
      "text/plain": [
       "0"
      ]
     },
     "execution_count": 25,
     "metadata": {},
     "output_type": "execute_result"
    }
   ],
   "source": [
    "# GMXEnergy: Getting system energy by time  \n",
    "from biobb_analysis.gromacs.gmx_energy import gmx_energy\n",
    "\n",
    "# Create prop dict and inputs/outputs\n",
    "output_min_ene_xvg = pdbCode+'_'+ligandCode+'_min_ene.xvg'\n",
    "prop = {\n",
    "    'terms':  [\"Potential\"]\n",
    "}\n",
    "\n",
    "# Create and launch bb\n",
    "gmx_energy(input_energy_path=output_min_edr, \n",
    "          output_xvg_path=output_min_ene_xvg, \n",
    "          properties=prop)"
   ]
  },
  {
   "cell_type": "code",
   "execution_count": 26,
   "metadata": {
    "scrolled": true
   },
   "outputs": [
    {
     "data": {
      "text/html": [
       "        <script type=\"text/javascript\">\n",
       "        window.PlotlyConfig = {MathJaxConfig: 'local'};\n",
       "        if (window.MathJax) {MathJax.Hub.Config({SVG: {font: \"STIX-Web\"}});}\n",
       "        if (typeof require !== 'undefined') {\n",
       "        require.undef(\"plotly\");\n",
       "        requirejs.config({\n",
       "            paths: {\n",
       "                'plotly': ['https://cdn.plot.ly/plotly-2.11.1.min']\n",
       "            }\n",
       "        });\n",
       "        require(['plotly'], function(Plotly) {\n",
       "            window._Plotly = Plotly;\n",
       "        });\n",
       "        }\n",
       "        </script>\n",
       "        "
      ]
     },
     "metadata": {},
     "output_type": "display_data"
    },
    {
     "data": {
      "application/vnd.plotly.v1+json": {
       "config": {
        "linkText": "Export to plot.ly",
        "plotlyServerURL": "https://plot.ly",
        "showLink": false
       },
       "data": [
        {
         "type": "scatter",
         "x": [
          0,
          1,
          2,
          3,
          4,
          5,
          6,
          7,
          8,
          9,
          10,
          12,
          13,
          14,
          16,
          17,
          18,
          19,
          20,
          22,
          23,
          24,
          26,
          27,
          28,
          29,
          31,
          32,
          33,
          35,
          36,
          37,
          39,
          40,
          41,
          43,
          44,
          45,
          46,
          47,
          49,
          51,
          52,
          53,
          54,
          56,
          57,
          58,
          60,
          61,
          62,
          64,
          65,
          66,
          67,
          68,
          70,
          71,
          72,
          74,
          75,
          76,
          78,
          79,
          80,
          82,
          83,
          84,
          85,
          86,
          88,
          89,
          90,
          92,
          93,
          94,
          95,
          96,
          98,
          99,
          100,
          102,
          103,
          104,
          105,
          106,
          108,
          109,
          110,
          112,
          113,
          114,
          115,
          116,
          118,
          119,
          120,
          122,
          123,
          124,
          125,
          127,
          128,
          129,
          131,
          132,
          133,
          134,
          136,
          137,
          138,
          140,
          141,
          142,
          143,
          144,
          146,
          147,
          148,
          150,
          151,
          152,
          153,
          154,
          156,
          157,
          158,
          160,
          161,
          162,
          163,
          164,
          165,
          167,
          168,
          169,
          171,
          172,
          174,
          175,
          176,
          178,
          179,
          180,
          181,
          182,
          184,
          185,
          186,
          188,
          189,
          190,
          191,
          192,
          194,
          195,
          196,
          198,
          199,
          200,
          201,
          202,
          204,
          205,
          206,
          208,
          209,
          210,
          211,
          213,
          214,
          215,
          217,
          218,
          219,
          220,
          222,
          223,
          224,
          226,
          227,
          228,
          229,
          230,
          232,
          233,
          234,
          236,
          237,
          238,
          239,
          240,
          242,
          243,
          244,
          246,
          247,
          248,
          249,
          251,
          252,
          253,
          255,
          256,
          257,
          258,
          260,
          261,
          262,
          264,
          265,
          266,
          267,
          268,
          270,
          271,
          272,
          274,
          275,
          276,
          277,
          278,
          279,
          281,
          282,
          283,
          285,
          286,
          288,
          289,
          290,
          292,
          293,
          294,
          295,
          296,
          298,
          299,
          300,
          302,
          303,
          304,
          305,
          306,
          308,
          309,
          310,
          312,
          313,
          314,
          315,
          316,
          317,
          319,
          320,
          321,
          323,
          324,
          326,
          327,
          328,
          330,
          331,
          332,
          333,
          334,
          336,
          337,
          338,
          340,
          341,
          342,
          343,
          344,
          345,
          346,
          348,
          350,
          351,
          352,
          353,
          355,
          356,
          357,
          359,
          360,
          361,
          362,
          363,
          365,
          366,
          367,
          369,
          370,
          371,
          372,
          373,
          375,
          376,
          377,
          379,
          380,
          381,
          382,
          383,
          384,
          386,
          387,
          388,
          390,
          391,
          392,
          393,
          395,
          396,
          397,
          399,
          400,
          401,
          402,
          404,
          405,
          406,
          408,
          409,
          410,
          411,
          412,
          414,
          415,
          416,
          418,
          419,
          420,
          421,
          423,
          424,
          425,
          427,
          428,
          429,
          430,
          432,
          433,
          434,
          436,
          437,
          438,
          439,
          440,
          441,
          443,
          444,
          445,
          447,
          448,
          450,
          451,
          452,
          454,
          455,
          456,
          457,
          458,
          459,
          460,
          462,
          464,
          465,
          466,
          467,
          469,
          470,
          471,
          473,
          474,
          475,
          476,
          477,
          479,
          480,
          481,
          483,
          484,
          485,
          486,
          487,
          489,
          490,
          491,
          493,
          494,
          495,
          496,
          497,
          498,
          500,
          501,
          502,
          504,
          505,
          506,
          507,
          509,
          510,
          511,
          513,
          514,
          515,
          516,
          518,
          519,
          520,
          522,
          523,
          524,
          525,
          526,
          527,
          529,
          530,
          531,
          533,
          534,
          536,
          537,
          538,
          540,
          541,
          542,
          543,
          544,
          545,
          546,
          548,
          550,
          551,
          552,
          553,
          555,
          556,
          557,
          559,
          560,
          561,
          562,
          563,
          565,
          566,
          567,
          569,
          570,
          571,
          572,
          573,
          575,
          576,
          577,
          579,
          580,
          581,
          582,
          583,
          584,
          586,
          587,
          588,
          590,
          591,
          592,
          593,
          595,
          596,
          597,
          599,
          600,
          601,
          602,
          604,
          605,
          606,
          608,
          609,
          610,
          611,
          612,
          613,
          615,
          616,
          617,
          619,
          620,
          621,
          622,
          624,
          625,
          626,
          628,
          629,
          630,
          631,
          632,
          634,
          635,
          636,
          638,
          639,
          640,
          641,
          643,
          644,
          645,
          647,
          648,
          649,
          650,
          652,
          653,
          654,
          656,
          657,
          658,
          659,
          661,
          662,
          663,
          665,
          666,
          667,
          668,
          669,
          670,
          672,
          673,
          674,
          676,
          677,
          678,
          679,
          681,
          682,
          683,
          685,
          686,
          687,
          688,
          690,
          691,
          692,
          694,
          695,
          696,
          697,
          698,
          699,
          701,
          702,
          703,
          705,
          706,
          707,
          708,
          710,
          711,
          712,
          714,
          715,
          716,
          717,
          718,
          720,
          721,
          722,
          724,
          725,
          726,
          727,
          729,
          730,
          731,
          733,
          734,
          735,
          736,
          737,
          739,
          740,
          741,
          743,
          744,
          745,
          746,
          748,
          749,
          750,
          752,
          753,
          754,
          755,
          756,
          758,
          759,
          760,
          762,
          763,
          764,
          765,
          767,
          768,
          769,
          771,
          772,
          773,
          774,
          776,
          777,
          778,
          780,
          781,
          782,
          783,
          784,
          785,
          787,
          788,
          789,
          791,
          792,
          793,
          794,
          796,
          797,
          798,
          800,
          801,
          802,
          803,
          805,
          806,
          807,
          809,
          810,
          811,
          812,
          814,
          815,
          816,
          818,
          819,
          820,
          821,
          822,
          823,
          825,
          826,
          827,
          829,
          830,
          831,
          832,
          834,
          835,
          836,
          838,
          839,
          840,
          841,
          842,
          844,
          845,
          846,
          848,
          849,
          850,
          851,
          853,
          854,
          855,
          857,
          858,
          859,
          860,
          861,
          863,
          864,
          865,
          867,
          868,
          869,
          870,
          872,
          873,
          874,
          876,
          877,
          878,
          879,
          880,
          882,
          883,
          884,
          886,
          887,
          888,
          889,
          891,
          892,
          893,
          895,
          896,
          897,
          898,
          899,
          900,
          902,
          903,
          904,
          906,
          907,
          909,
          910,
          911,
          913,
          914,
          915,
          916,
          917,
          918,
          919,
          921,
          922,
          923,
          925,
          926,
          928,
          929,
          930,
          932,
          933,
          934,
          935,
          936,
          937,
          938,
          940,
          941,
          942,
          944,
          945,
          946,
          947,
          949,
          950,
          951,
          953,
          954,
          955,
          956,
          958,
          959,
          960,
          962,
          963,
          964,
          965,
          967,
          968,
          969,
          971,
          972,
          973,
          974,
          975,
          976,
          978,
          979,
          980,
          982,
          983,
          984,
          985,
          987,
          988,
          989,
          991,
          992,
          993,
          994,
          995,
          997,
          998,
          999,
          1001,
          1002,
          1003,
          1004,
          1006,
          1007,
          1008,
          1010,
          1011,
          1012,
          1013,
          1014,
          1016,
          1017,
          1018,
          1020,
          1021,
          1022,
          1023,
          1025,
          1026,
          1027,
          1029,
          1030,
          1031,
          1032,
          1033,
          1034,
          1036,
          1037,
          1038,
          1040,
          1041,
          1043,
          1044,
          1045,
          1047,
          1048,
          1049,
          1050,
          1051,
          1052,
          1053,
          1055,
          1056,
          1057,
          1059,
          1060,
          1061,
          1062,
          1064,
          1065,
          1066,
          1068,
          1069,
          1070,
          1071,
          1073,
          1074,
          1075,
          1077,
          1078,
          1079,
          1080,
          1082,
          1083,
          1084,
          1086,
          1087,
          1088,
          1089,
          1090,
          1091,
          1093,
          1094,
          1095,
          1097,
          1098,
          1099,
          1100,
          1102,
          1103,
          1104,
          1106,
          1107,
          1108,
          1109,
          1110,
          1112,
          1113,
          1114,
          1116,
          1117,
          1118,
          1119,
          1121,
          1122,
          1123,
          1125,
          1126,
          1127,
          1128,
          1129,
          1131,
          1132,
          1133,
          1135,
          1136,
          1137,
          1138,
          1140,
          1141,
          1142,
          1144,
          1145,
          1146,
          1147,
          1148,
          1150,
          1151,
          1152,
          1154,
          1155,
          1156,
          1157,
          1159,
          1160,
          1161,
          1163,
          1164,
          1165,
          1166,
          1167,
          1169,
          1170,
          1171,
          1173,
          1174,
          1175,
          1176,
          1178,
          1179,
          1180,
          1182,
          1183,
          1184,
          1185,
          1186,
          1188,
          1189,
          1190,
          1192,
          1193,
          1194,
          1195,
          1197,
          1198,
          1199,
          1201,
          1202,
          1203,
          1204,
          1205,
          1207,
          1208,
          1209,
          1211,
          1212,
          1213,
          1214,
          1216,
          1217,
          1218,
          1220,
          1221,
          1222,
          1223,
          1224,
          1225,
          1227,
          1228,
          1229,
          1231,
          1232,
          1233,
          1234,
          1236,
          1237,
          1238,
          1240,
          1241,
          1242,
          1243,
          1244,
          1246,
          1247,
          1248,
          1250,
          1251,
          1252,
          1253,
          1255,
          1256,
          1257,
          1259,
          1260,
          1261,
          1262,
          1263,
          1265,
          1266,
          1267,
          1269,
          1270,
          1271,
          1272,
          1274,
          1275,
          1276,
          1278,
          1279,
          1280,
          1281,
          1282,
          1284,
          1285,
          1286,
          1288,
          1289,
          1290,
          1291,
          1293,
          1294,
          1295,
          1297,
          1298,
          1299,
          1300,
          1301,
          1303,
          1304,
          1305,
          1307,
          1308,
          1309,
          1310,
          1312,
          1313,
          1314,
          1316,
          1317,
          1318,
          1319,
          1320,
          1322,
          1323,
          1324,
          1326,
          1327,
          1328,
          1329,
          1331,
          1332,
          1333,
          1335,
          1336,
          1337,
          1338,
          1339,
          1340,
          1342,
          1343,
          1344,
          1346,
          1347,
          1348,
          1349,
          1351,
          1352,
          1353,
          1355,
          1356,
          1357,
          1358,
          1359,
          1361,
          1362,
          1363,
          1365,
          1366,
          1367,
          1368,
          1370,
          1371,
          1372,
          1374,
          1375,
          1376,
          1377,
          1378,
          1380,
          1381,
          1382,
          1384,
          1385,
          1386,
          1387,
          1389,
          1390,
          1391,
          1393,
          1394,
          1395,
          1396,
          1397,
          1399,
          1400,
          1401,
          1403,
          1404,
          1405,
          1406,
          1408,
          1409,
          1410,
          1412,
          1413,
          1414,
          1415,
          1416,
          1418,
          1419,
          1420,
          1422,
          1423,
          1424,
          1425,
          1427,
          1428,
          1429,
          1431,
          1432,
          1433,
          1434,
          1435,
          1436,
          1438,
          1439,
          1440,
          1442,
          1443,
          1445,
          1446,
          1447,
          1449,
          1450,
          1451,
          1452,
          1453,
          1454,
          1455,
          1457,
          1458,
          1459,
          1461,
          1462,
          1463,
          1464,
          1466,
          1467,
          1468,
          1470,
          1471,
          1472,
          1473,
          1475,
          1476,
          1477,
          1479,
          1480,
          1481,
          1482,
          1484,
          1485,
          1486,
          1488,
          1489,
          1490,
          1491,
          1492,
          1493,
          1495,
          1496,
          1497,
          1499,
          1500,
          1501,
          1502,
          1504,
          1505,
          1506,
          1508,
          1509,
          1510,
          1511,
          1512,
          1514,
          1515,
          1516,
          1518,
          1519,
          1520,
          1521,
          1523,
          1524,
          1525,
          1527,
          1528,
          1529,
          1530,
          1531,
          1533,
          1534,
          1535,
          1537,
          1538,
          1539,
          1540,
          1542,
          1543,
          1544,
          1546,
          1547,
          1548,
          1549,
          1550,
          1552,
          1553,
          1554,
          1556,
          1557,
          1558,
          1559,
          1561,
          1562,
          1563,
          1565,
          1566,
          1567,
          1568,
          1569,
          1570,
          1572,
          1573,
          1574,
          1576,
          1577,
          1579,
          1580,
          1581,
          1583,
          1584,
          1585,
          1586,
          1587,
          1588,
          1589,
          1591,
          1592,
          1593,
          1595,
          1596,
          1597,
          1598,
          1600,
          1601,
          1602,
          1604,
          1605,
          1606,
          1607,
          1608,
          1610,
          1611,
          1612,
          1614,
          1615,
          1617,
          1618,
          1619,
          1621,
          1622,
          1623,
          1624,
          1625,
          1626,
          1627,
          1629,
          1630,
          1631,
          1633,
          1634,
          1635,
          1636,
          1638,
          1639,
          1640,
          1642,
          1643,
          1644,
          1645,
          1647,
          1648,
          1649,
          1651,
          1652,
          1653,
          1654,
          1656,
          1657,
          1658,
          1660,
          1661,
          1662,
          1663,
          1664,
          1665,
          1667,
          1668,
          1669,
          1671,
          1672,
          1673,
          1674,
          1676,
          1677,
          1678,
          1680,
          1681,
          1682,
          1683,
          1684,
          1686,
          1687,
          1688,
          1690,
          1691,
          1692,
          1693,
          1695,
          1696,
          1697,
          1699,
          1700,
          1701,
          1702,
          1703,
          1705,
          1706,
          1707,
          1709,
          1710,
          1711,
          1712,
          1714,
          1715,
          1716,
          1718,
          1719,
          1720,
          1721,
          1722,
          1724,
          1725,
          1726,
          1728,
          1729,
          1730,
          1731,
          1733,
          1734,
          1735,
          1737,
          1738,
          1739,
          1740,
          1741,
          1742,
          1744,
          1745,
          1746,
          1748,
          1749,
          1751,
          1752,
          1753,
          1755,
          1756,
          1757,
          1758,
          1759,
          1760,
          1761,
          1763,
          1764,
          1765,
          1767,
          1768,
          1769,
          1770,
          1772,
          1773,
          1774,
          1776,
          1777,
          1778,
          1779,
          1781
         ],
         "y": [
          -266413.75,
          -309279.25,
          -348006.09375,
          -376395.03125,
          -397859.03125,
          -406580.9375,
          -413799.21875,
          -424184.6875,
          -427677.15625,
          -430731.96875,
          -433101.4375,
          -437164.9375,
          -438824.90625,
          -442341.40625,
          -444171.5625,
          -445636.78125,
          -447254.34375,
          -447970.3125,
          -449135.03125,
          -452040.78125,
          -453579.15625,
          -457527.03125,
          -458354.28125,
          -459255.625,
          -459610.15625,
          -460270.84375,
          -462627.1875,
          -463062.0625,
          -466100.09375,
          -466781.0625,
          -467170.9375,
          -467694.1875,
          -469279.65625,
          -470216.75,
          -472200.96875,
          -472754.625,
          -473162.4375,
          -473605.9375,
          -473711.25,
          -473926.90625,
          -475836.78125,
          -476599.125,
          -477319.0625,
          -477434.875,
          -478251.40625,
          -478933.0625,
          -479181.875,
          -479990.625,
          -480511.21875,
          -480821.59375,
          -481397.5,
          -481900,
          -482336.875,
          -482925.9375,
          -482945.1875,
          -483616.5625,
          -484210.6875,
          -484337.625,
          -485056.0625,
          -485490.71875,
          -485694.8125,
          -486178.34375,
          -486615.9375,
          -486929.375,
          -487450.71875,
          -487791.28125,
          -488079.34375,
          -488450.28125,
          -488546.53125,
          -488930.1875,
          -489448.6875,
          -489660.1875,
          -490316.84375,
          -490609.15625,
          -490801.78125,
          -491090.8125,
          -491132.71875,
          -491383.625,
          -492048.25,
          -492164.25,
          -492989.90625,
          -493228.78125,
          -493394.125,
          -493609.84375,
          -493666.90625,
          -493826.96875,
          -494518.6875,
          -494728.71875,
          -495552.59375,
          -495742.8125,
          -495908.40625,
          -496056.78125,
          -496142.1875,
          -496211.75,
          -496903.8125,
          -497229.09375,
          -498054.25,
          -498204.53125,
          -498366.46875,
          -498461.09375,
          -498560.8125,
          -499056.9375,
          -499507.625,
          -500138.03125,
          -500281.03125,
          -500459.34375,
          -500534.375,
          -500702.46875,
          -501025.21875,
          -501250.375,
          -501643.96875,
          -501799.25,
          -501928.6875,
          -502074.1875,
          -502150.1875,
          -502270,
          -502616.1875,
          -502879.53125,
          -503305.5625,
          -503440.71875,
          -503562,
          -503675.78125,
          -503753.9375,
          -503827.09375,
          -504201.46875,
          -504518.8125,
          -504981.5,
          -505096.03125,
          -505212.09375,
          -505294.75,
          -505374.8125,
          -505402.5625,
          -505403.21875,
          -505944.40625,
          -506018.21875,
          -506733.46875,
          -506793.21875,
          -506924.03125,
          -507127.0625,
          -507287.59375,
          -507538.03125,
          -507652.625,
          -507749.8125,
          -507861.5625,
          -507919.15625,
          -508018.53125,
          -508246.21875,
          -508430.9375,
          -508714.78125,
          -508818.03125,
          -508908.15625,
          -508999.84375,
          -509057.09375,
          -509124.3125,
          -509381.09375,
          -509599.65625,
          -509922.28125,
          -510012.40625,
          -510099.59375,
          -510168.84375,
          -510228.15625,
          -510260.5,
          -510551.53125,
          -510820.96875,
          -511186.40625,
          -511261.84375,
          -511347.28125,
          -511393.625,
          -511454.25,
          -511679.1875,
          -511875.6875,
          -512175.3125,
          -512251.1875,
          -512339.34375,
          -512383.71875,
          -512463.8125,
          -512635.90625,
          -512774.71875,
          -512990.46875,
          -513071.84375,
          -513142.34375,
          -513215.53125,
          -513259.9375,
          -513315.0625,
          -513513.21875,
          -513679.28125,
          -513929.875,
          -514001.75,
          -514070.5,
          -514126.375,
          -514173.03125,
          -514200.09375,
          -514428.96875,
          -514640.5,
          -514930.46875,
          -514990.84375,
          -515059.625,
          -515096.34375,
          -515145.84375,
          -515325.25,
          -515478.875,
          -515718.53125,
          -515779.9375,
          -515850.46875,
          -515887,
          -515950.40625,
          -516090.5625,
          -516206.28125,
          -516382.8125,
          -516448.5,
          -516506.21875,
          -516564.71875,
          -516601.9375,
          -516644.96875,
          -516807.8125,
          -516951.53125,
          -517158.53125,
          -517216.84375,
          -517274.03125,
          -517318.3125,
          -517358.5,
          -517377.90625,
          -517380.65625,
          -517636.09375,
          -517708.5,
          -518052.6875,
          -518084.59375,
          -518153.53125,
          -518253.53125,
          -518335.4375,
          -518459.6875,
          -518519.9375,
          -518571.5,
          -518631.21875,
          -518661.75,
          -518716.0625,
          -518832.25,
          -518928.625,
          -519075.21875,
          -519130.96875,
          -519179.78125,
          -519229.65625,
          -519261.40625,
          -519298.59375,
          -519434.5625,
          -519557.8125,
          -519731.125,
          -519780.90625,
          -519830.03125,
          -519867.875,
          -519903.0625,
          -519919.90625,
          -519924.4375,
          -520137.6875,
          -520202.28125,
          -520489.78125,
          -520518.34375,
          -520576.8125,
          -520661.5625,
          -520735.03125,
          -520840.5,
          -520892.0625,
          -520937.03125,
          -520988.15625,
          -521015.90625,
          -521062.0625,
          -521160.75,
          -521250.0625,
          -521374.875,
          -521423.03125,
          -521465.9375,
          -521508.78125,
          -521538,
          -521569.4375,
          -521571.75,
          -521578.1875,
          -521790.40625,
          -521866.5625,
          -521944.125,
          -521950.9375,
          -522041.71875,
          -522108.28125,
          -522133.71875,
          -522213.40625,
          -522270.3125,
          -522309.28125,
          -522373.875,
          -522377.5,
          -522446,
          -522531.84375,
          -522554.4375,
          -522664.03125,
          -522712.96875,
          -522745.375,
          -522794.03125,
          -522805.3125,
          -522846.4375,
          -522957.4375,
          -522999.125,
          -523146.125,
          -523185.84375,
          -523223.4375,
          -523252.5,
          -523279.21875,
          -523286.75,
          -523290.5625,
          -523475.40625,
          -523483.625,
          -523725.375,
          -523750.59375,
          -523788.375,
          -523793.0625,
          -523814.5625,
          -523961.09375,
          -523976.71875,
          -524173.8125,
          -524202.65625,
          -524241.25,
          -524251.3125,
          -524280.4375,
          -524398.4375,
          -524432.5,
          -524585.375,
          -524620.0625,
          -524652.1875,
          -524677.25,
          -524695,
          -524701.1875,
          -524845.25,
          -524916.75,
          -525104,
          -525130.375,
          -525168,
          -525177.375,
          -525204.625,
          -525314.6875,
          -525351.25,
          -525498.3125,
          -525529.25,
          -525563.5,
          -525581.5,
          -525607.625,
          -525700.5625,
          -525767.6875,
          -525887.4375,
          -525920.5,
          -525953,
          -525977.75,
          -526000.75,
          -526010.375,
          -526012.4375,
          -526160.9375,
          -526194.125,
          -526393.625,
          -526412.375,
          -526451.3125,
          -526510.8125,
          -526561.3125,
          -526635.8125,
          -526670.75,
          -526701.1875,
          -526735.0625,
          -526754.625,
          -526783.9375,
          -526784.1875,
          -526801.1875,
          -526928.625,
          -526978.1875,
          -527026.6875,
          -527039.625,
          -527095.3125,
          -527141.0625,
          -527166.8125,
          -527221.9375,
          -527259.25,
          -527290.0625,
          -527331.625,
          -527342.3125,
          -527385.4375,
          -527442.4375,
          -527472.25,
          -527544.9375,
          -527578.5,
          -527605.0625,
          -527637.9375,
          -527652.5625,
          -527680,
          -527751.8125,
          -527805,
          -527899.5,
          -527928.8125,
          -527957.8125,
          -527979.875,
          -528003.25,
          -528011.4375,
          -528021.625,
          -528134.8125,
          -528160.4375,
          -528308.6875,
          -528330.4375,
          -528358.1875,
          -528367.375,
          -528385.5,
          -528477,
          -528513.125,
          -528635.25,
          -528659.0625,
          -528687.5625,
          -528700,
          -528722.75,
          -528797.0625,
          -528841.5625,
          -528937.75,
          -528964.5,
          -528989.9375,
          -529010.3125,
          -529027.6875,
          -529036.125,
          -529036.1875,
          -529157.9375,
          -529187.375,
          -529350.625,
          -529365.4375,
          -529397.25,
          -529445.5,
          -529485.375,
          -529546.125,
          -529574.5625,
          -529599.25,
          -529626.6875,
          -529642.5625,
          -529666.125,
          -529666.5,
          -529679.6875,
          -529784.1875,
          -529825.25,
          -529865.125,
          -529875.6875,
          -529921.875,
          -529958.875,
          -529979.5,
          -530023.875,
          -530054.625,
          -530080.1875,
          -530114.8125,
          -530123.125,
          -530159.75,
          -530205.625,
          -530228.75,
          -530286.8125,
          -530314.6875,
          -530336.4375,
          -530364.375,
          -530375.3125,
          -530399.9375,
          -530457.5625,
          -530495.5,
          -530570.9375,
          -530595.5625,
          -530618.6875,
          -530638.375,
          -530655.75,
          -530665.3125,
          -530670.625,
          -530765.5625,
          -530801.75,
          -530926.4375,
          -530943.5625,
          -530968.625,
          -530973.9375,
          -530992.6875,
          -531065.5,
          -531086.5625,
          -531183.1875,
          -531204.125,
          -531226,
          -531239.0625,
          -531254.6875,
          -531317.9375,
          -531371.4375,
          -531453.875,
          -531475.375,
          -531498.375,
          -531513.3125,
          -531531.25,
          -531534.5625,
          -531540.5,
          -531637.0625,
          -531644.75,
          -531773.9375,
          -531788.4375,
          -531812.125,
          -531813.625,
          -531831.625,
          -531905.8125,
          -531912.3125,
          -532009.4375,
          -532029.25,
          -532047.3125,
          -532060.8125,
          -532069.875,
          -532070.6875,
          -532163.375,
          -532198.625,
          -532320.9375,
          -532334.6875,
          -532358.5625,
          -532360,
          -532378.625,
          -532447,
          -532454.75,
          -532545.3125,
          -532564.375,
          -532582.625,
          -532595,
          -532606,
          -532668,
          -532723.875,
          -532805,
          -532823.625,
          -532845.25,
          -532856.375,
          -532874.125,
          -532923.25,
          -532965,
          -533029.5,
          -533049.625,
          -533069.875,
          -533084.875,
          -533101.4375,
          -533107.1875,
          -533115,
          -533191.1875,
          -533210.8125,
          -533311.25,
          -533326.375,
          -533346.1875,
          -533352.4375,
          -533366.375,
          -533427.3125,
          -533450.875,
          -533532,
          -533549.1875,
          -533568.0625,
          -533578.5,
          -533592.75,
          -533644.375,
          -533685.125,
          -533752.4375,
          -533770.6875,
          -533789.625,
          -533802.625,
          -533817.375,
          -533820.875,
          -533825.625,
          -533905.625,
          -533915.6875,
          -534022.5,
          -534034.6875,
          -534054.5625,
          -534056.25,
          -534071.5,
          -534132.75,
          -534139.5625,
          -534219.875,
          -534236.4375,
          -534251.875,
          -534263.1875,
          -534271.375,
          -534271.9375,
          -534348.875,
          -534383.25,
          -534484.9375,
          -534496.4375,
          -534517,
          -534517.9375,
          -534534.625,
          -534590.5,
          -534596.375,
          -534670,
          -534686.5625,
          -534701.25,
          -534712.8125,
          -534721.125,
          -534722.5,
          -534793.8125,
          -534831.25,
          -534926.3125,
          -534937.5625,
          -534958.25,
          -534958.875,
          -534976.875,
          -535027.5,
          -535033,
          -535099,
          -535115.9375,
          -535129.0625,
          -535142.4375,
          -535148.25,
          -535154,
          -535217.75,
          -535239.5,
          -535323.8125,
          -535336.3125,
          -535353.625,
          -535358.1875,
          -535371.3125,
          -535421.125,
          -535438.3125,
          -535504.125,
          -535519.0625,
          -535534.375,
          -535544.25,
          -535555.0625,
          -535598.625,
          -535640.5,
          -535697.625,
          -535712.875,
          -535729.4375,
          -535739.6875,
          -535753.4375,
          -535755.0625,
          -535761.4375,
          -535826.375,
          -535830,
          -535916.5,
          -535927.625,
          -535943.125,
          -535946.3125,
          -535957.25,
          -536009.375,
          -536020.6875,
          -536089.375,
          -536102.75,
          -536116.75,
          -536124.9375,
          -536134.0625,
          -536179.3125,
          -536214.875,
          -536274.75,
          -536288.4375,
          -536304.5,
          -536312.375,
          -536326,
          -536361.875,
          -536389.8125,
          -536436.5625,
          -536451.5,
          -536465.875,
          -536477.875,
          -536488.5625,
          -536494.5625,
          -536497.625,
          -536555.875,
          -536580.5,
          -536658.125,
          -536668.25,
          -536684.75,
          -536686.6875,
          -536700.5625,
          -536743.625,
          -536751.8125,
          -536808.125,
          -536821.9375,
          -536833.9375,
          -536844.375,
          -536850.9375,
          -536854.1875,
          -536908.4375,
          -536936.375,
          -537008.125,
          -537018.375,
          -537034.0625,
          -537037,
          -537049.875,
          -537090.375,
          -537101.8125,
          -537155.125,
          -537168.375,
          -537180.5625,
          -537190.1875,
          -537197.9375,
          -537200.375,
          -537251.5625,
          -537290.6875,
          -537359.0625,
          -537368.875,
          -537385,
          -537387.3125,
          -537401.6875,
          -537438.25,
          -537447.4375,
          -537495.125,
          -537508.625,
          -537519.6875,
          -537530.6875,
          -537536.6875,
          -537542.25,
          -537588.25,
          -537612.75,
          -537673.625,
          -537684.1875,
          -537698.1875,
          -537702.9375,
          -537714.125,
          -537750.0625,
          -537767.9375,
          -537815.125,
          -537827.5,
          -537839.8125,
          -537848.75,
          -537857.625,
          -537859.875,
          -537861.3125,
          -537919.8125,
          -537924.4375,
          -538002.4375,
          -538010.125,
          -538023.75,
          -538048.5,
          -538071.9375,
          -538103.8125,
          -538117.125,
          -538129.4375,
          -538141.25,
          -538150.5,
          -538159,
          -538162.5,
          -538163.625,
          -538218.625,
          -538229.9375,
          -538303.4375,
          -538310.9375,
          -538324.875,
          -538347.75,
          -538369.3125,
          -538398.4375,
          -538411.5625,
          -538423.4375,
          -538435.625,
          -538444.25,
          -538453.75,
          -538456.25,
          -538459.75,
          -538509.9375,
          -538517.625,
          -538584.3125,
          -538592.75,
          -538605.125,
          -538607.1875,
          -538616.3125,
          -538655.5625,
          -538663.125,
          -538715.0625,
          -538725.5625,
          -538736.3125,
          -538742.875,
          -538749.8125,
          -538784.4375,
          -538812.9375,
          -538858.75,
          -538869.3125,
          -538881.625,
          -538888.0625,
          -538898.3125,
          -538926.125,
          -538949.625,
          -538985.8125,
          -538997.5,
          -539009,
          -539017.875,
          -539026.9375,
          -539031,
          -539034.5625,
          -539078.5625,
          -539094.125,
          -539152.625,
          -539161,
          -539173.1875,
          -539175.8125,
          -539185.375,
          -539219.4375,
          -539229.375,
          -539274.0625,
          -539284.5625,
          -539294.75,
          -539302.0625,
          -539308.5625,
          -539309.6875,
          -539352.6875,
          -539387.125,
          -539444.3125,
          -539452.0625,
          -539465.5,
          -539466.6875,
          -539478.8125,
          -539509,
          -539515.1875,
          -539554.625,
          -539565.625,
          -539574.5,
          -539583.625,
          -539588.125,
          -539592.5625,
          -539630.875,
          -539649.375,
          -539700.3125,
          -539708.6875,
          -539720.3125,
          -539723.875,
          -539733.125,
          -539762.9375,
          -539776.4375,
          -539815.5625,
          -539825.875,
          -539835.625,
          -539843.0625,
          -539849.9375,
          -539852,
          -539852.4375,
          -539901.6875,
          -539905.75,
          -539971.625,
          -539977.5,
          -539989.1875,
          -540009.5,
          -540027.125,
          -540053.25,
          -540064.3125,
          -540074.1875,
          -540084.125,
          -540091.3125,
          -540098.6875,
          -540100.75,
          -540102.375,
          -540148,
          -540152.4375,
          -540213.375,
          -540219.625,
          -540230.625,
          -540230.9375,
          -540239.1875,
          -540273.9375,
          -540276.0625,
          -540322.125,
          -540331,
          -540339.5625,
          -540345.125,
          -540350,
          -540381.4375,
          -540406.875,
          -540448.625,
          -540457.3125,
          -540468.125,
          -540472.5,
          -540481.6875,
          -540506.1875,
          -540521.6875,
          -540553.5625,
          -540563.5,
          -540572.8125,
          -540580.5625,
          -540587.3125,
          -540590.875,
          -540592.3125,
          -540632.6875,
          -540646.6875,
          -540700.5,
          -540706.875,
          -540717.8125,
          -540718.625,
          -540727.5625,
          -540757.5,
          -540761.4375,
          -540800.875,
          -540809.8125,
          -540817.8125,
          -540824.25,
          -540828.625,
          -540829.875,
          -540867.9375,
          -540887.375,
          -540938.25,
          -540944.625,
          -540955.625,
          -540956.5,
          -540965.9375,
          -540993.625,
          -540997.9375,
          -541034.25,
          -541043.3125,
          -541051,
          -541057.875,
          -541062,
          -541064.3125,
          -541099.5625,
          -541116.5625,
          -541163.5,
          -541170.125,
          -541180.4375,
          -541182.3125,
          -541190.875,
          -541217.25,
          -541224.5625,
          -541259.125,
          -541267.875,
          -541275.8125,
          -541282.375,
          -541287.25,
          -541289.1875,
          -541322.625,
          -541346,
          -541390.5,
          -541397.1875,
          -541407.5625,
          -541409.375,
          -541418.5,
          -541442.8125,
          -541449.9375,
          -541481.6875,
          -541490.5,
          -541498.1875,
          -541505.125,
          -541509.625,
          -541512.6875,
          -541543.4375,
          -541563.375,
          -541604.1875,
          -541611.1875,
          -541620.9375,
          -541623.5625,
          -541632,
          -541655.1875,
          -541665.3125,
          -541695.6875,
          -541704.1875,
          -541712.0625,
          -541718.625,
          -541723.9375,
          -541726.5,
          -541755.8125,
          -541782.375,
          -541821.3125,
          -541828.1875,
          -541838.0625,
          -541840.8125,
          -541849.5,
          -541871,
          -541880.4375,
          -541908.375,
          -541916.9375,
          -541924.4375,
          -541931.5,
          -541936.375,
          -541939.9375,
          -541966.8125,
          -541989.5,
          -542025.25,
          -542032.3125,
          -542041.5625,
          -542045.0625,
          -542053.0625,
          -542073.625,
          -542085.75,
          -542112.6875,
          -542121,
          -542128.6875,
          -542135.375,
          -542140.875,
          -542144.125,
          -542144.8125,
          -542179.4375,
          -542192.75,
          -542239,
          -542244.125,
          -542253.6875,
          -542254.0625,
          -542261.9375,
          -542287.25,
          -542289.6875,
          -542322.875,
          -542330.625,
          -542337.1875,
          -542342.9375,
          -542346.25,
          -542347.75,
          -542379.875,
          -542393.6875,
          -542436.5625,
          -542442.0625,
          -542451.25,
          -542452.1875,
          -542459.8125,
          -542483.6875,
          -542488.25,
          -542519.5625,
          -542527.1875,
          -542533.875,
          -542539.5,
          -542543.3125,
          -542544.75,
          -542575.125,
          -542592.75,
          -542633.1875,
          -542638.8125,
          -542647.875,
          -542649.125,
          -542656.9375,
          -542679.125,
          -542684.3125,
          -542713.375,
          -542721,
          -542727.625,
          -542733.5,
          -542737.25,
          -542739.625,
          -542767.75,
          -542784.1875,
          -542821.5625,
          -542827.4375,
          -542836.0625,
          -542838,
          -542845.4375,
          -542866.5,
          -542874,
          -542901.6875,
          -542909.125,
          -542915.9375,
          -542921.5,
          -542925.9375,
          -542928,
          -542954.6875,
          -542976.3125,
          -543011.875,
          -543017.8125,
          -543026.5625,
          -543028.625,
          -543036.25,
          -543055.8125,
          -543063.125,
          -543088.625,
          -543096.0625,
          -543102.5625,
          -543108.6875,
          -543112.75,
          -543115.875,
          -543140.4375,
          -543158.5625,
          -543191.1875,
          -543197.375,
          -543205.5625,
          -543208.375,
          -543215.25,
          -543234.1875,
          -543244.3125,
          -543268.875,
          -543276.3125,
          -543283.125,
          -543288.75,
          -543293.5625,
          -543296.0625,
          -543296.6875,
          -543328.1875,
          -543337.1875,
          -543379.375,
          -543383.9375,
          -543392.1875,
          -543392.3125,
          -543399.0625,
          -543422.375,
          -543423.8125,
          -543454.5625,
          -543461.3125,
          -543467.125,
          -543471.9375,
          -543474.9375,
          -543475.625,
          -543505.375,
          -543518.1875,
          -543557.9375,
          -543562.625,
          -543570.9375,
          -543571.3125,
          -543578.375,
          -543600,
          -543602.3125,
          -543630.6875,
          -543637.5625,
          -543643.125,
          -543648.3125,
          -543651.25,
          -543652.8125,
          -543680.4375,
          -543691.875,
          -543728.625,
          -543733.625,
          -543741.4375,
          -543742.6875,
          -543749,
          -543769.9375,
          -543774.6875,
          -543802,
          -543808.625,
          -543814.75,
          -543819.4375,
          -543823.25,
          -543824.3125,
          -543850.6875,
          -543868.625,
          -543903.8125,
          -543908.75,
          -543916.9375,
          -543917.9375,
          -543925.25,
          -543944.1875,
          -543948.625,
          -543973.4375,
          -543980.3125,
          -543985.9375,
          -543991.4375,
          -543994.5,
          -543997.125,
          -544021.125,
          -544034.1875,
          -544066.3125,
          -544071.5625,
          -544078.9375,
          -544081.125,
          -544087.1875,
          -544105.75,
          -544113.75,
          -544138.125,
          -544144.625,
          -544150.875,
          -544155.625,
          -544159.9375,
          -544161.4375,
          -544161.625,
          -544192.625,
          -544196.4375,
          -544237.9375,
          -544241.75,
          -544249.1875,
          -544262.0625,
          -544273.0625,
          -544289.5625,
          -544296.5625,
          -544302.9375,
          -544309.25,
          -544313.9375,
          -544318.875,
          -544320.0625,
          -544321.3125,
          -544350,
          -544353.375,
          -544391.875,
          -544395.9375,
          -544403.125,
          -544403.375,
          -544408.8125,
          -544430.75,
          -544432.5,
          -544461.5625,
          -544467.25,
          -544472.875,
          -544476.625,
          -544479.75,
          -544499.875,
          -544518,
          -544544.6875,
          -544550.3125,
          -544557.5,
          -544560.375,
          -544566.5625,
          -544582,
          -544591.8125,
          -544612,
          -544618.375,
          -544624.375,
          -544629.625,
          -544634,
          -544636.8125,
          -544637.4375,
          -544663.4375,
          -544675.875,
          -544710.8125,
          -544715.125,
          -544722.5625,
          -544723,
          -544729.375,
          -544748.1875,
          -544750.625,
          -544775.375,
          -544781.5,
          -544786.5,
          -544791.3125,
          -544793.8125,
          -544795.5625,
          -544819.5,
          -544829.6875,
          -544861.75,
          -544866.3125,
          -544873.1875,
          -544874.4375,
          -544880.0625,
          -544898.4375,
          -544903.5,
          -544927.625,
          -544933.5625,
          -544938.9375,
          -544943.1875,
          -544946.625,
          -544947.625,
          -544970.875,
          -544988.625,
          -545019.8125,
          -545024.25,
          -545031.6875,
          -545032.5625,
          -545039.1875,
          -545055.75,
          -545059.625,
          -545081.375,
          -545087.625,
          -545092.5625,
          -545097.5625,
          -545100.25,
          -545102.75,
          -545123.9375,
          -545134.875,
          -545162.9375,
          -545167.75,
          -545174.25,
          -545176.375,
          -545181.6875,
          -545198.1875,
          -545206.125,
          -545227.9375,
          -545233.6875,
          -545239.3125,
          -545243.5625,
          -545247.625,
          -545248.875,
          -545249.25,
          -545276.6875,
          -545279.1875,
          -545315.875,
          -545319.3125,
          -545325.9375,
          -545337.4375,
          -545348,
          -545362.6875,
          -545369,
          -545374.6875,
          -545380.4375,
          -545384.6875,
          -545388.8125,
          -545390.3125,
          -545391.125,
          -545416.875,
          -545421.0625,
          -545455.625,
          -545459.25,
          -545465.8125,
          -545465.875,
          -545471,
          -545490.5625,
          -545491.5625,
          -545517.375,
          -545522.75,
          -545527.5,
          -545531.125,
          -545533.625,
          -545533.6875,
          -545558.75,
          -545569.125,
          -545602.6875,
          -545606.25,
          -545613.125,
          -545623.25,
          -545632.75,
          -545645.75,
          -545651.875,
          -545657.625,
          -545663.5,
          -545667.4375,
          -545672.375,
          -545673.5,
          -545675.8125,
          -545698.25,
          -545702.0625,
          -545732.125,
          -545736.25,
          -545742.0625,
          -545743.5,
          -545747.8125,
          -545765.8125,
          -545770.9375,
          -545794.8125,
          -545799.9375,
          -545805.1875,
          -545808.5,
          -545812,
          -545827.9375,
          -545842.5,
          -545863.75,
          -545868.9375,
          -545874.9375,
          -545878.0625,
          -545883.3125,
          -545896.0625,
          -545907.625,
          -545924.25,
          -545930.0625,
          -545935.5625,
          -545940.0625,
          -545944.5,
          -545946.875,
          -545948.4375,
          -545969.3125,
          -545979.75,
          -546007.5625,
          -546011.6875,
          -546017.9375,
          -546019.125,
          -546024.375,
          -546040.0625,
          -546044.6875,
          -546065.375,
          -546070.75,
          -546075.4375,
          -546079.5625,
          -546082.5,
          -546083.875,
          -546103.8125,
          -546117.3125,
          -546144.0625,
          -546148.1875,
          -546154.4375,
          -546155.75,
          -546161.1875,
          -546176,
          -546180.875,
          -546200.4375,
          -546205.75,
          -546210.5625,
          -546214.6875,
          -546217.6875,
          -546219.3125,
          -546238.3125,
          -546252.4375,
          -546277.8125,
          -546282.0625,
          -546288.25,
          -546289.75,
          -546295.25,
          -546309.1875,
          -546314.5,
          -546332.9375,
          -546338.3125,
          -546342.9375,
          -546347.3125,
          -546350.1875,
          -546352.3125,
          -546370.125,
          -546383.125,
          -546406.8125,
          -546411.125,
          -546417,
          -546418.9375,
          -546423.9375,
          -546437.6875,
          -546444.5,
          -546462.5625,
          -546467.6875,
          -546472.5625,
          -546476.625,
          -546480,
          -546481.6875,
          -546481.9375,
          -546505.125,
          -546510.5,
          -546541.75,
          -546544.8125,
          -546550.8125,
          -546560.4375,
          -546569.25,
          -546581.625,
          -546587.1875,
          -546592.25,
          -546597.375,
          -546600.9375,
          -546605,
          -546606.0625,
          -546607.375,
          -546629.0625,
          -546632.0625,
          -546661.125,
          -546664.5,
          -546670,
          -546670.5625,
          -546674.75,
          -546691.5,
          -546693.8125,
          -546716.1875,
          -546720.75,
          -546725.1875,
          -546728.1875,
          -546730.8125,
          -546746.1875
         ]
        }
       ],
       "layout": {
        "template": {
         "data": {
          "bar": [
           {
            "error_x": {
             "color": "#2a3f5f"
            },
            "error_y": {
             "color": "#2a3f5f"
            },
            "marker": {
             "line": {
              "color": "#E5ECF6",
              "width": 0.5
             },
             "pattern": {
              "fillmode": "overlay",
              "size": 10,
              "solidity": 0.2
             }
            },
            "type": "bar"
           }
          ],
          "barpolar": [
           {
            "marker": {
             "line": {
              "color": "#E5ECF6",
              "width": 0.5
             },
             "pattern": {
              "fillmode": "overlay",
              "size": 10,
              "solidity": 0.2
             }
            },
            "type": "barpolar"
           }
          ],
          "carpet": [
           {
            "aaxis": {
             "endlinecolor": "#2a3f5f",
             "gridcolor": "white",
             "linecolor": "white",
             "minorgridcolor": "white",
             "startlinecolor": "#2a3f5f"
            },
            "baxis": {
             "endlinecolor": "#2a3f5f",
             "gridcolor": "white",
             "linecolor": "white",
             "minorgridcolor": "white",
             "startlinecolor": "#2a3f5f"
            },
            "type": "carpet"
           }
          ],
          "choropleth": [
           {
            "colorbar": {
             "outlinewidth": 0,
             "ticks": ""
            },
            "type": "choropleth"
           }
          ],
          "contour": [
           {
            "colorbar": {
             "outlinewidth": 0,
             "ticks": ""
            },
            "colorscale": [
             [
              0,
              "#0d0887"
             ],
             [
              0.1111111111111111,
              "#46039f"
             ],
             [
              0.2222222222222222,
              "#7201a8"
             ],
             [
              0.3333333333333333,
              "#9c179e"
             ],
             [
              0.4444444444444444,
              "#bd3786"
             ],
             [
              0.5555555555555556,
              "#d8576b"
             ],
             [
              0.6666666666666666,
              "#ed7953"
             ],
             [
              0.7777777777777778,
              "#fb9f3a"
             ],
             [
              0.8888888888888888,
              "#fdca26"
             ],
             [
              1,
              "#f0f921"
             ]
            ],
            "type": "contour"
           }
          ],
          "contourcarpet": [
           {
            "colorbar": {
             "outlinewidth": 0,
             "ticks": ""
            },
            "type": "contourcarpet"
           }
          ],
          "heatmap": [
           {
            "colorbar": {
             "outlinewidth": 0,
             "ticks": ""
            },
            "colorscale": [
             [
              0,
              "#0d0887"
             ],
             [
              0.1111111111111111,
              "#46039f"
             ],
             [
              0.2222222222222222,
              "#7201a8"
             ],
             [
              0.3333333333333333,
              "#9c179e"
             ],
             [
              0.4444444444444444,
              "#bd3786"
             ],
             [
              0.5555555555555556,
              "#d8576b"
             ],
             [
              0.6666666666666666,
              "#ed7953"
             ],
             [
              0.7777777777777778,
              "#fb9f3a"
             ],
             [
              0.8888888888888888,
              "#fdca26"
             ],
             [
              1,
              "#f0f921"
             ]
            ],
            "type": "heatmap"
           }
          ],
          "heatmapgl": [
           {
            "colorbar": {
             "outlinewidth": 0,
             "ticks": ""
            },
            "colorscale": [
             [
              0,
              "#0d0887"
             ],
             [
              0.1111111111111111,
              "#46039f"
             ],
             [
              0.2222222222222222,
              "#7201a8"
             ],
             [
              0.3333333333333333,
              "#9c179e"
             ],
             [
              0.4444444444444444,
              "#bd3786"
             ],
             [
              0.5555555555555556,
              "#d8576b"
             ],
             [
              0.6666666666666666,
              "#ed7953"
             ],
             [
              0.7777777777777778,
              "#fb9f3a"
             ],
             [
              0.8888888888888888,
              "#fdca26"
             ],
             [
              1,
              "#f0f921"
             ]
            ],
            "type": "heatmapgl"
           }
          ],
          "histogram": [
           {
            "marker": {
             "pattern": {
              "fillmode": "overlay",
              "size": 10,
              "solidity": 0.2
             }
            },
            "type": "histogram"
           }
          ],
          "histogram2d": [
           {
            "colorbar": {
             "outlinewidth": 0,
             "ticks": ""
            },
            "colorscale": [
             [
              0,
              "#0d0887"
             ],
             [
              0.1111111111111111,
              "#46039f"
             ],
             [
              0.2222222222222222,
              "#7201a8"
             ],
             [
              0.3333333333333333,
              "#9c179e"
             ],
             [
              0.4444444444444444,
              "#bd3786"
             ],
             [
              0.5555555555555556,
              "#d8576b"
             ],
             [
              0.6666666666666666,
              "#ed7953"
             ],
             [
              0.7777777777777778,
              "#fb9f3a"
             ],
             [
              0.8888888888888888,
              "#fdca26"
             ],
             [
              1,
              "#f0f921"
             ]
            ],
            "type": "histogram2d"
           }
          ],
          "histogram2dcontour": [
           {
            "colorbar": {
             "outlinewidth": 0,
             "ticks": ""
            },
            "colorscale": [
             [
              0,
              "#0d0887"
             ],
             [
              0.1111111111111111,
              "#46039f"
             ],
             [
              0.2222222222222222,
              "#7201a8"
             ],
             [
              0.3333333333333333,
              "#9c179e"
             ],
             [
              0.4444444444444444,
              "#bd3786"
             ],
             [
              0.5555555555555556,
              "#d8576b"
             ],
             [
              0.6666666666666666,
              "#ed7953"
             ],
             [
              0.7777777777777778,
              "#fb9f3a"
             ],
             [
              0.8888888888888888,
              "#fdca26"
             ],
             [
              1,
              "#f0f921"
             ]
            ],
            "type": "histogram2dcontour"
           }
          ],
          "mesh3d": [
           {
            "colorbar": {
             "outlinewidth": 0,
             "ticks": ""
            },
            "type": "mesh3d"
           }
          ],
          "parcoords": [
           {
            "line": {
             "colorbar": {
              "outlinewidth": 0,
              "ticks": ""
             }
            },
            "type": "parcoords"
           }
          ],
          "pie": [
           {
            "automargin": true,
            "type": "pie"
           }
          ],
          "scatter": [
           {
            "fillpattern": {
             "fillmode": "overlay",
             "size": 10,
             "solidity": 0.2
            },
            "type": "scatter"
           }
          ],
          "scatter3d": [
           {
            "line": {
             "colorbar": {
              "outlinewidth": 0,
              "ticks": ""
             }
            },
            "marker": {
             "colorbar": {
              "outlinewidth": 0,
              "ticks": ""
             }
            },
            "type": "scatter3d"
           }
          ],
          "scattercarpet": [
           {
            "marker": {
             "colorbar": {
              "outlinewidth": 0,
              "ticks": ""
             }
            },
            "type": "scattercarpet"
           }
          ],
          "scattergeo": [
           {
            "marker": {
             "colorbar": {
              "outlinewidth": 0,
              "ticks": ""
             }
            },
            "type": "scattergeo"
           }
          ],
          "scattergl": [
           {
            "marker": {
             "colorbar": {
              "outlinewidth": 0,
              "ticks": ""
             }
            },
            "type": "scattergl"
           }
          ],
          "scattermapbox": [
           {
            "marker": {
             "colorbar": {
              "outlinewidth": 0,
              "ticks": ""
             }
            },
            "type": "scattermapbox"
           }
          ],
          "scatterpolar": [
           {
            "marker": {
             "colorbar": {
              "outlinewidth": 0,
              "ticks": ""
             }
            },
            "type": "scatterpolar"
           }
          ],
          "scatterpolargl": [
           {
            "marker": {
             "colorbar": {
              "outlinewidth": 0,
              "ticks": ""
             }
            },
            "type": "scatterpolargl"
           }
          ],
          "scatterternary": [
           {
            "marker": {
             "colorbar": {
              "outlinewidth": 0,
              "ticks": ""
             }
            },
            "type": "scatterternary"
           }
          ],
          "surface": [
           {
            "colorbar": {
             "outlinewidth": 0,
             "ticks": ""
            },
            "colorscale": [
             [
              0,
              "#0d0887"
             ],
             [
              0.1111111111111111,
              "#46039f"
             ],
             [
              0.2222222222222222,
              "#7201a8"
             ],
             [
              0.3333333333333333,
              "#9c179e"
             ],
             [
              0.4444444444444444,
              "#bd3786"
             ],
             [
              0.5555555555555556,
              "#d8576b"
             ],
             [
              0.6666666666666666,
              "#ed7953"
             ],
             [
              0.7777777777777778,
              "#fb9f3a"
             ],
             [
              0.8888888888888888,
              "#fdca26"
             ],
             [
              1,
              "#f0f921"
             ]
            ],
            "type": "surface"
           }
          ],
          "table": [
           {
            "cells": {
             "fill": {
              "color": "#EBF0F8"
             },
             "line": {
              "color": "white"
             }
            },
            "header": {
             "fill": {
              "color": "#C8D4E3"
             },
             "line": {
              "color": "white"
             }
            },
            "type": "table"
           }
          ]
         },
         "layout": {
          "annotationdefaults": {
           "arrowcolor": "#2a3f5f",
           "arrowhead": 0,
           "arrowwidth": 1
          },
          "autotypenumbers": "strict",
          "coloraxis": {
           "colorbar": {
            "outlinewidth": 0,
            "ticks": ""
           }
          },
          "colorscale": {
           "diverging": [
            [
             0,
             "#8e0152"
            ],
            [
             0.1,
             "#c51b7d"
            ],
            [
             0.2,
             "#de77ae"
            ],
            [
             0.3,
             "#f1b6da"
            ],
            [
             0.4,
             "#fde0ef"
            ],
            [
             0.5,
             "#f7f7f7"
            ],
            [
             0.6,
             "#e6f5d0"
            ],
            [
             0.7,
             "#b8e186"
            ],
            [
             0.8,
             "#7fbc41"
            ],
            [
             0.9,
             "#4d9221"
            ],
            [
             1,
             "#276419"
            ]
           ],
           "sequential": [
            [
             0,
             "#0d0887"
            ],
            [
             0.1111111111111111,
             "#46039f"
            ],
            [
             0.2222222222222222,
             "#7201a8"
            ],
            [
             0.3333333333333333,
             "#9c179e"
            ],
            [
             0.4444444444444444,
             "#bd3786"
            ],
            [
             0.5555555555555556,
             "#d8576b"
            ],
            [
             0.6666666666666666,
             "#ed7953"
            ],
            [
             0.7777777777777778,
             "#fb9f3a"
            ],
            [
             0.8888888888888888,
             "#fdca26"
            ],
            [
             1,
             "#f0f921"
            ]
           ],
           "sequentialminus": [
            [
             0,
             "#0d0887"
            ],
            [
             0.1111111111111111,
             "#46039f"
            ],
            [
             0.2222222222222222,
             "#7201a8"
            ],
            [
             0.3333333333333333,
             "#9c179e"
            ],
            [
             0.4444444444444444,
             "#bd3786"
            ],
            [
             0.5555555555555556,
             "#d8576b"
            ],
            [
             0.6666666666666666,
             "#ed7953"
            ],
            [
             0.7777777777777778,
             "#fb9f3a"
            ],
            [
             0.8888888888888888,
             "#fdca26"
            ],
            [
             1,
             "#f0f921"
            ]
           ]
          },
          "colorway": [
           "#636efa",
           "#EF553B",
           "#00cc96",
           "#ab63fa",
           "#FFA15A",
           "#19d3f3",
           "#FF6692",
           "#B6E880",
           "#FF97FF",
           "#FECB52"
          ],
          "font": {
           "color": "#2a3f5f"
          },
          "geo": {
           "bgcolor": "white",
           "lakecolor": "white",
           "landcolor": "#E5ECF6",
           "showlakes": true,
           "showland": true,
           "subunitcolor": "white"
          },
          "hoverlabel": {
           "align": "left"
          },
          "hovermode": "closest",
          "mapbox": {
           "style": "light"
          },
          "paper_bgcolor": "white",
          "plot_bgcolor": "#E5ECF6",
          "polar": {
           "angularaxis": {
            "gridcolor": "white",
            "linecolor": "white",
            "ticks": ""
           },
           "bgcolor": "#E5ECF6",
           "radialaxis": {
            "gridcolor": "white",
            "linecolor": "white",
            "ticks": ""
           }
          },
          "scene": {
           "xaxis": {
            "backgroundcolor": "#E5ECF6",
            "gridcolor": "white",
            "gridwidth": 2,
            "linecolor": "white",
            "showbackground": true,
            "ticks": "",
            "zerolinecolor": "white"
           },
           "yaxis": {
            "backgroundcolor": "#E5ECF6",
            "gridcolor": "white",
            "gridwidth": 2,
            "linecolor": "white",
            "showbackground": true,
            "ticks": "",
            "zerolinecolor": "white"
           },
           "zaxis": {
            "backgroundcolor": "#E5ECF6",
            "gridcolor": "white",
            "gridwidth": 2,
            "linecolor": "white",
            "showbackground": true,
            "ticks": "",
            "zerolinecolor": "white"
           }
          },
          "shapedefaults": {
           "line": {
            "color": "#2a3f5f"
           }
          },
          "ternary": {
           "aaxis": {
            "gridcolor": "white",
            "linecolor": "white",
            "ticks": ""
           },
           "baxis": {
            "gridcolor": "white",
            "linecolor": "white",
            "ticks": ""
           },
           "bgcolor": "#E5ECF6",
           "caxis": {
            "gridcolor": "white",
            "linecolor": "white",
            "ticks": ""
           }
          },
          "title": {
           "x": 0.05
          },
          "xaxis": {
           "automargin": true,
           "gridcolor": "white",
           "linecolor": "white",
           "ticks": "",
           "title": {
            "standoff": 15
           },
           "zerolinecolor": "white",
           "zerolinewidth": 2
          },
          "yaxis": {
           "automargin": true,
           "gridcolor": "white",
           "linecolor": "white",
           "ticks": "",
           "title": {
            "standoff": 15
           },
           "zerolinecolor": "white",
           "zerolinewidth": 2
          }
         }
        },
        "title": {
         "text": "Energy Minimization"
        },
        "xaxis": {
         "title": {
          "text": "Energy Minimization Step"
         }
        },
        "yaxis": {
         "title": {
          "text": "Potential Energy KJ/mol-1"
         }
        }
       }
      },
      "text/html": [
       "<div>                            <div id=\"4fe9e94a-9582-4071-8514-608ea994b611\" class=\"plotly-graph-div\" style=\"height:525px; width:100%;\"></div>            <script type=\"text/javascript\">                require([\"plotly\"], function(Plotly) {                    window.PLOTLYENV=window.PLOTLYENV || {};                                    if (document.getElementById(\"4fe9e94a-9582-4071-8514-608ea994b611\")) {                    Plotly.newPlot(                        \"4fe9e94a-9582-4071-8514-608ea994b611\",                        [{\"x\":[0.0,1.0,2.0,3.0,4.0,5.0,6.0,7.0,8.0,9.0,10.0,12.0,13.0,14.0,16.0,17.0,18.0,19.0,20.0,22.0,23.0,24.0,26.0,27.0,28.0,29.0,31.0,32.0,33.0,35.0,36.0,37.0,39.0,40.0,41.0,43.0,44.0,45.0,46.0,47.0,49.0,51.0,52.0,53.0,54.0,56.0,57.0,58.0,60.0,61.0,62.0,64.0,65.0,66.0,67.0,68.0,70.0,71.0,72.0,74.0,75.0,76.0,78.0,79.0,80.0,82.0,83.0,84.0,85.0,86.0,88.0,89.0,90.0,92.0,93.0,94.0,95.0,96.0,98.0,99.0,100.0,102.0,103.0,104.0,105.0,106.0,108.0,109.0,110.0,112.0,113.0,114.0,115.0,116.0,118.0,119.0,120.0,122.0,123.0,124.0,125.0,127.0,128.0,129.0,131.0,132.0,133.0,134.0,136.0,137.0,138.0,140.0,141.0,142.0,143.0,144.0,146.0,147.0,148.0,150.0,151.0,152.0,153.0,154.0,156.0,157.0,158.0,160.0,161.0,162.0,163.0,164.0,165.0,167.0,168.0,169.0,171.0,172.0,174.0,175.0,176.0,178.0,179.0,180.0,181.0,182.0,184.0,185.0,186.0,188.0,189.0,190.0,191.0,192.0,194.0,195.0,196.0,198.0,199.0,200.0,201.0,202.0,204.0,205.0,206.0,208.0,209.0,210.0,211.0,213.0,214.0,215.0,217.0,218.0,219.0,220.0,222.0,223.0,224.0,226.0,227.0,228.0,229.0,230.0,232.0,233.0,234.0,236.0,237.0,238.0,239.0,240.0,242.0,243.0,244.0,246.0,247.0,248.0,249.0,251.0,252.0,253.0,255.0,256.0,257.0,258.0,260.0,261.0,262.0,264.0,265.0,266.0,267.0,268.0,270.0,271.0,272.0,274.0,275.0,276.0,277.0,278.0,279.0,281.0,282.0,283.0,285.0,286.0,288.0,289.0,290.0,292.0,293.0,294.0,295.0,296.0,298.0,299.0,300.0,302.0,303.0,304.0,305.0,306.0,308.0,309.0,310.0,312.0,313.0,314.0,315.0,316.0,317.0,319.0,320.0,321.0,323.0,324.0,326.0,327.0,328.0,330.0,331.0,332.0,333.0,334.0,336.0,337.0,338.0,340.0,341.0,342.0,343.0,344.0,345.0,346.0,348.0,350.0,351.0,352.0,353.0,355.0,356.0,357.0,359.0,360.0,361.0,362.0,363.0,365.0,366.0,367.0,369.0,370.0,371.0,372.0,373.0,375.0,376.0,377.0,379.0,380.0,381.0,382.0,383.0,384.0,386.0,387.0,388.0,390.0,391.0,392.0,393.0,395.0,396.0,397.0,399.0,400.0,401.0,402.0,404.0,405.0,406.0,408.0,409.0,410.0,411.0,412.0,414.0,415.0,416.0,418.0,419.0,420.0,421.0,423.0,424.0,425.0,427.0,428.0,429.0,430.0,432.0,433.0,434.0,436.0,437.0,438.0,439.0,440.0,441.0,443.0,444.0,445.0,447.0,448.0,450.0,451.0,452.0,454.0,455.0,456.0,457.0,458.0,459.0,460.0,462.0,464.0,465.0,466.0,467.0,469.0,470.0,471.0,473.0,474.0,475.0,476.0,477.0,479.0,480.0,481.0,483.0,484.0,485.0,486.0,487.0,489.0,490.0,491.0,493.0,494.0,495.0,496.0,497.0,498.0,500.0,501.0,502.0,504.0,505.0,506.0,507.0,509.0,510.0,511.0,513.0,514.0,515.0,516.0,518.0,519.0,520.0,522.0,523.0,524.0,525.0,526.0,527.0,529.0,530.0,531.0,533.0,534.0,536.0,537.0,538.0,540.0,541.0,542.0,543.0,544.0,545.0,546.0,548.0,550.0,551.0,552.0,553.0,555.0,556.0,557.0,559.0,560.0,561.0,562.0,563.0,565.0,566.0,567.0,569.0,570.0,571.0,572.0,573.0,575.0,576.0,577.0,579.0,580.0,581.0,582.0,583.0,584.0,586.0,587.0,588.0,590.0,591.0,592.0,593.0,595.0,596.0,597.0,599.0,600.0,601.0,602.0,604.0,605.0,606.0,608.0,609.0,610.0,611.0,612.0,613.0,615.0,616.0,617.0,619.0,620.0,621.0,622.0,624.0,625.0,626.0,628.0,629.0,630.0,631.0,632.0,634.0,635.0,636.0,638.0,639.0,640.0,641.0,643.0,644.0,645.0,647.0,648.0,649.0,650.0,652.0,653.0,654.0,656.0,657.0,658.0,659.0,661.0,662.0,663.0,665.0,666.0,667.0,668.0,669.0,670.0,672.0,673.0,674.0,676.0,677.0,678.0,679.0,681.0,682.0,683.0,685.0,686.0,687.0,688.0,690.0,691.0,692.0,694.0,695.0,696.0,697.0,698.0,699.0,701.0,702.0,703.0,705.0,706.0,707.0,708.0,710.0,711.0,712.0,714.0,715.0,716.0,717.0,718.0,720.0,721.0,722.0,724.0,725.0,726.0,727.0,729.0,730.0,731.0,733.0,734.0,735.0,736.0,737.0,739.0,740.0,741.0,743.0,744.0,745.0,746.0,748.0,749.0,750.0,752.0,753.0,754.0,755.0,756.0,758.0,759.0,760.0,762.0,763.0,764.0,765.0,767.0,768.0,769.0,771.0,772.0,773.0,774.0,776.0,777.0,778.0,780.0,781.0,782.0,783.0,784.0,785.0,787.0,788.0,789.0,791.0,792.0,793.0,794.0,796.0,797.0,798.0,800.0,801.0,802.0,803.0,805.0,806.0,807.0,809.0,810.0,811.0,812.0,814.0,815.0,816.0,818.0,819.0,820.0,821.0,822.0,823.0,825.0,826.0,827.0,829.0,830.0,831.0,832.0,834.0,835.0,836.0,838.0,839.0,840.0,841.0,842.0,844.0,845.0,846.0,848.0,849.0,850.0,851.0,853.0,854.0,855.0,857.0,858.0,859.0,860.0,861.0,863.0,864.0,865.0,867.0,868.0,869.0,870.0,872.0,873.0,874.0,876.0,877.0,878.0,879.0,880.0,882.0,883.0,884.0,886.0,887.0,888.0,889.0,891.0,892.0,893.0,895.0,896.0,897.0,898.0,899.0,900.0,902.0,903.0,904.0,906.0,907.0,909.0,910.0,911.0,913.0,914.0,915.0,916.0,917.0,918.0,919.0,921.0,922.0,923.0,925.0,926.0,928.0,929.0,930.0,932.0,933.0,934.0,935.0,936.0,937.0,938.0,940.0,941.0,942.0,944.0,945.0,946.0,947.0,949.0,950.0,951.0,953.0,954.0,955.0,956.0,958.0,959.0,960.0,962.0,963.0,964.0,965.0,967.0,968.0,969.0,971.0,972.0,973.0,974.0,975.0,976.0,978.0,979.0,980.0,982.0,983.0,984.0,985.0,987.0,988.0,989.0,991.0,992.0,993.0,994.0,995.0,997.0,998.0,999.0,1001.0,1002.0,1003.0,1004.0,1006.0,1007.0,1008.0,1010.0,1011.0,1012.0,1013.0,1014.0,1016.0,1017.0,1018.0,1020.0,1021.0,1022.0,1023.0,1025.0,1026.0,1027.0,1029.0,1030.0,1031.0,1032.0,1033.0,1034.0,1036.0,1037.0,1038.0,1040.0,1041.0,1043.0,1044.0,1045.0,1047.0,1048.0,1049.0,1050.0,1051.0,1052.0,1053.0,1055.0,1056.0,1057.0,1059.0,1060.0,1061.0,1062.0,1064.0,1065.0,1066.0,1068.0,1069.0,1070.0,1071.0,1073.0,1074.0,1075.0,1077.0,1078.0,1079.0,1080.0,1082.0,1083.0,1084.0,1086.0,1087.0,1088.0,1089.0,1090.0,1091.0,1093.0,1094.0,1095.0,1097.0,1098.0,1099.0,1100.0,1102.0,1103.0,1104.0,1106.0,1107.0,1108.0,1109.0,1110.0,1112.0,1113.0,1114.0,1116.0,1117.0,1118.0,1119.0,1121.0,1122.0,1123.0,1125.0,1126.0,1127.0,1128.0,1129.0,1131.0,1132.0,1133.0,1135.0,1136.0,1137.0,1138.0,1140.0,1141.0,1142.0,1144.0,1145.0,1146.0,1147.0,1148.0,1150.0,1151.0,1152.0,1154.0,1155.0,1156.0,1157.0,1159.0,1160.0,1161.0,1163.0,1164.0,1165.0,1166.0,1167.0,1169.0,1170.0,1171.0,1173.0,1174.0,1175.0,1176.0,1178.0,1179.0,1180.0,1182.0,1183.0,1184.0,1185.0,1186.0,1188.0,1189.0,1190.0,1192.0,1193.0,1194.0,1195.0,1197.0,1198.0,1199.0,1201.0,1202.0,1203.0,1204.0,1205.0,1207.0,1208.0,1209.0,1211.0,1212.0,1213.0,1214.0,1216.0,1217.0,1218.0,1220.0,1221.0,1222.0,1223.0,1224.0,1225.0,1227.0,1228.0,1229.0,1231.0,1232.0,1233.0,1234.0,1236.0,1237.0,1238.0,1240.0,1241.0,1242.0,1243.0,1244.0,1246.0,1247.0,1248.0,1250.0,1251.0,1252.0,1253.0,1255.0,1256.0,1257.0,1259.0,1260.0,1261.0,1262.0,1263.0,1265.0,1266.0,1267.0,1269.0,1270.0,1271.0,1272.0,1274.0,1275.0,1276.0,1278.0,1279.0,1280.0,1281.0,1282.0,1284.0,1285.0,1286.0,1288.0,1289.0,1290.0,1291.0,1293.0,1294.0,1295.0,1297.0,1298.0,1299.0,1300.0,1301.0,1303.0,1304.0,1305.0,1307.0,1308.0,1309.0,1310.0,1312.0,1313.0,1314.0,1316.0,1317.0,1318.0,1319.0,1320.0,1322.0,1323.0,1324.0,1326.0,1327.0,1328.0,1329.0,1331.0,1332.0,1333.0,1335.0,1336.0,1337.0,1338.0,1339.0,1340.0,1342.0,1343.0,1344.0,1346.0,1347.0,1348.0,1349.0,1351.0,1352.0,1353.0,1355.0,1356.0,1357.0,1358.0,1359.0,1361.0,1362.0,1363.0,1365.0,1366.0,1367.0,1368.0,1370.0,1371.0,1372.0,1374.0,1375.0,1376.0,1377.0,1378.0,1380.0,1381.0,1382.0,1384.0,1385.0,1386.0,1387.0,1389.0,1390.0,1391.0,1393.0,1394.0,1395.0,1396.0,1397.0,1399.0,1400.0,1401.0,1403.0,1404.0,1405.0,1406.0,1408.0,1409.0,1410.0,1412.0,1413.0,1414.0,1415.0,1416.0,1418.0,1419.0,1420.0,1422.0,1423.0,1424.0,1425.0,1427.0,1428.0,1429.0,1431.0,1432.0,1433.0,1434.0,1435.0,1436.0,1438.0,1439.0,1440.0,1442.0,1443.0,1445.0,1446.0,1447.0,1449.0,1450.0,1451.0,1452.0,1453.0,1454.0,1455.0,1457.0,1458.0,1459.0,1461.0,1462.0,1463.0,1464.0,1466.0,1467.0,1468.0,1470.0,1471.0,1472.0,1473.0,1475.0,1476.0,1477.0,1479.0,1480.0,1481.0,1482.0,1484.0,1485.0,1486.0,1488.0,1489.0,1490.0,1491.0,1492.0,1493.0,1495.0,1496.0,1497.0,1499.0,1500.0,1501.0,1502.0,1504.0,1505.0,1506.0,1508.0,1509.0,1510.0,1511.0,1512.0,1514.0,1515.0,1516.0,1518.0,1519.0,1520.0,1521.0,1523.0,1524.0,1525.0,1527.0,1528.0,1529.0,1530.0,1531.0,1533.0,1534.0,1535.0,1537.0,1538.0,1539.0,1540.0,1542.0,1543.0,1544.0,1546.0,1547.0,1548.0,1549.0,1550.0,1552.0,1553.0,1554.0,1556.0,1557.0,1558.0,1559.0,1561.0,1562.0,1563.0,1565.0,1566.0,1567.0,1568.0,1569.0,1570.0,1572.0,1573.0,1574.0,1576.0,1577.0,1579.0,1580.0,1581.0,1583.0,1584.0,1585.0,1586.0,1587.0,1588.0,1589.0,1591.0,1592.0,1593.0,1595.0,1596.0,1597.0,1598.0,1600.0,1601.0,1602.0,1604.0,1605.0,1606.0,1607.0,1608.0,1610.0,1611.0,1612.0,1614.0,1615.0,1617.0,1618.0,1619.0,1621.0,1622.0,1623.0,1624.0,1625.0,1626.0,1627.0,1629.0,1630.0,1631.0,1633.0,1634.0,1635.0,1636.0,1638.0,1639.0,1640.0,1642.0,1643.0,1644.0,1645.0,1647.0,1648.0,1649.0,1651.0,1652.0,1653.0,1654.0,1656.0,1657.0,1658.0,1660.0,1661.0,1662.0,1663.0,1664.0,1665.0,1667.0,1668.0,1669.0,1671.0,1672.0,1673.0,1674.0,1676.0,1677.0,1678.0,1680.0,1681.0,1682.0,1683.0,1684.0,1686.0,1687.0,1688.0,1690.0,1691.0,1692.0,1693.0,1695.0,1696.0,1697.0,1699.0,1700.0,1701.0,1702.0,1703.0,1705.0,1706.0,1707.0,1709.0,1710.0,1711.0,1712.0,1714.0,1715.0,1716.0,1718.0,1719.0,1720.0,1721.0,1722.0,1724.0,1725.0,1726.0,1728.0,1729.0,1730.0,1731.0,1733.0,1734.0,1735.0,1737.0,1738.0,1739.0,1740.0,1741.0,1742.0,1744.0,1745.0,1746.0,1748.0,1749.0,1751.0,1752.0,1753.0,1755.0,1756.0,1757.0,1758.0,1759.0,1760.0,1761.0,1763.0,1764.0,1765.0,1767.0,1768.0,1769.0,1770.0,1772.0,1773.0,1774.0,1776.0,1777.0,1778.0,1779.0,1781.0],\"y\":[-266413.75,-309279.25,-348006.09375,-376395.03125,-397859.03125,-406580.9375,-413799.21875,-424184.6875,-427677.15625,-430731.96875,-433101.4375,-437164.9375,-438824.90625,-442341.40625,-444171.5625,-445636.78125,-447254.34375,-447970.3125,-449135.03125,-452040.78125,-453579.15625,-457527.03125,-458354.28125,-459255.625,-459610.15625,-460270.84375,-462627.1875,-463062.0625,-466100.09375,-466781.0625,-467170.9375,-467694.1875,-469279.65625,-470216.75,-472200.96875,-472754.625,-473162.4375,-473605.9375,-473711.25,-473926.90625,-475836.78125,-476599.125,-477319.0625,-477434.875,-478251.40625,-478933.0625,-479181.875,-479990.625,-480511.21875,-480821.59375,-481397.5,-481900.0,-482336.875,-482925.9375,-482945.1875,-483616.5625,-484210.6875,-484337.625,-485056.0625,-485490.71875,-485694.8125,-486178.34375,-486615.9375,-486929.375,-487450.71875,-487791.28125,-488079.34375,-488450.28125,-488546.53125,-488930.1875,-489448.6875,-489660.1875,-490316.84375,-490609.15625,-490801.78125,-491090.8125,-491132.71875,-491383.625,-492048.25,-492164.25,-492989.90625,-493228.78125,-493394.125,-493609.84375,-493666.90625,-493826.96875,-494518.6875,-494728.71875,-495552.59375,-495742.8125,-495908.40625,-496056.78125,-496142.1875,-496211.75,-496903.8125,-497229.09375,-498054.25,-498204.53125,-498366.46875,-498461.09375,-498560.8125,-499056.9375,-499507.625,-500138.03125,-500281.03125,-500459.34375,-500534.375,-500702.46875,-501025.21875,-501250.375,-501643.96875,-501799.25,-501928.6875,-502074.1875,-502150.1875,-502270.0,-502616.1875,-502879.53125,-503305.5625,-503440.71875,-503562.0,-503675.78125,-503753.9375,-503827.09375,-504201.46875,-504518.8125,-504981.5,-505096.03125,-505212.09375,-505294.75,-505374.8125,-505402.5625,-505403.21875,-505944.40625,-506018.21875,-506733.46875,-506793.21875,-506924.03125,-507127.0625,-507287.59375,-507538.03125,-507652.625,-507749.8125,-507861.5625,-507919.15625,-508018.53125,-508246.21875,-508430.9375,-508714.78125,-508818.03125,-508908.15625,-508999.84375,-509057.09375,-509124.3125,-509381.09375,-509599.65625,-509922.28125,-510012.40625,-510099.59375,-510168.84375,-510228.15625,-510260.5,-510551.53125,-510820.96875,-511186.40625,-511261.84375,-511347.28125,-511393.625,-511454.25,-511679.1875,-511875.6875,-512175.3125,-512251.1875,-512339.34375,-512383.71875,-512463.8125,-512635.90625,-512774.71875,-512990.46875,-513071.84375,-513142.34375,-513215.53125,-513259.9375,-513315.0625,-513513.21875,-513679.28125,-513929.875,-514001.75,-514070.5,-514126.375,-514173.03125,-514200.09375,-514428.96875,-514640.5,-514930.46875,-514990.84375,-515059.625,-515096.34375,-515145.84375,-515325.25,-515478.875,-515718.53125,-515779.9375,-515850.46875,-515887.0,-515950.40625,-516090.5625,-516206.28125,-516382.8125,-516448.5,-516506.21875,-516564.71875,-516601.9375,-516644.96875,-516807.8125,-516951.53125,-517158.53125,-517216.84375,-517274.03125,-517318.3125,-517358.5,-517377.90625,-517380.65625,-517636.09375,-517708.5,-518052.6875,-518084.59375,-518153.53125,-518253.53125,-518335.4375,-518459.6875,-518519.9375,-518571.5,-518631.21875,-518661.75,-518716.0625,-518832.25,-518928.625,-519075.21875,-519130.96875,-519179.78125,-519229.65625,-519261.40625,-519298.59375,-519434.5625,-519557.8125,-519731.125,-519780.90625,-519830.03125,-519867.875,-519903.0625,-519919.90625,-519924.4375,-520137.6875,-520202.28125,-520489.78125,-520518.34375,-520576.8125,-520661.5625,-520735.03125,-520840.5,-520892.0625,-520937.03125,-520988.15625,-521015.90625,-521062.0625,-521160.75,-521250.0625,-521374.875,-521423.03125,-521465.9375,-521508.78125,-521538.0,-521569.4375,-521571.75,-521578.1875,-521790.40625,-521866.5625,-521944.125,-521950.9375,-522041.71875,-522108.28125,-522133.71875,-522213.40625,-522270.3125,-522309.28125,-522373.875,-522377.5,-522446.0,-522531.84375,-522554.4375,-522664.03125,-522712.96875,-522745.375,-522794.03125,-522805.3125,-522846.4375,-522957.4375,-522999.125,-523146.125,-523185.84375,-523223.4375,-523252.5,-523279.21875,-523286.75,-523290.5625,-523475.40625,-523483.625,-523725.375,-523750.59375,-523788.375,-523793.0625,-523814.5625,-523961.09375,-523976.71875,-524173.8125,-524202.65625,-524241.25,-524251.3125,-524280.4375,-524398.4375,-524432.5,-524585.375,-524620.0625,-524652.1875,-524677.25,-524695.0,-524701.1875,-524845.25,-524916.75,-525104.0,-525130.375,-525168.0,-525177.375,-525204.625,-525314.6875,-525351.25,-525498.3125,-525529.25,-525563.5,-525581.5,-525607.625,-525700.5625,-525767.6875,-525887.4375,-525920.5,-525953.0,-525977.75,-526000.75,-526010.375,-526012.4375,-526160.9375,-526194.125,-526393.625,-526412.375,-526451.3125,-526510.8125,-526561.3125,-526635.8125,-526670.75,-526701.1875,-526735.0625,-526754.625,-526783.9375,-526784.1875,-526801.1875,-526928.625,-526978.1875,-527026.6875,-527039.625,-527095.3125,-527141.0625,-527166.8125,-527221.9375,-527259.25,-527290.0625,-527331.625,-527342.3125,-527385.4375,-527442.4375,-527472.25,-527544.9375,-527578.5,-527605.0625,-527637.9375,-527652.5625,-527680.0,-527751.8125,-527805.0,-527899.5,-527928.8125,-527957.8125,-527979.875,-528003.25,-528011.4375,-528021.625,-528134.8125,-528160.4375,-528308.6875,-528330.4375,-528358.1875,-528367.375,-528385.5,-528477.0,-528513.125,-528635.25,-528659.0625,-528687.5625,-528700.0,-528722.75,-528797.0625,-528841.5625,-528937.75,-528964.5,-528989.9375,-529010.3125,-529027.6875,-529036.125,-529036.1875,-529157.9375,-529187.375,-529350.625,-529365.4375,-529397.25,-529445.5,-529485.375,-529546.125,-529574.5625,-529599.25,-529626.6875,-529642.5625,-529666.125,-529666.5,-529679.6875,-529784.1875,-529825.25,-529865.125,-529875.6875,-529921.875,-529958.875,-529979.5,-530023.875,-530054.625,-530080.1875,-530114.8125,-530123.125,-530159.75,-530205.625,-530228.75,-530286.8125,-530314.6875,-530336.4375,-530364.375,-530375.3125,-530399.9375,-530457.5625,-530495.5,-530570.9375,-530595.5625,-530618.6875,-530638.375,-530655.75,-530665.3125,-530670.625,-530765.5625,-530801.75,-530926.4375,-530943.5625,-530968.625,-530973.9375,-530992.6875,-531065.5,-531086.5625,-531183.1875,-531204.125,-531226.0,-531239.0625,-531254.6875,-531317.9375,-531371.4375,-531453.875,-531475.375,-531498.375,-531513.3125,-531531.25,-531534.5625,-531540.5,-531637.0625,-531644.75,-531773.9375,-531788.4375,-531812.125,-531813.625,-531831.625,-531905.8125,-531912.3125,-532009.4375,-532029.25,-532047.3125,-532060.8125,-532069.875,-532070.6875,-532163.375,-532198.625,-532320.9375,-532334.6875,-532358.5625,-532360.0,-532378.625,-532447.0,-532454.75,-532545.3125,-532564.375,-532582.625,-532595.0,-532606.0,-532668.0,-532723.875,-532805.0,-532823.625,-532845.25,-532856.375,-532874.125,-532923.25,-532965.0,-533029.5,-533049.625,-533069.875,-533084.875,-533101.4375,-533107.1875,-533115.0,-533191.1875,-533210.8125,-533311.25,-533326.375,-533346.1875,-533352.4375,-533366.375,-533427.3125,-533450.875,-533532.0,-533549.1875,-533568.0625,-533578.5,-533592.75,-533644.375,-533685.125,-533752.4375,-533770.6875,-533789.625,-533802.625,-533817.375,-533820.875,-533825.625,-533905.625,-533915.6875,-534022.5,-534034.6875,-534054.5625,-534056.25,-534071.5,-534132.75,-534139.5625,-534219.875,-534236.4375,-534251.875,-534263.1875,-534271.375,-534271.9375,-534348.875,-534383.25,-534484.9375,-534496.4375,-534517.0,-534517.9375,-534534.625,-534590.5,-534596.375,-534670.0,-534686.5625,-534701.25,-534712.8125,-534721.125,-534722.5,-534793.8125,-534831.25,-534926.3125,-534937.5625,-534958.25,-534958.875,-534976.875,-535027.5,-535033.0,-535099.0,-535115.9375,-535129.0625,-535142.4375,-535148.25,-535154.0,-535217.75,-535239.5,-535323.8125,-535336.3125,-535353.625,-535358.1875,-535371.3125,-535421.125,-535438.3125,-535504.125,-535519.0625,-535534.375,-535544.25,-535555.0625,-535598.625,-535640.5,-535697.625,-535712.875,-535729.4375,-535739.6875,-535753.4375,-535755.0625,-535761.4375,-535826.375,-535830.0,-535916.5,-535927.625,-535943.125,-535946.3125,-535957.25,-536009.375,-536020.6875,-536089.375,-536102.75,-536116.75,-536124.9375,-536134.0625,-536179.3125,-536214.875,-536274.75,-536288.4375,-536304.5,-536312.375,-536326.0,-536361.875,-536389.8125,-536436.5625,-536451.5,-536465.875,-536477.875,-536488.5625,-536494.5625,-536497.625,-536555.875,-536580.5,-536658.125,-536668.25,-536684.75,-536686.6875,-536700.5625,-536743.625,-536751.8125,-536808.125,-536821.9375,-536833.9375,-536844.375,-536850.9375,-536854.1875,-536908.4375,-536936.375,-537008.125,-537018.375,-537034.0625,-537037.0,-537049.875,-537090.375,-537101.8125,-537155.125,-537168.375,-537180.5625,-537190.1875,-537197.9375,-537200.375,-537251.5625,-537290.6875,-537359.0625,-537368.875,-537385.0,-537387.3125,-537401.6875,-537438.25,-537447.4375,-537495.125,-537508.625,-537519.6875,-537530.6875,-537536.6875,-537542.25,-537588.25,-537612.75,-537673.625,-537684.1875,-537698.1875,-537702.9375,-537714.125,-537750.0625,-537767.9375,-537815.125,-537827.5,-537839.8125,-537848.75,-537857.625,-537859.875,-537861.3125,-537919.8125,-537924.4375,-538002.4375,-538010.125,-538023.75,-538048.5,-538071.9375,-538103.8125,-538117.125,-538129.4375,-538141.25,-538150.5,-538159.0,-538162.5,-538163.625,-538218.625,-538229.9375,-538303.4375,-538310.9375,-538324.875,-538347.75,-538369.3125,-538398.4375,-538411.5625,-538423.4375,-538435.625,-538444.25,-538453.75,-538456.25,-538459.75,-538509.9375,-538517.625,-538584.3125,-538592.75,-538605.125,-538607.1875,-538616.3125,-538655.5625,-538663.125,-538715.0625,-538725.5625,-538736.3125,-538742.875,-538749.8125,-538784.4375,-538812.9375,-538858.75,-538869.3125,-538881.625,-538888.0625,-538898.3125,-538926.125,-538949.625,-538985.8125,-538997.5,-539009.0,-539017.875,-539026.9375,-539031.0,-539034.5625,-539078.5625,-539094.125,-539152.625,-539161.0,-539173.1875,-539175.8125,-539185.375,-539219.4375,-539229.375,-539274.0625,-539284.5625,-539294.75,-539302.0625,-539308.5625,-539309.6875,-539352.6875,-539387.125,-539444.3125,-539452.0625,-539465.5,-539466.6875,-539478.8125,-539509.0,-539515.1875,-539554.625,-539565.625,-539574.5,-539583.625,-539588.125,-539592.5625,-539630.875,-539649.375,-539700.3125,-539708.6875,-539720.3125,-539723.875,-539733.125,-539762.9375,-539776.4375,-539815.5625,-539825.875,-539835.625,-539843.0625,-539849.9375,-539852.0,-539852.4375,-539901.6875,-539905.75,-539971.625,-539977.5,-539989.1875,-540009.5,-540027.125,-540053.25,-540064.3125,-540074.1875,-540084.125,-540091.3125,-540098.6875,-540100.75,-540102.375,-540148.0,-540152.4375,-540213.375,-540219.625,-540230.625,-540230.9375,-540239.1875,-540273.9375,-540276.0625,-540322.125,-540331.0,-540339.5625,-540345.125,-540350.0,-540381.4375,-540406.875,-540448.625,-540457.3125,-540468.125,-540472.5,-540481.6875,-540506.1875,-540521.6875,-540553.5625,-540563.5,-540572.8125,-540580.5625,-540587.3125,-540590.875,-540592.3125,-540632.6875,-540646.6875,-540700.5,-540706.875,-540717.8125,-540718.625,-540727.5625,-540757.5,-540761.4375,-540800.875,-540809.8125,-540817.8125,-540824.25,-540828.625,-540829.875,-540867.9375,-540887.375,-540938.25,-540944.625,-540955.625,-540956.5,-540965.9375,-540993.625,-540997.9375,-541034.25,-541043.3125,-541051.0,-541057.875,-541062.0,-541064.3125,-541099.5625,-541116.5625,-541163.5,-541170.125,-541180.4375,-541182.3125,-541190.875,-541217.25,-541224.5625,-541259.125,-541267.875,-541275.8125,-541282.375,-541287.25,-541289.1875,-541322.625,-541346.0,-541390.5,-541397.1875,-541407.5625,-541409.375,-541418.5,-541442.8125,-541449.9375,-541481.6875,-541490.5,-541498.1875,-541505.125,-541509.625,-541512.6875,-541543.4375,-541563.375,-541604.1875,-541611.1875,-541620.9375,-541623.5625,-541632.0,-541655.1875,-541665.3125,-541695.6875,-541704.1875,-541712.0625,-541718.625,-541723.9375,-541726.5,-541755.8125,-541782.375,-541821.3125,-541828.1875,-541838.0625,-541840.8125,-541849.5,-541871.0,-541880.4375,-541908.375,-541916.9375,-541924.4375,-541931.5,-541936.375,-541939.9375,-541966.8125,-541989.5,-542025.25,-542032.3125,-542041.5625,-542045.0625,-542053.0625,-542073.625,-542085.75,-542112.6875,-542121.0,-542128.6875,-542135.375,-542140.875,-542144.125,-542144.8125,-542179.4375,-542192.75,-542239.0,-542244.125,-542253.6875,-542254.0625,-542261.9375,-542287.25,-542289.6875,-542322.875,-542330.625,-542337.1875,-542342.9375,-542346.25,-542347.75,-542379.875,-542393.6875,-542436.5625,-542442.0625,-542451.25,-542452.1875,-542459.8125,-542483.6875,-542488.25,-542519.5625,-542527.1875,-542533.875,-542539.5,-542543.3125,-542544.75,-542575.125,-542592.75,-542633.1875,-542638.8125,-542647.875,-542649.125,-542656.9375,-542679.125,-542684.3125,-542713.375,-542721.0,-542727.625,-542733.5,-542737.25,-542739.625,-542767.75,-542784.1875,-542821.5625,-542827.4375,-542836.0625,-542838.0,-542845.4375,-542866.5,-542874.0,-542901.6875,-542909.125,-542915.9375,-542921.5,-542925.9375,-542928.0,-542954.6875,-542976.3125,-543011.875,-543017.8125,-543026.5625,-543028.625,-543036.25,-543055.8125,-543063.125,-543088.625,-543096.0625,-543102.5625,-543108.6875,-543112.75,-543115.875,-543140.4375,-543158.5625,-543191.1875,-543197.375,-543205.5625,-543208.375,-543215.25,-543234.1875,-543244.3125,-543268.875,-543276.3125,-543283.125,-543288.75,-543293.5625,-543296.0625,-543296.6875,-543328.1875,-543337.1875,-543379.375,-543383.9375,-543392.1875,-543392.3125,-543399.0625,-543422.375,-543423.8125,-543454.5625,-543461.3125,-543467.125,-543471.9375,-543474.9375,-543475.625,-543505.375,-543518.1875,-543557.9375,-543562.625,-543570.9375,-543571.3125,-543578.375,-543600.0,-543602.3125,-543630.6875,-543637.5625,-543643.125,-543648.3125,-543651.25,-543652.8125,-543680.4375,-543691.875,-543728.625,-543733.625,-543741.4375,-543742.6875,-543749.0,-543769.9375,-543774.6875,-543802.0,-543808.625,-543814.75,-543819.4375,-543823.25,-543824.3125,-543850.6875,-543868.625,-543903.8125,-543908.75,-543916.9375,-543917.9375,-543925.25,-543944.1875,-543948.625,-543973.4375,-543980.3125,-543985.9375,-543991.4375,-543994.5,-543997.125,-544021.125,-544034.1875,-544066.3125,-544071.5625,-544078.9375,-544081.125,-544087.1875,-544105.75,-544113.75,-544138.125,-544144.625,-544150.875,-544155.625,-544159.9375,-544161.4375,-544161.625,-544192.625,-544196.4375,-544237.9375,-544241.75,-544249.1875,-544262.0625,-544273.0625,-544289.5625,-544296.5625,-544302.9375,-544309.25,-544313.9375,-544318.875,-544320.0625,-544321.3125,-544350.0,-544353.375,-544391.875,-544395.9375,-544403.125,-544403.375,-544408.8125,-544430.75,-544432.5,-544461.5625,-544467.25,-544472.875,-544476.625,-544479.75,-544499.875,-544518.0,-544544.6875,-544550.3125,-544557.5,-544560.375,-544566.5625,-544582.0,-544591.8125,-544612.0,-544618.375,-544624.375,-544629.625,-544634.0,-544636.8125,-544637.4375,-544663.4375,-544675.875,-544710.8125,-544715.125,-544722.5625,-544723.0,-544729.375,-544748.1875,-544750.625,-544775.375,-544781.5,-544786.5,-544791.3125,-544793.8125,-544795.5625,-544819.5,-544829.6875,-544861.75,-544866.3125,-544873.1875,-544874.4375,-544880.0625,-544898.4375,-544903.5,-544927.625,-544933.5625,-544938.9375,-544943.1875,-544946.625,-544947.625,-544970.875,-544988.625,-545019.8125,-545024.25,-545031.6875,-545032.5625,-545039.1875,-545055.75,-545059.625,-545081.375,-545087.625,-545092.5625,-545097.5625,-545100.25,-545102.75,-545123.9375,-545134.875,-545162.9375,-545167.75,-545174.25,-545176.375,-545181.6875,-545198.1875,-545206.125,-545227.9375,-545233.6875,-545239.3125,-545243.5625,-545247.625,-545248.875,-545249.25,-545276.6875,-545279.1875,-545315.875,-545319.3125,-545325.9375,-545337.4375,-545348.0,-545362.6875,-545369.0,-545374.6875,-545380.4375,-545384.6875,-545388.8125,-545390.3125,-545391.125,-545416.875,-545421.0625,-545455.625,-545459.25,-545465.8125,-545465.875,-545471.0,-545490.5625,-545491.5625,-545517.375,-545522.75,-545527.5,-545531.125,-545533.625,-545533.6875,-545558.75,-545569.125,-545602.6875,-545606.25,-545613.125,-545623.25,-545632.75,-545645.75,-545651.875,-545657.625,-545663.5,-545667.4375,-545672.375,-545673.5,-545675.8125,-545698.25,-545702.0625,-545732.125,-545736.25,-545742.0625,-545743.5,-545747.8125,-545765.8125,-545770.9375,-545794.8125,-545799.9375,-545805.1875,-545808.5,-545812.0,-545827.9375,-545842.5,-545863.75,-545868.9375,-545874.9375,-545878.0625,-545883.3125,-545896.0625,-545907.625,-545924.25,-545930.0625,-545935.5625,-545940.0625,-545944.5,-545946.875,-545948.4375,-545969.3125,-545979.75,-546007.5625,-546011.6875,-546017.9375,-546019.125,-546024.375,-546040.0625,-546044.6875,-546065.375,-546070.75,-546075.4375,-546079.5625,-546082.5,-546083.875,-546103.8125,-546117.3125,-546144.0625,-546148.1875,-546154.4375,-546155.75,-546161.1875,-546176.0,-546180.875,-546200.4375,-546205.75,-546210.5625,-546214.6875,-546217.6875,-546219.3125,-546238.3125,-546252.4375,-546277.8125,-546282.0625,-546288.25,-546289.75,-546295.25,-546309.1875,-546314.5,-546332.9375,-546338.3125,-546342.9375,-546347.3125,-546350.1875,-546352.3125,-546370.125,-546383.125,-546406.8125,-546411.125,-546417.0,-546418.9375,-546423.9375,-546437.6875,-546444.5,-546462.5625,-546467.6875,-546472.5625,-546476.625,-546480.0,-546481.6875,-546481.9375,-546505.125,-546510.5,-546541.75,-546544.8125,-546550.8125,-546560.4375,-546569.25,-546581.625,-546587.1875,-546592.25,-546597.375,-546600.9375,-546605.0,-546606.0625,-546607.375,-546629.0625,-546632.0625,-546661.125,-546664.5,-546670.0,-546670.5625,-546674.75,-546691.5,-546693.8125,-546716.1875,-546720.75,-546725.1875,-546728.1875,-546730.8125,-546746.1875],\"type\":\"scatter\"}],                        {\"template\":{\"data\":{\"barpolar\":[{\"marker\":{\"line\":{\"color\":\"#E5ECF6\",\"width\":0.5},\"pattern\":{\"fillmode\":\"overlay\",\"size\":10,\"solidity\":0.2}},\"type\":\"barpolar\"}],\"bar\":[{\"error_x\":{\"color\":\"#2a3f5f\"},\"error_y\":{\"color\":\"#2a3f5f\"},\"marker\":{\"line\":{\"color\":\"#E5ECF6\",\"width\":0.5},\"pattern\":{\"fillmode\":\"overlay\",\"size\":10,\"solidity\":0.2}},\"type\":\"bar\"}],\"carpet\":[{\"aaxis\":{\"endlinecolor\":\"#2a3f5f\",\"gridcolor\":\"white\",\"linecolor\":\"white\",\"minorgridcolor\":\"white\",\"startlinecolor\":\"#2a3f5f\"},\"baxis\":{\"endlinecolor\":\"#2a3f5f\",\"gridcolor\":\"white\",\"linecolor\":\"white\",\"minorgridcolor\":\"white\",\"startlinecolor\":\"#2a3f5f\"},\"type\":\"carpet\"}],\"choropleth\":[{\"colorbar\":{\"outlinewidth\":0,\"ticks\":\"\"},\"type\":\"choropleth\"}],\"contourcarpet\":[{\"colorbar\":{\"outlinewidth\":0,\"ticks\":\"\"},\"type\":\"contourcarpet\"}],\"contour\":[{\"colorbar\":{\"outlinewidth\":0,\"ticks\":\"\"},\"colorscale\":[[0.0,\"#0d0887\"],[0.1111111111111111,\"#46039f\"],[0.2222222222222222,\"#7201a8\"],[0.3333333333333333,\"#9c179e\"],[0.4444444444444444,\"#bd3786\"],[0.5555555555555556,\"#d8576b\"],[0.6666666666666666,\"#ed7953\"],[0.7777777777777778,\"#fb9f3a\"],[0.8888888888888888,\"#fdca26\"],[1.0,\"#f0f921\"]],\"type\":\"contour\"}],\"heatmapgl\":[{\"colorbar\":{\"outlinewidth\":0,\"ticks\":\"\"},\"colorscale\":[[0.0,\"#0d0887\"],[0.1111111111111111,\"#46039f\"],[0.2222222222222222,\"#7201a8\"],[0.3333333333333333,\"#9c179e\"],[0.4444444444444444,\"#bd3786\"],[0.5555555555555556,\"#d8576b\"],[0.6666666666666666,\"#ed7953\"],[0.7777777777777778,\"#fb9f3a\"],[0.8888888888888888,\"#fdca26\"],[1.0,\"#f0f921\"]],\"type\":\"heatmapgl\"}],\"heatmap\":[{\"colorbar\":{\"outlinewidth\":0,\"ticks\":\"\"},\"colorscale\":[[0.0,\"#0d0887\"],[0.1111111111111111,\"#46039f\"],[0.2222222222222222,\"#7201a8\"],[0.3333333333333333,\"#9c179e\"],[0.4444444444444444,\"#bd3786\"],[0.5555555555555556,\"#d8576b\"],[0.6666666666666666,\"#ed7953\"],[0.7777777777777778,\"#fb9f3a\"],[0.8888888888888888,\"#fdca26\"],[1.0,\"#f0f921\"]],\"type\":\"heatmap\"}],\"histogram2dcontour\":[{\"colorbar\":{\"outlinewidth\":0,\"ticks\":\"\"},\"colorscale\":[[0.0,\"#0d0887\"],[0.1111111111111111,\"#46039f\"],[0.2222222222222222,\"#7201a8\"],[0.3333333333333333,\"#9c179e\"],[0.4444444444444444,\"#bd3786\"],[0.5555555555555556,\"#d8576b\"],[0.6666666666666666,\"#ed7953\"],[0.7777777777777778,\"#fb9f3a\"],[0.8888888888888888,\"#fdca26\"],[1.0,\"#f0f921\"]],\"type\":\"histogram2dcontour\"}],\"histogram2d\":[{\"colorbar\":{\"outlinewidth\":0,\"ticks\":\"\"},\"colorscale\":[[0.0,\"#0d0887\"],[0.1111111111111111,\"#46039f\"],[0.2222222222222222,\"#7201a8\"],[0.3333333333333333,\"#9c179e\"],[0.4444444444444444,\"#bd3786\"],[0.5555555555555556,\"#d8576b\"],[0.6666666666666666,\"#ed7953\"],[0.7777777777777778,\"#fb9f3a\"],[0.8888888888888888,\"#fdca26\"],[1.0,\"#f0f921\"]],\"type\":\"histogram2d\"}],\"histogram\":[{\"marker\":{\"pattern\":{\"fillmode\":\"overlay\",\"size\":10,\"solidity\":0.2}},\"type\":\"histogram\"}],\"mesh3d\":[{\"colorbar\":{\"outlinewidth\":0,\"ticks\":\"\"},\"type\":\"mesh3d\"}],\"parcoords\":[{\"line\":{\"colorbar\":{\"outlinewidth\":0,\"ticks\":\"\"}},\"type\":\"parcoords\"}],\"pie\":[{\"automargin\":true,\"type\":\"pie\"}],\"scatter3d\":[{\"line\":{\"colorbar\":{\"outlinewidth\":0,\"ticks\":\"\"}},\"marker\":{\"colorbar\":{\"outlinewidth\":0,\"ticks\":\"\"}},\"type\":\"scatter3d\"}],\"scattercarpet\":[{\"marker\":{\"colorbar\":{\"outlinewidth\":0,\"ticks\":\"\"}},\"type\":\"scattercarpet\"}],\"scattergeo\":[{\"marker\":{\"colorbar\":{\"outlinewidth\":0,\"ticks\":\"\"}},\"type\":\"scattergeo\"}],\"scattergl\":[{\"marker\":{\"colorbar\":{\"outlinewidth\":0,\"ticks\":\"\"}},\"type\":\"scattergl\"}],\"scattermapbox\":[{\"marker\":{\"colorbar\":{\"outlinewidth\":0,\"ticks\":\"\"}},\"type\":\"scattermapbox\"}],\"scatterpolargl\":[{\"marker\":{\"colorbar\":{\"outlinewidth\":0,\"ticks\":\"\"}},\"type\":\"scatterpolargl\"}],\"scatterpolar\":[{\"marker\":{\"colorbar\":{\"outlinewidth\":0,\"ticks\":\"\"}},\"type\":\"scatterpolar\"}],\"scatter\":[{\"fillpattern\":{\"fillmode\":\"overlay\",\"size\":10,\"solidity\":0.2},\"type\":\"scatter\"}],\"scatterternary\":[{\"marker\":{\"colorbar\":{\"outlinewidth\":0,\"ticks\":\"\"}},\"type\":\"scatterternary\"}],\"surface\":[{\"colorbar\":{\"outlinewidth\":0,\"ticks\":\"\"},\"colorscale\":[[0.0,\"#0d0887\"],[0.1111111111111111,\"#46039f\"],[0.2222222222222222,\"#7201a8\"],[0.3333333333333333,\"#9c179e\"],[0.4444444444444444,\"#bd3786\"],[0.5555555555555556,\"#d8576b\"],[0.6666666666666666,\"#ed7953\"],[0.7777777777777778,\"#fb9f3a\"],[0.8888888888888888,\"#fdca26\"],[1.0,\"#f0f921\"]],\"type\":\"surface\"}],\"table\":[{\"cells\":{\"fill\":{\"color\":\"#EBF0F8\"},\"line\":{\"color\":\"white\"}},\"header\":{\"fill\":{\"color\":\"#C8D4E3\"},\"line\":{\"color\":\"white\"}},\"type\":\"table\"}]},\"layout\":{\"annotationdefaults\":{\"arrowcolor\":\"#2a3f5f\",\"arrowhead\":0,\"arrowwidth\":1},\"autotypenumbers\":\"strict\",\"coloraxis\":{\"colorbar\":{\"outlinewidth\":0,\"ticks\":\"\"}},\"colorscale\":{\"diverging\":[[0,\"#8e0152\"],[0.1,\"#c51b7d\"],[0.2,\"#de77ae\"],[0.3,\"#f1b6da\"],[0.4,\"#fde0ef\"],[0.5,\"#f7f7f7\"],[0.6,\"#e6f5d0\"],[0.7,\"#b8e186\"],[0.8,\"#7fbc41\"],[0.9,\"#4d9221\"],[1,\"#276419\"]],\"sequential\":[[0.0,\"#0d0887\"],[0.1111111111111111,\"#46039f\"],[0.2222222222222222,\"#7201a8\"],[0.3333333333333333,\"#9c179e\"],[0.4444444444444444,\"#bd3786\"],[0.5555555555555556,\"#d8576b\"],[0.6666666666666666,\"#ed7953\"],[0.7777777777777778,\"#fb9f3a\"],[0.8888888888888888,\"#fdca26\"],[1.0,\"#f0f921\"]],\"sequentialminus\":[[0.0,\"#0d0887\"],[0.1111111111111111,\"#46039f\"],[0.2222222222222222,\"#7201a8\"],[0.3333333333333333,\"#9c179e\"],[0.4444444444444444,\"#bd3786\"],[0.5555555555555556,\"#d8576b\"],[0.6666666666666666,\"#ed7953\"],[0.7777777777777778,\"#fb9f3a\"],[0.8888888888888888,\"#fdca26\"],[1.0,\"#f0f921\"]]},\"colorway\":[\"#636efa\",\"#EF553B\",\"#00cc96\",\"#ab63fa\",\"#FFA15A\",\"#19d3f3\",\"#FF6692\",\"#B6E880\",\"#FF97FF\",\"#FECB52\"],\"font\":{\"color\":\"#2a3f5f\"},\"geo\":{\"bgcolor\":\"white\",\"lakecolor\":\"white\",\"landcolor\":\"#E5ECF6\",\"showlakes\":true,\"showland\":true,\"subunitcolor\":\"white\"},\"hoverlabel\":{\"align\":\"left\"},\"hovermode\":\"closest\",\"mapbox\":{\"style\":\"light\"},\"paper_bgcolor\":\"white\",\"plot_bgcolor\":\"#E5ECF6\",\"polar\":{\"angularaxis\":{\"gridcolor\":\"white\",\"linecolor\":\"white\",\"ticks\":\"\"},\"bgcolor\":\"#E5ECF6\",\"radialaxis\":{\"gridcolor\":\"white\",\"linecolor\":\"white\",\"ticks\":\"\"}},\"scene\":{\"xaxis\":{\"backgroundcolor\":\"#E5ECF6\",\"gridcolor\":\"white\",\"gridwidth\":2,\"linecolor\":\"white\",\"showbackground\":true,\"ticks\":\"\",\"zerolinecolor\":\"white\"},\"yaxis\":{\"backgroundcolor\":\"#E5ECF6\",\"gridcolor\":\"white\",\"gridwidth\":2,\"linecolor\":\"white\",\"showbackground\":true,\"ticks\":\"\",\"zerolinecolor\":\"white\"},\"zaxis\":{\"backgroundcolor\":\"#E5ECF6\",\"gridcolor\":\"white\",\"gridwidth\":2,\"linecolor\":\"white\",\"showbackground\":true,\"ticks\":\"\",\"zerolinecolor\":\"white\"}},\"shapedefaults\":{\"line\":{\"color\":\"#2a3f5f\"}},\"ternary\":{\"aaxis\":{\"gridcolor\":\"white\",\"linecolor\":\"white\",\"ticks\":\"\"},\"baxis\":{\"gridcolor\":\"white\",\"linecolor\":\"white\",\"ticks\":\"\"},\"bgcolor\":\"#E5ECF6\",\"caxis\":{\"gridcolor\":\"white\",\"linecolor\":\"white\",\"ticks\":\"\"}},\"title\":{\"x\":0.05},\"xaxis\":{\"automargin\":true,\"gridcolor\":\"white\",\"linecolor\":\"white\",\"ticks\":\"\",\"title\":{\"standoff\":15},\"zerolinecolor\":\"white\",\"zerolinewidth\":2},\"yaxis\":{\"automargin\":true,\"gridcolor\":\"white\",\"linecolor\":\"white\",\"ticks\":\"\",\"title\":{\"standoff\":15},\"zerolinecolor\":\"white\",\"zerolinewidth\":2}}},\"title\":{\"text\":\"Energy Minimization\"},\"xaxis\":{\"title\":{\"text\":\"Energy Minimization Step\"}},\"yaxis\":{\"title\":{\"text\":\"Potential Energy KJ/mol-1\"}}},                        {\"responsive\": true}                    ).then(function(){\n",
       "                            \n",
       "var gd = document.getElementById('4fe9e94a-9582-4071-8514-608ea994b611');\n",
       "var x = new MutationObserver(function (mutations, observer) {{\n",
       "        var display = window.getComputedStyle(gd).display;\n",
       "        if (!display || display === 'none') {{\n",
       "            console.log([gd, 'removed!']);\n",
       "            Plotly.purge(gd);\n",
       "            observer.disconnect();\n",
       "        }}\n",
       "}});\n",
       "\n",
       "// Listen for the removal of the full notebook cells\n",
       "var notebookContainer = gd.closest('#notebook-container');\n",
       "if (notebookContainer) {{\n",
       "    x.observe(notebookContainer, {childList: true});\n",
       "}}\n",
       "\n",
       "// Listen for the clearing of the current output cell\n",
       "var outputEl = gd.closest('.output');\n",
       "if (outputEl) {{\n",
       "    x.observe(outputEl, {childList: true});\n",
       "}}\n",
       "\n",
       "                        })                };                });            </script>        </div>"
      ]
     },
     "metadata": {},
     "output_type": "display_data"
    }
   ],
   "source": [
    "import plotly\n",
    "import plotly.graph_objs as go\n",
    "\n",
    "#Read data from file and filter energy values higher than 1000 Kj/mol^-1\n",
    "with open(output_min_ene_xvg,'r') as energy_file:\n",
    "    x,y = map(\n",
    "        list,\n",
    "        zip(*[\n",
    "            (float(line.split()[0]),float(line.split()[1]))\n",
    "            for line in energy_file \n",
    "            if not line.startswith((\"#\",\"@\")) \n",
    "            if float(line.split()[1]) < 1000 \n",
    "        ])\n",
    "    )\n",
    "\n",
    "plotly.offline.init_notebook_mode(connected=True)\n",
    "\n",
    "fig = ({\n",
    "    \"data\": [go.Scatter(x=x, y=y)],\n",
    "    \"layout\": go.Layout(title=\"Energy Minimization\",\n",
    "                        xaxis=dict(title = \"Energy Minimization Step\"),\n",
    "                        yaxis=dict(title = \"Potential Energy KJ/mol-1\")\n",
    "                       )\n",
    "})\n",
    "\n",
    "plotly.offline.iplot(fig)"
   ]
  },
  {
   "cell_type": "markdown",
   "metadata": {},
   "source": [
    "<a id=\"nvt\"></a>\n",
    "***\n",
    "## Equilibrate the system (NVT)\n",
    "Equilibrate the **protein-ligand complex** system in NVT ensemble (constant Number of particles, Volume and Temperature). To avoid temperature coupling problems, a new *\"system\"* group will be created including the **protein** + the **ligand** to be assigned to a single thermostatting group.\n",
    "\n",
    "- [Step 1](#eqNVTStep1): Creating an index file with a new group including the **protein-ligand complex**.\n",
    "- [Step 2](#eqNVTStep3): Creating portable binary run file for system equilibration\n",
    "- [Step 3](#eqNVTStep3): Equilibrate the **protein-ligand complex** with NVT ensemble.\n",
    "- [Step 4](#eqNVTStep4): Checking **NVT Equilibration** results. Plotting **system temperature** by time during the **NVT equilibration** process. \n",
    "***\n",
    "**Building Blocks** used:\n",
    "- [MakeNdx](https://biobb-md.readthedocs.io/en/latest/gromacs.html#module-gromacs.make_ndx) from **biobb_md.gromacs.make_ndx** \n",
    "- [Grompp](https://biobb-md.readthedocs.io/en/latest/gromacs.html#module-gromacs.grompp) from **biobb_md.gromacs.grompp** \n",
    "- [Mdrun](https://biobb-md.readthedocs.io/en/latest/gromacs.html#module-gromacs.mdrun) from **biobb_md.gromacs.mdrun** \n",
    "- [GMXEnergy](https://biobb-analysis.readthedocs.io/en/latest/gromacs.html#module-gromacs.gmx_energy) from **biobb_analysis.gromacs.gmx_energy** \n",
    "***"
   ]
  },
  {
   "cell_type": "markdown",
   "metadata": {},
   "source": [
    "<a id=\"eqNVTStep1\"></a>\n",
    "### Step 1: Creating an index file with a new group including the **protein-ligand complex**"
   ]
  },
  {
   "cell_type": "code",
   "execution_count": 27,
   "metadata": {
    "scrolled": true
   },
   "outputs": [
    {
     "name": "stdout",
     "output_type": "stream",
     "text": [
      "2022-04-26 18:34:23,666 [MainThread  ] [INFO ]  GROMACS MakeNdx 20191 version detected\n",
      "2022-04-26 18:34:23,668 [MainThread  ] [INFO ]  Not using any container\n",
      "2022-04-26 18:34:23,779 [MainThread  ] [INFO ]  echo -e '\"Protein\"|\"Other\"\\nq' | gmx -nobackup -nocopyright make_ndx -f 3HTB_JZ4_min.gro -o 3HTB_JZ4_index.ndx\n",
      "\n",
      "2022-04-26 18:34:23,781 [MainThread  ] [INFO ]  Exit code 0\n",
      "\n",
      "2022-04-26 18:34:23,782 [MainThread  ] [INFO ]  Going to read 0 old index file(s)\n",
      "Analysing residue names:\n",
      "There are:   163    Protein residues\n",
      "There are:     1      Other residues\n",
      "There are:  9505      Water residues\n",
      "There are:    26        Ion residues\n",
      "Analysing Protein...\n",
      "Analysing residues not classified as Protein/DNA/RNA/Water and splitting into groups...\n",
      "Analysing residues not classified as Protein/DNA/RNA/Water and splitting into groups...\n",
      "\n",
      "  0 System              : 31177 atoms\n",
      "  1 Protein             :  2614 atoms\n",
      "  2 Protein-H           :  1301 atoms\n",
      "  3 C-alpha             :   163 atoms\n",
      "  4 Backbone            :   489 atoms\n",
      "  5 MainChain           :   653 atoms\n",
      "  6 MainChain+Cb        :   805 atoms\n",
      "  7 MainChain+H         :   815 atoms\n",
      "  8 SideChain           :  1799 atoms\n",
      "  9 SideChain-H         :   648 atoms\n",
      " 10 Prot-Masses         :  2614 atoms\n",
      " 11 non-Protein         : 28563 atoms\n",
      " 12 Other               :    22 atoms\n",
      " 13 JZ4                 :    22 atoms\n",
      " 14 NA                  :    10 atoms\n",
      " 15 CL                  :    16 atoms\n",
      " 16 Water               : 28515 atoms\n",
      " 17 SOL                 : 28515 atoms\n",
      " 18 non-Water           :  2662 atoms\n",
      " 19 Ion                 :    26 atoms\n",
      " 20 JZ4                 :    22 atoms\n",
      " 21 NA                  :    10 atoms\n",
      " 22 CL                  :    16 atoms\n",
      " 23 Water_and_ions      : 28541 atoms\n",
      "\n",
      " nr : group      '!': not  'name' nr name   'splitch' nr    Enter: list groups\n",
      " 'a': atom       '&': and  'del' nr         'splitres' nr   'l': list residues\n",
      " 't': atom type  '|': or   'keep' nr        'splitat' nr    'h': help\n",
      " 'r': residue              'res' nr         'chain' char\n",
      " \"name\": group             'case': case sensitive           'q': save and quit\n",
      " 'ri': residue index\n",
      "\n",
      "> \n",
      "Copied index group 1 'Protein'\n",
      "Copied index group 12 'Other'\n",
      "Merged two groups with OR: 2614 22 -> 2636\n",
      "\n",
      " 24 Protein_Other       :  2636 atoms\n",
      "\n",
      "> \n",
      "\n",
      "2022-04-26 18:34:23,783 [MainThread  ] [INFO ]                       :-) GROMACS - gmx make_ndx, 2019.1 (-:\n",
      "\n",
      "Executable:   /home/ma/miniconda3/envs/biobb_Protein-Complex_MDsetup_tutorial/bin/gmx\n",
      "Data prefix:  /home/ma/miniconda3/envs/biobb_Protein-Complex_MDsetup_tutorial\n",
      "Working dir:  /home/ma/git/druglord/temp/3HTB\n",
      "Command line:\n",
      "  gmx -nobackup -nocopyright make_ndx -f 3HTB_JZ4_min.gro -o 3HTB_JZ4_index.ndx\n",
      "\n",
      "\n",
      "Reading structure file\n",
      "\n",
      "GROMACS reminds you: \"Royale With Cheese\" (Pulp Fiction)\n",
      "\n",
      "\n",
      "2022-04-26 18:34:23,784 [MainThread  ] [INFO ]  Removed: []\n"
     ]
    },
    {
     "data": {
      "text/plain": [
       "0"
      ]
     },
     "execution_count": 27,
     "metadata": {},
     "output_type": "execute_result"
    }
   ],
   "source": [
    "# MakeNdx: Creating index file with a new group (protein-ligand complex)\n",
    "from biobb_md.gromacs.make_ndx import make_ndx\n",
    "\n",
    "# Create prop dict and inputs/outputs\n",
    "output_complex_ndx = pdbCode+'_'+ligandCode+'_index.ndx'\n",
    "prop = {\n",
    "    'selection': \"\\\"Protein\\\"|\\\"Other\\\"\" \n",
    "}\n",
    "\n",
    "# Create and launch bb\n",
    "make_ndx(input_structure_path=output_min_gro,\n",
    "        output_ndx_path=output_complex_ndx,\n",
    "        properties=prop)"
   ]
  },
  {
   "cell_type": "markdown",
   "metadata": {},
   "source": [
    "<a id=\"eqNVTStep2\"></a>\n",
    "### Step 2: Creating portable binary run file for system equilibration (NVT)\n",
    "Note that for the purposes of temperature coupling, the **protein-ligand complex** (*Protein_Other*) is considered as a single entity."
   ]
  },
  {
   "cell_type": "code",
   "execution_count": 28,
   "metadata": {
    "scrolled": true
   },
   "outputs": [
    {
     "name": "stdout",
     "output_type": "stream",
     "text": [
      "2022-04-26 18:34:24,084 [MainThread  ] [INFO ]  GROMACS Grompp 20191 version detected\n",
      "2022-04-26 18:34:24,090 [MainThread  ] [INFO ]  Extracting: /home/ma/git/druglord/temp/3HTB/3HTB_JZ4_genion_top.zip\n",
      "2022-04-26 18:34:24,091 [MainThread  ] [INFO ]  to:\n",
      "2022-04-26 18:34:24,092 [MainThread  ] [INFO ]  ['cd5452f5-ab48-4f19-855b-96cacb9f05a6/JZ4_posres.itp', 'cd5452f5-ab48-4f19-855b-96cacb9f05a6/JZ4params.itp', 'cd5452f5-ab48-4f19-855b-96cacb9f05a6/ligand.top', 'cd5452f5-ab48-4f19-855b-96cacb9f05a6/posre.itp']\n",
      "2022-04-26 18:34:24,093 [MainThread  ] [INFO ]  Unzipping: \n",
      "2022-04-26 18:34:24,094 [MainThread  ] [INFO ]  3HTB_JZ4_genion_top.zip\n",
      "2022-04-26 18:34:24,094 [MainThread  ] [INFO ]  To: \n",
      "2022-04-26 18:34:24,095 [MainThread  ] [INFO ]  cd5452f5-ab48-4f19-855b-96cacb9f05a6/JZ4_posres.itp\n",
      "2022-04-26 18:34:24,096 [MainThread  ] [INFO ]  cd5452f5-ab48-4f19-855b-96cacb9f05a6/JZ4params.itp\n",
      "2022-04-26 18:34:24,096 [MainThread  ] [INFO ]  cd5452f5-ab48-4f19-855b-96cacb9f05a6/ligand.top\n",
      "2022-04-26 18:34:24,097 [MainThread  ] [INFO ]  cd5452f5-ab48-4f19-855b-96cacb9f05a6/posre.itp\n",
      "2022-04-26 18:34:24,098 [MainThread  ] [INFO ]  Not using any container\n",
      "2022-04-26 18:34:24,528 [MainThread  ] [INFO ]  gmx -nobackup -nocopyright grompp -f 856f082e-3f70-45ff-9577-f2544659e34f/grompp.mdp -c 3HTB_JZ4_min.gro -r 3HTB_JZ4_min.gro -p cd5452f5-ab48-4f19-855b-96cacb9f05a6/ligand.top -o 3HTB_JZ4gppnvt.tpr -po mdout.mdp -maxwarn 0 -n 3HTB_JZ4_index.ndx\n",
      "\n",
      "2022-04-26 18:34:24,530 [MainThread  ] [INFO ]  Exit code 0\n",
      "\n",
      "2022-04-26 18:34:24,531 [MainThread  ] [INFO ]  turning H bonds into constraints...\n",
      "turning H bonds into constraints...\n",
      "turning H bonds into constraints...\n",
      "turning H bonds into constraints...\n",
      "turning H bonds into constraints...\n",
      "Determining Verlet buffer for a tolerance of 0.005 kJ/mol/ps at 300 K\n",
      "Calculated rlist for 1x1 atom pair-list as 1.034 nm, buffer size 0.034 nm\n",
      "Set rlist, assuming 4x4 atom pair-list, to 1.000 nm, buffer size 0.000 nm\n",
      "Note that mdrun will redetermine rlist based on the actual pair-list setup\n",
      "Calculating fourier grid dimensions for X Y Z\n",
      "Using a fourier grid of 64x64x64, spacing 0.116 0.116 0.116\n",
      "This run will generate roughly 11 Mb of data\n",
      "\n",
      "2022-04-26 18:34:24,532 [MainThread  ] [INFO ]                        :-) GROMACS - gmx grompp, 2019.1 (-:\n",
      "\n",
      "Executable:   /home/ma/miniconda3/envs/biobb_Protein-Complex_MDsetup_tutorial/bin/gmx\n",
      "Data prefix:  /home/ma/miniconda3/envs/biobb_Protein-Complex_MDsetup_tutorial\n",
      "Working dir:  /home/ma/git/druglord/temp/3HTB\n",
      "Command line:\n",
      "  gmx -nobackup -nocopyright grompp -f 856f082e-3f70-45ff-9577-f2544659e34f/grompp.mdp -c 3HTB_JZ4_min.gro -r 3HTB_JZ4_min.gro -p cd5452f5-ab48-4f19-855b-96cacb9f05a6/ligand.top -o 3HTB_JZ4gppnvt.tpr -po mdout.mdp -maxwarn 0 -n 3HTB_JZ4_index.ndx\n",
      "\n",
      "Setting the LD random seed to 1789303178\n",
      "Generated 2556 of the 2556 non-bonded parameter combinations\n",
      "Generating 1-4 interactions: fudge = 0.5\n",
      "Generated 2556 of the 2556 1-4 parameter combinations\n",
      "Excluding 3 bonded neighbours molecule type 'Protein_chain_A'\n",
      "Excluding 3 bonded neighbours molecule type 'JZ4params'\n",
      "Excluding 2 bonded neighbours molecule type 'SOL'\n",
      "Excluding 1 bonded neighbours molecule type 'NA'\n",
      "Excluding 1 bonded neighbours molecule type 'CL'\n",
      "Setting gen_seed to 227576258\n",
      "Velocities were taken from a Maxwell distribution at 300 K\n",
      "Removing all charge groups because cutoff-scheme=Verlet\n",
      "Number of degrees of freedom in T-Coupling group Protein_Other is 6582.69\n",
      "Number of degrees of freedom in T-Coupling group Water_and_ions is 57105.31\n",
      "Estimate for the relative computational load of the PME mesh part: 0.20\n",
      "\n",
      "GROMACS reminds you: \"This work contains many things which are new and interesting. Unfortunately, everything that is new is not interesting, and everything which is interesting, is not new.\" (Lev Landau)\n",
      "\n",
      "\n",
      "2022-04-26 18:34:24,535 [MainThread  ] [INFO ]  Removed: ['mdout.mdp', 'cd5452f5-ab48-4f19-855b-96cacb9f05a6', '856f082e-3f70-45ff-9577-f2544659e34f']\n"
     ]
    },
    {
     "data": {
      "text/plain": [
       "0"
      ]
     },
     "execution_count": 28,
     "metadata": {},
     "output_type": "execute_result"
    }
   ],
   "source": [
    "# Grompp: Creating portable binary run file for NVT System Equilibration\n",
    "from biobb_md.gromacs.grompp import grompp\n",
    "\n",
    "# Create prop dict and inputs/outputs\n",
    "output_gppnvt_tpr = pdbCode+'_'+ligandCode+'gppnvt.tpr'\n",
    "prop = {\n",
    "    'mdp':{\n",
    "        'nsteps':'5000',\n",
    "        'tc-grps': 'Protein_Other Water_and_ions',\n",
    "        'Define': '-DPOSRES -D' + posresifdef\n",
    "    },\n",
    "    'simulation_type':'nvt'\n",
    "}\n",
    "\n",
    "# Create and launch bb\n",
    "grompp(input_gro_path=output_min_gro,\n",
    "       input_top_zip_path=output_genion_top_zip,\n",
    "       input_ndx_path=output_complex_ndx,\n",
    "       output_tpr_path=output_gppnvt_tpr,\n",
    "       properties=prop)"
   ]
  },
  {
   "cell_type": "markdown",
   "metadata": {},
   "source": [
    "<a id=\"eqNVTStep3\"></a>\n",
    "### Step 3: Running NVT equilibration"
   ]
  },
  {
   "cell_type": "code",
   "execution_count": 29,
   "metadata": {
    "scrolled": true
   },
   "outputs": [
    {
     "name": "stdout",
     "output_type": "stream",
     "text": [
      "2022-04-26 18:34:24,807 [MainThread  ] [INFO ]  GROMACS Mdrun 20191 version detected\n",
      "2022-04-26 18:34:24,809 [MainThread  ] [INFO ]  Not using any container\n",
      "2022-04-26 18:34:39,421 [MainThread  ] [INFO ]  gmx -nobackup -nocopyright mdrun -s 3HTB_JZ4gppnvt.tpr -o 3HTB_JZ4_nvt.trr -c 3HTB_JZ4_nvt.gro -e 3HTB_JZ4_nvt.edr -g 3HTB_JZ4_nvt.log -cpo 3HTB_JZ4_nvt.cpt\n",
      "\n",
      "2022-04-26 18:34:39,423 [MainThread  ] [INFO ]  Exit code 0\n",
      "\n",
      "2022-04-26 18:34:39,424 [MainThread  ] [INFO ]                        :-) GROMACS - gmx mdrun, 2019.1 (-:\n",
      "\n",
      "Executable:   /home/ma/miniconda3/envs/biobb_Protein-Complex_MDsetup_tutorial/bin/gmx\n",
      "Data prefix:  /home/ma/miniconda3/envs/biobb_Protein-Complex_MDsetup_tutorial\n",
      "Working dir:  /home/ma/git/druglord/temp/3HTB\n",
      "Command line:\n",
      "  gmx -nobackup -nocopyright mdrun -s 3HTB_JZ4gppnvt.tpr -o 3HTB_JZ4_nvt.trr -c 3HTB_JZ4_nvt.gro -e 3HTB_JZ4_nvt.edr -g 3HTB_JZ4_nvt.log -cpo 3HTB_JZ4_nvt.cpt\n",
      "\n",
      "Compiled SIMD: SSE2, but for this host/run AVX_512 might be better (see log).\n",
      "The current CPU can measure timings more accurately than the code in\n",
      "gmx mdrun was configured to use. This might affect your simulation\n",
      "speed as accurate timings are needed for load-balancing.\n",
      "Please consider rebuilding gmx mdrun with the GMX_USE_RDTSCP=ON CMake option.\n",
      "Reading file 3HTB_JZ4gppnvt.tpr, VERSION 2019.1 (single precision)\n",
      "Changing nstlist from 10 to 50, rlist from 1 to 1.112\n",
      "\n",
      "\n",
      "Using 72 MPI threads\n",
      "Using 1 OpenMP thread per tMPI thread\n",
      "\n",
      "starting mdrun 'Protein in water'\n",
      "5000 steps,     10.0 ps.\n",
      "\n",
      "Writing final coordinates.\n",
      "\n",
      "\n",
      "Dynamic load balancing report:\n",
      " DLB was off during the run due to low measured imbalance.\n",
      " Average load imbalance: 10.7%.\n",
      " The balanceable part of the MD step is 76%, load imbalance is computed from this.\n",
      " Part of the total run time spent waiting due to load imbalance: 8.1%.\n",
      " Average PME mesh/force load: 0.846\n",
      " Part of the total run time spent waiting due to PP/PME imbalance: 2.2 %\n",
      "\n",
      "NOTE: 8.1 % of the available CPU time was lost due to load imbalance\n",
      "      in the domain decomposition.\n",
      "      You might want to use dynamic load balancing (option -dlb.)\n",
      "      You can also consider manually changing the decomposition (option -dd);\n",
      "      e.g. by using fewer domains along the box dimension in which there is\n",
      "      considerable inhomogeneity in the simulated system.\n",
      "\n",
      "               Core t (s)   Wall t (s)        (%)\n",
      "       Time:      797.329       11.075     7199.4\n",
      "                 (ns/day)    (hour/ns)\n",
      "Performance:       78.030        0.308\n",
      "\n",
      "GROMACS reminds you: \"These are Ideas, They are Not Lies\" (Magnapop)\n",
      "\n",
      "\n",
      "2022-04-26 18:34:39,425 [MainThread  ] [INFO ]  Removed: []\n"
     ]
    },
    {
     "data": {
      "text/plain": [
       "0"
      ]
     },
     "execution_count": 29,
     "metadata": {},
     "output_type": "execute_result"
    }
   ],
   "source": [
    "# Mdrun: Running NVT System Equilibration \n",
    "from biobb_md.gromacs.mdrun import mdrun\n",
    "\n",
    "# Create prop dict and inputs/outputs\n",
    "output_nvt_trr = pdbCode+'_'+ligandCode+'_nvt.trr'\n",
    "output_nvt_gro = pdbCode+'_'+ligandCode+'_nvt.gro'\n",
    "output_nvt_edr = pdbCode+'_'+ligandCode+'_nvt.edr'\n",
    "output_nvt_log = pdbCode+'_'+ligandCode+'_nvt.log'\n",
    "output_nvt_cpt = pdbCode+'_'+ligandCode+'_nvt.cpt'\n",
    "\n",
    "# Create and launch bb\n",
    "mdrun(input_tpr_path=output_gppnvt_tpr,\n",
    "      output_trr_path=output_nvt_trr,\n",
    "      output_gro_path=output_nvt_gro,\n",
    "      output_edr_path=output_nvt_edr,\n",
    "      output_log_path=output_nvt_log,\n",
    "      output_cpt_path=output_nvt_cpt)"
   ]
  },
  {
   "cell_type": "markdown",
   "metadata": {},
   "source": [
    "<a id=\"eqNVTStep4\"></a>\n",
    "### Step 4: Checking NVT Equilibration results\n",
    "Checking **NVT Equilibration** results. Plotting **system temperature** by time during the NVT equilibration process. "
   ]
  },
  {
   "cell_type": "code",
   "execution_count": 30,
   "metadata": {
    "scrolled": true
   },
   "outputs": [
    {
     "name": "stdout",
     "output_type": "stream",
     "text": [
      "2022-04-26 18:34:39,795 [MainThread  ] [INFO ]  Not using any container\n",
      "2022-04-26 18:34:39,824 [MainThread  ] [INFO ]  gmx energy -f /home/ma/git/druglord/temp/3HTB/3HTB_JZ4_nvt.edr -o 3HTB_JZ4_nvt_temp.xvg -xvg none < 890e1776-a3a7-40dd-95e8-c0281b4023b0/instructions.in\n",
      "\n",
      "2022-04-26 18:34:39,825 [MainThread  ] [INFO ]  Exit code 0\n",
      "\n",
      "2022-04-26 18:34:39,826 [MainThread  ] [INFO ]  \n",
      "Statistics over 5001 steps [ 0.0000 through 10.0000 ps ], 1 data sets\n",
      "All statistics are over 51 points\n",
      "\n",
      "Energy                      Average   Err.Est.       RMSD  Tot-Drift\n",
      "-------------------------------------------------------------------------------\n",
      "Temperature                 298.049        1.8    9.16655    10.0175  (K)\n",
      "\n",
      "2022-04-26 18:34:39,827 [MainThread  ] [INFO ]                        :-) GROMACS - gmx energy, 2019.1 (-:\n",
      "\n",
      "                            GROMACS is written by:\n",
      "     Emile Apol      Rossen Apostolov      Paul Bauer     Herman J.C. Berendsen\n",
      "    Par Bjelkmar      Christian Blau   Viacheslav Bolnykh     Kevin Boyd    \n",
      " Aldert van Buuren   Rudi van Drunen     Anton Feenstra       Alan Gray     \n",
      "  Gerrit Groenhof     Anca Hamuraru    Vincent Hindriksen  M. Eric Irrgang  \n",
      "  Aleksei Iupinov   Christoph Junghans     Joe Jordan     Dimitrios Karkoulis\n",
      "    Peter Kasson        Jiri Kraus      Carsten Kutzner      Per Larsson    \n",
      "  Justin A. Lemkul    Viveca Lindahl    Magnus Lundborg     Erik Marklund   \n",
      "    Pascal Merz     Pieter Meulenhoff    Teemu Murtola       Szilard Pall   \n",
      "    Sander Pronk      Roland Schulz      Michael Shirts    Alexey Shvetsov  \n",
      "   Alfons Sijbers     Peter Tieleman      Jon Vincent      Teemu Virolainen \n",
      " Christian Wennberg    Maarten Wolf   \n",
      "                           and the project leaders:\n",
      "        Mark Abraham, Berk Hess, Erik Lindahl, and David van der Spoel\n",
      "\n",
      "Copyright (c) 1991-2000, University of Groningen, The Netherlands.\n",
      "Copyright (c) 2001-2018, The GROMACS development team at\n",
      "Uppsala University, Stockholm University and\n",
      "the Royal Institute of Technology, Sweden.\n",
      "check out http://www.gromacs.org for more information.\n",
      "\n",
      "GROMACS is free software; you can redistribute it and/or modify it\n",
      "under the terms of the GNU Lesser General Public License\n",
      "as published by the Free Software Foundation; either version 2.1\n",
      "of the License, or (at your option) any later version.\n",
      "\n",
      "GROMACS:      gmx energy, version 2019.1\n",
      "Executable:   /home/ma/miniconda3/envs/biobb_Protein-Complex_MDsetup_tutorial/bin/gmx\n",
      "Data prefix:  /home/ma/miniconda3/envs/biobb_Protein-Complex_MDsetup_tutorial\n",
      "Working dir:  /home/ma/git/druglord/temp/3HTB\n",
      "Command line:\n",
      "  gmx energy -f /home/ma/git/druglord/temp/3HTB/3HTB_JZ4_nvt.edr -o 3HTB_JZ4_nvt_temp.xvg -xvg none\n",
      "\n",
      "Opened /home/ma/git/druglord/temp/3HTB/3HTB_JZ4_nvt.edr as single precision energy file\n",
      "\n",
      "Select the terms you want from the following list by\n",
      "selecting either (part of) the name or the number or a combination.\n",
      "End your selection with an empty line or a zero.\n",
      "-------------------------------------------------------------------\n",
      "  1  Bond             2  Angle            3  Proper-Dih.      4  Improper-Dih. \n",
      "  5  LJ-14            6  Coulomb-14       7  LJ-(SR)          8  Disper.-corr. \n",
      "  9  Coulomb-(SR)    10  Coul.-recip.    11  Position-Rest.  12  Potential     \n",
      " 13  Kinetic-En.     14  Total-Energy    15  Conserved-En.   16  Temperature   \n",
      " 17  Pres.-DC        18  Pressure        19  Constr.-rmsd    20  Vir-XX        \n",
      " 21  Vir-XY          22  Vir-XZ          23  Vir-YX          24  Vir-YY        \n",
      " 25  Vir-YZ          26  Vir-ZX          27  Vir-ZY          28  Vir-ZZ        \n",
      " 29  Pres-XX         30  Pres-XY         31  Pres-XZ         32  Pres-YX       \n",
      " 33  Pres-YY         34  Pres-YZ         35  Pres-ZX         36  Pres-ZY       \n",
      " 37  Pres-ZZ                             38  #Surf*SurfTen                     \n",
      " 39  T-Protein_Other                     40  T-Water_and_ions                  \n",
      " 41  Lamb-Protein_Other                  42  Lamb-Water_and_ions               \n",
      "\n",
      "Last energy frame read 10 time   10.000           \n",
      "\n",
      "GROMACS reminds you: \"Theoretical chemistry has of course always been important and useful ... at least to theoretical chemists\" (Sven Lidin)\n",
      "\n",
      "\n",
      "2022-04-26 18:34:39,829 [MainThread  ] [INFO ]  Removed: [PurePosixPath('890e1776-a3a7-40dd-95e8-c0281b4023b0')]\n"
     ]
    },
    {
     "data": {
      "text/plain": [
       "0"
      ]
     },
     "execution_count": 30,
     "metadata": {},
     "output_type": "execute_result"
    }
   ],
   "source": [
    "# GMXEnergy: Getting system temperature by time during NVT Equilibration  \n",
    "from biobb_analysis.gromacs.gmx_energy import gmx_energy\n",
    "\n",
    "# Create prop dict and inputs/outputs\n",
    "output_nvt_temp_xvg = pdbCode+'_'+ligandCode+'_nvt_temp.xvg'\n",
    "prop = {\n",
    "    'terms':  [\"Temperature\"]\n",
    "}\n",
    "\n",
    "# Create and launch bb\n",
    "gmx_energy(input_energy_path=output_nvt_edr, \n",
    "          output_xvg_path=output_nvt_temp_xvg, \n",
    "          properties=prop)"
   ]
  },
  {
   "cell_type": "code",
   "execution_count": 31,
   "metadata": {
    "scrolled": true
   },
   "outputs": [
    {
     "data": {
      "text/html": [
       "        <script type=\"text/javascript\">\n",
       "        window.PlotlyConfig = {MathJaxConfig: 'local'};\n",
       "        if (window.MathJax) {MathJax.Hub.Config({SVG: {font: \"STIX-Web\"}});}\n",
       "        if (typeof require !== 'undefined') {\n",
       "        require.undef(\"plotly\");\n",
       "        requirejs.config({\n",
       "            paths: {\n",
       "                'plotly': ['https://cdn.plot.ly/plotly-2.11.1.min']\n",
       "            }\n",
       "        });\n",
       "        require(['plotly'], function(Plotly) {\n",
       "            window._Plotly = Plotly;\n",
       "        });\n",
       "        }\n",
       "        </script>\n",
       "        "
      ]
     },
     "metadata": {},
     "output_type": "display_data"
    },
    {
     "data": {
      "application/vnd.plotly.v1+json": {
       "config": {
        "linkText": "Export to plot.ly",
        "plotlyServerURL": "https://plot.ly",
        "showLink": false
       },
       "data": [
        {
         "type": "scatter",
         "x": [
          0,
          1,
          2,
          3,
          4,
          5,
          6,
          7,
          8,
          9,
          10
         ],
         "y": [
          300.507233,
          300.554932,
          303.355621,
          302.700623,
          302.931671,
          301.134827,
          298.884827,
          299.610474,
          300.8703,
          301.616638,
          303.453705
         ]
        }
       ],
       "layout": {
        "template": {
         "data": {
          "bar": [
           {
            "error_x": {
             "color": "#2a3f5f"
            },
            "error_y": {
             "color": "#2a3f5f"
            },
            "marker": {
             "line": {
              "color": "#E5ECF6",
              "width": 0.5
             },
             "pattern": {
              "fillmode": "overlay",
              "size": 10,
              "solidity": 0.2
             }
            },
            "type": "bar"
           }
          ],
          "barpolar": [
           {
            "marker": {
             "line": {
              "color": "#E5ECF6",
              "width": 0.5
             },
             "pattern": {
              "fillmode": "overlay",
              "size": 10,
              "solidity": 0.2
             }
            },
            "type": "barpolar"
           }
          ],
          "carpet": [
           {
            "aaxis": {
             "endlinecolor": "#2a3f5f",
             "gridcolor": "white",
             "linecolor": "white",
             "minorgridcolor": "white",
             "startlinecolor": "#2a3f5f"
            },
            "baxis": {
             "endlinecolor": "#2a3f5f",
             "gridcolor": "white",
             "linecolor": "white",
             "minorgridcolor": "white",
             "startlinecolor": "#2a3f5f"
            },
            "type": "carpet"
           }
          ],
          "choropleth": [
           {
            "colorbar": {
             "outlinewidth": 0,
             "ticks": ""
            },
            "type": "choropleth"
           }
          ],
          "contour": [
           {
            "colorbar": {
             "outlinewidth": 0,
             "ticks": ""
            },
            "colorscale": [
             [
              0,
              "#0d0887"
             ],
             [
              0.1111111111111111,
              "#46039f"
             ],
             [
              0.2222222222222222,
              "#7201a8"
             ],
             [
              0.3333333333333333,
              "#9c179e"
             ],
             [
              0.4444444444444444,
              "#bd3786"
             ],
             [
              0.5555555555555556,
              "#d8576b"
             ],
             [
              0.6666666666666666,
              "#ed7953"
             ],
             [
              0.7777777777777778,
              "#fb9f3a"
             ],
             [
              0.8888888888888888,
              "#fdca26"
             ],
             [
              1,
              "#f0f921"
             ]
            ],
            "type": "contour"
           }
          ],
          "contourcarpet": [
           {
            "colorbar": {
             "outlinewidth": 0,
             "ticks": ""
            },
            "type": "contourcarpet"
           }
          ],
          "heatmap": [
           {
            "colorbar": {
             "outlinewidth": 0,
             "ticks": ""
            },
            "colorscale": [
             [
              0,
              "#0d0887"
             ],
             [
              0.1111111111111111,
              "#46039f"
             ],
             [
              0.2222222222222222,
              "#7201a8"
             ],
             [
              0.3333333333333333,
              "#9c179e"
             ],
             [
              0.4444444444444444,
              "#bd3786"
             ],
             [
              0.5555555555555556,
              "#d8576b"
             ],
             [
              0.6666666666666666,
              "#ed7953"
             ],
             [
              0.7777777777777778,
              "#fb9f3a"
             ],
             [
              0.8888888888888888,
              "#fdca26"
             ],
             [
              1,
              "#f0f921"
             ]
            ],
            "type": "heatmap"
           }
          ],
          "heatmapgl": [
           {
            "colorbar": {
             "outlinewidth": 0,
             "ticks": ""
            },
            "colorscale": [
             [
              0,
              "#0d0887"
             ],
             [
              0.1111111111111111,
              "#46039f"
             ],
             [
              0.2222222222222222,
              "#7201a8"
             ],
             [
              0.3333333333333333,
              "#9c179e"
             ],
             [
              0.4444444444444444,
              "#bd3786"
             ],
             [
              0.5555555555555556,
              "#d8576b"
             ],
             [
              0.6666666666666666,
              "#ed7953"
             ],
             [
              0.7777777777777778,
              "#fb9f3a"
             ],
             [
              0.8888888888888888,
              "#fdca26"
             ],
             [
              1,
              "#f0f921"
             ]
            ],
            "type": "heatmapgl"
           }
          ],
          "histogram": [
           {
            "marker": {
             "pattern": {
              "fillmode": "overlay",
              "size": 10,
              "solidity": 0.2
             }
            },
            "type": "histogram"
           }
          ],
          "histogram2d": [
           {
            "colorbar": {
             "outlinewidth": 0,
             "ticks": ""
            },
            "colorscale": [
             [
              0,
              "#0d0887"
             ],
             [
              0.1111111111111111,
              "#46039f"
             ],
             [
              0.2222222222222222,
              "#7201a8"
             ],
             [
              0.3333333333333333,
              "#9c179e"
             ],
             [
              0.4444444444444444,
              "#bd3786"
             ],
             [
              0.5555555555555556,
              "#d8576b"
             ],
             [
              0.6666666666666666,
              "#ed7953"
             ],
             [
              0.7777777777777778,
              "#fb9f3a"
             ],
             [
              0.8888888888888888,
              "#fdca26"
             ],
             [
              1,
              "#f0f921"
             ]
            ],
            "type": "histogram2d"
           }
          ],
          "histogram2dcontour": [
           {
            "colorbar": {
             "outlinewidth": 0,
             "ticks": ""
            },
            "colorscale": [
             [
              0,
              "#0d0887"
             ],
             [
              0.1111111111111111,
              "#46039f"
             ],
             [
              0.2222222222222222,
              "#7201a8"
             ],
             [
              0.3333333333333333,
              "#9c179e"
             ],
             [
              0.4444444444444444,
              "#bd3786"
             ],
             [
              0.5555555555555556,
              "#d8576b"
             ],
             [
              0.6666666666666666,
              "#ed7953"
             ],
             [
              0.7777777777777778,
              "#fb9f3a"
             ],
             [
              0.8888888888888888,
              "#fdca26"
             ],
             [
              1,
              "#f0f921"
             ]
            ],
            "type": "histogram2dcontour"
           }
          ],
          "mesh3d": [
           {
            "colorbar": {
             "outlinewidth": 0,
             "ticks": ""
            },
            "type": "mesh3d"
           }
          ],
          "parcoords": [
           {
            "line": {
             "colorbar": {
              "outlinewidth": 0,
              "ticks": ""
             }
            },
            "type": "parcoords"
           }
          ],
          "pie": [
           {
            "automargin": true,
            "type": "pie"
           }
          ],
          "scatter": [
           {
            "fillpattern": {
             "fillmode": "overlay",
             "size": 10,
             "solidity": 0.2
            },
            "type": "scatter"
           }
          ],
          "scatter3d": [
           {
            "line": {
             "colorbar": {
              "outlinewidth": 0,
              "ticks": ""
             }
            },
            "marker": {
             "colorbar": {
              "outlinewidth": 0,
              "ticks": ""
             }
            },
            "type": "scatter3d"
           }
          ],
          "scattercarpet": [
           {
            "marker": {
             "colorbar": {
              "outlinewidth": 0,
              "ticks": ""
             }
            },
            "type": "scattercarpet"
           }
          ],
          "scattergeo": [
           {
            "marker": {
             "colorbar": {
              "outlinewidth": 0,
              "ticks": ""
             }
            },
            "type": "scattergeo"
           }
          ],
          "scattergl": [
           {
            "marker": {
             "colorbar": {
              "outlinewidth": 0,
              "ticks": ""
             }
            },
            "type": "scattergl"
           }
          ],
          "scattermapbox": [
           {
            "marker": {
             "colorbar": {
              "outlinewidth": 0,
              "ticks": ""
             }
            },
            "type": "scattermapbox"
           }
          ],
          "scatterpolar": [
           {
            "marker": {
             "colorbar": {
              "outlinewidth": 0,
              "ticks": ""
             }
            },
            "type": "scatterpolar"
           }
          ],
          "scatterpolargl": [
           {
            "marker": {
             "colorbar": {
              "outlinewidth": 0,
              "ticks": ""
             }
            },
            "type": "scatterpolargl"
           }
          ],
          "scatterternary": [
           {
            "marker": {
             "colorbar": {
              "outlinewidth": 0,
              "ticks": ""
             }
            },
            "type": "scatterternary"
           }
          ],
          "surface": [
           {
            "colorbar": {
             "outlinewidth": 0,
             "ticks": ""
            },
            "colorscale": [
             [
              0,
              "#0d0887"
             ],
             [
              0.1111111111111111,
              "#46039f"
             ],
             [
              0.2222222222222222,
              "#7201a8"
             ],
             [
              0.3333333333333333,
              "#9c179e"
             ],
             [
              0.4444444444444444,
              "#bd3786"
             ],
             [
              0.5555555555555556,
              "#d8576b"
             ],
             [
              0.6666666666666666,
              "#ed7953"
             ],
             [
              0.7777777777777778,
              "#fb9f3a"
             ],
             [
              0.8888888888888888,
              "#fdca26"
             ],
             [
              1,
              "#f0f921"
             ]
            ],
            "type": "surface"
           }
          ],
          "table": [
           {
            "cells": {
             "fill": {
              "color": "#EBF0F8"
             },
             "line": {
              "color": "white"
             }
            },
            "header": {
             "fill": {
              "color": "#C8D4E3"
             },
             "line": {
              "color": "white"
             }
            },
            "type": "table"
           }
          ]
         },
         "layout": {
          "annotationdefaults": {
           "arrowcolor": "#2a3f5f",
           "arrowhead": 0,
           "arrowwidth": 1
          },
          "autotypenumbers": "strict",
          "coloraxis": {
           "colorbar": {
            "outlinewidth": 0,
            "ticks": ""
           }
          },
          "colorscale": {
           "diverging": [
            [
             0,
             "#8e0152"
            ],
            [
             0.1,
             "#c51b7d"
            ],
            [
             0.2,
             "#de77ae"
            ],
            [
             0.3,
             "#f1b6da"
            ],
            [
             0.4,
             "#fde0ef"
            ],
            [
             0.5,
             "#f7f7f7"
            ],
            [
             0.6,
             "#e6f5d0"
            ],
            [
             0.7,
             "#b8e186"
            ],
            [
             0.8,
             "#7fbc41"
            ],
            [
             0.9,
             "#4d9221"
            ],
            [
             1,
             "#276419"
            ]
           ],
           "sequential": [
            [
             0,
             "#0d0887"
            ],
            [
             0.1111111111111111,
             "#46039f"
            ],
            [
             0.2222222222222222,
             "#7201a8"
            ],
            [
             0.3333333333333333,
             "#9c179e"
            ],
            [
             0.4444444444444444,
             "#bd3786"
            ],
            [
             0.5555555555555556,
             "#d8576b"
            ],
            [
             0.6666666666666666,
             "#ed7953"
            ],
            [
             0.7777777777777778,
             "#fb9f3a"
            ],
            [
             0.8888888888888888,
             "#fdca26"
            ],
            [
             1,
             "#f0f921"
            ]
           ],
           "sequentialminus": [
            [
             0,
             "#0d0887"
            ],
            [
             0.1111111111111111,
             "#46039f"
            ],
            [
             0.2222222222222222,
             "#7201a8"
            ],
            [
             0.3333333333333333,
             "#9c179e"
            ],
            [
             0.4444444444444444,
             "#bd3786"
            ],
            [
             0.5555555555555556,
             "#d8576b"
            ],
            [
             0.6666666666666666,
             "#ed7953"
            ],
            [
             0.7777777777777778,
             "#fb9f3a"
            ],
            [
             0.8888888888888888,
             "#fdca26"
            ],
            [
             1,
             "#f0f921"
            ]
           ]
          },
          "colorway": [
           "#636efa",
           "#EF553B",
           "#00cc96",
           "#ab63fa",
           "#FFA15A",
           "#19d3f3",
           "#FF6692",
           "#B6E880",
           "#FF97FF",
           "#FECB52"
          ],
          "font": {
           "color": "#2a3f5f"
          },
          "geo": {
           "bgcolor": "white",
           "lakecolor": "white",
           "landcolor": "#E5ECF6",
           "showlakes": true,
           "showland": true,
           "subunitcolor": "white"
          },
          "hoverlabel": {
           "align": "left"
          },
          "hovermode": "closest",
          "mapbox": {
           "style": "light"
          },
          "paper_bgcolor": "white",
          "plot_bgcolor": "#E5ECF6",
          "polar": {
           "angularaxis": {
            "gridcolor": "white",
            "linecolor": "white",
            "ticks": ""
           },
           "bgcolor": "#E5ECF6",
           "radialaxis": {
            "gridcolor": "white",
            "linecolor": "white",
            "ticks": ""
           }
          },
          "scene": {
           "xaxis": {
            "backgroundcolor": "#E5ECF6",
            "gridcolor": "white",
            "gridwidth": 2,
            "linecolor": "white",
            "showbackground": true,
            "ticks": "",
            "zerolinecolor": "white"
           },
           "yaxis": {
            "backgroundcolor": "#E5ECF6",
            "gridcolor": "white",
            "gridwidth": 2,
            "linecolor": "white",
            "showbackground": true,
            "ticks": "",
            "zerolinecolor": "white"
           },
           "zaxis": {
            "backgroundcolor": "#E5ECF6",
            "gridcolor": "white",
            "gridwidth": 2,
            "linecolor": "white",
            "showbackground": true,
            "ticks": "",
            "zerolinecolor": "white"
           }
          },
          "shapedefaults": {
           "line": {
            "color": "#2a3f5f"
           }
          },
          "ternary": {
           "aaxis": {
            "gridcolor": "white",
            "linecolor": "white",
            "ticks": ""
           },
           "baxis": {
            "gridcolor": "white",
            "linecolor": "white",
            "ticks": ""
           },
           "bgcolor": "#E5ECF6",
           "caxis": {
            "gridcolor": "white",
            "linecolor": "white",
            "ticks": ""
           }
          },
          "title": {
           "x": 0.05
          },
          "xaxis": {
           "automargin": true,
           "gridcolor": "white",
           "linecolor": "white",
           "ticks": "",
           "title": {
            "standoff": 15
           },
           "zerolinecolor": "white",
           "zerolinewidth": 2
          },
          "yaxis": {
           "automargin": true,
           "gridcolor": "white",
           "linecolor": "white",
           "ticks": "",
           "title": {
            "standoff": 15
           },
           "zerolinecolor": "white",
           "zerolinewidth": 2
          }
         }
        },
        "title": {
         "text": "Temperature during NVT Equilibration"
        },
        "xaxis": {
         "title": {
          "text": "Time (ps)"
         }
        },
        "yaxis": {
         "title": {
          "text": "Temperature (K)"
         }
        }
       }
      },
      "text/html": [
       "<div>                            <div id=\"a40a74e4-8150-4729-88a2-f20d54559a78\" class=\"plotly-graph-div\" style=\"height:525px; width:100%;\"></div>            <script type=\"text/javascript\">                require([\"plotly\"], function(Plotly) {                    window.PLOTLYENV=window.PLOTLYENV || {};                                    if (document.getElementById(\"a40a74e4-8150-4729-88a2-f20d54559a78\")) {                    Plotly.newPlot(                        \"a40a74e4-8150-4729-88a2-f20d54559a78\",                        [{\"x\":[0.0,1.0,2.0,3.0,4.0,5.0,6.0,7.0,8.0,9.0,10.0],\"y\":[300.507233,300.554932,303.355621,302.700623,302.931671,301.134827,298.884827,299.610474,300.8703,301.616638,303.453705],\"type\":\"scatter\"}],                        {\"template\":{\"data\":{\"barpolar\":[{\"marker\":{\"line\":{\"color\":\"#E5ECF6\",\"width\":0.5},\"pattern\":{\"fillmode\":\"overlay\",\"size\":10,\"solidity\":0.2}},\"type\":\"barpolar\"}],\"bar\":[{\"error_x\":{\"color\":\"#2a3f5f\"},\"error_y\":{\"color\":\"#2a3f5f\"},\"marker\":{\"line\":{\"color\":\"#E5ECF6\",\"width\":0.5},\"pattern\":{\"fillmode\":\"overlay\",\"size\":10,\"solidity\":0.2}},\"type\":\"bar\"}],\"carpet\":[{\"aaxis\":{\"endlinecolor\":\"#2a3f5f\",\"gridcolor\":\"white\",\"linecolor\":\"white\",\"minorgridcolor\":\"white\",\"startlinecolor\":\"#2a3f5f\"},\"baxis\":{\"endlinecolor\":\"#2a3f5f\",\"gridcolor\":\"white\",\"linecolor\":\"white\",\"minorgridcolor\":\"white\",\"startlinecolor\":\"#2a3f5f\"},\"type\":\"carpet\"}],\"choropleth\":[{\"colorbar\":{\"outlinewidth\":0,\"ticks\":\"\"},\"type\":\"choropleth\"}],\"contourcarpet\":[{\"colorbar\":{\"outlinewidth\":0,\"ticks\":\"\"},\"type\":\"contourcarpet\"}],\"contour\":[{\"colorbar\":{\"outlinewidth\":0,\"ticks\":\"\"},\"colorscale\":[[0.0,\"#0d0887\"],[0.1111111111111111,\"#46039f\"],[0.2222222222222222,\"#7201a8\"],[0.3333333333333333,\"#9c179e\"],[0.4444444444444444,\"#bd3786\"],[0.5555555555555556,\"#d8576b\"],[0.6666666666666666,\"#ed7953\"],[0.7777777777777778,\"#fb9f3a\"],[0.8888888888888888,\"#fdca26\"],[1.0,\"#f0f921\"]],\"type\":\"contour\"}],\"heatmapgl\":[{\"colorbar\":{\"outlinewidth\":0,\"ticks\":\"\"},\"colorscale\":[[0.0,\"#0d0887\"],[0.1111111111111111,\"#46039f\"],[0.2222222222222222,\"#7201a8\"],[0.3333333333333333,\"#9c179e\"],[0.4444444444444444,\"#bd3786\"],[0.5555555555555556,\"#d8576b\"],[0.6666666666666666,\"#ed7953\"],[0.7777777777777778,\"#fb9f3a\"],[0.8888888888888888,\"#fdca26\"],[1.0,\"#f0f921\"]],\"type\":\"heatmapgl\"}],\"heatmap\":[{\"colorbar\":{\"outlinewidth\":0,\"ticks\":\"\"},\"colorscale\":[[0.0,\"#0d0887\"],[0.1111111111111111,\"#46039f\"],[0.2222222222222222,\"#7201a8\"],[0.3333333333333333,\"#9c179e\"],[0.4444444444444444,\"#bd3786\"],[0.5555555555555556,\"#d8576b\"],[0.6666666666666666,\"#ed7953\"],[0.7777777777777778,\"#fb9f3a\"],[0.8888888888888888,\"#fdca26\"],[1.0,\"#f0f921\"]],\"type\":\"heatmap\"}],\"histogram2dcontour\":[{\"colorbar\":{\"outlinewidth\":0,\"ticks\":\"\"},\"colorscale\":[[0.0,\"#0d0887\"],[0.1111111111111111,\"#46039f\"],[0.2222222222222222,\"#7201a8\"],[0.3333333333333333,\"#9c179e\"],[0.4444444444444444,\"#bd3786\"],[0.5555555555555556,\"#d8576b\"],[0.6666666666666666,\"#ed7953\"],[0.7777777777777778,\"#fb9f3a\"],[0.8888888888888888,\"#fdca26\"],[1.0,\"#f0f921\"]],\"type\":\"histogram2dcontour\"}],\"histogram2d\":[{\"colorbar\":{\"outlinewidth\":0,\"ticks\":\"\"},\"colorscale\":[[0.0,\"#0d0887\"],[0.1111111111111111,\"#46039f\"],[0.2222222222222222,\"#7201a8\"],[0.3333333333333333,\"#9c179e\"],[0.4444444444444444,\"#bd3786\"],[0.5555555555555556,\"#d8576b\"],[0.6666666666666666,\"#ed7953\"],[0.7777777777777778,\"#fb9f3a\"],[0.8888888888888888,\"#fdca26\"],[1.0,\"#f0f921\"]],\"type\":\"histogram2d\"}],\"histogram\":[{\"marker\":{\"pattern\":{\"fillmode\":\"overlay\",\"size\":10,\"solidity\":0.2}},\"type\":\"histogram\"}],\"mesh3d\":[{\"colorbar\":{\"outlinewidth\":0,\"ticks\":\"\"},\"type\":\"mesh3d\"}],\"parcoords\":[{\"line\":{\"colorbar\":{\"outlinewidth\":0,\"ticks\":\"\"}},\"type\":\"parcoords\"}],\"pie\":[{\"automargin\":true,\"type\":\"pie\"}],\"scatter3d\":[{\"line\":{\"colorbar\":{\"outlinewidth\":0,\"ticks\":\"\"}},\"marker\":{\"colorbar\":{\"outlinewidth\":0,\"ticks\":\"\"}},\"type\":\"scatter3d\"}],\"scattercarpet\":[{\"marker\":{\"colorbar\":{\"outlinewidth\":0,\"ticks\":\"\"}},\"type\":\"scattercarpet\"}],\"scattergeo\":[{\"marker\":{\"colorbar\":{\"outlinewidth\":0,\"ticks\":\"\"}},\"type\":\"scattergeo\"}],\"scattergl\":[{\"marker\":{\"colorbar\":{\"outlinewidth\":0,\"ticks\":\"\"}},\"type\":\"scattergl\"}],\"scattermapbox\":[{\"marker\":{\"colorbar\":{\"outlinewidth\":0,\"ticks\":\"\"}},\"type\":\"scattermapbox\"}],\"scatterpolargl\":[{\"marker\":{\"colorbar\":{\"outlinewidth\":0,\"ticks\":\"\"}},\"type\":\"scatterpolargl\"}],\"scatterpolar\":[{\"marker\":{\"colorbar\":{\"outlinewidth\":0,\"ticks\":\"\"}},\"type\":\"scatterpolar\"}],\"scatter\":[{\"fillpattern\":{\"fillmode\":\"overlay\",\"size\":10,\"solidity\":0.2},\"type\":\"scatter\"}],\"scatterternary\":[{\"marker\":{\"colorbar\":{\"outlinewidth\":0,\"ticks\":\"\"}},\"type\":\"scatterternary\"}],\"surface\":[{\"colorbar\":{\"outlinewidth\":0,\"ticks\":\"\"},\"colorscale\":[[0.0,\"#0d0887\"],[0.1111111111111111,\"#46039f\"],[0.2222222222222222,\"#7201a8\"],[0.3333333333333333,\"#9c179e\"],[0.4444444444444444,\"#bd3786\"],[0.5555555555555556,\"#d8576b\"],[0.6666666666666666,\"#ed7953\"],[0.7777777777777778,\"#fb9f3a\"],[0.8888888888888888,\"#fdca26\"],[1.0,\"#f0f921\"]],\"type\":\"surface\"}],\"table\":[{\"cells\":{\"fill\":{\"color\":\"#EBF0F8\"},\"line\":{\"color\":\"white\"}},\"header\":{\"fill\":{\"color\":\"#C8D4E3\"},\"line\":{\"color\":\"white\"}},\"type\":\"table\"}]},\"layout\":{\"annotationdefaults\":{\"arrowcolor\":\"#2a3f5f\",\"arrowhead\":0,\"arrowwidth\":1},\"autotypenumbers\":\"strict\",\"coloraxis\":{\"colorbar\":{\"outlinewidth\":0,\"ticks\":\"\"}},\"colorscale\":{\"diverging\":[[0,\"#8e0152\"],[0.1,\"#c51b7d\"],[0.2,\"#de77ae\"],[0.3,\"#f1b6da\"],[0.4,\"#fde0ef\"],[0.5,\"#f7f7f7\"],[0.6,\"#e6f5d0\"],[0.7,\"#b8e186\"],[0.8,\"#7fbc41\"],[0.9,\"#4d9221\"],[1,\"#276419\"]],\"sequential\":[[0.0,\"#0d0887\"],[0.1111111111111111,\"#46039f\"],[0.2222222222222222,\"#7201a8\"],[0.3333333333333333,\"#9c179e\"],[0.4444444444444444,\"#bd3786\"],[0.5555555555555556,\"#d8576b\"],[0.6666666666666666,\"#ed7953\"],[0.7777777777777778,\"#fb9f3a\"],[0.8888888888888888,\"#fdca26\"],[1.0,\"#f0f921\"]],\"sequentialminus\":[[0.0,\"#0d0887\"],[0.1111111111111111,\"#46039f\"],[0.2222222222222222,\"#7201a8\"],[0.3333333333333333,\"#9c179e\"],[0.4444444444444444,\"#bd3786\"],[0.5555555555555556,\"#d8576b\"],[0.6666666666666666,\"#ed7953\"],[0.7777777777777778,\"#fb9f3a\"],[0.8888888888888888,\"#fdca26\"],[1.0,\"#f0f921\"]]},\"colorway\":[\"#636efa\",\"#EF553B\",\"#00cc96\",\"#ab63fa\",\"#FFA15A\",\"#19d3f3\",\"#FF6692\",\"#B6E880\",\"#FF97FF\",\"#FECB52\"],\"font\":{\"color\":\"#2a3f5f\"},\"geo\":{\"bgcolor\":\"white\",\"lakecolor\":\"white\",\"landcolor\":\"#E5ECF6\",\"showlakes\":true,\"showland\":true,\"subunitcolor\":\"white\"},\"hoverlabel\":{\"align\":\"left\"},\"hovermode\":\"closest\",\"mapbox\":{\"style\":\"light\"},\"paper_bgcolor\":\"white\",\"plot_bgcolor\":\"#E5ECF6\",\"polar\":{\"angularaxis\":{\"gridcolor\":\"white\",\"linecolor\":\"white\",\"ticks\":\"\"},\"bgcolor\":\"#E5ECF6\",\"radialaxis\":{\"gridcolor\":\"white\",\"linecolor\":\"white\",\"ticks\":\"\"}},\"scene\":{\"xaxis\":{\"backgroundcolor\":\"#E5ECF6\",\"gridcolor\":\"white\",\"gridwidth\":2,\"linecolor\":\"white\",\"showbackground\":true,\"ticks\":\"\",\"zerolinecolor\":\"white\"},\"yaxis\":{\"backgroundcolor\":\"#E5ECF6\",\"gridcolor\":\"white\",\"gridwidth\":2,\"linecolor\":\"white\",\"showbackground\":true,\"ticks\":\"\",\"zerolinecolor\":\"white\"},\"zaxis\":{\"backgroundcolor\":\"#E5ECF6\",\"gridcolor\":\"white\",\"gridwidth\":2,\"linecolor\":\"white\",\"showbackground\":true,\"ticks\":\"\",\"zerolinecolor\":\"white\"}},\"shapedefaults\":{\"line\":{\"color\":\"#2a3f5f\"}},\"ternary\":{\"aaxis\":{\"gridcolor\":\"white\",\"linecolor\":\"white\",\"ticks\":\"\"},\"baxis\":{\"gridcolor\":\"white\",\"linecolor\":\"white\",\"ticks\":\"\"},\"bgcolor\":\"#E5ECF6\",\"caxis\":{\"gridcolor\":\"white\",\"linecolor\":\"white\",\"ticks\":\"\"}},\"title\":{\"x\":0.05},\"xaxis\":{\"automargin\":true,\"gridcolor\":\"white\",\"linecolor\":\"white\",\"ticks\":\"\",\"title\":{\"standoff\":15},\"zerolinecolor\":\"white\",\"zerolinewidth\":2},\"yaxis\":{\"automargin\":true,\"gridcolor\":\"white\",\"linecolor\":\"white\",\"ticks\":\"\",\"title\":{\"standoff\":15},\"zerolinecolor\":\"white\",\"zerolinewidth\":2}}},\"title\":{\"text\":\"Temperature during NVT Equilibration\"},\"xaxis\":{\"title\":{\"text\":\"Time (ps)\"}},\"yaxis\":{\"title\":{\"text\":\"Temperature (K)\"}}},                        {\"responsive\": true}                    ).then(function(){\n",
       "                            \n",
       "var gd = document.getElementById('a40a74e4-8150-4729-88a2-f20d54559a78');\n",
       "var x = new MutationObserver(function (mutations, observer) {{\n",
       "        var display = window.getComputedStyle(gd).display;\n",
       "        if (!display || display === 'none') {{\n",
       "            console.log([gd, 'removed!']);\n",
       "            Plotly.purge(gd);\n",
       "            observer.disconnect();\n",
       "        }}\n",
       "}});\n",
       "\n",
       "// Listen for the removal of the full notebook cells\n",
       "var notebookContainer = gd.closest('#notebook-container');\n",
       "if (notebookContainer) {{\n",
       "    x.observe(notebookContainer, {childList: true});\n",
       "}}\n",
       "\n",
       "// Listen for the clearing of the current output cell\n",
       "var outputEl = gd.closest('.output');\n",
       "if (outputEl) {{\n",
       "    x.observe(outputEl, {childList: true});\n",
       "}}\n",
       "\n",
       "                        })                };                });            </script>        </div>"
      ]
     },
     "metadata": {},
     "output_type": "display_data"
    }
   ],
   "source": [
    "import plotly\n",
    "import plotly.graph_objs as go\n",
    "\n",
    "# Read temperature data from file \n",
    "with open(output_nvt_temp_xvg,'r') as temperature_file:\n",
    "    x,y = map(\n",
    "        list,\n",
    "        zip(*[\n",
    "            (float(line.split()[0]),float(line.split()[1]))\n",
    "            for line in temperature_file \n",
    "            if not line.startswith((\"#\",\"@\")) \n",
    "        ])\n",
    "    )\n",
    "\n",
    "plotly.offline.init_notebook_mode(connected=True)\n",
    "\n",
    "fig = ({\n",
    "    \"data\": [go.Scatter(x=x, y=y)],\n",
    "    \"layout\": go.Layout(title=\"Temperature during NVT Equilibration\",\n",
    "                        xaxis=dict(title = \"Time (ps)\"),\n",
    "                        yaxis=dict(title = \"Temperature (K)\")\n",
    "                       )\n",
    "})\n",
    "\n",
    "plotly.offline.iplot(fig)"
   ]
  },
  {
   "cell_type": "markdown",
   "metadata": {},
   "source": [
    "<a id=\"npt\"></a>\n",
    "***\n",
    "## Equilibrate the system (NPT)\n",
    "Equilibrate the **protein-ligand complex** system in NPT ensemble (constant Number of particles, Pressure and Temperature) .\n",
    "- [Step 1](#eqNPTStep1): Creating portable binary run file for system equilibration\n",
    "- [Step 2](#eqNPTStep2): Equilibrate the **protein-ligand complex** with NPT ensemble.\n",
    "- [Step 3](#eqNPTStep3): Checking **NPT Equilibration** results. Plotting **system pressure and density** by time during the **NPT equilibration** process.\n",
    "***\n",
    "**Building Blocks** used:\n",
    " - [Grompp](https://biobb-md.readthedocs.io/en/latest/gromacs.html#module-gromacs.grompp) from **biobb_md.gromacs.grompp** \n",
    " - [Mdrun](https://biobb-md.readthedocs.io/en/latest/gromacs.html#module-gromacs.mdrun) from **biobb_md.gromacs.mdrun** \n",
    " - [GMXEnergy](https://biobb-analysis.readthedocs.io/en/latest/gromacs.html#module-gromacs.gmx_energy) from **biobb_analysis.gromacs.gmx_energy** \n",
    "***"
   ]
  },
  {
   "cell_type": "markdown",
   "metadata": {},
   "source": [
    "<a id=\"eqNPTStep1\"></a>\n",
    "### Step 1: Creating portable binary run file for system equilibration (NPT)"
   ]
  },
  {
   "cell_type": "code",
   "execution_count": 32,
   "metadata": {
    "scrolled": true
   },
   "outputs": [
    {
     "name": "stdout",
     "output_type": "stream",
     "text": [
      "2022-04-26 18:34:40,379 [MainThread  ] [INFO ]  GROMACS Grompp 20191 version detected\n",
      "2022-04-26 18:34:40,385 [MainThread  ] [INFO ]  Extracting: /home/ma/git/druglord/temp/3HTB/3HTB_JZ4_genion_top.zip\n",
      "2022-04-26 18:34:40,386 [MainThread  ] [INFO ]  to:\n",
      "2022-04-26 18:34:40,387 [MainThread  ] [INFO ]  ['0d8de3e0-c038-44d5-9377-831abd30e1ca/JZ4_posres.itp', '0d8de3e0-c038-44d5-9377-831abd30e1ca/JZ4params.itp', '0d8de3e0-c038-44d5-9377-831abd30e1ca/ligand.top', '0d8de3e0-c038-44d5-9377-831abd30e1ca/posre.itp']\n",
      "2022-04-26 18:34:40,388 [MainThread  ] [INFO ]  Unzipping: \n",
      "2022-04-26 18:34:40,389 [MainThread  ] [INFO ]  3HTB_JZ4_genion_top.zip\n",
      "2022-04-26 18:34:40,389 [MainThread  ] [INFO ]  To: \n",
      "2022-04-26 18:34:40,390 [MainThread  ] [INFO ]  0d8de3e0-c038-44d5-9377-831abd30e1ca/JZ4_posres.itp\n",
      "2022-04-26 18:34:40,391 [MainThread  ] [INFO ]  0d8de3e0-c038-44d5-9377-831abd30e1ca/JZ4params.itp\n",
      "2022-04-26 18:34:40,391 [MainThread  ] [INFO ]  0d8de3e0-c038-44d5-9377-831abd30e1ca/ligand.top\n",
      "2022-04-26 18:34:40,392 [MainThread  ] [INFO ]  0d8de3e0-c038-44d5-9377-831abd30e1ca/posre.itp\n",
      "2022-04-26 18:34:40,393 [MainThread  ] [INFO ]  Not using any container\n",
      "2022-04-26 18:34:40,811 [MainThread  ] [INFO ]  gmx -nobackup -nocopyright grompp -f 8bb9bce5-a474-43f6-acbf-0182ab2735ee/grompp.mdp -c 3HTB_JZ4_nvt.gro -r 3HTB_JZ4_nvt.gro -p 0d8de3e0-c038-44d5-9377-831abd30e1ca/ligand.top -o 3HTB_JZ4_gppnpt.tpr -po mdout.mdp -maxwarn 0 -t 3HTB_JZ4_nvt.cpt -n 3HTB_JZ4_index.ndx\n",
      "\n",
      "2022-04-26 18:34:40,814 [MainThread  ] [INFO ]  Exit code 0\n",
      "\n",
      "2022-04-26 18:34:40,815 [MainThread  ] [INFO ]  turning H bonds into constraints...\n",
      "turning H bonds into constraints...\n",
      "turning H bonds into constraints...\n",
      "turning H bonds into constraints...\n",
      "turning H bonds into constraints...\n",
      "Determining Verlet buffer for a tolerance of 0.005 kJ/mol/ps at 300 K\n",
      "Calculated rlist for 1x1 atom pair-list as 1.034 nm, buffer size 0.034 nm\n",
      "Set rlist, assuming 4x4 atom pair-list, to 1.000 nm, buffer size 0.000 nm\n",
      "Note that mdrun will redetermine rlist based on the actual pair-list setup\n",
      "Calculating fourier grid dimensions for X Y Z\n",
      "Using a fourier grid of 64x64x64, spacing 0.116 0.116 0.116\n",
      "This run will generate roughly 11 Mb of data\n",
      "\n",
      "2022-04-26 18:34:40,816 [MainThread  ] [INFO ]                        :-) GROMACS - gmx grompp, 2019.1 (-:\n",
      "\n",
      "Executable:   /home/ma/miniconda3/envs/biobb_Protein-Complex_MDsetup_tutorial/bin/gmx\n",
      "Data prefix:  /home/ma/miniconda3/envs/biobb_Protein-Complex_MDsetup_tutorial\n",
      "Working dir:  /home/ma/git/druglord/temp/3HTB\n",
      "Command line:\n",
      "  gmx -nobackup -nocopyright grompp -f 8bb9bce5-a474-43f6-acbf-0182ab2735ee/grompp.mdp -c 3HTB_JZ4_nvt.gro -r 3HTB_JZ4_nvt.gro -p 0d8de3e0-c038-44d5-9377-831abd30e1ca/ligand.top -o 3HTB_JZ4_gppnpt.tpr -po mdout.mdp -maxwarn 0 -t 3HTB_JZ4_nvt.cpt -n 3HTB_JZ4_index.ndx\n",
      "\n",
      "Setting the LD random seed to 1135358463\n",
      "Generated 2556 of the 2556 non-bonded parameter combinations\n",
      "Generating 1-4 interactions: fudge = 0.5\n",
      "Generated 2556 of the 2556 1-4 parameter combinations\n",
      "Excluding 3 bonded neighbours molecule type 'Protein_chain_A'\n",
      "Excluding 3 bonded neighbours molecule type 'JZ4params'\n",
      "Excluding 2 bonded neighbours molecule type 'SOL'\n",
      "Excluding 1 bonded neighbours molecule type 'NA'\n",
      "Excluding 1 bonded neighbours molecule type 'CL'\n",
      "Removing all charge groups because cutoff-scheme=Verlet\n",
      "\n",
      "NOTE 1 [file ligand.top, line 24865]:\n",
      "  You are combining position restraints with Parrinello-Rahman pressure\n",
      "  coupling, which can lead to instabilities. If you really want to combine\n",
      "  position restraints with pressure coupling, we suggest to use Berendsen\n",
      "  pressure coupling instead.\n",
      "\n",
      "The center of mass of the position restraint coord's is  3.724  5.270  3.045\n",
      "The center of mass of the position restraint coord's is  3.724  5.270  3.045\n",
      "Number of degrees of freedom in T-Coupling group Protein_Other is 6582.69\n",
      "Number of degrees of freedom in T-Coupling group Water_and_ions is 57105.31\n",
      "Reading Coordinates, Velocities and Box size from old trajectory\n",
      "Will read whole trajectory\n",
      "Last frame         -1 time   10.000   \n",
      "Using frame at t = 10 ps\n",
      "Starting time for run is 0 ps\n",
      "Estimate for the relative computational load of the PME mesh part: 0.20\n",
      "\n",
      "There was 1 note\n",
      "\n",
      "GROMACS reminds you: \"I had trouble with physics in college. When I signed up I thought it said psychics.\" (Greg Tamblyn)\n",
      "\n",
      "\n",
      "2022-04-26 18:34:40,819 [MainThread  ] [INFO ]  Removed: ['mdout.mdp', '0d8de3e0-c038-44d5-9377-831abd30e1ca', '8bb9bce5-a474-43f6-acbf-0182ab2735ee']\n"
     ]
    },
    {
     "data": {
      "text/plain": [
       "0"
      ]
     },
     "execution_count": 32,
     "metadata": {},
     "output_type": "execute_result"
    }
   ],
   "source": [
    "# Grompp: Creating portable binary run file for (NPT) System Equilibration\n",
    "from biobb_md.gromacs.grompp import grompp\n",
    "\n",
    "# Create prop dict and inputs/outputs\n",
    "output_gppnpt_tpr = pdbCode+'_'+ligandCode+'_gppnpt.tpr'\n",
    "prop = {\n",
    "    'mdp':{\n",
    "        'type': 'npt',\n",
    "        'nsteps':'5000',\n",
    "        'tc-grps': 'Protein_Other Water_and_ions',\n",
    "        'Define': '-DPOSRES -D' + posresifdef\n",
    "    },\n",
    "    'simulation_type':'npt'\n",
    "}\n",
    "\n",
    "# Create and launch bb\n",
    "grompp(input_gro_path=output_nvt_gro,\n",
    "       input_top_zip_path=output_genion_top_zip,\n",
    "       input_ndx_path=output_complex_ndx,\n",
    "       output_tpr_path=output_gppnpt_tpr,\n",
    "       input_cpt_path=output_nvt_cpt,\n",
    "       properties=prop)"
   ]
  },
  {
   "cell_type": "markdown",
   "metadata": {},
   "source": [
    "<a id=\"eqNPTStep2\"></a>\n",
    "### Step 2: Running NPT equilibration"
   ]
  },
  {
   "cell_type": "code",
   "execution_count": 33,
   "metadata": {
    "scrolled": true
   },
   "outputs": [
    {
     "name": "stdout",
     "output_type": "stream",
     "text": [
      "2022-04-26 18:34:41,053 [MainThread  ] [INFO ]  GROMACS Mdrun 20191 version detected\n",
      "2022-04-26 18:34:41,054 [MainThread  ] [INFO ]  Not using any container\n",
      "2022-04-26 18:35:00,117 [MainThread  ] [INFO ]  gmx -nobackup -nocopyright mdrun -s 3HTB_JZ4_gppnpt.tpr -o 3HTB_JZ4_npt.trr -c 3HTB_JZ4_npt.gro -e 3HTB_JZ4_npt.edr -g 3HTB_JZ4_npt.log -cpo 3HTB_JZ4_npt.cpt\n",
      "\n",
      "2022-04-26 18:35:00,119 [MainThread  ] [INFO ]  Exit code 0\n",
      "\n",
      "2022-04-26 18:35:00,120 [MainThread  ] [INFO ]                        :-) GROMACS - gmx mdrun, 2019.1 (-:\n",
      "\n",
      "Executable:   /home/ma/miniconda3/envs/biobb_Protein-Complex_MDsetup_tutorial/bin/gmx\n",
      "Data prefix:  /home/ma/miniconda3/envs/biobb_Protein-Complex_MDsetup_tutorial\n",
      "Working dir:  /home/ma/git/druglord/temp/3HTB\n",
      "Command line:\n",
      "  gmx -nobackup -nocopyright mdrun -s 3HTB_JZ4_gppnpt.tpr -o 3HTB_JZ4_npt.trr -c 3HTB_JZ4_npt.gro -e 3HTB_JZ4_npt.edr -g 3HTB_JZ4_npt.log -cpo 3HTB_JZ4_npt.cpt\n",
      "\n",
      "Compiled SIMD: SSE2, but for this host/run AVX_512 might be better (see log).\n",
      "The current CPU can measure timings more accurately than the code in\n",
      "gmx mdrun was configured to use. This might affect your simulation\n",
      "speed as accurate timings are needed for load-balancing.\n",
      "Please consider rebuilding gmx mdrun with the GMX_USE_RDTSCP=ON CMake option.\n",
      "Reading file 3HTB_JZ4_gppnpt.tpr, VERSION 2019.1 (single precision)\n",
      "Changing nstlist from 10 to 50, rlist from 1 to 1.112\n",
      "\n",
      "\n",
      "Using 72 MPI threads\n",
      "Using 1 OpenMP thread per tMPI thread\n",
      "\n",
      "starting mdrun 'Protein in water'\n",
      "5000 steps,     10.0 ps.\n",
      "\n",
      "Writing final coordinates.\n",
      "\n",
      "\n",
      "Dynamic load balancing report:\n",
      " DLB was off during the run due to low measured imbalance.\n",
      " Average load imbalance: 10.0%.\n",
      " The balanceable part of the MD step is 47%, load imbalance is computed from this.\n",
      " Part of the total run time spent waiting due to load imbalance: 4.7%.\n",
      " Average PME mesh/force load: 0.767\n",
      " Part of the total run time spent waiting due to PP/PME imbalance: 2.1 %\n",
      "\n",
      "\n",
      "NOTE: 18 % of the run time was spent in domain decomposition,\n",
      "      2 % of the run time was spent in pair search,\n",
      "      you might want to increase nstlist (this has no effect on accuracy)\n",
      "\n",
      "               Core t (s)   Wall t (s)        (%)\n",
      "       Time:     1155.602       16.051     7199.5\n",
      "                 (ns/day)    (hour/ns)\n",
      "Performance:       53.839        0.446\n",
      "\n",
      "GROMACS reminds you: \"Where all think alike, no one thinks very much.\" (Walter Lippmann)\n",
      "\n",
      "\n",
      "2022-04-26 18:35:00,122 [MainThread  ] [INFO ]  Removed: []\n"
     ]
    },
    {
     "data": {
      "text/plain": [
       "0"
      ]
     },
     "execution_count": 33,
     "metadata": {},
     "output_type": "execute_result"
    }
   ],
   "source": [
    "# Mdrun: Running NPT System Equilibration\n",
    "from biobb_md.gromacs.mdrun import mdrun\n",
    "\n",
    "# Create prop dict and inputs/outputs\n",
    "output_npt_trr = pdbCode+'_'+ligandCode+'_npt.trr'\n",
    "output_npt_gro = pdbCode+'_'+ligandCode+'_npt.gro'\n",
    "output_npt_edr = pdbCode+'_'+ligandCode+'_npt.edr'\n",
    "output_npt_log = pdbCode+'_'+ligandCode+'_npt.log'\n",
    "output_npt_cpt = pdbCode+'_'+ligandCode+'_npt.cpt'\n",
    "\n",
    "# Create and launch bb\n",
    "mdrun(input_tpr_path=output_gppnpt_tpr,\n",
    "      output_trr_path=output_npt_trr,\n",
    "      output_gro_path=output_npt_gro,\n",
    "      output_edr_path=output_npt_edr,\n",
    "      output_log_path=output_npt_log,\n",
    "      output_cpt_path=output_npt_cpt)"
   ]
  },
  {
   "cell_type": "markdown",
   "metadata": {},
   "source": [
    "<a id=\"eqNPTStep3\"></a>\n",
    "### Step 3: Checking NPT Equilibration results\n",
    "Checking **NPT Equilibration** results. Plotting **system pressure and density** by time during the **NPT equilibration** process. "
   ]
  },
  {
   "cell_type": "code",
   "execution_count": 34,
   "metadata": {
    "scrolled": true
   },
   "outputs": [
    {
     "name": "stdout",
     "output_type": "stream",
     "text": [
      "2022-04-26 18:35:00,435 [MainThread  ] [INFO ]  Not using any container\n",
      "2022-04-26 18:35:00,463 [MainThread  ] [INFO ]  gmx energy -f /home/ma/git/druglord/temp/3HTB/3HTB_JZ4_npt.edr -o 3HTB_JZ4_npt_PD.xvg -xvg none < 937183b3-005f-48c4-8144-d2ee2e34d053/instructions.in\n",
      "\n",
      "2022-04-26 18:35:00,465 [MainThread  ] [INFO ]  Exit code 0\n",
      "\n",
      "2022-04-26 18:35:00,466 [MainThread  ] [INFO ]  \n",
      "Statistics over 5001 steps [ 0.0000 through 10.0000 ps ], 2 data sets\n",
      "All statistics are over 51 points\n",
      "\n",
      "Energy                      Average   Err.Est.       RMSD  Tot-Drift\n",
      "-------------------------------------------------------------------------------\n",
      "Pressure                    20.2931         23    179.511    33.9549  (bar)\n",
      "Density                     1025.23        3.3    7.68265    21.0857  (kg/m^3)\n",
      "\n",
      "2022-04-26 18:35:00,467 [MainThread  ] [INFO ]                        :-) GROMACS - gmx energy, 2019.1 (-:\n",
      "\n",
      "                            GROMACS is written by:\n",
      "     Emile Apol      Rossen Apostolov      Paul Bauer     Herman J.C. Berendsen\n",
      "    Par Bjelkmar      Christian Blau   Viacheslav Bolnykh     Kevin Boyd    \n",
      " Aldert van Buuren   Rudi van Drunen     Anton Feenstra       Alan Gray     \n",
      "  Gerrit Groenhof     Anca Hamuraru    Vincent Hindriksen  M. Eric Irrgang  \n",
      "  Aleksei Iupinov   Christoph Junghans     Joe Jordan     Dimitrios Karkoulis\n",
      "    Peter Kasson        Jiri Kraus      Carsten Kutzner      Per Larsson    \n",
      "  Justin A. Lemkul    Viveca Lindahl    Magnus Lundborg     Erik Marklund   \n",
      "    Pascal Merz     Pieter Meulenhoff    Teemu Murtola       Szilard Pall   \n",
      "    Sander Pronk      Roland Schulz      Michael Shirts    Alexey Shvetsov  \n",
      "   Alfons Sijbers     Peter Tieleman      Jon Vincent      Teemu Virolainen \n",
      " Christian Wennberg    Maarten Wolf   \n",
      "                           and the project leaders:\n",
      "        Mark Abraham, Berk Hess, Erik Lindahl, and David van der Spoel\n",
      "\n",
      "Copyright (c) 1991-2000, University of Groningen, The Netherlands.\n",
      "Copyright (c) 2001-2018, The GROMACS development team at\n",
      "Uppsala University, Stockholm University and\n",
      "the Royal Institute of Technology, Sweden.\n",
      "check out http://www.gromacs.org for more information.\n",
      "\n",
      "GROMACS is free software; you can redistribute it and/or modify it\n",
      "under the terms of the GNU Lesser General Public License\n",
      "as published by the Free Software Foundation; either version 2.1\n",
      "of the License, or (at your option) any later version.\n",
      "\n",
      "GROMACS:      gmx energy, version 2019.1\n",
      "Executable:   /home/ma/miniconda3/envs/biobb_Protein-Complex_MDsetup_tutorial/bin/gmx\n",
      "Data prefix:  /home/ma/miniconda3/envs/biobb_Protein-Complex_MDsetup_tutorial\n",
      "Working dir:  /home/ma/git/druglord/temp/3HTB\n",
      "Command line:\n",
      "  gmx energy -f /home/ma/git/druglord/temp/3HTB/3HTB_JZ4_npt.edr -o 3HTB_JZ4_npt_PD.xvg -xvg none\n",
      "\n",
      "Opened /home/ma/git/druglord/temp/3HTB/3HTB_JZ4_npt.edr as single precision energy file\n",
      "\n",
      "Select the terms you want from the following list by\n",
      "selecting either (part of) the name or the number or a combination.\n",
      "End your selection with an empty line or a zero.\n",
      "-------------------------------------------------------------------\n",
      "  1  Bond             2  Angle            3  Proper-Dih.      4  Improper-Dih. \n",
      "  5  LJ-14            6  Coulomb-14       7  LJ-(SR)          8  Disper.-corr. \n",
      "  9  Coulomb-(SR)    10  Coul.-recip.    11  Position-Rest.  12  Potential     \n",
      " 13  Kinetic-En.     14  Total-Energy    15  Conserved-En.   16  Temperature   \n",
      " 17  Pres.-DC        18  Pressure        19  Constr.-rmsd    20  Box-X         \n",
      " 21  Box-Y           22  Box-Z           23  Volume          24  Density       \n",
      " 25  pV              26  Enthalpy        27  Vir-XX          28  Vir-XY        \n",
      " 29  Vir-XZ          30  Vir-YX          31  Vir-YY          32  Vir-YZ        \n",
      " 33  Vir-ZX          34  Vir-ZY          35  Vir-ZZ          36  Pres-XX       \n",
      " 37  Pres-XY         38  Pres-XZ         39  Pres-YX         40  Pres-YY       \n",
      " 41  Pres-YZ         42  Pres-ZX         43  Pres-ZY         44  Pres-ZZ       \n",
      " 45  #Surf*SurfTen   46  Box-Vel-XX      47  Box-Vel-YY      48  Box-Vel-ZZ    \n",
      " 49  T-Protein_Other                     50  T-Water_and_ions                  \n",
      " 51  Lamb-Protein_Other                  52  Lamb-Water_and_ions               \n",
      "\n",
      "Last energy frame read 10 time   10.000           \n",
      "\n",
      "GROMACS reminds you: \"Beat On the Brat With a Baseball Bat\" (The Ramones)\n",
      "\n",
      "\n",
      "2022-04-26 18:35:00,469 [MainThread  ] [INFO ]  Removed: [PurePosixPath('937183b3-005f-48c4-8144-d2ee2e34d053')]\n"
     ]
    },
    {
     "data": {
      "text/plain": [
       "0"
      ]
     },
     "execution_count": 34,
     "metadata": {},
     "output_type": "execute_result"
    }
   ],
   "source": [
    "# GMXEnergy: Getting system pressure and density by time during NPT Equilibration  \n",
    "from biobb_analysis.gromacs.gmx_energy import gmx_energy\n",
    "\n",
    "# Create prop dict and inputs/outputs\n",
    "output_npt_pd_xvg = pdbCode+'_'+ligandCode+'_npt_PD.xvg'\n",
    "prop = {\n",
    "    'terms':  [\"Pressure\",\"Density\"]\n",
    "}\n",
    "\n",
    "# Create and launch bb\n",
    "gmx_energy(input_energy_path=output_npt_edr, \n",
    "          output_xvg_path=output_npt_pd_xvg, \n",
    "          properties=prop)"
   ]
  },
  {
   "cell_type": "code",
   "execution_count": 35,
   "metadata": {
    "scrolled": true
   },
   "outputs": [
    {
     "data": {
      "text/html": [
       "        <script type=\"text/javascript\">\n",
       "        window.PlotlyConfig = {MathJaxConfig: 'local'};\n",
       "        if (window.MathJax) {MathJax.Hub.Config({SVG: {font: \"STIX-Web\"}});}\n",
       "        if (typeof require !== 'undefined') {\n",
       "        require.undef(\"plotly\");\n",
       "        requirejs.config({\n",
       "            paths: {\n",
       "                'plotly': ['https://cdn.plot.ly/plotly-2.11.1.min']\n",
       "            }\n",
       "        });\n",
       "        require(['plotly'], function(Plotly) {\n",
       "            window._Plotly = Plotly;\n",
       "        });\n",
       "        }\n",
       "        </script>\n",
       "        "
      ]
     },
     "metadata": {},
     "output_type": "display_data"
    },
    {
     "data": {
      "application/vnd.plotly.v1+json": {
       "config": {
        "linkText": "Export to plot.ly",
        "plotlyServerURL": "https://plot.ly",
        "showLink": false
       },
       "data": [
        {
         "type": "scatter",
         "x": [
          0,
          1,
          2,
          3,
          4,
          5,
          6,
          7,
          8,
          9,
          10
         ],
         "xaxis": "x",
         "y": [
          -405.365173,
          108.208725,
          -360.632172,
          230.325577,
          71.856064,
          -123.404312,
          86.414627,
          -96.382309,
          -20.495499,
          -197.176376,
          229.384567
         ],
         "yaxis": "y"
        },
        {
         "type": "scatter",
         "x": [
          0,
          1,
          2,
          3,
          4,
          5,
          6,
          7,
          8,
          9,
          10
         ],
         "xaxis": "x2",
         "y": [
          995.065735,
          1011.834106,
          1017.762085,
          1026.532227,
          1028.684204,
          1022.119934,
          1028.992432,
          1030.025879,
          1030.029297,
          1029.438721,
          1031.321411
         ],
         "yaxis": "y2"
        }
       ],
       "layout": {
        "showlegend": false,
        "template": {
         "data": {
          "bar": [
           {
            "error_x": {
             "color": "#2a3f5f"
            },
            "error_y": {
             "color": "#2a3f5f"
            },
            "marker": {
             "line": {
              "color": "#E5ECF6",
              "width": 0.5
             },
             "pattern": {
              "fillmode": "overlay",
              "size": 10,
              "solidity": 0.2
             }
            },
            "type": "bar"
           }
          ],
          "barpolar": [
           {
            "marker": {
             "line": {
              "color": "#E5ECF6",
              "width": 0.5
             },
             "pattern": {
              "fillmode": "overlay",
              "size": 10,
              "solidity": 0.2
             }
            },
            "type": "barpolar"
           }
          ],
          "carpet": [
           {
            "aaxis": {
             "endlinecolor": "#2a3f5f",
             "gridcolor": "white",
             "linecolor": "white",
             "minorgridcolor": "white",
             "startlinecolor": "#2a3f5f"
            },
            "baxis": {
             "endlinecolor": "#2a3f5f",
             "gridcolor": "white",
             "linecolor": "white",
             "minorgridcolor": "white",
             "startlinecolor": "#2a3f5f"
            },
            "type": "carpet"
           }
          ],
          "choropleth": [
           {
            "colorbar": {
             "outlinewidth": 0,
             "ticks": ""
            },
            "type": "choropleth"
           }
          ],
          "contour": [
           {
            "colorbar": {
             "outlinewidth": 0,
             "ticks": ""
            },
            "colorscale": [
             [
              0,
              "#0d0887"
             ],
             [
              0.1111111111111111,
              "#46039f"
             ],
             [
              0.2222222222222222,
              "#7201a8"
             ],
             [
              0.3333333333333333,
              "#9c179e"
             ],
             [
              0.4444444444444444,
              "#bd3786"
             ],
             [
              0.5555555555555556,
              "#d8576b"
             ],
             [
              0.6666666666666666,
              "#ed7953"
             ],
             [
              0.7777777777777778,
              "#fb9f3a"
             ],
             [
              0.8888888888888888,
              "#fdca26"
             ],
             [
              1,
              "#f0f921"
             ]
            ],
            "type": "contour"
           }
          ],
          "contourcarpet": [
           {
            "colorbar": {
             "outlinewidth": 0,
             "ticks": ""
            },
            "type": "contourcarpet"
           }
          ],
          "heatmap": [
           {
            "colorbar": {
             "outlinewidth": 0,
             "ticks": ""
            },
            "colorscale": [
             [
              0,
              "#0d0887"
             ],
             [
              0.1111111111111111,
              "#46039f"
             ],
             [
              0.2222222222222222,
              "#7201a8"
             ],
             [
              0.3333333333333333,
              "#9c179e"
             ],
             [
              0.4444444444444444,
              "#bd3786"
             ],
             [
              0.5555555555555556,
              "#d8576b"
             ],
             [
              0.6666666666666666,
              "#ed7953"
             ],
             [
              0.7777777777777778,
              "#fb9f3a"
             ],
             [
              0.8888888888888888,
              "#fdca26"
             ],
             [
              1,
              "#f0f921"
             ]
            ],
            "type": "heatmap"
           }
          ],
          "heatmapgl": [
           {
            "colorbar": {
             "outlinewidth": 0,
             "ticks": ""
            },
            "colorscale": [
             [
              0,
              "#0d0887"
             ],
             [
              0.1111111111111111,
              "#46039f"
             ],
             [
              0.2222222222222222,
              "#7201a8"
             ],
             [
              0.3333333333333333,
              "#9c179e"
             ],
             [
              0.4444444444444444,
              "#bd3786"
             ],
             [
              0.5555555555555556,
              "#d8576b"
             ],
             [
              0.6666666666666666,
              "#ed7953"
             ],
             [
              0.7777777777777778,
              "#fb9f3a"
             ],
             [
              0.8888888888888888,
              "#fdca26"
             ],
             [
              1,
              "#f0f921"
             ]
            ],
            "type": "heatmapgl"
           }
          ],
          "histogram": [
           {
            "marker": {
             "pattern": {
              "fillmode": "overlay",
              "size": 10,
              "solidity": 0.2
             }
            },
            "type": "histogram"
           }
          ],
          "histogram2d": [
           {
            "colorbar": {
             "outlinewidth": 0,
             "ticks": ""
            },
            "colorscale": [
             [
              0,
              "#0d0887"
             ],
             [
              0.1111111111111111,
              "#46039f"
             ],
             [
              0.2222222222222222,
              "#7201a8"
             ],
             [
              0.3333333333333333,
              "#9c179e"
             ],
             [
              0.4444444444444444,
              "#bd3786"
             ],
             [
              0.5555555555555556,
              "#d8576b"
             ],
             [
              0.6666666666666666,
              "#ed7953"
             ],
             [
              0.7777777777777778,
              "#fb9f3a"
             ],
             [
              0.8888888888888888,
              "#fdca26"
             ],
             [
              1,
              "#f0f921"
             ]
            ],
            "type": "histogram2d"
           }
          ],
          "histogram2dcontour": [
           {
            "colorbar": {
             "outlinewidth": 0,
             "ticks": ""
            },
            "colorscale": [
             [
              0,
              "#0d0887"
             ],
             [
              0.1111111111111111,
              "#46039f"
             ],
             [
              0.2222222222222222,
              "#7201a8"
             ],
             [
              0.3333333333333333,
              "#9c179e"
             ],
             [
              0.4444444444444444,
              "#bd3786"
             ],
             [
              0.5555555555555556,
              "#d8576b"
             ],
             [
              0.6666666666666666,
              "#ed7953"
             ],
             [
              0.7777777777777778,
              "#fb9f3a"
             ],
             [
              0.8888888888888888,
              "#fdca26"
             ],
             [
              1,
              "#f0f921"
             ]
            ],
            "type": "histogram2dcontour"
           }
          ],
          "mesh3d": [
           {
            "colorbar": {
             "outlinewidth": 0,
             "ticks": ""
            },
            "type": "mesh3d"
           }
          ],
          "parcoords": [
           {
            "line": {
             "colorbar": {
              "outlinewidth": 0,
              "ticks": ""
             }
            },
            "type": "parcoords"
           }
          ],
          "pie": [
           {
            "automargin": true,
            "type": "pie"
           }
          ],
          "scatter": [
           {
            "fillpattern": {
             "fillmode": "overlay",
             "size": 10,
             "solidity": 0.2
            },
            "type": "scatter"
           }
          ],
          "scatter3d": [
           {
            "line": {
             "colorbar": {
              "outlinewidth": 0,
              "ticks": ""
             }
            },
            "marker": {
             "colorbar": {
              "outlinewidth": 0,
              "ticks": ""
             }
            },
            "type": "scatter3d"
           }
          ],
          "scattercarpet": [
           {
            "marker": {
             "colorbar": {
              "outlinewidth": 0,
              "ticks": ""
             }
            },
            "type": "scattercarpet"
           }
          ],
          "scattergeo": [
           {
            "marker": {
             "colorbar": {
              "outlinewidth": 0,
              "ticks": ""
             }
            },
            "type": "scattergeo"
           }
          ],
          "scattergl": [
           {
            "marker": {
             "colorbar": {
              "outlinewidth": 0,
              "ticks": ""
             }
            },
            "type": "scattergl"
           }
          ],
          "scattermapbox": [
           {
            "marker": {
             "colorbar": {
              "outlinewidth": 0,
              "ticks": ""
             }
            },
            "type": "scattermapbox"
           }
          ],
          "scatterpolar": [
           {
            "marker": {
             "colorbar": {
              "outlinewidth": 0,
              "ticks": ""
             }
            },
            "type": "scatterpolar"
           }
          ],
          "scatterpolargl": [
           {
            "marker": {
             "colorbar": {
              "outlinewidth": 0,
              "ticks": ""
             }
            },
            "type": "scatterpolargl"
           }
          ],
          "scatterternary": [
           {
            "marker": {
             "colorbar": {
              "outlinewidth": 0,
              "ticks": ""
             }
            },
            "type": "scatterternary"
           }
          ],
          "surface": [
           {
            "colorbar": {
             "outlinewidth": 0,
             "ticks": ""
            },
            "colorscale": [
             [
              0,
              "#0d0887"
             ],
             [
              0.1111111111111111,
              "#46039f"
             ],
             [
              0.2222222222222222,
              "#7201a8"
             ],
             [
              0.3333333333333333,
              "#9c179e"
             ],
             [
              0.4444444444444444,
              "#bd3786"
             ],
             [
              0.5555555555555556,
              "#d8576b"
             ],
             [
              0.6666666666666666,
              "#ed7953"
             ],
             [
              0.7777777777777778,
              "#fb9f3a"
             ],
             [
              0.8888888888888888,
              "#fdca26"
             ],
             [
              1,
              "#f0f921"
             ]
            ],
            "type": "surface"
           }
          ],
          "table": [
           {
            "cells": {
             "fill": {
              "color": "#EBF0F8"
             },
             "line": {
              "color": "white"
             }
            },
            "header": {
             "fill": {
              "color": "#C8D4E3"
             },
             "line": {
              "color": "white"
             }
            },
            "type": "table"
           }
          ]
         },
         "layout": {
          "annotationdefaults": {
           "arrowcolor": "#2a3f5f",
           "arrowhead": 0,
           "arrowwidth": 1
          },
          "autotypenumbers": "strict",
          "coloraxis": {
           "colorbar": {
            "outlinewidth": 0,
            "ticks": ""
           }
          },
          "colorscale": {
           "diverging": [
            [
             0,
             "#8e0152"
            ],
            [
             0.1,
             "#c51b7d"
            ],
            [
             0.2,
             "#de77ae"
            ],
            [
             0.3,
             "#f1b6da"
            ],
            [
             0.4,
             "#fde0ef"
            ],
            [
             0.5,
             "#f7f7f7"
            ],
            [
             0.6,
             "#e6f5d0"
            ],
            [
             0.7,
             "#b8e186"
            ],
            [
             0.8,
             "#7fbc41"
            ],
            [
             0.9,
             "#4d9221"
            ],
            [
             1,
             "#276419"
            ]
           ],
           "sequential": [
            [
             0,
             "#0d0887"
            ],
            [
             0.1111111111111111,
             "#46039f"
            ],
            [
             0.2222222222222222,
             "#7201a8"
            ],
            [
             0.3333333333333333,
             "#9c179e"
            ],
            [
             0.4444444444444444,
             "#bd3786"
            ],
            [
             0.5555555555555556,
             "#d8576b"
            ],
            [
             0.6666666666666666,
             "#ed7953"
            ],
            [
             0.7777777777777778,
             "#fb9f3a"
            ],
            [
             0.8888888888888888,
             "#fdca26"
            ],
            [
             1,
             "#f0f921"
            ]
           ],
           "sequentialminus": [
            [
             0,
             "#0d0887"
            ],
            [
             0.1111111111111111,
             "#46039f"
            ],
            [
             0.2222222222222222,
             "#7201a8"
            ],
            [
             0.3333333333333333,
             "#9c179e"
            ],
            [
             0.4444444444444444,
             "#bd3786"
            ],
            [
             0.5555555555555556,
             "#d8576b"
            ],
            [
             0.6666666666666666,
             "#ed7953"
            ],
            [
             0.7777777777777778,
             "#fb9f3a"
            ],
            [
             0.8888888888888888,
             "#fdca26"
            ],
            [
             1,
             "#f0f921"
            ]
           ]
          },
          "colorway": [
           "#636efa",
           "#EF553B",
           "#00cc96",
           "#ab63fa",
           "#FFA15A",
           "#19d3f3",
           "#FF6692",
           "#B6E880",
           "#FF97FF",
           "#FECB52"
          ],
          "font": {
           "color": "#2a3f5f"
          },
          "geo": {
           "bgcolor": "white",
           "lakecolor": "white",
           "landcolor": "#E5ECF6",
           "showlakes": true,
           "showland": true,
           "subunitcolor": "white"
          },
          "hoverlabel": {
           "align": "left"
          },
          "hovermode": "closest",
          "mapbox": {
           "style": "light"
          },
          "paper_bgcolor": "white",
          "plot_bgcolor": "#E5ECF6",
          "polar": {
           "angularaxis": {
            "gridcolor": "white",
            "linecolor": "white",
            "ticks": ""
           },
           "bgcolor": "#E5ECF6",
           "radialaxis": {
            "gridcolor": "white",
            "linecolor": "white",
            "ticks": ""
           }
          },
          "scene": {
           "xaxis": {
            "backgroundcolor": "#E5ECF6",
            "gridcolor": "white",
            "gridwidth": 2,
            "linecolor": "white",
            "showbackground": true,
            "ticks": "",
            "zerolinecolor": "white"
           },
           "yaxis": {
            "backgroundcolor": "#E5ECF6",
            "gridcolor": "white",
            "gridwidth": 2,
            "linecolor": "white",
            "showbackground": true,
            "ticks": "",
            "zerolinecolor": "white"
           },
           "zaxis": {
            "backgroundcolor": "#E5ECF6",
            "gridcolor": "white",
            "gridwidth": 2,
            "linecolor": "white",
            "showbackground": true,
            "ticks": "",
            "zerolinecolor": "white"
           }
          },
          "shapedefaults": {
           "line": {
            "color": "#2a3f5f"
           }
          },
          "ternary": {
           "aaxis": {
            "gridcolor": "white",
            "linecolor": "white",
            "ticks": ""
           },
           "baxis": {
            "gridcolor": "white",
            "linecolor": "white",
            "ticks": ""
           },
           "bgcolor": "#E5ECF6",
           "caxis": {
            "gridcolor": "white",
            "linecolor": "white",
            "ticks": ""
           }
          },
          "title": {
           "x": 0.05
          },
          "xaxis": {
           "automargin": true,
           "gridcolor": "white",
           "linecolor": "white",
           "ticks": "",
           "title": {
            "standoff": 15
           },
           "zerolinecolor": "white",
           "zerolinewidth": 2
          },
          "yaxis": {
           "automargin": true,
           "gridcolor": "white",
           "linecolor": "white",
           "ticks": "",
           "title": {
            "standoff": 15
           },
           "zerolinecolor": "white",
           "zerolinewidth": 2
          }
         }
        },
        "title": {
         "text": "Pressure and Density during NPT Equilibration"
        },
        "xaxis": {
         "anchor": "y",
         "domain": [
          0,
          0.45
         ],
         "title": {
          "text": "Time (ps)"
         }
        },
        "xaxis2": {
         "anchor": "y2",
         "domain": [
          0.55,
          1
         ],
         "title": {
          "text": "Time (ps)"
         }
        },
        "yaxis": {
         "anchor": "x",
         "domain": [
          0,
          1
         ],
         "title": {
          "text": "Pressure (bar)"
         }
        },
        "yaxis2": {
         "anchor": "x2",
         "domain": [
          0,
          1
         ],
         "title": {
          "text": "Density (Kg*m^-3)"
         }
        }
       }
      },
      "text/html": [
       "<div>                            <div id=\"0a14f008-410e-41c2-91db-1899cf388fc2\" class=\"plotly-graph-div\" style=\"height:525px; width:100%;\"></div>            <script type=\"text/javascript\">                require([\"plotly\"], function(Plotly) {                    window.PLOTLYENV=window.PLOTLYENV || {};                                    if (document.getElementById(\"0a14f008-410e-41c2-91db-1899cf388fc2\")) {                    Plotly.newPlot(                        \"0a14f008-410e-41c2-91db-1899cf388fc2\",                        [{\"x\":[0.0,1.0,2.0,3.0,4.0,5.0,6.0,7.0,8.0,9.0,10.0],\"xaxis\":\"x\",\"y\":[-405.365173,108.208725,-360.632172,230.325577,71.856064,-123.404312,86.414627,-96.382309,-20.495499,-197.176376,229.384567],\"yaxis\":\"y\",\"type\":\"scatter\"},{\"x\":[0.0,1.0,2.0,3.0,4.0,5.0,6.0,7.0,8.0,9.0,10.0],\"xaxis\":\"x2\",\"y\":[995.065735,1011.834106,1017.762085,1026.532227,1028.684204,1022.119934,1028.992432,1030.025879,1030.029297,1029.438721,1031.321411],\"yaxis\":\"y2\",\"type\":\"scatter\"}],                        {\"showlegend\":false,\"template\":{\"data\":{\"barpolar\":[{\"marker\":{\"line\":{\"color\":\"#E5ECF6\",\"width\":0.5},\"pattern\":{\"fillmode\":\"overlay\",\"size\":10,\"solidity\":0.2}},\"type\":\"barpolar\"}],\"bar\":[{\"error_x\":{\"color\":\"#2a3f5f\"},\"error_y\":{\"color\":\"#2a3f5f\"},\"marker\":{\"line\":{\"color\":\"#E5ECF6\",\"width\":0.5},\"pattern\":{\"fillmode\":\"overlay\",\"size\":10,\"solidity\":0.2}},\"type\":\"bar\"}],\"carpet\":[{\"aaxis\":{\"endlinecolor\":\"#2a3f5f\",\"gridcolor\":\"white\",\"linecolor\":\"white\",\"minorgridcolor\":\"white\",\"startlinecolor\":\"#2a3f5f\"},\"baxis\":{\"endlinecolor\":\"#2a3f5f\",\"gridcolor\":\"white\",\"linecolor\":\"white\",\"minorgridcolor\":\"white\",\"startlinecolor\":\"#2a3f5f\"},\"type\":\"carpet\"}],\"choropleth\":[{\"colorbar\":{\"outlinewidth\":0,\"ticks\":\"\"},\"type\":\"choropleth\"}],\"contourcarpet\":[{\"colorbar\":{\"outlinewidth\":0,\"ticks\":\"\"},\"type\":\"contourcarpet\"}],\"contour\":[{\"colorbar\":{\"outlinewidth\":0,\"ticks\":\"\"},\"colorscale\":[[0.0,\"#0d0887\"],[0.1111111111111111,\"#46039f\"],[0.2222222222222222,\"#7201a8\"],[0.3333333333333333,\"#9c179e\"],[0.4444444444444444,\"#bd3786\"],[0.5555555555555556,\"#d8576b\"],[0.6666666666666666,\"#ed7953\"],[0.7777777777777778,\"#fb9f3a\"],[0.8888888888888888,\"#fdca26\"],[1.0,\"#f0f921\"]],\"type\":\"contour\"}],\"heatmapgl\":[{\"colorbar\":{\"outlinewidth\":0,\"ticks\":\"\"},\"colorscale\":[[0.0,\"#0d0887\"],[0.1111111111111111,\"#46039f\"],[0.2222222222222222,\"#7201a8\"],[0.3333333333333333,\"#9c179e\"],[0.4444444444444444,\"#bd3786\"],[0.5555555555555556,\"#d8576b\"],[0.6666666666666666,\"#ed7953\"],[0.7777777777777778,\"#fb9f3a\"],[0.8888888888888888,\"#fdca26\"],[1.0,\"#f0f921\"]],\"type\":\"heatmapgl\"}],\"heatmap\":[{\"colorbar\":{\"outlinewidth\":0,\"ticks\":\"\"},\"colorscale\":[[0.0,\"#0d0887\"],[0.1111111111111111,\"#46039f\"],[0.2222222222222222,\"#7201a8\"],[0.3333333333333333,\"#9c179e\"],[0.4444444444444444,\"#bd3786\"],[0.5555555555555556,\"#d8576b\"],[0.6666666666666666,\"#ed7953\"],[0.7777777777777778,\"#fb9f3a\"],[0.8888888888888888,\"#fdca26\"],[1.0,\"#f0f921\"]],\"type\":\"heatmap\"}],\"histogram2dcontour\":[{\"colorbar\":{\"outlinewidth\":0,\"ticks\":\"\"},\"colorscale\":[[0.0,\"#0d0887\"],[0.1111111111111111,\"#46039f\"],[0.2222222222222222,\"#7201a8\"],[0.3333333333333333,\"#9c179e\"],[0.4444444444444444,\"#bd3786\"],[0.5555555555555556,\"#d8576b\"],[0.6666666666666666,\"#ed7953\"],[0.7777777777777778,\"#fb9f3a\"],[0.8888888888888888,\"#fdca26\"],[1.0,\"#f0f921\"]],\"type\":\"histogram2dcontour\"}],\"histogram2d\":[{\"colorbar\":{\"outlinewidth\":0,\"ticks\":\"\"},\"colorscale\":[[0.0,\"#0d0887\"],[0.1111111111111111,\"#46039f\"],[0.2222222222222222,\"#7201a8\"],[0.3333333333333333,\"#9c179e\"],[0.4444444444444444,\"#bd3786\"],[0.5555555555555556,\"#d8576b\"],[0.6666666666666666,\"#ed7953\"],[0.7777777777777778,\"#fb9f3a\"],[0.8888888888888888,\"#fdca26\"],[1.0,\"#f0f921\"]],\"type\":\"histogram2d\"}],\"histogram\":[{\"marker\":{\"pattern\":{\"fillmode\":\"overlay\",\"size\":10,\"solidity\":0.2}},\"type\":\"histogram\"}],\"mesh3d\":[{\"colorbar\":{\"outlinewidth\":0,\"ticks\":\"\"},\"type\":\"mesh3d\"}],\"parcoords\":[{\"line\":{\"colorbar\":{\"outlinewidth\":0,\"ticks\":\"\"}},\"type\":\"parcoords\"}],\"pie\":[{\"automargin\":true,\"type\":\"pie\"}],\"scatter3d\":[{\"line\":{\"colorbar\":{\"outlinewidth\":0,\"ticks\":\"\"}},\"marker\":{\"colorbar\":{\"outlinewidth\":0,\"ticks\":\"\"}},\"type\":\"scatter3d\"}],\"scattercarpet\":[{\"marker\":{\"colorbar\":{\"outlinewidth\":0,\"ticks\":\"\"}},\"type\":\"scattercarpet\"}],\"scattergeo\":[{\"marker\":{\"colorbar\":{\"outlinewidth\":0,\"ticks\":\"\"}},\"type\":\"scattergeo\"}],\"scattergl\":[{\"marker\":{\"colorbar\":{\"outlinewidth\":0,\"ticks\":\"\"}},\"type\":\"scattergl\"}],\"scattermapbox\":[{\"marker\":{\"colorbar\":{\"outlinewidth\":0,\"ticks\":\"\"}},\"type\":\"scattermapbox\"}],\"scatterpolargl\":[{\"marker\":{\"colorbar\":{\"outlinewidth\":0,\"ticks\":\"\"}},\"type\":\"scatterpolargl\"}],\"scatterpolar\":[{\"marker\":{\"colorbar\":{\"outlinewidth\":0,\"ticks\":\"\"}},\"type\":\"scatterpolar\"}],\"scatter\":[{\"fillpattern\":{\"fillmode\":\"overlay\",\"size\":10,\"solidity\":0.2},\"type\":\"scatter\"}],\"scatterternary\":[{\"marker\":{\"colorbar\":{\"outlinewidth\":0,\"ticks\":\"\"}},\"type\":\"scatterternary\"}],\"surface\":[{\"colorbar\":{\"outlinewidth\":0,\"ticks\":\"\"},\"colorscale\":[[0.0,\"#0d0887\"],[0.1111111111111111,\"#46039f\"],[0.2222222222222222,\"#7201a8\"],[0.3333333333333333,\"#9c179e\"],[0.4444444444444444,\"#bd3786\"],[0.5555555555555556,\"#d8576b\"],[0.6666666666666666,\"#ed7953\"],[0.7777777777777778,\"#fb9f3a\"],[0.8888888888888888,\"#fdca26\"],[1.0,\"#f0f921\"]],\"type\":\"surface\"}],\"table\":[{\"cells\":{\"fill\":{\"color\":\"#EBF0F8\"},\"line\":{\"color\":\"white\"}},\"header\":{\"fill\":{\"color\":\"#C8D4E3\"},\"line\":{\"color\":\"white\"}},\"type\":\"table\"}]},\"layout\":{\"annotationdefaults\":{\"arrowcolor\":\"#2a3f5f\",\"arrowhead\":0,\"arrowwidth\":1},\"autotypenumbers\":\"strict\",\"coloraxis\":{\"colorbar\":{\"outlinewidth\":0,\"ticks\":\"\"}},\"colorscale\":{\"diverging\":[[0,\"#8e0152\"],[0.1,\"#c51b7d\"],[0.2,\"#de77ae\"],[0.3,\"#f1b6da\"],[0.4,\"#fde0ef\"],[0.5,\"#f7f7f7\"],[0.6,\"#e6f5d0\"],[0.7,\"#b8e186\"],[0.8,\"#7fbc41\"],[0.9,\"#4d9221\"],[1,\"#276419\"]],\"sequential\":[[0.0,\"#0d0887\"],[0.1111111111111111,\"#46039f\"],[0.2222222222222222,\"#7201a8\"],[0.3333333333333333,\"#9c179e\"],[0.4444444444444444,\"#bd3786\"],[0.5555555555555556,\"#d8576b\"],[0.6666666666666666,\"#ed7953\"],[0.7777777777777778,\"#fb9f3a\"],[0.8888888888888888,\"#fdca26\"],[1.0,\"#f0f921\"]],\"sequentialminus\":[[0.0,\"#0d0887\"],[0.1111111111111111,\"#46039f\"],[0.2222222222222222,\"#7201a8\"],[0.3333333333333333,\"#9c179e\"],[0.4444444444444444,\"#bd3786\"],[0.5555555555555556,\"#d8576b\"],[0.6666666666666666,\"#ed7953\"],[0.7777777777777778,\"#fb9f3a\"],[0.8888888888888888,\"#fdca26\"],[1.0,\"#f0f921\"]]},\"colorway\":[\"#636efa\",\"#EF553B\",\"#00cc96\",\"#ab63fa\",\"#FFA15A\",\"#19d3f3\",\"#FF6692\",\"#B6E880\",\"#FF97FF\",\"#FECB52\"],\"font\":{\"color\":\"#2a3f5f\"},\"geo\":{\"bgcolor\":\"white\",\"lakecolor\":\"white\",\"landcolor\":\"#E5ECF6\",\"showlakes\":true,\"showland\":true,\"subunitcolor\":\"white\"},\"hoverlabel\":{\"align\":\"left\"},\"hovermode\":\"closest\",\"mapbox\":{\"style\":\"light\"},\"paper_bgcolor\":\"white\",\"plot_bgcolor\":\"#E5ECF6\",\"polar\":{\"angularaxis\":{\"gridcolor\":\"white\",\"linecolor\":\"white\",\"ticks\":\"\"},\"bgcolor\":\"#E5ECF6\",\"radialaxis\":{\"gridcolor\":\"white\",\"linecolor\":\"white\",\"ticks\":\"\"}},\"scene\":{\"xaxis\":{\"backgroundcolor\":\"#E5ECF6\",\"gridcolor\":\"white\",\"gridwidth\":2,\"linecolor\":\"white\",\"showbackground\":true,\"ticks\":\"\",\"zerolinecolor\":\"white\"},\"yaxis\":{\"backgroundcolor\":\"#E5ECF6\",\"gridcolor\":\"white\",\"gridwidth\":2,\"linecolor\":\"white\",\"showbackground\":true,\"ticks\":\"\",\"zerolinecolor\":\"white\"},\"zaxis\":{\"backgroundcolor\":\"#E5ECF6\",\"gridcolor\":\"white\",\"gridwidth\":2,\"linecolor\":\"white\",\"showbackground\":true,\"ticks\":\"\",\"zerolinecolor\":\"white\"}},\"shapedefaults\":{\"line\":{\"color\":\"#2a3f5f\"}},\"ternary\":{\"aaxis\":{\"gridcolor\":\"white\",\"linecolor\":\"white\",\"ticks\":\"\"},\"baxis\":{\"gridcolor\":\"white\",\"linecolor\":\"white\",\"ticks\":\"\"},\"bgcolor\":\"#E5ECF6\",\"caxis\":{\"gridcolor\":\"white\",\"linecolor\":\"white\",\"ticks\":\"\"}},\"title\":{\"x\":0.05},\"xaxis\":{\"automargin\":true,\"gridcolor\":\"white\",\"linecolor\":\"white\",\"ticks\":\"\",\"title\":{\"standoff\":15},\"zerolinecolor\":\"white\",\"zerolinewidth\":2},\"yaxis\":{\"automargin\":true,\"gridcolor\":\"white\",\"linecolor\":\"white\",\"ticks\":\"\",\"title\":{\"standoff\":15},\"zerolinecolor\":\"white\",\"zerolinewidth\":2}}},\"title\":{\"text\":\"Pressure and Density during NPT Equilibration\"},\"xaxis\":{\"anchor\":\"y\",\"domain\":[0.0,0.45],\"title\":{\"text\":\"Time (ps)\"}},\"yaxis\":{\"anchor\":\"x\",\"domain\":[0.0,1.0],\"title\":{\"text\":\"Pressure (bar)\"}},\"xaxis2\":{\"anchor\":\"y2\",\"domain\":[0.55,1.0],\"title\":{\"text\":\"Time (ps)\"}},\"yaxis2\":{\"anchor\":\"x2\",\"domain\":[0.0,1.0],\"title\":{\"text\":\"Density (Kg*m^-3)\"}}},                        {\"responsive\": true}                    ).then(function(){\n",
       "                            \n",
       "var gd = document.getElementById('0a14f008-410e-41c2-91db-1899cf388fc2');\n",
       "var x = new MutationObserver(function (mutations, observer) {{\n",
       "        var display = window.getComputedStyle(gd).display;\n",
       "        if (!display || display === 'none') {{\n",
       "            console.log([gd, 'removed!']);\n",
       "            Plotly.purge(gd);\n",
       "            observer.disconnect();\n",
       "        }}\n",
       "}});\n",
       "\n",
       "// Listen for the removal of the full notebook cells\n",
       "var notebookContainer = gd.closest('#notebook-container');\n",
       "if (notebookContainer) {{\n",
       "    x.observe(notebookContainer, {childList: true});\n",
       "}}\n",
       "\n",
       "// Listen for the clearing of the current output cell\n",
       "var outputEl = gd.closest('.output');\n",
       "if (outputEl) {{\n",
       "    x.observe(outputEl, {childList: true});\n",
       "}}\n",
       "\n",
       "                        })                };                });            </script>        </div>"
      ]
     },
     "metadata": {},
     "output_type": "display_data"
    }
   ],
   "source": [
    "import plotly\n",
    "from plotly import subplots\n",
    "import plotly.graph_objs as go\n",
    "\n",
    "# Read pressure and density data from file \n",
    "with open(output_npt_pd_xvg,'r') as pd_file:\n",
    "    x,y,z = map(\n",
    "        list,\n",
    "        zip(*[\n",
    "            (float(line.split()[0]),float(line.split()[1]),float(line.split()[2]))\n",
    "            for line in pd_file \n",
    "            if not line.startswith((\"#\",\"@\")) \n",
    "        ])\n",
    "    )\n",
    "\n",
    "plotly.offline.init_notebook_mode(connected=True)\n",
    "\n",
    "trace1 = go.Scatter(\n",
    "    x=x,y=y\n",
    ")\n",
    "trace2 = go.Scatter(\n",
    "    x=x,y=z\n",
    ")\n",
    "\n",
    "fig = subplots.make_subplots(rows=1, cols=2, print_grid=False)\n",
    "\n",
    "fig.append_trace(trace1, 1, 1)\n",
    "fig.append_trace(trace2, 1, 2)\n",
    "\n",
    "fig['layout']['xaxis1'].update(title='Time (ps)')\n",
    "fig['layout']['xaxis2'].update(title='Time (ps)')\n",
    "fig['layout']['yaxis1'].update(title='Pressure (bar)')\n",
    "fig['layout']['yaxis2'].update(title='Density (Kg*m^-3)')\n",
    "\n",
    "fig['layout'].update(title='Pressure and Density during NPT Equilibration')\n",
    "fig['layout'].update(showlegend=False)\n",
    "\n",
    "plotly.offline.iplot(fig)"
   ]
  },
  {
   "cell_type": "markdown",
   "metadata": {},
   "source": [
    "<a id=\"free\"></a>\n",
    "***\n",
    "## Free Molecular Dynamics Simulation\n",
    "Upon completion of the **two equilibration phases (NVT and NPT)**, the system is now well-equilibrated at the desired temperature and pressure. The **position restraints** can now be released. The last step of the **protein-ligand complex** MD setup is a short, **free MD simulation**, to ensure the robustness of the system. \n",
    "- [Step 1](#mdStep1): Creating portable binary run file to run a **free MD simulation**.\n",
    "- [Step 2](#mdStep2): Run short MD simulation of the **protein-ligand complex**.\n",
    "- [Step 3](#mdStep3): Checking results for the final step of the setup process, the **free MD run**. Plotting **Root Mean Square deviation (RMSd)** and **Radius of Gyration (Rgyr)** by time during the **free MD run** step. \n",
    "***\n",
    "**Building Blocks** used:\n",
    " - [Grompp](https://biobb-md.readthedocs.io/en/latest/gromacs.html#module-gromacs.grompp) from **biobb_md.gromacs.grompp** \n",
    " - [Mdrun](https://biobb-md.readthedocs.io/en/latest/gromacs.html#module-gromacs.mdrun) from **biobb_md.gromacs.mdrun** \n",
    " - [GMXRms](https://biobb-analysis.readthedocs.io/en/latest/gromacs.html#module-gromacs.gmx_rms) from **biobb_analysis.gromacs.gmx_rms** \n",
    " - [GMXRgyr](https://biobb-analysis.readthedocs.io/en/latest/gromacs.html#module-gromacs.gmx_rgyr) from **biobb_analysis.gromacs.gmx_rgyr** \n",
    "***"
   ]
  },
  {
   "cell_type": "markdown",
   "metadata": {},
   "source": [
    "<a id=\"mdStep1\"></a>\n",
    "### Step 1: Creating portable binary run file to run a free MD simulation"
   ]
  },
  {
   "cell_type": "code",
   "execution_count": 36,
   "metadata": {
    "scrolled": true
   },
   "outputs": [
    {
     "name": "stdout",
     "output_type": "stream",
     "text": [
      "2022-04-26 18:35:01,235 [MainThread  ] [INFO ]  GROMACS Grompp 20191 version detected\n",
      "2022-04-26 18:35:01,241 [MainThread  ] [INFO ]  Extracting: /home/ma/git/druglord/temp/3HTB/3HTB_JZ4_genion_top.zip\n",
      "2022-04-26 18:35:01,242 [MainThread  ] [INFO ]  to:\n",
      "2022-04-26 18:35:01,242 [MainThread  ] [INFO ]  ['cdb5d017-7a1c-4cae-a830-e5929e918988/JZ4_posres.itp', 'cdb5d017-7a1c-4cae-a830-e5929e918988/JZ4params.itp', 'cdb5d017-7a1c-4cae-a830-e5929e918988/ligand.top', 'cdb5d017-7a1c-4cae-a830-e5929e918988/posre.itp']\n",
      "2022-04-26 18:35:01,243 [MainThread  ] [INFO ]  Unzipping: \n",
      "2022-04-26 18:35:01,244 [MainThread  ] [INFO ]  3HTB_JZ4_genion_top.zip\n",
      "2022-04-26 18:35:01,244 [MainThread  ] [INFO ]  To: \n",
      "2022-04-26 18:35:01,245 [MainThread  ] [INFO ]  cdb5d017-7a1c-4cae-a830-e5929e918988/JZ4_posres.itp\n",
      "2022-04-26 18:35:01,246 [MainThread  ] [INFO ]  cdb5d017-7a1c-4cae-a830-e5929e918988/JZ4params.itp\n",
      "2022-04-26 18:35:01,246 [MainThread  ] [INFO ]  cdb5d017-7a1c-4cae-a830-e5929e918988/ligand.top\n",
      "2022-04-26 18:35:01,247 [MainThread  ] [INFO ]  cdb5d017-7a1c-4cae-a830-e5929e918988/posre.itp\n",
      "2022-04-26 18:35:01,248 [MainThread  ] [INFO ]  Not using any container\n",
      "2022-04-26 18:35:01,516 [MainThread  ] [INFO ]  gmx -nobackup -nocopyright grompp -f f007bd86-e0d2-44c5-8f39-af33244427a8/grompp.mdp -c 3HTB_JZ4_npt.gro -r 3HTB_JZ4_npt.gro -p cdb5d017-7a1c-4cae-a830-e5929e918988/ligand.top -o 3HTB_JZ4_gppmd.tpr -po mdout.mdp -maxwarn 0 -t 3HTB_JZ4_npt.cpt\n",
      "\n",
      "2022-04-26 18:35:01,518 [MainThread  ] [INFO ]  Exit code 0\n",
      "\n",
      "2022-04-26 18:35:01,519 [MainThread  ] [INFO ]  turning H bonds into constraints...\n",
      "turning H bonds into constraints...\n",
      "turning H bonds into constraints...\n",
      "turning H bonds into constraints...\n",
      "turning H bonds into constraints...\n",
      "Analysing residue names:\n",
      "There are:   163    Protein residues\n",
      "There are:     1      Other residues\n",
      "There are:  9505      Water residues\n",
      "There are:    26        Ion residues\n",
      "Analysing Protein...\n",
      "Analysing residues not classified as Protein/DNA/RNA/Water and splitting into groups...\n",
      "Analysing residues not classified as Protein/DNA/RNA/Water and splitting into groups...\n",
      "Determining Verlet buffer for a tolerance of 0.005 kJ/mol/ps at 300 K\n",
      "Calculated rlist for 1x1 atom pair-list as 1.035 nm, buffer size 0.035 nm\n",
      "Set rlist, assuming 4x4 atom pair-list, to 1.000 nm, buffer size 0.000 nm\n",
      "Note that mdrun will redetermine rlist based on the actual pair-list setup\n",
      "Calculating fourier grid dimensions for X Y Z\n",
      "Using a fourier grid of 64x64x64, spacing 0.115 0.115 0.115\n",
      "This run will generate roughly 11 Mb of data\n",
      "\n",
      "2022-04-26 18:35:01,521 [MainThread  ] [INFO ]                        :-) GROMACS - gmx grompp, 2019.1 (-:\n",
      "\n",
      "Executable:   /home/ma/miniconda3/envs/biobb_Protein-Complex_MDsetup_tutorial/bin/gmx\n",
      "Data prefix:  /home/ma/miniconda3/envs/biobb_Protein-Complex_MDsetup_tutorial\n",
      "Working dir:  /home/ma/git/druglord/temp/3HTB\n",
      "Command line:\n",
      "  gmx -nobackup -nocopyright grompp -f f007bd86-e0d2-44c5-8f39-af33244427a8/grompp.mdp -c 3HTB_JZ4_npt.gro -r 3HTB_JZ4_npt.gro -p cdb5d017-7a1c-4cae-a830-e5929e918988/ligand.top -o 3HTB_JZ4_gppmd.tpr -po mdout.mdp -maxwarn 0 -t 3HTB_JZ4_npt.cpt\n",
      "\n",
      "Setting the LD random seed to 887780707\n",
      "Generated 2556 of the 2556 non-bonded parameter combinations\n",
      "Generating 1-4 interactions: fudge = 0.5\n",
      "Generated 2556 of the 2556 1-4 parameter combinations\n",
      "Excluding 3 bonded neighbours molecule type 'Protein_chain_A'\n",
      "Excluding 3 bonded neighbours molecule type 'JZ4params'\n",
      "Excluding 2 bonded neighbours molecule type 'SOL'\n",
      "Excluding 1 bonded neighbours molecule type 'NA'\n",
      "Excluding 1 bonded neighbours molecule type 'CL'\n",
      "Removing all charge groups because cutoff-scheme=Verlet\n",
      "Number of degrees of freedom in T-Coupling group Protein is 6528.69\n",
      "Number of degrees of freedom in T-Coupling group non-Protein is 57159.31\n",
      "Reading Coordinates, Velocities and Box size from old trajectory\n",
      "Will read whole trajectory\n",
      "Last frame         -1 time   10.000   \n",
      "Using frame at t = 10 ps\n",
      "Starting time for run is 0 ps\n",
      "Estimate for the relative computational load of the PME mesh part: 0.20\n",
      "\n",
      "GROMACS reminds you: \"Don't Follow Me Home\" (Throwing Muses)\n",
      "\n",
      "\n",
      "2022-04-26 18:35:01,523 [MainThread  ] [INFO ]  Removed: ['mdout.mdp', 'cdb5d017-7a1c-4cae-a830-e5929e918988', 'f007bd86-e0d2-44c5-8f39-af33244427a8']\n"
     ]
    },
    {
     "data": {
      "text/plain": [
       "0"
      ]
     },
     "execution_count": 36,
     "metadata": {},
     "output_type": "execute_result"
    }
   ],
   "source": [
    "# Grompp: Creating portable binary run file for mdrun\n",
    "from biobb_md.gromacs.grompp import grompp\n",
    "\n",
    "# Create prop dict and inputs/outputs\n",
    "prop = {\n",
    "    'mdp':{\n",
    "        #'nsteps':'500000' # 1 ns (500,000 steps x 2fs per step)\n",
    "        #'nsteps':'5000' # 10 ps (5,000 steps x 2fs per step)\n",
    "        'nsteps':'25000' # 50 ps (25,000 steps x 2fs per step)\n",
    "    },\n",
    "    'simulation_type':'free'\n",
    "}\n",
    "output_gppmd_tpr = pdbCode+'_'+ligandCode + '_gppmd.tpr'\n",
    "\n",
    "# Create and launch bb\n",
    "grompp(input_gro_path=output_npt_gro,\n",
    "       input_top_zip_path=output_genion_top_zip,\n",
    "       output_tpr_path=output_gppmd_tpr,\n",
    "       input_cpt_path=output_npt_cpt,\n",
    "       properties=prop)"
   ]
  },
  {
   "cell_type": "markdown",
   "metadata": {},
   "source": [
    "<a id=\"mdStep2\"></a>\n",
    "### Step 2: Running short free MD simulation"
   ]
  },
  {
   "cell_type": "code",
   "execution_count": 37,
   "metadata": {
    "scrolled": true
   },
   "outputs": [
    {
     "name": "stdout",
     "output_type": "stream",
     "text": [
      "2022-04-26 18:35:01,729 [MainThread  ] [INFO ]  GROMACS Mdrun 20191 version detected\n",
      "2022-04-26 18:35:01,731 [MainThread  ] [INFO ]  Not using any container\n",
      "2022-04-26 18:35:57,825 [MainThread  ] [INFO ]  gmx -nobackup -nocopyright mdrun -s 3HTB_JZ4_gppmd.tpr -o 3HTB_JZ4_md.trr -c 3HTB_JZ4_md.gro -e 3HTB_JZ4_md.edr -g 3HTB_JZ4_md.log -cpo 3HTB_JZ4_md.cpt\n",
      "\n",
      "2022-04-26 18:35:57,827 [MainThread  ] [INFO ]  Exit code 0\n",
      "\n",
      "2022-04-26 18:35:57,828 [MainThread  ] [INFO ]                        :-) GROMACS - gmx mdrun, 2019.1 (-:\n",
      "\n",
      "Executable:   /home/ma/miniconda3/envs/biobb_Protein-Complex_MDsetup_tutorial/bin/gmx\n",
      "Data prefix:  /home/ma/miniconda3/envs/biobb_Protein-Complex_MDsetup_tutorial\n",
      "Working dir:  /home/ma/git/druglord/temp/3HTB\n",
      "Command line:\n",
      "  gmx -nobackup -nocopyright mdrun -s 3HTB_JZ4_gppmd.tpr -o 3HTB_JZ4_md.trr -c 3HTB_JZ4_md.gro -e 3HTB_JZ4_md.edr -g 3HTB_JZ4_md.log -cpo 3HTB_JZ4_md.cpt\n",
      "\n",
      "Compiled SIMD: SSE2, but for this host/run AVX_512 might be better (see log).\n",
      "The current CPU can measure timings more accurately than the code in\n",
      "gmx mdrun was configured to use. This might affect your simulation\n",
      "speed as accurate timings are needed for load-balancing.\n",
      "Please consider rebuilding gmx mdrun with the GMX_USE_RDTSCP=ON CMake option.\n",
      "Reading file 3HTB_JZ4_gppmd.tpr, VERSION 2019.1 (single precision)\n",
      "Changing nstlist from 10 to 50, rlist from 1 to 1.114\n",
      "\n",
      "\n",
      "Using 72 MPI threads\n",
      "Using 1 OpenMP thread per tMPI thread\n",
      "\n",
      "starting mdrun 'Protein in water'\n",
      "25000 steps,     50.0 ps.\n",
      "\n",
      "Writing final coordinates.\n",
      "\n",
      "\n",
      "Dynamic load balancing report:\n",
      " DLB was turned on during the run due to measured imbalance.\n",
      " Average load imbalance: 7.3%.\n",
      " The balanceable part of the MD step is 78%, load imbalance is computed from this.\n",
      " Part of the total run time spent waiting due to load imbalance: 5.7%.\n",
      " Steps where the load balancing was limited by -rdd, -rcon and/or -dds: X 0 % Y 0 % Z 0 %\n",
      " Average PME mesh/force load: 0.821\n",
      " Part of the total run time spent waiting due to PP/PME imbalance: 2.6 %\n",
      "\n",
      "NOTE: 5.7 % of the available CPU time was lost due to load imbalance\n",
      "      in the domain decomposition.\n",
      "      You can consider manually changing the decomposition (option -dd);\n",
      "      e.g. by using fewer domains along the box dimension in which there is\n",
      "      considerable inhomogeneity in the simulated system.\n",
      "\n",
      "               Core t (s)   Wall t (s)        (%)\n",
      "       Time:     3803.898       52.832     7199.9\n",
      "                 (ns/day)    (hour/ns)\n",
      "Performance:       81.771        0.294\n",
      "\n",
      "GROMACS reminds you: \"Dreams seldom materialize on their own.\" (Dian Fossey)\n",
      "\n",
      "\n",
      "2022-04-26 18:35:57,829 [MainThread  ] [INFO ]  Removed: []\n"
     ]
    },
    {
     "data": {
      "text/plain": [
       "0"
      ]
     },
     "execution_count": 37,
     "metadata": {},
     "output_type": "execute_result"
    }
   ],
   "source": [
    "# Mdrun: Running free dynamics\n",
    "from biobb_md.gromacs.mdrun import mdrun\n",
    "\n",
    "# Create prop dict and inputs/outputs\n",
    "output_md_trr = pdbCode+'_'+ligandCode+'_md.trr'\n",
    "output_md_gro = pdbCode+'_'+ligandCode+'_md.gro'\n",
    "output_md_edr = pdbCode+'_'+ligandCode+'_md.edr'\n",
    "output_md_log = pdbCode+'_'+ligandCode+'_md.log'\n",
    "output_md_cpt = pdbCode+'_'+ligandCode+'_md.cpt'\n",
    "\n",
    "# Create and launch bb\n",
    "mdrun(input_tpr_path=output_gppmd_tpr,\n",
    "      output_trr_path=output_md_trr,\n",
    "      output_gro_path=output_md_gro,\n",
    "      output_edr_path=output_md_edr,\n",
    "      output_log_path=output_md_log,\n",
    "      output_cpt_path=output_md_cpt)"
   ]
  },
  {
   "cell_type": "markdown",
   "metadata": {},
   "source": [
    "<a id=\"mdStep3\"></a>\n",
    "### Step 3: Checking free MD simulation results\n",
    "Checking results for the final step of the setup process, the **free MD run**. Plotting **Root Mean Square deviation (RMSd)** and **Radius of Gyration (Rgyr)** by time during the **free MD run** step. **RMSd** against the **experimental structure** (input structure of the pipeline) and against the **minimized and equilibrated structure** (output structure of the NPT equilibration step)."
   ]
  },
  {
   "cell_type": "code",
   "execution_count": 38,
   "metadata": {
    "scrolled": false
   },
   "outputs": [
    {
     "name": "stdout",
     "output_type": "stream",
     "text": [
      "2022-04-26 18:35:58,114 [MainThread  ] [INFO ]  Not using any container\n",
      "2022-04-26 18:35:58,224 [MainThread  ] [INFO ]  echo 'Backbone Backbone' | gmx rms -s /home/ma/git/druglord/temp/3HTB/3HTB_JZ4_gppmd.tpr -f /home/ma/git/druglord/temp/3HTB/3HTB_JZ4_md.trr -o 3HTB_JZ4_rms_first.xvg -xvg none\n",
      "\n",
      "2022-04-26 18:35:58,226 [MainThread  ] [INFO ]  Exit code 0\n",
      "\n",
      "2022-04-26 18:35:58,227 [MainThread  ] [INFO ]  Selected 4: 'Backbone'\n",
      "Selected 4: 'Backbone'\n",
      "\n",
      "2022-04-26 18:35:58,228 [MainThread  ] [INFO ]                         :-) GROMACS - gmx rms, 2019.1 (-:\n",
      "\n",
      "                            GROMACS is written by:\n",
      "     Emile Apol      Rossen Apostolov      Paul Bauer     Herman J.C. Berendsen\n",
      "    Par Bjelkmar      Christian Blau   Viacheslav Bolnykh     Kevin Boyd    \n",
      " Aldert van Buuren   Rudi van Drunen     Anton Feenstra       Alan Gray     \n",
      "  Gerrit Groenhof     Anca Hamuraru    Vincent Hindriksen  M. Eric Irrgang  \n",
      "  Aleksei Iupinov   Christoph Junghans     Joe Jordan     Dimitrios Karkoulis\n",
      "    Peter Kasson        Jiri Kraus      Carsten Kutzner      Per Larsson    \n",
      "  Justin A. Lemkul    Viveca Lindahl    Magnus Lundborg     Erik Marklund   \n",
      "    Pascal Merz     Pieter Meulenhoff    Teemu Murtola       Szilard Pall   \n",
      "    Sander Pronk      Roland Schulz      Michael Shirts    Alexey Shvetsov  \n",
      "   Alfons Sijbers     Peter Tieleman      Jon Vincent      Teemu Virolainen \n",
      " Christian Wennberg    Maarten Wolf   \n",
      "                           and the project leaders:\n",
      "        Mark Abraham, Berk Hess, Erik Lindahl, and David van der Spoel\n",
      "\n",
      "Copyright (c) 1991-2000, University of Groningen, The Netherlands.\n",
      "Copyright (c) 2001-2018, The GROMACS development team at\n",
      "Uppsala University, Stockholm University and\n",
      "the Royal Institute of Technology, Sweden.\n",
      "check out http://www.gromacs.org for more information.\n",
      "\n",
      "GROMACS is free software; you can redistribute it and/or modify it\n",
      "under the terms of the GNU Lesser General Public License\n",
      "as published by the Free Software Foundation; either version 2.1\n",
      "of the License, or (at your option) any later version.\n",
      "\n",
      "GROMACS:      gmx rms, version 2019.1\n",
      "Executable:   /home/ma/miniconda3/envs/biobb_Protein-Complex_MDsetup_tutorial/bin/gmx\n",
      "Data prefix:  /home/ma/miniconda3/envs/biobb_Protein-Complex_MDsetup_tutorial\n",
      "Working dir:  /home/ma/git/druglord/temp/3HTB\n",
      "Command line:\n",
      "  gmx rms -s /home/ma/git/druglord/temp/3HTB/3HTB_JZ4_gppmd.tpr -f /home/ma/git/druglord/temp/3HTB/3HTB_JZ4_md.trr -o 3HTB_JZ4_rms_first.xvg -xvg none\n",
      "\n",
      "Reading file /home/ma/git/druglord/temp/3HTB/3HTB_JZ4_gppmd.tpr, VERSION 2019.1 (single precision)\n",
      "Reading file /home/ma/git/druglord/temp/3HTB/3HTB_JZ4_gppmd.tpr, VERSION 2019.1 (single precision)\n",
      "Select group for least squares fit\n",
      "Group     0 (         System) has 31177 elements\n",
      "Group     1 (        Protein) has  2614 elements\n",
      "Group     2 (      Protein-H) has  1301 elements\n",
      "Group     3 (        C-alpha) has   163 elements\n",
      "Group     4 (       Backbone) has   489 elements\n",
      "Group     5 (      MainChain) has   653 elements\n",
      "Group     6 (   MainChain+Cb) has   805 elements\n",
      "Group     7 (    MainChain+H) has   815 elements\n",
      "Group     8 (      SideChain) has  1799 elements\n",
      "Group     9 (    SideChain-H) has   648 elements\n",
      "Group    10 (    Prot-Masses) has  2614 elements\n",
      "Group    11 (    non-Protein) has 28563 elements\n",
      "Group    12 (          Other) has    22 elements\n",
      "Group    13 (            JZ4) has    22 elements\n",
      "Group    14 (             NA) has    10 elements\n",
      "Group    15 (             CL) has    16 elements\n",
      "Group    16 (          Water) has 28515 elements\n",
      "Group    17 (            SOL) has 28515 elements\n",
      "Group    18 (      non-Water) has  2662 elements\n",
      "Group    19 (            Ion) has    26 elements\n",
      "Group    20 (            JZ4) has    22 elements\n",
      "Group    21 (             NA) has    10 elements\n",
      "Group    22 (             CL) has    16 elements\n",
      "Group    23 ( Water_and_ions) has 28541 elements\n",
      "Select a group: Select group for RMSD calculation\n",
      "Group     0 (         System) has 31177 elements\n",
      "Group     1 (        Protein) has  2614 elements\n",
      "Group     2 (      Protein-H) has  1301 elements\n",
      "Group     3 (        C-alpha) has   163 elements\n",
      "Group     4 (       Backbone) has   489 elements\n",
      "Group     5 (      MainChain) has   653 elements\n",
      "Group     6 (   MainChain+Cb) has   805 elements\n",
      "Group     7 (    MainChain+H) has   815 elements\n",
      "Group     8 (      SideChain) has  1799 elements\n",
      "Group     9 (    SideChain-H) has   648 elements\n",
      "Group    10 (    Prot-Masses) has  2614 elements\n",
      "Group    11 (    non-Protein) has 28563 elements\n",
      "Group    12 (          Other) has    22 elements\n",
      "Group    13 (            JZ4) has    22 elements\n",
      "Group    14 (             NA) has    10 elements\n",
      "Group    15 (             CL) has    16 elements\n",
      "Group    16 (          Water) has 28515 elements\n",
      "Group    17 (            SOL) has 28515 elements\n",
      "Group    18 (      non-Water) has  2662 elements\n",
      "Group    19 (            Ion) has    26 elements\n",
      "Group    20 (            JZ4) has    22 elements\n",
      "Group    21 (             NA) has    10 elements\n",
      "Group    22 (             CL) has    16 elements\n",
      "Group    23 ( Water_and_ions) has 28541 elements\n",
      "Select a group: trr version: GMX_trn_file (single precision)\n",
      "Last frame          5 time   50.000   \n",
      "\n",
      "GROMACS reminds you: \"In this house, we OBEY the laws of thermodynamics!\" (Homer Simpson)\n",
      "\n",
      "\n"
     ]
    },
    {
     "data": {
      "text/plain": [
       "0"
      ]
     },
     "execution_count": 38,
     "metadata": {},
     "output_type": "execute_result"
    }
   ],
   "source": [
    "# GMXRms: Computing Root Mean Square deviation to analyse structural stability \n",
    "#         RMSd against minimized and equilibrated snapshot (backbone atoms)   \n",
    "\n",
    "from biobb_analysis.gromacs.gmx_rms import gmx_rms\n",
    "\n",
    "# Create prop dict and inputs/outputs\n",
    "output_rms_first = pdbCode+'_'+ligandCode+'_rms_first.xvg'\n",
    "prop = {\n",
    "    'selection':  'Backbone'\n",
    "}\n",
    "\n",
    "# Create and launch bb\n",
    "gmx_rms(input_structure_path=output_gppmd_tpr,\n",
    "         input_traj_path=output_md_trr,\n",
    "         output_xvg_path=output_rms_first, \n",
    "          properties=prop)"
   ]
  },
  {
   "cell_type": "code",
   "execution_count": 39,
   "metadata": {
    "scrolled": false
   },
   "outputs": [
    {
     "name": "stdout",
     "output_type": "stream",
     "text": [
      "2022-04-26 18:35:58,649 [MainThread  ] [INFO ]  Not using any container\n",
      "2022-04-26 18:35:58,760 [MainThread  ] [INFO ]  echo 'Backbone Backbone' | gmx rms -s /home/ma/git/druglord/temp/3HTB/3HTB_JZ4_gppmin.tpr -f /home/ma/git/druglord/temp/3HTB/3HTB_JZ4_md.trr -o 3HTB_JZ4_rms_exp.xvg -xvg none\n",
      "\n",
      "2022-04-26 18:35:58,762 [MainThread  ] [INFO ]  Exit code 0\n",
      "\n",
      "2022-04-26 18:35:58,763 [MainThread  ] [INFO ]  Selected 4: 'Backbone'\n",
      "Selected 4: 'Backbone'\n",
      "\n",
      "2022-04-26 18:35:58,763 [MainThread  ] [INFO ]                         :-) GROMACS - gmx rms, 2019.1 (-:\n",
      "\n",
      "                            GROMACS is written by:\n",
      "     Emile Apol      Rossen Apostolov      Paul Bauer     Herman J.C. Berendsen\n",
      "    Par Bjelkmar      Christian Blau   Viacheslav Bolnykh     Kevin Boyd    \n",
      " Aldert van Buuren   Rudi van Drunen     Anton Feenstra       Alan Gray     \n",
      "  Gerrit Groenhof     Anca Hamuraru    Vincent Hindriksen  M. Eric Irrgang  \n",
      "  Aleksei Iupinov   Christoph Junghans     Joe Jordan     Dimitrios Karkoulis\n",
      "    Peter Kasson        Jiri Kraus      Carsten Kutzner      Per Larsson    \n",
      "  Justin A. Lemkul    Viveca Lindahl    Magnus Lundborg     Erik Marklund   \n",
      "    Pascal Merz     Pieter Meulenhoff    Teemu Murtola       Szilard Pall   \n",
      "    Sander Pronk      Roland Schulz      Michael Shirts    Alexey Shvetsov  \n",
      "   Alfons Sijbers     Peter Tieleman      Jon Vincent      Teemu Virolainen \n",
      " Christian Wennberg    Maarten Wolf   \n",
      "                           and the project leaders:\n",
      "        Mark Abraham, Berk Hess, Erik Lindahl, and David van der Spoel\n",
      "\n",
      "Copyright (c) 1991-2000, University of Groningen, The Netherlands.\n",
      "Copyright (c) 2001-2018, The GROMACS development team at\n",
      "Uppsala University, Stockholm University and\n",
      "the Royal Institute of Technology, Sweden.\n",
      "check out http://www.gromacs.org for more information.\n",
      "\n",
      "GROMACS is free software; you can redistribute it and/or modify it\n",
      "under the terms of the GNU Lesser General Public License\n",
      "as published by the Free Software Foundation; either version 2.1\n",
      "of the License, or (at your option) any later version.\n",
      "\n",
      "GROMACS:      gmx rms, version 2019.1\n",
      "Executable:   /home/ma/miniconda3/envs/biobb_Protein-Complex_MDsetup_tutorial/bin/gmx\n",
      "Data prefix:  /home/ma/miniconda3/envs/biobb_Protein-Complex_MDsetup_tutorial\n",
      "Working dir:  /home/ma/git/druglord/temp/3HTB\n",
      "Command line:\n",
      "  gmx rms -s /home/ma/git/druglord/temp/3HTB/3HTB_JZ4_gppmin.tpr -f /home/ma/git/druglord/temp/3HTB/3HTB_JZ4_md.trr -o 3HTB_JZ4_rms_exp.xvg -xvg none\n",
      "\n",
      "Reading file /home/ma/git/druglord/temp/3HTB/3HTB_JZ4_gppmin.tpr, VERSION 2019.1 (single precision)\n",
      "Reading file /home/ma/git/druglord/temp/3HTB/3HTB_JZ4_gppmin.tpr, VERSION 2019.1 (single precision)\n",
      "Select group for least squares fit\n",
      "Group     0 (         System) has 31177 elements\n",
      "Group     1 (        Protein) has  2614 elements\n",
      "Group     2 (      Protein-H) has  1301 elements\n",
      "Group     3 (        C-alpha) has   163 elements\n",
      "Group     4 (       Backbone) has   489 elements\n",
      "Group     5 (      MainChain) has   653 elements\n",
      "Group     6 (   MainChain+Cb) has   805 elements\n",
      "Group     7 (    MainChain+H) has   815 elements\n",
      "Group     8 (      SideChain) has  1799 elements\n",
      "Group     9 (    SideChain-H) has   648 elements\n",
      "Group    10 (    Prot-Masses) has  2614 elements\n",
      "Group    11 (    non-Protein) has 28563 elements\n",
      "Group    12 (          Other) has    22 elements\n",
      "Group    13 (            JZ4) has    22 elements\n",
      "Group    14 (             NA) has    10 elements\n",
      "Group    15 (             CL) has    16 elements\n",
      "Group    16 (          Water) has 28515 elements\n",
      "Group    17 (            SOL) has 28515 elements\n",
      "Group    18 (      non-Water) has  2662 elements\n",
      "Group    19 (            Ion) has    26 elements\n",
      "Group    20 (            JZ4) has    22 elements\n",
      "Group    21 (             NA) has    10 elements\n",
      "Group    22 (             CL) has    16 elements\n",
      "Group    23 ( Water_and_ions) has 28541 elements\n",
      "Select a group: Select group for RMSD calculation\n",
      "Group     0 (         System) has 31177 elements\n",
      "Group     1 (        Protein) has  2614 elements\n",
      "Group     2 (      Protein-H) has  1301 elements\n",
      "Group     3 (        C-alpha) has   163 elements\n",
      "Group     4 (       Backbone) has   489 elements\n",
      "Group     5 (      MainChain) has   653 elements\n",
      "Group     6 (   MainChain+Cb) has   805 elements\n",
      "Group     7 (    MainChain+H) has   815 elements\n",
      "Group     8 (      SideChain) has  1799 elements\n",
      "Group     9 (    SideChain-H) has   648 elements\n",
      "Group    10 (    Prot-Masses) has  2614 elements\n",
      "Group    11 (    non-Protein) has 28563 elements\n",
      "Group    12 (          Other) has    22 elements\n",
      "Group    13 (            JZ4) has    22 elements\n",
      "Group    14 (             NA) has    10 elements\n",
      "Group    15 (             CL) has    16 elements\n",
      "Group    16 (          Water) has 28515 elements\n",
      "Group    17 (            SOL) has 28515 elements\n",
      "Group    18 (      non-Water) has  2662 elements\n",
      "Group    19 (            Ion) has    26 elements\n",
      "Group    20 (            JZ4) has    22 elements\n",
      "Group    21 (             NA) has    10 elements\n",
      "Group    22 (             CL) has    16 elements\n",
      "Group    23 ( Water_and_ions) has 28541 elements\n",
      "Select a group: trr version: GMX_trn_file (single precision)\n",
      "Last frame          5 time   50.000   \n",
      "\n",
      "GROMACS reminds you: \"Wild Pointers Couldn't Drag Me Away\" (K.A. Feenstra)\n",
      "\n",
      "\n"
     ]
    },
    {
     "data": {
      "text/plain": [
       "0"
      ]
     },
     "execution_count": 39,
     "metadata": {},
     "output_type": "execute_result"
    }
   ],
   "source": [
    "# GMXRms: Computing Root Mean Square deviation to analyse structural stability \n",
    "#         RMSd against experimental structure (backbone atoms)   \n",
    "\n",
    "from biobb_analysis.gromacs.gmx_rms import gmx_rms\n",
    "\n",
    "# Create prop dict and inputs/outputs\n",
    "output_rms_exp = pdbCode+'_'+ligandCode+'_rms_exp.xvg'\n",
    "prop = {\n",
    "    'selection':  'Backbone'\n",
    "}\n",
    "\n",
    "# Create and launch bb\n",
    "gmx_rms(input_structure_path=output_gppmin_tpr,\n",
    "         input_traj_path=output_md_trr,\n",
    "         output_xvg_path=output_rms_exp, \n",
    "          properties=prop)"
   ]
  },
  {
   "cell_type": "code",
   "execution_count": 40,
   "metadata": {
    "scrolled": true
   },
   "outputs": [
    {
     "data": {
      "text/html": [
       "        <script type=\"text/javascript\">\n",
       "        window.PlotlyConfig = {MathJaxConfig: 'local'};\n",
       "        if (window.MathJax) {MathJax.Hub.Config({SVG: {font: \"STIX-Web\"}});}\n",
       "        if (typeof require !== 'undefined') {\n",
       "        require.undef(\"plotly\");\n",
       "        requirejs.config({\n",
       "            paths: {\n",
       "                'plotly': ['https://cdn.plot.ly/plotly-2.11.1.min']\n",
       "            }\n",
       "        });\n",
       "        require(['plotly'], function(Plotly) {\n",
       "            window._Plotly = Plotly;\n",
       "        });\n",
       "        }\n",
       "        </script>\n",
       "        "
      ]
     },
     "metadata": {},
     "output_type": "display_data"
    },
    {
     "data": {
      "application/vnd.plotly.v1+json": {
       "config": {
        "linkText": "Export to plot.ly",
        "plotlyServerURL": "https://plot.ly",
        "showLink": false
       },
       "data": [
        {
         "name": "RMSd vs first",
         "type": "scatter",
         "x": [
          0,
          10,
          20,
          30,
          40,
          50
         ],
         "y": [
          1e-7,
          0.0641665,
          0.0650927,
          0.057116,
          0.0729681,
          0.0649442
         ]
        },
        {
         "name": "RMSd vs exp",
         "type": "scatter",
         "x": [
          0,
          10,
          20,
          30,
          40,
          50
         ],
         "y": [
          0.0312091,
          0.067149,
          0.0695291,
          0.0618695,
          0.0788962,
          0.0707836
         ]
        }
       ],
       "layout": {
        "template": {
         "data": {
          "bar": [
           {
            "error_x": {
             "color": "#2a3f5f"
            },
            "error_y": {
             "color": "#2a3f5f"
            },
            "marker": {
             "line": {
              "color": "#E5ECF6",
              "width": 0.5
             },
             "pattern": {
              "fillmode": "overlay",
              "size": 10,
              "solidity": 0.2
             }
            },
            "type": "bar"
           }
          ],
          "barpolar": [
           {
            "marker": {
             "line": {
              "color": "#E5ECF6",
              "width": 0.5
             },
             "pattern": {
              "fillmode": "overlay",
              "size": 10,
              "solidity": 0.2
             }
            },
            "type": "barpolar"
           }
          ],
          "carpet": [
           {
            "aaxis": {
             "endlinecolor": "#2a3f5f",
             "gridcolor": "white",
             "linecolor": "white",
             "minorgridcolor": "white",
             "startlinecolor": "#2a3f5f"
            },
            "baxis": {
             "endlinecolor": "#2a3f5f",
             "gridcolor": "white",
             "linecolor": "white",
             "minorgridcolor": "white",
             "startlinecolor": "#2a3f5f"
            },
            "type": "carpet"
           }
          ],
          "choropleth": [
           {
            "colorbar": {
             "outlinewidth": 0,
             "ticks": ""
            },
            "type": "choropleth"
           }
          ],
          "contour": [
           {
            "colorbar": {
             "outlinewidth": 0,
             "ticks": ""
            },
            "colorscale": [
             [
              0,
              "#0d0887"
             ],
             [
              0.1111111111111111,
              "#46039f"
             ],
             [
              0.2222222222222222,
              "#7201a8"
             ],
             [
              0.3333333333333333,
              "#9c179e"
             ],
             [
              0.4444444444444444,
              "#bd3786"
             ],
             [
              0.5555555555555556,
              "#d8576b"
             ],
             [
              0.6666666666666666,
              "#ed7953"
             ],
             [
              0.7777777777777778,
              "#fb9f3a"
             ],
             [
              0.8888888888888888,
              "#fdca26"
             ],
             [
              1,
              "#f0f921"
             ]
            ],
            "type": "contour"
           }
          ],
          "contourcarpet": [
           {
            "colorbar": {
             "outlinewidth": 0,
             "ticks": ""
            },
            "type": "contourcarpet"
           }
          ],
          "heatmap": [
           {
            "colorbar": {
             "outlinewidth": 0,
             "ticks": ""
            },
            "colorscale": [
             [
              0,
              "#0d0887"
             ],
             [
              0.1111111111111111,
              "#46039f"
             ],
             [
              0.2222222222222222,
              "#7201a8"
             ],
             [
              0.3333333333333333,
              "#9c179e"
             ],
             [
              0.4444444444444444,
              "#bd3786"
             ],
             [
              0.5555555555555556,
              "#d8576b"
             ],
             [
              0.6666666666666666,
              "#ed7953"
             ],
             [
              0.7777777777777778,
              "#fb9f3a"
             ],
             [
              0.8888888888888888,
              "#fdca26"
             ],
             [
              1,
              "#f0f921"
             ]
            ],
            "type": "heatmap"
           }
          ],
          "heatmapgl": [
           {
            "colorbar": {
             "outlinewidth": 0,
             "ticks": ""
            },
            "colorscale": [
             [
              0,
              "#0d0887"
             ],
             [
              0.1111111111111111,
              "#46039f"
             ],
             [
              0.2222222222222222,
              "#7201a8"
             ],
             [
              0.3333333333333333,
              "#9c179e"
             ],
             [
              0.4444444444444444,
              "#bd3786"
             ],
             [
              0.5555555555555556,
              "#d8576b"
             ],
             [
              0.6666666666666666,
              "#ed7953"
             ],
             [
              0.7777777777777778,
              "#fb9f3a"
             ],
             [
              0.8888888888888888,
              "#fdca26"
             ],
             [
              1,
              "#f0f921"
             ]
            ],
            "type": "heatmapgl"
           }
          ],
          "histogram": [
           {
            "marker": {
             "pattern": {
              "fillmode": "overlay",
              "size": 10,
              "solidity": 0.2
             }
            },
            "type": "histogram"
           }
          ],
          "histogram2d": [
           {
            "colorbar": {
             "outlinewidth": 0,
             "ticks": ""
            },
            "colorscale": [
             [
              0,
              "#0d0887"
             ],
             [
              0.1111111111111111,
              "#46039f"
             ],
             [
              0.2222222222222222,
              "#7201a8"
             ],
             [
              0.3333333333333333,
              "#9c179e"
             ],
             [
              0.4444444444444444,
              "#bd3786"
             ],
             [
              0.5555555555555556,
              "#d8576b"
             ],
             [
              0.6666666666666666,
              "#ed7953"
             ],
             [
              0.7777777777777778,
              "#fb9f3a"
             ],
             [
              0.8888888888888888,
              "#fdca26"
             ],
             [
              1,
              "#f0f921"
             ]
            ],
            "type": "histogram2d"
           }
          ],
          "histogram2dcontour": [
           {
            "colorbar": {
             "outlinewidth": 0,
             "ticks": ""
            },
            "colorscale": [
             [
              0,
              "#0d0887"
             ],
             [
              0.1111111111111111,
              "#46039f"
             ],
             [
              0.2222222222222222,
              "#7201a8"
             ],
             [
              0.3333333333333333,
              "#9c179e"
             ],
             [
              0.4444444444444444,
              "#bd3786"
             ],
             [
              0.5555555555555556,
              "#d8576b"
             ],
             [
              0.6666666666666666,
              "#ed7953"
             ],
             [
              0.7777777777777778,
              "#fb9f3a"
             ],
             [
              0.8888888888888888,
              "#fdca26"
             ],
             [
              1,
              "#f0f921"
             ]
            ],
            "type": "histogram2dcontour"
           }
          ],
          "mesh3d": [
           {
            "colorbar": {
             "outlinewidth": 0,
             "ticks": ""
            },
            "type": "mesh3d"
           }
          ],
          "parcoords": [
           {
            "line": {
             "colorbar": {
              "outlinewidth": 0,
              "ticks": ""
             }
            },
            "type": "parcoords"
           }
          ],
          "pie": [
           {
            "automargin": true,
            "type": "pie"
           }
          ],
          "scatter": [
           {
            "fillpattern": {
             "fillmode": "overlay",
             "size": 10,
             "solidity": 0.2
            },
            "type": "scatter"
           }
          ],
          "scatter3d": [
           {
            "line": {
             "colorbar": {
              "outlinewidth": 0,
              "ticks": ""
             }
            },
            "marker": {
             "colorbar": {
              "outlinewidth": 0,
              "ticks": ""
             }
            },
            "type": "scatter3d"
           }
          ],
          "scattercarpet": [
           {
            "marker": {
             "colorbar": {
              "outlinewidth": 0,
              "ticks": ""
             }
            },
            "type": "scattercarpet"
           }
          ],
          "scattergeo": [
           {
            "marker": {
             "colorbar": {
              "outlinewidth": 0,
              "ticks": ""
             }
            },
            "type": "scattergeo"
           }
          ],
          "scattergl": [
           {
            "marker": {
             "colorbar": {
              "outlinewidth": 0,
              "ticks": ""
             }
            },
            "type": "scattergl"
           }
          ],
          "scattermapbox": [
           {
            "marker": {
             "colorbar": {
              "outlinewidth": 0,
              "ticks": ""
             }
            },
            "type": "scattermapbox"
           }
          ],
          "scatterpolar": [
           {
            "marker": {
             "colorbar": {
              "outlinewidth": 0,
              "ticks": ""
             }
            },
            "type": "scatterpolar"
           }
          ],
          "scatterpolargl": [
           {
            "marker": {
             "colorbar": {
              "outlinewidth": 0,
              "ticks": ""
             }
            },
            "type": "scatterpolargl"
           }
          ],
          "scatterternary": [
           {
            "marker": {
             "colorbar": {
              "outlinewidth": 0,
              "ticks": ""
             }
            },
            "type": "scatterternary"
           }
          ],
          "surface": [
           {
            "colorbar": {
             "outlinewidth": 0,
             "ticks": ""
            },
            "colorscale": [
             [
              0,
              "#0d0887"
             ],
             [
              0.1111111111111111,
              "#46039f"
             ],
             [
              0.2222222222222222,
              "#7201a8"
             ],
             [
              0.3333333333333333,
              "#9c179e"
             ],
             [
              0.4444444444444444,
              "#bd3786"
             ],
             [
              0.5555555555555556,
              "#d8576b"
             ],
             [
              0.6666666666666666,
              "#ed7953"
             ],
             [
              0.7777777777777778,
              "#fb9f3a"
             ],
             [
              0.8888888888888888,
              "#fdca26"
             ],
             [
              1,
              "#f0f921"
             ]
            ],
            "type": "surface"
           }
          ],
          "table": [
           {
            "cells": {
             "fill": {
              "color": "#EBF0F8"
             },
             "line": {
              "color": "white"
             }
            },
            "header": {
             "fill": {
              "color": "#C8D4E3"
             },
             "line": {
              "color": "white"
             }
            },
            "type": "table"
           }
          ]
         },
         "layout": {
          "annotationdefaults": {
           "arrowcolor": "#2a3f5f",
           "arrowhead": 0,
           "arrowwidth": 1
          },
          "autotypenumbers": "strict",
          "coloraxis": {
           "colorbar": {
            "outlinewidth": 0,
            "ticks": ""
           }
          },
          "colorscale": {
           "diverging": [
            [
             0,
             "#8e0152"
            ],
            [
             0.1,
             "#c51b7d"
            ],
            [
             0.2,
             "#de77ae"
            ],
            [
             0.3,
             "#f1b6da"
            ],
            [
             0.4,
             "#fde0ef"
            ],
            [
             0.5,
             "#f7f7f7"
            ],
            [
             0.6,
             "#e6f5d0"
            ],
            [
             0.7,
             "#b8e186"
            ],
            [
             0.8,
             "#7fbc41"
            ],
            [
             0.9,
             "#4d9221"
            ],
            [
             1,
             "#276419"
            ]
           ],
           "sequential": [
            [
             0,
             "#0d0887"
            ],
            [
             0.1111111111111111,
             "#46039f"
            ],
            [
             0.2222222222222222,
             "#7201a8"
            ],
            [
             0.3333333333333333,
             "#9c179e"
            ],
            [
             0.4444444444444444,
             "#bd3786"
            ],
            [
             0.5555555555555556,
             "#d8576b"
            ],
            [
             0.6666666666666666,
             "#ed7953"
            ],
            [
             0.7777777777777778,
             "#fb9f3a"
            ],
            [
             0.8888888888888888,
             "#fdca26"
            ],
            [
             1,
             "#f0f921"
            ]
           ],
           "sequentialminus": [
            [
             0,
             "#0d0887"
            ],
            [
             0.1111111111111111,
             "#46039f"
            ],
            [
             0.2222222222222222,
             "#7201a8"
            ],
            [
             0.3333333333333333,
             "#9c179e"
            ],
            [
             0.4444444444444444,
             "#bd3786"
            ],
            [
             0.5555555555555556,
             "#d8576b"
            ],
            [
             0.6666666666666666,
             "#ed7953"
            ],
            [
             0.7777777777777778,
             "#fb9f3a"
            ],
            [
             0.8888888888888888,
             "#fdca26"
            ],
            [
             1,
             "#f0f921"
            ]
           ]
          },
          "colorway": [
           "#636efa",
           "#EF553B",
           "#00cc96",
           "#ab63fa",
           "#FFA15A",
           "#19d3f3",
           "#FF6692",
           "#B6E880",
           "#FF97FF",
           "#FECB52"
          ],
          "font": {
           "color": "#2a3f5f"
          },
          "geo": {
           "bgcolor": "white",
           "lakecolor": "white",
           "landcolor": "#E5ECF6",
           "showlakes": true,
           "showland": true,
           "subunitcolor": "white"
          },
          "hoverlabel": {
           "align": "left"
          },
          "hovermode": "closest",
          "mapbox": {
           "style": "light"
          },
          "paper_bgcolor": "white",
          "plot_bgcolor": "#E5ECF6",
          "polar": {
           "angularaxis": {
            "gridcolor": "white",
            "linecolor": "white",
            "ticks": ""
           },
           "bgcolor": "#E5ECF6",
           "radialaxis": {
            "gridcolor": "white",
            "linecolor": "white",
            "ticks": ""
           }
          },
          "scene": {
           "xaxis": {
            "backgroundcolor": "#E5ECF6",
            "gridcolor": "white",
            "gridwidth": 2,
            "linecolor": "white",
            "showbackground": true,
            "ticks": "",
            "zerolinecolor": "white"
           },
           "yaxis": {
            "backgroundcolor": "#E5ECF6",
            "gridcolor": "white",
            "gridwidth": 2,
            "linecolor": "white",
            "showbackground": true,
            "ticks": "",
            "zerolinecolor": "white"
           },
           "zaxis": {
            "backgroundcolor": "#E5ECF6",
            "gridcolor": "white",
            "gridwidth": 2,
            "linecolor": "white",
            "showbackground": true,
            "ticks": "",
            "zerolinecolor": "white"
           }
          },
          "shapedefaults": {
           "line": {
            "color": "#2a3f5f"
           }
          },
          "ternary": {
           "aaxis": {
            "gridcolor": "white",
            "linecolor": "white",
            "ticks": ""
           },
           "baxis": {
            "gridcolor": "white",
            "linecolor": "white",
            "ticks": ""
           },
           "bgcolor": "#E5ECF6",
           "caxis": {
            "gridcolor": "white",
            "linecolor": "white",
            "ticks": ""
           }
          },
          "title": {
           "x": 0.05
          },
          "xaxis": {
           "automargin": true,
           "gridcolor": "white",
           "linecolor": "white",
           "ticks": "",
           "title": {
            "standoff": 15
           },
           "zerolinecolor": "white",
           "zerolinewidth": 2
          },
          "yaxis": {
           "automargin": true,
           "gridcolor": "white",
           "linecolor": "white",
           "ticks": "",
           "title": {
            "standoff": 15
           },
           "zerolinecolor": "white",
           "zerolinewidth": 2
          }
         }
        },
        "title": {
         "text": "RMSd during free MD Simulation"
        },
        "xaxis": {
         "title": {
          "text": "Time (ps)"
         }
        },
        "yaxis": {
         "title": {
          "text": "RMSd (nm)"
         }
        }
       }
      },
      "text/html": [
       "<div>                            <div id=\"96d4db3f-5089-4ff2-9397-33377864ece5\" class=\"plotly-graph-div\" style=\"height:525px; width:100%;\"></div>            <script type=\"text/javascript\">                require([\"plotly\"], function(Plotly) {                    window.PLOTLYENV=window.PLOTLYENV || {};                                    if (document.getElementById(\"96d4db3f-5089-4ff2-9397-33377864ece5\")) {                    Plotly.newPlot(                        \"96d4db3f-5089-4ff2-9397-33377864ece5\",                        [{\"name\":\"RMSd vs first\",\"x\":[0.0,10.0,20.0,30.0,40.0,50.0],\"y\":[1e-07,0.0641665,0.0650927,0.057116,0.0729681,0.0649442],\"type\":\"scatter\"},{\"name\":\"RMSd vs exp\",\"x\":[0.0,10.0,20.0,30.0,40.0,50.0],\"y\":[0.0312091,0.067149,0.0695291,0.0618695,0.0788962,0.0707836],\"type\":\"scatter\"}],                        {\"template\":{\"data\":{\"barpolar\":[{\"marker\":{\"line\":{\"color\":\"#E5ECF6\",\"width\":0.5},\"pattern\":{\"fillmode\":\"overlay\",\"size\":10,\"solidity\":0.2}},\"type\":\"barpolar\"}],\"bar\":[{\"error_x\":{\"color\":\"#2a3f5f\"},\"error_y\":{\"color\":\"#2a3f5f\"},\"marker\":{\"line\":{\"color\":\"#E5ECF6\",\"width\":0.5},\"pattern\":{\"fillmode\":\"overlay\",\"size\":10,\"solidity\":0.2}},\"type\":\"bar\"}],\"carpet\":[{\"aaxis\":{\"endlinecolor\":\"#2a3f5f\",\"gridcolor\":\"white\",\"linecolor\":\"white\",\"minorgridcolor\":\"white\",\"startlinecolor\":\"#2a3f5f\"},\"baxis\":{\"endlinecolor\":\"#2a3f5f\",\"gridcolor\":\"white\",\"linecolor\":\"white\",\"minorgridcolor\":\"white\",\"startlinecolor\":\"#2a3f5f\"},\"type\":\"carpet\"}],\"choropleth\":[{\"colorbar\":{\"outlinewidth\":0,\"ticks\":\"\"},\"type\":\"choropleth\"}],\"contourcarpet\":[{\"colorbar\":{\"outlinewidth\":0,\"ticks\":\"\"},\"type\":\"contourcarpet\"}],\"contour\":[{\"colorbar\":{\"outlinewidth\":0,\"ticks\":\"\"},\"colorscale\":[[0.0,\"#0d0887\"],[0.1111111111111111,\"#46039f\"],[0.2222222222222222,\"#7201a8\"],[0.3333333333333333,\"#9c179e\"],[0.4444444444444444,\"#bd3786\"],[0.5555555555555556,\"#d8576b\"],[0.6666666666666666,\"#ed7953\"],[0.7777777777777778,\"#fb9f3a\"],[0.8888888888888888,\"#fdca26\"],[1.0,\"#f0f921\"]],\"type\":\"contour\"}],\"heatmapgl\":[{\"colorbar\":{\"outlinewidth\":0,\"ticks\":\"\"},\"colorscale\":[[0.0,\"#0d0887\"],[0.1111111111111111,\"#46039f\"],[0.2222222222222222,\"#7201a8\"],[0.3333333333333333,\"#9c179e\"],[0.4444444444444444,\"#bd3786\"],[0.5555555555555556,\"#d8576b\"],[0.6666666666666666,\"#ed7953\"],[0.7777777777777778,\"#fb9f3a\"],[0.8888888888888888,\"#fdca26\"],[1.0,\"#f0f921\"]],\"type\":\"heatmapgl\"}],\"heatmap\":[{\"colorbar\":{\"outlinewidth\":0,\"ticks\":\"\"},\"colorscale\":[[0.0,\"#0d0887\"],[0.1111111111111111,\"#46039f\"],[0.2222222222222222,\"#7201a8\"],[0.3333333333333333,\"#9c179e\"],[0.4444444444444444,\"#bd3786\"],[0.5555555555555556,\"#d8576b\"],[0.6666666666666666,\"#ed7953\"],[0.7777777777777778,\"#fb9f3a\"],[0.8888888888888888,\"#fdca26\"],[1.0,\"#f0f921\"]],\"type\":\"heatmap\"}],\"histogram2dcontour\":[{\"colorbar\":{\"outlinewidth\":0,\"ticks\":\"\"},\"colorscale\":[[0.0,\"#0d0887\"],[0.1111111111111111,\"#46039f\"],[0.2222222222222222,\"#7201a8\"],[0.3333333333333333,\"#9c179e\"],[0.4444444444444444,\"#bd3786\"],[0.5555555555555556,\"#d8576b\"],[0.6666666666666666,\"#ed7953\"],[0.7777777777777778,\"#fb9f3a\"],[0.8888888888888888,\"#fdca26\"],[1.0,\"#f0f921\"]],\"type\":\"histogram2dcontour\"}],\"histogram2d\":[{\"colorbar\":{\"outlinewidth\":0,\"ticks\":\"\"},\"colorscale\":[[0.0,\"#0d0887\"],[0.1111111111111111,\"#46039f\"],[0.2222222222222222,\"#7201a8\"],[0.3333333333333333,\"#9c179e\"],[0.4444444444444444,\"#bd3786\"],[0.5555555555555556,\"#d8576b\"],[0.6666666666666666,\"#ed7953\"],[0.7777777777777778,\"#fb9f3a\"],[0.8888888888888888,\"#fdca26\"],[1.0,\"#f0f921\"]],\"type\":\"histogram2d\"}],\"histogram\":[{\"marker\":{\"pattern\":{\"fillmode\":\"overlay\",\"size\":10,\"solidity\":0.2}},\"type\":\"histogram\"}],\"mesh3d\":[{\"colorbar\":{\"outlinewidth\":0,\"ticks\":\"\"},\"type\":\"mesh3d\"}],\"parcoords\":[{\"line\":{\"colorbar\":{\"outlinewidth\":0,\"ticks\":\"\"}},\"type\":\"parcoords\"}],\"pie\":[{\"automargin\":true,\"type\":\"pie\"}],\"scatter3d\":[{\"line\":{\"colorbar\":{\"outlinewidth\":0,\"ticks\":\"\"}},\"marker\":{\"colorbar\":{\"outlinewidth\":0,\"ticks\":\"\"}},\"type\":\"scatter3d\"}],\"scattercarpet\":[{\"marker\":{\"colorbar\":{\"outlinewidth\":0,\"ticks\":\"\"}},\"type\":\"scattercarpet\"}],\"scattergeo\":[{\"marker\":{\"colorbar\":{\"outlinewidth\":0,\"ticks\":\"\"}},\"type\":\"scattergeo\"}],\"scattergl\":[{\"marker\":{\"colorbar\":{\"outlinewidth\":0,\"ticks\":\"\"}},\"type\":\"scattergl\"}],\"scattermapbox\":[{\"marker\":{\"colorbar\":{\"outlinewidth\":0,\"ticks\":\"\"}},\"type\":\"scattermapbox\"}],\"scatterpolargl\":[{\"marker\":{\"colorbar\":{\"outlinewidth\":0,\"ticks\":\"\"}},\"type\":\"scatterpolargl\"}],\"scatterpolar\":[{\"marker\":{\"colorbar\":{\"outlinewidth\":0,\"ticks\":\"\"}},\"type\":\"scatterpolar\"}],\"scatter\":[{\"fillpattern\":{\"fillmode\":\"overlay\",\"size\":10,\"solidity\":0.2},\"type\":\"scatter\"}],\"scatterternary\":[{\"marker\":{\"colorbar\":{\"outlinewidth\":0,\"ticks\":\"\"}},\"type\":\"scatterternary\"}],\"surface\":[{\"colorbar\":{\"outlinewidth\":0,\"ticks\":\"\"},\"colorscale\":[[0.0,\"#0d0887\"],[0.1111111111111111,\"#46039f\"],[0.2222222222222222,\"#7201a8\"],[0.3333333333333333,\"#9c179e\"],[0.4444444444444444,\"#bd3786\"],[0.5555555555555556,\"#d8576b\"],[0.6666666666666666,\"#ed7953\"],[0.7777777777777778,\"#fb9f3a\"],[0.8888888888888888,\"#fdca26\"],[1.0,\"#f0f921\"]],\"type\":\"surface\"}],\"table\":[{\"cells\":{\"fill\":{\"color\":\"#EBF0F8\"},\"line\":{\"color\":\"white\"}},\"header\":{\"fill\":{\"color\":\"#C8D4E3\"},\"line\":{\"color\":\"white\"}},\"type\":\"table\"}]},\"layout\":{\"annotationdefaults\":{\"arrowcolor\":\"#2a3f5f\",\"arrowhead\":0,\"arrowwidth\":1},\"autotypenumbers\":\"strict\",\"coloraxis\":{\"colorbar\":{\"outlinewidth\":0,\"ticks\":\"\"}},\"colorscale\":{\"diverging\":[[0,\"#8e0152\"],[0.1,\"#c51b7d\"],[0.2,\"#de77ae\"],[0.3,\"#f1b6da\"],[0.4,\"#fde0ef\"],[0.5,\"#f7f7f7\"],[0.6,\"#e6f5d0\"],[0.7,\"#b8e186\"],[0.8,\"#7fbc41\"],[0.9,\"#4d9221\"],[1,\"#276419\"]],\"sequential\":[[0.0,\"#0d0887\"],[0.1111111111111111,\"#46039f\"],[0.2222222222222222,\"#7201a8\"],[0.3333333333333333,\"#9c179e\"],[0.4444444444444444,\"#bd3786\"],[0.5555555555555556,\"#d8576b\"],[0.6666666666666666,\"#ed7953\"],[0.7777777777777778,\"#fb9f3a\"],[0.8888888888888888,\"#fdca26\"],[1.0,\"#f0f921\"]],\"sequentialminus\":[[0.0,\"#0d0887\"],[0.1111111111111111,\"#46039f\"],[0.2222222222222222,\"#7201a8\"],[0.3333333333333333,\"#9c179e\"],[0.4444444444444444,\"#bd3786\"],[0.5555555555555556,\"#d8576b\"],[0.6666666666666666,\"#ed7953\"],[0.7777777777777778,\"#fb9f3a\"],[0.8888888888888888,\"#fdca26\"],[1.0,\"#f0f921\"]]},\"colorway\":[\"#636efa\",\"#EF553B\",\"#00cc96\",\"#ab63fa\",\"#FFA15A\",\"#19d3f3\",\"#FF6692\",\"#B6E880\",\"#FF97FF\",\"#FECB52\"],\"font\":{\"color\":\"#2a3f5f\"},\"geo\":{\"bgcolor\":\"white\",\"lakecolor\":\"white\",\"landcolor\":\"#E5ECF6\",\"showlakes\":true,\"showland\":true,\"subunitcolor\":\"white\"},\"hoverlabel\":{\"align\":\"left\"},\"hovermode\":\"closest\",\"mapbox\":{\"style\":\"light\"},\"paper_bgcolor\":\"white\",\"plot_bgcolor\":\"#E5ECF6\",\"polar\":{\"angularaxis\":{\"gridcolor\":\"white\",\"linecolor\":\"white\",\"ticks\":\"\"},\"bgcolor\":\"#E5ECF6\",\"radialaxis\":{\"gridcolor\":\"white\",\"linecolor\":\"white\",\"ticks\":\"\"}},\"scene\":{\"xaxis\":{\"backgroundcolor\":\"#E5ECF6\",\"gridcolor\":\"white\",\"gridwidth\":2,\"linecolor\":\"white\",\"showbackground\":true,\"ticks\":\"\",\"zerolinecolor\":\"white\"},\"yaxis\":{\"backgroundcolor\":\"#E5ECF6\",\"gridcolor\":\"white\",\"gridwidth\":2,\"linecolor\":\"white\",\"showbackground\":true,\"ticks\":\"\",\"zerolinecolor\":\"white\"},\"zaxis\":{\"backgroundcolor\":\"#E5ECF6\",\"gridcolor\":\"white\",\"gridwidth\":2,\"linecolor\":\"white\",\"showbackground\":true,\"ticks\":\"\",\"zerolinecolor\":\"white\"}},\"shapedefaults\":{\"line\":{\"color\":\"#2a3f5f\"}},\"ternary\":{\"aaxis\":{\"gridcolor\":\"white\",\"linecolor\":\"white\",\"ticks\":\"\"},\"baxis\":{\"gridcolor\":\"white\",\"linecolor\":\"white\",\"ticks\":\"\"},\"bgcolor\":\"#E5ECF6\",\"caxis\":{\"gridcolor\":\"white\",\"linecolor\":\"white\",\"ticks\":\"\"}},\"title\":{\"x\":0.05},\"xaxis\":{\"automargin\":true,\"gridcolor\":\"white\",\"linecolor\":\"white\",\"ticks\":\"\",\"title\":{\"standoff\":15},\"zerolinecolor\":\"white\",\"zerolinewidth\":2},\"yaxis\":{\"automargin\":true,\"gridcolor\":\"white\",\"linecolor\":\"white\",\"ticks\":\"\",\"title\":{\"standoff\":15},\"zerolinecolor\":\"white\",\"zerolinewidth\":2}}},\"title\":{\"text\":\"RMSd during free MD Simulation\"},\"xaxis\":{\"title\":{\"text\":\"Time (ps)\"}},\"yaxis\":{\"title\":{\"text\":\"RMSd (nm)\"}}},                        {\"responsive\": true}                    ).then(function(){\n",
       "                            \n",
       "var gd = document.getElementById('96d4db3f-5089-4ff2-9397-33377864ece5');\n",
       "var x = new MutationObserver(function (mutations, observer) {{\n",
       "        var display = window.getComputedStyle(gd).display;\n",
       "        if (!display || display === 'none') {{\n",
       "            console.log([gd, 'removed!']);\n",
       "            Plotly.purge(gd);\n",
       "            observer.disconnect();\n",
       "        }}\n",
       "}});\n",
       "\n",
       "// Listen for the removal of the full notebook cells\n",
       "var notebookContainer = gd.closest('#notebook-container');\n",
       "if (notebookContainer) {{\n",
       "    x.observe(notebookContainer, {childList: true});\n",
       "}}\n",
       "\n",
       "// Listen for the clearing of the current output cell\n",
       "var outputEl = gd.closest('.output');\n",
       "if (outputEl) {{\n",
       "    x.observe(outputEl, {childList: true});\n",
       "}}\n",
       "\n",
       "                        })                };                });            </script>        </div>"
      ]
     },
     "metadata": {},
     "output_type": "display_data"
    }
   ],
   "source": [
    "import plotly\n",
    "import plotly.graph_objs as go\n",
    "\n",
    "# Read RMS vs first snapshot data from file \n",
    "with open(output_rms_first,'r') as rms_first_file:\n",
    "    x,y = map(\n",
    "        list,\n",
    "        zip(*[\n",
    "            (float(line.split()[0]),float(line.split()[1]))\n",
    "            for line in rms_first_file \n",
    "            if not line.startswith((\"#\",\"@\")) \n",
    "        ])\n",
    "    )\n",
    "\n",
    "# Read RMS vs experimental structure data from file \n",
    "with open(output_rms_exp,'r') as rms_exp_file:\n",
    "    x2,y2 = map(\n",
    "        list,\n",
    "        zip(*[\n",
    "            (float(line.split()[0]),float(line.split()[1]))\n",
    "            for line in rms_exp_file\n",
    "            if not line.startswith((\"#\",\"@\")) \n",
    "        ])\n",
    "    )\n",
    "    \n",
    "trace1 = go.Scatter(\n",
    "    x = x,\n",
    "    y = y,\n",
    "    name = 'RMSd vs first'\n",
    ")\n",
    "\n",
    "trace2 = go.Scatter(\n",
    "    x = x,\n",
    "    y = y2,\n",
    "    name = 'RMSd vs exp'\n",
    ")\n",
    "\n",
    "data = [trace1, trace2]\n",
    "\n",
    "plotly.offline.init_notebook_mode(connected=True)\n",
    "\n",
    "fig = ({\n",
    "    \"data\": data,\n",
    "    \"layout\": go.Layout(title=\"RMSd during free MD Simulation\",\n",
    "                        xaxis=dict(title = \"Time (ps)\"),\n",
    "                        yaxis=dict(title = \"RMSd (nm)\")\n",
    "                       )\n",
    "})\n",
    "\n",
    "plotly.offline.iplot(fig)"
   ]
  },
  {
   "cell_type": "code",
   "execution_count": 41,
   "metadata": {
    "scrolled": false
   },
   "outputs": [
    {
     "name": "stdout",
     "output_type": "stream",
     "text": [
      "2022-04-26 18:35:59,425 [MainThread  ] [INFO ]  Not using any container\n",
      "2022-04-26 18:35:59,515 [MainThread  ] [INFO ]  echo \"Backbone\" | gmx gyrate -s /home/ma/git/druglord/temp/3HTB/3HTB_JZ4_gppmin.tpr -f /home/ma/git/druglord/temp/3HTB/3HTB_JZ4_md.trr -o 3HTB_JZ4_rgyr.xvg -xvg none\n",
      "\n",
      "2022-04-26 18:35:59,517 [MainThread  ] [INFO ]  Exit code 0\n",
      "\n",
      "2022-04-26 18:35:59,519 [MainThread  ] [INFO ]  Selected 4: 'Backbone'\n",
      "\n",
      "2022-04-26 18:35:59,519 [MainThread  ] [INFO ]                        :-) GROMACS - gmx gyrate, 2019.1 (-:\n",
      "\n",
      "                            GROMACS is written by:\n",
      "     Emile Apol      Rossen Apostolov      Paul Bauer     Herman J.C. Berendsen\n",
      "    Par Bjelkmar      Christian Blau   Viacheslav Bolnykh     Kevin Boyd    \n",
      " Aldert van Buuren   Rudi van Drunen     Anton Feenstra       Alan Gray     \n",
      "  Gerrit Groenhof     Anca Hamuraru    Vincent Hindriksen  M. Eric Irrgang  \n",
      "  Aleksei Iupinov   Christoph Junghans     Joe Jordan     Dimitrios Karkoulis\n",
      "    Peter Kasson        Jiri Kraus      Carsten Kutzner      Per Larsson    \n",
      "  Justin A. Lemkul    Viveca Lindahl    Magnus Lundborg     Erik Marklund   \n",
      "    Pascal Merz     Pieter Meulenhoff    Teemu Murtola       Szilard Pall   \n",
      "    Sander Pronk      Roland Schulz      Michael Shirts    Alexey Shvetsov  \n",
      "   Alfons Sijbers     Peter Tieleman      Jon Vincent      Teemu Virolainen \n",
      " Christian Wennberg    Maarten Wolf   \n",
      "                           and the project leaders:\n",
      "        Mark Abraham, Berk Hess, Erik Lindahl, and David van der Spoel\n",
      "\n",
      "Copyright (c) 1991-2000, University of Groningen, The Netherlands.\n",
      "Copyright (c) 2001-2018, The GROMACS development team at\n",
      "Uppsala University, Stockholm University and\n",
      "the Royal Institute of Technology, Sweden.\n",
      "check out http://www.gromacs.org for more information.\n",
      "\n",
      "GROMACS is free software; you can redistribute it and/or modify it\n",
      "under the terms of the GNU Lesser General Public License\n",
      "as published by the Free Software Foundation; either version 2.1\n",
      "of the License, or (at your option) any later version.\n",
      "\n",
      "GROMACS:      gmx gyrate, version 2019.1\n",
      "Executable:   /home/ma/miniconda3/envs/biobb_Protein-Complex_MDsetup_tutorial/bin/gmx\n",
      "Data prefix:  /home/ma/miniconda3/envs/biobb_Protein-Complex_MDsetup_tutorial\n",
      "Working dir:  /home/ma/git/druglord/temp/3HTB\n",
      "Command line:\n",
      "  gmx gyrate -s /home/ma/git/druglord/temp/3HTB/3HTB_JZ4_gppmin.tpr -f /home/ma/git/druglord/temp/3HTB/3HTB_JZ4_md.trr -o 3HTB_JZ4_rgyr.xvg -xvg none\n",
      "\n",
      "Reading file /home/ma/git/druglord/temp/3HTB/3HTB_JZ4_gppmin.tpr, VERSION 2019.1 (single precision)\n",
      "Reading file /home/ma/git/druglord/temp/3HTB/3HTB_JZ4_gppmin.tpr, VERSION 2019.1 (single precision)\n",
      "Group     0 (         System) has 31177 elements\n",
      "Group     1 (        Protein) has  2614 elements\n",
      "Group     2 (      Protein-H) has  1301 elements\n",
      "Group     3 (        C-alpha) has   163 elements\n",
      "Group     4 (       Backbone) has   489 elements\n",
      "Group     5 (      MainChain) has   653 elements\n",
      "Group     6 (   MainChain+Cb) has   805 elements\n",
      "Group     7 (    MainChain+H) has   815 elements\n",
      "Group     8 (      SideChain) has  1799 elements\n",
      "Group     9 (    SideChain-H) has   648 elements\n",
      "Group    10 (    Prot-Masses) has  2614 elements\n",
      "Group    11 (    non-Protein) has 28563 elements\n",
      "Group    12 (          Other) has    22 elements\n",
      "Group    13 (            JZ4) has    22 elements\n",
      "Group    14 (             NA) has    10 elements\n",
      "Group    15 (             CL) has    16 elements\n",
      "Group    16 (          Water) has 28515 elements\n",
      "Group    17 (            SOL) has 28515 elements\n",
      "Group    18 (      non-Water) has  2662 elements\n",
      "Group    19 (            Ion) has    26 elements\n",
      "Group    20 (            JZ4) has    22 elements\n",
      "Group    21 (             NA) has    10 elements\n",
      "Group    22 (             CL) has    16 elements\n",
      "Group    23 ( Water_and_ions) has 28541 elements\n",
      "Select a group: trr version: GMX_trn_file (single precision)\n",
      "Last frame          5 time   50.000   \n",
      "\n",
      "GROMACS reminds you: \"If humanity has fled shivering from the starry spaces, it has become minutely at home in the interstices of the speck that it inhabits for an instant\" (George H. Mead)\n",
      "\n",
      "\n"
     ]
    },
    {
     "data": {
      "text/plain": [
       "0"
      ]
     },
     "execution_count": 41,
     "metadata": {},
     "output_type": "execute_result"
    }
   ],
   "source": [
    "# GMXRgyr: Computing Radius of Gyration to measure the protein compactness during the free MD simulation \n",
    "\n",
    "from biobb_analysis.gromacs.gmx_rgyr import gmx_rgyr\n",
    "\n",
    "# Create prop dict and inputs/outputs\n",
    "output_rgyr = pdbCode+'_'+ligandCode+'_rgyr.xvg'\n",
    "prop = {\n",
    "    'selection':  'Backbone'\n",
    "}\n",
    "\n",
    "# Create and launch bb\n",
    "gmx_rgyr(input_structure_path=output_gppmin_tpr,\n",
    "         input_traj_path=output_md_trr,\n",
    "         output_xvg_path=output_rgyr, \n",
    "          properties=prop)"
   ]
  },
  {
   "cell_type": "code",
   "execution_count": 42,
   "metadata": {
    "scrolled": true
   },
   "outputs": [
    {
     "data": {
      "text/html": [
       "        <script type=\"text/javascript\">\n",
       "        window.PlotlyConfig = {MathJaxConfig: 'local'};\n",
       "        if (window.MathJax) {MathJax.Hub.Config({SVG: {font: \"STIX-Web\"}});}\n",
       "        if (typeof require !== 'undefined') {\n",
       "        require.undef(\"plotly\");\n",
       "        requirejs.config({\n",
       "            paths: {\n",
       "                'plotly': ['https://cdn.plot.ly/plotly-2.11.1.min']\n",
       "            }\n",
       "        });\n",
       "        require(['plotly'], function(Plotly) {\n",
       "            window._Plotly = Plotly;\n",
       "        });\n",
       "        }\n",
       "        </script>\n",
       "        "
      ]
     },
     "metadata": {},
     "output_type": "display_data"
    },
    {
     "data": {
      "application/vnd.plotly.v1+json": {
       "config": {
        "linkText": "Export to plot.ly",
        "plotlyServerURL": "https://plot.ly",
        "showLink": false
       },
       "data": [
        {
         "type": "scatter",
         "x": [
          0,
          10,
          20,
          30,
          40,
          50
         ],
         "y": [
          1.60602,
          1.63455,
          1.62685,
          1.62567,
          1.62967,
          1.63196
         ]
        }
       ],
       "layout": {
        "template": {
         "data": {
          "bar": [
           {
            "error_x": {
             "color": "#2a3f5f"
            },
            "error_y": {
             "color": "#2a3f5f"
            },
            "marker": {
             "line": {
              "color": "#E5ECF6",
              "width": 0.5
             },
             "pattern": {
              "fillmode": "overlay",
              "size": 10,
              "solidity": 0.2
             }
            },
            "type": "bar"
           }
          ],
          "barpolar": [
           {
            "marker": {
             "line": {
              "color": "#E5ECF6",
              "width": 0.5
             },
             "pattern": {
              "fillmode": "overlay",
              "size": 10,
              "solidity": 0.2
             }
            },
            "type": "barpolar"
           }
          ],
          "carpet": [
           {
            "aaxis": {
             "endlinecolor": "#2a3f5f",
             "gridcolor": "white",
             "linecolor": "white",
             "minorgridcolor": "white",
             "startlinecolor": "#2a3f5f"
            },
            "baxis": {
             "endlinecolor": "#2a3f5f",
             "gridcolor": "white",
             "linecolor": "white",
             "minorgridcolor": "white",
             "startlinecolor": "#2a3f5f"
            },
            "type": "carpet"
           }
          ],
          "choropleth": [
           {
            "colorbar": {
             "outlinewidth": 0,
             "ticks": ""
            },
            "type": "choropleth"
           }
          ],
          "contour": [
           {
            "colorbar": {
             "outlinewidth": 0,
             "ticks": ""
            },
            "colorscale": [
             [
              0,
              "#0d0887"
             ],
             [
              0.1111111111111111,
              "#46039f"
             ],
             [
              0.2222222222222222,
              "#7201a8"
             ],
             [
              0.3333333333333333,
              "#9c179e"
             ],
             [
              0.4444444444444444,
              "#bd3786"
             ],
             [
              0.5555555555555556,
              "#d8576b"
             ],
             [
              0.6666666666666666,
              "#ed7953"
             ],
             [
              0.7777777777777778,
              "#fb9f3a"
             ],
             [
              0.8888888888888888,
              "#fdca26"
             ],
             [
              1,
              "#f0f921"
             ]
            ],
            "type": "contour"
           }
          ],
          "contourcarpet": [
           {
            "colorbar": {
             "outlinewidth": 0,
             "ticks": ""
            },
            "type": "contourcarpet"
           }
          ],
          "heatmap": [
           {
            "colorbar": {
             "outlinewidth": 0,
             "ticks": ""
            },
            "colorscale": [
             [
              0,
              "#0d0887"
             ],
             [
              0.1111111111111111,
              "#46039f"
             ],
             [
              0.2222222222222222,
              "#7201a8"
             ],
             [
              0.3333333333333333,
              "#9c179e"
             ],
             [
              0.4444444444444444,
              "#bd3786"
             ],
             [
              0.5555555555555556,
              "#d8576b"
             ],
             [
              0.6666666666666666,
              "#ed7953"
             ],
             [
              0.7777777777777778,
              "#fb9f3a"
             ],
             [
              0.8888888888888888,
              "#fdca26"
             ],
             [
              1,
              "#f0f921"
             ]
            ],
            "type": "heatmap"
           }
          ],
          "heatmapgl": [
           {
            "colorbar": {
             "outlinewidth": 0,
             "ticks": ""
            },
            "colorscale": [
             [
              0,
              "#0d0887"
             ],
             [
              0.1111111111111111,
              "#46039f"
             ],
             [
              0.2222222222222222,
              "#7201a8"
             ],
             [
              0.3333333333333333,
              "#9c179e"
             ],
             [
              0.4444444444444444,
              "#bd3786"
             ],
             [
              0.5555555555555556,
              "#d8576b"
             ],
             [
              0.6666666666666666,
              "#ed7953"
             ],
             [
              0.7777777777777778,
              "#fb9f3a"
             ],
             [
              0.8888888888888888,
              "#fdca26"
             ],
             [
              1,
              "#f0f921"
             ]
            ],
            "type": "heatmapgl"
           }
          ],
          "histogram": [
           {
            "marker": {
             "pattern": {
              "fillmode": "overlay",
              "size": 10,
              "solidity": 0.2
             }
            },
            "type": "histogram"
           }
          ],
          "histogram2d": [
           {
            "colorbar": {
             "outlinewidth": 0,
             "ticks": ""
            },
            "colorscale": [
             [
              0,
              "#0d0887"
             ],
             [
              0.1111111111111111,
              "#46039f"
             ],
             [
              0.2222222222222222,
              "#7201a8"
             ],
             [
              0.3333333333333333,
              "#9c179e"
             ],
             [
              0.4444444444444444,
              "#bd3786"
             ],
             [
              0.5555555555555556,
              "#d8576b"
             ],
             [
              0.6666666666666666,
              "#ed7953"
             ],
             [
              0.7777777777777778,
              "#fb9f3a"
             ],
             [
              0.8888888888888888,
              "#fdca26"
             ],
             [
              1,
              "#f0f921"
             ]
            ],
            "type": "histogram2d"
           }
          ],
          "histogram2dcontour": [
           {
            "colorbar": {
             "outlinewidth": 0,
             "ticks": ""
            },
            "colorscale": [
             [
              0,
              "#0d0887"
             ],
             [
              0.1111111111111111,
              "#46039f"
             ],
             [
              0.2222222222222222,
              "#7201a8"
             ],
             [
              0.3333333333333333,
              "#9c179e"
             ],
             [
              0.4444444444444444,
              "#bd3786"
             ],
             [
              0.5555555555555556,
              "#d8576b"
             ],
             [
              0.6666666666666666,
              "#ed7953"
             ],
             [
              0.7777777777777778,
              "#fb9f3a"
             ],
             [
              0.8888888888888888,
              "#fdca26"
             ],
             [
              1,
              "#f0f921"
             ]
            ],
            "type": "histogram2dcontour"
           }
          ],
          "mesh3d": [
           {
            "colorbar": {
             "outlinewidth": 0,
             "ticks": ""
            },
            "type": "mesh3d"
           }
          ],
          "parcoords": [
           {
            "line": {
             "colorbar": {
              "outlinewidth": 0,
              "ticks": ""
             }
            },
            "type": "parcoords"
           }
          ],
          "pie": [
           {
            "automargin": true,
            "type": "pie"
           }
          ],
          "scatter": [
           {
            "fillpattern": {
             "fillmode": "overlay",
             "size": 10,
             "solidity": 0.2
            },
            "type": "scatter"
           }
          ],
          "scatter3d": [
           {
            "line": {
             "colorbar": {
              "outlinewidth": 0,
              "ticks": ""
             }
            },
            "marker": {
             "colorbar": {
              "outlinewidth": 0,
              "ticks": ""
             }
            },
            "type": "scatter3d"
           }
          ],
          "scattercarpet": [
           {
            "marker": {
             "colorbar": {
              "outlinewidth": 0,
              "ticks": ""
             }
            },
            "type": "scattercarpet"
           }
          ],
          "scattergeo": [
           {
            "marker": {
             "colorbar": {
              "outlinewidth": 0,
              "ticks": ""
             }
            },
            "type": "scattergeo"
           }
          ],
          "scattergl": [
           {
            "marker": {
             "colorbar": {
              "outlinewidth": 0,
              "ticks": ""
             }
            },
            "type": "scattergl"
           }
          ],
          "scattermapbox": [
           {
            "marker": {
             "colorbar": {
              "outlinewidth": 0,
              "ticks": ""
             }
            },
            "type": "scattermapbox"
           }
          ],
          "scatterpolar": [
           {
            "marker": {
             "colorbar": {
              "outlinewidth": 0,
              "ticks": ""
             }
            },
            "type": "scatterpolar"
           }
          ],
          "scatterpolargl": [
           {
            "marker": {
             "colorbar": {
              "outlinewidth": 0,
              "ticks": ""
             }
            },
            "type": "scatterpolargl"
           }
          ],
          "scatterternary": [
           {
            "marker": {
             "colorbar": {
              "outlinewidth": 0,
              "ticks": ""
             }
            },
            "type": "scatterternary"
           }
          ],
          "surface": [
           {
            "colorbar": {
             "outlinewidth": 0,
             "ticks": ""
            },
            "colorscale": [
             [
              0,
              "#0d0887"
             ],
             [
              0.1111111111111111,
              "#46039f"
             ],
             [
              0.2222222222222222,
              "#7201a8"
             ],
             [
              0.3333333333333333,
              "#9c179e"
             ],
             [
              0.4444444444444444,
              "#bd3786"
             ],
             [
              0.5555555555555556,
              "#d8576b"
             ],
             [
              0.6666666666666666,
              "#ed7953"
             ],
             [
              0.7777777777777778,
              "#fb9f3a"
             ],
             [
              0.8888888888888888,
              "#fdca26"
             ],
             [
              1,
              "#f0f921"
             ]
            ],
            "type": "surface"
           }
          ],
          "table": [
           {
            "cells": {
             "fill": {
              "color": "#EBF0F8"
             },
             "line": {
              "color": "white"
             }
            },
            "header": {
             "fill": {
              "color": "#C8D4E3"
             },
             "line": {
              "color": "white"
             }
            },
            "type": "table"
           }
          ]
         },
         "layout": {
          "annotationdefaults": {
           "arrowcolor": "#2a3f5f",
           "arrowhead": 0,
           "arrowwidth": 1
          },
          "autotypenumbers": "strict",
          "coloraxis": {
           "colorbar": {
            "outlinewidth": 0,
            "ticks": ""
           }
          },
          "colorscale": {
           "diverging": [
            [
             0,
             "#8e0152"
            ],
            [
             0.1,
             "#c51b7d"
            ],
            [
             0.2,
             "#de77ae"
            ],
            [
             0.3,
             "#f1b6da"
            ],
            [
             0.4,
             "#fde0ef"
            ],
            [
             0.5,
             "#f7f7f7"
            ],
            [
             0.6,
             "#e6f5d0"
            ],
            [
             0.7,
             "#b8e186"
            ],
            [
             0.8,
             "#7fbc41"
            ],
            [
             0.9,
             "#4d9221"
            ],
            [
             1,
             "#276419"
            ]
           ],
           "sequential": [
            [
             0,
             "#0d0887"
            ],
            [
             0.1111111111111111,
             "#46039f"
            ],
            [
             0.2222222222222222,
             "#7201a8"
            ],
            [
             0.3333333333333333,
             "#9c179e"
            ],
            [
             0.4444444444444444,
             "#bd3786"
            ],
            [
             0.5555555555555556,
             "#d8576b"
            ],
            [
             0.6666666666666666,
             "#ed7953"
            ],
            [
             0.7777777777777778,
             "#fb9f3a"
            ],
            [
             0.8888888888888888,
             "#fdca26"
            ],
            [
             1,
             "#f0f921"
            ]
           ],
           "sequentialminus": [
            [
             0,
             "#0d0887"
            ],
            [
             0.1111111111111111,
             "#46039f"
            ],
            [
             0.2222222222222222,
             "#7201a8"
            ],
            [
             0.3333333333333333,
             "#9c179e"
            ],
            [
             0.4444444444444444,
             "#bd3786"
            ],
            [
             0.5555555555555556,
             "#d8576b"
            ],
            [
             0.6666666666666666,
             "#ed7953"
            ],
            [
             0.7777777777777778,
             "#fb9f3a"
            ],
            [
             0.8888888888888888,
             "#fdca26"
            ],
            [
             1,
             "#f0f921"
            ]
           ]
          },
          "colorway": [
           "#636efa",
           "#EF553B",
           "#00cc96",
           "#ab63fa",
           "#FFA15A",
           "#19d3f3",
           "#FF6692",
           "#B6E880",
           "#FF97FF",
           "#FECB52"
          ],
          "font": {
           "color": "#2a3f5f"
          },
          "geo": {
           "bgcolor": "white",
           "lakecolor": "white",
           "landcolor": "#E5ECF6",
           "showlakes": true,
           "showland": true,
           "subunitcolor": "white"
          },
          "hoverlabel": {
           "align": "left"
          },
          "hovermode": "closest",
          "mapbox": {
           "style": "light"
          },
          "paper_bgcolor": "white",
          "plot_bgcolor": "#E5ECF6",
          "polar": {
           "angularaxis": {
            "gridcolor": "white",
            "linecolor": "white",
            "ticks": ""
           },
           "bgcolor": "#E5ECF6",
           "radialaxis": {
            "gridcolor": "white",
            "linecolor": "white",
            "ticks": ""
           }
          },
          "scene": {
           "xaxis": {
            "backgroundcolor": "#E5ECF6",
            "gridcolor": "white",
            "gridwidth": 2,
            "linecolor": "white",
            "showbackground": true,
            "ticks": "",
            "zerolinecolor": "white"
           },
           "yaxis": {
            "backgroundcolor": "#E5ECF6",
            "gridcolor": "white",
            "gridwidth": 2,
            "linecolor": "white",
            "showbackground": true,
            "ticks": "",
            "zerolinecolor": "white"
           },
           "zaxis": {
            "backgroundcolor": "#E5ECF6",
            "gridcolor": "white",
            "gridwidth": 2,
            "linecolor": "white",
            "showbackground": true,
            "ticks": "",
            "zerolinecolor": "white"
           }
          },
          "shapedefaults": {
           "line": {
            "color": "#2a3f5f"
           }
          },
          "ternary": {
           "aaxis": {
            "gridcolor": "white",
            "linecolor": "white",
            "ticks": ""
           },
           "baxis": {
            "gridcolor": "white",
            "linecolor": "white",
            "ticks": ""
           },
           "bgcolor": "#E5ECF6",
           "caxis": {
            "gridcolor": "white",
            "linecolor": "white",
            "ticks": ""
           }
          },
          "title": {
           "x": 0.05
          },
          "xaxis": {
           "automargin": true,
           "gridcolor": "white",
           "linecolor": "white",
           "ticks": "",
           "title": {
            "standoff": 15
           },
           "zerolinecolor": "white",
           "zerolinewidth": 2
          },
          "yaxis": {
           "automargin": true,
           "gridcolor": "white",
           "linecolor": "white",
           "ticks": "",
           "title": {
            "standoff": 15
           },
           "zerolinecolor": "white",
           "zerolinewidth": 2
          }
         }
        },
        "title": {
         "text": "Radius of Gyration"
        },
        "xaxis": {
         "title": {
          "text": "Time (ps)"
         }
        },
        "yaxis": {
         "title": {
          "text": "Rgyr (nm)"
         }
        }
       }
      },
      "text/html": [
       "<div>                            <div id=\"f718522a-2cb4-4fc3-a6c9-b5321f7245de\" class=\"plotly-graph-div\" style=\"height:525px; width:100%;\"></div>            <script type=\"text/javascript\">                require([\"plotly\"], function(Plotly) {                    window.PLOTLYENV=window.PLOTLYENV || {};                                    if (document.getElementById(\"f718522a-2cb4-4fc3-a6c9-b5321f7245de\")) {                    Plotly.newPlot(                        \"f718522a-2cb4-4fc3-a6c9-b5321f7245de\",                        [{\"x\":[0.0,10.0,20.0,30.0,40.0,50.0],\"y\":[1.60602,1.63455,1.62685,1.62567,1.62967,1.63196],\"type\":\"scatter\"}],                        {\"template\":{\"data\":{\"barpolar\":[{\"marker\":{\"line\":{\"color\":\"#E5ECF6\",\"width\":0.5},\"pattern\":{\"fillmode\":\"overlay\",\"size\":10,\"solidity\":0.2}},\"type\":\"barpolar\"}],\"bar\":[{\"error_x\":{\"color\":\"#2a3f5f\"},\"error_y\":{\"color\":\"#2a3f5f\"},\"marker\":{\"line\":{\"color\":\"#E5ECF6\",\"width\":0.5},\"pattern\":{\"fillmode\":\"overlay\",\"size\":10,\"solidity\":0.2}},\"type\":\"bar\"}],\"carpet\":[{\"aaxis\":{\"endlinecolor\":\"#2a3f5f\",\"gridcolor\":\"white\",\"linecolor\":\"white\",\"minorgridcolor\":\"white\",\"startlinecolor\":\"#2a3f5f\"},\"baxis\":{\"endlinecolor\":\"#2a3f5f\",\"gridcolor\":\"white\",\"linecolor\":\"white\",\"minorgridcolor\":\"white\",\"startlinecolor\":\"#2a3f5f\"},\"type\":\"carpet\"}],\"choropleth\":[{\"colorbar\":{\"outlinewidth\":0,\"ticks\":\"\"},\"type\":\"choropleth\"}],\"contourcarpet\":[{\"colorbar\":{\"outlinewidth\":0,\"ticks\":\"\"},\"type\":\"contourcarpet\"}],\"contour\":[{\"colorbar\":{\"outlinewidth\":0,\"ticks\":\"\"},\"colorscale\":[[0.0,\"#0d0887\"],[0.1111111111111111,\"#46039f\"],[0.2222222222222222,\"#7201a8\"],[0.3333333333333333,\"#9c179e\"],[0.4444444444444444,\"#bd3786\"],[0.5555555555555556,\"#d8576b\"],[0.6666666666666666,\"#ed7953\"],[0.7777777777777778,\"#fb9f3a\"],[0.8888888888888888,\"#fdca26\"],[1.0,\"#f0f921\"]],\"type\":\"contour\"}],\"heatmapgl\":[{\"colorbar\":{\"outlinewidth\":0,\"ticks\":\"\"},\"colorscale\":[[0.0,\"#0d0887\"],[0.1111111111111111,\"#46039f\"],[0.2222222222222222,\"#7201a8\"],[0.3333333333333333,\"#9c179e\"],[0.4444444444444444,\"#bd3786\"],[0.5555555555555556,\"#d8576b\"],[0.6666666666666666,\"#ed7953\"],[0.7777777777777778,\"#fb9f3a\"],[0.8888888888888888,\"#fdca26\"],[1.0,\"#f0f921\"]],\"type\":\"heatmapgl\"}],\"heatmap\":[{\"colorbar\":{\"outlinewidth\":0,\"ticks\":\"\"},\"colorscale\":[[0.0,\"#0d0887\"],[0.1111111111111111,\"#46039f\"],[0.2222222222222222,\"#7201a8\"],[0.3333333333333333,\"#9c179e\"],[0.4444444444444444,\"#bd3786\"],[0.5555555555555556,\"#d8576b\"],[0.6666666666666666,\"#ed7953\"],[0.7777777777777778,\"#fb9f3a\"],[0.8888888888888888,\"#fdca26\"],[1.0,\"#f0f921\"]],\"type\":\"heatmap\"}],\"histogram2dcontour\":[{\"colorbar\":{\"outlinewidth\":0,\"ticks\":\"\"},\"colorscale\":[[0.0,\"#0d0887\"],[0.1111111111111111,\"#46039f\"],[0.2222222222222222,\"#7201a8\"],[0.3333333333333333,\"#9c179e\"],[0.4444444444444444,\"#bd3786\"],[0.5555555555555556,\"#d8576b\"],[0.6666666666666666,\"#ed7953\"],[0.7777777777777778,\"#fb9f3a\"],[0.8888888888888888,\"#fdca26\"],[1.0,\"#f0f921\"]],\"type\":\"histogram2dcontour\"}],\"histogram2d\":[{\"colorbar\":{\"outlinewidth\":0,\"ticks\":\"\"},\"colorscale\":[[0.0,\"#0d0887\"],[0.1111111111111111,\"#46039f\"],[0.2222222222222222,\"#7201a8\"],[0.3333333333333333,\"#9c179e\"],[0.4444444444444444,\"#bd3786\"],[0.5555555555555556,\"#d8576b\"],[0.6666666666666666,\"#ed7953\"],[0.7777777777777778,\"#fb9f3a\"],[0.8888888888888888,\"#fdca26\"],[1.0,\"#f0f921\"]],\"type\":\"histogram2d\"}],\"histogram\":[{\"marker\":{\"pattern\":{\"fillmode\":\"overlay\",\"size\":10,\"solidity\":0.2}},\"type\":\"histogram\"}],\"mesh3d\":[{\"colorbar\":{\"outlinewidth\":0,\"ticks\":\"\"},\"type\":\"mesh3d\"}],\"parcoords\":[{\"line\":{\"colorbar\":{\"outlinewidth\":0,\"ticks\":\"\"}},\"type\":\"parcoords\"}],\"pie\":[{\"automargin\":true,\"type\":\"pie\"}],\"scatter3d\":[{\"line\":{\"colorbar\":{\"outlinewidth\":0,\"ticks\":\"\"}},\"marker\":{\"colorbar\":{\"outlinewidth\":0,\"ticks\":\"\"}},\"type\":\"scatter3d\"}],\"scattercarpet\":[{\"marker\":{\"colorbar\":{\"outlinewidth\":0,\"ticks\":\"\"}},\"type\":\"scattercarpet\"}],\"scattergeo\":[{\"marker\":{\"colorbar\":{\"outlinewidth\":0,\"ticks\":\"\"}},\"type\":\"scattergeo\"}],\"scattergl\":[{\"marker\":{\"colorbar\":{\"outlinewidth\":0,\"ticks\":\"\"}},\"type\":\"scattergl\"}],\"scattermapbox\":[{\"marker\":{\"colorbar\":{\"outlinewidth\":0,\"ticks\":\"\"}},\"type\":\"scattermapbox\"}],\"scatterpolargl\":[{\"marker\":{\"colorbar\":{\"outlinewidth\":0,\"ticks\":\"\"}},\"type\":\"scatterpolargl\"}],\"scatterpolar\":[{\"marker\":{\"colorbar\":{\"outlinewidth\":0,\"ticks\":\"\"}},\"type\":\"scatterpolar\"}],\"scatter\":[{\"fillpattern\":{\"fillmode\":\"overlay\",\"size\":10,\"solidity\":0.2},\"type\":\"scatter\"}],\"scatterternary\":[{\"marker\":{\"colorbar\":{\"outlinewidth\":0,\"ticks\":\"\"}},\"type\":\"scatterternary\"}],\"surface\":[{\"colorbar\":{\"outlinewidth\":0,\"ticks\":\"\"},\"colorscale\":[[0.0,\"#0d0887\"],[0.1111111111111111,\"#46039f\"],[0.2222222222222222,\"#7201a8\"],[0.3333333333333333,\"#9c179e\"],[0.4444444444444444,\"#bd3786\"],[0.5555555555555556,\"#d8576b\"],[0.6666666666666666,\"#ed7953\"],[0.7777777777777778,\"#fb9f3a\"],[0.8888888888888888,\"#fdca26\"],[1.0,\"#f0f921\"]],\"type\":\"surface\"}],\"table\":[{\"cells\":{\"fill\":{\"color\":\"#EBF0F8\"},\"line\":{\"color\":\"white\"}},\"header\":{\"fill\":{\"color\":\"#C8D4E3\"},\"line\":{\"color\":\"white\"}},\"type\":\"table\"}]},\"layout\":{\"annotationdefaults\":{\"arrowcolor\":\"#2a3f5f\",\"arrowhead\":0,\"arrowwidth\":1},\"autotypenumbers\":\"strict\",\"coloraxis\":{\"colorbar\":{\"outlinewidth\":0,\"ticks\":\"\"}},\"colorscale\":{\"diverging\":[[0,\"#8e0152\"],[0.1,\"#c51b7d\"],[0.2,\"#de77ae\"],[0.3,\"#f1b6da\"],[0.4,\"#fde0ef\"],[0.5,\"#f7f7f7\"],[0.6,\"#e6f5d0\"],[0.7,\"#b8e186\"],[0.8,\"#7fbc41\"],[0.9,\"#4d9221\"],[1,\"#276419\"]],\"sequential\":[[0.0,\"#0d0887\"],[0.1111111111111111,\"#46039f\"],[0.2222222222222222,\"#7201a8\"],[0.3333333333333333,\"#9c179e\"],[0.4444444444444444,\"#bd3786\"],[0.5555555555555556,\"#d8576b\"],[0.6666666666666666,\"#ed7953\"],[0.7777777777777778,\"#fb9f3a\"],[0.8888888888888888,\"#fdca26\"],[1.0,\"#f0f921\"]],\"sequentialminus\":[[0.0,\"#0d0887\"],[0.1111111111111111,\"#46039f\"],[0.2222222222222222,\"#7201a8\"],[0.3333333333333333,\"#9c179e\"],[0.4444444444444444,\"#bd3786\"],[0.5555555555555556,\"#d8576b\"],[0.6666666666666666,\"#ed7953\"],[0.7777777777777778,\"#fb9f3a\"],[0.8888888888888888,\"#fdca26\"],[1.0,\"#f0f921\"]]},\"colorway\":[\"#636efa\",\"#EF553B\",\"#00cc96\",\"#ab63fa\",\"#FFA15A\",\"#19d3f3\",\"#FF6692\",\"#B6E880\",\"#FF97FF\",\"#FECB52\"],\"font\":{\"color\":\"#2a3f5f\"},\"geo\":{\"bgcolor\":\"white\",\"lakecolor\":\"white\",\"landcolor\":\"#E5ECF6\",\"showlakes\":true,\"showland\":true,\"subunitcolor\":\"white\"},\"hoverlabel\":{\"align\":\"left\"},\"hovermode\":\"closest\",\"mapbox\":{\"style\":\"light\"},\"paper_bgcolor\":\"white\",\"plot_bgcolor\":\"#E5ECF6\",\"polar\":{\"angularaxis\":{\"gridcolor\":\"white\",\"linecolor\":\"white\",\"ticks\":\"\"},\"bgcolor\":\"#E5ECF6\",\"radialaxis\":{\"gridcolor\":\"white\",\"linecolor\":\"white\",\"ticks\":\"\"}},\"scene\":{\"xaxis\":{\"backgroundcolor\":\"#E5ECF6\",\"gridcolor\":\"white\",\"gridwidth\":2,\"linecolor\":\"white\",\"showbackground\":true,\"ticks\":\"\",\"zerolinecolor\":\"white\"},\"yaxis\":{\"backgroundcolor\":\"#E5ECF6\",\"gridcolor\":\"white\",\"gridwidth\":2,\"linecolor\":\"white\",\"showbackground\":true,\"ticks\":\"\",\"zerolinecolor\":\"white\"},\"zaxis\":{\"backgroundcolor\":\"#E5ECF6\",\"gridcolor\":\"white\",\"gridwidth\":2,\"linecolor\":\"white\",\"showbackground\":true,\"ticks\":\"\",\"zerolinecolor\":\"white\"}},\"shapedefaults\":{\"line\":{\"color\":\"#2a3f5f\"}},\"ternary\":{\"aaxis\":{\"gridcolor\":\"white\",\"linecolor\":\"white\",\"ticks\":\"\"},\"baxis\":{\"gridcolor\":\"white\",\"linecolor\":\"white\",\"ticks\":\"\"},\"bgcolor\":\"#E5ECF6\",\"caxis\":{\"gridcolor\":\"white\",\"linecolor\":\"white\",\"ticks\":\"\"}},\"title\":{\"x\":0.05},\"xaxis\":{\"automargin\":true,\"gridcolor\":\"white\",\"linecolor\":\"white\",\"ticks\":\"\",\"title\":{\"standoff\":15},\"zerolinecolor\":\"white\",\"zerolinewidth\":2},\"yaxis\":{\"automargin\":true,\"gridcolor\":\"white\",\"linecolor\":\"white\",\"ticks\":\"\",\"title\":{\"standoff\":15},\"zerolinecolor\":\"white\",\"zerolinewidth\":2}}},\"title\":{\"text\":\"Radius of Gyration\"},\"xaxis\":{\"title\":{\"text\":\"Time (ps)\"}},\"yaxis\":{\"title\":{\"text\":\"Rgyr (nm)\"}}},                        {\"responsive\": true}                    ).then(function(){\n",
       "                            \n",
       "var gd = document.getElementById('f718522a-2cb4-4fc3-a6c9-b5321f7245de');\n",
       "var x = new MutationObserver(function (mutations, observer) {{\n",
       "        var display = window.getComputedStyle(gd).display;\n",
       "        if (!display || display === 'none') {{\n",
       "            console.log([gd, 'removed!']);\n",
       "            Plotly.purge(gd);\n",
       "            observer.disconnect();\n",
       "        }}\n",
       "}});\n",
       "\n",
       "// Listen for the removal of the full notebook cells\n",
       "var notebookContainer = gd.closest('#notebook-container');\n",
       "if (notebookContainer) {{\n",
       "    x.observe(notebookContainer, {childList: true});\n",
       "}}\n",
       "\n",
       "// Listen for the clearing of the current output cell\n",
       "var outputEl = gd.closest('.output');\n",
       "if (outputEl) {{\n",
       "    x.observe(outputEl, {childList: true});\n",
       "}}\n",
       "\n",
       "                        })                };                });            </script>        </div>"
      ]
     },
     "metadata": {},
     "output_type": "display_data"
    }
   ],
   "source": [
    "import plotly\n",
    "import plotly.graph_objs as go\n",
    "\n",
    "# Read Rgyr data from file \n",
    "with open(output_rgyr,'r') as rgyr_file:\n",
    "    x,y = map(\n",
    "        list,\n",
    "        zip(*[\n",
    "            (float(line.split()[0]),float(line.split()[1]))\n",
    "            for line in rgyr_file \n",
    "            if not line.startswith((\"#\",\"@\")) \n",
    "        ])\n",
    "    )\n",
    "\n",
    "plotly.offline.init_notebook_mode(connected=True)\n",
    "\n",
    "fig = ({\n",
    "    \"data\": [go.Scatter(x=x, y=y)],\n",
    "    \"layout\": go.Layout(title=\"Radius of Gyration\",\n",
    "                        xaxis=dict(title = \"Time (ps)\"),\n",
    "                        yaxis=dict(title = \"Rgyr (nm)\")\n",
    "                       )\n",
    "})\n",
    "\n",
    "plotly.offline.iplot(fig)"
   ]
  },
  {
   "cell_type": "markdown",
   "metadata": {},
   "source": [
    "<a id=\"post\"></a>\n",
    "***\n",
    "## Post-processing and Visualizing resulting 3D trajectory\n",
    "Post-processing and Visualizing the **protein-ligand complex system** MD setup **resulting trajectory** using **NGL**\n",
    "- [Step 1](#ppStep1): *Imaging* the resulting trajectory, **stripping out water molecules and ions** and **correcting periodicity issues**.\n",
    "- [Step 2](#ppStep2): Generating a *dry* structure, **removing water molecules and ions** from the final snapshot of the MD setup pipeline.\n",
    "- [Step 3](#ppStep3): Visualizing the *imaged* trajectory using the *dry* structure as a **topology**. \n",
    "***\n",
    "**Building Blocks** used:\n",
    " - [GMXImage](https://biobb-analysis.readthedocs.io/en/latest/gromacs.html#module-gromacs.gmx_image) from **biobb_analysis.gromacs.gmx_image** \n",
    " - [GMXTrjConvStr](https://biobb-analysis.readthedocs.io/en/latest/gromacs.html#module-gromacs.gmx_trjconv_str) from **biobb_analysis.gromacs.gmx_trjconv_str** \n",
    "***"
   ]
  },
  {
   "cell_type": "markdown",
   "metadata": {},
   "source": [
    "<a id=\"ppStep1\"></a>\n",
    "### Step 1: *Imaging* the resulting trajectory.\n",
    "Stripping out **water molecules and ions** and **correcting periodicity issues**  "
   ]
  },
  {
   "cell_type": "code",
   "execution_count": 43,
   "metadata": {
    "scrolled": false
   },
   "outputs": [
    {
     "name": "stdout",
     "output_type": "stream",
     "text": [
      "2022-04-26 18:36:00,134 [MainThread  ] [INFO ]  Not using any container\n",
      "2022-04-26 18:36:00,315 [MainThread  ] [INFO ]  echo \"Protein_Other\" \"Protein_Other\" | gmx trjconv -f /home/ma/git/druglord/temp/3HTB/3HTB_JZ4_md.trr -s /home/ma/git/druglord/temp/3HTB/3HTB_JZ4_gppmd.tpr -fit none -o 3HTB_imaged_traj.trr -n /home/ma/git/druglord/temp/3HTB/3HTB_JZ4_index.ndx -center -pbc mol -ur compact\n",
      "\n",
      "2022-04-26 18:36:00,317 [MainThread  ] [INFO ]  Exit code 0\n",
      "\n",
      "2022-04-26 18:36:00,318 [MainThread  ] [INFO ]  Note that major changes are planned in future for trjconv, to improve usability and utility.Select group for centering\n",
      "Selected 24: 'Protein_Other'\n",
      "Select group for output\n",
      "Selected 24: 'Protein_Other'\n",
      "\n",
      "2022-04-26 18:36:00,319 [MainThread  ] [INFO ]                       :-) GROMACS - gmx trjconv, 2019.1 (-:\n",
      "\n",
      "                            GROMACS is written by:\n",
      "     Emile Apol      Rossen Apostolov      Paul Bauer     Herman J.C. Berendsen\n",
      "    Par Bjelkmar      Christian Blau   Viacheslav Bolnykh     Kevin Boyd    \n",
      " Aldert van Buuren   Rudi van Drunen     Anton Feenstra       Alan Gray     \n",
      "  Gerrit Groenhof     Anca Hamuraru    Vincent Hindriksen  M. Eric Irrgang  \n",
      "  Aleksei Iupinov   Christoph Junghans     Joe Jordan     Dimitrios Karkoulis\n",
      "    Peter Kasson        Jiri Kraus      Carsten Kutzner      Per Larsson    \n",
      "  Justin A. Lemkul    Viveca Lindahl    Magnus Lundborg     Erik Marklund   \n",
      "    Pascal Merz     Pieter Meulenhoff    Teemu Murtola       Szilard Pall   \n",
      "    Sander Pronk      Roland Schulz      Michael Shirts    Alexey Shvetsov  \n",
      "   Alfons Sijbers     Peter Tieleman      Jon Vincent      Teemu Virolainen \n",
      " Christian Wennberg    Maarten Wolf   \n",
      "                           and the project leaders:\n",
      "        Mark Abraham, Berk Hess, Erik Lindahl, and David van der Spoel\n",
      "\n",
      "Copyright (c) 1991-2000, University of Groningen, The Netherlands.\n",
      "Copyright (c) 2001-2018, The GROMACS development team at\n",
      "Uppsala University, Stockholm University and\n",
      "the Royal Institute of Technology, Sweden.\n",
      "check out http://www.gromacs.org for more information.\n",
      "\n",
      "GROMACS is free software; you can redistribute it and/or modify it\n",
      "under the terms of the GNU Lesser General Public License\n",
      "as published by the Free Software Foundation; either version 2.1\n",
      "of the License, or (at your option) any later version.\n",
      "\n",
      "GROMACS:      gmx trjconv, version 2019.1\n",
      "Executable:   /home/ma/miniconda3/envs/biobb_Protein-Complex_MDsetup_tutorial/bin/gmx\n",
      "Data prefix:  /home/ma/miniconda3/envs/biobb_Protein-Complex_MDsetup_tutorial\n",
      "Working dir:  /home/ma/git/druglord/temp/3HTB\n",
      "Command line:\n",
      "  gmx trjconv -f /home/ma/git/druglord/temp/3HTB/3HTB_JZ4_md.trr -s /home/ma/git/druglord/temp/3HTB/3HTB_JZ4_gppmd.tpr -fit none -o 3HTB_imaged_traj.trr -n /home/ma/git/druglord/temp/3HTB/3HTB_JZ4_index.ndx -center -pbc mol -ur compact\n",
      "\n",
      "Will write trr: Trajectory in portable xdr format\n",
      "Reading file /home/ma/git/druglord/temp/3HTB/3HTB_JZ4_gppmd.tpr, VERSION 2019.1 (single precision)\n",
      "Reading file /home/ma/git/druglord/temp/3HTB/3HTB_JZ4_gppmd.tpr, VERSION 2019.1 (single precision)\n",
      "Group     0 (         System) has 31177 elements\n",
      "Group     1 (        Protein) has  2614 elements\n",
      "Group     2 (      Protein-H) has  1301 elements\n",
      "Group     3 (        C-alpha) has   163 elements\n",
      "Group     4 (       Backbone) has   489 elements\n",
      "Group     5 (      MainChain) has   653 elements\n",
      "Group     6 (   MainChain+Cb) has   805 elements\n",
      "Group     7 (    MainChain+H) has   815 elements\n",
      "Group     8 (      SideChain) has  1799 elements\n",
      "Group     9 (    SideChain-H) has   648 elements\n",
      "Group    10 (    Prot-Masses) has  2614 elements\n",
      "Group    11 (    non-Protein) has 28563 elements\n",
      "Group    12 (          Other) has    22 elements\n",
      "Group    13 (            JZ4) has    22 elements\n",
      "Group    14 (             NA) has    10 elements\n",
      "Group    15 (             CL) has    16 elements\n",
      "Group    16 (          Water) has 28515 elements\n",
      "Group    17 (            SOL) has 28515 elements\n",
      "Group    18 (      non-Water) has  2662 elements\n",
      "Group    19 (            Ion) has    26 elements\n",
      "Group    20 (            JZ4) has    22 elements\n",
      "Group    21 (             NA) has    10 elements\n",
      "Group    22 (             CL) has    16 elements\n",
      "Group    23 ( Water_and_ions) has 28541 elements\n",
      "Group    24 (  Protein_Other) has  2636 elements\n",
      "Select a group: Group     0 (         System) has 31177 elements\n",
      "Group     1 (        Protein) has  2614 elements\n",
      "Group     2 (      Protein-H) has  1301 elements\n",
      "Group     3 (        C-alpha) has   163 elements\n",
      "Group     4 (       Backbone) has   489 elements\n",
      "Group     5 (      MainChain) has   653 elements\n",
      "Group     6 (   MainChain+Cb) has   805 elements\n",
      "Group     7 (    MainChain+H) has   815 elements\n",
      "Group     8 (      SideChain) has  1799 elements\n",
      "Group     9 (    SideChain-H) has   648 elements\n",
      "Group    10 (    Prot-Masses) has  2614 elements\n",
      "Group    11 (    non-Protein) has 28563 elements\n",
      "Group    12 (          Other) has    22 elements\n",
      "Group    13 (            JZ4) has    22 elements\n",
      "Group    14 (             NA) has    10 elements\n",
      "Group    15 (             CL) has    16 elements\n",
      "Group    16 (          Water) has 28515 elements\n",
      "Group    17 (            SOL) has 28515 elements\n",
      "Group    18 (      non-Water) has  2662 elements\n",
      "Group    19 (            Ion) has    26 elements\n",
      "Group    20 (            JZ4) has    22 elements\n",
      "Group    21 (             NA) has    10 elements\n",
      "Group    22 (             CL) has    16 elements\n",
      "Group    23 ( Water_and_ions) has 28541 elements\n",
      "Group    24 (  Protein_Other) has  2636 elements\n",
      "Select a group: trr version: GMX_trn_file (single precision)\n",
      "Last frame          5 time   50.000    ->  frame      5 time   50.000      \n",
      "\n",
      "\n",
      "GROMACS reminds you: \"You Fill Me With Inertia\" (The Long Blondes)\n",
      "\n",
      "\n"
     ]
    },
    {
     "data": {
      "text/plain": [
       "0"
      ]
     },
     "execution_count": 43,
     "metadata": {},
     "output_type": "execute_result"
    }
   ],
   "source": [
    "# GMXImage: \"Imaging\" the resulting trajectory\n",
    "#           Removing water molecules and ions from the resulting structure\n",
    "from biobb_analysis.gromacs.gmx_image import gmx_image\n",
    "\n",
    "# Create prop dict and inputs/outputs\n",
    "output_imaged_traj = pdbCode+'_imaged_traj.trr'\n",
    "prop = {\n",
    "    'center_selection':  'Protein_Other',\n",
    "    'output_selection': 'Protein_Other',\n",
    "    'pbc' : 'mol',\n",
    "    'center' : True\n",
    "}\n",
    "\n",
    "# Create and launch bb\n",
    "gmx_image(input_traj_path=output_md_trr,\n",
    "         input_top_path=output_gppmd_tpr,\n",
    "         input_index_path=output_complex_ndx,\n",
    "         output_traj_path=output_imaged_traj, \n",
    "          properties=prop)"
   ]
  },
  {
   "cell_type": "markdown",
   "metadata": {},
   "source": [
    "<a id=\"ppStep2\"></a>\n",
    "### Step 2: Generating the output *dry* structure.\n",
    "**Removing water molecules and ions** from the resulting structure"
   ]
  },
  {
   "cell_type": "code",
   "execution_count": 44,
   "metadata": {
    "scrolled": true
   },
   "outputs": [
    {
     "name": "stdout",
     "output_type": "stream",
     "text": [
      "2022-04-26 18:36:00,755 [MainThread  ] [INFO ]  Not using any container\n",
      "2022-04-26 18:36:00,932 [MainThread  ] [INFO ]  echo \"Protein_Other\" | gmx trjconv -f /home/ma/git/druglord/temp/3HTB/3HTB_JZ4_md.gro -s /home/ma/git/druglord/temp/3HTB/3HTB_JZ4_gppmd.tpr -o 3HTB_md_dry.gro -n /home/ma/git/druglord/temp/3HTB/3HTB_JZ4_index.ndx\n",
      "\n",
      "2022-04-26 18:36:00,935 [MainThread  ] [INFO ]  Exit code 0\n",
      "\n",
      "2022-04-26 18:36:00,936 [MainThread  ] [INFO ]  Note that major changes are planned in future for trjconv, to improve usability and utility.Select group for output\n",
      "Selected 24: 'Protein_Other'\n",
      "\n",
      "2022-04-26 18:36:00,937 [MainThread  ] [INFO ]                       :-) GROMACS - gmx trjconv, 2019.1 (-:\n",
      "\n",
      "                            GROMACS is written by:\n",
      "     Emile Apol      Rossen Apostolov      Paul Bauer     Herman J.C. Berendsen\n",
      "    Par Bjelkmar      Christian Blau   Viacheslav Bolnykh     Kevin Boyd    \n",
      " Aldert van Buuren   Rudi van Drunen     Anton Feenstra       Alan Gray     \n",
      "  Gerrit Groenhof     Anca Hamuraru    Vincent Hindriksen  M. Eric Irrgang  \n",
      "  Aleksei Iupinov   Christoph Junghans     Joe Jordan     Dimitrios Karkoulis\n",
      "    Peter Kasson        Jiri Kraus      Carsten Kutzner      Per Larsson    \n",
      "  Justin A. Lemkul    Viveca Lindahl    Magnus Lundborg     Erik Marklund   \n",
      "    Pascal Merz     Pieter Meulenhoff    Teemu Murtola       Szilard Pall   \n",
      "    Sander Pronk      Roland Schulz      Michael Shirts    Alexey Shvetsov  \n",
      "   Alfons Sijbers     Peter Tieleman      Jon Vincent      Teemu Virolainen \n",
      " Christian Wennberg    Maarten Wolf   \n",
      "                           and the project leaders:\n",
      "        Mark Abraham, Berk Hess, Erik Lindahl, and David van der Spoel\n",
      "\n",
      "Copyright (c) 1991-2000, University of Groningen, The Netherlands.\n",
      "Copyright (c) 2001-2018, The GROMACS development team at\n",
      "Uppsala University, Stockholm University and\n",
      "the Royal Institute of Technology, Sweden.\n",
      "check out http://www.gromacs.org for more information.\n",
      "\n",
      "GROMACS is free software; you can redistribute it and/or modify it\n",
      "under the terms of the GNU Lesser General Public License\n",
      "as published by the Free Software Foundation; either version 2.1\n",
      "of the License, or (at your option) any later version.\n",
      "\n",
      "GROMACS:      gmx trjconv, version 2019.1\n",
      "Executable:   /home/ma/miniconda3/envs/biobb_Protein-Complex_MDsetup_tutorial/bin/gmx\n",
      "Data prefix:  /home/ma/miniconda3/envs/biobb_Protein-Complex_MDsetup_tutorial\n",
      "Working dir:  /home/ma/git/druglord/temp/3HTB\n",
      "Command line:\n",
      "  gmx trjconv -f /home/ma/git/druglord/temp/3HTB/3HTB_JZ4_md.gro -s /home/ma/git/druglord/temp/3HTB/3HTB_JZ4_gppmd.tpr -o 3HTB_md_dry.gro -n /home/ma/git/druglord/temp/3HTB/3HTB_JZ4_index.ndx\n",
      "\n",
      "Will write gro: Coordinate file in Gromos-87 format\n",
      "Reading file /home/ma/git/druglord/temp/3HTB/3HTB_JZ4_gppmd.tpr, VERSION 2019.1 (single precision)\n",
      "Reading file /home/ma/git/druglord/temp/3HTB/3HTB_JZ4_gppmd.tpr, VERSION 2019.1 (single precision)\n",
      "Group     0 (         System) has 31177 elements\n",
      "Group     1 (        Protein) has  2614 elements\n",
      "Group     2 (      Protein-H) has  1301 elements\n",
      "Group     3 (        C-alpha) has   163 elements\n",
      "Group     4 (       Backbone) has   489 elements\n",
      "Group     5 (      MainChain) has   653 elements\n",
      "Group     6 (   MainChain+Cb) has   805 elements\n",
      "Group     7 (    MainChain+H) has   815 elements\n",
      "Group     8 (      SideChain) has  1799 elements\n",
      "Group     9 (    SideChain-H) has   648 elements\n",
      "Group    10 (    Prot-Masses) has  2614 elements\n",
      "Group    11 (    non-Protein) has 28563 elements\n",
      "Group    12 (          Other) has    22 elements\n",
      "Group    13 (            JZ4) has    22 elements\n",
      "Group    14 (             NA) has    10 elements\n",
      "Group    15 (             CL) has    16 elements\n",
      "Group    16 (          Water) has 28515 elements\n",
      "Group    17 (            SOL) has 28515 elements\n",
      "Group    18 (      non-Water) has  2662 elements\n",
      "Group    19 (            Ion) has    26 elements\n",
      "Group    20 (            JZ4) has    22 elements\n",
      "Group    21 (             NA) has    10 elements\n",
      "Group    22 (             CL) has    16 elements\n",
      "Group    23 ( Water_and_ions) has 28541 elements\n",
      "Group    24 (  Protein_Other) has  2636 elements\n",
      "Select a group: Reading frames from gro file 'Protein in water', 31177 atoms.\n",
      "Reading frame       0 time    0.000   \n",
      "Precision of /home/ma/git/druglord/temp/3HTB/3HTB_JZ4_md.gro is 0.001 (nm)\n",
      "Last frame          0 time    0.000   \n",
      "\n",
      "\n",
      "GROMACS reminds you: \"I Am a Wonderful Thing\" (Kid Creole)\n",
      "\n",
      "\n"
     ]
    },
    {
     "data": {
      "text/plain": [
       "0"
      ]
     },
     "execution_count": 44,
     "metadata": {},
     "output_type": "execute_result"
    }
   ],
   "source": [
    "# GMXTrjConvStr: Converting and/or manipulating a structure\n",
    "#                Removing water molecules and ions from the resulting structure\n",
    "#                The \"dry\" structure will be used as a topology to visualize \n",
    "#                the \"imaged dry\" trajectory generated in the previous step.\n",
    "from biobb_analysis.gromacs.gmx_trjconv_str import gmx_trjconv_str\n",
    "\n",
    "# Create prop dict and inputs/outputs\n",
    "output_dry_gro = pdbCode+'_md_dry.gro'\n",
    "prop = {\n",
    "    'selection':  'Protein_Other'\n",
    "}\n",
    "\n",
    "# Create and launch bb\n",
    "gmx_trjconv_str(input_structure_path=output_md_gro,\n",
    "                input_top_path=output_gppmd_tpr,\n",
    "                input_index_path=output_complex_ndx,\n",
    "                output_str_path=output_dry_gro, \n",
    "                properties=prop)"
   ]
  },
  {
   "cell_type": "markdown",
   "metadata": {},
   "source": [
    "<a id=\"ppStep3\"></a>\n",
    "### Step 3: Visualizing the generated dehydrated trajectory.\n",
    "Using the **imaged trajectory** (output of the [Post-processing step 1](#ppStep1)) with the **dry structure** (output of the [Post-processing step 2](#ppStep2)) as a topology."
   ]
  },
  {
   "cell_type": "code",
   "execution_count": 45,
   "metadata": {
    "scrolled": true
   },
   "outputs": [
    {
     "data": {
      "application/vnd.jupyter.widget-view+json": {
       "model_id": "051a1401e24444fd8ea7bee3fcb87055",
       "version_major": 2,
       "version_minor": 0
      },
      "text/plain": [
       "NGLWidget(max_frame=5)"
      ]
     },
     "metadata": {},
     "output_type": "display_data"
    },
    {
     "data": {
      "application/vnd.jupyter.widget-view+json": {
       "model_id": "a9f319cad9c941729215ad90d71e88f3",
       "version_major": 2,
       "version_minor": 0
      },
      "text/plain": [
       "Tab(children=(Box(children=(Box(children=(Box(children=(Label(value='step'), IntSlider(value=1, min=-100)), la…"
      ]
     },
     "metadata": {},
     "output_type": "display_data"
    }
   ],
   "source": [
    "# Show trajectory\n",
    "view = nglview.show_simpletraj(nglview.SimpletrajTrajectory(output_imaged_traj, output_dry_gro), gui=True)\n",
    "view"
   ]
  },
  {
   "cell_type": "markdown",
   "metadata": {
    "variables": {
     "output_genion_top_zip": "<p><strong>NameError</strong>: name &#39;output_genion_top_zip&#39; is not defined</p>\n",
     "output_gppmd_tpr": "<p><strong>NameError</strong>: name &#39;output_gppmd_tpr&#39; is not defined</p>\n",
     "output_md_cpt": "<p><strong>NameError</strong>: name &#39;output_md_cpt&#39; is not defined</p>\n",
     "output_md_gro": "<p><strong>NameError</strong>: name &#39;output_md_gro&#39; is not defined</p>\n",
     "output_md_trr": "<p><strong>NameError</strong>: name &#39;output_md_trr&#39; is not defined</p>\n",
     "output_rgyr": "<p><strong>NameError</strong>: name &#39;output_rgyr&#39; is not defined</p>\n",
     "output_rms_exp": "<p><strong>NameError</strong>: name &#39;output_rms_exp&#39; is not defined</p>\n",
     "output_rms_first": "<p><strong>NameError</strong>: name &#39;output_rms_first&#39; is not defined</p>\n"
    }
   },
   "source": [
    "<a id=\"output\"></a>\n",
    "## Output files\n",
    "\n",
    "Important **Output files** generated:\n",
    " - {{output_md_gro}}: **Final structure** (snapshot) of the MD setup protocol.\n",
    " - {{output_md_trr}}: **Final trajectory** of the MD setup protocol.\n",
    " - {{output_md_cpt}}: **Final checkpoint file**, with information about the state of the simulation. It can be used to **restart** or **continue** a MD simulation.\n",
    " - {{output_gppmd_tpr}}: **Final tpr file**, GROMACS portable binary run input file. This file contains the starting structure of the **MD setup free MD simulation step**, together with the molecular topology and all the simulation parameters. It can be used to **extend** the simulation.\n",
    " - {{output_genion_top_zip}}: **Final topology** of the MD system. It is a compressed zip file including a **topology file** (.top) and a set of auxiliar **include topology** files (.itp).\n",
    "\n",
    "**Analysis** (MD setup check) output files generated:\n",
    " - {{output_rms_first}}: **Root Mean Square deviation (RMSd)** against **minimized and equilibrated structure** of the final **free MD run step**.\n",
    " - {{output_rms_exp}}: **Root Mean Square deviation (RMSd)** against **experimental structure** of the final **free MD run step**.\n",
    " - {{output_rgyr}}: **Radius of Gyration** of the final **free MD run step** of the **setup pipeline**.\n",
    " "
   ]
  },
  {
   "cell_type": "markdown",
   "metadata": {},
   "source": [
    "***\n",
    "<a id=\"questions\"></a>\n",
    "\n",
    "## Questions & Comments\n",
    "\n",
    "Questions, issues, suggestions and comments are really welcome!\n",
    "\n",
    "* GitHub issues:\n",
    "    * [https://github.com/bioexcel/biobb](https://github.com/bioexcel/biobb)\n",
    "\n",
    "* BioExcel forum:\n",
    "    * [https://ask.bioexcel.eu/c/BioExcel-Building-Blocks-library](https://ask.bioexcel.eu/c/BioExcel-Building-Blocks-library)\n"
   ]
  }
 ],
 "metadata": {
  "anaconda-cloud": {},
  "kernelspec": {
   "display_name": "Python 3",
   "language": "python",
   "name": "python3"
  },
  "language_info": {
   "codemirror_mode": {
    "name": "ipython",
    "version": 3
   },
   "file_extension": ".py",
   "mimetype": "text/x-python",
   "name": "python",
   "nbconvert_exporter": "python",
   "pygments_lexer": "ipython3",
   "version": "3.7.12"
  }
 },
 "nbformat": 4,
 "nbformat_minor": 2
}
