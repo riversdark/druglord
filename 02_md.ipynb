{
 "cells": [
  {
   "cell_type": "markdown",
   "metadata": {},
   "source": [
    "# Protein MD Setup tutorial using BioExcel Building Blocks (biobb)\n",
    "**Based on the official GROMACS tutorial:** [http://www.mdtutorials.com/gmx/lysozyme/index.html](http://www.mdtutorials.com/gmx/lysozyme/index.html)\n",
    "***\n",
    "This tutorial aims to illustrate the process of **setting up a simulation system** containing a **protein**, step by step, using the **BioExcel Building Blocks library (biobb)**. The particular example used is the **Lysozyme** protein (PDB code 1AKI). \n",
    "***\n",
    "\n",
    "## Settings\n",
    "\n",
    "### Biobb modules used\n",
    "\n",
    " - [biobb_io](https://github.com/bioexcel/biobb_io): Tools to fetch biomolecular data from public databases.\n",
    " - [biobb_model](https://github.com/bioexcel/biobb_model): Tools to model macromolecular structures.\n",
    " - [biobb_md](https://github.com/bioexcel/biobb_md): Tools to setup and run Molecular Dynamics simulations.\n",
    " - [biobb_analysis](https://github.com/bioexcel/biobb_analysis): Tools to analyse Molecular Dynamics trajectories.\n",
    " \n",
    "### Auxiliar libraries used\n",
    "\n",
    " - [nb_conda_kernels](https://github.com/Anaconda-Platform/nb_conda_kernels): Enables a Jupyter Notebook or JupyterLab application in one conda environment to access kernels for Python, R, and other languages found in other environments.\n",
    " - [nglview](http://nglviewer.org/#nglview): Jupyter/IPython widget to interactively view molecular structures and trajectories in notebooks.\n",
    " - [ipywidgets](https://github.com/jupyter-widgets/ipywidgets): Interactive HTML widgets for Jupyter notebooks and the IPython kernel.\n",
    " - [plotly](https://plot.ly/python/offline/): Python interactive graphing library integrated in Jupyter notebooks.\n",
    " - [simpletraj](https://github.com/arose/simpletraj): Lightweight coordinate-only trajectory reader based on code from GROMACS, MDAnalysis and VMD.\n",
    "\n",
    "### Conda Installation and Launch\n",
    "\n",
    "```console\n",
    "git clone https://github.com/bioexcel/biobb_wf_md_setup.git\n",
    "cd biobb_wf_md_setup\n",
    "conda env create -f conda_env/environment.yml\n",
    "conda activate biobb_MDsetup_tutorial\n",
    "jupyter-nbextension enable --py --user widgetsnbextension\n",
    "jupyter-nbextension enable --py --user nglview\n",
    "jupyter-notebook biobb_wf_md_setup/notebooks/biobb_MDsetup_tutorial.ipynb\n",
    "  ``` \n",
    "\n",
    "***\n",
    "## Pipeline steps\n",
    " 1. [Input Parameters](#input)\n",
    " 2. [Fetching PDB Structure](#fetch)\n",
    " 3. [Fix Protein Structure](#fix)\n",
    " 4. [Create Protein System Topology](#top)\n",
    " 5. [Create Solvent Box](#box)\n",
    " 6. [Fill the Box with Water Molecules](#water)\n",
    " 7. [Adding Ions](#ions)\n",
    " 8. [Energetically Minimize the System](#min)\n",
    " 9. [Equilibrate the System (NVT)](#nvt)\n",
    " 10. [Equilibrate the System (NPT)](#npt)\n",
    " 11. [Free Molecular Dynamics Simulation](#free)\n",
    " 12. [Post-processing and Visualizing Resulting 3D Trajectory](#post)\n",
    " 13. [Output Files](#output)\n",
    " 14. [Questions & Comments](#questions)\n",
    " \n",
    "***\n",
    "<img src=\"https://bioexcel.eu/wp-content/uploads/2019/04/Bioexcell_logo_1080px_transp.png\" alt=\"Bioexcel2 logo\"\n",
    "\ttitle=\"Bioexcel2 logo\" width=\"400\" />\n",
    "***\n"
   ]
  },
  {
   "cell_type": "markdown",
   "metadata": {},
   "source": [
    "<a id=\"input\"></a>\n",
    "## Input parameters\n",
    "**Input parameters** needed:\n",
    " - **pdbCode**: PDB code of the protein structure (e.g. 1AKI)"
   ]
  },
  {
   "cell_type": "code",
   "execution_count": 1,
   "metadata": {},
   "outputs": [
    {
     "data": {
      "application/vnd.jupyter.widget-view+json": {
       "model_id": "63a633ace42e4187bac13cf4a5ccd8fb",
       "version_major": 2,
       "version_minor": 0
      },
      "text/plain": []
     },
     "metadata": {},
     "output_type": "display_data"
    }
   ],
   "source": [
    "import nglview\n",
    "import ipywidgets"
   ]
  },
  {
   "cell_type": "markdown",
   "metadata": {},
   "source": [
    "<a id=\"fetch\"></a>\n",
    "***\n",
    "## Fetching PDB structure\n",
    "the mutated Asparaginase 3D structure is stored in the `3ECA_mut.pdb` file\n",
    "\n",
    "we can visualise it before making further changes to it.\n",
    "***"
   ]
  },
  {
   "cell_type": "code",
   "execution_count": 2,
   "metadata": {},
   "outputs": [],
   "source": [
    "from pathlib import Path\n",
    "working_dir = \"temp/6V23\"\n",
    "Path(working_dir).mkdir(parents=True, exist_ok=True)"
   ]
  },
  {
   "cell_type": "code",
   "execution_count": 3,
   "metadata": {},
   "outputs": [
    {
     "data": {
      "text/plain": [
       "'/home/ma/git/druglord/temp/6V23'"
      ]
     },
     "execution_count": 3,
     "metadata": {},
     "output_type": "execute_result"
    }
   ],
   "source": [
    "import os\n",
    "os.chdir(working_dir)\n",
    "os.getcwd()"
   ]
  },
  {
   "cell_type": "code",
   "execution_count": 4,
   "metadata": {},
   "outputs": [],
   "source": [
    "pdbCode = \"6V23\""
   ]
  },
  {
   "cell_type": "code",
   "execution_count": 5,
   "metadata": {
    "scrolled": true
   },
   "outputs": [
    {
     "name": "stdout",
     "output_type": "stream",
     "text": [
      "2022-04-26 19:27:58,798 [MainThread  ] [INFO ]  Downloading: 6v23 from: https://www.ebi.ac.uk/pdbe/entry-files/download/pdb6v23.ent\n"
     ]
    },
    {
     "name": "stderr",
     "output_type": "stream",
     "text": [
      "/home/ma/miniconda3/envs/druglord/lib/python3.7/site-packages/urllib3/connectionpool.py:1050: InsecureRequestWarning: Unverified HTTPS request is being made to host 'www.ebi.ac.uk'. Adding certificate verification is strongly advised. See: https://urllib3.readthedocs.io/en/1.26.x/advanced-usage.html#ssl-warnings\n",
      "  InsecureRequestWarning,\n"
     ]
    },
    {
     "name": "stdout",
     "output_type": "stream",
     "text": [
      "2022-04-26 19:28:01,833 [MainThread  ] [INFO ]  Writting pdb to: 6V23.pdb\n",
      "2022-04-26 19:28:01,835 [MainThread  ] [INFO ]  Filtering lines NOT starting with one of these words: ['ATOM', 'MODEL', 'ENDMDL']\n"
     ]
    },
    {
     "data": {
      "text/plain": [
       "0"
      ]
     },
     "execution_count": 5,
     "metadata": {},
     "output_type": "execute_result"
    }
   ],
   "source": [
    "# Downloading desired PDB file \n",
    "# Import module\n",
    "from biobb_io.api.pdb import pdb\n",
    "\n",
    "# Create properties dict and inputs/outputs\n",
    "downloaded_pdb = pdbCode+'.pdb'\n",
    "prop = {\n",
    "    'pdb_code': pdbCode,\n",
    "}\n",
    "\n",
    "# Create and launch bb\n",
    "pdb(output_pdb_path=downloaded_pdb,\n",
    "    properties=prop)"
   ]
  },
  {
   "cell_type": "markdown",
   "metadata": {},
   "source": [
    "<a id=\"vis3D\"></a>\n",
    "### Visualizing 3D structure\n",
    "Visualizing the downloaded/given **PDB structure** using **NGL**:    "
   ]
  },
  {
   "cell_type": "code",
   "execution_count": 6,
   "metadata": {
    "scrolled": true
   },
   "outputs": [
    {
     "data": {
      "application/vnd.jupyter.widget-view+json": {
       "model_id": "7089cbd27d824e8f85cbf5219b798685",
       "version_major": 2,
       "version_minor": 0
      },
      "text/plain": [
       "NGLWidget()"
      ]
     },
     "metadata": {},
     "output_type": "display_data"
    }
   ],
   "source": [
    "# Show protein\n",
    "view = nglview.show_structure_file(downloaded_pdb)\n",
    "view.add_representation(repr_type='ball+stick', selection='all')\n",
    "view._remote_call('setSize', target='Widget', args=['','600px'])\n",
    "view"
   ]
  },
  {
   "cell_type": "markdown",
   "metadata": {},
   "source": [
    "<a id=\"fix\"></a>\n",
    "***\n",
    "## Fix protein structure\n",
    "**Checking** and **fixing** (if needed) the protein structure:<br>\n",
    "- **PDB resolution** idealy beloew 2. The simulation result will be severely affected if it's over 4.\n",
    "- **Modeling** **missing side-chain atoms**, modifying incorrect **amide assignments**, choosing **alternative locations**.<br>\n",
    "- **Checking** for missing **backbone atoms**, existence of **water molecules**, **heteroatoms**, **modified residues** and possible **atomic clashes**.\n",
    "\n",
    "\n",
    "***\n",
    "**Building Blocks** used:\n",
    " - [FixSideChain](https://biobb-model.readthedocs.io/en/latest/model.html#module-model.fix_side_chain) from **biobb_model.model.fix_side_chain**\n",
    "***"
   ]
  },
  {
   "cell_type": "code",
   "execution_count": 7,
   "metadata": {},
   "outputs": [
    {
     "name": "stdout",
     "output_type": "stream",
     "text": [
      "2022-04-26 19:28:03,028 [MainThread  ] [INFO ]  check_structure -i 6V23.pdb -o 6V23_fixed.pdb --force_save fixside --fix ALL\n",
      "\n",
      "2022-04-26 19:28:03,032 [MainThread  ] [INFO ]  Exit code 0\n",
      "\n",
      "2022-04-26 19:28:03,033 [MainThread  ] [INFO ]  ===============================================================================\n",
      "=                   BioBB structure checking utility v3.8.1                   =\n",
      "=                 A. Hospital, P. Andrio, J.L. Gelpi 2018-21                  =\n",
      "===============================================================================\n",
      "\n",
      "Warning: sequence features only available in mmCIF format or with external fasta input\n",
      "Structure 6V23.pdb loaded\n",
      " Title: \n",
      " Experimental method: unknown\n",
      " Resolution (A): N.A.\n",
      "\n",
      " Num. models: 1\n",
      " Num. chains: 1 (A: Protein)\n",
      " Num. residues:  315\n",
      " Num. residues with ins. codes:  0\n",
      " Num. HETATM residues:  0\n",
      " Num. ligands or modified residues:  0\n",
      " Num. water mol.:  0\n",
      " Num. atoms:  2357\n",
      "\n",
      "Running fixside. Options: --fix ALL\n",
      "3 Residues with missing side chain atoms found\n",
      " HIS A-2    CG,ND1,CE1,NE2,CD2\n",
      " HIS A-1    CG,ND1,CE1,NE2,CD2\n",
      " LYS A107   NZ\n",
      "Fixing side chains\n",
      "HIS A-2\n",
      "  Adding new atom CG\n",
      "  Adding new atom ND1\n",
      "  Adding new atom CE1\n",
      "  Adding new atom NE2\n",
      "  Adding new atom CD2\n",
      "HIS A-1\n",
      "  Adding new atom CG\n",
      "  Adding new atom ND1\n",
      "  Adding new atom CE1\n",
      "  Adding new atom NE2\n",
      "  Adding new atom CD2\n",
      "LYS A107\n",
      "  Adding new atom NZ\n",
      "Fixed 3 side chain(s)\n",
      "Checking for steric clashes\n",
      "No severe clashes detected\n",
      "No apolar clashes detected\n",
      "No polar_acceptor clashes detected\n",
      "No polar_donor clashes detected\n",
      "No positive clashes detected\n",
      "No negative clashes detected\n",
      "Final Num. models: 1\n",
      "Final Num. chains: 1 (A: Protein)\n",
      "Final Num. residues:  315\n",
      "Final Num. residues with ins. codes:  0\n",
      "Final Num. HETATM residues:  0\n",
      "Final Num. ligands or modified residues:  0\n",
      "Final Num. water mol.:  0\n",
      "Final Num. atoms:  2368\n",
      "Structure saved on 6V23_fixed.pdb\n",
      "\n",
      "2022-04-26 19:28:03,034 [MainThread  ] [INFO ]  Removed: []\n"
     ]
    },
    {
     "data": {
      "text/plain": [
       "0"
      ]
     },
     "execution_count": 7,
     "metadata": {},
     "output_type": "execute_result"
    }
   ],
   "source": [
    "# Check & Fix PDB\n",
    "# Import module\n",
    "from biobb_model.model.fix_side_chain import fix_side_chain\n",
    "\n",
    "# Create prop dict and inputs/outputs\n",
    "fixed_pdb = pdbCode + '_fixed.pdb'\n",
    "\n",
    "# Create and launch bb\n",
    "fix_side_chain(input_pdb_path=downloaded_pdb, \n",
    "             output_pdb_path=fixed_pdb)"
   ]
  },
  {
   "cell_type": "markdown",
   "metadata": {},
   "source": [
    "### Visualizing 3D structure\n",
    "Visualizing the fixed **PDB structure** using **NGL**. In this particular example, the checking step didn't find any issue to be solved, so there is no difference between the original structure and the fixed one.   "
   ]
  },
  {
   "cell_type": "code",
   "execution_count": 8,
   "metadata": {
    "scrolled": true
   },
   "outputs": [
    {
     "data": {
      "application/vnd.jupyter.widget-view+json": {
       "model_id": "b3d59fa5c4024ef5a1fe9ac5d7e9d1fb",
       "version_major": 2,
       "version_minor": 0
      },
      "text/plain": [
       "NGLWidget()"
      ]
     },
     "metadata": {},
     "output_type": "display_data"
    }
   ],
   "source": [
    "# Show protein\n",
    "view = nglview.show_structure_file(fixed_pdb)\n",
    "view.add_representation(repr_type='ball+stick', selection='all')\n",
    "view._remote_call('setSize', target='Widget', args=['','600px'])\n",
    "view.camera='orthographic'\n",
    "view"
   ]
  },
  {
   "cell_type": "markdown",
   "metadata": {},
   "source": [
    "<a id=\"top\"></a>\n",
    "***\n",
    "## Create protein system topology\n",
    "**Building GROMACS topology** corresponding to the protein structure.<br>\n",
    "Force field used in this tutorial is [**amber99sb-ildn**](https://dx.doi.org/10.1002%2Fprot.22711): AMBER **parm99** force field with **corrections on backbone** (sb) and **side-chain torsion potentials** (ildn). Water molecules type used in this tutorial is [**spc/e**](https://pubs.acs.org/doi/abs/10.1021/j100308a038).<br>\n",
    "Adding **hydrogen atoms** if missing. Automatically identifying **disulfide bridges**. <br>\n",
    "\n",
    "Generating two output files: \n",
    "- **GROMACS structure** (gro file)\n",
    "- **GROMACS topology** ZIP compressed file containing:\n",
    "    - *GROMACS topology top file* (top file)\n",
    "    - *GROMACS position restraint file/s* (itp file/s)\n",
    "***\n",
    "**Building Blocks** used:\n",
    " - [Pdb2gmx](https://biobb-md.readthedocs.io/en/latest/gromacs.html#module-gromacs.pdb2gmx) from **biobb_md.gromacs.pdb2gmx**\n",
    "***"
   ]
  },
  {
   "cell_type": "code",
   "execution_count": 9,
   "metadata": {
    "scrolled": false
   },
   "outputs": [
    {
     "name": "stdout",
     "output_type": "stream",
     "text": [
      "2022-04-26 19:28:04,146 [MainThread  ] [INFO ]  GROMACS Pdb2gmx 20191 version detected\n",
      "2022-04-26 19:28:04,148 [MainThread  ] [INFO ]  Not using any container\n",
      "2022-04-26 19:28:05,594 [MainThread  ] [INFO ]  gmx -nobackup -nocopyright pdb2gmx -f 6V23_fixed.pdb -o 6V23_pdb2gmx.gro -p p2g.top -water spce -ff amber99sb-ildn -i posre.itp -ignh\n",
      "\n",
      "2022-04-26 19:28:05,596 [MainThread  ] [INFO ]  Exit code 0\n",
      "\n",
      "2022-04-26 19:28:05,597 [MainThread  ] [INFO ]  \n",
      "Using the Amber99sb-ildn force field in directory amber99sb-ildn.ff\n",
      "\n",
      "going to rename amber99sb-ildn.ff/aminoacids.r2b\n",
      "going to rename amber99sb-ildn.ff/dna.r2b\n",
      "going to rename amber99sb-ildn.ff/rna.r2b\n",
      "Reading 6V23_fixed.pdb...\n",
      "Read '', 2379 atoms\n",
      "Analyzing pdb file\n",
      "Splitting chemical chains based on TER records or chain id changing.\n",
      "There are 1 chains and 0 blocks of water and 315 residues with 2379 atoms\n",
      "\n",
      "  chain  #res #atoms\n",
      "  1 'A'   315   2379  \n",
      "\n",
      "Reading residue database... (Amber99sb-ildn)\n",
      "Processing chain 1 'A' (2379 atoms, 315 residues)\n",
      "Identified residue HIS-3 as a starting terminus.\n",
      "Identified residue TYR326 as a ending terminus.\n",
      "Checking for duplicate atoms....\n",
      "Now there are 2368 atoms. Deleted 11 duplicates.\n",
      "Generating any missing hydrogen atoms and/or adding termini.\n",
      "Now there are 315 residues with 4721 atoms\n",
      "\t\t--------- PLEASE NOTE ------------\n",
      "You have successfully generated a topology from: 6V23_fixed.pdb.\n",
      "The Amber99sb-ildn force field and the spce water model are used.\n",
      "\t\t--------- ETON ESAELP ------------\n",
      "\n",
      "2022-04-26 19:28:05,598 [MainThread  ] [INFO ]                       :-) GROMACS - gmx pdb2gmx, 2019.1 (-:\n",
      "\n",
      "Executable:   /home/ma/miniconda3/envs/druglord/bin/gmx\n",
      "Data prefix:  /home/ma/miniconda3/envs/druglord\n",
      "Working dir:  /home/ma/git/druglord/temp/6V23\n",
      "Command line:\n",
      "  gmx -nobackup -nocopyright pdb2gmx -f 6V23_fixed.pdb -o 6V23_pdb2gmx.gro -p p2g.top -water spce -ff amber99sb-ildn -i posre.itp -ignh\n",
      "\n",
      "Opening force field file /home/ma/miniconda3/envs/druglord/share/gromacs/top/amber99sb-ildn.ff/aminoacids.r2b\n",
      "Opening force field file /home/ma/miniconda3/envs/druglord/share/gromacs/top/amber99sb-ildn.ff/dna.r2b\n",
      "Opening force field file /home/ma/miniconda3/envs/druglord/share/gromacs/top/amber99sb-ildn.ff/rna.r2b\n",
      "\n",
      "WARNING: there were 0 atoms with zero occupancy and 22 atoms with\n",
      "         occupancy unequal to one (out of 2379 atoms). Check your pdb file.\n",
      "\n",
      "Opening force field file /home/ma/miniconda3/envs/druglord/share/gromacs/top/amber99sb-ildn.ff/atomtypes.atp\n",
      "Atomtype 67\n",
      "Opening force field file /home/ma/miniconda3/envs/druglord/share/gromacs/top/amber99sb-ildn.ff/aminoacids.rtp\n",
      "Residue 93\n",
      "Sorting it all out...\n",
      "Opening force field file /home/ma/miniconda3/envs/druglord/share/gromacs/top/amber99sb-ildn.ff/dna.rtp\n",
      "Residue 109\n",
      "Sorting it all out...\n",
      "Opening force field file /home/ma/miniconda3/envs/druglord/share/gromacs/top/amber99sb-ildn.ff/rna.rtp\n",
      "Residue 125\n",
      "Sorting it all out...\n",
      "Opening force field file /home/ma/miniconda3/envs/druglord/share/gromacs/top/amber99sb-ildn.ff/aminoacids.hdb\n",
      "Opening force field file /home/ma/miniconda3/envs/druglord/share/gromacs/top/amber99sb-ildn.ff/dna.hdb\n",
      "Opening force field file /home/ma/miniconda3/envs/druglord/share/gromacs/top/amber99sb-ildn.ff/rna.hdb\n",
      "Opening force field file /home/ma/miniconda3/envs/druglord/share/gromacs/top/amber99sb-ildn.ff/aminoacids.n.tdb\n",
      "Opening force field file /home/ma/miniconda3/envs/druglord/share/gromacs/top/amber99sb-ildn.ff/aminoacids.c.tdb\n",
      "Analysing hydrogen-bonding network for automated assignment of histidine\n",
      " protonation. 468 donors and 475 acceptors were found.\n",
      "There are 715 hydrogen bonds\n",
      "Will use HISE for residue -3\n",
      "Will use HISE for residue -2\n",
      "Will use HISE for residue -1\n",
      "Will use HISE for residue 0\n",
      "Will use HISD for residue 87\n",
      "Will use HISE for residue 183\n",
      "Will use HISD for residue 197\n",
      "8 out of 8 lines of specbond.dat converted successfully\n",
      "Special Atom Distance matrix:\n",
      "                   HIS-3   HIS-2   HIS-1    HIS0   MET61   CYS77   HIS87\n",
      "                   NE210   NE219   NE229   NE240   SD365   SG494  NE2573\n",
      "   HIS-2   NE219   1.263\n",
      "   HIS-1   NE229   1.185   0.835\n",
      "    HIS0   NE240   1.050   0.402   0.940\n",
      "   MET61   SD365   4.310   3.638   3.471   3.634\n",
      "   CYS77   SG494   2.604   2.358   2.249   2.147   2.081\n",
      "   HIS87  NE2573   4.078   3.420   3.188   3.436   0.401   2.006\n",
      "   MET92   SD606   3.749   3.136   2.785   3.187   1.040   2.025   0.639\n",
      "  CYS105   SG713   2.669   2.382   2.222   2.202   1.911   0.221   1.812\n",
      "  MET111   SD763   3.609   3.067   2.760   3.057   0.869   1.603   0.561\n",
      "  MET115   SD787   4.366   3.679   3.290   3.807   1.588   2.917   1.262\n",
      "  MET121   SD835   4.817   3.918   3.633   4.197   3.067   4.143   2.785\n",
      "  MET150  SD1041   3.664   3.030   2.612   3.136   1.538   2.326   1.142\n",
      "  HIS183 NE21296   3.001   2.698   1.985   2.883   3.318   3.135   2.922\n",
      "  HIS197 NE21414   3.215   3.214   2.726   3.071   2.143   1.447   1.950\n",
      "                   MET92  CYS105  MET111  MET115  MET121  MET150  HIS183\n",
      "                   SD606   SG713   SD763   SD787   SD835  SD1041 NE21296\n",
      "  CYS105   SG713   1.810\n",
      "  MET111   SD763   0.506   1.391\n",
      "  MET115   SD787   0.902   2.702   1.390\n",
      "  MET121   SD835   2.430   3.954   2.912   1.751\n",
      "  MET150  SD1041   0.535   2.114   0.994   0.710   2.017\n",
      "  HIS183 NE21296   2.294   2.976   2.570   2.287   2.460   1.840\n",
      "  HIS197 NE21414   1.766   1.306   1.444   2.513   4.009   2.012   2.718\n",
      "                \n",
      "                \n",
      "Opening force field file /home/ma/miniconda3/envs/druglord/share/gromacs/top/amber99sb-ildn.ff/aminoacids.arn\n",
      "Opening force field file /home/ma/miniconda3/envs/druglord/share/gromacs/top/amber99sb-ildn.ff/dna.arn\n",
      "Opening force field file /home/ma/miniconda3/envs/druglord/share/gromacs/top/amber99sb-ildn.ff/rna.arn\n",
      "Making bonds...\n",
      "Warning: Long Bond (275-277 = 1.13359 nm)\n",
      "Number of bonds was 4762, now 4761\n",
      "Generating angles, dihedrals and pairs...\n",
      "Before cleaning: 12475 pairs\n",
      "Before cleaning: 13249 dihedrals\n",
      "Keeping all generated dihedrals\n",
      "Making cmap torsions...\n",
      "There are 13249 dihedrals,  912 impropers, 8616 angles\n",
      "          12415 pairs,     4761 bonds and     0 virtual sites\n",
      "Total mass 33673.184 a.m.u.\n",
      "Total charge -4.000 e\n",
      "Writing topology\n",
      "\n",
      "Writing coordinate file...\n",
      "\n",
      "GROMACS reminds you: \"Everybody Lie Down On the Floor and Keep Calm\" (KLF)\n",
      "\n",
      "\n",
      "2022-04-26 19:28:05,599 [MainThread  ] [INFO ]  Compressing topology to: 6V23_pdb2gmx_top.zip\n",
      "2022-04-26 19:28:05,602 [MainThread  ] [INFO ]  Ignored file amber99sb-ildn.ff/forcefield.itp\n",
      "2022-04-26 19:28:05,624 [MainThread  ] [INFO ]  Ignored file amber99sb-ildn.ff/spce.itp\n",
      "2022-04-26 19:28:05,625 [MainThread  ] [INFO ]  Ignored file amber99sb-ildn.ff/ions.itp\n",
      "2022-04-26 19:28:05,632 [MainThread  ] [INFO ]  Adding:\n",
      "2022-04-26 19:28:05,632 [MainThread  ] [INFO ]  ['p2g.top', 'posre.itp']\n",
      "2022-04-26 19:28:05,633 [MainThread  ] [INFO ]  to: /home/ma/git/druglord/temp/6V23/6V23_pdb2gmx_top.zip\n",
      "2022-04-26 19:28:05,635 [MainThread  ] [INFO ]  Removed: ['p2g.top', 'posre.itp']\n"
     ]
    },
    {
     "data": {
      "text/plain": [
       "0"
      ]
     },
     "execution_count": 9,
     "metadata": {},
     "output_type": "execute_result"
    }
   ],
   "source": [
    "# Create system topology\n",
    "# Import module\n",
    "from biobb_md.gromacs.pdb2gmx import pdb2gmx\n",
    "\n",
    "# Create inputs/outputs\n",
    "output_pdb2gmx_gro = pdbCode+'_pdb2gmx.gro'\n",
    "output_pdb2gmx_top_zip = pdbCode+'_pdb2gmx_top.zip'\n",
    "\n",
    "# Create and launch bb\n",
    "pdb2gmx(input_pdb_path=fixed_pdb, \n",
    "        output_gro_path=output_pdb2gmx_gro, \n",
    "        output_top_zip_path=output_pdb2gmx_top_zip,\n",
    "        properties={'ignh':'yes'})"
   ]
  },
  {
   "cell_type": "markdown",
   "metadata": {},
   "source": [
    "### Visualizing 3D structure\n",
    "Visualizing the generated **GRO structure** using **NGL**. Note that **hydrogen atoms** were added to the structure by the **pdb2gmx GROMACS tool** when generating the **topology**.    "
   ]
  },
  {
   "cell_type": "code",
   "execution_count": 10,
   "metadata": {
    "scrolled": true
   },
   "outputs": [
    {
     "data": {
      "application/vnd.jupyter.widget-view+json": {
       "model_id": "a53991f33b9e4e78a8d17b34c81d992e",
       "version_major": 2,
       "version_minor": 0
      },
      "text/plain": [
       "NGLWidget()"
      ]
     },
     "metadata": {},
     "output_type": "display_data"
    }
   ],
   "source": [
    "# Show protein\n",
    "view = nglview.show_structure_file(output_pdb2gmx_gro)\n",
    "view.add_representation(repr_type='ball+stick', selection='all')\n",
    "view._remote_call('setSize', target='Widget', args=['','600px'])\n",
    "view.camera='orthographic'\n",
    "view"
   ]
  },
  {
   "cell_type": "markdown",
   "metadata": {},
   "source": [
    "<a id=\"box\"></a>\n",
    "***\n",
    "## Create solvent box\n",
    "Define the unit cell for the **protein structure MD system** to fill it with water molecules.<br>\n",
    "A **cubic box** is used to define the unit cell, with a **distance from the protein to the box edge of 1.0 nm**. The protein is **centered in the box**.  \n",
    "\n",
    "***\n",
    "**Building Blocks** used:\n",
    " - [Editconf](https://biobb-md.readthedocs.io/en/latest/gromacs.html#module-gromacs.editconf) from **biobb_md.gromacs.editconf** \n",
    "***"
   ]
  },
  {
   "cell_type": "code",
   "execution_count": 11,
   "metadata": {},
   "outputs": [
    {
     "name": "stdout",
     "output_type": "stream",
     "text": [
      "2022-04-26 19:28:06,558 [MainThread  ] [INFO ]  GROMACS Editconf 20191 version detected\n",
      "2022-04-26 19:28:06,560 [MainThread  ] [INFO ]  Centering molecule in the box.\n",
      "2022-04-26 19:28:06,561 [MainThread  ] [INFO ]  Distance of the box to molecule:   1.00\n",
      "2022-04-26 19:28:06,562 [MainThread  ] [INFO ]  Box type: cubic\n",
      "2022-04-26 19:28:06,562 [MainThread  ] [INFO ]  Not using any container\n",
      "2022-04-26 19:28:06,617 [MainThread  ] [INFO ]  gmx -nobackup -nocopyright editconf -f 6V23_pdb2gmx.gro -o 6V23_editconf.gro -d 1.0 -bt cubic -c\n",
      "\n",
      "2022-04-26 19:28:06,620 [MainThread  ] [INFO ]  Exit code 0\n",
      "\n",
      "2022-04-26 19:28:06,621 [MainThread  ] [INFO ]  Note that major changes are planned in future for editconf, to improve usability and utility.Read 4721 atoms\n",
      "Volume: 176.366 nm^3, corresponds to roughly 79300 electrons\n",
      "No velocities found\n",
      "    system size :  5.024  6.365  5.516 (nm)\n",
      "    diameter    :  7.735               (nm)\n",
      "    center      :  1.352  0.804  4.973 (nm)\n",
      "    box vectors :  5.024  6.364  5.516 (nm)\n",
      "    box angles  :  90.00  90.00  90.00 (degrees)\n",
      "    box volume  : 176.37               (nm^3)\n",
      "    shift       :  3.516  4.064 -0.106 (nm)\n",
      "new center      :  4.868  4.868  4.868 (nm)\n",
      "new box vectors :  9.735  9.735  9.735 (nm)\n",
      "new box angles  :  90.00  90.00  90.00 (degrees)\n",
      "new box volume  : 922.66               (nm^3)\n",
      "\n",
      "2022-04-26 19:28:06,622 [MainThread  ] [INFO ]                       :-) GROMACS - gmx editconf, 2019.1 (-:\n",
      "\n",
      "Executable:   /home/ma/miniconda3/envs/druglord/bin/gmx\n",
      "Data prefix:  /home/ma/miniconda3/envs/druglord\n",
      "Working dir:  /home/ma/git/druglord/temp/6V23\n",
      "Command line:\n",
      "  gmx -nobackup -nocopyright editconf -f 6V23_pdb2gmx.gro -o 6V23_editconf.gro -d 1.0 -bt cubic -c\n",
      "\n",
      "\n",
      "GROMACS reminds you: \"Boom Boom Boom Boom, I Want You in My Room\" (Venga Boys)\n",
      "\n",
      "\n",
      "2022-04-26 19:28:06,623 [MainThread  ] [INFO ]  Removed: []\n"
     ]
    },
    {
     "data": {
      "text/plain": [
       "0"
      ]
     },
     "execution_count": 11,
     "metadata": {},
     "output_type": "execute_result"
    }
   ],
   "source": [
    "# Editconf: Create solvent box\n",
    "# Import module\n",
    "from biobb_md.gromacs.editconf import editconf\n",
    "\n",
    "# Create prop dict and inputs/outputs\n",
    "output_editconf_gro = pdbCode+'_editconf.gro'\n",
    "\n",
    "prop = {\n",
    "    'box_type': 'cubic',\n",
    "    'distance_to_molecule': 1.0\n",
    "}\n",
    "\n",
    "#Create and launch bb\n",
    "editconf(input_gro_path=output_pdb2gmx_gro, \n",
    "         output_gro_path=output_editconf_gro,\n",
    "         properties=prop)"
   ]
  },
  {
   "cell_type": "markdown",
   "metadata": {},
   "source": [
    "<a id=\"water\"></a>\n",
    "***\n",
    "## Fill the box with water molecules\n",
    "Fill the unit cell for the **protein structure system** with water molecules.<br>\n",
    "The solvent type used is the default **Simple Point Charge water (SPC)**, a generic equilibrated 3-point solvent model. \n",
    "\n",
    "***\n",
    "**Building Blocks** used:\n",
    " - [Solvate](https://biobb-md.readthedocs.io/en/latest/gromacs.html#module-gromacs.solvate) from **biobb_md.gromacs.solvate** \n",
    "***"
   ]
  },
  {
   "cell_type": "code",
   "execution_count": 12,
   "metadata": {},
   "outputs": [
    {
     "name": "stdout",
     "output_type": "stream",
     "text": [
      "2022-04-26 19:28:06,890 [MainThread  ] [INFO ]  GROMACS Solvate 20191 version detected\n",
      "2022-04-26 19:28:06,899 [MainThread  ] [INFO ]  Extracting: /home/ma/git/druglord/temp/6V23/6V23_pdb2gmx_top.zip\n",
      "2022-04-26 19:28:06,900 [MainThread  ] [INFO ]  to:\n",
      "2022-04-26 19:28:06,901 [MainThread  ] [INFO ]  ['c695e642-ffe7-4d1f-80d4-dd1d74d33581/p2g.top', 'c695e642-ffe7-4d1f-80d4-dd1d74d33581/posre.itp']\n",
      "2022-04-26 19:28:06,902 [MainThread  ] [INFO ]  Unzipping: \n",
      "2022-04-26 19:28:06,903 [MainThread  ] [INFO ]  6V23_pdb2gmx_top.zip\n",
      "2022-04-26 19:28:06,903 [MainThread  ] [INFO ]  To: \n",
      "2022-04-26 19:28:06,904 [MainThread  ] [INFO ]  c695e642-ffe7-4d1f-80d4-dd1d74d33581/p2g.top\n",
      "2022-04-26 19:28:06,905 [MainThread  ] [INFO ]  c695e642-ffe7-4d1f-80d4-dd1d74d33581/posre.itp\n",
      "2022-04-26 19:28:06,905 [MainThread  ] [INFO ]  Not using any container\n",
      "2022-04-26 19:28:08,046 [MainThread  ] [INFO ]  gmx -nobackup -nocopyright solvate -cp 6V23_editconf.gro -cs spc216.gro -o 6V23_solvate.gro -p c695e642-ffe7-4d1f-80d4-dd1d74d33581/p2g.top\n",
      "\n",
      "2022-04-26 19:28:08,048 [MainThread  ] [INFO ]  Exit code 0\n",
      "\n",
      "2022-04-26 19:28:08,049 [MainThread  ] [INFO ]  \n",
      "WARNING: Masses and atomic (Van der Waals) radii will be guessed\n",
      "         based on residue and atom names, since they could not be\n",
      "         definitively assigned from the information in your input\n",
      "         files. These guessed numbers might deviate from the mass\n",
      "         and radius of the atom type. Please check the output\n",
      "         files if necessary.\n",
      "\n",
      "NOTE: From version 5.0 gmx solvate uses the Van der Waals radii\n",
      "from the source below. This means the results may be different\n",
      "compared to previous GROMACS versions.\n",
      "\n",
      "++++ PLEASE READ AND CITE THE FOLLOWING REFERENCE ++++\n",
      "A. Bondi\n",
      "van der Waals Volumes and Radii\n",
      "J. Phys. Chem. 68 (1964) pp. 441-451\n",
      "-------- -------- --- Thank You --- -------- --------\n",
      "\n",
      "Adding line for 28606 solvent molecules with resname (SOL) to topology file (c695e642-ffe7-4d1f-80d4-dd1d74d33581/p2g.top)\n",
      "\n",
      "2022-04-26 19:28:08,050 [MainThread  ] [INFO ]                       :-) GROMACS - gmx solvate, 2019.1 (-:\n",
      "\n",
      "Executable:   /home/ma/miniconda3/envs/druglord/bin/gmx\n",
      "Data prefix:  /home/ma/miniconda3/envs/druglord\n",
      "Working dir:  /home/ma/git/druglord/temp/6V23\n",
      "Command line:\n",
      "  gmx -nobackup -nocopyright solvate -cp 6V23_editconf.gro -cs spc216.gro -o 6V23_solvate.gro -p c695e642-ffe7-4d1f-80d4-dd1d74d33581/p2g.top\n",
      "\n",
      "Reading solute configuration\n",
      "Reading solvent configuration\n",
      "\n",
      "Initialising inter-atomic distances...\n",
      "Generating solvent configuration\n",
      "Will generate new solvent configuration of 6x6x6 boxes\n",
      "Solvent box contains 101289 atoms in 33763 residues\n",
      "Removed 11055 solvent atoms due to solvent-solvent overlap\n",
      "Removed 4416 solvent atoms due to solute-solvent overlap\n",
      "Sorting configuration\n",
      "Found 1 molecule type:\n",
      "    SOL (   3 atoms): 28606 residues\n",
      "Generated solvent containing 85818 atoms in 28606 residues\n",
      "Writing generated configuration to 6V23_solvate.gro\n",
      "\n",
      "Output configuration contains 90539 atoms in 28921 residues\n",
      "Volume                 :     922.656 (nm^3)\n",
      "Density                :      992.29 (g/l)\n",
      "Number of solvent molecules:  28606   \n",
      "\n",
      "Processing topology\n",
      "\n",
      "GROMACS reminds you: \"Those people who think they know everything are a great annoyance to those of us who do.\" (Isaac Asimov)\n",
      "\n",
      "\n",
      "2022-04-26 19:28:08,051 [MainThread  ] [INFO ]  Compressing topology to: 6V23_solvate_top.zip\n",
      "2022-04-26 19:28:08,054 [MainThread  ] [INFO ]  Ignored file c695e642-ffe7-4d1f-80d4-dd1d74d33581/amber99sb-ildn.ff/forcefield.itp\n",
      "2022-04-26 19:28:08,077 [MainThread  ] [INFO ]  Ignored file c695e642-ffe7-4d1f-80d4-dd1d74d33581/amber99sb-ildn.ff/spce.itp\n",
      "2022-04-26 19:28:08,078 [MainThread  ] [INFO ]  Ignored file c695e642-ffe7-4d1f-80d4-dd1d74d33581/amber99sb-ildn.ff/ions.itp\n",
      "2022-04-26 19:28:08,084 [MainThread  ] [INFO ]  Adding:\n",
      "2022-04-26 19:28:08,085 [MainThread  ] [INFO ]  ['c695e642-ffe7-4d1f-80d4-dd1d74d33581/p2g.top', 'c695e642-ffe7-4d1f-80d4-dd1d74d33581/posre.itp']\n",
      "2022-04-26 19:28:08,086 [MainThread  ] [INFO ]  to: /home/ma/git/druglord/temp/6V23/6V23_solvate_top.zip\n",
      "2022-04-26 19:28:08,087 [MainThread  ] [INFO ]  Removed: ['c695e642-ffe7-4d1f-80d4-dd1d74d33581']\n"
     ]
    },
    {
     "data": {
      "text/plain": [
       "0"
      ]
     },
     "execution_count": 12,
     "metadata": {},
     "output_type": "execute_result"
    }
   ],
   "source": [
    "# Solvate: Fill the box with water molecules\n",
    "from biobb_md.gromacs.solvate import solvate\n",
    "\n",
    "# Create prop dict and inputs/outputs\n",
    "output_solvate_gro = pdbCode+'_solvate.gro'\n",
    "output_solvate_top_zip = pdbCode+'_solvate_top.zip'\n",
    "\n",
    "# Create and launch bb\n",
    "solvate(input_solute_gro_path=output_editconf_gro, \n",
    "        output_gro_path=output_solvate_gro, \n",
    "        input_top_zip_path=output_pdb2gmx_top_zip, \n",
    "        output_top_zip_path=output_solvate_top_zip)"
   ]
  },
  {
   "cell_type": "markdown",
   "metadata": {},
   "source": [
    "### Visualizing 3D structure\n",
    "Visualizing the **protein system** with the newly added **solvent box** using **NGL**.<br> Note the **cubic box** filled with **water molecules** surrounding the **protein structure**, which is **centered** right in the middle of the cube."
   ]
  },
  {
   "cell_type": "code",
   "execution_count": 13,
   "metadata": {
    "scrolled": true
   },
   "outputs": [
    {
     "data": {
      "application/vnd.jupyter.widget-view+json": {
       "model_id": "85f80218ee4a49d0953de650f1f211f3",
       "version_major": 2,
       "version_minor": 0
      },
      "text/plain": [
       "NGLWidget()"
      ]
     },
     "metadata": {},
     "output_type": "display_data"
    }
   ],
   "source": [
    "# Show protein\n",
    "view = nglview.show_structure_file(output_solvate_gro)\n",
    "view.clear_representations()\n",
    "view.add_representation(repr_type='cartoon', selection='solute', color='green')\n",
    "view.add_representation(repr_type='ball+stick', selection='SOL')\n",
    "view._remote_call('setSize', target='Widget', args=['','600px'])\n",
    "view.camera='orthographic'\n",
    "view"
   ]
  },
  {
   "cell_type": "markdown",
   "metadata": {},
   "source": [
    "<a id=\"ions\"></a>\n",
    "***\n",
    "## Adding ions\n",
    "Add ions to neutralize the **protein structure** charge\n",
    "- [Step 1](#ionsStep1): Creating portable binary run file for ion generation\n",
    "- [Step 2](#ionsStep2): Adding ions to **neutralize** the system\n",
    "***\n",
    "**Building Blocks** used:\n",
    " - [Grompp](https://biobb-md.readthedocs.io/en/latest/gromacs.html#module-gromacs.grompp) from **biobb_md.gromacs.grompp** \n",
    " - [Genion](https://biobb-md.readthedocs.io/en/latest/gromacs.html#module-gromacs.genion) from **biobb_md.gromacs.genion** \n",
    "***"
   ]
  },
  {
   "cell_type": "markdown",
   "metadata": {},
   "source": [
    "<a id=\"ionsStep1\"></a>\n",
    "### Step 1: Creating portable binary run file for ion generation\n",
    "A simple **energy minimization** molecular dynamics parameters (mdp) properties will be used to generate the portable binary run file for **ion generation**, although **any legitimate combination of parameters** could be used in this step."
   ]
  },
  {
   "cell_type": "code",
   "execution_count": 14,
   "metadata": {},
   "outputs": [
    {
     "name": "stdout",
     "output_type": "stream",
     "text": [
      "2022-04-26 19:28:20,291 [MainThread  ] [INFO ]  GROMACS Grompp 20191 version detected\n",
      "2022-04-26 19:28:20,301 [MainThread  ] [INFO ]  Extracting: /home/ma/git/druglord/temp/6V23/6V23_solvate_top.zip\n",
      "2022-04-26 19:28:20,302 [MainThread  ] [INFO ]  to:\n",
      "2022-04-26 19:28:20,303 [MainThread  ] [INFO ]  ['a43b9467-4d16-4130-b443-a98b508ebfc2/p2g.top', 'a43b9467-4d16-4130-b443-a98b508ebfc2/posre.itp']\n",
      "2022-04-26 19:28:20,304 [MainThread  ] [INFO ]  Unzipping: \n",
      "2022-04-26 19:28:20,304 [MainThread  ] [INFO ]  6V23_solvate_top.zip\n",
      "2022-04-26 19:28:20,305 [MainThread  ] [INFO ]  To: \n",
      "2022-04-26 19:28:20,306 [MainThread  ] [INFO ]  a43b9467-4d16-4130-b443-a98b508ebfc2/p2g.top\n",
      "2022-04-26 19:28:20,307 [MainThread  ] [INFO ]  a43b9467-4d16-4130-b443-a98b508ebfc2/posre.itp\n",
      "2022-04-26 19:28:20,308 [MainThread  ] [INFO ]  Not using any container\n",
      "2022-04-26 19:28:21,003 [MainThread  ] [INFO ]  gmx -nobackup -nocopyright grompp -f e5d29982-f249-44ab-acb1-e39125cc30b7/grompp.mdp -c 6V23_solvate.gro -r 6V23_solvate.gro -p a43b9467-4d16-4130-b443-a98b508ebfc2/p2g.top -o 6V23_gppion.tpr -po mdout.mdp -maxwarn 1\n",
      "\n",
      "2022-04-26 19:28:21,005 [MainThread  ] [INFO ]  Exit code 0\n",
      "\n",
      "2022-04-26 19:28:21,006 [MainThread  ] [INFO ]  \n",
      "++++ PLEASE READ AND CITE THE FOLLOWING REFERENCE ++++\n",
      "J. S. Hub, B. L. de Groot, H. Grubmueller, G. Groenhof\n",
      "Quantifying Artifacts in Ewald Simulations of Inhomogeneous Systems with a Net\n",
      "Charge\n",
      "J. Chem. Theory Comput. 10 (2014) pp. 381-393\n",
      "-------- -------- --- Thank You --- -------- --------\n",
      "\n",
      "Analysing residue names:\n",
      "There are:   315    Protein residues\n",
      "There are: 28606      Water residues\n",
      "Analysing Protein...\n",
      "Calculating fourier grid dimensions for X Y Z\n",
      "Using a fourier grid of 84x84x84, spacing 0.116 0.116 0.116\n",
      "This run will generate roughly 7 Mb of data\n",
      "\n",
      "2022-04-26 19:28:21,007 [MainThread  ] [INFO ]                        :-) GROMACS - gmx grompp, 2019.1 (-:\n",
      "\n",
      "Executable:   /home/ma/miniconda3/envs/druglord/bin/gmx\n",
      "Data prefix:  /home/ma/miniconda3/envs/druglord\n",
      "Working dir:  /home/ma/git/druglord/temp/6V23\n",
      "Command line:\n",
      "  gmx -nobackup -nocopyright grompp -f e5d29982-f249-44ab-acb1-e39125cc30b7/grompp.mdp -c 6V23_solvate.gro -r 6V23_solvate.gro -p a43b9467-4d16-4130-b443-a98b508ebfc2/p2g.top -o 6V23_gppion.tpr -po mdout.mdp -maxwarn 1\n",
      "\n",
      "Setting the LD random seed to -201324648\n",
      "Generated 2145 of the 2145 non-bonded parameter combinations\n",
      "Generating 1-4 interactions: fudge = 0.5\n",
      "Generated 2145 of the 2145 1-4 parameter combinations\n",
      "Excluding 3 bonded neighbours molecule type 'Protein_chain_A'\n",
      "Excluding 2 bonded neighbours molecule type 'SOL'\n",
      "\n",
      "NOTE 1 [file p2g.top, line 45059]:\n",
      "  System has non-zero total charge: -4.000000\n",
      "  Total charge should normally be an integer. See\n",
      "  http://www.gromacs.org/Documentation/Floating_Point_Arithmetic\n",
      "  for discussion on how close it should be to an integer.\n",
      "  \n",
      "\n",
      "\n",
      "\n",
      "WARNING 1 [file p2g.top, line 45059]:\n",
      "  You are using Ewald electrostatics in a system with net charge. This can\n",
      "  lead to severe artifacts, such as ions moving into regions with low\n",
      "  dielectric, due to the uniform background charge. We suggest to\n",
      "  neutralize your system with counter ions, possibly in combination with a\n",
      "  physiological salt concentration.\n",
      "\n",
      "Removing all charge groups because cutoff-scheme=Verlet\n",
      "Number of degrees of freedom in T-Coupling group rest is 185796.00\n",
      "Estimate for the relative computational load of the PME mesh part: 0.17\n",
      "\n",
      "There was 1 note\n",
      "\n",
      "There was 1 warning\n",
      "\n",
      "GROMACS reminds you: \"Don't Follow Me Home\" (Throwing Muses)\n",
      "\n",
      "\n",
      "2022-04-26 19:28:21,010 [MainThread  ] [INFO ]  Removed: ['mdout.mdp', 'a43b9467-4d16-4130-b443-a98b508ebfc2', 'e5d29982-f249-44ab-acb1-e39125cc30b7']\n"
     ]
    },
    {
     "data": {
      "text/plain": [
       "0"
      ]
     },
     "execution_count": 14,
     "metadata": {},
     "output_type": "execute_result"
    }
   ],
   "source": [
    "# Grompp: Creating portable binary run file for ion generation\n",
    "from biobb_md.gromacs.grompp import grompp\n",
    "\n",
    "# Create prop dict and inputs/outputs\n",
    "output_gppion_tpr = pdbCode+'_gppion.tpr'\n",
    "prop = {\n",
    "    'simulation_type': 'minimization',\n",
    "    'maxwarn': 1\n",
    "}\n",
    "\n",
    "# Create and launch bb\n",
    "grompp(input_gro_path=output_solvate_gro, \n",
    "       input_top_zip_path=output_solvate_top_zip, \n",
    "       output_tpr_path=output_gppion_tpr,  \n",
    "       properties=prop)"
   ]
  },
  {
   "cell_type": "markdown",
   "metadata": {},
   "source": [
    "<a id=\"ionsStep2\"></a>\n",
    "### Step 2: Adding ions to neutralize the system\n",
    "Replace **solvent molecules** with **ions** to **neutralize** the system."
   ]
  },
  {
   "cell_type": "code",
   "execution_count": 15,
   "metadata": {},
   "outputs": [
    {
     "name": "stdout",
     "output_type": "stream",
     "text": [
      "2022-04-26 19:28:21,301 [MainThread  ] [INFO ]  GROMACS Genion 20191 version detected\n",
      "2022-04-26 19:28:21,309 [MainThread  ] [INFO ]  Extracting: /home/ma/git/druglord/temp/6V23/6V23_solvate_top.zip\n",
      "2022-04-26 19:28:21,310 [MainThread  ] [INFO ]  to:\n",
      "2022-04-26 19:28:21,311 [MainThread  ] [INFO ]  ['b05592bb-36ae-4791-8eef-a80e436473db/p2g.top', 'b05592bb-36ae-4791-8eef-a80e436473db/posre.itp']\n",
      "2022-04-26 19:28:21,312 [MainThread  ] [INFO ]  Unzipping: \n",
      "2022-04-26 19:28:21,312 [MainThread  ] [INFO ]  6V23_solvate_top.zip\n",
      "2022-04-26 19:28:21,313 [MainThread  ] [INFO ]  To: \n",
      "2022-04-26 19:28:21,314 [MainThread  ] [INFO ]  b05592bb-36ae-4791-8eef-a80e436473db/p2g.top\n",
      "2022-04-26 19:28:21,314 [MainThread  ] [INFO ]  b05592bb-36ae-4791-8eef-a80e436473db/posre.itp\n",
      "2022-04-26 19:28:21,315 [MainThread  ] [INFO ]  To reach up 0.05 mol/litre concentration\n",
      "2022-04-26 19:28:21,316 [MainThread  ] [INFO ]  Not using any container\n",
      "2022-04-26 19:28:21,575 [MainThread  ] [INFO ]  echo \"SOL\" | gmx -nobackup -nocopyright genion -s 6V23_gppion.tpr -o 6V23_genion.gro -p b05592bb-36ae-4791-8eef-a80e436473db/p2g.top -neutral -conc 0.05 -seed 1993\n",
      "\n",
      "2022-04-26 19:28:21,577 [MainThread  ] [INFO ]  Exit code 0\n",
      "\n",
      "2022-04-26 19:28:21,578 [MainThread  ] [INFO ]  Will try to add 32 NA ions and 28 CL ions.\n",
      "Select a continuous group of solvent molecules\n",
      "Selected 13: 'SOL'\n",
      "\n",
      "Processing topology\n",
      "Replacing 60 solute molecules in topology file (b05592bb-36ae-4791-8eef-a80e436473db/p2g.top)  by 32 NA and 28 CL ions.\n",
      "\n",
      "2022-04-26 19:28:21,579 [MainThread  ] [INFO ]                        :-) GROMACS - gmx genion, 2019.1 (-:\n",
      "\n",
      "Executable:   /home/ma/miniconda3/envs/druglord/bin/gmx\n",
      "Data prefix:  /home/ma/miniconda3/envs/druglord\n",
      "Working dir:  /home/ma/git/druglord/temp/6V23\n",
      "Command line:\n",
      "  gmx -nobackup -nocopyright genion -s 6V23_gppion.tpr -o 6V23_genion.gro -p b05592bb-36ae-4791-8eef-a80e436473db/p2g.top -neutral -conc 0.05 -seed 1993\n",
      "\n",
      "Reading file 6V23_gppion.tpr, VERSION 2019.1 (single precision)\n",
      "Reading file 6V23_gppion.tpr, VERSION 2019.1 (single precision)\n",
      "Group     0 (         System) has 90539 elements\n",
      "Group     1 (        Protein) has  4721 elements\n",
      "Group     2 (      Protein-H) has  2368 elements\n",
      "Group     3 (        C-alpha) has   315 elements\n",
      "Group     4 (       Backbone) has   945 elements\n",
      "Group     5 (      MainChain) has  1261 elements\n",
      "Group     6 (   MainChain+Cb) has  1551 elements\n",
      "Group     7 (    MainChain+H) has  1565 elements\n",
      "Group     8 (      SideChain) has  3156 elements\n",
      "Group     9 (    SideChain-H) has  1107 elements\n",
      "Group    10 (    Prot-Masses) has  4721 elements\n",
      "Group    11 (    non-Protein) has 85818 elements\n",
      "Group    12 (          Water) has 85818 elements\n",
      "Group    13 (            SOL) has 85818 elements\n",
      "Group    14 (      non-Water) has  4721 elements\n",
      "Select a group: Number of (3-atomic) solvent molecules: 28606\n",
      "Using random seed 1993.\n",
      "Replacing solvent molecule 13950 (atom 46571) with NA\n",
      "Replacing solvent molecule 20097 (atom 65012) with NA\n",
      "Replacing solvent molecule 6865 (atom 25316) with NA\n",
      "Replacing solvent molecule 22991 (atom 73694) with NA\n",
      "Replacing solvent molecule 18438 (atom 60035) with NA\n",
      "Replacing solvent molecule 27890 (atom 88391) with NA\n",
      "Replacing solvent molecule 18597 (atom 60512) with NA\n",
      "Replacing solvent molecule 18688 (atom 60785) with NA\n",
      "Replacing solvent molecule 18024 (atom 58793) with NA\n",
      "Replacing solvent molecule 19378 (atom 62855) with NA\n",
      "Replacing solvent molecule 905 (atom 7436) with NA\n",
      "Replacing solvent molecule 9779 (atom 34058) with NA\n",
      "Replacing solvent molecule 27355 (atom 86786) with NA\n",
      "Replacing solvent molecule 12144 (atom 41153) with NA\n",
      "Replacing solvent molecule 1900 (atom 10421) with NA\n",
      "Replacing solvent molecule 7505 (atom 27236) with NA\n",
      "Replacing solvent molecule 27663 (atom 87710) with NA\n",
      "Replacing solvent molecule 2885 (atom 13376) with NA\n",
      "Replacing solvent molecule 11942 (atom 40547) with NA\n",
      "Replacing solvent molecule 2902 (atom 13427) with NA\n",
      "Replacing solvent molecule 14192 (atom 47297) with NA\n",
      "Replacing solvent molecule 15090 (atom 49991) with NA\n",
      "Replacing solvent molecule 11021 (atom 37784) with NA\n",
      "Replacing solvent molecule 10104 (atom 35033) with NA\n",
      "Replacing solvent molecule 15214 (atom 50363) with NA\n",
      "Replacing solvent molecule 20914 (atom 67463) with NA\n",
      "Replacing solvent molecule 5862 (atom 22307) with NA\n",
      "Replacing solvent molecule 8200 (atom 29321) with NA\n",
      "Replacing solvent molecule 19584 (atom 63473) with NA\n",
      "Replacing solvent molecule 9612 (atom 33557) with NA\n",
      "Replacing solvent molecule 8900 (atom 31421) with NA\n",
      "Replacing solvent molecule 4519 (atom 18278) with NA\n",
      "Replacing solvent molecule 4791 (atom 19094) with CL\n",
      "Replacing solvent molecule 20872 (atom 67337) with CL\n",
      "Replacing solvent molecule 27699 (atom 87818) with CL\n",
      "Replacing solvent molecule 25249 (atom 80468) with CL\n",
      "Replacing solvent molecule 12687 (atom 42782) with CL\n",
      "Replacing solvent molecule 15002 (atom 49727) with CL\n",
      "Replacing solvent molecule 13948 (atom 46565) with CL\n",
      "Replacing solvent molecule 9691 (atom 33794) with CL\n",
      "Replacing solvent molecule 1686 (atom 9779) with CL\n",
      "Replacing solvent molecule 9813 (atom 34160) with CL\n",
      "Replacing solvent molecule 16472 (atom 54137) with CL\n",
      "Replacing solvent molecule 19276 (atom 62549) with CL\n",
      "Replacing solvent molecule 12786 (atom 43079) with CL\n",
      "Replacing solvent molecule 7979 (atom 28658) with CL\n",
      "Replacing solvent molecule 28329 (atom 89708) with CL\n",
      "Replacing solvent molecule 2490 (atom 12191) with CL\n",
      "Replacing solvent molecule 9928 (atom 34505) with CL\n",
      "Replacing solvent molecule 22461 (atom 72104) with CL\n",
      "Replacing solvent molecule 21334 (atom 68723) with CL\n",
      "Replacing solvent molecule 5944 (atom 22553) with CL\n",
      "Replacing solvent molecule 8632 (atom 30617) with CL\n",
      "Replacing solvent molecule 1096 (atom 8009) with CL\n",
      "Replacing solvent molecule 5158 (atom 20195) with CL\n",
      "Replacing solvent molecule 1366 (atom 8819) with CL\n",
      "Replacing solvent molecule 20307 (atom 65642) with CL\n",
      "Replacing solvent molecule 4745 (atom 18956) with CL\n",
      "Replacing solvent molecule 6623 (atom 24590) with CL\n",
      "Replacing solvent molecule 3711 (atom 15854) with CL\n",
      "\n",
      "\n",
      "GROMACS reminds you: \"Hmm, It *Does* Go Well With the Chicken\" (Beastie Boys)\n",
      "\n",
      "\n",
      "2022-04-26 19:28:21,581 [MainThread  ] [INFO ]  Compressing topology to: 6V23_genion_top.zip\n",
      "2022-04-26 19:28:21,583 [MainThread  ] [INFO ]  Ignored file b05592bb-36ae-4791-8eef-a80e436473db/amber99sb-ildn.ff/forcefield.itp\n",
      "2022-04-26 19:28:21,606 [MainThread  ] [INFO ]  Ignored file b05592bb-36ae-4791-8eef-a80e436473db/amber99sb-ildn.ff/spce.itp\n",
      "2022-04-26 19:28:21,606 [MainThread  ] [INFO ]  Ignored file b05592bb-36ae-4791-8eef-a80e436473db/amber99sb-ildn.ff/ions.itp\n",
      "2022-04-26 19:28:21,612 [MainThread  ] [INFO ]  Adding:\n",
      "2022-04-26 19:28:21,613 [MainThread  ] [INFO ]  ['b05592bb-36ae-4791-8eef-a80e436473db/p2g.top', 'b05592bb-36ae-4791-8eef-a80e436473db/posre.itp']\n",
      "2022-04-26 19:28:21,613 [MainThread  ] [INFO ]  to: /home/ma/git/druglord/temp/6V23/6V23_genion_top.zip\n",
      "2022-04-26 19:28:21,615 [MainThread  ] [INFO ]  Removed: ['b05592bb-36ae-4791-8eef-a80e436473db']\n"
     ]
    },
    {
     "data": {
      "text/plain": [
       "0"
      ]
     },
     "execution_count": 15,
     "metadata": {},
     "output_type": "execute_result"
    }
   ],
   "source": [
    "# Genion: Adding ions to neutralize the system\n",
    "from biobb_md.gromacs.genion import genion\n",
    "\n",
    "# Create prop dict and inputs/outputs\n",
    "output_genion_gro = pdbCode+'_genion.gro'\n",
    "output_genion_top_zip = pdbCode+'_genion_top.zip'\n",
    "prop={\n",
    "    'neutral':True\n",
    "}\n",
    "\n",
    "# Create and launch bb\n",
    "genion(input_tpr_path=output_gppion_tpr, \n",
    "       output_gro_path=output_genion_gro, \n",
    "       input_top_zip_path=output_solvate_top_zip, \n",
    "       output_top_zip_path=output_genion_top_zip, \n",
    "       properties=prop)"
   ]
  },
  {
   "cell_type": "markdown",
   "metadata": {},
   "source": [
    "### Visualizing 3D structure\n",
    "Visualizing the **neutralized protein system** with the newly added **ions** using **NGL**"
   ]
  },
  {
   "cell_type": "code",
   "execution_count": 16,
   "metadata": {
    "scrolled": true
   },
   "outputs": [
    {
     "data": {
      "application/vnd.jupyter.widget-view+json": {
       "model_id": "0f576706f10f4182886572b23a04b190",
       "version_major": 2,
       "version_minor": 0
      },
      "text/plain": [
       "NGLWidget()"
      ]
     },
     "metadata": {},
     "output_type": "display_data"
    }
   ],
   "source": [
    "# Show protein\n",
    "view = nglview.show_structure_file(output_genion_gro)\n",
    "view.clear_representations()\n",
    "view.add_representation(repr_type='cartoon', selection='solute', color='sstruc')\n",
    "view.add_representation(repr_type='ball+stick', selection='NA')\n",
    "view.add_representation(repr_type='ball+stick', selection='CL')\n",
    "view._remote_call('setSize', target='Widget', args=['','600px'])\n",
    "view.camera='orthographic'\n",
    "view"
   ]
  },
  {
   "cell_type": "markdown",
   "metadata": {},
   "source": [
    "<a id=\"min\"></a>\n",
    "***\n",
    "## Energetically minimize the system\n",
    "Energetically minimize the **protein system** till reaching a desired potential energy.\n",
    "- [Step 1](#emStep1): Creating portable binary run file for energy minimization\n",
    "- [Step 2](#emStep2): Energetically minimize the **system** till reaching a force of 500 kJ mol-1 nm-1.\n",
    "- [Step 3](#emStep3): Checking **energy minimization** results. Plotting energy by time during the **minimization** process.\n",
    "***\n",
    "**Building Blocks** used:\n",
    " - [Grompp](https://biobb-md.readthedocs.io/en/latest/gromacs.html#module-gromacs.grompp) from **biobb_md.gromacs.grompp** \n",
    " - [Mdrun](https://biobb-md.readthedocs.io/en/latest/gromacs.html#module-gromacs.mdrun) from **biobb_md.gromacs.mdrun** \n",
    " - [GMXEnergy](https://biobb-analysis.readthedocs.io/en/latest/gromacs.html#module-gromacs.gmx_energy) from **biobb_analysis.gromacs.gmx_energy** \n",
    "***"
   ]
  },
  {
   "cell_type": "markdown",
   "metadata": {},
   "source": [
    "<a id=\"emStep1\"></a>\n",
    "### Step 1: Creating portable binary run file for energy minimization\n",
    "The **minimization** type of the **molecular dynamics parameters (mdp) property** contains the main default parameters to run an **energy minimization**:\n",
    "\n",
    "-  integrator  = steep ; Algorithm (steep = steepest descent minimization)\n",
    "-  emtol       = 1000.0 ; Stop minimization when the maximum force < 1000.0 kJ/mol/nm\n",
    "-  emstep      = 0.01 ; Minimization step size (nm)\n",
    "-  nsteps      = 50000 ; Maximum number of (minimization) steps to perform\n",
    "\n",
    "In this particular example, the method used to run the **energy minimization** is the default **steepest descent**, but the **maximum force** is placed at **500 KJ/mol\\*nm^2**, and the **maximum number of steps** to perform (if the maximum force is not reached) to **5,000 steps**. "
   ]
  },
  {
   "cell_type": "code",
   "execution_count": 17,
   "metadata": {},
   "outputs": [
    {
     "name": "stdout",
     "output_type": "stream",
     "text": [
      "2022-04-26 19:28:36,419 [MainThread  ] [INFO ]  GROMACS Grompp 20191 version detected\n",
      "2022-04-26 19:28:36,429 [MainThread  ] [INFO ]  Extracting: /home/ma/git/druglord/temp/6V23/6V23_genion_top.zip\n",
      "2022-04-26 19:28:36,430 [MainThread  ] [INFO ]  to:\n",
      "2022-04-26 19:28:36,431 [MainThread  ] [INFO ]  ['407b3184-8881-4c95-a4e2-041055857a1a/p2g.top', '407b3184-8881-4c95-a4e2-041055857a1a/posre.itp']\n",
      "2022-04-26 19:28:36,431 [MainThread  ] [INFO ]  Unzipping: \n",
      "2022-04-26 19:28:36,432 [MainThread  ] [INFO ]  6V23_genion_top.zip\n",
      "2022-04-26 19:28:36,433 [MainThread  ] [INFO ]  To: \n",
      "2022-04-26 19:28:36,434 [MainThread  ] [INFO ]  407b3184-8881-4c95-a4e2-041055857a1a/p2g.top\n",
      "2022-04-26 19:28:36,435 [MainThread  ] [INFO ]  407b3184-8881-4c95-a4e2-041055857a1a/posre.itp\n",
      "2022-04-26 19:28:36,436 [MainThread  ] [INFO ]  Not using any container\n",
      "2022-04-26 19:28:37,160 [MainThread  ] [INFO ]  gmx -nobackup -nocopyright grompp -f 56745072-1816-4983-a25d-04dffd5f6f0d/grompp.mdp -c 6V23_genion.gro -r 6V23_genion.gro -p 407b3184-8881-4c95-a4e2-041055857a1a/p2g.top -o 6V23_gppmin.tpr -po mdout.mdp -maxwarn 0\n",
      "\n",
      "2022-04-26 19:28:37,162 [MainThread  ] [INFO ]  Exit code 0\n",
      "\n",
      "2022-04-26 19:28:37,163 [MainThread  ] [INFO ]  Analysing residue names:\n",
      "There are:   315    Protein residues\n",
      "There are: 28546      Water residues\n",
      "There are:    60        Ion residues\n",
      "Analysing Protein...\n",
      "Analysing residues not classified as Protein/DNA/RNA/Water and splitting into groups...\n",
      "Calculating fourier grid dimensions for X Y Z\n",
      "Using a fourier grid of 84x84x84, spacing 0.116 0.116 0.116\n",
      "This run will generate roughly 7 Mb of data\n",
      "\n",
      "2022-04-26 19:28:37,164 [MainThread  ] [INFO ]                        :-) GROMACS - gmx grompp, 2019.1 (-:\n",
      "\n",
      "Executable:   /home/ma/miniconda3/envs/druglord/bin/gmx\n",
      "Data prefix:  /home/ma/miniconda3/envs/druglord\n",
      "Working dir:  /home/ma/git/druglord/temp/6V23\n",
      "Command line:\n",
      "  gmx -nobackup -nocopyright grompp -f 56745072-1816-4983-a25d-04dffd5f6f0d/grompp.mdp -c 6V23_genion.gro -r 6V23_genion.gro -p 407b3184-8881-4c95-a4e2-041055857a1a/p2g.top -o 6V23_gppmin.tpr -po mdout.mdp -maxwarn 0\n",
      "\n",
      "Setting the LD random seed to 1659920119\n",
      "Generated 2145 of the 2145 non-bonded parameter combinations\n",
      "Generating 1-4 interactions: fudge = 0.5\n",
      "Generated 2145 of the 2145 1-4 parameter combinations\n",
      "Excluding 3 bonded neighbours molecule type 'Protein_chain_A'\n",
      "Excluding 2 bonded neighbours molecule type 'SOL'\n",
      "Excluding 1 bonded neighbours molecule type 'NA'\n",
      "Excluding 1 bonded neighbours molecule type 'CL'\n",
      "Removing all charge groups because cutoff-scheme=Verlet\n",
      "Number of degrees of freedom in T-Coupling group rest is 185616.00\n",
      "Estimate for the relative computational load of the PME mesh part: 0.17\n",
      "\n",
      "GROMACS reminds you: \"This simulation is not as the former.\" (Malvolio, Act II, scene V of Shaphespeare's Twelfth Night)\n",
      "\n",
      "\n",
      "2022-04-26 19:28:37,166 [MainThread  ] [INFO ]  Removed: ['mdout.mdp', '407b3184-8881-4c95-a4e2-041055857a1a', '56745072-1816-4983-a25d-04dffd5f6f0d']\n"
     ]
    },
    {
     "data": {
      "text/plain": [
       "0"
      ]
     },
     "execution_count": 17,
     "metadata": {},
     "output_type": "execute_result"
    }
   ],
   "source": [
    "# Grompp: Creating portable binary run file for mdrun\n",
    "from biobb_md.gromacs.grompp import grompp\n",
    "\n",
    "# Create prop dict and inputs/outputs\n",
    "output_gppmin_tpr = pdbCode+'_gppmin.tpr'\n",
    "prop = {\n",
    "    'mdp':{\n",
    "        'emtol':'500',\n",
    "        'nsteps':'5000'\n",
    "    },\n",
    "    'simulation_type': 'minimization'\n",
    "}\n",
    "\n",
    "# Create and launch bb\n",
    "grompp(input_gro_path=output_genion_gro, \n",
    "       input_top_zip_path=output_genion_top_zip, \n",
    "       output_tpr_path=output_gppmin_tpr,  \n",
    "       properties=prop)"
   ]
  },
  {
   "cell_type": "markdown",
   "metadata": {},
   "source": [
    "<a id=\"emStep2\"></a>\n",
    "### Step 2: Running Energy Minimization\n",
    "Running **energy minimization** using the **tpr file** generated in the previous step. "
   ]
  },
  {
   "cell_type": "code",
   "execution_count": 18,
   "metadata": {},
   "outputs": [
    {
     "name": "stdout",
     "output_type": "stream",
     "text": [
      "2022-04-26 19:28:37,417 [MainThread  ] [INFO ]  GROMACS Mdrun 20191 version detected\n",
      "2022-04-26 19:28:37,419 [MainThread  ] [INFO ]  Not using any container\n",
      "2022-04-26 19:29:40,071 [MainThread  ] [INFO ]  gmx -nobackup -nocopyright mdrun -s 6V23_gppmin.tpr -o 6V23_min.trr -c 6V23_min.gro -e 6V23_min.edr -g 6V23_min.log\n",
      "\n",
      "2022-04-26 19:29:40,073 [MainThread  ] [INFO ]  Exit code 0\n",
      "\n",
      "2022-04-26 19:29:40,074 [MainThread  ] [INFO ]                        :-) GROMACS - gmx mdrun, 2019.1 (-:\n",
      "\n",
      "Executable:   /home/ma/miniconda3/envs/druglord/bin/gmx\n",
      "Data prefix:  /home/ma/miniconda3/envs/druglord\n",
      "Working dir:  /home/ma/git/druglord/temp/6V23\n",
      "Command line:\n",
      "  gmx -nobackup -nocopyright mdrun -s 6V23_gppmin.tpr -o 6V23_min.trr -c 6V23_min.gro -e 6V23_min.edr -g 6V23_min.log\n",
      "\n",
      "Compiled SIMD: SSE2, but for this host/run AVX_512 might be better (see log).\n",
      "The current CPU can measure timings more accurately than the code in\n",
      "gmx mdrun was configured to use. This might affect your simulation\n",
      "speed as accurate timings are needed for load-balancing.\n",
      "Please consider rebuilding gmx mdrun with the GMX_USE_RDTSCP=ON CMake option.\n",
      "Reading file 6V23_gppmin.tpr, VERSION 2019.1 (single precision)\n",
      "\n",
      "Using 72 MPI threads\n",
      "Using 1 OpenMP thread per tMPI thread\n",
      "\n",
      "\n",
      "Steepest Descents:\n",
      "   Tolerance (Fmax)   =  5.00000e+02\n",
      "   Number of steps    =         5000\n",
      "\n",
      "step 11: One or more water molecules can not be settled.\n",
      "Check for bad contacts and/or reduce the timestep if appropriate.\n",
      "Wrote pdb files with previous and current coordinates\n",
      "\n",
      "step 19: One or more water molecules can not be settled.\n",
      "Check for bad contacts and/or reduce the timestep if appropriate.\n",
      "Wrote pdb files with previous and current coordinates\n",
      "\n",
      "step 24: One or more water molecules can not be settled.\n",
      "Check for bad contacts and/or reduce the timestep if appropriate.\n",
      "Wrote pdb files with previous and current coordinates\n",
      "\n",
      "step 26: One or more water molecules can not be settled.\n",
      "Check for bad contacts and/or reduce the timestep if appropriate.\n",
      "Wrote pdb files with previous and current coordinates\n",
      "\n",
      "step 30: One or more water molecules can not be settled.\n",
      "Check for bad contacts and/or reduce the timestep if appropriate.\n",
      "Wrote pdb files with previous and current coordinates\n",
      "\n",
      "writing lowest energy coordinates.\n",
      "\n",
      "Steepest Descents converged to Fmax < 500 in 3136 steps\n",
      "Potential Energy  = -1.6050429e+06\n",
      "Maximum force     =  4.2044940e+02 on atom 3218\n",
      "Norm of force     =  8.4437133e+00\n",
      "\n",
      "GROMACS reminds you: \"I like to wait, then I feel like I do something\" (Carl Caleman)\n",
      "\n",
      "\n",
      "2022-04-26 19:29:40,075 [MainThread  ] [INFO ]  Removed: []\n"
     ]
    },
    {
     "data": {
      "text/plain": [
       "0"
      ]
     },
     "execution_count": 18,
     "metadata": {},
     "output_type": "execute_result"
    }
   ],
   "source": [
    "# Mdrun: Running minimization\n",
    "from biobb_md.gromacs.mdrun import mdrun\n",
    "\n",
    "# Create prop dict and inputs/outputs\n",
    "output_min_trr = pdbCode+'_min.trr'\n",
    "output_min_gro = pdbCode+'_min.gro'\n",
    "output_min_edr = pdbCode+'_min.edr'\n",
    "output_min_log = pdbCode+'_min.log'\n",
    "\n",
    "# Create and launch bb\n",
    "mdrun(input_tpr_path=output_gppmin_tpr, \n",
    "      output_trr_path=output_min_trr, \n",
    "      output_gro_path=output_min_gro, \n",
    "      output_edr_path=output_min_edr, \n",
    "      output_log_path=output_min_log)"
   ]
  },
  {
   "cell_type": "markdown",
   "metadata": {},
   "source": [
    "<a id=\"emStep3\"></a>\n",
    "### Step 3: Checking Energy Minimization results\n",
    "Checking **energy minimization** results. Plotting **potential energy** by time during the minimization process. "
   ]
  },
  {
   "cell_type": "code",
   "execution_count": 19,
   "metadata": {},
   "outputs": [
    {
     "name": "stdout",
     "output_type": "stream",
     "text": [
      "2022-04-26 19:29:40,452 [MainThread  ] [INFO ]  Not using any container\n",
      "2022-04-26 19:29:40,483 [MainThread  ] [INFO ]  gmx energy -f /home/ma/git/druglord/temp/6V23/6V23_min.edr -o 6V23_min_ene.xvg -xvg none < afc85d98-e677-4d92-8fb9-8826867d752c/instructions.in\n",
      "\n",
      "2022-04-26 19:29:40,484 [MainThread  ] [INFO ]  Exit code 0\n",
      "\n",
      "2022-04-26 19:29:40,485 [MainThread  ] [INFO ]  \n",
      "Statistics over 3136 steps [ 0.0000 through 3135.0000 ps ], 1 data sets\n",
      "All statistics are over 2482 points (frames)\n",
      "\n",
      "Energy                      Average   Err.Est.       RMSD  Tot-Drift\n",
      "-------------------------------------------------------------------------------\n",
      "Potential                -1.56179e+06      24000    73610.6    -158039  (kJ/mol)\n",
      "\n",
      "2022-04-26 19:29:40,485 [MainThread  ] [INFO ]                        :-) GROMACS - gmx energy, 2019.1 (-:\n",
      "\n",
      "                            GROMACS is written by:\n",
      "     Emile Apol      Rossen Apostolov      Paul Bauer     Herman J.C. Berendsen\n",
      "    Par Bjelkmar      Christian Blau   Viacheslav Bolnykh     Kevin Boyd    \n",
      " Aldert van Buuren   Rudi van Drunen     Anton Feenstra       Alan Gray     \n",
      "  Gerrit Groenhof     Anca Hamuraru    Vincent Hindriksen  M. Eric Irrgang  \n",
      "  Aleksei Iupinov   Christoph Junghans     Joe Jordan     Dimitrios Karkoulis\n",
      "    Peter Kasson        Jiri Kraus      Carsten Kutzner      Per Larsson    \n",
      "  Justin A. Lemkul    Viveca Lindahl    Magnus Lundborg     Erik Marklund   \n",
      "    Pascal Merz     Pieter Meulenhoff    Teemu Murtola       Szilard Pall   \n",
      "    Sander Pronk      Roland Schulz      Michael Shirts    Alexey Shvetsov  \n",
      "   Alfons Sijbers     Peter Tieleman      Jon Vincent      Teemu Virolainen \n",
      " Christian Wennberg    Maarten Wolf   \n",
      "                           and the project leaders:\n",
      "        Mark Abraham, Berk Hess, Erik Lindahl, and David van der Spoel\n",
      "\n",
      "Copyright (c) 1991-2000, University of Groningen, The Netherlands.\n",
      "Copyright (c) 2001-2018, The GROMACS development team at\n",
      "Uppsala University, Stockholm University and\n",
      "the Royal Institute of Technology, Sweden.\n",
      "check out http://www.gromacs.org for more information.\n",
      "\n",
      "GROMACS is free software; you can redistribute it and/or modify it\n",
      "under the terms of the GNU Lesser General Public License\n",
      "as published by the Free Software Foundation; either version 2.1\n",
      "of the License, or (at your option) any later version.\n",
      "\n",
      "GROMACS:      gmx energy, version 2019.1\n",
      "Executable:   /home/ma/miniconda3/envs/druglord/bin/gmx\n",
      "Data prefix:  /home/ma/miniconda3/envs/druglord\n",
      "Working dir:  /home/ma/git/druglord/temp/6V23\n",
      "Command line:\n",
      "  gmx energy -f /home/ma/git/druglord/temp/6V23/6V23_min.edr -o 6V23_min_ene.xvg -xvg none\n",
      "\n",
      "Opened /home/ma/git/druglord/temp/6V23/6V23_min.edr as single precision energy file\n",
      "\n",
      "Select the terms you want from the following list by\n",
      "selecting either (part of) the name or the number or a combination.\n",
      "End your selection with an empty line or a zero.\n",
      "-------------------------------------------------------------------\n",
      "  1  Bond             2  Angle            3  Proper-Dih.      4  Improper-Dih. \n",
      "  5  LJ-14            6  Coulomb-14       7  LJ-(SR)          8  Coulomb-(SR)  \n",
      "  9  Coul.-recip.    10  Position-Rest.  11  Potential       12  Pressure      \n",
      " 13  Vir-XX          14  Vir-XY          15  Vir-XZ          16  Vir-YX        \n",
      " 17  Vir-YY          18  Vir-YZ          19  Vir-ZX          20  Vir-ZY        \n",
      " 21  Vir-ZZ          22  Pres-XX         23  Pres-XY         24  Pres-XZ       \n",
      " 25  Pres-YX         26  Pres-YY         27  Pres-YZ         28  Pres-ZX       \n",
      " 29  Pres-ZY         30  Pres-ZZ         31  #Surf*SurfTen   32  T-rest        \n",
      "\n",
      "Last energy frame read 2481 time 3135.000         \n",
      "\n",
      "GROMACS reminds you: \"Live for Liposuction\" (Robbie Williams)\n",
      "\n",
      "\n",
      "2022-04-26 19:29:40,486 [MainThread  ] [INFO ]  Removed: [PurePosixPath('afc85d98-e677-4d92-8fb9-8826867d752c')]\n"
     ]
    },
    {
     "data": {
      "text/plain": [
       "0"
      ]
     },
     "execution_count": 19,
     "metadata": {},
     "output_type": "execute_result"
    }
   ],
   "source": [
    "# GMXEnergy: Getting system energy by time  \n",
    "from biobb_analysis.gromacs.gmx_energy import gmx_energy\n",
    "\n",
    "# Create prop dict and inputs/outputs\n",
    "output_min_ene_xvg = pdbCode+'_min_ene.xvg'\n",
    "prop = {\n",
    "    'terms':  [\"Potential\"]\n",
    "}\n",
    "\n",
    "# Create and launch bb\n",
    "gmx_energy(input_energy_path=output_min_edr, \n",
    "          output_xvg_path=output_min_ene_xvg, \n",
    "          properties=prop)"
   ]
  },
  {
   "cell_type": "code",
   "execution_count": 20,
   "metadata": {},
   "outputs": [
    {
     "data": {
      "text/html": [
       "        <script type=\"text/javascript\">\n",
       "        window.PlotlyConfig = {MathJaxConfig: 'local'};\n",
       "        if (window.MathJax) {MathJax.Hub.Config({SVG: {font: \"STIX-Web\"}});}\n",
       "        if (typeof require !== 'undefined') {\n",
       "        require.undef(\"plotly\");\n",
       "        requirejs.config({\n",
       "            paths: {\n",
       "                'plotly': ['https://cdn.plot.ly/plotly-2.11.1.min']\n",
       "            }\n",
       "        });\n",
       "        require(['plotly'], function(Plotly) {\n",
       "            window._Plotly = Plotly;\n",
       "        });\n",
       "        }\n",
       "        </script>\n",
       "        "
      ]
     },
     "metadata": {},
     "output_type": "display_data"
    },
    {
     "data": {
      "application/vnd.plotly.v1+json": {
       "config": {
        "linkText": "Export to plot.ly",
        "plotlyServerURL": "https://plot.ly",
        "showLink": false
       },
       "data": [
        {
         "type": "scatter",
         "x": [
          0,
          1,
          2,
          3,
          4,
          5,
          6,
          7,
          8,
          9,
          10,
          12,
          13,
          14,
          15,
          16,
          17,
          18,
          20,
          21,
          22,
          23,
          25,
          27,
          28,
          29,
          31,
          32,
          33,
          34,
          35,
          36,
          37,
          38,
          40,
          41,
          42,
          43,
          44,
          46,
          47,
          48,
          49,
          51,
          53,
          54,
          55,
          57,
          58,
          59,
          61,
          62,
          63,
          64,
          66,
          68,
          69,
          70,
          71,
          72,
          74,
          75,
          76,
          78,
          79,
          80,
          81,
          83,
          84,
          85,
          87,
          88,
          89,
          90,
          92,
          94,
          95,
          96,
          97,
          99,
          100,
          101,
          103,
          104,
          105,
          106,
          107,
          109,
          110,
          111,
          113,
          114,
          115,
          116,
          117,
          119,
          120,
          121,
          123,
          124,
          125,
          126,
          127,
          129,
          130,
          131,
          133,
          134,
          135,
          136,
          137,
          138,
          140,
          141,
          142,
          144,
          145,
          146,
          147,
          149,
          150,
          151,
          153,
          154,
          155,
          156,
          157,
          159,
          160,
          161,
          163,
          164,
          165,
          166,
          168,
          169,
          170,
          172,
          173,
          174,
          175,
          177,
          178,
          179,
          181,
          182,
          183,
          184,
          185,
          187,
          188,
          189,
          191,
          192,
          193,
          194,
          195,
          197,
          198,
          199,
          201,
          202,
          203,
          204,
          206,
          207,
          208,
          210,
          211,
          212,
          213,
          215,
          216,
          217,
          219,
          220,
          221,
          222,
          223,
          225,
          226,
          227,
          229,
          230,
          231,
          232,
          233,
          235,
          237,
          238,
          239,
          240,
          242,
          243,
          244,
          246,
          247,
          248,
          249,
          250,
          252,
          253,
          254,
          256,
          257,
          258,
          259,
          260,
          262,
          263,
          264,
          266,
          267,
          268,
          269,
          271,
          272,
          273,
          275,
          276,
          277,
          278,
          279,
          281,
          282,
          283,
          285,
          286,
          287,
          288,
          289,
          291,
          293,
          294,
          295,
          296,
          298,
          299,
          300,
          302,
          303,
          304,
          305,
          306,
          308,
          309,
          310,
          312,
          313,
          314,
          315,
          316,
          317,
          319,
          320,
          321,
          323,
          324,
          325,
          326,
          328,
          329,
          330,
          332,
          333,
          335,
          336,
          337,
          339,
          340,
          341,
          342,
          343,
          345,
          346,
          347,
          349,
          350,
          351,
          353,
          354,
          355,
          356,
          357,
          359,
          360,
          361,
          363,
          364,
          365,
          366,
          367,
          369,
          370,
          371,
          373,
          374,
          375,
          376,
          378,
          379,
          380,
          382,
          383,
          384,
          385,
          386,
          387,
          389,
          390,
          391,
          393,
          394,
          395,
          396,
          398,
          399,
          400,
          402,
          403,
          404,
          405,
          406,
          407,
          409,
          410,
          411,
          413,
          414,
          415,
          416,
          418,
          419,
          420,
          422,
          423,
          424,
          425,
          427,
          428,
          429,
          431,
          432,
          433,
          434,
          435,
          436,
          437,
          439,
          440,
          441,
          443,
          444,
          445,
          446,
          448,
          449,
          450,
          452,
          453,
          454,
          455,
          457,
          458,
          459,
          461,
          462,
          463,
          464,
          465,
          467,
          468,
          469,
          471,
          472,
          473,
          474,
          475,
          476,
          478,
          479,
          480,
          482,
          483,
          485,
          486,
          487,
          489,
          490,
          491,
          492,
          493,
          494,
          495,
          497,
          498,
          499,
          501,
          502,
          503,
          504,
          506,
          507,
          508,
          510,
          511,
          512,
          513,
          515,
          516,
          517,
          519,
          520,
          521,
          522,
          523,
          525,
          526,
          527,
          529,
          530,
          531,
          532,
          533,
          534,
          536,
          537,
          538,
          540,
          541,
          543,
          544,
          545,
          547,
          548,
          549,
          550,
          551,
          552,
          553,
          555,
          557,
          558,
          559,
          560,
          562,
          563,
          564,
          566,
          567,
          568,
          569,
          570,
          572,
          573,
          574,
          576,
          577,
          578,
          579,
          580,
          582,
          583,
          584,
          586,
          587,
          588,
          589,
          590,
          591,
          593,
          594,
          595,
          597,
          598,
          599,
          600,
          602,
          603,
          604,
          606,
          607,
          608,
          609,
          611,
          612,
          613,
          615,
          616,
          617,
          618,
          619,
          621,
          622,
          623,
          625,
          626,
          627,
          628,
          629,
          630,
          632,
          633,
          634,
          636,
          637,
          638,
          639,
          641,
          642,
          643,
          645,
          646,
          647,
          648,
          649,
          651,
          652,
          653,
          655,
          656,
          657,
          658,
          660,
          661,
          662,
          664,
          665,
          666,
          667,
          669,
          670,
          671,
          673,
          674,
          675,
          676,
          677,
          678,
          680,
          681,
          682,
          684,
          685,
          687,
          688,
          689,
          691,
          692,
          693,
          694,
          695,
          696,
          697,
          699,
          701,
          702,
          703,
          704,
          706,
          707,
          708,
          710,
          711,
          712,
          713,
          714,
          716,
          717,
          718,
          720,
          721,
          722,
          723,
          724,
          726,
          727,
          728,
          730,
          731,
          732,
          733,
          734,
          735,
          737,
          738,
          739,
          741,
          742,
          743,
          744,
          746,
          747,
          748,
          750,
          751,
          752,
          753,
          755,
          756,
          757,
          759,
          760,
          761,
          762,
          763,
          764,
          766,
          767,
          768,
          770,
          771,
          772,
          773,
          775,
          776,
          777,
          779,
          780,
          781,
          782,
          783,
          785,
          786,
          787,
          789,
          790,
          791,
          792,
          794,
          795,
          796,
          798,
          799,
          800,
          801,
          803,
          804,
          805,
          807,
          808,
          809,
          810,
          812,
          813,
          814,
          816,
          817,
          818,
          819,
          820,
          821,
          823,
          824,
          825,
          827,
          828,
          829,
          830,
          832,
          833,
          834,
          836,
          837,
          838,
          839,
          841,
          842,
          843,
          845,
          846,
          847,
          848,
          849,
          850,
          852,
          853,
          854,
          856,
          857,
          858,
          859,
          861,
          862,
          863,
          865,
          866,
          867,
          868,
          869,
          871,
          872,
          873,
          875,
          876,
          877,
          878,
          880,
          881,
          882,
          884,
          885,
          886,
          887,
          888,
          890,
          891,
          892,
          894,
          895,
          896,
          897,
          899,
          900,
          901,
          903,
          904,
          905,
          906,
          907,
          909,
          910,
          911,
          913,
          914,
          915,
          916,
          918,
          919,
          920,
          922,
          923,
          924,
          925,
          927,
          928,
          929,
          931,
          932,
          933,
          934,
          935,
          936,
          938,
          939,
          940,
          942,
          943,
          944,
          945,
          947,
          948,
          949,
          951,
          952,
          953,
          954,
          956,
          957,
          958,
          960,
          961,
          962,
          963,
          965,
          966,
          967,
          969,
          970,
          971,
          972,
          973,
          974,
          976,
          977,
          978,
          980,
          981,
          982,
          983,
          985,
          986,
          987,
          989,
          990,
          991,
          992,
          993,
          995,
          996,
          997,
          999,
          1000,
          1001,
          1002,
          1004,
          1005,
          1006,
          1008,
          1009,
          1010,
          1011,
          1012,
          1013,
          1015,
          1016,
          1017,
          1019,
          1020,
          1022,
          1023,
          1024,
          1026,
          1027,
          1028,
          1029,
          1030,
          1031,
          1032,
          1034,
          1035,
          1036,
          1038,
          1039,
          1040,
          1041,
          1043,
          1044,
          1045,
          1047,
          1048,
          1049,
          1050,
          1052,
          1053,
          1054,
          1056,
          1057,
          1058,
          1059,
          1061,
          1062,
          1063,
          1065,
          1066,
          1067,
          1068,
          1069,
          1070,
          1072,
          1073,
          1074,
          1076,
          1077,
          1078,
          1079,
          1081,
          1082,
          1083,
          1085,
          1086,
          1087,
          1088,
          1089,
          1091,
          1092,
          1093,
          1095,
          1096,
          1097,
          1098,
          1100,
          1101,
          1102,
          1104,
          1105,
          1106,
          1107,
          1108,
          1110,
          1111,
          1112,
          1114,
          1115,
          1116,
          1117,
          1119,
          1120,
          1121,
          1123,
          1124,
          1125,
          1126,
          1127,
          1129,
          1130,
          1131,
          1133,
          1134,
          1135,
          1136,
          1138,
          1139,
          1140,
          1142,
          1143,
          1144,
          1145,
          1146,
          1148,
          1149,
          1150,
          1152,
          1153,
          1154,
          1155,
          1157,
          1158,
          1159,
          1161,
          1162,
          1163,
          1164,
          1165,
          1166,
          1168,
          1169,
          1170,
          1172,
          1173,
          1174,
          1175,
          1177,
          1178,
          1179,
          1181,
          1182,
          1183,
          1184,
          1185,
          1187,
          1188,
          1189,
          1191,
          1192,
          1193,
          1194,
          1196,
          1197,
          1198,
          1200,
          1201,
          1202,
          1203,
          1204,
          1206,
          1207,
          1208,
          1210,
          1211,
          1212,
          1213,
          1215,
          1216,
          1217,
          1219,
          1220,
          1221,
          1222,
          1223,
          1225,
          1226,
          1227,
          1229,
          1230,
          1231,
          1232,
          1234,
          1235,
          1236,
          1238,
          1239,
          1240,
          1241,
          1242,
          1244,
          1245,
          1246,
          1248,
          1249,
          1250,
          1251,
          1253,
          1254,
          1255,
          1257,
          1258,
          1259,
          1260,
          1261,
          1262,
          1264,
          1265,
          1266,
          1268,
          1269,
          1270,
          1271,
          1273,
          1274,
          1275,
          1277,
          1278,
          1279,
          1280,
          1282,
          1283,
          1284,
          1286,
          1287,
          1288,
          1289,
          1291,
          1292,
          1293,
          1295,
          1296,
          1297,
          1298,
          1299,
          1300,
          1302,
          1303,
          1304,
          1306,
          1307,
          1308,
          1309,
          1311,
          1312,
          1313,
          1315,
          1316,
          1317,
          1318,
          1320,
          1321,
          1322,
          1324,
          1325,
          1326,
          1327,
          1328,
          1329,
          1331,
          1332,
          1333,
          1335,
          1336,
          1337,
          1338,
          1340,
          1341,
          1342,
          1344,
          1345,
          1346,
          1347,
          1349,
          1350,
          1351,
          1353,
          1354,
          1355,
          1356,
          1358,
          1359,
          1360,
          1362,
          1363,
          1364,
          1365,
          1366,
          1367,
          1369,
          1370,
          1371,
          1373,
          1374,
          1376,
          1377,
          1378,
          1380,
          1381,
          1382,
          1383,
          1384,
          1385,
          1386,
          1388,
          1389,
          1390,
          1392,
          1393,
          1394,
          1395,
          1397,
          1398,
          1399,
          1401,
          1402,
          1403,
          1404,
          1406,
          1407,
          1408,
          1410,
          1411,
          1412,
          1413,
          1414,
          1415,
          1417,
          1418,
          1419,
          1421,
          1422,
          1424,
          1425,
          1426,
          1428,
          1429,
          1430,
          1431,
          1432,
          1433,
          1434,
          1436,
          1437,
          1438,
          1440,
          1441,
          1442,
          1443,
          1445,
          1446,
          1447,
          1449,
          1450,
          1451,
          1452,
          1454,
          1455,
          1456,
          1458,
          1459,
          1460,
          1461,
          1462,
          1463,
          1465,
          1466,
          1467,
          1469,
          1470,
          1472,
          1473,
          1474,
          1476,
          1477,
          1478,
          1479,
          1480,
          1481,
          1482,
          1484,
          1485,
          1486,
          1488,
          1489,
          1490,
          1491,
          1493,
          1494,
          1495,
          1497,
          1498,
          1499,
          1500,
          1502,
          1503,
          1504,
          1506,
          1507,
          1508,
          1509,
          1510,
          1511,
          1513,
          1514,
          1515,
          1517,
          1518,
          1520,
          1521,
          1522,
          1524,
          1525,
          1526,
          1527,
          1528,
          1529,
          1530,
          1532,
          1533,
          1534,
          1536,
          1537,
          1538,
          1539,
          1541,
          1542,
          1543,
          1545,
          1546,
          1547,
          1548,
          1550,
          1551,
          1552,
          1554,
          1555,
          1556,
          1557,
          1558,
          1560,
          1561,
          1562,
          1564,
          1565,
          1566,
          1567,
          1569,
          1570,
          1571,
          1573,
          1574,
          1575,
          1576,
          1577,
          1578,
          1580,
          1581,
          1582,
          1584,
          1585,
          1586,
          1587,
          1589,
          1590,
          1591,
          1593,
          1594,
          1595,
          1596,
          1598,
          1599,
          1600,
          1602,
          1603,
          1604,
          1605,
          1606,
          1607,
          1609,
          1611,
          1612,
          1613,
          1614,
          1616,
          1617,
          1618,
          1620,
          1621,
          1622,
          1624,
          1625,
          1626,
          1627,
          1628,
          1630,
          1631,
          1632,
          1634,
          1635,
          1636,
          1637,
          1638,
          1639,
          1640,
          1642,
          1643,
          1644,
          1646,
          1647,
          1648,
          1649,
          1651,
          1652,
          1653,
          1655,
          1656,
          1657,
          1658,
          1659,
          1661,
          1662,
          1663,
          1665,
          1666,
          1667,
          1668,
          1670,
          1671,
          1672,
          1674,
          1675,
          1676,
          1677,
          1678,
          1679,
          1681,
          1683,
          1684,
          1685,
          1686,
          1688,
          1689,
          1690,
          1692,
          1693,
          1694,
          1695,
          1696,
          1698,
          1699,
          1700,
          1702,
          1703,
          1704,
          1705,
          1706,
          1708,
          1709,
          1710,
          1712,
          1713,
          1714,
          1715,
          1716,
          1718,
          1719,
          1720,
          1722,
          1723,
          1724,
          1725,
          1727,
          1728,
          1729,
          1731,
          1732,
          1733,
          1734,
          1735,
          1737,
          1738,
          1739,
          1741,
          1742,
          1743,
          1744,
          1745,
          1746,
          1748,
          1750,
          1751,
          1752,
          1753,
          1755,
          1756,
          1757,
          1759,
          1760,
          1761,
          1763,
          1764,
          1765,
          1766,
          1767,
          1769,
          1770,
          1771,
          1773,
          1774,
          1775,
          1776,
          1777,
          1778,
          1779,
          1781,
          1782,
          1783,
          1785,
          1786,
          1787,
          1788,
          1790,
          1791,
          1792,
          1794,
          1795,
          1796,
          1797,
          1798,
          1800,
          1801,
          1802,
          1804,
          1805,
          1806,
          1807,
          1809,
          1810,
          1811,
          1813,
          1814,
          1815,
          1816,
          1818,
          1819,
          1820,
          1822,
          1823,
          1824,
          1825,
          1826,
          1828,
          1829,
          1830,
          1832,
          1833,
          1834,
          1835,
          1837,
          1838,
          1839,
          1841,
          1842,
          1843,
          1844,
          1845,
          1846,
          1848,
          1849,
          1850,
          1852,
          1853,
          1854,
          1855,
          1857,
          1858,
          1859,
          1861,
          1862,
          1863,
          1864,
          1866,
          1867,
          1868,
          1870,
          1871,
          1872,
          1873,
          1874,
          1876,
          1877,
          1878,
          1880,
          1881,
          1882,
          1883,
          1884,
          1886,
          1887,
          1888,
          1890,
          1891,
          1892,
          1893,
          1895,
          1896,
          1897,
          1899,
          1900,
          1901,
          1902,
          1904,
          1905,
          1906,
          1908,
          1909,
          1910,
          1911,
          1912,
          1913,
          1915,
          1916,
          1917,
          1919,
          1920,
          1922,
          1923,
          1924,
          1926,
          1927,
          1928,
          1929,
          1930,
          1932,
          1933,
          1934,
          1936,
          1937,
          1938,
          1939,
          1940,
          1942,
          1943,
          1944,
          1946,
          1947,
          1948,
          1949,
          1950,
          1951,
          1952,
          1954,
          1956,
          1957,
          1958,
          1959,
          1961,
          1962,
          1963,
          1965,
          1966,
          1967,
          1968,
          1969,
          1971,
          1972,
          1973,
          1975,
          1976,
          1977,
          1978,
          1979,
          1981,
          1982,
          1983,
          1985,
          1986,
          1987,
          1988,
          1989,
          1990,
          1992,
          1993,
          1994,
          1996,
          1997,
          1998,
          1999,
          2001,
          2002,
          2003,
          2005,
          2006,
          2007,
          2008,
          2010,
          2011,
          2012,
          2014,
          2015,
          2016,
          2017,
          2018,
          2020,
          2021,
          2022,
          2024,
          2025,
          2026,
          2027,
          2028,
          2030,
          2031,
          2032,
          2034,
          2035,
          2036,
          2037,
          2039,
          2040,
          2041,
          2043,
          2044,
          2045,
          2046,
          2048,
          2049,
          2050,
          2052,
          2053,
          2054,
          2055,
          2056,
          2058,
          2059,
          2060,
          2062,
          2063,
          2064,
          2065,
          2066,
          2067,
          2069,
          2071,
          2072,
          2073,
          2074,
          2076,
          2077,
          2078,
          2080,
          2081,
          2082,
          2084,
          2085,
          2086,
          2087,
          2088,
          2089,
          2090,
          2092,
          2093,
          2094,
          2096,
          2097,
          2098,
          2099,
          2101,
          2102,
          2103,
          2105,
          2106,
          2107,
          2108,
          2109,
          2110,
          2112,
          2113,
          2114,
          2116,
          2117,
          2119,
          2120,
          2121,
          2123,
          2124,
          2125,
          2126,
          2127,
          2129,
          2130,
          2131,
          2133,
          2134,
          2135,
          2136,
          2137,
          2139,
          2140,
          2141,
          2143,
          2144,
          2145,
          2146,
          2147,
          2148,
          2150,
          2151,
          2152,
          2154,
          2155,
          2157,
          2158,
          2159,
          2161,
          2162,
          2163,
          2164,
          2165,
          2167,
          2168,
          2169,
          2171,
          2172,
          2173,
          2174,
          2175,
          2177,
          2178,
          2179,
          2181,
          2182,
          2183,
          2184,
          2185,
          2186,
          2188,
          2189,
          2190,
          2192,
          2193,
          2195,
          2196,
          2197,
          2199,
          2200,
          2201,
          2202,
          2203,
          2205,
          2206,
          2207,
          2209,
          2210,
          2211,
          2212,
          2213,
          2214,
          2215,
          2217,
          2218,
          2219,
          2221,
          2222,
          2223,
          2224,
          2226,
          2227,
          2228,
          2230,
          2231,
          2232,
          2233,
          2235,
          2236,
          2237,
          2239,
          2240,
          2241,
          2242,
          2243,
          2245,
          2246,
          2247,
          2249,
          2250,
          2251,
          2252,
          2253,
          2255,
          2256,
          2257,
          2259,
          2260,
          2261,
          2262,
          2264,
          2265,
          2266,
          2268,
          2269,
          2270,
          2271,
          2273,
          2274,
          2275,
          2277,
          2278,
          2279,
          2280,
          2281,
          2282,
          2284,
          2285,
          2286,
          2288,
          2289,
          2291,
          2292,
          2293,
          2295,
          2296,
          2297,
          2298,
          2299,
          2300,
          2301,
          2303,
          2304,
          2305,
          2307,
          2308,
          2309,
          2310,
          2311,
          2313,
          2314,
          2315,
          2317,
          2318,
          2319,
          2320,
          2322,
          2323,
          2324,
          2326,
          2327,
          2328,
          2329,
          2331,
          2332,
          2333,
          2335,
          2336,
          2337,
          2338,
          2339,
          2341,
          2342,
          2343,
          2345,
          2346,
          2347,
          2348,
          2350,
          2351,
          2352,
          2354,
          2355,
          2356,
          2357,
          2358,
          2359,
          2361,
          2362,
          2363,
          2365,
          2366,
          2367,
          2368,
          2370,
          2371,
          2372,
          2374,
          2375,
          2376,
          2377,
          2379,
          2380,
          2381,
          2383,
          2384,
          2385,
          2386,
          2387,
          2389,
          2390,
          2391,
          2393,
          2394,
          2395,
          2396,
          2398,
          2399,
          2400,
          2402,
          2403,
          2404,
          2405,
          2407,
          2408,
          2409,
          2411,
          2412,
          2413,
          2414,
          2415,
          2416,
          2417,
          2419,
          2421,
          2422,
          2423,
          2424,
          2426,
          2427,
          2428,
          2430,
          2431,
          2432,
          2433,
          2434,
          2436,
          2437,
          2438,
          2440,
          2441,
          2442,
          2443,
          2444,
          2446,
          2447,
          2448,
          2450,
          2451,
          2452,
          2453,
          2454,
          2456,
          2457,
          2458,
          2460,
          2461,
          2462,
          2463,
          2465,
          2466,
          2467,
          2469,
          2470,
          2471,
          2472,
          2473,
          2475,
          2476,
          2477,
          2479,
          2480,
          2481,
          2482,
          2483,
          2485,
          2486,
          2487,
          2489,
          2490,
          2491,
          2492,
          2494,
          2495,
          2496,
          2498,
          2499,
          2500,
          2501,
          2502,
          2503,
          2505,
          2506,
          2507,
          2509,
          2510,
          2511,
          2512,
          2514,
          2515,
          2516,
          2518,
          2519,
          2520,
          2521,
          2523,
          2524,
          2525,
          2527,
          2528,
          2529,
          2530,
          2531,
          2533,
          2534,
          2535,
          2537,
          2538,
          2539,
          2540,
          2542,
          2543,
          2544,
          2546,
          2547,
          2548,
          2549,
          2551,
          2552,
          2553,
          2555,
          2556,
          2557,
          2558,
          2559,
          2560,
          2562,
          2563,
          2564,
          2566,
          2567,
          2568,
          2569,
          2571,
          2572,
          2573,
          2575,
          2576,
          2577,
          2578,
          2579,
          2581,
          2582,
          2583,
          2585,
          2586,
          2587,
          2588,
          2589,
          2591,
          2592,
          2593,
          2595,
          2596,
          2597,
          2598,
          2600,
          2601,
          2602,
          2604,
          2605,
          2606,
          2607,
          2609,
          2610,
          2611,
          2613,
          2614,
          2615,
          2616,
          2617,
          2618,
          2620,
          2621,
          2622,
          2624,
          2625,
          2627,
          2628,
          2629,
          2631,
          2632,
          2633,
          2634,
          2635,
          2637,
          2638,
          2639,
          2641,
          2642,
          2643,
          2644,
          2645,
          2646,
          2647,
          2649,
          2651,
          2652,
          2653,
          2654,
          2656,
          2657,
          2658,
          2660,
          2661,
          2662,
          2663,
          2664,
          2666,
          2667,
          2668,
          2670,
          2671,
          2672,
          2673,
          2674,
          2676,
          2677,
          2678,
          2680,
          2681,
          2682,
          2683,
          2684,
          2685,
          2687,
          2688,
          2689,
          2691,
          2692,
          2693,
          2694,
          2696,
          2697,
          2698,
          2700,
          2701,
          2702,
          2703,
          2705,
          2706,
          2707,
          2709,
          2710,
          2711,
          2712,
          2713,
          2715,
          2716,
          2717,
          2719,
          2720,
          2721,
          2722,
          2724,
          2725,
          2726,
          2728,
          2729,
          2730,
          2731,
          2732,
          2733,
          2735,
          2737,
          2738,
          2739,
          2740,
          2742,
          2743,
          2744,
          2746,
          2747,
          2748,
          2749,
          2750,
          2752,
          2753,
          2754,
          2756,
          2757,
          2758,
          2759,
          2760,
          2762,
          2763,
          2764,
          2766,
          2767,
          2768,
          2769,
          2770,
          2771,
          2773,
          2774,
          2775,
          2777,
          2778,
          2779,
          2780,
          2782,
          2783,
          2784,
          2786,
          2787,
          2788,
          2789,
          2791,
          2792,
          2793,
          2795,
          2796,
          2797,
          2798,
          2799,
          2801,
          2802,
          2803,
          2805,
          2806,
          2807,
          2808,
          2809,
          2811,
          2812,
          2813,
          2815,
          2816,
          2817,
          2818,
          2820,
          2821,
          2822,
          2824,
          2825,
          2826,
          2827,
          2828,
          2829,
          2831,
          2832,
          2833,
          2835,
          2836,
          2837,
          2838,
          2840,
          2841,
          2842,
          2844,
          2845,
          2846,
          2847,
          2849,
          2850,
          2851,
          2853,
          2854,
          2855,
          2856,
          2857,
          2859,
          2860,
          2861,
          2863,
          2864,
          2865,
          2866,
          2868,
          2869,
          2870,
          2872,
          2873,
          2874,
          2875,
          2877,
          2878,
          2879,
          2881,
          2882,
          2883,
          2884,
          2885,
          2887,
          2888,
          2889,
          2891,
          2892,
          2893,
          2894,
          2895,
          2896,
          2898,
          2899,
          2900,
          2902,
          2903,
          2905,
          2906,
          2907,
          2909,
          2910,
          2911,
          2912,
          2913,
          2914,
          2915,
          2917,
          2919,
          2920,
          2921,
          2922,
          2924,
          2925,
          2926,
          2928,
          2929,
          2930,
          2931,
          2932,
          2934,
          2935,
          2936,
          2938,
          2939,
          2940,
          2941,
          2942,
          2943,
          2944,
          2946,
          2947,
          2948,
          2950,
          2951,
          2953,
          2954,
          2955,
          2957,
          2958,
          2959,
          2960,
          2961,
          2963,
          2964,
          2965,
          2967,
          2968,
          2969,
          2970,
          2971,
          2972,
          2974,
          2975,
          2976,
          2978,
          2979,
          2980,
          2981,
          2983,
          2984,
          2985,
          2987,
          2988,
          2989,
          2990,
          2991,
          2993,
          2994,
          2995,
          2997,
          2998,
          2999,
          3000,
          3001,
          3003,
          3004,
          3005,
          3007,
          3008,
          3009,
          3010,
          3012,
          3013,
          3014,
          3016,
          3017,
          3018,
          3019,
          3021,
          3022,
          3023,
          3025,
          3026,
          3027,
          3028,
          3029,
          3031,
          3032,
          3033,
          3035,
          3036,
          3037,
          3038,
          3040,
          3041,
          3042,
          3044,
          3045,
          3046,
          3047,
          3049,
          3050,
          3051,
          3053,
          3054,
          3055,
          3056,
          3057,
          3059,
          3060,
          3061,
          3063,
          3064,
          3065,
          3066,
          3067,
          3069,
          3070,
          3071,
          3073,
          3074,
          3075,
          3076,
          3078,
          3079,
          3080,
          3082,
          3083,
          3084,
          3085,
          3087,
          3088,
          3089,
          3091,
          3092,
          3093,
          3094,
          3095,
          3097,
          3098,
          3099,
          3101,
          3102,
          3103,
          3104,
          3106,
          3107,
          3108,
          3110,
          3111,
          3112,
          3113,
          3115,
          3116,
          3117,
          3119,
          3120,
          3121,
          3122,
          3123,
          3125,
          3126,
          3127,
          3129,
          3130,
          3131,
          3132,
          3133,
          3135
         ],
         "y": [
          -622387.875,
          -685175.875,
          -733686.5,
          -775840.9375,
          -814890.125,
          -852500.25,
          -889674.25,
          -927069.4375,
          -965160.8125,
          -1002992.3125,
          -1039105.0625,
          -1056095.5,
          -1078280.625,
          -1109688.5,
          -1134176.375,
          -1139748.5,
          -1162108.625,
          -1180281.75,
          -1192912.5,
          -1204166.125,
          -1206901,
          -1221037.875,
          -1224117.25,
          -1227745.125,
          -1236362,
          -1250672.875,
          -1254701,
          -1260898,
          -1276377.625,
          -1282717.375,
          -1288881.875,
          -1295110.625,
          -1298532.875,
          -1304715.875,
          -1310642,
          -1314988.25,
          -1318536.375,
          -1320538.375,
          -1322435.25,
          -1333244.5,
          -1334448.25,
          -1342857.875,
          -1348504.5,
          -1354802.875,
          -1358729.375,
          -1359304,
          -1361738.125,
          -1367385.125,
          -1368545.875,
          -1375435.125,
          -1377143.5,
          -1379014.25,
          -1379424.5,
          -1381396.75,
          -1385173.5,
          -1386665.125,
          -1388052.625,
          -1389334.875,
          -1390294.5,
          -1391069.625,
          -1394883.125,
          -1397529.75,
          -1402481.125,
          -1403434.5,
          -1404404.375,
          -1404932.625,
          -1405364.75,
          -1408703.875,
          -1410031,
          -1414981.875,
          -1415619.375,
          -1416527.75,
          -1416605.125,
          -1417212.625,
          -1420173.25,
          -1421316.375,
          -1422535.5,
          -1422800.25,
          -1424181,
          -1425396.125,
          -1426049.75,
          -1427443.375,
          -1428332,
          -1429058.75,
          -1430037.25,
          -1430302.875,
          -1431335.625,
          -1432559.25,
          -1433250.75,
          -1434698.875,
          -1435446.625,
          -1436038.25,
          -1436813.875,
          -1437093.25,
          -1437845.75,
          -1439107,
          -1439906.75,
          -1441432.5,
          -1442067.625,
          -1442587.25,
          -1443193.375,
          -1443493.75,
          -1444005.75,
          -1445326.125,
          -1446325.375,
          -1447944.375,
          -1448481.875,
          -1448961.375,
          -1449420.25,
          -1449740,
          -1450041.75,
          -1450043.75,
          -1452020.5,
          -1453381.875,
          -1455941.375,
          -1456279.5,
          -1456772,
          -1456893.75,
          -1457286.375,
          -1458535.5,
          -1458917.375,
          -1460513.625,
          -1460923,
          -1461265.125,
          -1461590.5,
          -1461759.625,
          -1461906.125,
          -1463356.125,
          -1463849.75,
          -1465712.75,
          -1466036.875,
          -1466362.375,
          -1466562.625,
          -1466727.125,
          -1467904.25,
          -1468751.5,
          -1470353.875,
          -1470640.875,
          -1471033.375,
          -1471154.125,
          -1471506.125,
          -1472328.125,
          -1472686.625,
          -1473728.875,
          -1474068.375,
          -1474332.25,
          -1474635.125,
          -1474757.125,
          -1474967.625,
          -1475935.5,
          -1476298.25,
          -1477543.625,
          -1477827.25,
          -1478077.375,
          -1478288.75,
          -1478409.375,
          -1478472.875,
          -1479618.125,
          -1479935.25,
          -1481420.75,
          -1481645.5,
          -1481880.25,
          -1482002.375,
          -1482105,
          -1483056.125,
          -1483526.625,
          -1484854.875,
          -1485048,
          -1485350.875,
          -1485397.625,
          -1485670.125,
          -1486352.25,
          -1486494.125,
          -1487367.875,
          -1487627,
          -1487804,
          -1488035.75,
          -1488080,
          -1488236,
          -1489069.875,
          -1489145.125,
          -1490232.875,
          -1490444.75,
          -1490614.875,
          -1490766.25,
          -1490809.5,
          -1490830.75,
          -1491860.375,
          -1492258.875,
          -1492641,
          -1492670.25,
          -1493107.5,
          -1493452.5,
          -1493567,
          -1493993.75,
          -1494268.25,
          -1494443.75,
          -1494742.375,
          -1494764.75,
          -1495059.625,
          -1495526.25,
          -1495629.875,
          -1496252.125,
          -1496471.625,
          -1496634.75,
          -1496825.125,
          -1496909.75,
          -1497019.375,
          -1497656.125,
          -1497992.125,
          -1498886.5,
          -1499039.875,
          -1499262.375,
          -1499310.625,
          -1499517.875,
          -1499997,
          -1500138.5,
          -1500745.125,
          -1500944.125,
          -1501078.25,
          -1501265.25,
          -1501297.125,
          -1501443.5,
          -1502022,
          -1502092,
          -1502837,
          -1503010,
          -1503132.125,
          -1503273.625,
          -1503291.375,
          -1503360,
          -1504072,
          -1504344.625,
          -1504611.875,
          -1504666,
          -1504963.5,
          -1505228.125,
          -1505348.625,
          -1505683.75,
          -1505880.375,
          -1506026,
          -1506230.5,
          -1506286.625,
          -1506473,
          -1506836.125,
          -1507014.75,
          -1507511.5,
          -1507670.5,
          -1507821.125,
          -1507938.625,
          -1508058,
          -1508088.5,
          -1508141.375,
          -1508770.625,
          -1508786.375,
          -1509606.125,
          -1509729.25,
          -1509835.875,
          -1509910.125,
          -1509919.625,
          -1510509.75,
          -1510883.5,
          -1511758.5,
          -1511831.875,
          -1512047,
          -1512264.75,
          -1512409.125,
          -1512665.25,
          -1512830.5,
          -1512966.75,
          -1513157.875,
          -1513193.875,
          -1513411,
          -1513656.375,
          -1513752.75,
          -1514045,
          -1514213,
          -1514316.5,
          -1514510.75,
          -1514686.25,
          -1514849.625,
          -1515050.875,
          -1515082.5,
          -1515296.25,
          -1515529.75,
          -1515617.625,
          -1515927.375,
          -1516073.875,
          -1516182.625,
          -1516321.125,
          -1516377.5,
          -1516477.125,
          -1516819,
          -1517048,
          -1517535.25,
          -1517644.5,
          -1517785.125,
          -1517835.625,
          -1517963.875,
          -1518250,
          -1518420.5,
          -1518795.75,
          -1518918.125,
          -1519031.5,
          -1519128.875,
          -1519213.25,
          -1519258.125,
          -1519283.25,
          -1519758.5,
          -1519914.125,
          -1520531.25,
          -1520617.125,
          -1520742.25,
          -1520776.125,
          -1520874.5,
          -1521206.25,
          -1521356.875,
          -1521777,
          -1521884,
          -1521993.875,
          -1522070.375,
          -1522157.5,
          -1522176.75,
          -1522214,
          -1522676.375,
          -1522740,
          -1523319.75,
          -1523403,
          -1523508.625,
          -1523548.5,
          -1523618.75,
          -1523954.75,
          -1524136,
          -1524567.75,
          -1524661.375,
          -1524773.125,
          -1524827.125,
          -1524924.375,
          -1525169.125,
          -1525362.75,
          -1525666.875,
          -1525772.5,
          -1525869.75,
          -1525961,
          -1526031,
          -1526094.25,
          -1526108.875,
          -1526114.75,
          -1526595.5,
          -1526603.375,
          -1527215.125,
          -1527279.5,
          -1527376.125,
          -1527393.125,
          -1527451.625,
          -1527800.375,
          -1527880.625,
          -1528339,
          -1528416.125,
          -1528516,
          -1528550.375,
          -1528632.875,
          -1528894.625,
          -1529016.25,
          -1529346.875,
          -1529439.5,
          -1529522.625,
          -1529598.375,
          -1529650.75,
          -1529693.375,
          -1529988.25,
          -1530211.5,
          -1530584.375,
          -1530665.75,
          -1530757.625,
          -1530810.625,
          -1530880.25,
          -1530885.25,
          -1530900.875,
          -1531312.875,
          -1531314.75,
          -1531863.875,
          -1531914.875,
          -1532013.25,
          -1532178.875,
          -1532326.75,
          -1532533,
          -1532625.5,
          -1532707.625,
          -1532796,
          -1532851.875,
          -1532927.25,
          -1532935.125,
          -1532978.375,
          -1533312.5,
          -1533320.75,
          -1533754.25,
          -1533822.375,
          -1533893.875,
          -1533932.75,
          -1533968.625,
          -1534247.625,
          -1534432.875,
          -1534803.25,
          -1534869.25,
          -1534962.25,
          -1534988.25,
          -1535074.125,
          -1535272.375,
          -1535357.375,
          -1535609.375,
          -1535692.5,
          -1535760,
          -1535833.75,
          -1535871,
          -1535923.25,
          -1536155.25,
          -1536293.5,
          -1536591.875,
          -1536664.375,
          -1536738.5,
          -1536790.625,
          -1536842.5,
          -1536858,
          -1536859,
          -1537215.75,
          -1537262.625,
          -1537738.5,
          -1537779.625,
          -1537868,
          -1538008.25,
          -1538121.875,
          -1538297.375,
          -1538377.375,
          -1538447.125,
          -1538524.125,
          -1538568.875,
          -1538635.625,
          -1538636.375,
          -1538675.625,
          -1538968.625,
          -1539080.75,
          -1539191.875,
          -1539222.875,
          -1539349.875,
          -1539455.125,
          -1539516.5,
          -1539643.375,
          -1539728.25,
          -1539800.25,
          -1539894.125,
          -1539922.5,
          -1540019.375,
          -1540149.25,
          -1540227.375,
          -1540392.75,
          -1540469.375,
          -1540533,
          -1540607,
          -1540646.5,
          -1540706.875,
          -1540868.75,
          -1541022.125,
          -1541234.625,
          -1541303,
          -1541373,
          -1541423.375,
          -1541483.875,
          -1541501.5,
          -1541538.375,
          -1541778.375,
          -1541830.875,
          -1542144.75,
          -1542201,
          -1542262.125,
          -1542295.375,
          -1542332.375,
          -1542534,
          -1542686.5,
          -1542954,
          -1543010.75,
          -1543082.125,
          -1543111.25,
          -1543175.375,
          -1543328,
          -1543422.125,
          -1543618.125,
          -1543683.875,
          -1543741.875,
          -1543798.5,
          -1543836.125,
          -1543873.125,
          -1544055,
          -1544211.5,
          -1544447.375,
          -1544505.5,
          -1544569,
          -1544608.375,
          -1544657.5,
          -1544664.5,
          -1544679,
          -1544949.375,
          -1544966.5,
          -1545326.25,
          -1545364.5,
          -1545429.5,
          -1545431.5,
          -1545482,
          -1545687,
          -1545693.125,
          -1545961.875,
          -1546016.75,
          -1546064.25,
          -1546102.875,
          -1546123.75,
          -1546130.125,
          -1546382.875,
          -1546443.5,
          -1546777.125,
          -1546816.75,
          -1546877.625,
          -1546887.25,
          -1546929.75,
          -1547122,
          -1547164.375,
          -1547419.5,
          -1547468.625,
          -1547523.375,
          -1547550.5,
          -1547590.5,
          -1547753.25,
          -1547853.375,
          -1548065.625,
          -1548118.5,
          -1548173.25,
          -1548210.25,
          -1548249.875,
          -1548259.25,
          -1548263.625,
          -1548519.75,
          -1548545.625,
          -1548884.75,
          -1548916.375,
          -1548977.375,
          -1549082.75,
          -1549174.5,
          -1549308.5,
          -1549366.375,
          -1549418,
          -1549471.875,
          -1549507.375,
          -1549550.375,
          -1549556.25,
          -1549574.5,
          -1549801.5,
          -1549893.125,
          -1549980,
          -1549999.375,
          -1550100.875,
          -1550176.75,
          -1550216.75,
          -1550306.5,
          -1550372.375,
          -1550426.5,
          -1550501.625,
          -1550515.875,
          -1550596.75,
          -1550691.25,
          -1550733.375,
          -1550851.875,
          -1550911.25,
          -1550955.5,
          -1551016.5,
          -1551035.75,
          -1551091.25,
          -1551210.25,
          -1551276.25,
          -1551430.875,
          -1551483.125,
          -1551529.5,
          -1551572.75,
          -1551605.375,
          -1551629.125,
          -1551634.625,
          -1551838.375,
          -1551928.875,
          -1552198.125,
          -1552232.375,
          -1552286.75,
          -1552295.5,
          -1552337.25,
          -1552488.625,
          -1552527.125,
          -1552726.875,
          -1552771.125,
          -1552815.5,
          -1552844.125,
          -1552875.125,
          -1553008.875,
          -1553126.5,
          -1553302,
          -1553346.75,
          -1553395.5,
          -1553425.75,
          -1553464.5,
          -1553469.875,
          -1553483.75,
          -1553685.25,
          -1553700.5,
          -1553967,
          -1553998,
          -1554045.875,
          -1554050.875,
          -1554086.625,
          -1554243.375,
          -1554257.25,
          -1554463.75,
          -1554504.75,
          -1554543.375,
          -1554570.375,
          -1554590.875,
          -1554591.25,
          -1554786.125,
          -1554860.375,
          -1555119,
          -1555147.75,
          -1555198.125,
          -1555201.375,
          -1555239.875,
          -1555383.25,
          -1555403.125,
          -1555592.125,
          -1555632.25,
          -1555670.75,
          -1555696.25,
          -1555720.375,
          -1555849.75,
          -1555959.125,
          -1556129.25,
          -1556168.5,
          -1556213.75,
          -1556237.75,
          -1556274.5,
          -1556377.75,
          -1556471.875,
          -1556607,
          -1556649.25,
          -1556692.375,
          -1556723.625,
          -1556759.5,
          -1556770.5,
          -1556789.125,
          -1556947.5,
          -1556980.25,
          -1557190.125,
          -1557222.75,
          -1557263.5,
          -1557278.5,
          -1557305.875,
          -1557435.375,
          -1557496.75,
          -1557667.25,
          -1557703.5,
          -1557744.5,
          -1557765.375,
          -1557797.875,
          -1557905,
          -1557981.75,
          -1558121.875,
          -1558161,
          -1558200.625,
          -1558229.625,
          -1558259.375,
          -1558270,
          -1558277.375,
          -1558447.25,
          -1558487.25,
          -1558711.125,
          -1558737,
          -1558780.25,
          -1558783.25,
          -1558817.75,
          -1558945.75,
          -1558956.75,
          -1559125.25,
          -1559161.25,
          -1559193.75,
          -1559219.25,
          -1559235.875,
          -1559240,
          -1559400.5,
          -1559459.875,
          -1559673.375,
          -1559699.125,
          -1559742,
          -1559746.875,
          -1559779.875,
          -1559900,
          -1559923.125,
          -1560080.75,
          -1560115.625,
          -1560148.875,
          -1560172.125,
          -1560193.25,
          -1560193.625,
          -1560346.875,
          -1560461,
          -1560661.625,
          -1560686.125,
          -1560731,
          -1560732.875,
          -1560773.125,
          -1560879.875,
          -1560891.625,
          -1561031.25,
          -1561068.25,
          -1561096.875,
          -1561127.25,
          -1561139.375,
          -1561154.375,
          -1561288.75,
          -1561331.625,
          -1561510.25,
          -1561538.5,
          -1561575.5,
          -1561587.875,
          -1561615,
          -1561722.375,
          -1561771.5,
          -1561912.5,
          -1561945.375,
          -1561979.875,
          -1562001.125,
          -1562026.875,
          -1562119.25,
          -1562204.75,
          -1562325.875,
          -1562360.375,
          -1562396.375,
          -1562420.5,
          -1562449.875,
          -1562457,
          -1562469.375,
          -1562609.875,
          -1562635.375,
          -1562820.375,
          -1562845.625,
          -1562881,
          -1562888.375,
          -1562915,
          -1563026,
          -1563051.375,
          -1563198.375,
          -1563229.375,
          -1563260.5,
          -1563280.625,
          -1563300.375,
          -1563398.875,
          -1563493.25,
          -1563622.5,
          -1563653.625,
          -1563690.125,
          -1563708.625,
          -1563740.25,
          -1563817.75,
          -1563881.375,
          -1563982.25,
          -1564016.5,
          -1564049,
          -1564077,
          -1564101.625,
          -1564117.375,
          -1564124.625,
          -1564251.625,
          -1564326.25,
          -1564492.625,
          -1564516.875,
          -1564554.125,
          -1564561,
          -1564593,
          -1564686.375,
          -1564710.75,
          -1564833.625,
          -1564865.75,
          -1564894,
          -1564918.75,
          -1564935.125,
          -1564945,
          -1565062.5,
          -1565132.25,
          -1565289.375,
          -1565314.375,
          -1565350.125,
          -1565359.625,
          -1565389.25,
          -1565478.25,
          -1565514.5,
          -1565630.875,
          -1565661.75,
          -1565691,
          -1565714.25,
          -1565734,
          -1565741.25,
          -1565741.375,
          -1565890.75,
          -1565903,
          -1566103.25,
          -1566121.375,
          -1566156.25,
          -1566218,
          -1566272.875,
          -1566352.25,
          -1566385.25,
          -1566415.75,
          -1566445.5,
          -1566468,
          -1566489.625,
          -1566497,
          -1566499.875,
          -1566639,
          -1566664.5,
          -1566846.875,
          -1566866.125,
          -1566899.625,
          -1566900.5,
          -1566926.375,
          -1567031.125,
          -1567035.625,
          -1567174.625,
          -1567201.875,
          -1567227.625,
          -1567245.625,
          -1567259.375,
          -1567355.625,
          -1567443.25,
          -1567568.75,
          -1567595.25,
          -1567628.5,
          -1567642.125,
          -1567671,
          -1567744.5,
          -1567790.875,
          -1567887,
          -1567917.375,
          -1567945.875,
          -1567970.25,
          -1567990.5,
          -1568003.125,
          -1568006.625,
          -1568129.625,
          -1568185.625,
          -1568346.875,
          -1568367,
          -1568400.625,
          -1568403.75,
          -1568431.625,
          -1568522.125,
          -1568535.5,
          -1568655.125,
          -1568682.875,
          -1568707.875,
          -1568728.375,
          -1568742.125,
          -1568747.375,
          -1568862.25,
          -1568919.5,
          -1569073.25,
          -1569094,
          -1569127.375,
          -1569132,
          -1569159.75,
          -1569244.75,
          -1569265.375,
          -1569376,
          -1569404.25,
          -1569429,
          -1569449.875,
          -1569464.625,
          -1569471.125,
          -1569578.5,
          -1569648.75,
          -1569789.25,
          -1569810.875,
          -1569843,
          -1569849.875,
          -1569877.125,
          -1569956.75,
          -1569981.5,
          -1570086.875,
          -1570114.375,
          -1570139.375,
          -1570160.625,
          -1570176.25,
          -1570184,
          -1570284.625,
          -1570358,
          -1570492.625,
          -1570514.625,
          -1570546.875,
          -1570554.5,
          -1570582.375,
          -1570656.625,
          -1570686.125,
          -1570782.375,
          -1570810.375,
          -1570834.875,
          -1570857.125,
          -1570872.625,
          -1570883.125,
          -1570976.375,
          -1571051.75,
          -1571173.875,
          -1571196.625,
          -1571227,
          -1571237.625,
          -1571263.625,
          -1571334.5,
          -1571370.75,
          -1571463.875,
          -1571491,
          -1571516.625,
          -1571537.75,
          -1571555.625,
          -1571564.75,
          -1571566.5,
          -1571685.875,
          -1571722.5,
          -1571878.25,
          -1571895.75,
          -1571925.75,
          -1571926.875,
          -1571950.875,
          -1572039.375,
          -1572045.875,
          -1572163.375,
          -1572187.875,
          -1572210.75,
          -1572227.25,
          -1572239.875,
          -1572240.625,
          -1572353.5,
          -1572405.625,
          -1572557.875,
          -1572574.625,
          -1572606.625,
          -1572607.25,
          -1572634.375,
          -1572715.25,
          -1572723.625,
          -1572829,
          -1572855.125,
          -1572875.875,
          -1572895.75,
          -1572905.75,
          -1572912.625,
          -1573015.625,
          -1573057,
          -1573191.5,
          -1573210.75,
          -1573238.75,
          -1573244.875,
          -1573267,
          -1573346,
          -1573368,
          -1573472.625,
          -1573496.625,
          -1573520.5,
          -1573537,
          -1573552.875,
          -1573554.875,
          -1573654.875,
          -1573736.125,
          -1573870.75,
          -1573888.75,
          -1573920.5,
          -1573923.375,
          -1573951.75,
          -1574021.875,
          -1574036.75,
          -1574127.75,
          -1574153.875,
          -1574174.5,
          -1574196.125,
          -1574206.375,
          -1574217.625,
          -1574306.25,
          -1574349,
          -1574465,
          -1574485.75,
          -1574511.75,
          -1574521.875,
          -1574541.875,
          -1574612.75,
          -1574650.375,
          -1574744.375,
          -1574767.875,
          -1574792.5,
          -1574808.75,
          -1574827.375,
          -1574830.125,
          -1574834.75,
          -1574947.875,
          -1574952.75,
          -1575101.125,
          -1575117,
          -1575142,
          -1575144.25,
          -1575161.125,
          -1575249.875,
          -1575256.625,
          -1575375.375,
          -1575396.125,
          -1575418.75,
          -1575429.625,
          -1575444.25,
          -1575521.25,
          -1575566.875,
          -1575667.25,
          -1575689.125,
          -1575713.875,
          -1575727,
          -1575745.875,
          -1575809.125,
          -1575860,
          -1575944,
          -1575967.5,
          -1575992.375,
          -1576008.875,
          -1576029,
          -1576033.125,
          -1576042.125,
          -1576139.875,
          -1576153.25,
          -1576281,
          -1576298.875,
          -1576322.5,
          -1576328.75,
          -1576344.75,
          -1576423.75,
          -1576446.875,
          -1576552.5,
          -1576573.125,
          -1576596.375,
          -1576607.75,
          -1576624.75,
          -1576691.625,
          -1576737.75,
          -1576824.375,
          -1576847,
          -1576870.375,
          -1576886,
          -1576903.75,
          -1576906.5,
          -1576911.75,
          -1577016,
          -1577017.875,
          -1577158.625,
          -1577173.125,
          -1577198,
          -1577199.125,
          -1577217.125,
          -1577298.125,
          -1577304.625,
          -1577410.25,
          -1577430.875,
          -1577450.375,
          -1577463.75,
          -1577474,
          -1577547.375,
          -1577609.125,
          -1577707.625,
          -1577727,
          -1577753.125,
          -1577762.375,
          -1577785.125,
          -1577840.75,
          -1577872.75,
          -1577944.625,
          -1577967.75,
          -1577988.75,
          -1578008.25,
          -1578022.125,
          -1578033.25,
          -1578033.375,
          -1578128.875,
          -1578178.375,
          -1578307.875,
          -1578321.75,
          -1578349.625,
          -1578387.5,
          -1578423.25,
          -1578471,
          -1578495.25,
          -1578517.375,
          -1578541.25,
          -1578556.125,
          -1578577.5,
          -1578580.375,
          -1578593.375,
          -1578675.875,
          -1578686.625,
          -1578794.125,
          -1578812.625,
          -1578832.625,
          -1578842.5,
          -1578854.75,
          -1578925.125,
          -1578965.25,
          -1579059.75,
          -1579078.75,
          -1579102.125,
          -1579111.875,
          -1579131,
          -1579187.375,
          -1579223,
          -1579295.625,
          -1579317.25,
          -1579337.75,
          -1579354.625,
          -1579369.25,
          -1579377.25,
          -1579379.25,
          -1579471.75,
          -1579499.75,
          -1579625.125,
          -1579638.75,
          -1579663.875,
          -1579701.875,
          -1579738.125,
          -1579786,
          -1579809.25,
          -1579830,
          -1579852.375,
          -1579867,
          -1579885.75,
          -1579889.375,
          -1579899.375,
          -1579981.875,
          -1579993.875,
          -1580101.375,
          -1580118,
          -1580138,
          -1580145.5,
          -1580158.375,
          -1580226.75,
          -1580256.25,
          -1580348.25,
          -1580366.25,
          -1580388,
          -1580397.375,
          -1580414.5,
          -1580470.375,
          -1580506,
          -1580578.375,
          -1580598.75,
          -1580618.625,
          -1580634.125,
          -1580648.375,
          -1580654.125,
          -1580656.25,
          -1580747.125,
          -1580764.375,
          -1580887.25,
          -1580899.75,
          -1580923.75,
          -1580961.375,
          -1580996.125,
          -1581043.5,
          -1581065.625,
          -1581085.5,
          -1581106.625,
          -1581120.25,
          -1581137.75,
          -1581140.75,
          -1581149,
          -1581230.875,
          -1581240.375,
          -1581347.25,
          -1581362.75,
          -1581381.75,
          -1581388,
          -1581400.25,
          -1581467.75,
          -1581491.375,
          -1581582.125,
          -1581598.75,
          -1581619.25,
          -1581627.875,
          -1581643.875,
          -1581699.125,
          -1581731.625,
          -1581803.125,
          -1581822.25,
          -1581841.125,
          -1581855.375,
          -1581868.75,
          -1581873.5,
          -1581874.75,
          -1581964.75,
          -1581976.875,
          -1582098.75,
          -1582110,
          -1582133,
          -1582169.875,
          -1582201.5,
          -1582248.125,
          -1582269.25,
          -1582288,
          -1582307.875,
          -1582320.875,
          -1582337.25,
          -1582339,
          -1582347.125,
          -1582427.75,
          -1582432.125,
          -1582537.375,
          -1582551.875,
          -1582569.875,
          -1582575.625,
          -1582586.375,
          -1582653.25,
          -1582674.75,
          -1582764.75,
          -1582780.125,
          -1582800,
          -1582807.375,
          -1582823.125,
          -1582877.125,
          -1582904,
          -1582974.125,
          -1582992.625,
          -1583010.125,
          -1583023.875,
          -1583035.875,
          -1583040.625,
          -1583107.125,
          -1583168.625,
          -1583255.125,
          -1583270.25,
          -1583291.5,
          -1583298,
          -1583315.875,
          -1583365.375,
          -1583389.125,
          -1583454.875,
          -1583473.125,
          -1583490.875,
          -1583504.5,
          -1583517.5,
          -1583522,
          -1583524.5,
          -1583606.875,
          -1583620.875,
          -1583728.375,
          -1583740.5,
          -1583759.625,
          -1583762.125,
          -1583775.125,
          -1583839,
          -1583847.75,
          -1583933.375,
          -1583949.125,
          -1583966.375,
          -1583974.75,
          -1583986.875,
          -1584042,
          -1584075,
          -1584146.5,
          -1584163.25,
          -1584181.125,
          -1584192.75,
          -1584205.625,
          -1584206.75,
          -1584209,
          -1584295.25,
          -1584328.25,
          -1584361.25,
          -1584364.75,
          -1584405,
          -1584430.375,
          -1584441.875,
          -1584470.625,
          -1584495.5,
          -1584515.25,
          -1584545.75,
          -1584566.375,
          -1584586.125,
          -1584608.625,
          -1584618.875,
          -1584641.75,
          -1584672.625,
          -1584698,
          -1584737.375,
          -1584757,
          -1584774.25,
          -1584793.125,
          -1584804.875,
          -1584821,
          -1584823.75,
          -1584831.875,
          -1584901.25,
          -1584908.875,
          -1585002.75,
          -1585015.625,
          -1585033.875,
          -1585038.25,
          -1585051.875,
          -1585107.5,
          -1585123,
          -1585195.125,
          -1585211.375,
          -1585226.75,
          -1585238.5,
          -1585247.5,
          -1585249.875,
          -1585318.75,
          -1585361.5,
          -1585450.5,
          -1585463.5,
          -1585482.375,
          -1585486.5,
          -1585501.5,
          -1585553,
          -1585568.25,
          -1585636.75,
          -1585652.75,
          -1585668.875,
          -1585679.625,
          -1585691.375,
          -1585691.875,
          -1585692.75,
          -1585777.625,
          -1585808.375,
          -1585839.375,
          -1585841.25,
          -1585878.125,
          -1585903.75,
          -1585913.5,
          -1585943.625,
          -1585966.75,
          -1585982.75,
          -1586009.125,
          -1586009.875,
          -1586039,
          -1586072,
          -1586080,
          -1586121.875,
          -1586142.375,
          -1586154.875,
          -1586176.25,
          -1586179.25,
          -1586198.875,
          -1586241.875,
          -1586254,
          -1586310.25,
          -1586327.5,
          -1586342,
          -1586356.25,
          -1586364.75,
          -1586372.25,
          -1586427.5,
          -1586466.625,
          -1586541.5,
          -1586555.25,
          -1586574.5,
          -1586580,
          -1586597.25,
          -1586638.75,
          -1586657.5,
          -1586710.5,
          -1586727.75,
          -1586741.75,
          -1586756.75,
          -1586764.875,
          -1586774.5,
          -1586825.125,
          -1586858.25,
          -1586923.625,
          -1586938.625,
          -1586954.75,
          -1586964.5,
          -1586976.375,
          -1586976.875,
          -1586978.625,
          -1587057.25,
          -1587086,
          -1587116,
          -1587118.375,
          -1587154.875,
          -1587178,
          -1587188,
          -1587213.5,
          -1587236.5,
          -1587253.875,
          -1587281.75,
          -1587300.25,
          -1587317.375,
          -1587337.5,
          -1587346.625,
          -1587366.75,
          -1587395.125,
          -1587418.75,
          -1587455.125,
          -1587472.5,
          -1587488.125,
          -1587504.375,
          -1587515.75,
          -1587528.875,
          -1587532.5,
          -1587537.875,
          -1587601.875,
          -1587613.375,
          -1587700.625,
          -1587711.375,
          -1587729.125,
          -1587730.875,
          -1587745.375,
          -1587794.5,
          -1587802.375,
          -1587865.5,
          -1587881,
          -1587893.375,
          -1587905.25,
          -1587910.875,
          -1587915.875,
          -1587976.375,
          -1587997.375,
          -1588075.75,
          -1588088,
          -1588103.375,
          -1588108.875,
          -1588119.375,
          -1588167.875,
          -1588189.75,
          -1588255.375,
          -1588268.875,
          -1588285.125,
          -1588292.25,
          -1588305.75,
          -1588345.5,
          -1588371,
          -1588421.5,
          -1588437.125,
          -1588451.375,
          -1588464,
          -1588473.375,
          -1588480.25,
          -1588528,
          -1588571.5,
          -1588633.125,
          -1588646.5,
          -1588662.375,
          -1588670.75,
          -1588683,
          -1588721.125,
          -1588755,
          -1588806.25,
          -1588821,
          -1588837,
          -1588847,
          -1588860.875,
          -1588862.375,
          -1588870.875,
          -1588928.375,
          -1588932.25,
          -1589006.375,
          -1589018.875,
          -1589031.5,
          -1589039,
          -1589045.25,
          -1589095.625,
          -1589131,
          -1589199.875,
          -1589211.875,
          -1589229.25,
          -1589233.125,
          -1589249.75,
          -1589286.625,
          -1589300.375,
          -1589347.25,
          -1589363,
          -1589374.875,
          -1589389.25,
          -1589394.875,
          -1589405.125,
          -1589450,
          -1589471.25,
          -1589528.5,
          -1589542.375,
          -1589555.625,
          -1589565.75,
          -1589574,
          -1589576.75,
          -1589631.25,
          -1589671.625,
          -1589741,
          -1589752.5,
          -1589768.125,
          -1589773,
          -1589784.625,
          -1589826,
          -1589845.75,
          -1589901.75,
          -1589914.875,
          -1589929.375,
          -1589937.75,
          -1589949.5,
          -1589984.5,
          -1590015.375,
          -1590060,
          -1590074.75,
          -1590088.25,
          -1590100,
          -1590109.75,
          -1590116.625,
          -1590118.125,
          -1590175.5,
          -1590209.5,
          -1590288.875,
          -1590297.625,
          -1590316.375,
          -1590339,
          -1590359,
          -1590386.5,
          -1590402.125,
          -1590416.125,
          -1590432.625,
          -1590440.875,
          -1590457,
          -1590483.125,
          -1590506.75,
          -1590539.5,
          -1590554.5,
          -1590568,
          -1590582.625,
          -1590591.375,
          -1590604.125,
          -1590634.875,
          -1590664.375,
          -1590703.375,
          -1590717.875,
          -1590731,
          -1590743.625,
          -1590753.125,
          -1590762.25,
          -1590763.5,
          -1590764.5,
          -1590830.75,
          -1590856.125,
          -1590880.5,
          -1590883.125,
          -1590911.75,
          -1590932.25,
          -1590940.75,
          -1590965,
          -1590983,
          -1590996,
          -1591016.5,
          -1591018.375,
          -1591040.125,
          -1591066.875,
          -1591075.125,
          -1591109.5,
          -1591125.25,
          -1591136.25,
          -1591151.75,
          -1591156.5,
          -1591169.75,
          -1591204.75,
          -1591221.75,
          -1591268.875,
          -1591281.75,
          -1591294.875,
          -1591304.5,
          -1591314.875,
          -1591317.25,
          -1591321,
          -1591378.25,
          -1591383.25,
          -1591457,
          -1591467.125,
          -1591479,
          -1591483.375,
          -1591489.75,
          -1591537.125,
          -1591554.625,
          -1591619.625,
          -1591629.625,
          -1591644.625,
          -1591647.875,
          -1591661.25,
          -1591697.25,
          -1591708.5,
          -1591754.5,
          -1591768.125,
          -1591778.625,
          -1591790.5,
          -1591795.25,
          -1591803,
          -1591846.5,
          -1591864.125,
          -1591920.25,
          -1591932.125,
          -1591944.125,
          -1591952,
          -1591959.125,
          -1591959.5,
          -1592012.375,
          -1592046.125,
          -1592113.5,
          -1592122.875,
          -1592136.875,
          -1592140,
          -1592150.25,
          -1592190.125,
          -1592203.25,
          -1592257,
          -1592268.375,
          -1592281.5,
          -1592287.875,
          -1592298.375,
          -1592332.25,
          -1592355.125,
          -1592397.875,
          -1592410.625,
          -1592422.375,
          -1592432.875,
          -1592440.5,
          -1592446.25,
          -1592486.25,
          -1592521,
          -1592571.875,
          -1592583.375,
          -1592596,
          -1592603.375,
          -1592612.875,
          -1592613.25,
          -1592615,
          -1592675.25,
          -1592697.875,
          -1592721,
          -1592723,
          -1592751.875,
          -1592769.25,
          -1592776.875,
          -1592796.5,
          -1592814.25,
          -1592828.625,
          -1592850.875,
          -1592864.875,
          -1592878.25,
          -1592893,
          -1592900.75,
          -1592915.25,
          -1592915.5,
          -1592926.875,
          -1592967.125,
          -1592970.625,
          -1593025.25,
          -1593036.375,
          -1593047.625,
          -1593054.125,
          -1593061.875,
          -1593098.125,
          -1593124.625,
          -1593170.875,
          -1593182.375,
          -1593194.375,
          -1593202.75,
          -1593211.125,
          -1593213.625,
          -1593213.875,
          -1593271.125,
          -1593278,
          -1593357,
          -1593362.875,
          -1593378.625,
          -1593401.125,
          -1593417,
          -1593444.875,
          -1593458.375,
          -1593469.375,
          -1593483.25,
          -1593489.375,
          -1593502.125,
          -1593528.625,
          -1593548,
          -1593581.375,
          -1593594.375,
          -1593605,
          -1593617.125,
          -1593623.75,
          -1593633.125,
          -1593664.625,
          -1593690.5,
          -1593730.75,
          -1593742.625,
          -1593754,
          -1593763.75,
          -1593771.75,
          -1593776.5,
          -1593777.25,
          -1593828,
          -1593849.5,
          -1593919.5,
          -1593926.625,
          -1593942.25,
          -1593961.875,
          -1593978.625,
          -1594003,
          -1594016.125,
          -1594027.875,
          -1594041.625,
          -1594048.125,
          -1594061.5,
          -1594084.75,
          -1594104.375,
          -1594133.375,
          -1594146.25,
          -1594157.125,
          -1594169.5,
          -1594176.375,
          -1594187,
          -1594214.25,
          -1594239.625,
          -1594274.625,
          -1594286.5,
          -1594297.75,
          -1594308.125,
          -1594316.125,
          -1594322.625,
          -1594324,
          -1594369,
          -1594406,
          -1594468.375,
          -1594476.25,
          -1594491.875,
          -1594509.625,
          -1594526.25,
          -1594548,
          -1594560.875,
          -1594573,
          -1594586.75,
          -1594594,
          -1594607.5,
          -1594628,
          -1594647.625,
          -1594673.125,
          -1594685.75,
          -1594697.125,
          -1594709.5,
          -1594717,
          -1594728.25,
          -1594728.625,
          -1594736.375,
          -1594779.5,
          -1594781,
          -1594836.75,
          -1594846.625,
          -1594856,
          -1594862.5,
          -1594866.625,
          -1594905.625,
          -1594938.5,
          -1594992,
          -1595000.875,
          -1595015.25,
          -1595017.625,
          -1595031.25,
          -1595059.125,
          -1595068.375,
          -1595103.625,
          -1595116,
          -1595125,
          -1595136.75,
          -1595140.375,
          -1595149.5,
          -1595183.125,
          -1595197.125,
          -1595240.625,
          -1595251.5,
          -1595261.5,
          -1595269.75,
          -1595275.875,
          -1595279,
          -1595320,
          -1595347.125,
          -1595400.125,
          -1595409.25,
          -1595421,
          -1595425.375,
          -1595434.375,
          -1595466.25,
          -1595483.5,
          -1595526.5,
          -1595536.875,
          -1595548.5,
          -1595555.125,
          -1595564.5,
          -1595591.5,
          -1595615.125,
          -1595649.5,
          -1595661,
          -1595671.75,
          -1595681.125,
          -1595688.875,
          -1595694.25,
          -1595695.75,
          -1595739.75,
          -1595767.125,
          -1595827.5,
          -1595834.625,
          -1595849.25,
          -1595866.625,
          -1595883.375,
          -1595904.875,
          -1595917.125,
          -1595928.375,
          -1595940.75,
          -1595947.875,
          -1595960,
          -1595960.375,
          -1595970.375,
          -1596006.625,
          -1596009.25,
          -1596056.125,
          -1596066.5,
          -1596074.875,
          -1596083.125,
          -1596086.25,
          -1596088.875,
          -1596133.875,
          -1596145.125,
          -1596203.5,
          -1596211.375,
          -1596222.25,
          -1596225.375,
          -1596232.5,
          -1596268.375,
          -1596280,
          -1596328.625,
          -1596337.875,
          -1596349,
          -1596353.375,
          -1596362.75,
          -1596391.875,
          -1596408.125,
          -1596445.625,
          -1596456.625,
          -1596466.375,
          -1596474.875,
          -1596481.125,
          -1596485.25,
          -1596520.75,
          -1596549.75,
          -1596595.875,
          -1596605,
          -1596616.5,
          -1596621.5,
          -1596630.125,
          -1596658.25,
          -1596678.25,
          -1596715.75,
          -1596726,
          -1596737,
          -1596743.875,
          -1596753.125,
          -1596753.75,
          -1596758.875,
          -1596802,
          -1596803.25,
          -1596859,
          -1596867.25,
          -1596876.625,
          -1596880.875,
          -1596885.5,
          -1596922.25,
          -1596939.875,
          -1596989.625,
          -1596998.125,
          -1597010.25,
          -1597012.875,
          -1597023.5,
          -1597051.375,
          -1597061.625,
          -1597097.375,
          -1597108.125,
          -1597116.875,
          -1597126,
          -1597130.5,
          -1597135.875,
          -1597170.25,
          -1597188.625,
          -1597233,
          -1597242,
          -1597252.125,
          -1597257.75,
          -1597265,
          -1597293.25,
          -1597317.75,
          -1597356.125,
          -1597365.625,
          -1597377,
          -1597382.75,
          -1597392.875,
          -1597415.75,
          -1597435.125,
          -1597463.75,
          -1597474.5,
          -1597484.5,
          -1597493.75,
          -1597500.375,
          -1597507.25,
          -1597508,
          -1597508.375,
          -1597558.375,
          -1597577.25,
          -1597595.875,
          -1597597.25,
          -1597619.125,
          -1597634.125,
          -1597640.25,
          -1597657.875,
          -1597671.625,
          -1597681.5,
          -1597697.125,
          -1597697.875,
          -1597715.125,
          -1597734.625,
          -1597740.125,
          -1597764.75,
          -1597777,
          -1597784.75,
          -1597797.375,
          -1597799.625,
          -1597810.875,
          -1597836.25,
          -1597845.375,
          -1597879.125,
          -1597889.25,
          -1597898.25,
          -1597906.375,
          -1597912.5,
          -1597916.125,
          -1597949.125,
          -1597979.75,
          -1598024.75,
          -1598033,
          -1598045.25,
          -1598048.125,
          -1598059.5,
          -1598083.25,
          -1598093.125,
          -1598123.25,
          -1598133.875,
          -1598142.375,
          -1598152,
          -1598156.125,
          -1598163.75,
          -1598192.5,
          -1598208,
          -1598245.125,
          -1598254.75,
          -1598263.875,
          -1598270.875,
          -1598276.875,
          -1598279.5,
          -1598314.625,
          -1598345,
          -1598390.25,
          -1598398.375,
          -1598409.125,
          -1598412.75,
          -1598421.625,
          -1598447.875,
          -1598461.75,
          -1598497.375,
          -1598506.75,
          -1598516.5,
          -1598522.75,
          -1598530.5,
          -1598531.375,
          -1598534.375,
          -1598576.875,
          -1598577.875,
          -1598633.25,
          -1598640.375,
          -1598649.375,
          -1598651.875,
          -1598656.75,
          -1598691.75,
          -1598701.75,
          -1598749.125,
          -1598756.5,
          -1598767.25,
          -1598769.875,
          -1598778.25,
          -1598806.25,
          -1598815.875,
          -1598851.5,
          -1598861,
          -1598869.25,
          -1598876.875,
          -1598881.375,
          -1598885,
          -1598918.875,
          -1598938.25,
          -1598982.125,
          -1598990.25,
          -1598999.75,
          -1599004,
          -1599011.375,
          -1599038.25,
          -1599055.125,
          -1599091.5,
          -1599100.25,
          -1599110.5,
          -1599115.75,
          -1599124.25,
          -1599146.75,
          -1599166,
          -1599194.5,
          -1599204.375,
          -1599213.625,
          -1599221.75,
          -1599228.25,
          -1599233.25,
          -1599234.25,
          -1599271.375,
          -1599297,
          -1599347.625,
          -1599353.75,
          -1599366.125,
          -1599366.25,
          -1599377.875,
          -1599403.375,
          -1599406.25,
          -1599438.625,
          -1599449,
          -1599455.25,
          -1599464.875,
          -1599466.5,
          -1599473.375,
          -1599505,
          -1599511,
          -1599551.625,
          -1599560.125,
          -1599568,
          -1599574.125,
          -1599578.25,
          -1599579.125,
          -1599617.625,
          -1599635,
          -1599685.375,
          -1599691.625,
          -1599701.625,
          -1599703.375,
          -1599710.625,
          -1599740.125,
          -1599747.5,
          -1599786.75,
          -1599795,
          -1599803.75,
          -1599808.5,
          -1599815.25,
          -1599840.625,
          -1599859.25,
          -1599891.5,
          -1599900.625,
          -1599909.25,
          -1599915.875,
          -1599922.25,
          -1599924.75,
          -1599925.375,
          -1599965.875,
          -1599975,
          -1600030.75,
          -1600035.875,
          -1600047.25,
          -1600063.5,
          -1600076.625,
          -1600096.625,
          -1600106.875,
          -1600115.375,
          -1600125.25,
          -1600130.75,
          -1600139.625,
          -1600159.125,
          -1600176.125,
          -1600200.5,
          -1600210,
          -1600218.625,
          -1600227.25,
          -1600233.125,
          -1600239.625,
          -1600240.25,
          -1600241.625,
          -1600283.5,
          -1600299.75,
          -1600315,
          -1600317.25,
          -1600335.75,
          -1600349,
          -1600354.875,
          -1600370.5,
          -1600382.25,
          -1600391,
          -1600404.375,
          -1600405.75,
          -1600419.875,
          -1600437,
          -1600443,
          -1600464.75,
          -1600475.125,
          -1600482.5,
          -1600492.875,
          -1600495.875,
          -1600505.125,
          -1600527.375,
          -1600538.125,
          -1600567.5,
          -1600576.5,
          -1600584.875,
          -1600591.625,
          -1600597.75,
          -1600600.25,
          -1600602,
          -1600639.375,
          -1600648.625,
          -1600696.75,
          -1600703.25,
          -1600712,
          -1600714,
          -1600720,
          -1600749.5,
          -1600757.75,
          -1600797.25,
          -1600804.875,
          -1600813.875,
          -1600817.5,
          -1600824.625,
          -1600849.125,
          -1600862,
          -1600892.875,
          -1600901.5,
          -1600909.625,
          -1600916.25,
          -1600921.375,
          -1600924.5,
          -1600953.875,
          -1600977.375,
          -1601015.5,
          -1601022.625,
          -1601032,
          -1601036,
          -1601043,
          -1601066.125,
          -1601082,
          -1601113,
          -1601121.375,
          -1601130.375,
          -1601135.875,
          -1601143.625,
          -1601143.875,
          -1601147.875,
          -1601183.25,
          -1601197.5,
          -1601210.875,
          -1601214.625,
          -1601230.125,
          -1601242.75,
          -1601250,
          -1601265.375,
          -1601275.625,
          -1601284.25,
          -1601295.875,
          -1601299.125,
          -1601311.125,
          -1601327.125,
          -1601335.875,
          -1601356.5,
          -1601366.125,
          -1601373.875,
          -1601383,
          -1601387.75,
          -1601395.25,
          -1601415.875,
          -1601434.125,
          -1601461.375,
          -1601469.75,
          -1601478.75,
          -1601484.75,
          -1601492.5,
          -1601494.125,
          -1601498.875,
          -1601530.25,
          -1601535.875,
          -1601576.25,
          -1601583.5,
          -1601591.125,
          -1601595.5,
          -1601599.75,
          -1601626.75,
          -1601646.375,
          -1601683.125,
          -1601690.25,
          -1601700,
          -1601702.875,
          -1601712.125,
          -1601732.375,
          -1601742.375,
          -1601768,
          -1601777,
          -1601784.375,
          -1601792.25,
          -1601796.25,
          -1601801.875,
          -1601826.5,
          -1601842,
          -1601873.875,
          -1601881.625,
          -1601889.625,
          -1601895.125,
          -1601900.875,
          -1601902.625,
          -1601932.25,
          -1601961.125,
          -1601999.75,
          -1602006.5,
          -1602015.625,
          -1602018.75,
          -1602026,
          -1602048.625,
          -1602060,
          -1602089.875,
          -1602098,
          -1602106.125,
          -1602111.5,
          -1602118.125,
          -1602118.875,
          -1602121.375,
          -1602157.25,
          -1602157.875,
          -1602204.25,
          -1602210.5,
          -1602217.875,
          -1602220.125,
          -1602224.125,
          -1602253.875,
          -1602263.375,
          -1602303.875,
          -1602310.375,
          -1602319.375,
          -1602321.375,
          -1602329.125,
          -1602352.375,
          -1602359.375,
          -1602389,
          -1602397.125,
          -1602404,
          -1602411,
          -1602414.25,
          -1602418,
          -1602446.25,
          -1602459.75,
          -1602496.375,
          -1602503.25,
          -1602511.25,
          -1602515.25,
          -1602520.625,
          -1602544.25,
          -1602561.25,
          -1602593,
          -1602600.25,
          -1602609.25,
          -1602613.25,
          -1602621.25,
          -1602639.75,
          -1602653.125,
          -1602677,
          -1602685.5,
          -1602692.75,
          -1602700.125,
          -1602705,
          -1602710.125,
          -1602732.625,
          -1602752.875,
          -1602781.5,
          -1602789.375,
          -1602797.25,
          -1602802.875,
          -1602808.75,
          -1602810.625,
          -1602812,
          -1602846.625,
          -1602852.125,
          -1602899.5,
          -1602904.375,
          -1602913.875,
          -1602928.125,
          -1602940.75,
          -1602958.625,
          -1602967.25,
          -1602974.75,
          -1602983.5,
          -1602988.125,
          -1602996,
          -1602996.125,
          -1603001,
          -1603031.5,
          -1603043.625,
          -1603055.5,
          -1603059.25,
          -1603072.625,
          -1603084.25,
          -1603091.625,
          -1603105.875,
          -1603115,
          -1603123,
          -1603133,
          -1603136.625,
          -1603146.75,
          -1603161.5,
          -1603171.375,
          -1603190.5,
          -1603199.125,
          -1603206.5,
          -1603214.5,
          -1603219.5,
          -1603225.5,
          -1603226.5,
          -1603228.125,
          -1603262.875,
          -1603264.75,
          -1603312.375,
          -1603316.875,
          -1603326,
          -1603340.375,
          -1603352.75,
          -1603371,
          -1603379.625,
          -1603386.875,
          -1603395.375,
          -1603399.875,
          -1603406.875,
          -1603424.125,
          -1603440.5,
          -1603462.375,
          -1603470.375,
          -1603477.75,
          -1603484.625,
          -1603489.875,
          -1603494.625,
          -1603495.5,
          -1603524.625,
          -1603551.875,
          -1603592.25,
          -1603597.375,
          -1603607.75,
          -1603607.875,
          -1603618,
          -1603637.625,
          -1603639.875,
          -1603664.75,
          -1603673.125,
          -1603678.375,
          -1603686.75,
          -1603687.375,
          -1603694.25,
          -1603718.5,
          -1603721.75,
          -1603752.875,
          -1603760.375,
          -1603766.125,
          -1603771.75,
          -1603774.25,
          -1603776.25,
          -1603806.75,
          -1603814.375,
          -1603853.75,
          -1603859.375,
          -1603866.75,
          -1603869.25,
          -1603873.75,
          -1603898.75,
          -1603908,
          -1603942.25,
          -1603948.25,
          -1603956.25,
          -1603959.125,
          -1603966,
          -1603986,
          -1603995.125,
          -1604020.75,
          -1604028.5,
          -1604034.875,
          -1604041,
          -1604044.5,
          -1604048.125,
          -1604073,
          -1604087.25,
          -1604119.625,
          -1604126.25,
          -1604133.375,
          -1604137.125,
          -1604142.25,
          -1604163.25,
          -1604179.375,
          -1604207.875,
          -1604214.5,
          -1604222.75,
          -1604226.375,
          -1604233.75,
          -1604250.75,
          -1604262.5,
          -1604284,
          -1604291.75,
          -1604298.25,
          -1604305.25,
          -1604309.125,
          -1604314.125,
          -1604334.75,
          -1604350.625,
          -1604377.5,
          -1604384.5,
          -1604391.625,
          -1604396.5,
          -1604401.375,
          -1604403,
          -1604428.625,
          -1604453.75,
          -1604487.5,
          -1604493.125,
          -1604501.125,
          -1604503.75,
          -1604510,
          -1604530.125,
          -1604539.5,
          -1604567.375,
          -1604573.875,
          -1604581.25,
          -1604585.375,
          -1604591,
          -1604609.25,
          -1604624.125,
          -1604647.375,
          -1604654.625,
          -1604661.375,
          -1604667.25,
          -1604671.625,
          -1604674.875,
          -1604697.25,
          -1604717.5,
          -1604747.125,
          -1604753.625,
          -1604760.75,
          -1604764.625,
          -1604769.875,
          -1604789,
          -1604804.125,
          -1604830.5,
          -1604837.125,
          -1604845,
          -1604848.75,
          -1604855.75,
          -1604871.875,
          -1604883.375,
          -1604904.25,
          -1604911.5,
          -1604917.875,
          -1604924.625,
          -1604928.25,
          -1604933,
          -1604953.25,
          -1604966.625,
          -1604993.125,
          -1604999.875,
          -1605006.25,
          -1605011.25,
          -1605015.375,
          -1605016.875,
          -1605042.875
         ]
        }
       ],
       "layout": {
        "template": {
         "data": {
          "bar": [
           {
            "error_x": {
             "color": "#2a3f5f"
            },
            "error_y": {
             "color": "#2a3f5f"
            },
            "marker": {
             "line": {
              "color": "#E5ECF6",
              "width": 0.5
             },
             "pattern": {
              "fillmode": "overlay",
              "size": 10,
              "solidity": 0.2
             }
            },
            "type": "bar"
           }
          ],
          "barpolar": [
           {
            "marker": {
             "line": {
              "color": "#E5ECF6",
              "width": 0.5
             },
             "pattern": {
              "fillmode": "overlay",
              "size": 10,
              "solidity": 0.2
             }
            },
            "type": "barpolar"
           }
          ],
          "carpet": [
           {
            "aaxis": {
             "endlinecolor": "#2a3f5f",
             "gridcolor": "white",
             "linecolor": "white",
             "minorgridcolor": "white",
             "startlinecolor": "#2a3f5f"
            },
            "baxis": {
             "endlinecolor": "#2a3f5f",
             "gridcolor": "white",
             "linecolor": "white",
             "minorgridcolor": "white",
             "startlinecolor": "#2a3f5f"
            },
            "type": "carpet"
           }
          ],
          "choropleth": [
           {
            "colorbar": {
             "outlinewidth": 0,
             "ticks": ""
            },
            "type": "choropleth"
           }
          ],
          "contour": [
           {
            "colorbar": {
             "outlinewidth": 0,
             "ticks": ""
            },
            "colorscale": [
             [
              0,
              "#0d0887"
             ],
             [
              0.1111111111111111,
              "#46039f"
             ],
             [
              0.2222222222222222,
              "#7201a8"
             ],
             [
              0.3333333333333333,
              "#9c179e"
             ],
             [
              0.4444444444444444,
              "#bd3786"
             ],
             [
              0.5555555555555556,
              "#d8576b"
             ],
             [
              0.6666666666666666,
              "#ed7953"
             ],
             [
              0.7777777777777778,
              "#fb9f3a"
             ],
             [
              0.8888888888888888,
              "#fdca26"
             ],
             [
              1,
              "#f0f921"
             ]
            ],
            "type": "contour"
           }
          ],
          "contourcarpet": [
           {
            "colorbar": {
             "outlinewidth": 0,
             "ticks": ""
            },
            "type": "contourcarpet"
           }
          ],
          "heatmap": [
           {
            "colorbar": {
             "outlinewidth": 0,
             "ticks": ""
            },
            "colorscale": [
             [
              0,
              "#0d0887"
             ],
             [
              0.1111111111111111,
              "#46039f"
             ],
             [
              0.2222222222222222,
              "#7201a8"
             ],
             [
              0.3333333333333333,
              "#9c179e"
             ],
             [
              0.4444444444444444,
              "#bd3786"
             ],
             [
              0.5555555555555556,
              "#d8576b"
             ],
             [
              0.6666666666666666,
              "#ed7953"
             ],
             [
              0.7777777777777778,
              "#fb9f3a"
             ],
             [
              0.8888888888888888,
              "#fdca26"
             ],
             [
              1,
              "#f0f921"
             ]
            ],
            "type": "heatmap"
           }
          ],
          "heatmapgl": [
           {
            "colorbar": {
             "outlinewidth": 0,
             "ticks": ""
            },
            "colorscale": [
             [
              0,
              "#0d0887"
             ],
             [
              0.1111111111111111,
              "#46039f"
             ],
             [
              0.2222222222222222,
              "#7201a8"
             ],
             [
              0.3333333333333333,
              "#9c179e"
             ],
             [
              0.4444444444444444,
              "#bd3786"
             ],
             [
              0.5555555555555556,
              "#d8576b"
             ],
             [
              0.6666666666666666,
              "#ed7953"
             ],
             [
              0.7777777777777778,
              "#fb9f3a"
             ],
             [
              0.8888888888888888,
              "#fdca26"
             ],
             [
              1,
              "#f0f921"
             ]
            ],
            "type": "heatmapgl"
           }
          ],
          "histogram": [
           {
            "marker": {
             "pattern": {
              "fillmode": "overlay",
              "size": 10,
              "solidity": 0.2
             }
            },
            "type": "histogram"
           }
          ],
          "histogram2d": [
           {
            "colorbar": {
             "outlinewidth": 0,
             "ticks": ""
            },
            "colorscale": [
             [
              0,
              "#0d0887"
             ],
             [
              0.1111111111111111,
              "#46039f"
             ],
             [
              0.2222222222222222,
              "#7201a8"
             ],
             [
              0.3333333333333333,
              "#9c179e"
             ],
             [
              0.4444444444444444,
              "#bd3786"
             ],
             [
              0.5555555555555556,
              "#d8576b"
             ],
             [
              0.6666666666666666,
              "#ed7953"
             ],
             [
              0.7777777777777778,
              "#fb9f3a"
             ],
             [
              0.8888888888888888,
              "#fdca26"
             ],
             [
              1,
              "#f0f921"
             ]
            ],
            "type": "histogram2d"
           }
          ],
          "histogram2dcontour": [
           {
            "colorbar": {
             "outlinewidth": 0,
             "ticks": ""
            },
            "colorscale": [
             [
              0,
              "#0d0887"
             ],
             [
              0.1111111111111111,
              "#46039f"
             ],
             [
              0.2222222222222222,
              "#7201a8"
             ],
             [
              0.3333333333333333,
              "#9c179e"
             ],
             [
              0.4444444444444444,
              "#bd3786"
             ],
             [
              0.5555555555555556,
              "#d8576b"
             ],
             [
              0.6666666666666666,
              "#ed7953"
             ],
             [
              0.7777777777777778,
              "#fb9f3a"
             ],
             [
              0.8888888888888888,
              "#fdca26"
             ],
             [
              1,
              "#f0f921"
             ]
            ],
            "type": "histogram2dcontour"
           }
          ],
          "mesh3d": [
           {
            "colorbar": {
             "outlinewidth": 0,
             "ticks": ""
            },
            "type": "mesh3d"
           }
          ],
          "parcoords": [
           {
            "line": {
             "colorbar": {
              "outlinewidth": 0,
              "ticks": ""
             }
            },
            "type": "parcoords"
           }
          ],
          "pie": [
           {
            "automargin": true,
            "type": "pie"
           }
          ],
          "scatter": [
           {
            "fillpattern": {
             "fillmode": "overlay",
             "size": 10,
             "solidity": 0.2
            },
            "type": "scatter"
           }
          ],
          "scatter3d": [
           {
            "line": {
             "colorbar": {
              "outlinewidth": 0,
              "ticks": ""
             }
            },
            "marker": {
             "colorbar": {
              "outlinewidth": 0,
              "ticks": ""
             }
            },
            "type": "scatter3d"
           }
          ],
          "scattercarpet": [
           {
            "marker": {
             "colorbar": {
              "outlinewidth": 0,
              "ticks": ""
             }
            },
            "type": "scattercarpet"
           }
          ],
          "scattergeo": [
           {
            "marker": {
             "colorbar": {
              "outlinewidth": 0,
              "ticks": ""
             }
            },
            "type": "scattergeo"
           }
          ],
          "scattergl": [
           {
            "marker": {
             "colorbar": {
              "outlinewidth": 0,
              "ticks": ""
             }
            },
            "type": "scattergl"
           }
          ],
          "scattermapbox": [
           {
            "marker": {
             "colorbar": {
              "outlinewidth": 0,
              "ticks": ""
             }
            },
            "type": "scattermapbox"
           }
          ],
          "scatterpolar": [
           {
            "marker": {
             "colorbar": {
              "outlinewidth": 0,
              "ticks": ""
             }
            },
            "type": "scatterpolar"
           }
          ],
          "scatterpolargl": [
           {
            "marker": {
             "colorbar": {
              "outlinewidth": 0,
              "ticks": ""
             }
            },
            "type": "scatterpolargl"
           }
          ],
          "scatterternary": [
           {
            "marker": {
             "colorbar": {
              "outlinewidth": 0,
              "ticks": ""
             }
            },
            "type": "scatterternary"
           }
          ],
          "surface": [
           {
            "colorbar": {
             "outlinewidth": 0,
             "ticks": ""
            },
            "colorscale": [
             [
              0,
              "#0d0887"
             ],
             [
              0.1111111111111111,
              "#46039f"
             ],
             [
              0.2222222222222222,
              "#7201a8"
             ],
             [
              0.3333333333333333,
              "#9c179e"
             ],
             [
              0.4444444444444444,
              "#bd3786"
             ],
             [
              0.5555555555555556,
              "#d8576b"
             ],
             [
              0.6666666666666666,
              "#ed7953"
             ],
             [
              0.7777777777777778,
              "#fb9f3a"
             ],
             [
              0.8888888888888888,
              "#fdca26"
             ],
             [
              1,
              "#f0f921"
             ]
            ],
            "type": "surface"
           }
          ],
          "table": [
           {
            "cells": {
             "fill": {
              "color": "#EBF0F8"
             },
             "line": {
              "color": "white"
             }
            },
            "header": {
             "fill": {
              "color": "#C8D4E3"
             },
             "line": {
              "color": "white"
             }
            },
            "type": "table"
           }
          ]
         },
         "layout": {
          "annotationdefaults": {
           "arrowcolor": "#2a3f5f",
           "arrowhead": 0,
           "arrowwidth": 1
          },
          "autotypenumbers": "strict",
          "coloraxis": {
           "colorbar": {
            "outlinewidth": 0,
            "ticks": ""
           }
          },
          "colorscale": {
           "diverging": [
            [
             0,
             "#8e0152"
            ],
            [
             0.1,
             "#c51b7d"
            ],
            [
             0.2,
             "#de77ae"
            ],
            [
             0.3,
             "#f1b6da"
            ],
            [
             0.4,
             "#fde0ef"
            ],
            [
             0.5,
             "#f7f7f7"
            ],
            [
             0.6,
             "#e6f5d0"
            ],
            [
             0.7,
             "#b8e186"
            ],
            [
             0.8,
             "#7fbc41"
            ],
            [
             0.9,
             "#4d9221"
            ],
            [
             1,
             "#276419"
            ]
           ],
           "sequential": [
            [
             0,
             "#0d0887"
            ],
            [
             0.1111111111111111,
             "#46039f"
            ],
            [
             0.2222222222222222,
             "#7201a8"
            ],
            [
             0.3333333333333333,
             "#9c179e"
            ],
            [
             0.4444444444444444,
             "#bd3786"
            ],
            [
             0.5555555555555556,
             "#d8576b"
            ],
            [
             0.6666666666666666,
             "#ed7953"
            ],
            [
             0.7777777777777778,
             "#fb9f3a"
            ],
            [
             0.8888888888888888,
             "#fdca26"
            ],
            [
             1,
             "#f0f921"
            ]
           ],
           "sequentialminus": [
            [
             0,
             "#0d0887"
            ],
            [
             0.1111111111111111,
             "#46039f"
            ],
            [
             0.2222222222222222,
             "#7201a8"
            ],
            [
             0.3333333333333333,
             "#9c179e"
            ],
            [
             0.4444444444444444,
             "#bd3786"
            ],
            [
             0.5555555555555556,
             "#d8576b"
            ],
            [
             0.6666666666666666,
             "#ed7953"
            ],
            [
             0.7777777777777778,
             "#fb9f3a"
            ],
            [
             0.8888888888888888,
             "#fdca26"
            ],
            [
             1,
             "#f0f921"
            ]
           ]
          },
          "colorway": [
           "#636efa",
           "#EF553B",
           "#00cc96",
           "#ab63fa",
           "#FFA15A",
           "#19d3f3",
           "#FF6692",
           "#B6E880",
           "#FF97FF",
           "#FECB52"
          ],
          "font": {
           "color": "#2a3f5f"
          },
          "geo": {
           "bgcolor": "white",
           "lakecolor": "white",
           "landcolor": "#E5ECF6",
           "showlakes": true,
           "showland": true,
           "subunitcolor": "white"
          },
          "hoverlabel": {
           "align": "left"
          },
          "hovermode": "closest",
          "mapbox": {
           "style": "light"
          },
          "paper_bgcolor": "white",
          "plot_bgcolor": "#E5ECF6",
          "polar": {
           "angularaxis": {
            "gridcolor": "white",
            "linecolor": "white",
            "ticks": ""
           },
           "bgcolor": "#E5ECF6",
           "radialaxis": {
            "gridcolor": "white",
            "linecolor": "white",
            "ticks": ""
           }
          },
          "scene": {
           "xaxis": {
            "backgroundcolor": "#E5ECF6",
            "gridcolor": "white",
            "gridwidth": 2,
            "linecolor": "white",
            "showbackground": true,
            "ticks": "",
            "zerolinecolor": "white"
           },
           "yaxis": {
            "backgroundcolor": "#E5ECF6",
            "gridcolor": "white",
            "gridwidth": 2,
            "linecolor": "white",
            "showbackground": true,
            "ticks": "",
            "zerolinecolor": "white"
           },
           "zaxis": {
            "backgroundcolor": "#E5ECF6",
            "gridcolor": "white",
            "gridwidth": 2,
            "linecolor": "white",
            "showbackground": true,
            "ticks": "",
            "zerolinecolor": "white"
           }
          },
          "shapedefaults": {
           "line": {
            "color": "#2a3f5f"
           }
          },
          "ternary": {
           "aaxis": {
            "gridcolor": "white",
            "linecolor": "white",
            "ticks": ""
           },
           "baxis": {
            "gridcolor": "white",
            "linecolor": "white",
            "ticks": ""
           },
           "bgcolor": "#E5ECF6",
           "caxis": {
            "gridcolor": "white",
            "linecolor": "white",
            "ticks": ""
           }
          },
          "title": {
           "x": 0.05
          },
          "xaxis": {
           "automargin": true,
           "gridcolor": "white",
           "linecolor": "white",
           "ticks": "",
           "title": {
            "standoff": 15
           },
           "zerolinecolor": "white",
           "zerolinewidth": 2
          },
          "yaxis": {
           "automargin": true,
           "gridcolor": "white",
           "linecolor": "white",
           "ticks": "",
           "title": {
            "standoff": 15
           },
           "zerolinecolor": "white",
           "zerolinewidth": 2
          }
         }
        },
        "title": {
         "text": "Energy Minimization"
        },
        "xaxis": {
         "title": {
          "text": "Energy Minimization Step"
         }
        },
        "yaxis": {
         "title": {
          "text": "Potential Energy KJ/mol-1"
         }
        }
       }
      },
      "text/html": [
       "<div>                            <div id=\"da4182dd-3f0d-40e2-9ca4-d6a36ba9d7f6\" class=\"plotly-graph-div\" style=\"height:525px; width:100%;\"></div>            <script type=\"text/javascript\">                require([\"plotly\"], function(Plotly) {                    window.PLOTLYENV=window.PLOTLYENV || {};                                    if (document.getElementById(\"da4182dd-3f0d-40e2-9ca4-d6a36ba9d7f6\")) {                    Plotly.newPlot(                        \"da4182dd-3f0d-40e2-9ca4-d6a36ba9d7f6\",                        [{\"x\":[0.0,1.0,2.0,3.0,4.0,5.0,6.0,7.0,8.0,9.0,10.0,12.0,13.0,14.0,15.0,16.0,17.0,18.0,20.0,21.0,22.0,23.0,25.0,27.0,28.0,29.0,31.0,32.0,33.0,34.0,35.0,36.0,37.0,38.0,40.0,41.0,42.0,43.0,44.0,46.0,47.0,48.0,49.0,51.0,53.0,54.0,55.0,57.0,58.0,59.0,61.0,62.0,63.0,64.0,66.0,68.0,69.0,70.0,71.0,72.0,74.0,75.0,76.0,78.0,79.0,80.0,81.0,83.0,84.0,85.0,87.0,88.0,89.0,90.0,92.0,94.0,95.0,96.0,97.0,99.0,100.0,101.0,103.0,104.0,105.0,106.0,107.0,109.0,110.0,111.0,113.0,114.0,115.0,116.0,117.0,119.0,120.0,121.0,123.0,124.0,125.0,126.0,127.0,129.0,130.0,131.0,133.0,134.0,135.0,136.0,137.0,138.0,140.0,141.0,142.0,144.0,145.0,146.0,147.0,149.0,150.0,151.0,153.0,154.0,155.0,156.0,157.0,159.0,160.0,161.0,163.0,164.0,165.0,166.0,168.0,169.0,170.0,172.0,173.0,174.0,175.0,177.0,178.0,179.0,181.0,182.0,183.0,184.0,185.0,187.0,188.0,189.0,191.0,192.0,193.0,194.0,195.0,197.0,198.0,199.0,201.0,202.0,203.0,204.0,206.0,207.0,208.0,210.0,211.0,212.0,213.0,215.0,216.0,217.0,219.0,220.0,221.0,222.0,223.0,225.0,226.0,227.0,229.0,230.0,231.0,232.0,233.0,235.0,237.0,238.0,239.0,240.0,242.0,243.0,244.0,246.0,247.0,248.0,249.0,250.0,252.0,253.0,254.0,256.0,257.0,258.0,259.0,260.0,262.0,263.0,264.0,266.0,267.0,268.0,269.0,271.0,272.0,273.0,275.0,276.0,277.0,278.0,279.0,281.0,282.0,283.0,285.0,286.0,287.0,288.0,289.0,291.0,293.0,294.0,295.0,296.0,298.0,299.0,300.0,302.0,303.0,304.0,305.0,306.0,308.0,309.0,310.0,312.0,313.0,314.0,315.0,316.0,317.0,319.0,320.0,321.0,323.0,324.0,325.0,326.0,328.0,329.0,330.0,332.0,333.0,335.0,336.0,337.0,339.0,340.0,341.0,342.0,343.0,345.0,346.0,347.0,349.0,350.0,351.0,353.0,354.0,355.0,356.0,357.0,359.0,360.0,361.0,363.0,364.0,365.0,366.0,367.0,369.0,370.0,371.0,373.0,374.0,375.0,376.0,378.0,379.0,380.0,382.0,383.0,384.0,385.0,386.0,387.0,389.0,390.0,391.0,393.0,394.0,395.0,396.0,398.0,399.0,400.0,402.0,403.0,404.0,405.0,406.0,407.0,409.0,410.0,411.0,413.0,414.0,415.0,416.0,418.0,419.0,420.0,422.0,423.0,424.0,425.0,427.0,428.0,429.0,431.0,432.0,433.0,434.0,435.0,436.0,437.0,439.0,440.0,441.0,443.0,444.0,445.0,446.0,448.0,449.0,450.0,452.0,453.0,454.0,455.0,457.0,458.0,459.0,461.0,462.0,463.0,464.0,465.0,467.0,468.0,469.0,471.0,472.0,473.0,474.0,475.0,476.0,478.0,479.0,480.0,482.0,483.0,485.0,486.0,487.0,489.0,490.0,491.0,492.0,493.0,494.0,495.0,497.0,498.0,499.0,501.0,502.0,503.0,504.0,506.0,507.0,508.0,510.0,511.0,512.0,513.0,515.0,516.0,517.0,519.0,520.0,521.0,522.0,523.0,525.0,526.0,527.0,529.0,530.0,531.0,532.0,533.0,534.0,536.0,537.0,538.0,540.0,541.0,543.0,544.0,545.0,547.0,548.0,549.0,550.0,551.0,552.0,553.0,555.0,557.0,558.0,559.0,560.0,562.0,563.0,564.0,566.0,567.0,568.0,569.0,570.0,572.0,573.0,574.0,576.0,577.0,578.0,579.0,580.0,582.0,583.0,584.0,586.0,587.0,588.0,589.0,590.0,591.0,593.0,594.0,595.0,597.0,598.0,599.0,600.0,602.0,603.0,604.0,606.0,607.0,608.0,609.0,611.0,612.0,613.0,615.0,616.0,617.0,618.0,619.0,621.0,622.0,623.0,625.0,626.0,627.0,628.0,629.0,630.0,632.0,633.0,634.0,636.0,637.0,638.0,639.0,641.0,642.0,643.0,645.0,646.0,647.0,648.0,649.0,651.0,652.0,653.0,655.0,656.0,657.0,658.0,660.0,661.0,662.0,664.0,665.0,666.0,667.0,669.0,670.0,671.0,673.0,674.0,675.0,676.0,677.0,678.0,680.0,681.0,682.0,684.0,685.0,687.0,688.0,689.0,691.0,692.0,693.0,694.0,695.0,696.0,697.0,699.0,701.0,702.0,703.0,704.0,706.0,707.0,708.0,710.0,711.0,712.0,713.0,714.0,716.0,717.0,718.0,720.0,721.0,722.0,723.0,724.0,726.0,727.0,728.0,730.0,731.0,732.0,733.0,734.0,735.0,737.0,738.0,739.0,741.0,742.0,743.0,744.0,746.0,747.0,748.0,750.0,751.0,752.0,753.0,755.0,756.0,757.0,759.0,760.0,761.0,762.0,763.0,764.0,766.0,767.0,768.0,770.0,771.0,772.0,773.0,775.0,776.0,777.0,779.0,780.0,781.0,782.0,783.0,785.0,786.0,787.0,789.0,790.0,791.0,792.0,794.0,795.0,796.0,798.0,799.0,800.0,801.0,803.0,804.0,805.0,807.0,808.0,809.0,810.0,812.0,813.0,814.0,816.0,817.0,818.0,819.0,820.0,821.0,823.0,824.0,825.0,827.0,828.0,829.0,830.0,832.0,833.0,834.0,836.0,837.0,838.0,839.0,841.0,842.0,843.0,845.0,846.0,847.0,848.0,849.0,850.0,852.0,853.0,854.0,856.0,857.0,858.0,859.0,861.0,862.0,863.0,865.0,866.0,867.0,868.0,869.0,871.0,872.0,873.0,875.0,876.0,877.0,878.0,880.0,881.0,882.0,884.0,885.0,886.0,887.0,888.0,890.0,891.0,892.0,894.0,895.0,896.0,897.0,899.0,900.0,901.0,903.0,904.0,905.0,906.0,907.0,909.0,910.0,911.0,913.0,914.0,915.0,916.0,918.0,919.0,920.0,922.0,923.0,924.0,925.0,927.0,928.0,929.0,931.0,932.0,933.0,934.0,935.0,936.0,938.0,939.0,940.0,942.0,943.0,944.0,945.0,947.0,948.0,949.0,951.0,952.0,953.0,954.0,956.0,957.0,958.0,960.0,961.0,962.0,963.0,965.0,966.0,967.0,969.0,970.0,971.0,972.0,973.0,974.0,976.0,977.0,978.0,980.0,981.0,982.0,983.0,985.0,986.0,987.0,989.0,990.0,991.0,992.0,993.0,995.0,996.0,997.0,999.0,1000.0,1001.0,1002.0,1004.0,1005.0,1006.0,1008.0,1009.0,1010.0,1011.0,1012.0,1013.0,1015.0,1016.0,1017.0,1019.0,1020.0,1022.0,1023.0,1024.0,1026.0,1027.0,1028.0,1029.0,1030.0,1031.0,1032.0,1034.0,1035.0,1036.0,1038.0,1039.0,1040.0,1041.0,1043.0,1044.0,1045.0,1047.0,1048.0,1049.0,1050.0,1052.0,1053.0,1054.0,1056.0,1057.0,1058.0,1059.0,1061.0,1062.0,1063.0,1065.0,1066.0,1067.0,1068.0,1069.0,1070.0,1072.0,1073.0,1074.0,1076.0,1077.0,1078.0,1079.0,1081.0,1082.0,1083.0,1085.0,1086.0,1087.0,1088.0,1089.0,1091.0,1092.0,1093.0,1095.0,1096.0,1097.0,1098.0,1100.0,1101.0,1102.0,1104.0,1105.0,1106.0,1107.0,1108.0,1110.0,1111.0,1112.0,1114.0,1115.0,1116.0,1117.0,1119.0,1120.0,1121.0,1123.0,1124.0,1125.0,1126.0,1127.0,1129.0,1130.0,1131.0,1133.0,1134.0,1135.0,1136.0,1138.0,1139.0,1140.0,1142.0,1143.0,1144.0,1145.0,1146.0,1148.0,1149.0,1150.0,1152.0,1153.0,1154.0,1155.0,1157.0,1158.0,1159.0,1161.0,1162.0,1163.0,1164.0,1165.0,1166.0,1168.0,1169.0,1170.0,1172.0,1173.0,1174.0,1175.0,1177.0,1178.0,1179.0,1181.0,1182.0,1183.0,1184.0,1185.0,1187.0,1188.0,1189.0,1191.0,1192.0,1193.0,1194.0,1196.0,1197.0,1198.0,1200.0,1201.0,1202.0,1203.0,1204.0,1206.0,1207.0,1208.0,1210.0,1211.0,1212.0,1213.0,1215.0,1216.0,1217.0,1219.0,1220.0,1221.0,1222.0,1223.0,1225.0,1226.0,1227.0,1229.0,1230.0,1231.0,1232.0,1234.0,1235.0,1236.0,1238.0,1239.0,1240.0,1241.0,1242.0,1244.0,1245.0,1246.0,1248.0,1249.0,1250.0,1251.0,1253.0,1254.0,1255.0,1257.0,1258.0,1259.0,1260.0,1261.0,1262.0,1264.0,1265.0,1266.0,1268.0,1269.0,1270.0,1271.0,1273.0,1274.0,1275.0,1277.0,1278.0,1279.0,1280.0,1282.0,1283.0,1284.0,1286.0,1287.0,1288.0,1289.0,1291.0,1292.0,1293.0,1295.0,1296.0,1297.0,1298.0,1299.0,1300.0,1302.0,1303.0,1304.0,1306.0,1307.0,1308.0,1309.0,1311.0,1312.0,1313.0,1315.0,1316.0,1317.0,1318.0,1320.0,1321.0,1322.0,1324.0,1325.0,1326.0,1327.0,1328.0,1329.0,1331.0,1332.0,1333.0,1335.0,1336.0,1337.0,1338.0,1340.0,1341.0,1342.0,1344.0,1345.0,1346.0,1347.0,1349.0,1350.0,1351.0,1353.0,1354.0,1355.0,1356.0,1358.0,1359.0,1360.0,1362.0,1363.0,1364.0,1365.0,1366.0,1367.0,1369.0,1370.0,1371.0,1373.0,1374.0,1376.0,1377.0,1378.0,1380.0,1381.0,1382.0,1383.0,1384.0,1385.0,1386.0,1388.0,1389.0,1390.0,1392.0,1393.0,1394.0,1395.0,1397.0,1398.0,1399.0,1401.0,1402.0,1403.0,1404.0,1406.0,1407.0,1408.0,1410.0,1411.0,1412.0,1413.0,1414.0,1415.0,1417.0,1418.0,1419.0,1421.0,1422.0,1424.0,1425.0,1426.0,1428.0,1429.0,1430.0,1431.0,1432.0,1433.0,1434.0,1436.0,1437.0,1438.0,1440.0,1441.0,1442.0,1443.0,1445.0,1446.0,1447.0,1449.0,1450.0,1451.0,1452.0,1454.0,1455.0,1456.0,1458.0,1459.0,1460.0,1461.0,1462.0,1463.0,1465.0,1466.0,1467.0,1469.0,1470.0,1472.0,1473.0,1474.0,1476.0,1477.0,1478.0,1479.0,1480.0,1481.0,1482.0,1484.0,1485.0,1486.0,1488.0,1489.0,1490.0,1491.0,1493.0,1494.0,1495.0,1497.0,1498.0,1499.0,1500.0,1502.0,1503.0,1504.0,1506.0,1507.0,1508.0,1509.0,1510.0,1511.0,1513.0,1514.0,1515.0,1517.0,1518.0,1520.0,1521.0,1522.0,1524.0,1525.0,1526.0,1527.0,1528.0,1529.0,1530.0,1532.0,1533.0,1534.0,1536.0,1537.0,1538.0,1539.0,1541.0,1542.0,1543.0,1545.0,1546.0,1547.0,1548.0,1550.0,1551.0,1552.0,1554.0,1555.0,1556.0,1557.0,1558.0,1560.0,1561.0,1562.0,1564.0,1565.0,1566.0,1567.0,1569.0,1570.0,1571.0,1573.0,1574.0,1575.0,1576.0,1577.0,1578.0,1580.0,1581.0,1582.0,1584.0,1585.0,1586.0,1587.0,1589.0,1590.0,1591.0,1593.0,1594.0,1595.0,1596.0,1598.0,1599.0,1600.0,1602.0,1603.0,1604.0,1605.0,1606.0,1607.0,1609.0,1611.0,1612.0,1613.0,1614.0,1616.0,1617.0,1618.0,1620.0,1621.0,1622.0,1624.0,1625.0,1626.0,1627.0,1628.0,1630.0,1631.0,1632.0,1634.0,1635.0,1636.0,1637.0,1638.0,1639.0,1640.0,1642.0,1643.0,1644.0,1646.0,1647.0,1648.0,1649.0,1651.0,1652.0,1653.0,1655.0,1656.0,1657.0,1658.0,1659.0,1661.0,1662.0,1663.0,1665.0,1666.0,1667.0,1668.0,1670.0,1671.0,1672.0,1674.0,1675.0,1676.0,1677.0,1678.0,1679.0,1681.0,1683.0,1684.0,1685.0,1686.0,1688.0,1689.0,1690.0,1692.0,1693.0,1694.0,1695.0,1696.0,1698.0,1699.0,1700.0,1702.0,1703.0,1704.0,1705.0,1706.0,1708.0,1709.0,1710.0,1712.0,1713.0,1714.0,1715.0,1716.0,1718.0,1719.0,1720.0,1722.0,1723.0,1724.0,1725.0,1727.0,1728.0,1729.0,1731.0,1732.0,1733.0,1734.0,1735.0,1737.0,1738.0,1739.0,1741.0,1742.0,1743.0,1744.0,1745.0,1746.0,1748.0,1750.0,1751.0,1752.0,1753.0,1755.0,1756.0,1757.0,1759.0,1760.0,1761.0,1763.0,1764.0,1765.0,1766.0,1767.0,1769.0,1770.0,1771.0,1773.0,1774.0,1775.0,1776.0,1777.0,1778.0,1779.0,1781.0,1782.0,1783.0,1785.0,1786.0,1787.0,1788.0,1790.0,1791.0,1792.0,1794.0,1795.0,1796.0,1797.0,1798.0,1800.0,1801.0,1802.0,1804.0,1805.0,1806.0,1807.0,1809.0,1810.0,1811.0,1813.0,1814.0,1815.0,1816.0,1818.0,1819.0,1820.0,1822.0,1823.0,1824.0,1825.0,1826.0,1828.0,1829.0,1830.0,1832.0,1833.0,1834.0,1835.0,1837.0,1838.0,1839.0,1841.0,1842.0,1843.0,1844.0,1845.0,1846.0,1848.0,1849.0,1850.0,1852.0,1853.0,1854.0,1855.0,1857.0,1858.0,1859.0,1861.0,1862.0,1863.0,1864.0,1866.0,1867.0,1868.0,1870.0,1871.0,1872.0,1873.0,1874.0,1876.0,1877.0,1878.0,1880.0,1881.0,1882.0,1883.0,1884.0,1886.0,1887.0,1888.0,1890.0,1891.0,1892.0,1893.0,1895.0,1896.0,1897.0,1899.0,1900.0,1901.0,1902.0,1904.0,1905.0,1906.0,1908.0,1909.0,1910.0,1911.0,1912.0,1913.0,1915.0,1916.0,1917.0,1919.0,1920.0,1922.0,1923.0,1924.0,1926.0,1927.0,1928.0,1929.0,1930.0,1932.0,1933.0,1934.0,1936.0,1937.0,1938.0,1939.0,1940.0,1942.0,1943.0,1944.0,1946.0,1947.0,1948.0,1949.0,1950.0,1951.0,1952.0,1954.0,1956.0,1957.0,1958.0,1959.0,1961.0,1962.0,1963.0,1965.0,1966.0,1967.0,1968.0,1969.0,1971.0,1972.0,1973.0,1975.0,1976.0,1977.0,1978.0,1979.0,1981.0,1982.0,1983.0,1985.0,1986.0,1987.0,1988.0,1989.0,1990.0,1992.0,1993.0,1994.0,1996.0,1997.0,1998.0,1999.0,2001.0,2002.0,2003.0,2005.0,2006.0,2007.0,2008.0,2010.0,2011.0,2012.0,2014.0,2015.0,2016.0,2017.0,2018.0,2020.0,2021.0,2022.0,2024.0,2025.0,2026.0,2027.0,2028.0,2030.0,2031.0,2032.0,2034.0,2035.0,2036.0,2037.0,2039.0,2040.0,2041.0,2043.0,2044.0,2045.0,2046.0,2048.0,2049.0,2050.0,2052.0,2053.0,2054.0,2055.0,2056.0,2058.0,2059.0,2060.0,2062.0,2063.0,2064.0,2065.0,2066.0,2067.0,2069.0,2071.0,2072.0,2073.0,2074.0,2076.0,2077.0,2078.0,2080.0,2081.0,2082.0,2084.0,2085.0,2086.0,2087.0,2088.0,2089.0,2090.0,2092.0,2093.0,2094.0,2096.0,2097.0,2098.0,2099.0,2101.0,2102.0,2103.0,2105.0,2106.0,2107.0,2108.0,2109.0,2110.0,2112.0,2113.0,2114.0,2116.0,2117.0,2119.0,2120.0,2121.0,2123.0,2124.0,2125.0,2126.0,2127.0,2129.0,2130.0,2131.0,2133.0,2134.0,2135.0,2136.0,2137.0,2139.0,2140.0,2141.0,2143.0,2144.0,2145.0,2146.0,2147.0,2148.0,2150.0,2151.0,2152.0,2154.0,2155.0,2157.0,2158.0,2159.0,2161.0,2162.0,2163.0,2164.0,2165.0,2167.0,2168.0,2169.0,2171.0,2172.0,2173.0,2174.0,2175.0,2177.0,2178.0,2179.0,2181.0,2182.0,2183.0,2184.0,2185.0,2186.0,2188.0,2189.0,2190.0,2192.0,2193.0,2195.0,2196.0,2197.0,2199.0,2200.0,2201.0,2202.0,2203.0,2205.0,2206.0,2207.0,2209.0,2210.0,2211.0,2212.0,2213.0,2214.0,2215.0,2217.0,2218.0,2219.0,2221.0,2222.0,2223.0,2224.0,2226.0,2227.0,2228.0,2230.0,2231.0,2232.0,2233.0,2235.0,2236.0,2237.0,2239.0,2240.0,2241.0,2242.0,2243.0,2245.0,2246.0,2247.0,2249.0,2250.0,2251.0,2252.0,2253.0,2255.0,2256.0,2257.0,2259.0,2260.0,2261.0,2262.0,2264.0,2265.0,2266.0,2268.0,2269.0,2270.0,2271.0,2273.0,2274.0,2275.0,2277.0,2278.0,2279.0,2280.0,2281.0,2282.0,2284.0,2285.0,2286.0,2288.0,2289.0,2291.0,2292.0,2293.0,2295.0,2296.0,2297.0,2298.0,2299.0,2300.0,2301.0,2303.0,2304.0,2305.0,2307.0,2308.0,2309.0,2310.0,2311.0,2313.0,2314.0,2315.0,2317.0,2318.0,2319.0,2320.0,2322.0,2323.0,2324.0,2326.0,2327.0,2328.0,2329.0,2331.0,2332.0,2333.0,2335.0,2336.0,2337.0,2338.0,2339.0,2341.0,2342.0,2343.0,2345.0,2346.0,2347.0,2348.0,2350.0,2351.0,2352.0,2354.0,2355.0,2356.0,2357.0,2358.0,2359.0,2361.0,2362.0,2363.0,2365.0,2366.0,2367.0,2368.0,2370.0,2371.0,2372.0,2374.0,2375.0,2376.0,2377.0,2379.0,2380.0,2381.0,2383.0,2384.0,2385.0,2386.0,2387.0,2389.0,2390.0,2391.0,2393.0,2394.0,2395.0,2396.0,2398.0,2399.0,2400.0,2402.0,2403.0,2404.0,2405.0,2407.0,2408.0,2409.0,2411.0,2412.0,2413.0,2414.0,2415.0,2416.0,2417.0,2419.0,2421.0,2422.0,2423.0,2424.0,2426.0,2427.0,2428.0,2430.0,2431.0,2432.0,2433.0,2434.0,2436.0,2437.0,2438.0,2440.0,2441.0,2442.0,2443.0,2444.0,2446.0,2447.0,2448.0,2450.0,2451.0,2452.0,2453.0,2454.0,2456.0,2457.0,2458.0,2460.0,2461.0,2462.0,2463.0,2465.0,2466.0,2467.0,2469.0,2470.0,2471.0,2472.0,2473.0,2475.0,2476.0,2477.0,2479.0,2480.0,2481.0,2482.0,2483.0,2485.0,2486.0,2487.0,2489.0,2490.0,2491.0,2492.0,2494.0,2495.0,2496.0,2498.0,2499.0,2500.0,2501.0,2502.0,2503.0,2505.0,2506.0,2507.0,2509.0,2510.0,2511.0,2512.0,2514.0,2515.0,2516.0,2518.0,2519.0,2520.0,2521.0,2523.0,2524.0,2525.0,2527.0,2528.0,2529.0,2530.0,2531.0,2533.0,2534.0,2535.0,2537.0,2538.0,2539.0,2540.0,2542.0,2543.0,2544.0,2546.0,2547.0,2548.0,2549.0,2551.0,2552.0,2553.0,2555.0,2556.0,2557.0,2558.0,2559.0,2560.0,2562.0,2563.0,2564.0,2566.0,2567.0,2568.0,2569.0,2571.0,2572.0,2573.0,2575.0,2576.0,2577.0,2578.0,2579.0,2581.0,2582.0,2583.0,2585.0,2586.0,2587.0,2588.0,2589.0,2591.0,2592.0,2593.0,2595.0,2596.0,2597.0,2598.0,2600.0,2601.0,2602.0,2604.0,2605.0,2606.0,2607.0,2609.0,2610.0,2611.0,2613.0,2614.0,2615.0,2616.0,2617.0,2618.0,2620.0,2621.0,2622.0,2624.0,2625.0,2627.0,2628.0,2629.0,2631.0,2632.0,2633.0,2634.0,2635.0,2637.0,2638.0,2639.0,2641.0,2642.0,2643.0,2644.0,2645.0,2646.0,2647.0,2649.0,2651.0,2652.0,2653.0,2654.0,2656.0,2657.0,2658.0,2660.0,2661.0,2662.0,2663.0,2664.0,2666.0,2667.0,2668.0,2670.0,2671.0,2672.0,2673.0,2674.0,2676.0,2677.0,2678.0,2680.0,2681.0,2682.0,2683.0,2684.0,2685.0,2687.0,2688.0,2689.0,2691.0,2692.0,2693.0,2694.0,2696.0,2697.0,2698.0,2700.0,2701.0,2702.0,2703.0,2705.0,2706.0,2707.0,2709.0,2710.0,2711.0,2712.0,2713.0,2715.0,2716.0,2717.0,2719.0,2720.0,2721.0,2722.0,2724.0,2725.0,2726.0,2728.0,2729.0,2730.0,2731.0,2732.0,2733.0,2735.0,2737.0,2738.0,2739.0,2740.0,2742.0,2743.0,2744.0,2746.0,2747.0,2748.0,2749.0,2750.0,2752.0,2753.0,2754.0,2756.0,2757.0,2758.0,2759.0,2760.0,2762.0,2763.0,2764.0,2766.0,2767.0,2768.0,2769.0,2770.0,2771.0,2773.0,2774.0,2775.0,2777.0,2778.0,2779.0,2780.0,2782.0,2783.0,2784.0,2786.0,2787.0,2788.0,2789.0,2791.0,2792.0,2793.0,2795.0,2796.0,2797.0,2798.0,2799.0,2801.0,2802.0,2803.0,2805.0,2806.0,2807.0,2808.0,2809.0,2811.0,2812.0,2813.0,2815.0,2816.0,2817.0,2818.0,2820.0,2821.0,2822.0,2824.0,2825.0,2826.0,2827.0,2828.0,2829.0,2831.0,2832.0,2833.0,2835.0,2836.0,2837.0,2838.0,2840.0,2841.0,2842.0,2844.0,2845.0,2846.0,2847.0,2849.0,2850.0,2851.0,2853.0,2854.0,2855.0,2856.0,2857.0,2859.0,2860.0,2861.0,2863.0,2864.0,2865.0,2866.0,2868.0,2869.0,2870.0,2872.0,2873.0,2874.0,2875.0,2877.0,2878.0,2879.0,2881.0,2882.0,2883.0,2884.0,2885.0,2887.0,2888.0,2889.0,2891.0,2892.0,2893.0,2894.0,2895.0,2896.0,2898.0,2899.0,2900.0,2902.0,2903.0,2905.0,2906.0,2907.0,2909.0,2910.0,2911.0,2912.0,2913.0,2914.0,2915.0,2917.0,2919.0,2920.0,2921.0,2922.0,2924.0,2925.0,2926.0,2928.0,2929.0,2930.0,2931.0,2932.0,2934.0,2935.0,2936.0,2938.0,2939.0,2940.0,2941.0,2942.0,2943.0,2944.0,2946.0,2947.0,2948.0,2950.0,2951.0,2953.0,2954.0,2955.0,2957.0,2958.0,2959.0,2960.0,2961.0,2963.0,2964.0,2965.0,2967.0,2968.0,2969.0,2970.0,2971.0,2972.0,2974.0,2975.0,2976.0,2978.0,2979.0,2980.0,2981.0,2983.0,2984.0,2985.0,2987.0,2988.0,2989.0,2990.0,2991.0,2993.0,2994.0,2995.0,2997.0,2998.0,2999.0,3000.0,3001.0,3003.0,3004.0,3005.0,3007.0,3008.0,3009.0,3010.0,3012.0,3013.0,3014.0,3016.0,3017.0,3018.0,3019.0,3021.0,3022.0,3023.0,3025.0,3026.0,3027.0,3028.0,3029.0,3031.0,3032.0,3033.0,3035.0,3036.0,3037.0,3038.0,3040.0,3041.0,3042.0,3044.0,3045.0,3046.0,3047.0,3049.0,3050.0,3051.0,3053.0,3054.0,3055.0,3056.0,3057.0,3059.0,3060.0,3061.0,3063.0,3064.0,3065.0,3066.0,3067.0,3069.0,3070.0,3071.0,3073.0,3074.0,3075.0,3076.0,3078.0,3079.0,3080.0,3082.0,3083.0,3084.0,3085.0,3087.0,3088.0,3089.0,3091.0,3092.0,3093.0,3094.0,3095.0,3097.0,3098.0,3099.0,3101.0,3102.0,3103.0,3104.0,3106.0,3107.0,3108.0,3110.0,3111.0,3112.0,3113.0,3115.0,3116.0,3117.0,3119.0,3120.0,3121.0,3122.0,3123.0,3125.0,3126.0,3127.0,3129.0,3130.0,3131.0,3132.0,3133.0,3135.0],\"y\":[-622387.875,-685175.875,-733686.5,-775840.9375,-814890.125,-852500.25,-889674.25,-927069.4375,-965160.8125,-1002992.3125,-1039105.0625,-1056095.5,-1078280.625,-1109688.5,-1134176.375,-1139748.5,-1162108.625,-1180281.75,-1192912.5,-1204166.125,-1206901.0,-1221037.875,-1224117.25,-1227745.125,-1236362.0,-1250672.875,-1254701.0,-1260898.0,-1276377.625,-1282717.375,-1288881.875,-1295110.625,-1298532.875,-1304715.875,-1310642.0,-1314988.25,-1318536.375,-1320538.375,-1322435.25,-1333244.5,-1334448.25,-1342857.875,-1348504.5,-1354802.875,-1358729.375,-1359304.0,-1361738.125,-1367385.125,-1368545.875,-1375435.125,-1377143.5,-1379014.25,-1379424.5,-1381396.75,-1385173.5,-1386665.125,-1388052.625,-1389334.875,-1390294.5,-1391069.625,-1394883.125,-1397529.75,-1402481.125,-1403434.5,-1404404.375,-1404932.625,-1405364.75,-1408703.875,-1410031.0,-1414981.875,-1415619.375,-1416527.75,-1416605.125,-1417212.625,-1420173.25,-1421316.375,-1422535.5,-1422800.25,-1424181.0,-1425396.125,-1426049.75,-1427443.375,-1428332.0,-1429058.75,-1430037.25,-1430302.875,-1431335.625,-1432559.25,-1433250.75,-1434698.875,-1435446.625,-1436038.25,-1436813.875,-1437093.25,-1437845.75,-1439107.0,-1439906.75,-1441432.5,-1442067.625,-1442587.25,-1443193.375,-1443493.75,-1444005.75,-1445326.125,-1446325.375,-1447944.375,-1448481.875,-1448961.375,-1449420.25,-1449740.0,-1450041.75,-1450043.75,-1452020.5,-1453381.875,-1455941.375,-1456279.5,-1456772.0,-1456893.75,-1457286.375,-1458535.5,-1458917.375,-1460513.625,-1460923.0,-1461265.125,-1461590.5,-1461759.625,-1461906.125,-1463356.125,-1463849.75,-1465712.75,-1466036.875,-1466362.375,-1466562.625,-1466727.125,-1467904.25,-1468751.5,-1470353.875,-1470640.875,-1471033.375,-1471154.125,-1471506.125,-1472328.125,-1472686.625,-1473728.875,-1474068.375,-1474332.25,-1474635.125,-1474757.125,-1474967.625,-1475935.5,-1476298.25,-1477543.625,-1477827.25,-1478077.375,-1478288.75,-1478409.375,-1478472.875,-1479618.125,-1479935.25,-1481420.75,-1481645.5,-1481880.25,-1482002.375,-1482105.0,-1483056.125,-1483526.625,-1484854.875,-1485048.0,-1485350.875,-1485397.625,-1485670.125,-1486352.25,-1486494.125,-1487367.875,-1487627.0,-1487804.0,-1488035.75,-1488080.0,-1488236.0,-1489069.875,-1489145.125,-1490232.875,-1490444.75,-1490614.875,-1490766.25,-1490809.5,-1490830.75,-1491860.375,-1492258.875,-1492641.0,-1492670.25,-1493107.5,-1493452.5,-1493567.0,-1493993.75,-1494268.25,-1494443.75,-1494742.375,-1494764.75,-1495059.625,-1495526.25,-1495629.875,-1496252.125,-1496471.625,-1496634.75,-1496825.125,-1496909.75,-1497019.375,-1497656.125,-1497992.125,-1498886.5,-1499039.875,-1499262.375,-1499310.625,-1499517.875,-1499997.0,-1500138.5,-1500745.125,-1500944.125,-1501078.25,-1501265.25,-1501297.125,-1501443.5,-1502022.0,-1502092.0,-1502837.0,-1503010.0,-1503132.125,-1503273.625,-1503291.375,-1503360.0,-1504072.0,-1504344.625,-1504611.875,-1504666.0,-1504963.5,-1505228.125,-1505348.625,-1505683.75,-1505880.375,-1506026.0,-1506230.5,-1506286.625,-1506473.0,-1506836.125,-1507014.75,-1507511.5,-1507670.5,-1507821.125,-1507938.625,-1508058.0,-1508088.5,-1508141.375,-1508770.625,-1508786.375,-1509606.125,-1509729.25,-1509835.875,-1509910.125,-1509919.625,-1510509.75,-1510883.5,-1511758.5,-1511831.875,-1512047.0,-1512264.75,-1512409.125,-1512665.25,-1512830.5,-1512966.75,-1513157.875,-1513193.875,-1513411.0,-1513656.375,-1513752.75,-1514045.0,-1514213.0,-1514316.5,-1514510.75,-1514686.25,-1514849.625,-1515050.875,-1515082.5,-1515296.25,-1515529.75,-1515617.625,-1515927.375,-1516073.875,-1516182.625,-1516321.125,-1516377.5,-1516477.125,-1516819.0,-1517048.0,-1517535.25,-1517644.5,-1517785.125,-1517835.625,-1517963.875,-1518250.0,-1518420.5,-1518795.75,-1518918.125,-1519031.5,-1519128.875,-1519213.25,-1519258.125,-1519283.25,-1519758.5,-1519914.125,-1520531.25,-1520617.125,-1520742.25,-1520776.125,-1520874.5,-1521206.25,-1521356.875,-1521777.0,-1521884.0,-1521993.875,-1522070.375,-1522157.5,-1522176.75,-1522214.0,-1522676.375,-1522740.0,-1523319.75,-1523403.0,-1523508.625,-1523548.5,-1523618.75,-1523954.75,-1524136.0,-1524567.75,-1524661.375,-1524773.125,-1524827.125,-1524924.375,-1525169.125,-1525362.75,-1525666.875,-1525772.5,-1525869.75,-1525961.0,-1526031.0,-1526094.25,-1526108.875,-1526114.75,-1526595.5,-1526603.375,-1527215.125,-1527279.5,-1527376.125,-1527393.125,-1527451.625,-1527800.375,-1527880.625,-1528339.0,-1528416.125,-1528516.0,-1528550.375,-1528632.875,-1528894.625,-1529016.25,-1529346.875,-1529439.5,-1529522.625,-1529598.375,-1529650.75,-1529693.375,-1529988.25,-1530211.5,-1530584.375,-1530665.75,-1530757.625,-1530810.625,-1530880.25,-1530885.25,-1530900.875,-1531312.875,-1531314.75,-1531863.875,-1531914.875,-1532013.25,-1532178.875,-1532326.75,-1532533.0,-1532625.5,-1532707.625,-1532796.0,-1532851.875,-1532927.25,-1532935.125,-1532978.375,-1533312.5,-1533320.75,-1533754.25,-1533822.375,-1533893.875,-1533932.75,-1533968.625,-1534247.625,-1534432.875,-1534803.25,-1534869.25,-1534962.25,-1534988.25,-1535074.125,-1535272.375,-1535357.375,-1535609.375,-1535692.5,-1535760.0,-1535833.75,-1535871.0,-1535923.25,-1536155.25,-1536293.5,-1536591.875,-1536664.375,-1536738.5,-1536790.625,-1536842.5,-1536858.0,-1536859.0,-1537215.75,-1537262.625,-1537738.5,-1537779.625,-1537868.0,-1538008.25,-1538121.875,-1538297.375,-1538377.375,-1538447.125,-1538524.125,-1538568.875,-1538635.625,-1538636.375,-1538675.625,-1538968.625,-1539080.75,-1539191.875,-1539222.875,-1539349.875,-1539455.125,-1539516.5,-1539643.375,-1539728.25,-1539800.25,-1539894.125,-1539922.5,-1540019.375,-1540149.25,-1540227.375,-1540392.75,-1540469.375,-1540533.0,-1540607.0,-1540646.5,-1540706.875,-1540868.75,-1541022.125,-1541234.625,-1541303.0,-1541373.0,-1541423.375,-1541483.875,-1541501.5,-1541538.375,-1541778.375,-1541830.875,-1542144.75,-1542201.0,-1542262.125,-1542295.375,-1542332.375,-1542534.0,-1542686.5,-1542954.0,-1543010.75,-1543082.125,-1543111.25,-1543175.375,-1543328.0,-1543422.125,-1543618.125,-1543683.875,-1543741.875,-1543798.5,-1543836.125,-1543873.125,-1544055.0,-1544211.5,-1544447.375,-1544505.5,-1544569.0,-1544608.375,-1544657.5,-1544664.5,-1544679.0,-1544949.375,-1544966.5,-1545326.25,-1545364.5,-1545429.5,-1545431.5,-1545482.0,-1545687.0,-1545693.125,-1545961.875,-1546016.75,-1546064.25,-1546102.875,-1546123.75,-1546130.125,-1546382.875,-1546443.5,-1546777.125,-1546816.75,-1546877.625,-1546887.25,-1546929.75,-1547122.0,-1547164.375,-1547419.5,-1547468.625,-1547523.375,-1547550.5,-1547590.5,-1547753.25,-1547853.375,-1548065.625,-1548118.5,-1548173.25,-1548210.25,-1548249.875,-1548259.25,-1548263.625,-1548519.75,-1548545.625,-1548884.75,-1548916.375,-1548977.375,-1549082.75,-1549174.5,-1549308.5,-1549366.375,-1549418.0,-1549471.875,-1549507.375,-1549550.375,-1549556.25,-1549574.5,-1549801.5,-1549893.125,-1549980.0,-1549999.375,-1550100.875,-1550176.75,-1550216.75,-1550306.5,-1550372.375,-1550426.5,-1550501.625,-1550515.875,-1550596.75,-1550691.25,-1550733.375,-1550851.875,-1550911.25,-1550955.5,-1551016.5,-1551035.75,-1551091.25,-1551210.25,-1551276.25,-1551430.875,-1551483.125,-1551529.5,-1551572.75,-1551605.375,-1551629.125,-1551634.625,-1551838.375,-1551928.875,-1552198.125,-1552232.375,-1552286.75,-1552295.5,-1552337.25,-1552488.625,-1552527.125,-1552726.875,-1552771.125,-1552815.5,-1552844.125,-1552875.125,-1553008.875,-1553126.5,-1553302.0,-1553346.75,-1553395.5,-1553425.75,-1553464.5,-1553469.875,-1553483.75,-1553685.25,-1553700.5,-1553967.0,-1553998.0,-1554045.875,-1554050.875,-1554086.625,-1554243.375,-1554257.25,-1554463.75,-1554504.75,-1554543.375,-1554570.375,-1554590.875,-1554591.25,-1554786.125,-1554860.375,-1555119.0,-1555147.75,-1555198.125,-1555201.375,-1555239.875,-1555383.25,-1555403.125,-1555592.125,-1555632.25,-1555670.75,-1555696.25,-1555720.375,-1555849.75,-1555959.125,-1556129.25,-1556168.5,-1556213.75,-1556237.75,-1556274.5,-1556377.75,-1556471.875,-1556607.0,-1556649.25,-1556692.375,-1556723.625,-1556759.5,-1556770.5,-1556789.125,-1556947.5,-1556980.25,-1557190.125,-1557222.75,-1557263.5,-1557278.5,-1557305.875,-1557435.375,-1557496.75,-1557667.25,-1557703.5,-1557744.5,-1557765.375,-1557797.875,-1557905.0,-1557981.75,-1558121.875,-1558161.0,-1558200.625,-1558229.625,-1558259.375,-1558270.0,-1558277.375,-1558447.25,-1558487.25,-1558711.125,-1558737.0,-1558780.25,-1558783.25,-1558817.75,-1558945.75,-1558956.75,-1559125.25,-1559161.25,-1559193.75,-1559219.25,-1559235.875,-1559240.0,-1559400.5,-1559459.875,-1559673.375,-1559699.125,-1559742.0,-1559746.875,-1559779.875,-1559900.0,-1559923.125,-1560080.75,-1560115.625,-1560148.875,-1560172.125,-1560193.25,-1560193.625,-1560346.875,-1560461.0,-1560661.625,-1560686.125,-1560731.0,-1560732.875,-1560773.125,-1560879.875,-1560891.625,-1561031.25,-1561068.25,-1561096.875,-1561127.25,-1561139.375,-1561154.375,-1561288.75,-1561331.625,-1561510.25,-1561538.5,-1561575.5,-1561587.875,-1561615.0,-1561722.375,-1561771.5,-1561912.5,-1561945.375,-1561979.875,-1562001.125,-1562026.875,-1562119.25,-1562204.75,-1562325.875,-1562360.375,-1562396.375,-1562420.5,-1562449.875,-1562457.0,-1562469.375,-1562609.875,-1562635.375,-1562820.375,-1562845.625,-1562881.0,-1562888.375,-1562915.0,-1563026.0,-1563051.375,-1563198.375,-1563229.375,-1563260.5,-1563280.625,-1563300.375,-1563398.875,-1563493.25,-1563622.5,-1563653.625,-1563690.125,-1563708.625,-1563740.25,-1563817.75,-1563881.375,-1563982.25,-1564016.5,-1564049.0,-1564077.0,-1564101.625,-1564117.375,-1564124.625,-1564251.625,-1564326.25,-1564492.625,-1564516.875,-1564554.125,-1564561.0,-1564593.0,-1564686.375,-1564710.75,-1564833.625,-1564865.75,-1564894.0,-1564918.75,-1564935.125,-1564945.0,-1565062.5,-1565132.25,-1565289.375,-1565314.375,-1565350.125,-1565359.625,-1565389.25,-1565478.25,-1565514.5,-1565630.875,-1565661.75,-1565691.0,-1565714.25,-1565734.0,-1565741.25,-1565741.375,-1565890.75,-1565903.0,-1566103.25,-1566121.375,-1566156.25,-1566218.0,-1566272.875,-1566352.25,-1566385.25,-1566415.75,-1566445.5,-1566468.0,-1566489.625,-1566497.0,-1566499.875,-1566639.0,-1566664.5,-1566846.875,-1566866.125,-1566899.625,-1566900.5,-1566926.375,-1567031.125,-1567035.625,-1567174.625,-1567201.875,-1567227.625,-1567245.625,-1567259.375,-1567355.625,-1567443.25,-1567568.75,-1567595.25,-1567628.5,-1567642.125,-1567671.0,-1567744.5,-1567790.875,-1567887.0,-1567917.375,-1567945.875,-1567970.25,-1567990.5,-1568003.125,-1568006.625,-1568129.625,-1568185.625,-1568346.875,-1568367.0,-1568400.625,-1568403.75,-1568431.625,-1568522.125,-1568535.5,-1568655.125,-1568682.875,-1568707.875,-1568728.375,-1568742.125,-1568747.375,-1568862.25,-1568919.5,-1569073.25,-1569094.0,-1569127.375,-1569132.0,-1569159.75,-1569244.75,-1569265.375,-1569376.0,-1569404.25,-1569429.0,-1569449.875,-1569464.625,-1569471.125,-1569578.5,-1569648.75,-1569789.25,-1569810.875,-1569843.0,-1569849.875,-1569877.125,-1569956.75,-1569981.5,-1570086.875,-1570114.375,-1570139.375,-1570160.625,-1570176.25,-1570184.0,-1570284.625,-1570358.0,-1570492.625,-1570514.625,-1570546.875,-1570554.5,-1570582.375,-1570656.625,-1570686.125,-1570782.375,-1570810.375,-1570834.875,-1570857.125,-1570872.625,-1570883.125,-1570976.375,-1571051.75,-1571173.875,-1571196.625,-1571227.0,-1571237.625,-1571263.625,-1571334.5,-1571370.75,-1571463.875,-1571491.0,-1571516.625,-1571537.75,-1571555.625,-1571564.75,-1571566.5,-1571685.875,-1571722.5,-1571878.25,-1571895.75,-1571925.75,-1571926.875,-1571950.875,-1572039.375,-1572045.875,-1572163.375,-1572187.875,-1572210.75,-1572227.25,-1572239.875,-1572240.625,-1572353.5,-1572405.625,-1572557.875,-1572574.625,-1572606.625,-1572607.25,-1572634.375,-1572715.25,-1572723.625,-1572829.0,-1572855.125,-1572875.875,-1572895.75,-1572905.75,-1572912.625,-1573015.625,-1573057.0,-1573191.5,-1573210.75,-1573238.75,-1573244.875,-1573267.0,-1573346.0,-1573368.0,-1573472.625,-1573496.625,-1573520.5,-1573537.0,-1573552.875,-1573554.875,-1573654.875,-1573736.125,-1573870.75,-1573888.75,-1573920.5,-1573923.375,-1573951.75,-1574021.875,-1574036.75,-1574127.75,-1574153.875,-1574174.5,-1574196.125,-1574206.375,-1574217.625,-1574306.25,-1574349.0,-1574465.0,-1574485.75,-1574511.75,-1574521.875,-1574541.875,-1574612.75,-1574650.375,-1574744.375,-1574767.875,-1574792.5,-1574808.75,-1574827.375,-1574830.125,-1574834.75,-1574947.875,-1574952.75,-1575101.125,-1575117.0,-1575142.0,-1575144.25,-1575161.125,-1575249.875,-1575256.625,-1575375.375,-1575396.125,-1575418.75,-1575429.625,-1575444.25,-1575521.25,-1575566.875,-1575667.25,-1575689.125,-1575713.875,-1575727.0,-1575745.875,-1575809.125,-1575860.0,-1575944.0,-1575967.5,-1575992.375,-1576008.875,-1576029.0,-1576033.125,-1576042.125,-1576139.875,-1576153.25,-1576281.0,-1576298.875,-1576322.5,-1576328.75,-1576344.75,-1576423.75,-1576446.875,-1576552.5,-1576573.125,-1576596.375,-1576607.75,-1576624.75,-1576691.625,-1576737.75,-1576824.375,-1576847.0,-1576870.375,-1576886.0,-1576903.75,-1576906.5,-1576911.75,-1577016.0,-1577017.875,-1577158.625,-1577173.125,-1577198.0,-1577199.125,-1577217.125,-1577298.125,-1577304.625,-1577410.25,-1577430.875,-1577450.375,-1577463.75,-1577474.0,-1577547.375,-1577609.125,-1577707.625,-1577727.0,-1577753.125,-1577762.375,-1577785.125,-1577840.75,-1577872.75,-1577944.625,-1577967.75,-1577988.75,-1578008.25,-1578022.125,-1578033.25,-1578033.375,-1578128.875,-1578178.375,-1578307.875,-1578321.75,-1578349.625,-1578387.5,-1578423.25,-1578471.0,-1578495.25,-1578517.375,-1578541.25,-1578556.125,-1578577.5,-1578580.375,-1578593.375,-1578675.875,-1578686.625,-1578794.125,-1578812.625,-1578832.625,-1578842.5,-1578854.75,-1578925.125,-1578965.25,-1579059.75,-1579078.75,-1579102.125,-1579111.875,-1579131.0,-1579187.375,-1579223.0,-1579295.625,-1579317.25,-1579337.75,-1579354.625,-1579369.25,-1579377.25,-1579379.25,-1579471.75,-1579499.75,-1579625.125,-1579638.75,-1579663.875,-1579701.875,-1579738.125,-1579786.0,-1579809.25,-1579830.0,-1579852.375,-1579867.0,-1579885.75,-1579889.375,-1579899.375,-1579981.875,-1579993.875,-1580101.375,-1580118.0,-1580138.0,-1580145.5,-1580158.375,-1580226.75,-1580256.25,-1580348.25,-1580366.25,-1580388.0,-1580397.375,-1580414.5,-1580470.375,-1580506.0,-1580578.375,-1580598.75,-1580618.625,-1580634.125,-1580648.375,-1580654.125,-1580656.25,-1580747.125,-1580764.375,-1580887.25,-1580899.75,-1580923.75,-1580961.375,-1580996.125,-1581043.5,-1581065.625,-1581085.5,-1581106.625,-1581120.25,-1581137.75,-1581140.75,-1581149.0,-1581230.875,-1581240.375,-1581347.25,-1581362.75,-1581381.75,-1581388.0,-1581400.25,-1581467.75,-1581491.375,-1581582.125,-1581598.75,-1581619.25,-1581627.875,-1581643.875,-1581699.125,-1581731.625,-1581803.125,-1581822.25,-1581841.125,-1581855.375,-1581868.75,-1581873.5,-1581874.75,-1581964.75,-1581976.875,-1582098.75,-1582110.0,-1582133.0,-1582169.875,-1582201.5,-1582248.125,-1582269.25,-1582288.0,-1582307.875,-1582320.875,-1582337.25,-1582339.0,-1582347.125,-1582427.75,-1582432.125,-1582537.375,-1582551.875,-1582569.875,-1582575.625,-1582586.375,-1582653.25,-1582674.75,-1582764.75,-1582780.125,-1582800.0,-1582807.375,-1582823.125,-1582877.125,-1582904.0,-1582974.125,-1582992.625,-1583010.125,-1583023.875,-1583035.875,-1583040.625,-1583107.125,-1583168.625,-1583255.125,-1583270.25,-1583291.5,-1583298.0,-1583315.875,-1583365.375,-1583389.125,-1583454.875,-1583473.125,-1583490.875,-1583504.5,-1583517.5,-1583522.0,-1583524.5,-1583606.875,-1583620.875,-1583728.375,-1583740.5,-1583759.625,-1583762.125,-1583775.125,-1583839.0,-1583847.75,-1583933.375,-1583949.125,-1583966.375,-1583974.75,-1583986.875,-1584042.0,-1584075.0,-1584146.5,-1584163.25,-1584181.125,-1584192.75,-1584205.625,-1584206.75,-1584209.0,-1584295.25,-1584328.25,-1584361.25,-1584364.75,-1584405.0,-1584430.375,-1584441.875,-1584470.625,-1584495.5,-1584515.25,-1584545.75,-1584566.375,-1584586.125,-1584608.625,-1584618.875,-1584641.75,-1584672.625,-1584698.0,-1584737.375,-1584757.0,-1584774.25,-1584793.125,-1584804.875,-1584821.0,-1584823.75,-1584831.875,-1584901.25,-1584908.875,-1585002.75,-1585015.625,-1585033.875,-1585038.25,-1585051.875,-1585107.5,-1585123.0,-1585195.125,-1585211.375,-1585226.75,-1585238.5,-1585247.5,-1585249.875,-1585318.75,-1585361.5,-1585450.5,-1585463.5,-1585482.375,-1585486.5,-1585501.5,-1585553.0,-1585568.25,-1585636.75,-1585652.75,-1585668.875,-1585679.625,-1585691.375,-1585691.875,-1585692.75,-1585777.625,-1585808.375,-1585839.375,-1585841.25,-1585878.125,-1585903.75,-1585913.5,-1585943.625,-1585966.75,-1585982.75,-1586009.125,-1586009.875,-1586039.0,-1586072.0,-1586080.0,-1586121.875,-1586142.375,-1586154.875,-1586176.25,-1586179.25,-1586198.875,-1586241.875,-1586254.0,-1586310.25,-1586327.5,-1586342.0,-1586356.25,-1586364.75,-1586372.25,-1586427.5,-1586466.625,-1586541.5,-1586555.25,-1586574.5,-1586580.0,-1586597.25,-1586638.75,-1586657.5,-1586710.5,-1586727.75,-1586741.75,-1586756.75,-1586764.875,-1586774.5,-1586825.125,-1586858.25,-1586923.625,-1586938.625,-1586954.75,-1586964.5,-1586976.375,-1586976.875,-1586978.625,-1587057.25,-1587086.0,-1587116.0,-1587118.375,-1587154.875,-1587178.0,-1587188.0,-1587213.5,-1587236.5,-1587253.875,-1587281.75,-1587300.25,-1587317.375,-1587337.5,-1587346.625,-1587366.75,-1587395.125,-1587418.75,-1587455.125,-1587472.5,-1587488.125,-1587504.375,-1587515.75,-1587528.875,-1587532.5,-1587537.875,-1587601.875,-1587613.375,-1587700.625,-1587711.375,-1587729.125,-1587730.875,-1587745.375,-1587794.5,-1587802.375,-1587865.5,-1587881.0,-1587893.375,-1587905.25,-1587910.875,-1587915.875,-1587976.375,-1587997.375,-1588075.75,-1588088.0,-1588103.375,-1588108.875,-1588119.375,-1588167.875,-1588189.75,-1588255.375,-1588268.875,-1588285.125,-1588292.25,-1588305.75,-1588345.5,-1588371.0,-1588421.5,-1588437.125,-1588451.375,-1588464.0,-1588473.375,-1588480.25,-1588528.0,-1588571.5,-1588633.125,-1588646.5,-1588662.375,-1588670.75,-1588683.0,-1588721.125,-1588755.0,-1588806.25,-1588821.0,-1588837.0,-1588847.0,-1588860.875,-1588862.375,-1588870.875,-1588928.375,-1588932.25,-1589006.375,-1589018.875,-1589031.5,-1589039.0,-1589045.25,-1589095.625,-1589131.0,-1589199.875,-1589211.875,-1589229.25,-1589233.125,-1589249.75,-1589286.625,-1589300.375,-1589347.25,-1589363.0,-1589374.875,-1589389.25,-1589394.875,-1589405.125,-1589450.0,-1589471.25,-1589528.5,-1589542.375,-1589555.625,-1589565.75,-1589574.0,-1589576.75,-1589631.25,-1589671.625,-1589741.0,-1589752.5,-1589768.125,-1589773.0,-1589784.625,-1589826.0,-1589845.75,-1589901.75,-1589914.875,-1589929.375,-1589937.75,-1589949.5,-1589984.5,-1590015.375,-1590060.0,-1590074.75,-1590088.25,-1590100.0,-1590109.75,-1590116.625,-1590118.125,-1590175.5,-1590209.5,-1590288.875,-1590297.625,-1590316.375,-1590339.0,-1590359.0,-1590386.5,-1590402.125,-1590416.125,-1590432.625,-1590440.875,-1590457.0,-1590483.125,-1590506.75,-1590539.5,-1590554.5,-1590568.0,-1590582.625,-1590591.375,-1590604.125,-1590634.875,-1590664.375,-1590703.375,-1590717.875,-1590731.0,-1590743.625,-1590753.125,-1590762.25,-1590763.5,-1590764.5,-1590830.75,-1590856.125,-1590880.5,-1590883.125,-1590911.75,-1590932.25,-1590940.75,-1590965.0,-1590983.0,-1590996.0,-1591016.5,-1591018.375,-1591040.125,-1591066.875,-1591075.125,-1591109.5,-1591125.25,-1591136.25,-1591151.75,-1591156.5,-1591169.75,-1591204.75,-1591221.75,-1591268.875,-1591281.75,-1591294.875,-1591304.5,-1591314.875,-1591317.25,-1591321.0,-1591378.25,-1591383.25,-1591457.0,-1591467.125,-1591479.0,-1591483.375,-1591489.75,-1591537.125,-1591554.625,-1591619.625,-1591629.625,-1591644.625,-1591647.875,-1591661.25,-1591697.25,-1591708.5,-1591754.5,-1591768.125,-1591778.625,-1591790.5,-1591795.25,-1591803.0,-1591846.5,-1591864.125,-1591920.25,-1591932.125,-1591944.125,-1591952.0,-1591959.125,-1591959.5,-1592012.375,-1592046.125,-1592113.5,-1592122.875,-1592136.875,-1592140.0,-1592150.25,-1592190.125,-1592203.25,-1592257.0,-1592268.375,-1592281.5,-1592287.875,-1592298.375,-1592332.25,-1592355.125,-1592397.875,-1592410.625,-1592422.375,-1592432.875,-1592440.5,-1592446.25,-1592486.25,-1592521.0,-1592571.875,-1592583.375,-1592596.0,-1592603.375,-1592612.875,-1592613.25,-1592615.0,-1592675.25,-1592697.875,-1592721.0,-1592723.0,-1592751.875,-1592769.25,-1592776.875,-1592796.5,-1592814.25,-1592828.625,-1592850.875,-1592864.875,-1592878.25,-1592893.0,-1592900.75,-1592915.25,-1592915.5,-1592926.875,-1592967.125,-1592970.625,-1593025.25,-1593036.375,-1593047.625,-1593054.125,-1593061.875,-1593098.125,-1593124.625,-1593170.875,-1593182.375,-1593194.375,-1593202.75,-1593211.125,-1593213.625,-1593213.875,-1593271.125,-1593278.0,-1593357.0,-1593362.875,-1593378.625,-1593401.125,-1593417.0,-1593444.875,-1593458.375,-1593469.375,-1593483.25,-1593489.375,-1593502.125,-1593528.625,-1593548.0,-1593581.375,-1593594.375,-1593605.0,-1593617.125,-1593623.75,-1593633.125,-1593664.625,-1593690.5,-1593730.75,-1593742.625,-1593754.0,-1593763.75,-1593771.75,-1593776.5,-1593777.25,-1593828.0,-1593849.5,-1593919.5,-1593926.625,-1593942.25,-1593961.875,-1593978.625,-1594003.0,-1594016.125,-1594027.875,-1594041.625,-1594048.125,-1594061.5,-1594084.75,-1594104.375,-1594133.375,-1594146.25,-1594157.125,-1594169.5,-1594176.375,-1594187.0,-1594214.25,-1594239.625,-1594274.625,-1594286.5,-1594297.75,-1594308.125,-1594316.125,-1594322.625,-1594324.0,-1594369.0,-1594406.0,-1594468.375,-1594476.25,-1594491.875,-1594509.625,-1594526.25,-1594548.0,-1594560.875,-1594573.0,-1594586.75,-1594594.0,-1594607.5,-1594628.0,-1594647.625,-1594673.125,-1594685.75,-1594697.125,-1594709.5,-1594717.0,-1594728.25,-1594728.625,-1594736.375,-1594779.5,-1594781.0,-1594836.75,-1594846.625,-1594856.0,-1594862.5,-1594866.625,-1594905.625,-1594938.5,-1594992.0,-1595000.875,-1595015.25,-1595017.625,-1595031.25,-1595059.125,-1595068.375,-1595103.625,-1595116.0,-1595125.0,-1595136.75,-1595140.375,-1595149.5,-1595183.125,-1595197.125,-1595240.625,-1595251.5,-1595261.5,-1595269.75,-1595275.875,-1595279.0,-1595320.0,-1595347.125,-1595400.125,-1595409.25,-1595421.0,-1595425.375,-1595434.375,-1595466.25,-1595483.5,-1595526.5,-1595536.875,-1595548.5,-1595555.125,-1595564.5,-1595591.5,-1595615.125,-1595649.5,-1595661.0,-1595671.75,-1595681.125,-1595688.875,-1595694.25,-1595695.75,-1595739.75,-1595767.125,-1595827.5,-1595834.625,-1595849.25,-1595866.625,-1595883.375,-1595904.875,-1595917.125,-1595928.375,-1595940.75,-1595947.875,-1595960.0,-1595960.375,-1595970.375,-1596006.625,-1596009.25,-1596056.125,-1596066.5,-1596074.875,-1596083.125,-1596086.25,-1596088.875,-1596133.875,-1596145.125,-1596203.5,-1596211.375,-1596222.25,-1596225.375,-1596232.5,-1596268.375,-1596280.0,-1596328.625,-1596337.875,-1596349.0,-1596353.375,-1596362.75,-1596391.875,-1596408.125,-1596445.625,-1596456.625,-1596466.375,-1596474.875,-1596481.125,-1596485.25,-1596520.75,-1596549.75,-1596595.875,-1596605.0,-1596616.5,-1596621.5,-1596630.125,-1596658.25,-1596678.25,-1596715.75,-1596726.0,-1596737.0,-1596743.875,-1596753.125,-1596753.75,-1596758.875,-1596802.0,-1596803.25,-1596859.0,-1596867.25,-1596876.625,-1596880.875,-1596885.5,-1596922.25,-1596939.875,-1596989.625,-1596998.125,-1597010.25,-1597012.875,-1597023.5,-1597051.375,-1597061.625,-1597097.375,-1597108.125,-1597116.875,-1597126.0,-1597130.5,-1597135.875,-1597170.25,-1597188.625,-1597233.0,-1597242.0,-1597252.125,-1597257.75,-1597265.0,-1597293.25,-1597317.75,-1597356.125,-1597365.625,-1597377.0,-1597382.75,-1597392.875,-1597415.75,-1597435.125,-1597463.75,-1597474.5,-1597484.5,-1597493.75,-1597500.375,-1597507.25,-1597508.0,-1597508.375,-1597558.375,-1597577.25,-1597595.875,-1597597.25,-1597619.125,-1597634.125,-1597640.25,-1597657.875,-1597671.625,-1597681.5,-1597697.125,-1597697.875,-1597715.125,-1597734.625,-1597740.125,-1597764.75,-1597777.0,-1597784.75,-1597797.375,-1597799.625,-1597810.875,-1597836.25,-1597845.375,-1597879.125,-1597889.25,-1597898.25,-1597906.375,-1597912.5,-1597916.125,-1597949.125,-1597979.75,-1598024.75,-1598033.0,-1598045.25,-1598048.125,-1598059.5,-1598083.25,-1598093.125,-1598123.25,-1598133.875,-1598142.375,-1598152.0,-1598156.125,-1598163.75,-1598192.5,-1598208.0,-1598245.125,-1598254.75,-1598263.875,-1598270.875,-1598276.875,-1598279.5,-1598314.625,-1598345.0,-1598390.25,-1598398.375,-1598409.125,-1598412.75,-1598421.625,-1598447.875,-1598461.75,-1598497.375,-1598506.75,-1598516.5,-1598522.75,-1598530.5,-1598531.375,-1598534.375,-1598576.875,-1598577.875,-1598633.25,-1598640.375,-1598649.375,-1598651.875,-1598656.75,-1598691.75,-1598701.75,-1598749.125,-1598756.5,-1598767.25,-1598769.875,-1598778.25,-1598806.25,-1598815.875,-1598851.5,-1598861.0,-1598869.25,-1598876.875,-1598881.375,-1598885.0,-1598918.875,-1598938.25,-1598982.125,-1598990.25,-1598999.75,-1599004.0,-1599011.375,-1599038.25,-1599055.125,-1599091.5,-1599100.25,-1599110.5,-1599115.75,-1599124.25,-1599146.75,-1599166.0,-1599194.5,-1599204.375,-1599213.625,-1599221.75,-1599228.25,-1599233.25,-1599234.25,-1599271.375,-1599297.0,-1599347.625,-1599353.75,-1599366.125,-1599366.25,-1599377.875,-1599403.375,-1599406.25,-1599438.625,-1599449.0,-1599455.25,-1599464.875,-1599466.5,-1599473.375,-1599505.0,-1599511.0,-1599551.625,-1599560.125,-1599568.0,-1599574.125,-1599578.25,-1599579.125,-1599617.625,-1599635.0,-1599685.375,-1599691.625,-1599701.625,-1599703.375,-1599710.625,-1599740.125,-1599747.5,-1599786.75,-1599795.0,-1599803.75,-1599808.5,-1599815.25,-1599840.625,-1599859.25,-1599891.5,-1599900.625,-1599909.25,-1599915.875,-1599922.25,-1599924.75,-1599925.375,-1599965.875,-1599975.0,-1600030.75,-1600035.875,-1600047.25,-1600063.5,-1600076.625,-1600096.625,-1600106.875,-1600115.375,-1600125.25,-1600130.75,-1600139.625,-1600159.125,-1600176.125,-1600200.5,-1600210.0,-1600218.625,-1600227.25,-1600233.125,-1600239.625,-1600240.25,-1600241.625,-1600283.5,-1600299.75,-1600315.0,-1600317.25,-1600335.75,-1600349.0,-1600354.875,-1600370.5,-1600382.25,-1600391.0,-1600404.375,-1600405.75,-1600419.875,-1600437.0,-1600443.0,-1600464.75,-1600475.125,-1600482.5,-1600492.875,-1600495.875,-1600505.125,-1600527.375,-1600538.125,-1600567.5,-1600576.5,-1600584.875,-1600591.625,-1600597.75,-1600600.25,-1600602.0,-1600639.375,-1600648.625,-1600696.75,-1600703.25,-1600712.0,-1600714.0,-1600720.0,-1600749.5,-1600757.75,-1600797.25,-1600804.875,-1600813.875,-1600817.5,-1600824.625,-1600849.125,-1600862.0,-1600892.875,-1600901.5,-1600909.625,-1600916.25,-1600921.375,-1600924.5,-1600953.875,-1600977.375,-1601015.5,-1601022.625,-1601032.0,-1601036.0,-1601043.0,-1601066.125,-1601082.0,-1601113.0,-1601121.375,-1601130.375,-1601135.875,-1601143.625,-1601143.875,-1601147.875,-1601183.25,-1601197.5,-1601210.875,-1601214.625,-1601230.125,-1601242.75,-1601250.0,-1601265.375,-1601275.625,-1601284.25,-1601295.875,-1601299.125,-1601311.125,-1601327.125,-1601335.875,-1601356.5,-1601366.125,-1601373.875,-1601383.0,-1601387.75,-1601395.25,-1601415.875,-1601434.125,-1601461.375,-1601469.75,-1601478.75,-1601484.75,-1601492.5,-1601494.125,-1601498.875,-1601530.25,-1601535.875,-1601576.25,-1601583.5,-1601591.125,-1601595.5,-1601599.75,-1601626.75,-1601646.375,-1601683.125,-1601690.25,-1601700.0,-1601702.875,-1601712.125,-1601732.375,-1601742.375,-1601768.0,-1601777.0,-1601784.375,-1601792.25,-1601796.25,-1601801.875,-1601826.5,-1601842.0,-1601873.875,-1601881.625,-1601889.625,-1601895.125,-1601900.875,-1601902.625,-1601932.25,-1601961.125,-1601999.75,-1602006.5,-1602015.625,-1602018.75,-1602026.0,-1602048.625,-1602060.0,-1602089.875,-1602098.0,-1602106.125,-1602111.5,-1602118.125,-1602118.875,-1602121.375,-1602157.25,-1602157.875,-1602204.25,-1602210.5,-1602217.875,-1602220.125,-1602224.125,-1602253.875,-1602263.375,-1602303.875,-1602310.375,-1602319.375,-1602321.375,-1602329.125,-1602352.375,-1602359.375,-1602389.0,-1602397.125,-1602404.0,-1602411.0,-1602414.25,-1602418.0,-1602446.25,-1602459.75,-1602496.375,-1602503.25,-1602511.25,-1602515.25,-1602520.625,-1602544.25,-1602561.25,-1602593.0,-1602600.25,-1602609.25,-1602613.25,-1602621.25,-1602639.75,-1602653.125,-1602677.0,-1602685.5,-1602692.75,-1602700.125,-1602705.0,-1602710.125,-1602732.625,-1602752.875,-1602781.5,-1602789.375,-1602797.25,-1602802.875,-1602808.75,-1602810.625,-1602812.0,-1602846.625,-1602852.125,-1602899.5,-1602904.375,-1602913.875,-1602928.125,-1602940.75,-1602958.625,-1602967.25,-1602974.75,-1602983.5,-1602988.125,-1602996.0,-1602996.125,-1603001.0,-1603031.5,-1603043.625,-1603055.5,-1603059.25,-1603072.625,-1603084.25,-1603091.625,-1603105.875,-1603115.0,-1603123.0,-1603133.0,-1603136.625,-1603146.75,-1603161.5,-1603171.375,-1603190.5,-1603199.125,-1603206.5,-1603214.5,-1603219.5,-1603225.5,-1603226.5,-1603228.125,-1603262.875,-1603264.75,-1603312.375,-1603316.875,-1603326.0,-1603340.375,-1603352.75,-1603371.0,-1603379.625,-1603386.875,-1603395.375,-1603399.875,-1603406.875,-1603424.125,-1603440.5,-1603462.375,-1603470.375,-1603477.75,-1603484.625,-1603489.875,-1603494.625,-1603495.5,-1603524.625,-1603551.875,-1603592.25,-1603597.375,-1603607.75,-1603607.875,-1603618.0,-1603637.625,-1603639.875,-1603664.75,-1603673.125,-1603678.375,-1603686.75,-1603687.375,-1603694.25,-1603718.5,-1603721.75,-1603752.875,-1603760.375,-1603766.125,-1603771.75,-1603774.25,-1603776.25,-1603806.75,-1603814.375,-1603853.75,-1603859.375,-1603866.75,-1603869.25,-1603873.75,-1603898.75,-1603908.0,-1603942.25,-1603948.25,-1603956.25,-1603959.125,-1603966.0,-1603986.0,-1603995.125,-1604020.75,-1604028.5,-1604034.875,-1604041.0,-1604044.5,-1604048.125,-1604073.0,-1604087.25,-1604119.625,-1604126.25,-1604133.375,-1604137.125,-1604142.25,-1604163.25,-1604179.375,-1604207.875,-1604214.5,-1604222.75,-1604226.375,-1604233.75,-1604250.75,-1604262.5,-1604284.0,-1604291.75,-1604298.25,-1604305.25,-1604309.125,-1604314.125,-1604334.75,-1604350.625,-1604377.5,-1604384.5,-1604391.625,-1604396.5,-1604401.375,-1604403.0,-1604428.625,-1604453.75,-1604487.5,-1604493.125,-1604501.125,-1604503.75,-1604510.0,-1604530.125,-1604539.5,-1604567.375,-1604573.875,-1604581.25,-1604585.375,-1604591.0,-1604609.25,-1604624.125,-1604647.375,-1604654.625,-1604661.375,-1604667.25,-1604671.625,-1604674.875,-1604697.25,-1604717.5,-1604747.125,-1604753.625,-1604760.75,-1604764.625,-1604769.875,-1604789.0,-1604804.125,-1604830.5,-1604837.125,-1604845.0,-1604848.75,-1604855.75,-1604871.875,-1604883.375,-1604904.25,-1604911.5,-1604917.875,-1604924.625,-1604928.25,-1604933.0,-1604953.25,-1604966.625,-1604993.125,-1604999.875,-1605006.25,-1605011.25,-1605015.375,-1605016.875,-1605042.875],\"type\":\"scatter\"}],                        {\"template\":{\"data\":{\"barpolar\":[{\"marker\":{\"line\":{\"color\":\"#E5ECF6\",\"width\":0.5},\"pattern\":{\"fillmode\":\"overlay\",\"size\":10,\"solidity\":0.2}},\"type\":\"barpolar\"}],\"bar\":[{\"error_x\":{\"color\":\"#2a3f5f\"},\"error_y\":{\"color\":\"#2a3f5f\"},\"marker\":{\"line\":{\"color\":\"#E5ECF6\",\"width\":0.5},\"pattern\":{\"fillmode\":\"overlay\",\"size\":10,\"solidity\":0.2}},\"type\":\"bar\"}],\"carpet\":[{\"aaxis\":{\"endlinecolor\":\"#2a3f5f\",\"gridcolor\":\"white\",\"linecolor\":\"white\",\"minorgridcolor\":\"white\",\"startlinecolor\":\"#2a3f5f\"},\"baxis\":{\"endlinecolor\":\"#2a3f5f\",\"gridcolor\":\"white\",\"linecolor\":\"white\",\"minorgridcolor\":\"white\",\"startlinecolor\":\"#2a3f5f\"},\"type\":\"carpet\"}],\"choropleth\":[{\"colorbar\":{\"outlinewidth\":0,\"ticks\":\"\"},\"type\":\"choropleth\"}],\"contourcarpet\":[{\"colorbar\":{\"outlinewidth\":0,\"ticks\":\"\"},\"type\":\"contourcarpet\"}],\"contour\":[{\"colorbar\":{\"outlinewidth\":0,\"ticks\":\"\"},\"colorscale\":[[0.0,\"#0d0887\"],[0.1111111111111111,\"#46039f\"],[0.2222222222222222,\"#7201a8\"],[0.3333333333333333,\"#9c179e\"],[0.4444444444444444,\"#bd3786\"],[0.5555555555555556,\"#d8576b\"],[0.6666666666666666,\"#ed7953\"],[0.7777777777777778,\"#fb9f3a\"],[0.8888888888888888,\"#fdca26\"],[1.0,\"#f0f921\"]],\"type\":\"contour\"}],\"heatmapgl\":[{\"colorbar\":{\"outlinewidth\":0,\"ticks\":\"\"},\"colorscale\":[[0.0,\"#0d0887\"],[0.1111111111111111,\"#46039f\"],[0.2222222222222222,\"#7201a8\"],[0.3333333333333333,\"#9c179e\"],[0.4444444444444444,\"#bd3786\"],[0.5555555555555556,\"#d8576b\"],[0.6666666666666666,\"#ed7953\"],[0.7777777777777778,\"#fb9f3a\"],[0.8888888888888888,\"#fdca26\"],[1.0,\"#f0f921\"]],\"type\":\"heatmapgl\"}],\"heatmap\":[{\"colorbar\":{\"outlinewidth\":0,\"ticks\":\"\"},\"colorscale\":[[0.0,\"#0d0887\"],[0.1111111111111111,\"#46039f\"],[0.2222222222222222,\"#7201a8\"],[0.3333333333333333,\"#9c179e\"],[0.4444444444444444,\"#bd3786\"],[0.5555555555555556,\"#d8576b\"],[0.6666666666666666,\"#ed7953\"],[0.7777777777777778,\"#fb9f3a\"],[0.8888888888888888,\"#fdca26\"],[1.0,\"#f0f921\"]],\"type\":\"heatmap\"}],\"histogram2dcontour\":[{\"colorbar\":{\"outlinewidth\":0,\"ticks\":\"\"},\"colorscale\":[[0.0,\"#0d0887\"],[0.1111111111111111,\"#46039f\"],[0.2222222222222222,\"#7201a8\"],[0.3333333333333333,\"#9c179e\"],[0.4444444444444444,\"#bd3786\"],[0.5555555555555556,\"#d8576b\"],[0.6666666666666666,\"#ed7953\"],[0.7777777777777778,\"#fb9f3a\"],[0.8888888888888888,\"#fdca26\"],[1.0,\"#f0f921\"]],\"type\":\"histogram2dcontour\"}],\"histogram2d\":[{\"colorbar\":{\"outlinewidth\":0,\"ticks\":\"\"},\"colorscale\":[[0.0,\"#0d0887\"],[0.1111111111111111,\"#46039f\"],[0.2222222222222222,\"#7201a8\"],[0.3333333333333333,\"#9c179e\"],[0.4444444444444444,\"#bd3786\"],[0.5555555555555556,\"#d8576b\"],[0.6666666666666666,\"#ed7953\"],[0.7777777777777778,\"#fb9f3a\"],[0.8888888888888888,\"#fdca26\"],[1.0,\"#f0f921\"]],\"type\":\"histogram2d\"}],\"histogram\":[{\"marker\":{\"pattern\":{\"fillmode\":\"overlay\",\"size\":10,\"solidity\":0.2}},\"type\":\"histogram\"}],\"mesh3d\":[{\"colorbar\":{\"outlinewidth\":0,\"ticks\":\"\"},\"type\":\"mesh3d\"}],\"parcoords\":[{\"line\":{\"colorbar\":{\"outlinewidth\":0,\"ticks\":\"\"}},\"type\":\"parcoords\"}],\"pie\":[{\"automargin\":true,\"type\":\"pie\"}],\"scatter3d\":[{\"line\":{\"colorbar\":{\"outlinewidth\":0,\"ticks\":\"\"}},\"marker\":{\"colorbar\":{\"outlinewidth\":0,\"ticks\":\"\"}},\"type\":\"scatter3d\"}],\"scattercarpet\":[{\"marker\":{\"colorbar\":{\"outlinewidth\":0,\"ticks\":\"\"}},\"type\":\"scattercarpet\"}],\"scattergeo\":[{\"marker\":{\"colorbar\":{\"outlinewidth\":0,\"ticks\":\"\"}},\"type\":\"scattergeo\"}],\"scattergl\":[{\"marker\":{\"colorbar\":{\"outlinewidth\":0,\"ticks\":\"\"}},\"type\":\"scattergl\"}],\"scattermapbox\":[{\"marker\":{\"colorbar\":{\"outlinewidth\":0,\"ticks\":\"\"}},\"type\":\"scattermapbox\"}],\"scatterpolargl\":[{\"marker\":{\"colorbar\":{\"outlinewidth\":0,\"ticks\":\"\"}},\"type\":\"scatterpolargl\"}],\"scatterpolar\":[{\"marker\":{\"colorbar\":{\"outlinewidth\":0,\"ticks\":\"\"}},\"type\":\"scatterpolar\"}],\"scatter\":[{\"fillpattern\":{\"fillmode\":\"overlay\",\"size\":10,\"solidity\":0.2},\"type\":\"scatter\"}],\"scatterternary\":[{\"marker\":{\"colorbar\":{\"outlinewidth\":0,\"ticks\":\"\"}},\"type\":\"scatterternary\"}],\"surface\":[{\"colorbar\":{\"outlinewidth\":0,\"ticks\":\"\"},\"colorscale\":[[0.0,\"#0d0887\"],[0.1111111111111111,\"#46039f\"],[0.2222222222222222,\"#7201a8\"],[0.3333333333333333,\"#9c179e\"],[0.4444444444444444,\"#bd3786\"],[0.5555555555555556,\"#d8576b\"],[0.6666666666666666,\"#ed7953\"],[0.7777777777777778,\"#fb9f3a\"],[0.8888888888888888,\"#fdca26\"],[1.0,\"#f0f921\"]],\"type\":\"surface\"}],\"table\":[{\"cells\":{\"fill\":{\"color\":\"#EBF0F8\"},\"line\":{\"color\":\"white\"}},\"header\":{\"fill\":{\"color\":\"#C8D4E3\"},\"line\":{\"color\":\"white\"}},\"type\":\"table\"}]},\"layout\":{\"annotationdefaults\":{\"arrowcolor\":\"#2a3f5f\",\"arrowhead\":0,\"arrowwidth\":1},\"autotypenumbers\":\"strict\",\"coloraxis\":{\"colorbar\":{\"outlinewidth\":0,\"ticks\":\"\"}},\"colorscale\":{\"diverging\":[[0,\"#8e0152\"],[0.1,\"#c51b7d\"],[0.2,\"#de77ae\"],[0.3,\"#f1b6da\"],[0.4,\"#fde0ef\"],[0.5,\"#f7f7f7\"],[0.6,\"#e6f5d0\"],[0.7,\"#b8e186\"],[0.8,\"#7fbc41\"],[0.9,\"#4d9221\"],[1,\"#276419\"]],\"sequential\":[[0.0,\"#0d0887\"],[0.1111111111111111,\"#46039f\"],[0.2222222222222222,\"#7201a8\"],[0.3333333333333333,\"#9c179e\"],[0.4444444444444444,\"#bd3786\"],[0.5555555555555556,\"#d8576b\"],[0.6666666666666666,\"#ed7953\"],[0.7777777777777778,\"#fb9f3a\"],[0.8888888888888888,\"#fdca26\"],[1.0,\"#f0f921\"]],\"sequentialminus\":[[0.0,\"#0d0887\"],[0.1111111111111111,\"#46039f\"],[0.2222222222222222,\"#7201a8\"],[0.3333333333333333,\"#9c179e\"],[0.4444444444444444,\"#bd3786\"],[0.5555555555555556,\"#d8576b\"],[0.6666666666666666,\"#ed7953\"],[0.7777777777777778,\"#fb9f3a\"],[0.8888888888888888,\"#fdca26\"],[1.0,\"#f0f921\"]]},\"colorway\":[\"#636efa\",\"#EF553B\",\"#00cc96\",\"#ab63fa\",\"#FFA15A\",\"#19d3f3\",\"#FF6692\",\"#B6E880\",\"#FF97FF\",\"#FECB52\"],\"font\":{\"color\":\"#2a3f5f\"},\"geo\":{\"bgcolor\":\"white\",\"lakecolor\":\"white\",\"landcolor\":\"#E5ECF6\",\"showlakes\":true,\"showland\":true,\"subunitcolor\":\"white\"},\"hoverlabel\":{\"align\":\"left\"},\"hovermode\":\"closest\",\"mapbox\":{\"style\":\"light\"},\"paper_bgcolor\":\"white\",\"plot_bgcolor\":\"#E5ECF6\",\"polar\":{\"angularaxis\":{\"gridcolor\":\"white\",\"linecolor\":\"white\",\"ticks\":\"\"},\"bgcolor\":\"#E5ECF6\",\"radialaxis\":{\"gridcolor\":\"white\",\"linecolor\":\"white\",\"ticks\":\"\"}},\"scene\":{\"xaxis\":{\"backgroundcolor\":\"#E5ECF6\",\"gridcolor\":\"white\",\"gridwidth\":2,\"linecolor\":\"white\",\"showbackground\":true,\"ticks\":\"\",\"zerolinecolor\":\"white\"},\"yaxis\":{\"backgroundcolor\":\"#E5ECF6\",\"gridcolor\":\"white\",\"gridwidth\":2,\"linecolor\":\"white\",\"showbackground\":true,\"ticks\":\"\",\"zerolinecolor\":\"white\"},\"zaxis\":{\"backgroundcolor\":\"#E5ECF6\",\"gridcolor\":\"white\",\"gridwidth\":2,\"linecolor\":\"white\",\"showbackground\":true,\"ticks\":\"\",\"zerolinecolor\":\"white\"}},\"shapedefaults\":{\"line\":{\"color\":\"#2a3f5f\"}},\"ternary\":{\"aaxis\":{\"gridcolor\":\"white\",\"linecolor\":\"white\",\"ticks\":\"\"},\"baxis\":{\"gridcolor\":\"white\",\"linecolor\":\"white\",\"ticks\":\"\"},\"bgcolor\":\"#E5ECF6\",\"caxis\":{\"gridcolor\":\"white\",\"linecolor\":\"white\",\"ticks\":\"\"}},\"title\":{\"x\":0.05},\"xaxis\":{\"automargin\":true,\"gridcolor\":\"white\",\"linecolor\":\"white\",\"ticks\":\"\",\"title\":{\"standoff\":15},\"zerolinecolor\":\"white\",\"zerolinewidth\":2},\"yaxis\":{\"automargin\":true,\"gridcolor\":\"white\",\"linecolor\":\"white\",\"ticks\":\"\",\"title\":{\"standoff\":15},\"zerolinecolor\":\"white\",\"zerolinewidth\":2}}},\"title\":{\"text\":\"Energy Minimization\"},\"xaxis\":{\"title\":{\"text\":\"Energy Minimization Step\"}},\"yaxis\":{\"title\":{\"text\":\"Potential Energy KJ/mol-1\"}}},                        {\"responsive\": true}                    ).then(function(){\n",
       "                            \n",
       "var gd = document.getElementById('da4182dd-3f0d-40e2-9ca4-d6a36ba9d7f6');\n",
       "var x = new MutationObserver(function (mutations, observer) {{\n",
       "        var display = window.getComputedStyle(gd).display;\n",
       "        if (!display || display === 'none') {{\n",
       "            console.log([gd, 'removed!']);\n",
       "            Plotly.purge(gd);\n",
       "            observer.disconnect();\n",
       "        }}\n",
       "}});\n",
       "\n",
       "// Listen for the removal of the full notebook cells\n",
       "var notebookContainer = gd.closest('#notebook-container');\n",
       "if (notebookContainer) {{\n",
       "    x.observe(notebookContainer, {childList: true});\n",
       "}}\n",
       "\n",
       "// Listen for the clearing of the current output cell\n",
       "var outputEl = gd.closest('.output');\n",
       "if (outputEl) {{\n",
       "    x.observe(outputEl, {childList: true});\n",
       "}}\n",
       "\n",
       "                        })                };                });            </script>        </div>"
      ]
     },
     "metadata": {},
     "output_type": "display_data"
    }
   ],
   "source": [
    "import plotly\n",
    "import plotly.graph_objs as go\n",
    "\n",
    "#Read data from file and filter energy values higher than 1000 Kj/mol^-1\n",
    "with open(output_min_ene_xvg,'r') as energy_file:\n",
    "    x,y = map(\n",
    "        list,\n",
    "        zip(*[\n",
    "            (float(line.split()[0]),float(line.split()[1]))\n",
    "            for line in energy_file \n",
    "            if not line.startswith((\"#\",\"@\")) \n",
    "            if float(line.split()[1]) < 1000 \n",
    "        ])\n",
    "    )\n",
    "\n",
    "plotly.offline.init_notebook_mode(connected=True)\n",
    "\n",
    "fig = {\n",
    "    \"data\": [go.Scatter(x=x, y=y)],\n",
    "    \"layout\": go.Layout(title=\"Energy Minimization\",\n",
    "                        xaxis=dict(title = \"Energy Minimization Step\"),\n",
    "                        yaxis=dict(title = \"Potential Energy KJ/mol-1\")\n",
    "                       )\n",
    "}\n",
    "\n",
    "plotly.offline.iplot(fig)"
   ]
  },
  {
   "cell_type": "markdown",
   "metadata": {},
   "source": [
    "<a id=\"nvt\"></a>\n",
    "***\n",
    "## Equilibrate the system (NVT)\n",
    "Equilibrate the **protein system** in **NVT ensemble** (constant Number of particles, Volume and Temperature). Protein **heavy atoms** will be restrained using position restraining forces: movement is permitted, but only after overcoming a substantial energy penalty. The utility of position restraints is that they allow us to equilibrate our solvent around our protein, without the added variable of structural changes in the protein.\n",
    "\n",
    "- [Step 1](#eqNVTStep1): Creating portable binary run file for system equilibration\n",
    "- [Step 2](#eqNVTStep2): Equilibrate the **protein system** with **NVT** ensemble.\n",
    "- [Step 3](#eqNVTStep3): Checking **NVT Equilibration** results. Plotting **system temperature** by time during the **NVT equilibration** process. \n",
    "***\n",
    "**Building Blocks** used:\n",
    "- [Grompp](https://biobb-md.readthedocs.io/en/latest/gromacs.html#module-gromacs.grompp) from **biobb_md.gromacs.grompp** \n",
    "- [Mdrun](https://biobb-md.readthedocs.io/en/latest/gromacs.html#module-gromacs.mdrun) from **biobb_md.gromacs.mdrun** \n",
    "- [GMXEnergy](https://biobb-analysis.readthedocs.io/en/latest/gromacs.html#module-gromacs.gmx_energy) from **biobb_analysis.gromacs.gmx_energy** \n",
    "***"
   ]
  },
  {
   "cell_type": "markdown",
   "metadata": {},
   "source": [
    "<a id=\"eqNVTStep1\"></a>\n",
    "### Step 1: Creating portable binary run file for system equilibration (NVT)\n",
    "The **nvt** type of the **molecular dynamics parameters (mdp) property** contains the main default parameters to run an **NVT equilibration** with **protein restraints** (see [GROMACS mdp options](http://manual.gromacs.org/documentation/2018/user-guide/mdp-options.html)):\n",
    "\n",
    "-  Define                   = -DPOSRES\n",
    "-  integrator               = md\n",
    "-  dt                       = 0.002\n",
    "-  nsteps                   = 50,000\n",
    "-  pcoupl                   = no\n",
    "-  gen_vel                  = yes\n",
    "-  gen_temp                 = 300\n",
    "-  gen_seed                 = -1\n",
    "\n",
    "In this particular example, the default parameters will be used: **md** integrator algorithm, a **step size** of **2fs**, **50,000 equilibration steps** with the protein **heavy atoms restrained** (100ps in total), and a temperature of **300K**.\n",
    "\n",
    "*Please refer to the [original example](http://www.mdtutorials.com/gmx/lysozyme/06_equil.html) for further details*"
   ]
  },
  {
   "cell_type": "code",
   "execution_count": 21,
   "metadata": {},
   "outputs": [
    {
     "name": "stdout",
     "output_type": "stream",
     "text": [
      "2022-04-26 19:29:41,447 [MainThread  ] [INFO ]  GROMACS Grompp 20191 version detected\n",
      "2022-04-26 19:29:41,455 [MainThread  ] [INFO ]  Extracting: /home/ma/git/druglord/temp/6V23/6V23_genion_top.zip\n",
      "2022-04-26 19:29:41,455 [MainThread  ] [INFO ]  to:\n",
      "2022-04-26 19:29:41,456 [MainThread  ] [INFO ]  ['7ab5b89a-b1a1-4a16-a190-b8fc2f19f19a/p2g.top', '7ab5b89a-b1a1-4a16-a190-b8fc2f19f19a/posre.itp']\n",
      "2022-04-26 19:29:41,457 [MainThread  ] [INFO ]  Unzipping: \n",
      "2022-04-26 19:29:41,458 [MainThread  ] [INFO ]  6V23_genion_top.zip\n",
      "2022-04-26 19:29:41,458 [MainThread  ] [INFO ]  To: \n",
      "2022-04-26 19:29:41,459 [MainThread  ] [INFO ]  7ab5b89a-b1a1-4a16-a190-b8fc2f19f19a/p2g.top\n",
      "2022-04-26 19:29:41,459 [MainThread  ] [INFO ]  7ab5b89a-b1a1-4a16-a190-b8fc2f19f19a/posre.itp\n",
      "2022-04-26 19:29:41,460 [MainThread  ] [INFO ]  Not using any container\n",
      "2022-04-26 19:29:42,218 [MainThread  ] [INFO ]  gmx -nobackup -nocopyright grompp -f ba8fe870-854a-47fa-bb4c-16c698b52f8a/grompp.mdp -c 6V23_min.gro -r 6V23_min.gro -p 7ab5b89a-b1a1-4a16-a190-b8fc2f19f19a/p2g.top -o 6V23_gppnvt.tpr -po mdout.mdp -maxwarn 0\n",
      "\n",
      "2022-04-26 19:29:42,220 [MainThread  ] [INFO ]  Exit code 0\n",
      "\n",
      "2022-04-26 19:29:42,221 [MainThread  ] [INFO ]  turning H bonds into constraints...\n",
      "turning H bonds into constraints...\n",
      "turning H bonds into constraints...\n",
      "turning H bonds into constraints...\n",
      "Analysing residue names:\n",
      "There are:   315    Protein residues\n",
      "There are: 28546      Water residues\n",
      "There are:    60        Ion residues\n",
      "Analysing Protein...\n",
      "Analysing residues not classified as Protein/DNA/RNA/Water and splitting into groups...\n",
      "Determining Verlet buffer for a tolerance of 0.005 kJ/mol/ps at 300 K\n",
      "Calculated rlist for 1x1 atom pair-list as 1.035 nm, buffer size 0.035 nm\n",
      "Set rlist, assuming 4x4 atom pair-list, to 1.000 nm, buffer size 0.000 nm\n",
      "Note that mdrun will redetermine rlist based on the actual pair-list setup\n",
      "Calculating fourier grid dimensions for X Y Z\n",
      "Using a fourier grid of 84x84x84, spacing 0.116 0.116 0.116\n",
      "This run will generate roughly 238 Mb of data\n",
      "\n",
      "2022-04-26 19:29:42,222 [MainThread  ] [INFO ]                        :-) GROMACS - gmx grompp, 2019.1 (-:\n",
      "\n",
      "Executable:   /home/ma/miniconda3/envs/druglord/bin/gmx\n",
      "Data prefix:  /home/ma/miniconda3/envs/druglord\n",
      "Working dir:  /home/ma/git/druglord/temp/6V23\n",
      "Command line:\n",
      "  gmx -nobackup -nocopyright grompp -f ba8fe870-854a-47fa-bb4c-16c698b52f8a/grompp.mdp -c 6V23_min.gro -r 6V23_min.gro -p 7ab5b89a-b1a1-4a16-a190-b8fc2f19f19a/p2g.top -o 6V23_gppnvt.tpr -po mdout.mdp -maxwarn 0\n",
      "\n",
      "Setting the LD random seed to 1058950284\n",
      "Generated 2145 of the 2145 non-bonded parameter combinations\n",
      "Generating 1-4 interactions: fudge = 0.5\n",
      "Generated 2145 of the 2145 1-4 parameter combinations\n",
      "Excluding 3 bonded neighbours molecule type 'Protein_chain_A'\n",
      "Excluding 2 bonded neighbours molecule type 'SOL'\n",
      "Excluding 1 bonded neighbours molecule type 'NA'\n",
      "Excluding 1 bonded neighbours molecule type 'CL'\n",
      "Setting gen_seed to 610612928\n",
      "Velocities were taken from a Maxwell distribution at 300 K\n",
      "Removing all charge groups because cutoff-scheme=Verlet\n",
      "Number of degrees of freedom in T-Coupling group Protein is 11809.81\n",
      "Number of degrees of freedom in T-Coupling group non-Protein is 171453.19\n",
      "Estimate for the relative computational load of the PME mesh part: 0.19\n",
      "\n",
      "GROMACS reminds you: \"Like other defaulters, I like to lay half the blame on ill-fortune and adverse circumstances\" (Mr. Rochester in Jane Eyre by Charlotte Bronte)\n",
      "\n",
      "\n",
      "2022-04-26 19:29:42,224 [MainThread  ] [INFO ]  Removed: ['mdout.mdp', '7ab5b89a-b1a1-4a16-a190-b8fc2f19f19a', 'ba8fe870-854a-47fa-bb4c-16c698b52f8a']\n"
     ]
    },
    {
     "data": {
      "text/plain": [
       "0"
      ]
     },
     "execution_count": 21,
     "metadata": {},
     "output_type": "execute_result"
    }
   ],
   "source": [
    "# Grompp: Creating portable binary run file for NVT Equilibration\n",
    "from biobb_md.gromacs.grompp import grompp\n",
    "\n",
    "# Create prop dict and inputs/outputs\n",
    "output_gppnvt_tpr = pdbCode+'_gppnvt.tpr'\n",
    "prop = {\n",
    "    'mdp':{\n",
    "        'nsteps': 50000,\n",
    "        'dt': 0.002,\n",
    "        'Define': '-DPOSRES',\n",
    "        #'tc_grps': \"DNA Water_and_ions\" # NOTE: uncomment this line if working with DNA\n",
    "    },\n",
    "    'simulation_type': 'nvt'\n",
    "}\n",
    "\n",
    "# Create and launch bb\n",
    "grompp(input_gro_path=output_min_gro, \n",
    "       input_top_zip_path=output_genion_top_zip, \n",
    "       output_tpr_path=output_gppnvt_tpr,  \n",
    "       properties=prop)"
   ]
  },
  {
   "cell_type": "markdown",
   "metadata": {},
   "source": [
    "<a id=\"eqNVTStep2\"></a>\n",
    "### Step 2: Running NVT equilibration"
   ]
  },
  {
   "cell_type": "code",
   "execution_count": 22,
   "metadata": {},
   "outputs": [
    {
     "name": "stdout",
     "output_type": "stream",
     "text": [
      "2022-04-26 19:29:42,621 [MainThread  ] [INFO ]  GROMACS Mdrun 20191 version detected\n",
      "2022-04-26 19:29:42,623 [MainThread  ] [INFO ]  Not using any container\n",
      "2022-04-26 19:34:00,597 [MainThread  ] [INFO ]  gmx -nobackup -nocopyright mdrun -s 6V23_gppnvt.tpr -o 6V23_nvt.trr -c 6V23_nvt.gro -e 6V23_nvt.edr -g 6V23_nvt.log -cpo 6V23_nvt.cpt\n",
      "\n",
      "2022-04-26 19:34:00,599 [MainThread  ] [INFO ]  Exit code 0\n",
      "\n",
      "2022-04-26 19:34:00,600 [MainThread  ] [INFO ]                        :-) GROMACS - gmx mdrun, 2019.1 (-:\n",
      "\n",
      "Executable:   /home/ma/miniconda3/envs/druglord/bin/gmx\n",
      "Data prefix:  /home/ma/miniconda3/envs/druglord\n",
      "Working dir:  /home/ma/git/druglord/temp/6V23\n",
      "Command line:\n",
      "  gmx -nobackup -nocopyright mdrun -s 6V23_gppnvt.tpr -o 6V23_nvt.trr -c 6V23_nvt.gro -e 6V23_nvt.edr -g 6V23_nvt.log -cpo 6V23_nvt.cpt\n",
      "\n",
      "Compiled SIMD: SSE2, but for this host/run AVX_512 might be better (see log).\n",
      "The current CPU can measure timings more accurately than the code in\n",
      "gmx mdrun was configured to use. This might affect your simulation\n",
      "speed as accurate timings are needed for load-balancing.\n",
      "Please consider rebuilding gmx mdrun with the GMX_USE_RDTSCP=ON CMake option.\n",
      "Reading file 6V23_gppnvt.tpr, VERSION 2019.1 (single precision)\n",
      "Changing nstlist from 10 to 50, rlist from 1 to 1.115\n",
      "\n",
      "\n",
      "Using 72 MPI threads\n",
      "Using 1 OpenMP thread per tMPI thread\n",
      "\n",
      "starting mdrun 'Protein in water'\n",
      "50000 steps,    100.0 ps.\n",
      "\n",
      "Writing final coordinates.\n",
      "\n",
      "\n",
      "Dynamic load balancing report:\n",
      " DLB was off during the run due to low measured imbalance.\n",
      " Average load imbalance: 13.3%.\n",
      " The balanceable part of the MD step is 79%, load imbalance is computed from this.\n",
      " Part of the total run time spent waiting due to load imbalance: 10.5%.\n",
      " Average PME mesh/force load: 1.010\n",
      " Part of the total run time spent waiting due to PP/PME imbalance: 0.7 %\n",
      "\n",
      "NOTE: 10.5 % of the available CPU time was lost due to load imbalance\n",
      "      in the domain decomposition.\n",
      "      You might want to use dynamic load balancing (option -dlb.)\n",
      "      You can also consider manually changing the decomposition (option -dd);\n",
      "      e.g. by using fewer domains along the box dimension in which there is\n",
      "      considerable inhomogeneity in the simulated system.\n",
      "\n",
      "               Core t (s)   Wall t (s)        (%)\n",
      "       Time:    18194.923      252.708     7200.0\n",
      "                 (ns/day)    (hour/ns)\n",
      "Performance:       34.190        0.702\n",
      "\n",
      "GROMACS reminds you: \"Royale With Cheese\" (Pulp Fiction)\n",
      "\n",
      "\n",
      "2022-04-26 19:34:00,602 [MainThread  ] [INFO ]  Removed: []\n"
     ]
    },
    {
     "data": {
      "text/plain": [
       "0"
      ]
     },
     "execution_count": 22,
     "metadata": {},
     "output_type": "execute_result"
    }
   ],
   "source": [
    "# Mdrun: Running Equilibration NVT\n",
    "from biobb_md.gromacs.mdrun import mdrun\n",
    "\n",
    "# Create prop dict and inputs/outputs\n",
    "output_nvt_trr = pdbCode+'_nvt.trr'\n",
    "output_nvt_gro = pdbCode+'_nvt.gro'\n",
    "output_nvt_edr = pdbCode+'_nvt.edr'\n",
    "output_nvt_log = pdbCode+'_nvt.log'\n",
    "output_nvt_cpt = pdbCode+'_nvt.cpt'\n",
    "\n",
    "# Create and launch bb\n",
    "mdrun(input_tpr_path=output_gppnvt_tpr, \n",
    "      output_trr_path=output_nvt_trr, \n",
    "      output_gro_path=output_nvt_gro, \n",
    "      output_edr_path=output_nvt_edr, \n",
    "      output_log_path=output_nvt_log, \n",
    "      output_cpt_path=output_nvt_cpt)"
   ]
  },
  {
   "cell_type": "markdown",
   "metadata": {},
   "source": [
    "<a id=\"eqNVTStep3\"></a>\n",
    "### Step 3: Checking NVT Equilibration results\n",
    "Checking **NVT Equilibration** results. Plotting **system temperature** by time during the NVT equilibration process. "
   ]
  },
  {
   "cell_type": "code",
   "execution_count": 23,
   "metadata": {},
   "outputs": [
    {
     "name": "stdout",
     "output_type": "stream",
     "text": [
      "2022-04-26 19:34:00,987 [MainThread  ] [INFO ]  Not using any container\n",
      "2022-04-26 19:34:01,016 [MainThread  ] [INFO ]  gmx energy -f /home/ma/git/druglord/temp/6V23/6V23_nvt.edr -o 6V23_nvt_temp.xvg -xvg none < d8a68675-bb86-4d2f-814b-d670421ccb55/instructions.in\n",
      "\n",
      "2022-04-26 19:34:01,018 [MainThread  ] [INFO ]  Exit code 0\n",
      "\n",
      "2022-04-26 19:34:01,019 [MainThread  ] [INFO ]  \n",
      "Statistics over 50001 steps [ 0.0000 through 100.0000 ps ], 1 data sets\n",
      "All statistics are over 501 points\n",
      "\n",
      "Energy                      Average   Err.Est.       RMSD  Tot-Drift\n",
      "-------------------------------------------------------------------------------\n",
      "Temperature                 299.831       0.19    3.34942    1.27768  (K)\n",
      "\n",
      "2022-04-26 19:34:01,020 [MainThread  ] [INFO ]                        :-) GROMACS - gmx energy, 2019.1 (-:\n",
      "\n",
      "                            GROMACS is written by:\n",
      "     Emile Apol      Rossen Apostolov      Paul Bauer     Herman J.C. Berendsen\n",
      "    Par Bjelkmar      Christian Blau   Viacheslav Bolnykh     Kevin Boyd    \n",
      " Aldert van Buuren   Rudi van Drunen     Anton Feenstra       Alan Gray     \n",
      "  Gerrit Groenhof     Anca Hamuraru    Vincent Hindriksen  M. Eric Irrgang  \n",
      "  Aleksei Iupinov   Christoph Junghans     Joe Jordan     Dimitrios Karkoulis\n",
      "    Peter Kasson        Jiri Kraus      Carsten Kutzner      Per Larsson    \n",
      "  Justin A. Lemkul    Viveca Lindahl    Magnus Lundborg     Erik Marklund   \n",
      "    Pascal Merz     Pieter Meulenhoff    Teemu Murtola       Szilard Pall   \n",
      "    Sander Pronk      Roland Schulz      Michael Shirts    Alexey Shvetsov  \n",
      "   Alfons Sijbers     Peter Tieleman      Jon Vincent      Teemu Virolainen \n",
      " Christian Wennberg    Maarten Wolf   \n",
      "                           and the project leaders:\n",
      "        Mark Abraham, Berk Hess, Erik Lindahl, and David van der Spoel\n",
      "\n",
      "Copyright (c) 1991-2000, University of Groningen, The Netherlands.\n",
      "Copyright (c) 2001-2018, The GROMACS development team at\n",
      "Uppsala University, Stockholm University and\n",
      "the Royal Institute of Technology, Sweden.\n",
      "check out http://www.gromacs.org for more information.\n",
      "\n",
      "GROMACS is free software; you can redistribute it and/or modify it\n",
      "under the terms of the GNU Lesser General Public License\n",
      "as published by the Free Software Foundation; either version 2.1\n",
      "of the License, or (at your option) any later version.\n",
      "\n",
      "GROMACS:      gmx energy, version 2019.1\n",
      "Executable:   /home/ma/miniconda3/envs/druglord/bin/gmx\n",
      "Data prefix:  /home/ma/miniconda3/envs/druglord\n",
      "Working dir:  /home/ma/git/druglord/temp/6V23\n",
      "Command line:\n",
      "  gmx energy -f /home/ma/git/druglord/temp/6V23/6V23_nvt.edr -o 6V23_nvt_temp.xvg -xvg none\n",
      "\n",
      "Opened /home/ma/git/druglord/temp/6V23/6V23_nvt.edr as single precision energy file\n",
      "\n",
      "Select the terms you want from the following list by\n",
      "selecting either (part of) the name or the number or a combination.\n",
      "End your selection with an empty line or a zero.\n",
      "-------------------------------------------------------------------\n",
      "  1  Bond             2  Angle            3  Proper-Dih.      4  Improper-Dih. \n",
      "  5  LJ-14            6  Coulomb-14       7  LJ-(SR)          8  Disper.-corr. \n",
      "  9  Coulomb-(SR)    10  Coul.-recip.    11  Position-Rest.  12  Potential     \n",
      " 13  Kinetic-En.     14  Total-Energy    15  Conserved-En.   16  Temperature   \n",
      " 17  Pres.-DC        18  Pressure        19  Constr.-rmsd    20  Vir-XX        \n",
      " 21  Vir-XY          22  Vir-XZ          23  Vir-YX          24  Vir-YY        \n",
      " 25  Vir-YZ          26  Vir-ZX          27  Vir-ZY          28  Vir-ZZ        \n",
      " 29  Pres-XX         30  Pres-XY         31  Pres-XZ         32  Pres-YX       \n",
      " 33  Pres-YY         34  Pres-YZ         35  Pres-ZX         36  Pres-ZY       \n",
      " 37  Pres-ZZ         38  #Surf*SurfTen   39  T-Protein       40  T-non-Protein \n",
      " 41  Lamb-Protein                        42  Lamb-non-Protein                  \n",
      "\n",
      "Last energy frame read 100 time  100.000          \n",
      "\n",
      "GROMACS reminds you: \"We Look Pretty Sharp In These Clothes\" (F. Zappa)\n",
      "\n",
      "\n",
      "2022-04-26 19:34:01,022 [MainThread  ] [INFO ]  Removed: [PurePosixPath('d8a68675-bb86-4d2f-814b-d670421ccb55')]\n"
     ]
    },
    {
     "data": {
      "text/plain": [
       "0"
      ]
     },
     "execution_count": 23,
     "metadata": {},
     "output_type": "execute_result"
    }
   ],
   "source": [
    "# GMXEnergy: Getting system temperature by time during NVT Equilibration  \n",
    "from biobb_analysis.gromacs.gmx_energy import gmx_energy\n",
    "\n",
    "# Create prop dict and inputs/outputs\n",
    "output_nvt_temp_xvg = pdbCode+'_nvt_temp.xvg'\n",
    "prop = {\n",
    "    'terms':  [\"Temperature\"]\n",
    "}\n",
    "\n",
    "# Create and launch bb\n",
    "gmx_energy(input_energy_path=output_nvt_edr, \n",
    "          output_xvg_path=output_nvt_temp_xvg, \n",
    "          properties=prop)"
   ]
  },
  {
   "cell_type": "code",
   "execution_count": 24,
   "metadata": {},
   "outputs": [
    {
     "data": {
      "text/html": [
       "        <script type=\"text/javascript\">\n",
       "        window.PlotlyConfig = {MathJaxConfig: 'local'};\n",
       "        if (window.MathJax) {MathJax.Hub.Config({SVG: {font: \"STIX-Web\"}});}\n",
       "        if (typeof require !== 'undefined') {\n",
       "        require.undef(\"plotly\");\n",
       "        requirejs.config({\n",
       "            paths: {\n",
       "                'plotly': ['https://cdn.plot.ly/plotly-2.11.1.min']\n",
       "            }\n",
       "        });\n",
       "        require(['plotly'], function(Plotly) {\n",
       "            window._Plotly = Plotly;\n",
       "        });\n",
       "        }\n",
       "        </script>\n",
       "        "
      ]
     },
     "metadata": {},
     "output_type": "display_data"
    },
    {
     "data": {
      "application/vnd.plotly.v1+json": {
       "config": {
        "linkText": "Export to plot.ly",
        "plotlyServerURL": "https://plot.ly",
        "showLink": false
       },
       "data": [
        {
         "type": "scatter",
         "x": [
          0,
          1,
          2,
          3,
          4,
          5,
          6,
          7,
          8,
          9,
          10,
          11,
          12,
          13,
          14,
          15,
          16,
          17,
          18,
          19,
          20,
          21,
          22,
          23,
          24,
          25,
          26,
          27,
          28,
          29,
          30,
          31,
          32,
          33,
          34,
          35,
          36,
          37,
          38,
          39,
          40,
          41,
          42,
          43,
          44,
          45,
          46,
          47,
          48,
          49,
          50,
          51,
          52,
          53,
          54,
          55,
          56,
          57,
          58,
          59,
          60,
          61,
          62,
          63,
          64,
          65,
          66,
          67,
          68,
          69,
          70,
          71,
          72,
          73,
          74,
          75,
          76,
          77,
          78,
          79,
          80,
          81,
          82,
          83,
          84,
          85,
          86,
          87,
          88,
          89,
          90,
          91,
          92,
          93,
          94,
          95,
          96,
          97,
          98,
          99,
          100
         ],
         "y": [
          299.798645,
          299.115234,
          301.060242,
          299.499878,
          298.439026,
          299.266846,
          299.047516,
          299.095978,
          300.968567,
          298.792633,
          299.181061,
          298.672821,
          302.998566,
          298.976257,
          303.672913,
          299.974731,
          300.6521,
          297.541809,
          300.198547,
          300.418762,
          301.562775,
          300.178925,
          302.540405,
          300.031464,
          299.337219,
          299.353546,
          301.384827,
          299.166412,
          299.993103,
          300.480682,
          298.494873,
          299.618896,
          300.493683,
          299.387543,
          299.24115,
          299.042725,
          299.97049,
          298.718079,
          300.02179,
          301.011932,
          301.827484,
          298.892242,
          301.343567,
          298.409058,
          298.534302,
          298.145508,
          300.012085,
          298.930573,
          299.58493,
          300.341309,
          299.505615,
          298.820831,
          301.063965,
          299.726227,
          302.564575,
          301.32019,
          299.526764,
          302.259064,
          297.719452,
          299.30481,
          299.866821,
          299.482422,
          299.98819,
          299.298676,
          299.344299,
          304.358398,
          298.956573,
          300.84433,
          300.22467,
          300.02179,
          299.35376,
          299.820953,
          300.406067,
          296.863556,
          298.35376,
          300.626648,
          300.277618,
          300.546661,
          300.797302,
          299.840759,
          300.59848,
          300.102264,
          297.65799,
          302.165558,
          299.424072,
          300.566864,
          300.364929,
          300.939575,
          298.362396,
          299.677856,
          301.113831,
          299.117615,
          300.306244,
          299.148865,
          300.353424,
          299.779999,
          300.089081,
          300.776947,
          300.91568,
          300.444641,
          299.164642
         ]
        }
       ],
       "layout": {
        "template": {
         "data": {
          "bar": [
           {
            "error_x": {
             "color": "#2a3f5f"
            },
            "error_y": {
             "color": "#2a3f5f"
            },
            "marker": {
             "line": {
              "color": "#E5ECF6",
              "width": 0.5
             },
             "pattern": {
              "fillmode": "overlay",
              "size": 10,
              "solidity": 0.2
             }
            },
            "type": "bar"
           }
          ],
          "barpolar": [
           {
            "marker": {
             "line": {
              "color": "#E5ECF6",
              "width": 0.5
             },
             "pattern": {
              "fillmode": "overlay",
              "size": 10,
              "solidity": 0.2
             }
            },
            "type": "barpolar"
           }
          ],
          "carpet": [
           {
            "aaxis": {
             "endlinecolor": "#2a3f5f",
             "gridcolor": "white",
             "linecolor": "white",
             "minorgridcolor": "white",
             "startlinecolor": "#2a3f5f"
            },
            "baxis": {
             "endlinecolor": "#2a3f5f",
             "gridcolor": "white",
             "linecolor": "white",
             "minorgridcolor": "white",
             "startlinecolor": "#2a3f5f"
            },
            "type": "carpet"
           }
          ],
          "choropleth": [
           {
            "colorbar": {
             "outlinewidth": 0,
             "ticks": ""
            },
            "type": "choropleth"
           }
          ],
          "contour": [
           {
            "colorbar": {
             "outlinewidth": 0,
             "ticks": ""
            },
            "colorscale": [
             [
              0,
              "#0d0887"
             ],
             [
              0.1111111111111111,
              "#46039f"
             ],
             [
              0.2222222222222222,
              "#7201a8"
             ],
             [
              0.3333333333333333,
              "#9c179e"
             ],
             [
              0.4444444444444444,
              "#bd3786"
             ],
             [
              0.5555555555555556,
              "#d8576b"
             ],
             [
              0.6666666666666666,
              "#ed7953"
             ],
             [
              0.7777777777777778,
              "#fb9f3a"
             ],
             [
              0.8888888888888888,
              "#fdca26"
             ],
             [
              1,
              "#f0f921"
             ]
            ],
            "type": "contour"
           }
          ],
          "contourcarpet": [
           {
            "colorbar": {
             "outlinewidth": 0,
             "ticks": ""
            },
            "type": "contourcarpet"
           }
          ],
          "heatmap": [
           {
            "colorbar": {
             "outlinewidth": 0,
             "ticks": ""
            },
            "colorscale": [
             [
              0,
              "#0d0887"
             ],
             [
              0.1111111111111111,
              "#46039f"
             ],
             [
              0.2222222222222222,
              "#7201a8"
             ],
             [
              0.3333333333333333,
              "#9c179e"
             ],
             [
              0.4444444444444444,
              "#bd3786"
             ],
             [
              0.5555555555555556,
              "#d8576b"
             ],
             [
              0.6666666666666666,
              "#ed7953"
             ],
             [
              0.7777777777777778,
              "#fb9f3a"
             ],
             [
              0.8888888888888888,
              "#fdca26"
             ],
             [
              1,
              "#f0f921"
             ]
            ],
            "type": "heatmap"
           }
          ],
          "heatmapgl": [
           {
            "colorbar": {
             "outlinewidth": 0,
             "ticks": ""
            },
            "colorscale": [
             [
              0,
              "#0d0887"
             ],
             [
              0.1111111111111111,
              "#46039f"
             ],
             [
              0.2222222222222222,
              "#7201a8"
             ],
             [
              0.3333333333333333,
              "#9c179e"
             ],
             [
              0.4444444444444444,
              "#bd3786"
             ],
             [
              0.5555555555555556,
              "#d8576b"
             ],
             [
              0.6666666666666666,
              "#ed7953"
             ],
             [
              0.7777777777777778,
              "#fb9f3a"
             ],
             [
              0.8888888888888888,
              "#fdca26"
             ],
             [
              1,
              "#f0f921"
             ]
            ],
            "type": "heatmapgl"
           }
          ],
          "histogram": [
           {
            "marker": {
             "pattern": {
              "fillmode": "overlay",
              "size": 10,
              "solidity": 0.2
             }
            },
            "type": "histogram"
           }
          ],
          "histogram2d": [
           {
            "colorbar": {
             "outlinewidth": 0,
             "ticks": ""
            },
            "colorscale": [
             [
              0,
              "#0d0887"
             ],
             [
              0.1111111111111111,
              "#46039f"
             ],
             [
              0.2222222222222222,
              "#7201a8"
             ],
             [
              0.3333333333333333,
              "#9c179e"
             ],
             [
              0.4444444444444444,
              "#bd3786"
             ],
             [
              0.5555555555555556,
              "#d8576b"
             ],
             [
              0.6666666666666666,
              "#ed7953"
             ],
             [
              0.7777777777777778,
              "#fb9f3a"
             ],
             [
              0.8888888888888888,
              "#fdca26"
             ],
             [
              1,
              "#f0f921"
             ]
            ],
            "type": "histogram2d"
           }
          ],
          "histogram2dcontour": [
           {
            "colorbar": {
             "outlinewidth": 0,
             "ticks": ""
            },
            "colorscale": [
             [
              0,
              "#0d0887"
             ],
             [
              0.1111111111111111,
              "#46039f"
             ],
             [
              0.2222222222222222,
              "#7201a8"
             ],
             [
              0.3333333333333333,
              "#9c179e"
             ],
             [
              0.4444444444444444,
              "#bd3786"
             ],
             [
              0.5555555555555556,
              "#d8576b"
             ],
             [
              0.6666666666666666,
              "#ed7953"
             ],
             [
              0.7777777777777778,
              "#fb9f3a"
             ],
             [
              0.8888888888888888,
              "#fdca26"
             ],
             [
              1,
              "#f0f921"
             ]
            ],
            "type": "histogram2dcontour"
           }
          ],
          "mesh3d": [
           {
            "colorbar": {
             "outlinewidth": 0,
             "ticks": ""
            },
            "type": "mesh3d"
           }
          ],
          "parcoords": [
           {
            "line": {
             "colorbar": {
              "outlinewidth": 0,
              "ticks": ""
             }
            },
            "type": "parcoords"
           }
          ],
          "pie": [
           {
            "automargin": true,
            "type": "pie"
           }
          ],
          "scatter": [
           {
            "fillpattern": {
             "fillmode": "overlay",
             "size": 10,
             "solidity": 0.2
            },
            "type": "scatter"
           }
          ],
          "scatter3d": [
           {
            "line": {
             "colorbar": {
              "outlinewidth": 0,
              "ticks": ""
             }
            },
            "marker": {
             "colorbar": {
              "outlinewidth": 0,
              "ticks": ""
             }
            },
            "type": "scatter3d"
           }
          ],
          "scattercarpet": [
           {
            "marker": {
             "colorbar": {
              "outlinewidth": 0,
              "ticks": ""
             }
            },
            "type": "scattercarpet"
           }
          ],
          "scattergeo": [
           {
            "marker": {
             "colorbar": {
              "outlinewidth": 0,
              "ticks": ""
             }
            },
            "type": "scattergeo"
           }
          ],
          "scattergl": [
           {
            "marker": {
             "colorbar": {
              "outlinewidth": 0,
              "ticks": ""
             }
            },
            "type": "scattergl"
           }
          ],
          "scattermapbox": [
           {
            "marker": {
             "colorbar": {
              "outlinewidth": 0,
              "ticks": ""
             }
            },
            "type": "scattermapbox"
           }
          ],
          "scatterpolar": [
           {
            "marker": {
             "colorbar": {
              "outlinewidth": 0,
              "ticks": ""
             }
            },
            "type": "scatterpolar"
           }
          ],
          "scatterpolargl": [
           {
            "marker": {
             "colorbar": {
              "outlinewidth": 0,
              "ticks": ""
             }
            },
            "type": "scatterpolargl"
           }
          ],
          "scatterternary": [
           {
            "marker": {
             "colorbar": {
              "outlinewidth": 0,
              "ticks": ""
             }
            },
            "type": "scatterternary"
           }
          ],
          "surface": [
           {
            "colorbar": {
             "outlinewidth": 0,
             "ticks": ""
            },
            "colorscale": [
             [
              0,
              "#0d0887"
             ],
             [
              0.1111111111111111,
              "#46039f"
             ],
             [
              0.2222222222222222,
              "#7201a8"
             ],
             [
              0.3333333333333333,
              "#9c179e"
             ],
             [
              0.4444444444444444,
              "#bd3786"
             ],
             [
              0.5555555555555556,
              "#d8576b"
             ],
             [
              0.6666666666666666,
              "#ed7953"
             ],
             [
              0.7777777777777778,
              "#fb9f3a"
             ],
             [
              0.8888888888888888,
              "#fdca26"
             ],
             [
              1,
              "#f0f921"
             ]
            ],
            "type": "surface"
           }
          ],
          "table": [
           {
            "cells": {
             "fill": {
              "color": "#EBF0F8"
             },
             "line": {
              "color": "white"
             }
            },
            "header": {
             "fill": {
              "color": "#C8D4E3"
             },
             "line": {
              "color": "white"
             }
            },
            "type": "table"
           }
          ]
         },
         "layout": {
          "annotationdefaults": {
           "arrowcolor": "#2a3f5f",
           "arrowhead": 0,
           "arrowwidth": 1
          },
          "autotypenumbers": "strict",
          "coloraxis": {
           "colorbar": {
            "outlinewidth": 0,
            "ticks": ""
           }
          },
          "colorscale": {
           "diverging": [
            [
             0,
             "#8e0152"
            ],
            [
             0.1,
             "#c51b7d"
            ],
            [
             0.2,
             "#de77ae"
            ],
            [
             0.3,
             "#f1b6da"
            ],
            [
             0.4,
             "#fde0ef"
            ],
            [
             0.5,
             "#f7f7f7"
            ],
            [
             0.6,
             "#e6f5d0"
            ],
            [
             0.7,
             "#b8e186"
            ],
            [
             0.8,
             "#7fbc41"
            ],
            [
             0.9,
             "#4d9221"
            ],
            [
             1,
             "#276419"
            ]
           ],
           "sequential": [
            [
             0,
             "#0d0887"
            ],
            [
             0.1111111111111111,
             "#46039f"
            ],
            [
             0.2222222222222222,
             "#7201a8"
            ],
            [
             0.3333333333333333,
             "#9c179e"
            ],
            [
             0.4444444444444444,
             "#bd3786"
            ],
            [
             0.5555555555555556,
             "#d8576b"
            ],
            [
             0.6666666666666666,
             "#ed7953"
            ],
            [
             0.7777777777777778,
             "#fb9f3a"
            ],
            [
             0.8888888888888888,
             "#fdca26"
            ],
            [
             1,
             "#f0f921"
            ]
           ],
           "sequentialminus": [
            [
             0,
             "#0d0887"
            ],
            [
             0.1111111111111111,
             "#46039f"
            ],
            [
             0.2222222222222222,
             "#7201a8"
            ],
            [
             0.3333333333333333,
             "#9c179e"
            ],
            [
             0.4444444444444444,
             "#bd3786"
            ],
            [
             0.5555555555555556,
             "#d8576b"
            ],
            [
             0.6666666666666666,
             "#ed7953"
            ],
            [
             0.7777777777777778,
             "#fb9f3a"
            ],
            [
             0.8888888888888888,
             "#fdca26"
            ],
            [
             1,
             "#f0f921"
            ]
           ]
          },
          "colorway": [
           "#636efa",
           "#EF553B",
           "#00cc96",
           "#ab63fa",
           "#FFA15A",
           "#19d3f3",
           "#FF6692",
           "#B6E880",
           "#FF97FF",
           "#FECB52"
          ],
          "font": {
           "color": "#2a3f5f"
          },
          "geo": {
           "bgcolor": "white",
           "lakecolor": "white",
           "landcolor": "#E5ECF6",
           "showlakes": true,
           "showland": true,
           "subunitcolor": "white"
          },
          "hoverlabel": {
           "align": "left"
          },
          "hovermode": "closest",
          "mapbox": {
           "style": "light"
          },
          "paper_bgcolor": "white",
          "plot_bgcolor": "#E5ECF6",
          "polar": {
           "angularaxis": {
            "gridcolor": "white",
            "linecolor": "white",
            "ticks": ""
           },
           "bgcolor": "#E5ECF6",
           "radialaxis": {
            "gridcolor": "white",
            "linecolor": "white",
            "ticks": ""
           }
          },
          "scene": {
           "xaxis": {
            "backgroundcolor": "#E5ECF6",
            "gridcolor": "white",
            "gridwidth": 2,
            "linecolor": "white",
            "showbackground": true,
            "ticks": "",
            "zerolinecolor": "white"
           },
           "yaxis": {
            "backgroundcolor": "#E5ECF6",
            "gridcolor": "white",
            "gridwidth": 2,
            "linecolor": "white",
            "showbackground": true,
            "ticks": "",
            "zerolinecolor": "white"
           },
           "zaxis": {
            "backgroundcolor": "#E5ECF6",
            "gridcolor": "white",
            "gridwidth": 2,
            "linecolor": "white",
            "showbackground": true,
            "ticks": "",
            "zerolinecolor": "white"
           }
          },
          "shapedefaults": {
           "line": {
            "color": "#2a3f5f"
           }
          },
          "ternary": {
           "aaxis": {
            "gridcolor": "white",
            "linecolor": "white",
            "ticks": ""
           },
           "baxis": {
            "gridcolor": "white",
            "linecolor": "white",
            "ticks": ""
           },
           "bgcolor": "#E5ECF6",
           "caxis": {
            "gridcolor": "white",
            "linecolor": "white",
            "ticks": ""
           }
          },
          "title": {
           "x": 0.05
          },
          "xaxis": {
           "automargin": true,
           "gridcolor": "white",
           "linecolor": "white",
           "ticks": "",
           "title": {
            "standoff": 15
           },
           "zerolinecolor": "white",
           "zerolinewidth": 2
          },
          "yaxis": {
           "automargin": true,
           "gridcolor": "white",
           "linecolor": "white",
           "ticks": "",
           "title": {
            "standoff": 15
           },
           "zerolinecolor": "white",
           "zerolinewidth": 2
          }
         }
        },
        "title": {
         "text": "Temperature during NVT Equilibration"
        },
        "xaxis": {
         "title": {
          "text": "Time (ps)"
         }
        },
        "yaxis": {
         "title": {
          "text": "Temperature (K)"
         }
        }
       }
      },
      "text/html": [
       "<div>                            <div id=\"ebaca79b-90ce-4346-9e0a-b7d3a940b1ed\" class=\"plotly-graph-div\" style=\"height:525px; width:100%;\"></div>            <script type=\"text/javascript\">                require([\"plotly\"], function(Plotly) {                    window.PLOTLYENV=window.PLOTLYENV || {};                                    if (document.getElementById(\"ebaca79b-90ce-4346-9e0a-b7d3a940b1ed\")) {                    Plotly.newPlot(                        \"ebaca79b-90ce-4346-9e0a-b7d3a940b1ed\",                        [{\"x\":[0.0,1.0,2.0,3.0,4.0,5.0,6.0,7.0,8.0,9.0,10.0,11.0,12.0,13.0,14.0,15.0,16.0,17.0,18.0,19.0,20.0,21.0,22.0,23.0,24.0,25.0,26.0,27.0,28.0,29.0,30.0,31.0,32.0,33.0,34.0,35.0,36.0,37.0,38.0,39.0,40.0,41.0,42.0,43.0,44.0,45.0,46.0,47.0,48.0,49.0,50.0,51.0,52.0,53.0,54.0,55.0,56.0,57.0,58.0,59.0,60.0,61.0,62.0,63.0,64.0,65.0,66.0,67.0,68.0,69.0,70.0,71.0,72.0,73.0,74.0,75.0,76.0,77.0,78.0,79.0,80.0,81.0,82.0,83.0,84.0,85.0,86.0,87.0,88.0,89.0,90.0,91.0,92.0,93.0,94.0,95.0,96.0,97.0,98.0,99.0,100.0],\"y\":[299.798645,299.115234,301.060242,299.499878,298.439026,299.266846,299.047516,299.095978,300.968567,298.792633,299.181061,298.672821,302.998566,298.976257,303.672913,299.974731,300.6521,297.541809,300.198547,300.418762,301.562775,300.178925,302.540405,300.031464,299.337219,299.353546,301.384827,299.166412,299.993103,300.480682,298.494873,299.618896,300.493683,299.387543,299.24115,299.042725,299.97049,298.718079,300.02179,301.011932,301.827484,298.892242,301.343567,298.409058,298.534302,298.145508,300.012085,298.930573,299.58493,300.341309,299.505615,298.820831,301.063965,299.726227,302.564575,301.32019,299.526764,302.259064,297.719452,299.30481,299.866821,299.482422,299.98819,299.298676,299.344299,304.358398,298.956573,300.84433,300.22467,300.02179,299.35376,299.820953,300.406067,296.863556,298.35376,300.626648,300.277618,300.546661,300.797302,299.840759,300.59848,300.102264,297.65799,302.165558,299.424072,300.566864,300.364929,300.939575,298.362396,299.677856,301.113831,299.117615,300.306244,299.148865,300.353424,299.779999,300.089081,300.776947,300.91568,300.444641,299.164642],\"type\":\"scatter\"}],                        {\"template\":{\"data\":{\"barpolar\":[{\"marker\":{\"line\":{\"color\":\"#E5ECF6\",\"width\":0.5},\"pattern\":{\"fillmode\":\"overlay\",\"size\":10,\"solidity\":0.2}},\"type\":\"barpolar\"}],\"bar\":[{\"error_x\":{\"color\":\"#2a3f5f\"},\"error_y\":{\"color\":\"#2a3f5f\"},\"marker\":{\"line\":{\"color\":\"#E5ECF6\",\"width\":0.5},\"pattern\":{\"fillmode\":\"overlay\",\"size\":10,\"solidity\":0.2}},\"type\":\"bar\"}],\"carpet\":[{\"aaxis\":{\"endlinecolor\":\"#2a3f5f\",\"gridcolor\":\"white\",\"linecolor\":\"white\",\"minorgridcolor\":\"white\",\"startlinecolor\":\"#2a3f5f\"},\"baxis\":{\"endlinecolor\":\"#2a3f5f\",\"gridcolor\":\"white\",\"linecolor\":\"white\",\"minorgridcolor\":\"white\",\"startlinecolor\":\"#2a3f5f\"},\"type\":\"carpet\"}],\"choropleth\":[{\"colorbar\":{\"outlinewidth\":0,\"ticks\":\"\"},\"type\":\"choropleth\"}],\"contourcarpet\":[{\"colorbar\":{\"outlinewidth\":0,\"ticks\":\"\"},\"type\":\"contourcarpet\"}],\"contour\":[{\"colorbar\":{\"outlinewidth\":0,\"ticks\":\"\"},\"colorscale\":[[0.0,\"#0d0887\"],[0.1111111111111111,\"#46039f\"],[0.2222222222222222,\"#7201a8\"],[0.3333333333333333,\"#9c179e\"],[0.4444444444444444,\"#bd3786\"],[0.5555555555555556,\"#d8576b\"],[0.6666666666666666,\"#ed7953\"],[0.7777777777777778,\"#fb9f3a\"],[0.8888888888888888,\"#fdca26\"],[1.0,\"#f0f921\"]],\"type\":\"contour\"}],\"heatmapgl\":[{\"colorbar\":{\"outlinewidth\":0,\"ticks\":\"\"},\"colorscale\":[[0.0,\"#0d0887\"],[0.1111111111111111,\"#46039f\"],[0.2222222222222222,\"#7201a8\"],[0.3333333333333333,\"#9c179e\"],[0.4444444444444444,\"#bd3786\"],[0.5555555555555556,\"#d8576b\"],[0.6666666666666666,\"#ed7953\"],[0.7777777777777778,\"#fb9f3a\"],[0.8888888888888888,\"#fdca26\"],[1.0,\"#f0f921\"]],\"type\":\"heatmapgl\"}],\"heatmap\":[{\"colorbar\":{\"outlinewidth\":0,\"ticks\":\"\"},\"colorscale\":[[0.0,\"#0d0887\"],[0.1111111111111111,\"#46039f\"],[0.2222222222222222,\"#7201a8\"],[0.3333333333333333,\"#9c179e\"],[0.4444444444444444,\"#bd3786\"],[0.5555555555555556,\"#d8576b\"],[0.6666666666666666,\"#ed7953\"],[0.7777777777777778,\"#fb9f3a\"],[0.8888888888888888,\"#fdca26\"],[1.0,\"#f0f921\"]],\"type\":\"heatmap\"}],\"histogram2dcontour\":[{\"colorbar\":{\"outlinewidth\":0,\"ticks\":\"\"},\"colorscale\":[[0.0,\"#0d0887\"],[0.1111111111111111,\"#46039f\"],[0.2222222222222222,\"#7201a8\"],[0.3333333333333333,\"#9c179e\"],[0.4444444444444444,\"#bd3786\"],[0.5555555555555556,\"#d8576b\"],[0.6666666666666666,\"#ed7953\"],[0.7777777777777778,\"#fb9f3a\"],[0.8888888888888888,\"#fdca26\"],[1.0,\"#f0f921\"]],\"type\":\"histogram2dcontour\"}],\"histogram2d\":[{\"colorbar\":{\"outlinewidth\":0,\"ticks\":\"\"},\"colorscale\":[[0.0,\"#0d0887\"],[0.1111111111111111,\"#46039f\"],[0.2222222222222222,\"#7201a8\"],[0.3333333333333333,\"#9c179e\"],[0.4444444444444444,\"#bd3786\"],[0.5555555555555556,\"#d8576b\"],[0.6666666666666666,\"#ed7953\"],[0.7777777777777778,\"#fb9f3a\"],[0.8888888888888888,\"#fdca26\"],[1.0,\"#f0f921\"]],\"type\":\"histogram2d\"}],\"histogram\":[{\"marker\":{\"pattern\":{\"fillmode\":\"overlay\",\"size\":10,\"solidity\":0.2}},\"type\":\"histogram\"}],\"mesh3d\":[{\"colorbar\":{\"outlinewidth\":0,\"ticks\":\"\"},\"type\":\"mesh3d\"}],\"parcoords\":[{\"line\":{\"colorbar\":{\"outlinewidth\":0,\"ticks\":\"\"}},\"type\":\"parcoords\"}],\"pie\":[{\"automargin\":true,\"type\":\"pie\"}],\"scatter3d\":[{\"line\":{\"colorbar\":{\"outlinewidth\":0,\"ticks\":\"\"}},\"marker\":{\"colorbar\":{\"outlinewidth\":0,\"ticks\":\"\"}},\"type\":\"scatter3d\"}],\"scattercarpet\":[{\"marker\":{\"colorbar\":{\"outlinewidth\":0,\"ticks\":\"\"}},\"type\":\"scattercarpet\"}],\"scattergeo\":[{\"marker\":{\"colorbar\":{\"outlinewidth\":0,\"ticks\":\"\"}},\"type\":\"scattergeo\"}],\"scattergl\":[{\"marker\":{\"colorbar\":{\"outlinewidth\":0,\"ticks\":\"\"}},\"type\":\"scattergl\"}],\"scattermapbox\":[{\"marker\":{\"colorbar\":{\"outlinewidth\":0,\"ticks\":\"\"}},\"type\":\"scattermapbox\"}],\"scatterpolargl\":[{\"marker\":{\"colorbar\":{\"outlinewidth\":0,\"ticks\":\"\"}},\"type\":\"scatterpolargl\"}],\"scatterpolar\":[{\"marker\":{\"colorbar\":{\"outlinewidth\":0,\"ticks\":\"\"}},\"type\":\"scatterpolar\"}],\"scatter\":[{\"fillpattern\":{\"fillmode\":\"overlay\",\"size\":10,\"solidity\":0.2},\"type\":\"scatter\"}],\"scatterternary\":[{\"marker\":{\"colorbar\":{\"outlinewidth\":0,\"ticks\":\"\"}},\"type\":\"scatterternary\"}],\"surface\":[{\"colorbar\":{\"outlinewidth\":0,\"ticks\":\"\"},\"colorscale\":[[0.0,\"#0d0887\"],[0.1111111111111111,\"#46039f\"],[0.2222222222222222,\"#7201a8\"],[0.3333333333333333,\"#9c179e\"],[0.4444444444444444,\"#bd3786\"],[0.5555555555555556,\"#d8576b\"],[0.6666666666666666,\"#ed7953\"],[0.7777777777777778,\"#fb9f3a\"],[0.8888888888888888,\"#fdca26\"],[1.0,\"#f0f921\"]],\"type\":\"surface\"}],\"table\":[{\"cells\":{\"fill\":{\"color\":\"#EBF0F8\"},\"line\":{\"color\":\"white\"}},\"header\":{\"fill\":{\"color\":\"#C8D4E3\"},\"line\":{\"color\":\"white\"}},\"type\":\"table\"}]},\"layout\":{\"annotationdefaults\":{\"arrowcolor\":\"#2a3f5f\",\"arrowhead\":0,\"arrowwidth\":1},\"autotypenumbers\":\"strict\",\"coloraxis\":{\"colorbar\":{\"outlinewidth\":0,\"ticks\":\"\"}},\"colorscale\":{\"diverging\":[[0,\"#8e0152\"],[0.1,\"#c51b7d\"],[0.2,\"#de77ae\"],[0.3,\"#f1b6da\"],[0.4,\"#fde0ef\"],[0.5,\"#f7f7f7\"],[0.6,\"#e6f5d0\"],[0.7,\"#b8e186\"],[0.8,\"#7fbc41\"],[0.9,\"#4d9221\"],[1,\"#276419\"]],\"sequential\":[[0.0,\"#0d0887\"],[0.1111111111111111,\"#46039f\"],[0.2222222222222222,\"#7201a8\"],[0.3333333333333333,\"#9c179e\"],[0.4444444444444444,\"#bd3786\"],[0.5555555555555556,\"#d8576b\"],[0.6666666666666666,\"#ed7953\"],[0.7777777777777778,\"#fb9f3a\"],[0.8888888888888888,\"#fdca26\"],[1.0,\"#f0f921\"]],\"sequentialminus\":[[0.0,\"#0d0887\"],[0.1111111111111111,\"#46039f\"],[0.2222222222222222,\"#7201a8\"],[0.3333333333333333,\"#9c179e\"],[0.4444444444444444,\"#bd3786\"],[0.5555555555555556,\"#d8576b\"],[0.6666666666666666,\"#ed7953\"],[0.7777777777777778,\"#fb9f3a\"],[0.8888888888888888,\"#fdca26\"],[1.0,\"#f0f921\"]]},\"colorway\":[\"#636efa\",\"#EF553B\",\"#00cc96\",\"#ab63fa\",\"#FFA15A\",\"#19d3f3\",\"#FF6692\",\"#B6E880\",\"#FF97FF\",\"#FECB52\"],\"font\":{\"color\":\"#2a3f5f\"},\"geo\":{\"bgcolor\":\"white\",\"lakecolor\":\"white\",\"landcolor\":\"#E5ECF6\",\"showlakes\":true,\"showland\":true,\"subunitcolor\":\"white\"},\"hoverlabel\":{\"align\":\"left\"},\"hovermode\":\"closest\",\"mapbox\":{\"style\":\"light\"},\"paper_bgcolor\":\"white\",\"plot_bgcolor\":\"#E5ECF6\",\"polar\":{\"angularaxis\":{\"gridcolor\":\"white\",\"linecolor\":\"white\",\"ticks\":\"\"},\"bgcolor\":\"#E5ECF6\",\"radialaxis\":{\"gridcolor\":\"white\",\"linecolor\":\"white\",\"ticks\":\"\"}},\"scene\":{\"xaxis\":{\"backgroundcolor\":\"#E5ECF6\",\"gridcolor\":\"white\",\"gridwidth\":2,\"linecolor\":\"white\",\"showbackground\":true,\"ticks\":\"\",\"zerolinecolor\":\"white\"},\"yaxis\":{\"backgroundcolor\":\"#E5ECF6\",\"gridcolor\":\"white\",\"gridwidth\":2,\"linecolor\":\"white\",\"showbackground\":true,\"ticks\":\"\",\"zerolinecolor\":\"white\"},\"zaxis\":{\"backgroundcolor\":\"#E5ECF6\",\"gridcolor\":\"white\",\"gridwidth\":2,\"linecolor\":\"white\",\"showbackground\":true,\"ticks\":\"\",\"zerolinecolor\":\"white\"}},\"shapedefaults\":{\"line\":{\"color\":\"#2a3f5f\"}},\"ternary\":{\"aaxis\":{\"gridcolor\":\"white\",\"linecolor\":\"white\",\"ticks\":\"\"},\"baxis\":{\"gridcolor\":\"white\",\"linecolor\":\"white\",\"ticks\":\"\"},\"bgcolor\":\"#E5ECF6\",\"caxis\":{\"gridcolor\":\"white\",\"linecolor\":\"white\",\"ticks\":\"\"}},\"title\":{\"x\":0.05},\"xaxis\":{\"automargin\":true,\"gridcolor\":\"white\",\"linecolor\":\"white\",\"ticks\":\"\",\"title\":{\"standoff\":15},\"zerolinecolor\":\"white\",\"zerolinewidth\":2},\"yaxis\":{\"automargin\":true,\"gridcolor\":\"white\",\"linecolor\":\"white\",\"ticks\":\"\",\"title\":{\"standoff\":15},\"zerolinecolor\":\"white\",\"zerolinewidth\":2}}},\"title\":{\"text\":\"Temperature during NVT Equilibration\"},\"xaxis\":{\"title\":{\"text\":\"Time (ps)\"}},\"yaxis\":{\"title\":{\"text\":\"Temperature (K)\"}}},                        {\"responsive\": true}                    ).then(function(){\n",
       "                            \n",
       "var gd = document.getElementById('ebaca79b-90ce-4346-9e0a-b7d3a940b1ed');\n",
       "var x = new MutationObserver(function (mutations, observer) {{\n",
       "        var display = window.getComputedStyle(gd).display;\n",
       "        if (!display || display === 'none') {{\n",
       "            console.log([gd, 'removed!']);\n",
       "            Plotly.purge(gd);\n",
       "            observer.disconnect();\n",
       "        }}\n",
       "}});\n",
       "\n",
       "// Listen for the removal of the full notebook cells\n",
       "var notebookContainer = gd.closest('#notebook-container');\n",
       "if (notebookContainer) {{\n",
       "    x.observe(notebookContainer, {childList: true});\n",
       "}}\n",
       "\n",
       "// Listen for the clearing of the current output cell\n",
       "var outputEl = gd.closest('.output');\n",
       "if (outputEl) {{\n",
       "    x.observe(outputEl, {childList: true});\n",
       "}}\n",
       "\n",
       "                        })                };                });            </script>        </div>"
      ]
     },
     "metadata": {},
     "output_type": "display_data"
    }
   ],
   "source": [
    "import plotly\n",
    "import plotly.graph_objs as go\n",
    "\n",
    "# Read temperature data from file \n",
    "with open(output_nvt_temp_xvg,'r') as temperature_file:\n",
    "    x,y = map(\n",
    "        list,\n",
    "        zip(*[\n",
    "            (float(line.split()[0]),float(line.split()[1]))\n",
    "            for line in temperature_file \n",
    "            if not line.startswith((\"#\",\"@\")) \n",
    "        ])\n",
    "    )\n",
    "\n",
    "plotly.offline.init_notebook_mode(connected=True)\n",
    "\n",
    "fig = {\n",
    "    \"data\": [go.Scatter(x=x, y=y)],\n",
    "    \"layout\": go.Layout(title=\"Temperature during NVT Equilibration\",\n",
    "                        xaxis=dict(title = \"Time (ps)\"),\n",
    "                        yaxis=dict(title = \"Temperature (K)\")\n",
    "                       )\n",
    "}\n",
    "\n",
    "plotly.offline.iplot(fig)"
   ]
  },
  {
   "cell_type": "markdown",
   "metadata": {},
   "source": [
    "<a id=\"npt\"></a>\n",
    "***\n",
    "## Equilibrate the system (NPT)\n",
    "Equilibrate the **protein system** in **NPT** ensemble (constant Number of particles, Pressure and Temperature).\n",
    "- [Step 1](#eqNPTStep1): Creating portable binary run file for system equilibration\n",
    "- [Step 2](#eqNPTStep2): Equilibrate the **protein system** with **NPT** ensemble.\n",
    "- [Step 3](#eqNPTStep3): Checking **NPT Equilibration** results. Plotting **system pressure and density** by time during the **NPT equilibration** process.\n",
    "***\n",
    "**Building Blocks** used:\n",
    " - [Grompp](https://biobb-md.readthedocs.io/en/latest/gromacs.html#module-gromacs.grompp) from **biobb_md.gromacs.grompp** \n",
    " - [Mdrun](https://biobb-md.readthedocs.io/en/latest/gromacs.html#module-gromacs.mdrun) from **biobb_md.gromacs.mdrun** \n",
    " - [GMXEnergy](https://biobb-analysis.readthedocs.io/en/latest/gromacs.html#module-gromacs.gmx_energy) from **biobb_analysis.gromacs.gmx_energy** \n",
    "***"
   ]
  },
  {
   "cell_type": "markdown",
   "metadata": {},
   "source": [
    "<a id=\"eqNPTStep1\"></a>\n",
    "### Step 1: Creating portable binary run file for system equilibration (NPT)\n",
    "\n",
    "The **npt** type of the **molecular dynamics parameters (mdp) property** contains the main default parameters to run an **NPT equilibration** with **protein restraints** (see [GROMACS mdp options](http://manual.gromacs.org/documentation/2018/user-guide/mdp-options.html)):\n",
    "\n",
    "-  Define                   = -DPOSRES\n",
    "-  integrator               = md\n",
    "-  dt                       = 0.002\n",
    "-  nsteps                   = 50,000\n",
    "-  pcoupl = Parrinello-Rahman\n",
    "-  pcoupltype = isotropic\n",
    "-  tau_p = 1.0\n",
    "-  ref_p = 1.0\n",
    "-  compressibility = 4.5e-5\n",
    "-  refcoord_scaling = com\n",
    "-  gen_vel = no\n",
    "\n",
    "In this particular example, the default parameters will be used: **md** integrator algorithm, a **time step** of **2fs**, **50,000 equilibration steps** with the protein **heavy atoms restrained** (100ps in total), and a Parrinello-Rahman **pressure coupling** algorithm.\n",
    "\n",
    "*Please refer to the [original example](http://www.mdtutorials.com/gmx/lysozyme/07_equil2.html) for further details.*"
   ]
  },
  {
   "cell_type": "code",
   "execution_count": 25,
   "metadata": {},
   "outputs": [
    {
     "name": "stdout",
     "output_type": "stream",
     "text": [
      "2022-04-26 19:34:01,682 [MainThread  ] [INFO ]  GROMACS Grompp 20191 version detected\n",
      "2022-04-26 19:34:01,690 [MainThread  ] [INFO ]  Extracting: /home/ma/git/druglord/temp/6V23/6V23_genion_top.zip\n",
      "2022-04-26 19:34:01,690 [MainThread  ] [INFO ]  to:\n",
      "2022-04-26 19:34:01,691 [MainThread  ] [INFO ]  ['762bb82b-81bf-46b2-a0b7-b0120d3cc938/p2g.top', '762bb82b-81bf-46b2-a0b7-b0120d3cc938/posre.itp']\n",
      "2022-04-26 19:34:01,692 [MainThread  ] [INFO ]  Unzipping: \n",
      "2022-04-26 19:34:01,693 [MainThread  ] [INFO ]  6V23_genion_top.zip\n",
      "2022-04-26 19:34:01,694 [MainThread  ] [INFO ]  To: \n",
      "2022-04-26 19:34:01,694 [MainThread  ] [INFO ]  762bb82b-81bf-46b2-a0b7-b0120d3cc938/p2g.top\n",
      "2022-04-26 19:34:01,695 [MainThread  ] [INFO ]  762bb82b-81bf-46b2-a0b7-b0120d3cc938/posre.itp\n",
      "2022-04-26 19:34:01,696 [MainThread  ] [INFO ]  Not using any container\n",
      "2022-04-26 19:34:02,541 [MainThread  ] [INFO ]  gmx -nobackup -nocopyright grompp -f 2da2b473-527e-410d-9f38-da56963e8b83/grompp.mdp -c 6V23_nvt.gro -r 6V23_nvt.gro -p 762bb82b-81bf-46b2-a0b7-b0120d3cc938/p2g.top -o 6V23_gppnpt.tpr -po mdout.mdp -maxwarn 0 -t 6V23_nvt.cpt\n",
      "\n",
      "2022-04-26 19:34:02,543 [MainThread  ] [INFO ]  Exit code 0\n",
      "\n",
      "2022-04-26 19:34:02,543 [MainThread  ] [INFO ]  turning H bonds into constraints...\n",
      "turning H bonds into constraints...\n",
      "turning H bonds into constraints...\n",
      "turning H bonds into constraints...\n",
      "Analysing residue names:\n",
      "There are:   315    Protein residues\n",
      "There are: 28546      Water residues\n",
      "There are:    60        Ion residues\n",
      "Analysing Protein...\n",
      "Analysing residues not classified as Protein/DNA/RNA/Water and splitting into groups...\n",
      "Determining Verlet buffer for a tolerance of 0.005 kJ/mol/ps at 300 K\n",
      "Calculated rlist for 1x1 atom pair-list as 1.035 nm, buffer size 0.035 nm\n",
      "Set rlist, assuming 4x4 atom pair-list, to 1.000 nm, buffer size 0.000 nm\n",
      "Note that mdrun will redetermine rlist based on the actual pair-list setup\n",
      "Calculating fourier grid dimensions for X Y Z\n",
      "Using a fourier grid of 84x84x84, spacing 0.116 0.116 0.116\n",
      "This run will generate roughly 238 Mb of data\n",
      "\n",
      "2022-04-26 19:34:02,544 [MainThread  ] [INFO ]                        :-) GROMACS - gmx grompp, 2019.1 (-:\n",
      "\n",
      "Executable:   /home/ma/miniconda3/envs/druglord/bin/gmx\n",
      "Data prefix:  /home/ma/miniconda3/envs/druglord\n",
      "Working dir:  /home/ma/git/druglord/temp/6V23\n",
      "Command line:\n",
      "  gmx -nobackup -nocopyright grompp -f 2da2b473-527e-410d-9f38-da56963e8b83/grompp.mdp -c 6V23_nvt.gro -r 6V23_nvt.gro -p 762bb82b-81bf-46b2-a0b7-b0120d3cc938/p2g.top -o 6V23_gppnpt.tpr -po mdout.mdp -maxwarn 0 -t 6V23_nvt.cpt\n",
      "\n",
      "Setting the LD random seed to 2146964508\n",
      "Generated 2145 of the 2145 non-bonded parameter combinations\n",
      "Generating 1-4 interactions: fudge = 0.5\n",
      "Generated 2145 of the 2145 1-4 parameter combinations\n",
      "Excluding 3 bonded neighbours molecule type 'Protein_chain_A'\n",
      "Excluding 2 bonded neighbours molecule type 'SOL'\n",
      "Excluding 1 bonded neighbours molecule type 'NA'\n",
      "Excluding 1 bonded neighbours molecule type 'CL'\n",
      "Removing all charge groups because cutoff-scheme=Verlet\n",
      "\n",
      "NOTE 1 [file p2g.top, line 45061]:\n",
      "  You are combining position restraints with Parrinello-Rahman pressure\n",
      "  coupling, which can lead to instabilities. If you really want to combine\n",
      "  position restraints with pressure coupling, we suggest to use Berendsen\n",
      "  pressure coupling instead.\n",
      "\n",
      "The center of mass of the position restraint coord's is  4.870  4.862  4.877\n",
      "The center of mass of the position restraint coord's is  4.870  4.862  4.877\n",
      "Number of degrees of freedom in T-Coupling group Protein is 11809.81\n",
      "Number of degrees of freedom in T-Coupling group non-Protein is 171453.19\n",
      "Reading Coordinates, Velocities and Box size from old trajectory\n",
      "Will read whole trajectory\n",
      "Last frame         -1 time  100.000   \n",
      "Using frame at t = 100 ps\n",
      "Starting time for run is 0 ps\n",
      "Estimate for the relative computational load of the PME mesh part: 0.19\n",
      "\n",
      "There was 1 note\n",
      "\n",
      "GROMACS reminds you: \"BioBeat is Not Available In Regular Shops\" (P.J. Meulenhoff)\n",
      "\n",
      "\n",
      "2022-04-26 19:34:02,546 [MainThread  ] [INFO ]  Removed: ['mdout.mdp', '762bb82b-81bf-46b2-a0b7-b0120d3cc938', '2da2b473-527e-410d-9f38-da56963e8b83']\n"
     ]
    },
    {
     "data": {
      "text/plain": [
       "0"
      ]
     },
     "execution_count": 25,
     "metadata": {},
     "output_type": "execute_result"
    }
   ],
   "source": [
    "# Grompp: Creating portable binary run file for NPT System Equilibration\n",
    "from biobb_md.gromacs.grompp import grompp\n",
    "\n",
    "# Create prop dict and inputs/outputs\n",
    "output_gppnpt_tpr = pdbCode+'_gppnpt.tpr'\n",
    "prop = {\n",
    "    'mdp':{\n",
    "        'nsteps':'50000',\n",
    "        #'tc_grps': \"DNA Water_and_ions\" # NOTE: uncomment this line if working with DNA\n",
    "    },\n",
    "    'simulation_type': 'npt'\n",
    "}\n",
    "\n",
    "# Create and launch bb\n",
    "grompp(input_gro_path=output_nvt_gro, \n",
    "       input_top_zip_path=output_genion_top_zip, \n",
    "       output_tpr_path=output_gppnpt_tpr, \n",
    "       input_cpt_path=output_nvt_cpt,  \n",
    "       properties=prop)"
   ]
  },
  {
   "cell_type": "markdown",
   "metadata": {},
   "source": [
    "<a id=\"eqNPTStep2\"></a>\n",
    "### Step 2: Running NPT equilibration"
   ]
  },
  {
   "cell_type": "code",
   "execution_count": 26,
   "metadata": {},
   "outputs": [
    {
     "name": "stdout",
     "output_type": "stream",
     "text": [
      "2022-04-26 19:34:02,786 [MainThread  ] [INFO ]  GROMACS Mdrun 20191 version detected\n",
      "2022-04-26 19:34:02,788 [MainThread  ] [INFO ]  Not using any container\n",
      "2022-04-26 19:38:48,250 [MainThread  ] [INFO ]  gmx -nobackup -nocopyright mdrun -s 6V23_gppnpt.tpr -o 6V23_npt.trr -c 6V23_npt.gro -e 6V23_npt.edr -g 6V23_npt.log -cpo 6V23_npt.cpt\n",
      "\n",
      "2022-04-26 19:38:48,252 [MainThread  ] [INFO ]  Exit code 0\n",
      "\n",
      "2022-04-26 19:38:48,253 [MainThread  ] [INFO ]                        :-) GROMACS - gmx mdrun, 2019.1 (-:\n",
      "\n",
      "Executable:   /home/ma/miniconda3/envs/druglord/bin/gmx\n",
      "Data prefix:  /home/ma/miniconda3/envs/druglord\n",
      "Working dir:  /home/ma/git/druglord/temp/6V23\n",
      "Command line:\n",
      "  gmx -nobackup -nocopyright mdrun -s 6V23_gppnpt.tpr -o 6V23_npt.trr -c 6V23_npt.gro -e 6V23_npt.edr -g 6V23_npt.log -cpo 6V23_npt.cpt\n",
      "\n",
      "Compiled SIMD: SSE2, but for this host/run AVX_512 might be better (see log).\n",
      "The current CPU can measure timings more accurately than the code in\n",
      "gmx mdrun was configured to use. This might affect your simulation\n",
      "speed as accurate timings are needed for load-balancing.\n",
      "Please consider rebuilding gmx mdrun with the GMX_USE_RDTSCP=ON CMake option.\n",
      "Reading file 6V23_gppnpt.tpr, VERSION 2019.1 (single precision)\n",
      "Changing nstlist from 10 to 50, rlist from 1 to 1.115\n",
      "\n",
      "\n",
      "Using 72 MPI threads\n",
      "Using 1 OpenMP thread per tMPI thread\n",
      "\n",
      "starting mdrun 'Protein in water'\n",
      "50000 steps,    100.0 ps.\n",
      "\n",
      "Writing final coordinates.\n",
      "\n",
      "\n",
      "Dynamic load balancing report:\n",
      " DLB got disabled because it was unsuitable to use.\n",
      " Average load imbalance: 11.6%.\n",
      " The balanceable part of the MD step is 80%, load imbalance is computed from this.\n",
      " Part of the total run time spent waiting due to load imbalance: 9.3%.\n",
      " Average PME mesh/force load: 0.911\n",
      " Part of the total run time spent waiting due to PP/PME imbalance: 1.3 %\n",
      "\n",
      "NOTE: 9.3 % of the available CPU time was lost due to load imbalance\n",
      "      in the domain decomposition.\n",
      "      You might want to use dynamic load balancing (option -dlb.)\n",
      "      You can also consider manually changing the decomposition (option -dd);\n",
      "      e.g. by using fewer domains along the box dimension in which there is\n",
      "      considerable inhomogeneity in the simulated system.\n",
      "\n",
      "               Core t (s)   Wall t (s)        (%)\n",
      "       Time:    20175.660      280.218     7200.0\n",
      "                 (ns/day)    (hour/ns)\n",
      "Performance:       30.834        0.778\n",
      "\n",
      "GROMACS reminds you: \"A mathematician is a blind man in a dark room looking for a black cat which isn't there.\" (Charles Darwin)\n",
      "\n",
      "\n",
      "2022-04-26 19:38:48,255 [MainThread  ] [INFO ]  Removed: []\n"
     ]
    },
    {
     "data": {
      "text/plain": [
       "0"
      ]
     },
     "execution_count": 26,
     "metadata": {},
     "output_type": "execute_result"
    }
   ],
   "source": [
    "# Mdrun: Running NPT System Equilibration\n",
    "from biobb_md.gromacs.mdrun import mdrun\n",
    "\n",
    "# Create prop dict and inputs/outputs\n",
    "output_npt_trr = pdbCode+'_npt.trr'\n",
    "output_npt_gro = pdbCode+'_npt.gro'\n",
    "output_npt_edr = pdbCode+'_npt.edr'\n",
    "output_npt_log = pdbCode+'_npt.log'\n",
    "output_npt_cpt = pdbCode+'_npt.cpt'\n",
    "\n",
    "# Create and launch bb\n",
    "mdrun(input_tpr_path=output_gppnpt_tpr, \n",
    "      output_trr_path=output_npt_trr, \n",
    "      output_gro_path=output_npt_gro, \n",
    "      output_edr_path=output_npt_edr, \n",
    "      output_log_path=output_npt_log, \n",
    "      output_cpt_path=output_npt_cpt)"
   ]
  },
  {
   "cell_type": "markdown",
   "metadata": {},
   "source": [
    "<a id=\"eqNPTStep3\"></a>\n",
    "### Step 3: Checking NPT Equilibration results\n",
    "Checking **NPT Equilibration** results. Plotting **system pressure and density** by time during the **NPT equilibration** process. "
   ]
  },
  {
   "cell_type": "code",
   "execution_count": 27,
   "metadata": {},
   "outputs": [
    {
     "name": "stdout",
     "output_type": "stream",
     "text": [
      "2022-04-26 19:38:48,691 [MainThread  ] [INFO ]  Not using any container\n",
      "2022-04-26 19:38:48,721 [MainThread  ] [INFO ]  gmx energy -f /home/ma/git/druglord/temp/6V23/6V23_npt.edr -o 6V23_npt_PD.xvg -xvg none < 3b6f3001-a430-45c9-bce1-6cdad4fb3c04/instructions.in\n",
      "\n",
      "2022-04-26 19:38:48,722 [MainThread  ] [INFO ]  Exit code 0\n",
      "\n",
      "2022-04-26 19:38:48,723 [MainThread  ] [INFO ]  \n",
      "Statistics over 50001 steps [ 0.0000 through 100.0000 ps ], 2 data sets\n",
      "All statistics are over 501 points\n",
      "\n",
      "Energy                      Average   Err.Est.       RMSD  Tot-Drift\n",
      "-------------------------------------------------------------------------------\n",
      "Pressure                   -1.90868          3    102.258   -13.8686  (bar)\n",
      "Density                     1017.38        0.3    2.39522    2.01201  (kg/m^3)\n",
      "\n",
      "2022-04-26 19:38:48,724 [MainThread  ] [INFO ]                        :-) GROMACS - gmx energy, 2019.1 (-:\n",
      "\n",
      "                            GROMACS is written by:\n",
      "     Emile Apol      Rossen Apostolov      Paul Bauer     Herman J.C. Berendsen\n",
      "    Par Bjelkmar      Christian Blau   Viacheslav Bolnykh     Kevin Boyd    \n",
      " Aldert van Buuren   Rudi van Drunen     Anton Feenstra       Alan Gray     \n",
      "  Gerrit Groenhof     Anca Hamuraru    Vincent Hindriksen  M. Eric Irrgang  \n",
      "  Aleksei Iupinov   Christoph Junghans     Joe Jordan     Dimitrios Karkoulis\n",
      "    Peter Kasson        Jiri Kraus      Carsten Kutzner      Per Larsson    \n",
      "  Justin A. Lemkul    Viveca Lindahl    Magnus Lundborg     Erik Marklund   \n",
      "    Pascal Merz     Pieter Meulenhoff    Teemu Murtola       Szilard Pall   \n",
      "    Sander Pronk      Roland Schulz      Michael Shirts    Alexey Shvetsov  \n",
      "   Alfons Sijbers     Peter Tieleman      Jon Vincent      Teemu Virolainen \n",
      " Christian Wennberg    Maarten Wolf   \n",
      "                           and the project leaders:\n",
      "        Mark Abraham, Berk Hess, Erik Lindahl, and David van der Spoel\n",
      "\n",
      "Copyright (c) 1991-2000, University of Groningen, The Netherlands.\n",
      "Copyright (c) 2001-2018, The GROMACS development team at\n",
      "Uppsala University, Stockholm University and\n",
      "the Royal Institute of Technology, Sweden.\n",
      "check out http://www.gromacs.org for more information.\n",
      "\n",
      "GROMACS is free software; you can redistribute it and/or modify it\n",
      "under the terms of the GNU Lesser General Public License\n",
      "as published by the Free Software Foundation; either version 2.1\n",
      "of the License, or (at your option) any later version.\n",
      "\n",
      "GROMACS:      gmx energy, version 2019.1\n",
      "Executable:   /home/ma/miniconda3/envs/druglord/bin/gmx\n",
      "Data prefix:  /home/ma/miniconda3/envs/druglord\n",
      "Working dir:  /home/ma/git/druglord/temp/6V23\n",
      "Command line:\n",
      "  gmx energy -f /home/ma/git/druglord/temp/6V23/6V23_npt.edr -o 6V23_npt_PD.xvg -xvg none\n",
      "\n",
      "Opened /home/ma/git/druglord/temp/6V23/6V23_npt.edr as single precision energy file\n",
      "\n",
      "Select the terms you want from the following list by\n",
      "selecting either (part of) the name or the number or a combination.\n",
      "End your selection with an empty line or a zero.\n",
      "-------------------------------------------------------------------\n",
      "  1  Bond             2  Angle            3  Proper-Dih.      4  Improper-Dih. \n",
      "  5  LJ-14            6  Coulomb-14       7  LJ-(SR)          8  Disper.-corr. \n",
      "  9  Coulomb-(SR)    10  Coul.-recip.    11  Position-Rest.  12  Potential     \n",
      " 13  Kinetic-En.     14  Total-Energy    15  Conserved-En.   16  Temperature   \n",
      " 17  Pres.-DC        18  Pressure        19  Constr.-rmsd    20  Box-X         \n",
      " 21  Box-Y           22  Box-Z           23  Volume          24  Density       \n",
      " 25  pV              26  Enthalpy        27  Vir-XX          28  Vir-XY        \n",
      " 29  Vir-XZ          30  Vir-YX          31  Vir-YY          32  Vir-YZ        \n",
      " 33  Vir-ZX          34  Vir-ZY          35  Vir-ZZ          36  Pres-XX       \n",
      " 37  Pres-XY         38  Pres-XZ         39  Pres-YX         40  Pres-YY       \n",
      " 41  Pres-YZ         42  Pres-ZX         43  Pres-ZY         44  Pres-ZZ       \n",
      " 45  #Surf*SurfTen   46  Box-Vel-XX      47  Box-Vel-YY      48  Box-Vel-ZZ    \n",
      " 49  T-Protein                           50  T-non-Protein                     \n",
      " 51  Lamb-Protein                        52  Lamb-non-Protein                  \n",
      "\n",
      "Last energy frame read 100 time  100.000          \n",
      "\n",
      "GROMACS reminds you: \"I believe in miracles cause I'm one\" (The Ramones)\n",
      "\n",
      "\n",
      "2022-04-26 19:38:48,725 [MainThread  ] [INFO ]  Removed: [PurePosixPath('3b6f3001-a430-45c9-bce1-6cdad4fb3c04')]\n"
     ]
    },
    {
     "data": {
      "text/plain": [
       "0"
      ]
     },
     "execution_count": 27,
     "metadata": {},
     "output_type": "execute_result"
    }
   ],
   "source": [
    "# GMXEnergy: Getting system pressure and density by time during NPT Equilibration  \n",
    "from biobb_analysis.gromacs.gmx_energy import gmx_energy\n",
    "\n",
    "# Create prop dict and inputs/outputs\n",
    "output_npt_pd_xvg = pdbCode+'_npt_PD.xvg'\n",
    "prop = {\n",
    "    'terms':  [\"Pressure\",\"Density\"]\n",
    "}\n",
    "\n",
    "# Create and launch bb\n",
    "gmx_energy(input_energy_path=output_npt_edr, \n",
    "          output_xvg_path=output_npt_pd_xvg, \n",
    "          properties=prop)"
   ]
  },
  {
   "cell_type": "code",
   "execution_count": 28,
   "metadata": {},
   "outputs": [
    {
     "data": {
      "text/html": [
       "        <script type=\"text/javascript\">\n",
       "        window.PlotlyConfig = {MathJaxConfig: 'local'};\n",
       "        if (window.MathJax) {MathJax.Hub.Config({SVG: {font: \"STIX-Web\"}});}\n",
       "        if (typeof require !== 'undefined') {\n",
       "        require.undef(\"plotly\");\n",
       "        requirejs.config({\n",
       "            paths: {\n",
       "                'plotly': ['https://cdn.plot.ly/plotly-2.11.1.min']\n",
       "            }\n",
       "        });\n",
       "        require(['plotly'], function(Plotly) {\n",
       "            window._Plotly = Plotly;\n",
       "        });\n",
       "        }\n",
       "        </script>\n",
       "        "
      ]
     },
     "metadata": {},
     "output_type": "display_data"
    },
    {
     "data": {
      "application/vnd.plotly.v1+json": {
       "config": {
        "linkText": "Export to plot.ly",
        "plotlyServerURL": "https://plot.ly",
        "showLink": false
       },
       "data": [
        {
         "type": "scatter",
         "x": [
          0,
          1,
          2,
          3,
          4,
          5,
          6,
          7,
          8,
          9,
          10,
          11,
          12,
          13,
          14,
          15,
          16,
          17,
          18,
          19,
          20,
          21,
          22,
          23,
          24,
          25,
          26,
          27,
          28,
          29,
          30,
          31,
          32,
          33,
          34,
          35,
          36,
          37,
          38,
          39,
          40,
          41,
          42,
          43,
          44,
          45,
          46,
          47,
          48,
          49,
          50,
          51,
          52,
          53,
          54,
          55,
          56,
          57,
          58,
          59,
          60,
          61,
          62,
          63,
          64,
          65,
          66,
          67,
          68,
          69,
          70,
          71,
          72,
          73,
          74,
          75,
          76,
          77,
          78,
          79,
          80,
          81,
          82,
          83,
          84,
          85,
          86,
          87,
          88,
          89,
          90,
          91,
          92,
          93,
          94,
          95,
          96,
          97,
          98,
          99,
          100
         ],
         "xaxis": "x",
         "y": [
          -587.416992,
          84.360321,
          23.931885,
          -33.265747,
          49.261749,
          120.035934,
          29.542252,
          127.244995,
          -40.370697,
          -14.778931,
          -50.572952,
          11.003769,
          -112.218552,
          70.495911,
          99.215057,
          22.935928,
          90.348602,
          43.220596,
          -32.578751,
          197.541763,
          92.70224,
          35.307236,
          -28.871643,
          22.604935,
          -26.856354,
          -11.451385,
          -45.962357,
          49.01355,
          -257.736481,
          -24.864151,
          -5.531586,
          -71.454407,
          -66.164841,
          210.636108,
          183.396439,
          49.041779,
          43.436844,
          -137.943726,
          -157.437469,
          -130.978943,
          58.05632,
          -90.358444,
          41.942886,
          -123.401245,
          -8.794312,
          -25.641983,
          131.424011,
          -102.559128,
          35.630936,
          -139.910645,
          -108.226562,
          106.67337,
          -156.676575,
          -93.30101,
          132.740372,
          -59.920364,
          18.950546,
          94.035416,
          42.479263,
          -212.800308,
          190.794876,
          220.231247,
          98.629807,
          -90.312195,
          -71.548767,
          -168.136078,
          -44.271851,
          -170.471558,
          -99.353981,
          63.571121,
          -31.922409,
          -19.815918,
          163.501556,
          89.363327,
          163.235016,
          -0.404419,
          90.753769,
          75.393616,
          76.253967,
          -80.263626,
          56.416885,
          17.190628,
          17.467987,
          56.157501,
          -217.813507,
          65.550018,
          -18.655991,
          112.248413,
          -83.378769,
          -100.153694,
          198.790497,
          107.942657,
          9.430069,
          -22.171982,
          -16.590729,
          -77.219513,
          20.6194,
          -160.565231,
          -83.015106,
          4.054672,
          52.631271
         ],
         "yaxis": "y"
        },
        {
         "type": "scatter",
         "x": [
          0,
          1,
          2,
          3,
          4,
          5,
          6,
          7,
          8,
          9,
          10,
          11,
          12,
          13,
          14,
          15,
          16,
          17,
          18,
          19,
          20,
          21,
          22,
          23,
          24,
          25,
          26,
          27,
          28,
          29,
          30,
          31,
          32,
          33,
          34,
          35,
          36,
          37,
          38,
          39,
          40,
          41,
          42,
          43,
          44,
          45,
          46,
          47,
          48,
          49,
          50,
          51,
          52,
          53,
          54,
          55,
          56,
          57,
          58,
          59,
          60,
          61,
          62,
          63,
          64,
          65,
          66,
          67,
          68,
          69,
          70,
          71,
          72,
          73,
          74,
          75,
          76,
          77,
          78,
          79,
          80,
          81,
          82,
          83,
          84,
          85,
          86,
          87,
          88,
          89,
          90,
          91,
          92,
          93,
          94,
          95,
          96,
          97,
          98,
          99,
          100
         ],
         "xaxis": "x2",
         "y": [
          989.259827,
          1010.639587,
          1012.351135,
          1014.847534,
          1016.205872,
          1014.395874,
          1017.493896,
          1018.519104,
          1016.360168,
          1019.483582,
          1020.235718,
          1019.345947,
          1016.852539,
          1018.400085,
          1017.785034,
          1016.85553,
          1017.185303,
          1016.918884,
          1017.098694,
          1020.753296,
          1019.028564,
          1018.153198,
          1016.011841,
          1017.945435,
          1017.314087,
          1018.4375,
          1018.169189,
          1018.252258,
          1014.921204,
          1018.992004,
          1018.154358,
          1016.311401,
          1016.29303,
          1017.388,
          1018.601624,
          1019.843262,
          1021.394104,
          1018.477417,
          1015.908569,
          1016.324036,
          1017.198792,
          1018.649414,
          1016.800354,
          1016.032654,
          1020.122681,
          1017.052185,
          1018.14502,
          1016.370972,
          1015.927246,
          1017.765991,
          1016.332825,
          1014.230164,
          1016.071594,
          1017.536194,
          1019.112671,
          1015.414673,
          1019.128357,
          1015.824219,
          1015.644714,
          1015.823547,
          1019.195251,
          1018.125305,
          1017.455322,
          1015.354431,
          1018.385559,
          1017.092041,
          1017.193665,
          1016.364136,
          1017.811829,
          1018.358337,
          1017.441101,
          1017.819397,
          1018.890686,
          1018.568665,
          1019.224915,
          1018.718384,
          1018.467163,
          1016.781006,
          1018.313599,
          1018.061279,
          1017.265503,
          1018.944458,
          1018.188293,
          1015.940735,
          1017.551941,
          1018.53302,
          1018.965393,
          1019.506042,
          1018.220825,
          1019.407043,
          1019.730286,
          1018.125061,
          1018.656311,
          1017.376526,
          1016.241394,
          1015.890747,
          1016.391235,
          1014.142151,
          1015.20636,
          1015.38678,
          1016.885376
         ],
         "yaxis": "y2"
        }
       ],
       "layout": {
        "showlegend": false,
        "template": {
         "data": {
          "bar": [
           {
            "error_x": {
             "color": "#2a3f5f"
            },
            "error_y": {
             "color": "#2a3f5f"
            },
            "marker": {
             "line": {
              "color": "#E5ECF6",
              "width": 0.5
             },
             "pattern": {
              "fillmode": "overlay",
              "size": 10,
              "solidity": 0.2
             }
            },
            "type": "bar"
           }
          ],
          "barpolar": [
           {
            "marker": {
             "line": {
              "color": "#E5ECF6",
              "width": 0.5
             },
             "pattern": {
              "fillmode": "overlay",
              "size": 10,
              "solidity": 0.2
             }
            },
            "type": "barpolar"
           }
          ],
          "carpet": [
           {
            "aaxis": {
             "endlinecolor": "#2a3f5f",
             "gridcolor": "white",
             "linecolor": "white",
             "minorgridcolor": "white",
             "startlinecolor": "#2a3f5f"
            },
            "baxis": {
             "endlinecolor": "#2a3f5f",
             "gridcolor": "white",
             "linecolor": "white",
             "minorgridcolor": "white",
             "startlinecolor": "#2a3f5f"
            },
            "type": "carpet"
           }
          ],
          "choropleth": [
           {
            "colorbar": {
             "outlinewidth": 0,
             "ticks": ""
            },
            "type": "choropleth"
           }
          ],
          "contour": [
           {
            "colorbar": {
             "outlinewidth": 0,
             "ticks": ""
            },
            "colorscale": [
             [
              0,
              "#0d0887"
             ],
             [
              0.1111111111111111,
              "#46039f"
             ],
             [
              0.2222222222222222,
              "#7201a8"
             ],
             [
              0.3333333333333333,
              "#9c179e"
             ],
             [
              0.4444444444444444,
              "#bd3786"
             ],
             [
              0.5555555555555556,
              "#d8576b"
             ],
             [
              0.6666666666666666,
              "#ed7953"
             ],
             [
              0.7777777777777778,
              "#fb9f3a"
             ],
             [
              0.8888888888888888,
              "#fdca26"
             ],
             [
              1,
              "#f0f921"
             ]
            ],
            "type": "contour"
           }
          ],
          "contourcarpet": [
           {
            "colorbar": {
             "outlinewidth": 0,
             "ticks": ""
            },
            "type": "contourcarpet"
           }
          ],
          "heatmap": [
           {
            "colorbar": {
             "outlinewidth": 0,
             "ticks": ""
            },
            "colorscale": [
             [
              0,
              "#0d0887"
             ],
             [
              0.1111111111111111,
              "#46039f"
             ],
             [
              0.2222222222222222,
              "#7201a8"
             ],
             [
              0.3333333333333333,
              "#9c179e"
             ],
             [
              0.4444444444444444,
              "#bd3786"
             ],
             [
              0.5555555555555556,
              "#d8576b"
             ],
             [
              0.6666666666666666,
              "#ed7953"
             ],
             [
              0.7777777777777778,
              "#fb9f3a"
             ],
             [
              0.8888888888888888,
              "#fdca26"
             ],
             [
              1,
              "#f0f921"
             ]
            ],
            "type": "heatmap"
           }
          ],
          "heatmapgl": [
           {
            "colorbar": {
             "outlinewidth": 0,
             "ticks": ""
            },
            "colorscale": [
             [
              0,
              "#0d0887"
             ],
             [
              0.1111111111111111,
              "#46039f"
             ],
             [
              0.2222222222222222,
              "#7201a8"
             ],
             [
              0.3333333333333333,
              "#9c179e"
             ],
             [
              0.4444444444444444,
              "#bd3786"
             ],
             [
              0.5555555555555556,
              "#d8576b"
             ],
             [
              0.6666666666666666,
              "#ed7953"
             ],
             [
              0.7777777777777778,
              "#fb9f3a"
             ],
             [
              0.8888888888888888,
              "#fdca26"
             ],
             [
              1,
              "#f0f921"
             ]
            ],
            "type": "heatmapgl"
           }
          ],
          "histogram": [
           {
            "marker": {
             "pattern": {
              "fillmode": "overlay",
              "size": 10,
              "solidity": 0.2
             }
            },
            "type": "histogram"
           }
          ],
          "histogram2d": [
           {
            "colorbar": {
             "outlinewidth": 0,
             "ticks": ""
            },
            "colorscale": [
             [
              0,
              "#0d0887"
             ],
             [
              0.1111111111111111,
              "#46039f"
             ],
             [
              0.2222222222222222,
              "#7201a8"
             ],
             [
              0.3333333333333333,
              "#9c179e"
             ],
             [
              0.4444444444444444,
              "#bd3786"
             ],
             [
              0.5555555555555556,
              "#d8576b"
             ],
             [
              0.6666666666666666,
              "#ed7953"
             ],
             [
              0.7777777777777778,
              "#fb9f3a"
             ],
             [
              0.8888888888888888,
              "#fdca26"
             ],
             [
              1,
              "#f0f921"
             ]
            ],
            "type": "histogram2d"
           }
          ],
          "histogram2dcontour": [
           {
            "colorbar": {
             "outlinewidth": 0,
             "ticks": ""
            },
            "colorscale": [
             [
              0,
              "#0d0887"
             ],
             [
              0.1111111111111111,
              "#46039f"
             ],
             [
              0.2222222222222222,
              "#7201a8"
             ],
             [
              0.3333333333333333,
              "#9c179e"
             ],
             [
              0.4444444444444444,
              "#bd3786"
             ],
             [
              0.5555555555555556,
              "#d8576b"
             ],
             [
              0.6666666666666666,
              "#ed7953"
             ],
             [
              0.7777777777777778,
              "#fb9f3a"
             ],
             [
              0.8888888888888888,
              "#fdca26"
             ],
             [
              1,
              "#f0f921"
             ]
            ],
            "type": "histogram2dcontour"
           }
          ],
          "mesh3d": [
           {
            "colorbar": {
             "outlinewidth": 0,
             "ticks": ""
            },
            "type": "mesh3d"
           }
          ],
          "parcoords": [
           {
            "line": {
             "colorbar": {
              "outlinewidth": 0,
              "ticks": ""
             }
            },
            "type": "parcoords"
           }
          ],
          "pie": [
           {
            "automargin": true,
            "type": "pie"
           }
          ],
          "scatter": [
           {
            "fillpattern": {
             "fillmode": "overlay",
             "size": 10,
             "solidity": 0.2
            },
            "type": "scatter"
           }
          ],
          "scatter3d": [
           {
            "line": {
             "colorbar": {
              "outlinewidth": 0,
              "ticks": ""
             }
            },
            "marker": {
             "colorbar": {
              "outlinewidth": 0,
              "ticks": ""
             }
            },
            "type": "scatter3d"
           }
          ],
          "scattercarpet": [
           {
            "marker": {
             "colorbar": {
              "outlinewidth": 0,
              "ticks": ""
             }
            },
            "type": "scattercarpet"
           }
          ],
          "scattergeo": [
           {
            "marker": {
             "colorbar": {
              "outlinewidth": 0,
              "ticks": ""
             }
            },
            "type": "scattergeo"
           }
          ],
          "scattergl": [
           {
            "marker": {
             "colorbar": {
              "outlinewidth": 0,
              "ticks": ""
             }
            },
            "type": "scattergl"
           }
          ],
          "scattermapbox": [
           {
            "marker": {
             "colorbar": {
              "outlinewidth": 0,
              "ticks": ""
             }
            },
            "type": "scattermapbox"
           }
          ],
          "scatterpolar": [
           {
            "marker": {
             "colorbar": {
              "outlinewidth": 0,
              "ticks": ""
             }
            },
            "type": "scatterpolar"
           }
          ],
          "scatterpolargl": [
           {
            "marker": {
             "colorbar": {
              "outlinewidth": 0,
              "ticks": ""
             }
            },
            "type": "scatterpolargl"
           }
          ],
          "scatterternary": [
           {
            "marker": {
             "colorbar": {
              "outlinewidth": 0,
              "ticks": ""
             }
            },
            "type": "scatterternary"
           }
          ],
          "surface": [
           {
            "colorbar": {
             "outlinewidth": 0,
             "ticks": ""
            },
            "colorscale": [
             [
              0,
              "#0d0887"
             ],
             [
              0.1111111111111111,
              "#46039f"
             ],
             [
              0.2222222222222222,
              "#7201a8"
             ],
             [
              0.3333333333333333,
              "#9c179e"
             ],
             [
              0.4444444444444444,
              "#bd3786"
             ],
             [
              0.5555555555555556,
              "#d8576b"
             ],
             [
              0.6666666666666666,
              "#ed7953"
             ],
             [
              0.7777777777777778,
              "#fb9f3a"
             ],
             [
              0.8888888888888888,
              "#fdca26"
             ],
             [
              1,
              "#f0f921"
             ]
            ],
            "type": "surface"
           }
          ],
          "table": [
           {
            "cells": {
             "fill": {
              "color": "#EBF0F8"
             },
             "line": {
              "color": "white"
             }
            },
            "header": {
             "fill": {
              "color": "#C8D4E3"
             },
             "line": {
              "color": "white"
             }
            },
            "type": "table"
           }
          ]
         },
         "layout": {
          "annotationdefaults": {
           "arrowcolor": "#2a3f5f",
           "arrowhead": 0,
           "arrowwidth": 1
          },
          "autotypenumbers": "strict",
          "coloraxis": {
           "colorbar": {
            "outlinewidth": 0,
            "ticks": ""
           }
          },
          "colorscale": {
           "diverging": [
            [
             0,
             "#8e0152"
            ],
            [
             0.1,
             "#c51b7d"
            ],
            [
             0.2,
             "#de77ae"
            ],
            [
             0.3,
             "#f1b6da"
            ],
            [
             0.4,
             "#fde0ef"
            ],
            [
             0.5,
             "#f7f7f7"
            ],
            [
             0.6,
             "#e6f5d0"
            ],
            [
             0.7,
             "#b8e186"
            ],
            [
             0.8,
             "#7fbc41"
            ],
            [
             0.9,
             "#4d9221"
            ],
            [
             1,
             "#276419"
            ]
           ],
           "sequential": [
            [
             0,
             "#0d0887"
            ],
            [
             0.1111111111111111,
             "#46039f"
            ],
            [
             0.2222222222222222,
             "#7201a8"
            ],
            [
             0.3333333333333333,
             "#9c179e"
            ],
            [
             0.4444444444444444,
             "#bd3786"
            ],
            [
             0.5555555555555556,
             "#d8576b"
            ],
            [
             0.6666666666666666,
             "#ed7953"
            ],
            [
             0.7777777777777778,
             "#fb9f3a"
            ],
            [
             0.8888888888888888,
             "#fdca26"
            ],
            [
             1,
             "#f0f921"
            ]
           ],
           "sequentialminus": [
            [
             0,
             "#0d0887"
            ],
            [
             0.1111111111111111,
             "#46039f"
            ],
            [
             0.2222222222222222,
             "#7201a8"
            ],
            [
             0.3333333333333333,
             "#9c179e"
            ],
            [
             0.4444444444444444,
             "#bd3786"
            ],
            [
             0.5555555555555556,
             "#d8576b"
            ],
            [
             0.6666666666666666,
             "#ed7953"
            ],
            [
             0.7777777777777778,
             "#fb9f3a"
            ],
            [
             0.8888888888888888,
             "#fdca26"
            ],
            [
             1,
             "#f0f921"
            ]
           ]
          },
          "colorway": [
           "#636efa",
           "#EF553B",
           "#00cc96",
           "#ab63fa",
           "#FFA15A",
           "#19d3f3",
           "#FF6692",
           "#B6E880",
           "#FF97FF",
           "#FECB52"
          ],
          "font": {
           "color": "#2a3f5f"
          },
          "geo": {
           "bgcolor": "white",
           "lakecolor": "white",
           "landcolor": "#E5ECF6",
           "showlakes": true,
           "showland": true,
           "subunitcolor": "white"
          },
          "hoverlabel": {
           "align": "left"
          },
          "hovermode": "closest",
          "mapbox": {
           "style": "light"
          },
          "paper_bgcolor": "white",
          "plot_bgcolor": "#E5ECF6",
          "polar": {
           "angularaxis": {
            "gridcolor": "white",
            "linecolor": "white",
            "ticks": ""
           },
           "bgcolor": "#E5ECF6",
           "radialaxis": {
            "gridcolor": "white",
            "linecolor": "white",
            "ticks": ""
           }
          },
          "scene": {
           "xaxis": {
            "backgroundcolor": "#E5ECF6",
            "gridcolor": "white",
            "gridwidth": 2,
            "linecolor": "white",
            "showbackground": true,
            "ticks": "",
            "zerolinecolor": "white"
           },
           "yaxis": {
            "backgroundcolor": "#E5ECF6",
            "gridcolor": "white",
            "gridwidth": 2,
            "linecolor": "white",
            "showbackground": true,
            "ticks": "",
            "zerolinecolor": "white"
           },
           "zaxis": {
            "backgroundcolor": "#E5ECF6",
            "gridcolor": "white",
            "gridwidth": 2,
            "linecolor": "white",
            "showbackground": true,
            "ticks": "",
            "zerolinecolor": "white"
           }
          },
          "shapedefaults": {
           "line": {
            "color": "#2a3f5f"
           }
          },
          "ternary": {
           "aaxis": {
            "gridcolor": "white",
            "linecolor": "white",
            "ticks": ""
           },
           "baxis": {
            "gridcolor": "white",
            "linecolor": "white",
            "ticks": ""
           },
           "bgcolor": "#E5ECF6",
           "caxis": {
            "gridcolor": "white",
            "linecolor": "white",
            "ticks": ""
           }
          },
          "title": {
           "x": 0.05
          },
          "xaxis": {
           "automargin": true,
           "gridcolor": "white",
           "linecolor": "white",
           "ticks": "",
           "title": {
            "standoff": 15
           },
           "zerolinecolor": "white",
           "zerolinewidth": 2
          },
          "yaxis": {
           "automargin": true,
           "gridcolor": "white",
           "linecolor": "white",
           "ticks": "",
           "title": {
            "standoff": 15
           },
           "zerolinecolor": "white",
           "zerolinewidth": 2
          }
         }
        },
        "title": {
         "text": "Pressure and Density during NPT Equilibration"
        },
        "xaxis": {
         "anchor": "y",
         "domain": [
          0,
          0.45
         ],
         "title": {
          "text": "Time (ps)"
         }
        },
        "xaxis2": {
         "anchor": "y2",
         "domain": [
          0.55,
          1
         ],
         "title": {
          "text": "Time (ps)"
         }
        },
        "yaxis": {
         "anchor": "x",
         "domain": [
          0,
          1
         ],
         "title": {
          "text": "Pressure (bar)"
         }
        },
        "yaxis2": {
         "anchor": "x2",
         "domain": [
          0,
          1
         ],
         "title": {
          "text": "Density (Kg*m^-3)"
         }
        }
       }
      },
      "text/html": [
       "<div>                            <div id=\"fcfe95c1-8bc8-41bc-96a3-be9ffb75a383\" class=\"plotly-graph-div\" style=\"height:525px; width:100%;\"></div>            <script type=\"text/javascript\">                require([\"plotly\"], function(Plotly) {                    window.PLOTLYENV=window.PLOTLYENV || {};                                    if (document.getElementById(\"fcfe95c1-8bc8-41bc-96a3-be9ffb75a383\")) {                    Plotly.newPlot(                        \"fcfe95c1-8bc8-41bc-96a3-be9ffb75a383\",                        [{\"x\":[0.0,1.0,2.0,3.0,4.0,5.0,6.0,7.0,8.0,9.0,10.0,11.0,12.0,13.0,14.0,15.0,16.0,17.0,18.0,19.0,20.0,21.0,22.0,23.0,24.0,25.0,26.0,27.0,28.0,29.0,30.0,31.0,32.0,33.0,34.0,35.0,36.0,37.0,38.0,39.0,40.0,41.0,42.0,43.0,44.0,45.0,46.0,47.0,48.0,49.0,50.0,51.0,52.0,53.0,54.0,55.0,56.0,57.0,58.0,59.0,60.0,61.0,62.0,63.0,64.0,65.0,66.0,67.0,68.0,69.0,70.0,71.0,72.0,73.0,74.0,75.0,76.0,77.0,78.0,79.0,80.0,81.0,82.0,83.0,84.0,85.0,86.0,87.0,88.0,89.0,90.0,91.0,92.0,93.0,94.0,95.0,96.0,97.0,98.0,99.0,100.0],\"xaxis\":\"x\",\"y\":[-587.416992,84.360321,23.931885,-33.265747,49.261749,120.035934,29.542252,127.244995,-40.370697,-14.778931,-50.572952,11.003769,-112.218552,70.495911,99.215057,22.935928,90.348602,43.220596,-32.578751,197.541763,92.70224,35.307236,-28.871643,22.604935,-26.856354,-11.451385,-45.962357,49.01355,-257.736481,-24.864151,-5.531586,-71.454407,-66.164841,210.636108,183.396439,49.041779,43.436844,-137.943726,-157.437469,-130.978943,58.05632,-90.358444,41.942886,-123.401245,-8.794312,-25.641983,131.424011,-102.559128,35.630936,-139.910645,-108.226562,106.67337,-156.676575,-93.30101,132.740372,-59.920364,18.950546,94.035416,42.479263,-212.800308,190.794876,220.231247,98.629807,-90.312195,-71.548767,-168.136078,-44.271851,-170.471558,-99.353981,63.571121,-31.922409,-19.815918,163.501556,89.363327,163.235016,-0.404419,90.753769,75.393616,76.253967,-80.263626,56.416885,17.190628,17.467987,56.157501,-217.813507,65.550018,-18.655991,112.248413,-83.378769,-100.153694,198.790497,107.942657,9.430069,-22.171982,-16.590729,-77.219513,20.6194,-160.565231,-83.015106,4.054672,52.631271],\"yaxis\":\"y\",\"type\":\"scatter\"},{\"x\":[0.0,1.0,2.0,3.0,4.0,5.0,6.0,7.0,8.0,9.0,10.0,11.0,12.0,13.0,14.0,15.0,16.0,17.0,18.0,19.0,20.0,21.0,22.0,23.0,24.0,25.0,26.0,27.0,28.0,29.0,30.0,31.0,32.0,33.0,34.0,35.0,36.0,37.0,38.0,39.0,40.0,41.0,42.0,43.0,44.0,45.0,46.0,47.0,48.0,49.0,50.0,51.0,52.0,53.0,54.0,55.0,56.0,57.0,58.0,59.0,60.0,61.0,62.0,63.0,64.0,65.0,66.0,67.0,68.0,69.0,70.0,71.0,72.0,73.0,74.0,75.0,76.0,77.0,78.0,79.0,80.0,81.0,82.0,83.0,84.0,85.0,86.0,87.0,88.0,89.0,90.0,91.0,92.0,93.0,94.0,95.0,96.0,97.0,98.0,99.0,100.0],\"xaxis\":\"x2\",\"y\":[989.259827,1010.639587,1012.351135,1014.847534,1016.205872,1014.395874,1017.493896,1018.519104,1016.360168,1019.483582,1020.235718,1019.345947,1016.852539,1018.400085,1017.785034,1016.85553,1017.185303,1016.918884,1017.098694,1020.753296,1019.028564,1018.153198,1016.011841,1017.945435,1017.314087,1018.4375,1018.169189,1018.252258,1014.921204,1018.992004,1018.154358,1016.311401,1016.29303,1017.388,1018.601624,1019.843262,1021.394104,1018.477417,1015.908569,1016.324036,1017.198792,1018.649414,1016.800354,1016.032654,1020.122681,1017.052185,1018.14502,1016.370972,1015.927246,1017.765991,1016.332825,1014.230164,1016.071594,1017.536194,1019.112671,1015.414673,1019.128357,1015.824219,1015.644714,1015.823547,1019.195251,1018.125305,1017.455322,1015.354431,1018.385559,1017.092041,1017.193665,1016.364136,1017.811829,1018.358337,1017.441101,1017.819397,1018.890686,1018.568665,1019.224915,1018.718384,1018.467163,1016.781006,1018.313599,1018.061279,1017.265503,1018.944458,1018.188293,1015.940735,1017.551941,1018.53302,1018.965393,1019.506042,1018.220825,1019.407043,1019.730286,1018.125061,1018.656311,1017.376526,1016.241394,1015.890747,1016.391235,1014.142151,1015.20636,1015.38678,1016.885376],\"yaxis\":\"y2\",\"type\":\"scatter\"}],                        {\"showlegend\":false,\"template\":{\"data\":{\"barpolar\":[{\"marker\":{\"line\":{\"color\":\"#E5ECF6\",\"width\":0.5},\"pattern\":{\"fillmode\":\"overlay\",\"size\":10,\"solidity\":0.2}},\"type\":\"barpolar\"}],\"bar\":[{\"error_x\":{\"color\":\"#2a3f5f\"},\"error_y\":{\"color\":\"#2a3f5f\"},\"marker\":{\"line\":{\"color\":\"#E5ECF6\",\"width\":0.5},\"pattern\":{\"fillmode\":\"overlay\",\"size\":10,\"solidity\":0.2}},\"type\":\"bar\"}],\"carpet\":[{\"aaxis\":{\"endlinecolor\":\"#2a3f5f\",\"gridcolor\":\"white\",\"linecolor\":\"white\",\"minorgridcolor\":\"white\",\"startlinecolor\":\"#2a3f5f\"},\"baxis\":{\"endlinecolor\":\"#2a3f5f\",\"gridcolor\":\"white\",\"linecolor\":\"white\",\"minorgridcolor\":\"white\",\"startlinecolor\":\"#2a3f5f\"},\"type\":\"carpet\"}],\"choropleth\":[{\"colorbar\":{\"outlinewidth\":0,\"ticks\":\"\"},\"type\":\"choropleth\"}],\"contourcarpet\":[{\"colorbar\":{\"outlinewidth\":0,\"ticks\":\"\"},\"type\":\"contourcarpet\"}],\"contour\":[{\"colorbar\":{\"outlinewidth\":0,\"ticks\":\"\"},\"colorscale\":[[0.0,\"#0d0887\"],[0.1111111111111111,\"#46039f\"],[0.2222222222222222,\"#7201a8\"],[0.3333333333333333,\"#9c179e\"],[0.4444444444444444,\"#bd3786\"],[0.5555555555555556,\"#d8576b\"],[0.6666666666666666,\"#ed7953\"],[0.7777777777777778,\"#fb9f3a\"],[0.8888888888888888,\"#fdca26\"],[1.0,\"#f0f921\"]],\"type\":\"contour\"}],\"heatmapgl\":[{\"colorbar\":{\"outlinewidth\":0,\"ticks\":\"\"},\"colorscale\":[[0.0,\"#0d0887\"],[0.1111111111111111,\"#46039f\"],[0.2222222222222222,\"#7201a8\"],[0.3333333333333333,\"#9c179e\"],[0.4444444444444444,\"#bd3786\"],[0.5555555555555556,\"#d8576b\"],[0.6666666666666666,\"#ed7953\"],[0.7777777777777778,\"#fb9f3a\"],[0.8888888888888888,\"#fdca26\"],[1.0,\"#f0f921\"]],\"type\":\"heatmapgl\"}],\"heatmap\":[{\"colorbar\":{\"outlinewidth\":0,\"ticks\":\"\"},\"colorscale\":[[0.0,\"#0d0887\"],[0.1111111111111111,\"#46039f\"],[0.2222222222222222,\"#7201a8\"],[0.3333333333333333,\"#9c179e\"],[0.4444444444444444,\"#bd3786\"],[0.5555555555555556,\"#d8576b\"],[0.6666666666666666,\"#ed7953\"],[0.7777777777777778,\"#fb9f3a\"],[0.8888888888888888,\"#fdca26\"],[1.0,\"#f0f921\"]],\"type\":\"heatmap\"}],\"histogram2dcontour\":[{\"colorbar\":{\"outlinewidth\":0,\"ticks\":\"\"},\"colorscale\":[[0.0,\"#0d0887\"],[0.1111111111111111,\"#46039f\"],[0.2222222222222222,\"#7201a8\"],[0.3333333333333333,\"#9c179e\"],[0.4444444444444444,\"#bd3786\"],[0.5555555555555556,\"#d8576b\"],[0.6666666666666666,\"#ed7953\"],[0.7777777777777778,\"#fb9f3a\"],[0.8888888888888888,\"#fdca26\"],[1.0,\"#f0f921\"]],\"type\":\"histogram2dcontour\"}],\"histogram2d\":[{\"colorbar\":{\"outlinewidth\":0,\"ticks\":\"\"},\"colorscale\":[[0.0,\"#0d0887\"],[0.1111111111111111,\"#46039f\"],[0.2222222222222222,\"#7201a8\"],[0.3333333333333333,\"#9c179e\"],[0.4444444444444444,\"#bd3786\"],[0.5555555555555556,\"#d8576b\"],[0.6666666666666666,\"#ed7953\"],[0.7777777777777778,\"#fb9f3a\"],[0.8888888888888888,\"#fdca26\"],[1.0,\"#f0f921\"]],\"type\":\"histogram2d\"}],\"histogram\":[{\"marker\":{\"pattern\":{\"fillmode\":\"overlay\",\"size\":10,\"solidity\":0.2}},\"type\":\"histogram\"}],\"mesh3d\":[{\"colorbar\":{\"outlinewidth\":0,\"ticks\":\"\"},\"type\":\"mesh3d\"}],\"parcoords\":[{\"line\":{\"colorbar\":{\"outlinewidth\":0,\"ticks\":\"\"}},\"type\":\"parcoords\"}],\"pie\":[{\"automargin\":true,\"type\":\"pie\"}],\"scatter3d\":[{\"line\":{\"colorbar\":{\"outlinewidth\":0,\"ticks\":\"\"}},\"marker\":{\"colorbar\":{\"outlinewidth\":0,\"ticks\":\"\"}},\"type\":\"scatter3d\"}],\"scattercarpet\":[{\"marker\":{\"colorbar\":{\"outlinewidth\":0,\"ticks\":\"\"}},\"type\":\"scattercarpet\"}],\"scattergeo\":[{\"marker\":{\"colorbar\":{\"outlinewidth\":0,\"ticks\":\"\"}},\"type\":\"scattergeo\"}],\"scattergl\":[{\"marker\":{\"colorbar\":{\"outlinewidth\":0,\"ticks\":\"\"}},\"type\":\"scattergl\"}],\"scattermapbox\":[{\"marker\":{\"colorbar\":{\"outlinewidth\":0,\"ticks\":\"\"}},\"type\":\"scattermapbox\"}],\"scatterpolargl\":[{\"marker\":{\"colorbar\":{\"outlinewidth\":0,\"ticks\":\"\"}},\"type\":\"scatterpolargl\"}],\"scatterpolar\":[{\"marker\":{\"colorbar\":{\"outlinewidth\":0,\"ticks\":\"\"}},\"type\":\"scatterpolar\"}],\"scatter\":[{\"fillpattern\":{\"fillmode\":\"overlay\",\"size\":10,\"solidity\":0.2},\"type\":\"scatter\"}],\"scatterternary\":[{\"marker\":{\"colorbar\":{\"outlinewidth\":0,\"ticks\":\"\"}},\"type\":\"scatterternary\"}],\"surface\":[{\"colorbar\":{\"outlinewidth\":0,\"ticks\":\"\"},\"colorscale\":[[0.0,\"#0d0887\"],[0.1111111111111111,\"#46039f\"],[0.2222222222222222,\"#7201a8\"],[0.3333333333333333,\"#9c179e\"],[0.4444444444444444,\"#bd3786\"],[0.5555555555555556,\"#d8576b\"],[0.6666666666666666,\"#ed7953\"],[0.7777777777777778,\"#fb9f3a\"],[0.8888888888888888,\"#fdca26\"],[1.0,\"#f0f921\"]],\"type\":\"surface\"}],\"table\":[{\"cells\":{\"fill\":{\"color\":\"#EBF0F8\"},\"line\":{\"color\":\"white\"}},\"header\":{\"fill\":{\"color\":\"#C8D4E3\"},\"line\":{\"color\":\"white\"}},\"type\":\"table\"}]},\"layout\":{\"annotationdefaults\":{\"arrowcolor\":\"#2a3f5f\",\"arrowhead\":0,\"arrowwidth\":1},\"autotypenumbers\":\"strict\",\"coloraxis\":{\"colorbar\":{\"outlinewidth\":0,\"ticks\":\"\"}},\"colorscale\":{\"diverging\":[[0,\"#8e0152\"],[0.1,\"#c51b7d\"],[0.2,\"#de77ae\"],[0.3,\"#f1b6da\"],[0.4,\"#fde0ef\"],[0.5,\"#f7f7f7\"],[0.6,\"#e6f5d0\"],[0.7,\"#b8e186\"],[0.8,\"#7fbc41\"],[0.9,\"#4d9221\"],[1,\"#276419\"]],\"sequential\":[[0.0,\"#0d0887\"],[0.1111111111111111,\"#46039f\"],[0.2222222222222222,\"#7201a8\"],[0.3333333333333333,\"#9c179e\"],[0.4444444444444444,\"#bd3786\"],[0.5555555555555556,\"#d8576b\"],[0.6666666666666666,\"#ed7953\"],[0.7777777777777778,\"#fb9f3a\"],[0.8888888888888888,\"#fdca26\"],[1.0,\"#f0f921\"]],\"sequentialminus\":[[0.0,\"#0d0887\"],[0.1111111111111111,\"#46039f\"],[0.2222222222222222,\"#7201a8\"],[0.3333333333333333,\"#9c179e\"],[0.4444444444444444,\"#bd3786\"],[0.5555555555555556,\"#d8576b\"],[0.6666666666666666,\"#ed7953\"],[0.7777777777777778,\"#fb9f3a\"],[0.8888888888888888,\"#fdca26\"],[1.0,\"#f0f921\"]]},\"colorway\":[\"#636efa\",\"#EF553B\",\"#00cc96\",\"#ab63fa\",\"#FFA15A\",\"#19d3f3\",\"#FF6692\",\"#B6E880\",\"#FF97FF\",\"#FECB52\"],\"font\":{\"color\":\"#2a3f5f\"},\"geo\":{\"bgcolor\":\"white\",\"lakecolor\":\"white\",\"landcolor\":\"#E5ECF6\",\"showlakes\":true,\"showland\":true,\"subunitcolor\":\"white\"},\"hoverlabel\":{\"align\":\"left\"},\"hovermode\":\"closest\",\"mapbox\":{\"style\":\"light\"},\"paper_bgcolor\":\"white\",\"plot_bgcolor\":\"#E5ECF6\",\"polar\":{\"angularaxis\":{\"gridcolor\":\"white\",\"linecolor\":\"white\",\"ticks\":\"\"},\"bgcolor\":\"#E5ECF6\",\"radialaxis\":{\"gridcolor\":\"white\",\"linecolor\":\"white\",\"ticks\":\"\"}},\"scene\":{\"xaxis\":{\"backgroundcolor\":\"#E5ECF6\",\"gridcolor\":\"white\",\"gridwidth\":2,\"linecolor\":\"white\",\"showbackground\":true,\"ticks\":\"\",\"zerolinecolor\":\"white\"},\"yaxis\":{\"backgroundcolor\":\"#E5ECF6\",\"gridcolor\":\"white\",\"gridwidth\":2,\"linecolor\":\"white\",\"showbackground\":true,\"ticks\":\"\",\"zerolinecolor\":\"white\"},\"zaxis\":{\"backgroundcolor\":\"#E5ECF6\",\"gridcolor\":\"white\",\"gridwidth\":2,\"linecolor\":\"white\",\"showbackground\":true,\"ticks\":\"\",\"zerolinecolor\":\"white\"}},\"shapedefaults\":{\"line\":{\"color\":\"#2a3f5f\"}},\"ternary\":{\"aaxis\":{\"gridcolor\":\"white\",\"linecolor\":\"white\",\"ticks\":\"\"},\"baxis\":{\"gridcolor\":\"white\",\"linecolor\":\"white\",\"ticks\":\"\"},\"bgcolor\":\"#E5ECF6\",\"caxis\":{\"gridcolor\":\"white\",\"linecolor\":\"white\",\"ticks\":\"\"}},\"title\":{\"x\":0.05},\"xaxis\":{\"automargin\":true,\"gridcolor\":\"white\",\"linecolor\":\"white\",\"ticks\":\"\",\"title\":{\"standoff\":15},\"zerolinecolor\":\"white\",\"zerolinewidth\":2},\"yaxis\":{\"automargin\":true,\"gridcolor\":\"white\",\"linecolor\":\"white\",\"ticks\":\"\",\"title\":{\"standoff\":15},\"zerolinecolor\":\"white\",\"zerolinewidth\":2}}},\"title\":{\"text\":\"Pressure and Density during NPT Equilibration\"},\"xaxis\":{\"anchor\":\"y\",\"domain\":[0.0,0.45],\"title\":{\"text\":\"Time (ps)\"}},\"yaxis\":{\"anchor\":\"x\",\"domain\":[0.0,1.0],\"title\":{\"text\":\"Pressure (bar)\"}},\"xaxis2\":{\"anchor\":\"y2\",\"domain\":[0.55,1.0],\"title\":{\"text\":\"Time (ps)\"}},\"yaxis2\":{\"anchor\":\"x2\",\"domain\":[0.0,1.0],\"title\":{\"text\":\"Density (Kg*m^-3)\"}}},                        {\"responsive\": true}                    ).then(function(){\n",
       "                            \n",
       "var gd = document.getElementById('fcfe95c1-8bc8-41bc-96a3-be9ffb75a383');\n",
       "var x = new MutationObserver(function (mutations, observer) {{\n",
       "        var display = window.getComputedStyle(gd).display;\n",
       "        if (!display || display === 'none') {{\n",
       "            console.log([gd, 'removed!']);\n",
       "            Plotly.purge(gd);\n",
       "            observer.disconnect();\n",
       "        }}\n",
       "}});\n",
       "\n",
       "// Listen for the removal of the full notebook cells\n",
       "var notebookContainer = gd.closest('#notebook-container');\n",
       "if (notebookContainer) {{\n",
       "    x.observe(notebookContainer, {childList: true});\n",
       "}}\n",
       "\n",
       "// Listen for the clearing of the current output cell\n",
       "var outputEl = gd.closest('.output');\n",
       "if (outputEl) {{\n",
       "    x.observe(outputEl, {childList: true});\n",
       "}}\n",
       "\n",
       "                        })                };                });            </script>        </div>"
      ]
     },
     "metadata": {},
     "output_type": "display_data"
    }
   ],
   "source": [
    "import plotly\n",
    "from plotly import subplots\n",
    "import plotly.graph_objs as go\n",
    "\n",
    "# Read pressure and density data from file \n",
    "with open(output_npt_pd_xvg,'r') as pd_file:\n",
    "    x,y,z = map(\n",
    "        list,\n",
    "        zip(*[\n",
    "            (float(line.split()[0]),float(line.split()[1]),float(line.split()[2]))\n",
    "            for line in pd_file \n",
    "            if not line.startswith((\"#\",\"@\")) \n",
    "        ])\n",
    "    )\n",
    "\n",
    "plotly.offline.init_notebook_mode(connected=True)\n",
    "\n",
    "trace1 = go.Scatter(\n",
    "    x=x,y=y\n",
    ")\n",
    "trace2 = go.Scatter(\n",
    "    x=x,y=z\n",
    ")\n",
    "\n",
    "fig = subplots.make_subplots(rows=1, cols=2, print_grid=False)\n",
    "\n",
    "fig.append_trace(trace1, 1, 1)\n",
    "fig.append_trace(trace2, 1, 2)\n",
    "\n",
    "fig['layout']['xaxis1'].update(title='Time (ps)')\n",
    "fig['layout']['xaxis2'].update(title='Time (ps)')\n",
    "fig['layout']['yaxis1'].update(title='Pressure (bar)')\n",
    "fig['layout']['yaxis2'].update(title='Density (Kg*m^-3)')\n",
    "\n",
    "fig['layout'].update(title='Pressure and Density during NPT Equilibration')\n",
    "fig['layout'].update(showlegend=False)\n",
    "\n",
    "plotly.offline.iplot(fig)"
   ]
  },
  {
   "cell_type": "markdown",
   "metadata": {},
   "source": [
    "We can see both of them have converged. Ideally we should check all the thermodynamic parameters:\n",
    "- temperature\n",
    "- pressure\n",
    "- energy\n",
    "- volume\n",
    "- density\n",
    "- RMSD"
   ]
  },
  {
   "cell_type": "markdown",
   "metadata": {},
   "source": [
    "<a id=\"free\"></a>\n",
    "***\n",
    "## Free Molecular Dynamics Simulation\n",
    "Upon completion of the **two equilibration phases (NVT and NPT)**, the system is now well-equilibrated at the desired temperature and pressure. The **position restraints** can now be released. The last step of the **protein** MD setup is a short, **free MD simulation**, to ensure the robustness of the system. \n",
    "- [Step 1](#mdStep1): Creating portable binary run file to run a **free MD simulation**.\n",
    "- [Step 2](#mdStep2): Run short MD simulation of the **protein system**.\n",
    "- [Step 3](#mdStep3): Checking results for the final step of the setup process, the **free MD run**. Plotting **Root Mean Square deviation (RMSd)** and **Radius of Gyration (Rgyr)** by time during the **free MD run** step. \n",
    "***\n",
    "**Building Blocks** used:\n",
    " - [Grompp](https://biobb-md.readthedocs.io/en/latest/gromacs.html#module-gromacs.grompp) from **biobb_md.gromacs.grompp** \n",
    " - [Mdrun](https://biobb-md.readthedocs.io/en/latest/gromacs.html#module-gromacs.mdrun) from **biobb_md.gromacs.mdrun** \n",
    " - [GMXRms](https://biobb-analysis.readthedocs.io/en/latest/gromacs.html#module-gromacs.gmx_rms) from **biobb_analysis.gromacs.gmx_rms** \n",
    " - [GMXRgyr](https://biobb-analysis.readthedocs.io/en/latest/gromacs.html#module-gromacs.gmx_rgyr) from **biobb_analysis.gromacs.gmx_rgyr** \n",
    "***"
   ]
  },
  {
   "cell_type": "markdown",
   "metadata": {},
   "source": [
    "<a id=\"mdStep1\"></a>\n",
    "### Step 1: Creating portable binary run file to run a free MD simulation\n",
    "\n",
    "The **free** type of the **molecular dynamics parameters (mdp) property** contains the main default parameters to run an **free MD simulation** (see [GROMACS mdp options](http://manual.gromacs.org/documentation/2018/user-guide/mdp-options.html)):\n",
    "\n",
    "-  integrator               = md\n",
    "-  dt                       = 0.002 (ps)\n",
    "-  nsteps                   = 500,000\n",
    "\n",
    "In this particular example, the default parameters will be used: **md** integrator algorithm, a **time step** of **2fs**, and a total of **50,000 md steps** (1ns)."
   ]
  },
  {
   "cell_type": "code",
   "execution_count": 29,
   "metadata": {},
   "outputs": [
    {
     "name": "stdout",
     "output_type": "stream",
     "text": [
      "2022-04-26 19:38:49,502 [MainThread  ] [INFO ]  GROMACS Grompp 20191 version detected\n",
      "2022-04-26 19:38:49,511 [MainThread  ] [INFO ]  Extracting: /home/ma/git/druglord/temp/6V23/6V23_genion_top.zip\n",
      "2022-04-26 19:38:49,512 [MainThread  ] [INFO ]  to:\n",
      "2022-04-26 19:38:49,513 [MainThread  ] [INFO ]  ['9a09b67e-b0ee-45b6-a4e3-d22a15c1bfbd/p2g.top', '9a09b67e-b0ee-45b6-a4e3-d22a15c1bfbd/posre.itp']\n",
      "2022-04-26 19:38:49,514 [MainThread  ] [INFO ]  Unzipping: \n",
      "2022-04-26 19:38:49,514 [MainThread  ] [INFO ]  6V23_genion_top.zip\n",
      "2022-04-26 19:38:49,515 [MainThread  ] [INFO ]  To: \n",
      "2022-04-26 19:38:49,516 [MainThread  ] [INFO ]  9a09b67e-b0ee-45b6-a4e3-d22a15c1bfbd/p2g.top\n",
      "2022-04-26 19:38:49,517 [MainThread  ] [INFO ]  9a09b67e-b0ee-45b6-a4e3-d22a15c1bfbd/posre.itp\n",
      "2022-04-26 19:38:49,518 [MainThread  ] [INFO ]  Not using any container\n",
      "2022-04-26 19:38:50,023 [MainThread  ] [INFO ]  gmx -nobackup -nocopyright grompp -f b5ed005f-fc1d-4e60-9478-e6b0c9498c4e/grompp.mdp -c 6V23_npt.gro -r 6V23_npt.gro -p 9a09b67e-b0ee-45b6-a4e3-d22a15c1bfbd/p2g.top -o 6V23_gppmd.tpr -po mdout.mdp -maxwarn 0 -t 6V23_npt.cpt\n",
      "\n",
      "2022-04-26 19:38:50,025 [MainThread  ] [INFO ]  Exit code 0\n",
      "\n",
      "2022-04-26 19:38:50,025 [MainThread  ] [INFO ]  turning H bonds into constraints...\n",
      "turning H bonds into constraints...\n",
      "turning H bonds into constraints...\n",
      "turning H bonds into constraints...\n",
      "Analysing residue names:\n",
      "There are:   315    Protein residues\n",
      "There are: 28546      Water residues\n",
      "There are:    60        Ion residues\n",
      "Analysing Protein...\n",
      "Analysing residues not classified as Protein/DNA/RNA/Water and splitting into groups...\n",
      "Determining Verlet buffer for a tolerance of 0.005 kJ/mol/ps at 300 K\n",
      "Calculated rlist for 1x1 atom pair-list as 1.035 nm, buffer size 0.035 nm\n",
      "Set rlist, assuming 4x4 atom pair-list, to 1.000 nm, buffer size 0.000 nm\n",
      "Note that mdrun will redetermine rlist based on the actual pair-list setup\n",
      "Calculating fourier grid dimensions for X Y Z\n",
      "Using a fourier grid of 84x84x84, spacing 0.115 0.115 0.115\n",
      "This run will generate roughly 52 Mb of data\n",
      "\n",
      "2022-04-26 19:38:50,026 [MainThread  ] [INFO ]                        :-) GROMACS - gmx grompp, 2019.1 (-:\n",
      "\n",
      "Executable:   /home/ma/miniconda3/envs/druglord/bin/gmx\n",
      "Data prefix:  /home/ma/miniconda3/envs/druglord\n",
      "Working dir:  /home/ma/git/druglord/temp/6V23\n",
      "Command line:\n",
      "  gmx -nobackup -nocopyright grompp -f b5ed005f-fc1d-4e60-9478-e6b0c9498c4e/grompp.mdp -c 6V23_npt.gro -r 6V23_npt.gro -p 9a09b67e-b0ee-45b6-a4e3-d22a15c1bfbd/p2g.top -o 6V23_gppmd.tpr -po mdout.mdp -maxwarn 0 -t 6V23_npt.cpt\n",
      "\n",
      "Setting the LD random seed to 2122725693\n",
      "Generated 2145 of the 2145 non-bonded parameter combinations\n",
      "Generating 1-4 interactions: fudge = 0.5\n",
      "Generated 2145 of the 2145 1-4 parameter combinations\n",
      "Excluding 3 bonded neighbours molecule type 'Protein_chain_A'\n",
      "Excluding 2 bonded neighbours molecule type 'SOL'\n",
      "Excluding 1 bonded neighbours molecule type 'NA'\n",
      "Excluding 1 bonded neighbours molecule type 'CL'\n",
      "Removing all charge groups because cutoff-scheme=Verlet\n",
      "Number of degrees of freedom in T-Coupling group Protein is 11809.81\n",
      "Number of degrees of freedom in T-Coupling group non-Protein is 171453.19\n",
      "Reading Coordinates, Velocities and Box size from old trajectory\n",
      "Will read whole trajectory\n",
      "Last frame         -1 time  100.000   \n",
      "Using frame at t = 100 ps\n",
      "Starting time for run is 0 ps\n",
      "Estimate for the relative computational load of the PME mesh part: 0.19\n",
      "\n",
      "GROMACS reminds you: \"All that glitters may not be gold, but at least it contains free electrons.\" (John Desmond Baernal)\n",
      "\n",
      "\n",
      "2022-04-26 19:38:50,028 [MainThread  ] [INFO ]  Removed: ['mdout.mdp', '9a09b67e-b0ee-45b6-a4e3-d22a15c1bfbd', 'b5ed005f-fc1d-4e60-9478-e6b0c9498c4e']\n"
     ]
    },
    {
     "data": {
      "text/plain": [
       "0"
      ]
     },
     "execution_count": 29,
     "metadata": {},
     "output_type": "execute_result"
    }
   ],
   "source": [
    "# Grompp: Creating portable binary run file for mdrun\n",
    "from biobb_md.gromacs.grompp import grompp\n",
    "\n",
    "# Create prop dict and inputs/outputs\n",
    "output_gppmd_tpr = pdbCode+'_gppmd.tpr'\n",
    "prop = {\n",
    "    'mdp':{\n",
    "        'nsteps':'50000',\n",
    "        #'tc_grps': \"DNA Water_and_ions\" # NOTE: uncomment this line if working with DNA\n",
    "    },\n",
    "    'simulation_type': 'free'\n",
    "}\n",
    "\n",
    "# Create and launch bb\n",
    "grompp(input_gro_path=output_npt_gro, \n",
    "       input_top_zip_path=output_genion_top_zip, \n",
    "       output_tpr_path=output_gppmd_tpr, \n",
    "       input_cpt_path=output_npt_cpt, \n",
    "       properties=prop)"
   ]
  },
  {
   "cell_type": "markdown",
   "metadata": {},
   "source": [
    "<a id=\"mdStep2\"></a>\n",
    "### Step 2: Running short free MD simulation"
   ]
  },
  {
   "cell_type": "code",
   "execution_count": 30,
   "metadata": {},
   "outputs": [
    {
     "name": "stdout",
     "output_type": "stream",
     "text": [
      "2022-04-26 19:38:50,439 [MainThread  ] [INFO ]  GROMACS Mdrun 20191 version detected\n",
      "2022-04-26 19:38:50,440 [MainThread  ] [INFO ]  Not using any container\n",
      "2022-04-26 19:43:14,036 [MainThread  ] [INFO ]  gmx -nobackup -nocopyright mdrun -s 6V23_gppmd.tpr -o 6V23_md.trr -c 6V23_md.gro -e 6V23_md.edr -g 6V23_md.log -cpo 6V23_md.cpt\n",
      "\n",
      "2022-04-26 19:43:14,039 [MainThread  ] [INFO ]  Exit code 0\n",
      "\n",
      "2022-04-26 19:43:14,040 [MainThread  ] [INFO ]                        :-) GROMACS - gmx mdrun, 2019.1 (-:\n",
      "\n",
      "Executable:   /home/ma/miniconda3/envs/druglord/bin/gmx\n",
      "Data prefix:  /home/ma/miniconda3/envs/druglord\n",
      "Working dir:  /home/ma/git/druglord/temp/6V23\n",
      "Command line:\n",
      "  gmx -nobackup -nocopyright mdrun -s 6V23_gppmd.tpr -o 6V23_md.trr -c 6V23_md.gro -e 6V23_md.edr -g 6V23_md.log -cpo 6V23_md.cpt\n",
      "\n",
      "Compiled SIMD: SSE2, but for this host/run AVX_512 might be better (see log).\n",
      "The current CPU can measure timings more accurately than the code in\n",
      "gmx mdrun was configured to use. This might affect your simulation\n",
      "speed as accurate timings are needed for load-balancing.\n",
      "Please consider rebuilding gmx mdrun with the GMX_USE_RDTSCP=ON CMake option.\n",
      "Reading file 6V23_gppmd.tpr, VERSION 2019.1 (single precision)\n",
      "Changing nstlist from 10 to 40, rlist from 1 to 1.096\n",
      "\n",
      "\n",
      "Using 72 MPI threads\n",
      "Using 1 OpenMP thread per tMPI thread\n",
      "\n",
      "starting mdrun 'Protein in water'\n",
      "50000 steps,    100.0 ps.\n",
      "\n",
      "Writing final coordinates.\n",
      "\n",
      "\n",
      "Dynamic load balancing report:\n",
      " DLB was off during the run due to low measured imbalance.\n",
      " Average load imbalance: 11.2%.\n",
      " The balanceable part of the MD step is 52%, load imbalance is computed from this.\n",
      " Part of the total run time spent waiting due to load imbalance: 5.8%.\n",
      " Average PME mesh/force load: 1.032\n",
      " Part of the total run time spent waiting due to PP/PME imbalance: 1.6 %\n",
      "\n",
      "NOTE: 5.8 % of the available CPU time was lost due to load imbalance\n",
      "      in the domain decomposition.\n",
      "      You might want to use dynamic load balancing (option -dlb.)\n",
      "      You can also consider manually changing the decomposition (option -dd);\n",
      "      e.g. by using fewer domains along the box dimension in which there is\n",
      "      considerable inhomogeneity in the simulated system.\n",
      "\n",
      "               Core t (s)   Wall t (s)        (%)\n",
      "       Time:    18542.849      257.540     7200.0\n",
      "                 (ns/day)    (hour/ns)\n",
      "Performance:       33.549        0.715\n",
      "\n",
      "GROMACS reminds you: \"You're like them scientists on TV explaining black holes. More you talk, less I get\" (Jess Walter)\n",
      "\n",
      "\n",
      "2022-04-26 19:43:14,041 [MainThread  ] [INFO ]  Removed: []\n"
     ]
    },
    {
     "data": {
      "text/plain": [
       "0"
      ]
     },
     "execution_count": 30,
     "metadata": {},
     "output_type": "execute_result"
    }
   ],
   "source": [
    "# Mdrun: Running free dynamics\n",
    "from biobb_md.gromacs.mdrun import mdrun\n",
    "\n",
    "# Create prop dict and inputs/outputs\n",
    "output_md_trr = pdbCode+'_md.trr'\n",
    "output_md_gro = pdbCode+'_md.gro'\n",
    "output_md_edr = pdbCode+'_md.edr'\n",
    "output_md_log = pdbCode+'_md.log'\n",
    "output_md_cpt = pdbCode+'_md.cpt'\n",
    "\n",
    "# Create and launch bb\n",
    "mdrun(input_tpr_path=output_gppmd_tpr, \n",
    "      output_trr_path=output_md_trr, \n",
    "      output_gro_path=output_md_gro, \n",
    "      output_edr_path=output_md_edr, \n",
    "      output_log_path=output_md_log, \n",
    "      output_cpt_path=output_md_cpt)"
   ]
  },
  {
   "cell_type": "markdown",
   "metadata": {},
   "source": [
    "<a id=\"mdStep3\"></a>\n",
    "### Step 3: Checking free MD simulation results\n",
    "Checking results for the final step of the setup process, the **free MD run**. Plotting **Root Mean Square deviation (RMSd)** and **Radius of Gyration (Rgyr)** by time during the **free MD run** step. **RMSd** against the **experimental structure** (input structure of the pipeline) and against the **minimized and equilibrated structure** (output structure of the NPT equilibration step)."
   ]
  },
  {
   "cell_type": "code",
   "execution_count": 31,
   "metadata": {},
   "outputs": [
    {
     "name": "stdout",
     "output_type": "stream",
     "text": [
      "2022-04-26 19:43:14,325 [MainThread  ] [INFO ]  Not using any container\n",
      "2022-04-26 19:43:14,634 [MainThread  ] [INFO ]  echo 'Backbone Backbone' | gmx rms -s /home/ma/git/druglord/temp/6V23/6V23_gppmd.tpr -f /home/ma/git/druglord/temp/6V23/6V23_md.trr -o 6V23_rms_first.xvg -xvg none\n",
      "\n",
      "2022-04-26 19:43:14,636 [MainThread  ] [INFO ]  Exit code 0\n",
      "\n",
      "2022-04-26 19:43:14,638 [MainThread  ] [INFO ]  Selected 4: 'Backbone'\n",
      "Selected 4: 'Backbone'\n",
      "\n",
      "2022-04-26 19:43:14,639 [MainThread  ] [INFO ]                         :-) GROMACS - gmx rms, 2019.1 (-:\n",
      "\n",
      "                            GROMACS is written by:\n",
      "     Emile Apol      Rossen Apostolov      Paul Bauer     Herman J.C. Berendsen\n",
      "    Par Bjelkmar      Christian Blau   Viacheslav Bolnykh     Kevin Boyd    \n",
      " Aldert van Buuren   Rudi van Drunen     Anton Feenstra       Alan Gray     \n",
      "  Gerrit Groenhof     Anca Hamuraru    Vincent Hindriksen  M. Eric Irrgang  \n",
      "  Aleksei Iupinov   Christoph Junghans     Joe Jordan     Dimitrios Karkoulis\n",
      "    Peter Kasson        Jiri Kraus      Carsten Kutzner      Per Larsson    \n",
      "  Justin A. Lemkul    Viveca Lindahl    Magnus Lundborg     Erik Marklund   \n",
      "    Pascal Merz     Pieter Meulenhoff    Teemu Murtola       Szilard Pall   \n",
      "    Sander Pronk      Roland Schulz      Michael Shirts    Alexey Shvetsov  \n",
      "   Alfons Sijbers     Peter Tieleman      Jon Vincent      Teemu Virolainen \n",
      " Christian Wennberg    Maarten Wolf   \n",
      "                           and the project leaders:\n",
      "        Mark Abraham, Berk Hess, Erik Lindahl, and David van der Spoel\n",
      "\n",
      "Copyright (c) 1991-2000, University of Groningen, The Netherlands.\n",
      "Copyright (c) 2001-2018, The GROMACS development team at\n",
      "Uppsala University, Stockholm University and\n",
      "the Royal Institute of Technology, Sweden.\n",
      "check out http://www.gromacs.org for more information.\n",
      "\n",
      "GROMACS is free software; you can redistribute it and/or modify it\n",
      "under the terms of the GNU Lesser General Public License\n",
      "as published by the Free Software Foundation; either version 2.1\n",
      "of the License, or (at your option) any later version.\n",
      "\n",
      "GROMACS:      gmx rms, version 2019.1\n",
      "Executable:   /home/ma/miniconda3/envs/druglord/bin/gmx\n",
      "Data prefix:  /home/ma/miniconda3/envs/druglord\n",
      "Working dir:  /home/ma/git/druglord/temp/6V23\n",
      "Command line:\n",
      "  gmx rms -s /home/ma/git/druglord/temp/6V23/6V23_gppmd.tpr -f /home/ma/git/druglord/temp/6V23/6V23_md.trr -o 6V23_rms_first.xvg -xvg none\n",
      "\n",
      "Reading file /home/ma/git/druglord/temp/6V23/6V23_gppmd.tpr, VERSION 2019.1 (single precision)\n",
      "Reading file /home/ma/git/druglord/temp/6V23/6V23_gppmd.tpr, VERSION 2019.1 (single precision)\n",
      "Select group for least squares fit\n",
      "Group     0 (         System) has 90419 elements\n",
      "Group     1 (        Protein) has  4721 elements\n",
      "Group     2 (      Protein-H) has  2368 elements\n",
      "Group     3 (        C-alpha) has   315 elements\n",
      "Group     4 (       Backbone) has   945 elements\n",
      "Group     5 (      MainChain) has  1261 elements\n",
      "Group     6 (   MainChain+Cb) has  1551 elements\n",
      "Group     7 (    MainChain+H) has  1565 elements\n",
      "Group     8 (      SideChain) has  3156 elements\n",
      "Group     9 (    SideChain-H) has  1107 elements\n",
      "Group    10 (    Prot-Masses) has  4721 elements\n",
      "Group    11 (    non-Protein) has 85698 elements\n",
      "Group    12 (          Water) has 85638 elements\n",
      "Group    13 (            SOL) has 85638 elements\n",
      "Group    14 (      non-Water) has  4781 elements\n",
      "Group    15 (            Ion) has    60 elements\n",
      "Group    16 (             NA) has    32 elements\n",
      "Group    17 (             CL) has    28 elements\n",
      "Group    18 ( Water_and_ions) has 85698 elements\n",
      "Select a group: Select group for RMSD calculation\n",
      "Group     0 (         System) has 90419 elements\n",
      "Group     1 (        Protein) has  4721 elements\n",
      "Group     2 (      Protein-H) has  2368 elements\n",
      "Group     3 (        C-alpha) has   315 elements\n",
      "Group     4 (       Backbone) has   945 elements\n",
      "Group     5 (      MainChain) has  1261 elements\n",
      "Group     6 (   MainChain+Cb) has  1551 elements\n",
      "Group     7 (    MainChain+H) has  1565 elements\n",
      "Group     8 (      SideChain) has  3156 elements\n",
      "Group     9 (    SideChain-H) has  1107 elements\n",
      "Group    10 (    Prot-Masses) has  4721 elements\n",
      "Group    11 (    non-Protein) has 85698 elements\n",
      "Group    12 (          Water) has 85638 elements\n",
      "Group    13 (            SOL) has 85638 elements\n",
      "Group    14 (      non-Water) has  4781 elements\n",
      "Group    15 (            Ion) has    60 elements\n",
      "Group    16 (             NA) has    32 elements\n",
      "Group    17 (             CL) has    28 elements\n",
      "Group    18 ( Water_and_ions) has 85698 elements\n",
      "Select a group: trr version: GMX_trn_file (single precision)\n",
      "Last frame         10 time  100.000   \n",
      "\n",
      "GROMACS reminds you: \"The last good thing written in C was Franz Schubert's Symphony Number 9.\" (Erwin Dieterich)\n",
      "\n",
      "\n"
     ]
    },
    {
     "data": {
      "text/plain": [
       "0"
      ]
     },
     "execution_count": 31,
     "metadata": {},
     "output_type": "execute_result"
    }
   ],
   "source": [
    "# GMXRms: Computing Root Mean Square deviation to analyse structural stability \n",
    "#         RMSd against minimized and equilibrated snapshot (backbone atoms)   \n",
    "\n",
    "from biobb_analysis.gromacs.gmx_rms import gmx_rms\n",
    "\n",
    "# Create prop dict and inputs/outputs\n",
    "output_rms_first = pdbCode+'_rms_first.xvg'\n",
    "prop = {\n",
    "    'selection':  'Backbone',\n",
    "    #'selection': 'non-Water'\n",
    "}\n",
    "\n",
    "# Create and launch bb\n",
    "gmx_rms(input_structure_path=output_gppmd_tpr,\n",
    "         input_traj_path=output_md_trr,\n",
    "         output_xvg_path=output_rms_first, \n",
    "          properties=prop)"
   ]
  },
  {
   "cell_type": "code",
   "execution_count": 32,
   "metadata": {},
   "outputs": [
    {
     "name": "stdout",
     "output_type": "stream",
     "text": [
      "2022-04-26 19:43:14,866 [MainThread  ] [INFO ]  Not using any container\n",
      "2022-04-26 19:43:15,176 [MainThread  ] [INFO ]  echo 'Backbone Backbone' | gmx rms -s /home/ma/git/druglord/temp/6V23/6V23_gppmin.tpr -f /home/ma/git/druglord/temp/6V23/6V23_md.trr -o 6V23_rms_exp.xvg -xvg none\n",
      "\n",
      "2022-04-26 19:43:15,178 [MainThread  ] [INFO ]  Exit code 0\n",
      "\n",
      "2022-04-26 19:43:15,179 [MainThread  ] [INFO ]  Selected 4: 'Backbone'\n",
      "Selected 4: 'Backbone'\n",
      "\n",
      "2022-04-26 19:43:15,180 [MainThread  ] [INFO ]                         :-) GROMACS - gmx rms, 2019.1 (-:\n",
      "\n",
      "                            GROMACS is written by:\n",
      "     Emile Apol      Rossen Apostolov      Paul Bauer     Herman J.C. Berendsen\n",
      "    Par Bjelkmar      Christian Blau   Viacheslav Bolnykh     Kevin Boyd    \n",
      " Aldert van Buuren   Rudi van Drunen     Anton Feenstra       Alan Gray     \n",
      "  Gerrit Groenhof     Anca Hamuraru    Vincent Hindriksen  M. Eric Irrgang  \n",
      "  Aleksei Iupinov   Christoph Junghans     Joe Jordan     Dimitrios Karkoulis\n",
      "    Peter Kasson        Jiri Kraus      Carsten Kutzner      Per Larsson    \n",
      "  Justin A. Lemkul    Viveca Lindahl    Magnus Lundborg     Erik Marklund   \n",
      "    Pascal Merz     Pieter Meulenhoff    Teemu Murtola       Szilard Pall   \n",
      "    Sander Pronk      Roland Schulz      Michael Shirts    Alexey Shvetsov  \n",
      "   Alfons Sijbers     Peter Tieleman      Jon Vincent      Teemu Virolainen \n",
      " Christian Wennberg    Maarten Wolf   \n",
      "                           and the project leaders:\n",
      "        Mark Abraham, Berk Hess, Erik Lindahl, and David van der Spoel\n",
      "\n",
      "Copyright (c) 1991-2000, University of Groningen, The Netherlands.\n",
      "Copyright (c) 2001-2018, The GROMACS development team at\n",
      "Uppsala University, Stockholm University and\n",
      "the Royal Institute of Technology, Sweden.\n",
      "check out http://www.gromacs.org for more information.\n",
      "\n",
      "GROMACS is free software; you can redistribute it and/or modify it\n",
      "under the terms of the GNU Lesser General Public License\n",
      "as published by the Free Software Foundation; either version 2.1\n",
      "of the License, or (at your option) any later version.\n",
      "\n",
      "GROMACS:      gmx rms, version 2019.1\n",
      "Executable:   /home/ma/miniconda3/envs/druglord/bin/gmx\n",
      "Data prefix:  /home/ma/miniconda3/envs/druglord\n",
      "Working dir:  /home/ma/git/druglord/temp/6V23\n",
      "Command line:\n",
      "  gmx rms -s /home/ma/git/druglord/temp/6V23/6V23_gppmin.tpr -f /home/ma/git/druglord/temp/6V23/6V23_md.trr -o 6V23_rms_exp.xvg -xvg none\n",
      "\n",
      "Reading file /home/ma/git/druglord/temp/6V23/6V23_gppmin.tpr, VERSION 2019.1 (single precision)\n",
      "Reading file /home/ma/git/druglord/temp/6V23/6V23_gppmin.tpr, VERSION 2019.1 (single precision)\n",
      "Select group for least squares fit\n",
      "Group     0 (         System) has 90419 elements\n",
      "Group     1 (        Protein) has  4721 elements\n",
      "Group     2 (      Protein-H) has  2368 elements\n",
      "Group     3 (        C-alpha) has   315 elements\n",
      "Group     4 (       Backbone) has   945 elements\n",
      "Group     5 (      MainChain) has  1261 elements\n",
      "Group     6 (   MainChain+Cb) has  1551 elements\n",
      "Group     7 (    MainChain+H) has  1565 elements\n",
      "Group     8 (      SideChain) has  3156 elements\n",
      "Group     9 (    SideChain-H) has  1107 elements\n",
      "Group    10 (    Prot-Masses) has  4721 elements\n",
      "Group    11 (    non-Protein) has 85698 elements\n",
      "Group    12 (          Water) has 85638 elements\n",
      "Group    13 (            SOL) has 85638 elements\n",
      "Group    14 (      non-Water) has  4781 elements\n",
      "Group    15 (            Ion) has    60 elements\n",
      "Group    16 (             NA) has    32 elements\n",
      "Group    17 (             CL) has    28 elements\n",
      "Group    18 ( Water_and_ions) has 85698 elements\n",
      "Select a group: Select group for RMSD calculation\n",
      "Group     0 (         System) has 90419 elements\n",
      "Group     1 (        Protein) has  4721 elements\n",
      "Group     2 (      Protein-H) has  2368 elements\n",
      "Group     3 (        C-alpha) has   315 elements\n",
      "Group     4 (       Backbone) has   945 elements\n",
      "Group     5 (      MainChain) has  1261 elements\n",
      "Group     6 (   MainChain+Cb) has  1551 elements\n",
      "Group     7 (    MainChain+H) has  1565 elements\n",
      "Group     8 (      SideChain) has  3156 elements\n",
      "Group     9 (    SideChain-H) has  1107 elements\n",
      "Group    10 (    Prot-Masses) has  4721 elements\n",
      "Group    11 (    non-Protein) has 85698 elements\n",
      "Group    12 (          Water) has 85638 elements\n",
      "Group    13 (            SOL) has 85638 elements\n",
      "Group    14 (      non-Water) has  4781 elements\n",
      "Group    15 (            Ion) has    60 elements\n",
      "Group    16 (             NA) has    32 elements\n",
      "Group    17 (             CL) has    28 elements\n",
      "Group    18 ( Water_and_ions) has 85698 elements\n",
      "Select a group: trr version: GMX_trn_file (single precision)\n",
      "Last frame         10 time  100.000   \n",
      "\n",
      "GROMACS reminds you: \"Gabba Gabba Hey!\" (The Ramones)\n",
      "\n",
      "\n"
     ]
    },
    {
     "data": {
      "text/plain": [
       "0"
      ]
     },
     "execution_count": 32,
     "metadata": {},
     "output_type": "execute_result"
    }
   ],
   "source": [
    "# GMXRms: Computing Root Mean Square deviation to analyse structural stability \n",
    "#         RMSd against experimental structure (backbone atoms)   \n",
    "\n",
    "from biobb_analysis.gromacs.gmx_rms import gmx_rms\n",
    "\n",
    "# Create prop dict and inputs/outputs\n",
    "output_rms_exp = pdbCode+'_rms_exp.xvg'\n",
    "prop = {\n",
    "    'selection':  'Backbone',\n",
    "    #'selection': 'non-Water'\n",
    "}\n",
    "\n",
    "# Create and launch bb\n",
    "gmx_rms(input_structure_path=output_gppmin_tpr,\n",
    "         input_traj_path=output_md_trr,\n",
    "         output_xvg_path=output_rms_exp, \n",
    "          properties=prop)"
   ]
  },
  {
   "cell_type": "code",
   "execution_count": 33,
   "metadata": {},
   "outputs": [
    {
     "data": {
      "text/html": [
       "        <script type=\"text/javascript\">\n",
       "        window.PlotlyConfig = {MathJaxConfig: 'local'};\n",
       "        if (window.MathJax) {MathJax.Hub.Config({SVG: {font: \"STIX-Web\"}});}\n",
       "        if (typeof require !== 'undefined') {\n",
       "        require.undef(\"plotly\");\n",
       "        requirejs.config({\n",
       "            paths: {\n",
       "                'plotly': ['https://cdn.plot.ly/plotly-2.11.1.min']\n",
       "            }\n",
       "        });\n",
       "        require(['plotly'], function(Plotly) {\n",
       "            window._Plotly = Plotly;\n",
       "        });\n",
       "        }\n",
       "        </script>\n",
       "        "
      ]
     },
     "metadata": {},
     "output_type": "display_data"
    },
    {
     "data": {
      "application/vnd.plotly.v1+json": {
       "config": {
        "linkText": "Export to plot.ly",
        "plotlyServerURL": "https://plot.ly",
        "showLink": false
       },
       "data": [
        {
         "name": "RMSd vs first",
         "type": "scatter",
         "x": [
          0,
          10,
          20,
          30,
          40,
          50,
          60,
          70,
          80,
          90,
          100
         ],
         "y": [
          2e-7,
          0.060435,
          0.0644041,
          0.0689482,
          0.072164,
          0.0763757,
          0.0770477,
          0.0798277,
          0.0826828,
          0.0944358,
          0.0971423
         ]
        },
        {
         "name": "RMSd vs exp",
         "type": "scatter",
         "x": [
          0,
          10,
          20,
          30,
          40,
          50,
          60,
          70,
          80,
          90,
          100
         ],
         "y": [
          0.0423265,
          0.0693779,
          0.0738207,
          0.0785168,
          0.0796865,
          0.0820201,
          0.0825562,
          0.0857086,
          0.0897748,
          0.1002613,
          0.1038166
         ]
        }
       ],
       "layout": {
        "template": {
         "data": {
          "bar": [
           {
            "error_x": {
             "color": "#2a3f5f"
            },
            "error_y": {
             "color": "#2a3f5f"
            },
            "marker": {
             "line": {
              "color": "#E5ECF6",
              "width": 0.5
             },
             "pattern": {
              "fillmode": "overlay",
              "size": 10,
              "solidity": 0.2
             }
            },
            "type": "bar"
           }
          ],
          "barpolar": [
           {
            "marker": {
             "line": {
              "color": "#E5ECF6",
              "width": 0.5
             },
             "pattern": {
              "fillmode": "overlay",
              "size": 10,
              "solidity": 0.2
             }
            },
            "type": "barpolar"
           }
          ],
          "carpet": [
           {
            "aaxis": {
             "endlinecolor": "#2a3f5f",
             "gridcolor": "white",
             "linecolor": "white",
             "minorgridcolor": "white",
             "startlinecolor": "#2a3f5f"
            },
            "baxis": {
             "endlinecolor": "#2a3f5f",
             "gridcolor": "white",
             "linecolor": "white",
             "minorgridcolor": "white",
             "startlinecolor": "#2a3f5f"
            },
            "type": "carpet"
           }
          ],
          "choropleth": [
           {
            "colorbar": {
             "outlinewidth": 0,
             "ticks": ""
            },
            "type": "choropleth"
           }
          ],
          "contour": [
           {
            "colorbar": {
             "outlinewidth": 0,
             "ticks": ""
            },
            "colorscale": [
             [
              0,
              "#0d0887"
             ],
             [
              0.1111111111111111,
              "#46039f"
             ],
             [
              0.2222222222222222,
              "#7201a8"
             ],
             [
              0.3333333333333333,
              "#9c179e"
             ],
             [
              0.4444444444444444,
              "#bd3786"
             ],
             [
              0.5555555555555556,
              "#d8576b"
             ],
             [
              0.6666666666666666,
              "#ed7953"
             ],
             [
              0.7777777777777778,
              "#fb9f3a"
             ],
             [
              0.8888888888888888,
              "#fdca26"
             ],
             [
              1,
              "#f0f921"
             ]
            ],
            "type": "contour"
           }
          ],
          "contourcarpet": [
           {
            "colorbar": {
             "outlinewidth": 0,
             "ticks": ""
            },
            "type": "contourcarpet"
           }
          ],
          "heatmap": [
           {
            "colorbar": {
             "outlinewidth": 0,
             "ticks": ""
            },
            "colorscale": [
             [
              0,
              "#0d0887"
             ],
             [
              0.1111111111111111,
              "#46039f"
             ],
             [
              0.2222222222222222,
              "#7201a8"
             ],
             [
              0.3333333333333333,
              "#9c179e"
             ],
             [
              0.4444444444444444,
              "#bd3786"
             ],
             [
              0.5555555555555556,
              "#d8576b"
             ],
             [
              0.6666666666666666,
              "#ed7953"
             ],
             [
              0.7777777777777778,
              "#fb9f3a"
             ],
             [
              0.8888888888888888,
              "#fdca26"
             ],
             [
              1,
              "#f0f921"
             ]
            ],
            "type": "heatmap"
           }
          ],
          "heatmapgl": [
           {
            "colorbar": {
             "outlinewidth": 0,
             "ticks": ""
            },
            "colorscale": [
             [
              0,
              "#0d0887"
             ],
             [
              0.1111111111111111,
              "#46039f"
             ],
             [
              0.2222222222222222,
              "#7201a8"
             ],
             [
              0.3333333333333333,
              "#9c179e"
             ],
             [
              0.4444444444444444,
              "#bd3786"
             ],
             [
              0.5555555555555556,
              "#d8576b"
             ],
             [
              0.6666666666666666,
              "#ed7953"
             ],
             [
              0.7777777777777778,
              "#fb9f3a"
             ],
             [
              0.8888888888888888,
              "#fdca26"
             ],
             [
              1,
              "#f0f921"
             ]
            ],
            "type": "heatmapgl"
           }
          ],
          "histogram": [
           {
            "marker": {
             "pattern": {
              "fillmode": "overlay",
              "size": 10,
              "solidity": 0.2
             }
            },
            "type": "histogram"
           }
          ],
          "histogram2d": [
           {
            "colorbar": {
             "outlinewidth": 0,
             "ticks": ""
            },
            "colorscale": [
             [
              0,
              "#0d0887"
             ],
             [
              0.1111111111111111,
              "#46039f"
             ],
             [
              0.2222222222222222,
              "#7201a8"
             ],
             [
              0.3333333333333333,
              "#9c179e"
             ],
             [
              0.4444444444444444,
              "#bd3786"
             ],
             [
              0.5555555555555556,
              "#d8576b"
             ],
             [
              0.6666666666666666,
              "#ed7953"
             ],
             [
              0.7777777777777778,
              "#fb9f3a"
             ],
             [
              0.8888888888888888,
              "#fdca26"
             ],
             [
              1,
              "#f0f921"
             ]
            ],
            "type": "histogram2d"
           }
          ],
          "histogram2dcontour": [
           {
            "colorbar": {
             "outlinewidth": 0,
             "ticks": ""
            },
            "colorscale": [
             [
              0,
              "#0d0887"
             ],
             [
              0.1111111111111111,
              "#46039f"
             ],
             [
              0.2222222222222222,
              "#7201a8"
             ],
             [
              0.3333333333333333,
              "#9c179e"
             ],
             [
              0.4444444444444444,
              "#bd3786"
             ],
             [
              0.5555555555555556,
              "#d8576b"
             ],
             [
              0.6666666666666666,
              "#ed7953"
             ],
             [
              0.7777777777777778,
              "#fb9f3a"
             ],
             [
              0.8888888888888888,
              "#fdca26"
             ],
             [
              1,
              "#f0f921"
             ]
            ],
            "type": "histogram2dcontour"
           }
          ],
          "mesh3d": [
           {
            "colorbar": {
             "outlinewidth": 0,
             "ticks": ""
            },
            "type": "mesh3d"
           }
          ],
          "parcoords": [
           {
            "line": {
             "colorbar": {
              "outlinewidth": 0,
              "ticks": ""
             }
            },
            "type": "parcoords"
           }
          ],
          "pie": [
           {
            "automargin": true,
            "type": "pie"
           }
          ],
          "scatter": [
           {
            "fillpattern": {
             "fillmode": "overlay",
             "size": 10,
             "solidity": 0.2
            },
            "type": "scatter"
           }
          ],
          "scatter3d": [
           {
            "line": {
             "colorbar": {
              "outlinewidth": 0,
              "ticks": ""
             }
            },
            "marker": {
             "colorbar": {
              "outlinewidth": 0,
              "ticks": ""
             }
            },
            "type": "scatter3d"
           }
          ],
          "scattercarpet": [
           {
            "marker": {
             "colorbar": {
              "outlinewidth": 0,
              "ticks": ""
             }
            },
            "type": "scattercarpet"
           }
          ],
          "scattergeo": [
           {
            "marker": {
             "colorbar": {
              "outlinewidth": 0,
              "ticks": ""
             }
            },
            "type": "scattergeo"
           }
          ],
          "scattergl": [
           {
            "marker": {
             "colorbar": {
              "outlinewidth": 0,
              "ticks": ""
             }
            },
            "type": "scattergl"
           }
          ],
          "scattermapbox": [
           {
            "marker": {
             "colorbar": {
              "outlinewidth": 0,
              "ticks": ""
             }
            },
            "type": "scattermapbox"
           }
          ],
          "scatterpolar": [
           {
            "marker": {
             "colorbar": {
              "outlinewidth": 0,
              "ticks": ""
             }
            },
            "type": "scatterpolar"
           }
          ],
          "scatterpolargl": [
           {
            "marker": {
             "colorbar": {
              "outlinewidth": 0,
              "ticks": ""
             }
            },
            "type": "scatterpolargl"
           }
          ],
          "scatterternary": [
           {
            "marker": {
             "colorbar": {
              "outlinewidth": 0,
              "ticks": ""
             }
            },
            "type": "scatterternary"
           }
          ],
          "surface": [
           {
            "colorbar": {
             "outlinewidth": 0,
             "ticks": ""
            },
            "colorscale": [
             [
              0,
              "#0d0887"
             ],
             [
              0.1111111111111111,
              "#46039f"
             ],
             [
              0.2222222222222222,
              "#7201a8"
             ],
             [
              0.3333333333333333,
              "#9c179e"
             ],
             [
              0.4444444444444444,
              "#bd3786"
             ],
             [
              0.5555555555555556,
              "#d8576b"
             ],
             [
              0.6666666666666666,
              "#ed7953"
             ],
             [
              0.7777777777777778,
              "#fb9f3a"
             ],
             [
              0.8888888888888888,
              "#fdca26"
             ],
             [
              1,
              "#f0f921"
             ]
            ],
            "type": "surface"
           }
          ],
          "table": [
           {
            "cells": {
             "fill": {
              "color": "#EBF0F8"
             },
             "line": {
              "color": "white"
             }
            },
            "header": {
             "fill": {
              "color": "#C8D4E3"
             },
             "line": {
              "color": "white"
             }
            },
            "type": "table"
           }
          ]
         },
         "layout": {
          "annotationdefaults": {
           "arrowcolor": "#2a3f5f",
           "arrowhead": 0,
           "arrowwidth": 1
          },
          "autotypenumbers": "strict",
          "coloraxis": {
           "colorbar": {
            "outlinewidth": 0,
            "ticks": ""
           }
          },
          "colorscale": {
           "diverging": [
            [
             0,
             "#8e0152"
            ],
            [
             0.1,
             "#c51b7d"
            ],
            [
             0.2,
             "#de77ae"
            ],
            [
             0.3,
             "#f1b6da"
            ],
            [
             0.4,
             "#fde0ef"
            ],
            [
             0.5,
             "#f7f7f7"
            ],
            [
             0.6,
             "#e6f5d0"
            ],
            [
             0.7,
             "#b8e186"
            ],
            [
             0.8,
             "#7fbc41"
            ],
            [
             0.9,
             "#4d9221"
            ],
            [
             1,
             "#276419"
            ]
           ],
           "sequential": [
            [
             0,
             "#0d0887"
            ],
            [
             0.1111111111111111,
             "#46039f"
            ],
            [
             0.2222222222222222,
             "#7201a8"
            ],
            [
             0.3333333333333333,
             "#9c179e"
            ],
            [
             0.4444444444444444,
             "#bd3786"
            ],
            [
             0.5555555555555556,
             "#d8576b"
            ],
            [
             0.6666666666666666,
             "#ed7953"
            ],
            [
             0.7777777777777778,
             "#fb9f3a"
            ],
            [
             0.8888888888888888,
             "#fdca26"
            ],
            [
             1,
             "#f0f921"
            ]
           ],
           "sequentialminus": [
            [
             0,
             "#0d0887"
            ],
            [
             0.1111111111111111,
             "#46039f"
            ],
            [
             0.2222222222222222,
             "#7201a8"
            ],
            [
             0.3333333333333333,
             "#9c179e"
            ],
            [
             0.4444444444444444,
             "#bd3786"
            ],
            [
             0.5555555555555556,
             "#d8576b"
            ],
            [
             0.6666666666666666,
             "#ed7953"
            ],
            [
             0.7777777777777778,
             "#fb9f3a"
            ],
            [
             0.8888888888888888,
             "#fdca26"
            ],
            [
             1,
             "#f0f921"
            ]
           ]
          },
          "colorway": [
           "#636efa",
           "#EF553B",
           "#00cc96",
           "#ab63fa",
           "#FFA15A",
           "#19d3f3",
           "#FF6692",
           "#B6E880",
           "#FF97FF",
           "#FECB52"
          ],
          "font": {
           "color": "#2a3f5f"
          },
          "geo": {
           "bgcolor": "white",
           "lakecolor": "white",
           "landcolor": "#E5ECF6",
           "showlakes": true,
           "showland": true,
           "subunitcolor": "white"
          },
          "hoverlabel": {
           "align": "left"
          },
          "hovermode": "closest",
          "mapbox": {
           "style": "light"
          },
          "paper_bgcolor": "white",
          "plot_bgcolor": "#E5ECF6",
          "polar": {
           "angularaxis": {
            "gridcolor": "white",
            "linecolor": "white",
            "ticks": ""
           },
           "bgcolor": "#E5ECF6",
           "radialaxis": {
            "gridcolor": "white",
            "linecolor": "white",
            "ticks": ""
           }
          },
          "scene": {
           "xaxis": {
            "backgroundcolor": "#E5ECF6",
            "gridcolor": "white",
            "gridwidth": 2,
            "linecolor": "white",
            "showbackground": true,
            "ticks": "",
            "zerolinecolor": "white"
           },
           "yaxis": {
            "backgroundcolor": "#E5ECF6",
            "gridcolor": "white",
            "gridwidth": 2,
            "linecolor": "white",
            "showbackground": true,
            "ticks": "",
            "zerolinecolor": "white"
           },
           "zaxis": {
            "backgroundcolor": "#E5ECF6",
            "gridcolor": "white",
            "gridwidth": 2,
            "linecolor": "white",
            "showbackground": true,
            "ticks": "",
            "zerolinecolor": "white"
           }
          },
          "shapedefaults": {
           "line": {
            "color": "#2a3f5f"
           }
          },
          "ternary": {
           "aaxis": {
            "gridcolor": "white",
            "linecolor": "white",
            "ticks": ""
           },
           "baxis": {
            "gridcolor": "white",
            "linecolor": "white",
            "ticks": ""
           },
           "bgcolor": "#E5ECF6",
           "caxis": {
            "gridcolor": "white",
            "linecolor": "white",
            "ticks": ""
           }
          },
          "title": {
           "x": 0.05
          },
          "xaxis": {
           "automargin": true,
           "gridcolor": "white",
           "linecolor": "white",
           "ticks": "",
           "title": {
            "standoff": 15
           },
           "zerolinecolor": "white",
           "zerolinewidth": 2
          },
          "yaxis": {
           "automargin": true,
           "gridcolor": "white",
           "linecolor": "white",
           "ticks": "",
           "title": {
            "standoff": 15
           },
           "zerolinecolor": "white",
           "zerolinewidth": 2
          }
         }
        },
        "title": {
         "text": "RMSd during free MD Simulation"
        },
        "xaxis": {
         "title": {
          "text": "Time (ps)"
         }
        },
        "yaxis": {
         "title": {
          "text": "RMSd (nm)"
         }
        }
       }
      },
      "text/html": [
       "<div>                            <div id=\"32c87181-e6e3-4b02-8842-614543eb6dae\" class=\"plotly-graph-div\" style=\"height:525px; width:100%;\"></div>            <script type=\"text/javascript\">                require([\"plotly\"], function(Plotly) {                    window.PLOTLYENV=window.PLOTLYENV || {};                                    if (document.getElementById(\"32c87181-e6e3-4b02-8842-614543eb6dae\")) {                    Plotly.newPlot(                        \"32c87181-e6e3-4b02-8842-614543eb6dae\",                        [{\"name\":\"RMSd vs first\",\"x\":[0.0,10.0,20.0,30.0,40.0,50.0,60.0,70.0,80.0,90.0,100.0],\"y\":[2e-07,0.060435,0.0644041,0.0689482,0.072164,0.0763757,0.0770477,0.0798277,0.0826828,0.0944358,0.0971423],\"type\":\"scatter\"},{\"name\":\"RMSd vs exp\",\"x\":[0.0,10.0,20.0,30.0,40.0,50.0,60.0,70.0,80.0,90.0,100.0],\"y\":[0.0423265,0.0693779,0.0738207,0.0785168,0.0796865,0.0820201,0.0825562,0.0857086,0.0897748,0.1002613,0.1038166],\"type\":\"scatter\"}],                        {\"template\":{\"data\":{\"barpolar\":[{\"marker\":{\"line\":{\"color\":\"#E5ECF6\",\"width\":0.5},\"pattern\":{\"fillmode\":\"overlay\",\"size\":10,\"solidity\":0.2}},\"type\":\"barpolar\"}],\"bar\":[{\"error_x\":{\"color\":\"#2a3f5f\"},\"error_y\":{\"color\":\"#2a3f5f\"},\"marker\":{\"line\":{\"color\":\"#E5ECF6\",\"width\":0.5},\"pattern\":{\"fillmode\":\"overlay\",\"size\":10,\"solidity\":0.2}},\"type\":\"bar\"}],\"carpet\":[{\"aaxis\":{\"endlinecolor\":\"#2a3f5f\",\"gridcolor\":\"white\",\"linecolor\":\"white\",\"minorgridcolor\":\"white\",\"startlinecolor\":\"#2a3f5f\"},\"baxis\":{\"endlinecolor\":\"#2a3f5f\",\"gridcolor\":\"white\",\"linecolor\":\"white\",\"minorgridcolor\":\"white\",\"startlinecolor\":\"#2a3f5f\"},\"type\":\"carpet\"}],\"choropleth\":[{\"colorbar\":{\"outlinewidth\":0,\"ticks\":\"\"},\"type\":\"choropleth\"}],\"contourcarpet\":[{\"colorbar\":{\"outlinewidth\":0,\"ticks\":\"\"},\"type\":\"contourcarpet\"}],\"contour\":[{\"colorbar\":{\"outlinewidth\":0,\"ticks\":\"\"},\"colorscale\":[[0.0,\"#0d0887\"],[0.1111111111111111,\"#46039f\"],[0.2222222222222222,\"#7201a8\"],[0.3333333333333333,\"#9c179e\"],[0.4444444444444444,\"#bd3786\"],[0.5555555555555556,\"#d8576b\"],[0.6666666666666666,\"#ed7953\"],[0.7777777777777778,\"#fb9f3a\"],[0.8888888888888888,\"#fdca26\"],[1.0,\"#f0f921\"]],\"type\":\"contour\"}],\"heatmapgl\":[{\"colorbar\":{\"outlinewidth\":0,\"ticks\":\"\"},\"colorscale\":[[0.0,\"#0d0887\"],[0.1111111111111111,\"#46039f\"],[0.2222222222222222,\"#7201a8\"],[0.3333333333333333,\"#9c179e\"],[0.4444444444444444,\"#bd3786\"],[0.5555555555555556,\"#d8576b\"],[0.6666666666666666,\"#ed7953\"],[0.7777777777777778,\"#fb9f3a\"],[0.8888888888888888,\"#fdca26\"],[1.0,\"#f0f921\"]],\"type\":\"heatmapgl\"}],\"heatmap\":[{\"colorbar\":{\"outlinewidth\":0,\"ticks\":\"\"},\"colorscale\":[[0.0,\"#0d0887\"],[0.1111111111111111,\"#46039f\"],[0.2222222222222222,\"#7201a8\"],[0.3333333333333333,\"#9c179e\"],[0.4444444444444444,\"#bd3786\"],[0.5555555555555556,\"#d8576b\"],[0.6666666666666666,\"#ed7953\"],[0.7777777777777778,\"#fb9f3a\"],[0.8888888888888888,\"#fdca26\"],[1.0,\"#f0f921\"]],\"type\":\"heatmap\"}],\"histogram2dcontour\":[{\"colorbar\":{\"outlinewidth\":0,\"ticks\":\"\"},\"colorscale\":[[0.0,\"#0d0887\"],[0.1111111111111111,\"#46039f\"],[0.2222222222222222,\"#7201a8\"],[0.3333333333333333,\"#9c179e\"],[0.4444444444444444,\"#bd3786\"],[0.5555555555555556,\"#d8576b\"],[0.6666666666666666,\"#ed7953\"],[0.7777777777777778,\"#fb9f3a\"],[0.8888888888888888,\"#fdca26\"],[1.0,\"#f0f921\"]],\"type\":\"histogram2dcontour\"}],\"histogram2d\":[{\"colorbar\":{\"outlinewidth\":0,\"ticks\":\"\"},\"colorscale\":[[0.0,\"#0d0887\"],[0.1111111111111111,\"#46039f\"],[0.2222222222222222,\"#7201a8\"],[0.3333333333333333,\"#9c179e\"],[0.4444444444444444,\"#bd3786\"],[0.5555555555555556,\"#d8576b\"],[0.6666666666666666,\"#ed7953\"],[0.7777777777777778,\"#fb9f3a\"],[0.8888888888888888,\"#fdca26\"],[1.0,\"#f0f921\"]],\"type\":\"histogram2d\"}],\"histogram\":[{\"marker\":{\"pattern\":{\"fillmode\":\"overlay\",\"size\":10,\"solidity\":0.2}},\"type\":\"histogram\"}],\"mesh3d\":[{\"colorbar\":{\"outlinewidth\":0,\"ticks\":\"\"},\"type\":\"mesh3d\"}],\"parcoords\":[{\"line\":{\"colorbar\":{\"outlinewidth\":0,\"ticks\":\"\"}},\"type\":\"parcoords\"}],\"pie\":[{\"automargin\":true,\"type\":\"pie\"}],\"scatter3d\":[{\"line\":{\"colorbar\":{\"outlinewidth\":0,\"ticks\":\"\"}},\"marker\":{\"colorbar\":{\"outlinewidth\":0,\"ticks\":\"\"}},\"type\":\"scatter3d\"}],\"scattercarpet\":[{\"marker\":{\"colorbar\":{\"outlinewidth\":0,\"ticks\":\"\"}},\"type\":\"scattercarpet\"}],\"scattergeo\":[{\"marker\":{\"colorbar\":{\"outlinewidth\":0,\"ticks\":\"\"}},\"type\":\"scattergeo\"}],\"scattergl\":[{\"marker\":{\"colorbar\":{\"outlinewidth\":0,\"ticks\":\"\"}},\"type\":\"scattergl\"}],\"scattermapbox\":[{\"marker\":{\"colorbar\":{\"outlinewidth\":0,\"ticks\":\"\"}},\"type\":\"scattermapbox\"}],\"scatterpolargl\":[{\"marker\":{\"colorbar\":{\"outlinewidth\":0,\"ticks\":\"\"}},\"type\":\"scatterpolargl\"}],\"scatterpolar\":[{\"marker\":{\"colorbar\":{\"outlinewidth\":0,\"ticks\":\"\"}},\"type\":\"scatterpolar\"}],\"scatter\":[{\"fillpattern\":{\"fillmode\":\"overlay\",\"size\":10,\"solidity\":0.2},\"type\":\"scatter\"}],\"scatterternary\":[{\"marker\":{\"colorbar\":{\"outlinewidth\":0,\"ticks\":\"\"}},\"type\":\"scatterternary\"}],\"surface\":[{\"colorbar\":{\"outlinewidth\":0,\"ticks\":\"\"},\"colorscale\":[[0.0,\"#0d0887\"],[0.1111111111111111,\"#46039f\"],[0.2222222222222222,\"#7201a8\"],[0.3333333333333333,\"#9c179e\"],[0.4444444444444444,\"#bd3786\"],[0.5555555555555556,\"#d8576b\"],[0.6666666666666666,\"#ed7953\"],[0.7777777777777778,\"#fb9f3a\"],[0.8888888888888888,\"#fdca26\"],[1.0,\"#f0f921\"]],\"type\":\"surface\"}],\"table\":[{\"cells\":{\"fill\":{\"color\":\"#EBF0F8\"},\"line\":{\"color\":\"white\"}},\"header\":{\"fill\":{\"color\":\"#C8D4E3\"},\"line\":{\"color\":\"white\"}},\"type\":\"table\"}]},\"layout\":{\"annotationdefaults\":{\"arrowcolor\":\"#2a3f5f\",\"arrowhead\":0,\"arrowwidth\":1},\"autotypenumbers\":\"strict\",\"coloraxis\":{\"colorbar\":{\"outlinewidth\":0,\"ticks\":\"\"}},\"colorscale\":{\"diverging\":[[0,\"#8e0152\"],[0.1,\"#c51b7d\"],[0.2,\"#de77ae\"],[0.3,\"#f1b6da\"],[0.4,\"#fde0ef\"],[0.5,\"#f7f7f7\"],[0.6,\"#e6f5d0\"],[0.7,\"#b8e186\"],[0.8,\"#7fbc41\"],[0.9,\"#4d9221\"],[1,\"#276419\"]],\"sequential\":[[0.0,\"#0d0887\"],[0.1111111111111111,\"#46039f\"],[0.2222222222222222,\"#7201a8\"],[0.3333333333333333,\"#9c179e\"],[0.4444444444444444,\"#bd3786\"],[0.5555555555555556,\"#d8576b\"],[0.6666666666666666,\"#ed7953\"],[0.7777777777777778,\"#fb9f3a\"],[0.8888888888888888,\"#fdca26\"],[1.0,\"#f0f921\"]],\"sequentialminus\":[[0.0,\"#0d0887\"],[0.1111111111111111,\"#46039f\"],[0.2222222222222222,\"#7201a8\"],[0.3333333333333333,\"#9c179e\"],[0.4444444444444444,\"#bd3786\"],[0.5555555555555556,\"#d8576b\"],[0.6666666666666666,\"#ed7953\"],[0.7777777777777778,\"#fb9f3a\"],[0.8888888888888888,\"#fdca26\"],[1.0,\"#f0f921\"]]},\"colorway\":[\"#636efa\",\"#EF553B\",\"#00cc96\",\"#ab63fa\",\"#FFA15A\",\"#19d3f3\",\"#FF6692\",\"#B6E880\",\"#FF97FF\",\"#FECB52\"],\"font\":{\"color\":\"#2a3f5f\"},\"geo\":{\"bgcolor\":\"white\",\"lakecolor\":\"white\",\"landcolor\":\"#E5ECF6\",\"showlakes\":true,\"showland\":true,\"subunitcolor\":\"white\"},\"hoverlabel\":{\"align\":\"left\"},\"hovermode\":\"closest\",\"mapbox\":{\"style\":\"light\"},\"paper_bgcolor\":\"white\",\"plot_bgcolor\":\"#E5ECF6\",\"polar\":{\"angularaxis\":{\"gridcolor\":\"white\",\"linecolor\":\"white\",\"ticks\":\"\"},\"bgcolor\":\"#E5ECF6\",\"radialaxis\":{\"gridcolor\":\"white\",\"linecolor\":\"white\",\"ticks\":\"\"}},\"scene\":{\"xaxis\":{\"backgroundcolor\":\"#E5ECF6\",\"gridcolor\":\"white\",\"gridwidth\":2,\"linecolor\":\"white\",\"showbackground\":true,\"ticks\":\"\",\"zerolinecolor\":\"white\"},\"yaxis\":{\"backgroundcolor\":\"#E5ECF6\",\"gridcolor\":\"white\",\"gridwidth\":2,\"linecolor\":\"white\",\"showbackground\":true,\"ticks\":\"\",\"zerolinecolor\":\"white\"},\"zaxis\":{\"backgroundcolor\":\"#E5ECF6\",\"gridcolor\":\"white\",\"gridwidth\":2,\"linecolor\":\"white\",\"showbackground\":true,\"ticks\":\"\",\"zerolinecolor\":\"white\"}},\"shapedefaults\":{\"line\":{\"color\":\"#2a3f5f\"}},\"ternary\":{\"aaxis\":{\"gridcolor\":\"white\",\"linecolor\":\"white\",\"ticks\":\"\"},\"baxis\":{\"gridcolor\":\"white\",\"linecolor\":\"white\",\"ticks\":\"\"},\"bgcolor\":\"#E5ECF6\",\"caxis\":{\"gridcolor\":\"white\",\"linecolor\":\"white\",\"ticks\":\"\"}},\"title\":{\"x\":0.05},\"xaxis\":{\"automargin\":true,\"gridcolor\":\"white\",\"linecolor\":\"white\",\"ticks\":\"\",\"title\":{\"standoff\":15},\"zerolinecolor\":\"white\",\"zerolinewidth\":2},\"yaxis\":{\"automargin\":true,\"gridcolor\":\"white\",\"linecolor\":\"white\",\"ticks\":\"\",\"title\":{\"standoff\":15},\"zerolinecolor\":\"white\",\"zerolinewidth\":2}}},\"title\":{\"text\":\"RMSd during free MD Simulation\"},\"xaxis\":{\"title\":{\"text\":\"Time (ps)\"}},\"yaxis\":{\"title\":{\"text\":\"RMSd (nm)\"}}},                        {\"responsive\": true}                    ).then(function(){\n",
       "                            \n",
       "var gd = document.getElementById('32c87181-e6e3-4b02-8842-614543eb6dae');\n",
       "var x = new MutationObserver(function (mutations, observer) {{\n",
       "        var display = window.getComputedStyle(gd).display;\n",
       "        if (!display || display === 'none') {{\n",
       "            console.log([gd, 'removed!']);\n",
       "            Plotly.purge(gd);\n",
       "            observer.disconnect();\n",
       "        }}\n",
       "}});\n",
       "\n",
       "// Listen for the removal of the full notebook cells\n",
       "var notebookContainer = gd.closest('#notebook-container');\n",
       "if (notebookContainer) {{\n",
       "    x.observe(notebookContainer, {childList: true});\n",
       "}}\n",
       "\n",
       "// Listen for the clearing of the current output cell\n",
       "var outputEl = gd.closest('.output');\n",
       "if (outputEl) {{\n",
       "    x.observe(outputEl, {childList: true});\n",
       "}}\n",
       "\n",
       "                        })                };                });            </script>        </div>"
      ]
     },
     "metadata": {},
     "output_type": "display_data"
    }
   ],
   "source": [
    "import plotly\n",
    "import plotly.graph_objs as go\n",
    "\n",
    "# Read RMS vs first snapshot data from file \n",
    "with open(output_rms_first,'r') as rms_first_file:\n",
    "    x,y = map(\n",
    "        list,\n",
    "        zip(*[\n",
    "            (float(line.split()[0]),float(line.split()[1]))\n",
    "            for line in rms_first_file \n",
    "            if not line.startswith((\"#\",\"@\")) \n",
    "        ])\n",
    "    )\n",
    "\n",
    "# Read RMS vs experimental structure data from file \n",
    "with open(output_rms_exp,'r') as rms_exp_file:\n",
    "    x2,y2 = map(\n",
    "        list,\n",
    "        zip(*[\n",
    "            (float(line.split()[0]),float(line.split()[1]))\n",
    "            for line in rms_exp_file\n",
    "            if not line.startswith((\"#\",\"@\")) \n",
    "        ])\n",
    "    )\n",
    "    \n",
    "trace1 = go.Scatter(\n",
    "    x = x,\n",
    "    y = y,\n",
    "    name = 'RMSd vs first'\n",
    ")\n",
    "\n",
    "trace2 = go.Scatter(\n",
    "    x = x,\n",
    "    y = y2,\n",
    "    name = 'RMSd vs exp'\n",
    ")\n",
    "\n",
    "data = [trace1, trace2]\n",
    "\n",
    "plotly.offline.init_notebook_mode(connected=True)\n",
    "\n",
    "fig = {\n",
    "    \"data\": data,\n",
    "    \"layout\": go.Layout(title=\"RMSd during free MD Simulation\",\n",
    "                        xaxis=dict(title = \"Time (ps)\"),\n",
    "                        yaxis=dict(title = \"RMSd (nm)\")\n",
    "                       )\n",
    "}\n",
    "\n",
    "plotly.offline.iplot(fig)\n"
   ]
  },
  {
   "cell_type": "code",
   "execution_count": 34,
   "metadata": {},
   "outputs": [
    {
     "name": "stdout",
     "output_type": "stream",
     "text": [
      "2022-04-26 19:43:15,668 [MainThread  ] [INFO ]  Not using any container\n",
      "2022-04-26 19:43:15,966 [MainThread  ] [INFO ]  echo \"Backbone\" | gmx gyrate -s /home/ma/git/druglord/temp/6V23/6V23_gppmin.tpr -f /home/ma/git/druglord/temp/6V23/6V23_md.trr -o 6V23_rgyr.xvg -xvg none\n",
      "\n",
      "2022-04-26 19:43:15,967 [MainThread  ] [INFO ]  Exit code 0\n",
      "\n",
      "2022-04-26 19:43:15,968 [MainThread  ] [INFO ]  Selected 4: 'Backbone'\n",
      "\n",
      "2022-04-26 19:43:15,968 [MainThread  ] [INFO ]                        :-) GROMACS - gmx gyrate, 2019.1 (-:\n",
      "\n",
      "                            GROMACS is written by:\n",
      "     Emile Apol      Rossen Apostolov      Paul Bauer     Herman J.C. Berendsen\n",
      "    Par Bjelkmar      Christian Blau   Viacheslav Bolnykh     Kevin Boyd    \n",
      " Aldert van Buuren   Rudi van Drunen     Anton Feenstra       Alan Gray     \n",
      "  Gerrit Groenhof     Anca Hamuraru    Vincent Hindriksen  M. Eric Irrgang  \n",
      "  Aleksei Iupinov   Christoph Junghans     Joe Jordan     Dimitrios Karkoulis\n",
      "    Peter Kasson        Jiri Kraus      Carsten Kutzner      Per Larsson    \n",
      "  Justin A. Lemkul    Viveca Lindahl    Magnus Lundborg     Erik Marklund   \n",
      "    Pascal Merz     Pieter Meulenhoff    Teemu Murtola       Szilard Pall   \n",
      "    Sander Pronk      Roland Schulz      Michael Shirts    Alexey Shvetsov  \n",
      "   Alfons Sijbers     Peter Tieleman      Jon Vincent      Teemu Virolainen \n",
      " Christian Wennberg    Maarten Wolf   \n",
      "                           and the project leaders:\n",
      "        Mark Abraham, Berk Hess, Erik Lindahl, and David van der Spoel\n",
      "\n",
      "Copyright (c) 1991-2000, University of Groningen, The Netherlands.\n",
      "Copyright (c) 2001-2018, The GROMACS development team at\n",
      "Uppsala University, Stockholm University and\n",
      "the Royal Institute of Technology, Sweden.\n",
      "check out http://www.gromacs.org for more information.\n",
      "\n",
      "GROMACS is free software; you can redistribute it and/or modify it\n",
      "under the terms of the GNU Lesser General Public License\n",
      "as published by the Free Software Foundation; either version 2.1\n",
      "of the License, or (at your option) any later version.\n",
      "\n",
      "GROMACS:      gmx gyrate, version 2019.1\n",
      "Executable:   /home/ma/miniconda3/envs/druglord/bin/gmx\n",
      "Data prefix:  /home/ma/miniconda3/envs/druglord\n",
      "Working dir:  /home/ma/git/druglord/temp/6V23\n",
      "Command line:\n",
      "  gmx gyrate -s /home/ma/git/druglord/temp/6V23/6V23_gppmin.tpr -f /home/ma/git/druglord/temp/6V23/6V23_md.trr -o 6V23_rgyr.xvg -xvg none\n",
      "\n",
      "Reading file /home/ma/git/druglord/temp/6V23/6V23_gppmin.tpr, VERSION 2019.1 (single precision)\n",
      "Reading file /home/ma/git/druglord/temp/6V23/6V23_gppmin.tpr, VERSION 2019.1 (single precision)\n",
      "Group     0 (         System) has 90419 elements\n",
      "Group     1 (        Protein) has  4721 elements\n",
      "Group     2 (      Protein-H) has  2368 elements\n",
      "Group     3 (        C-alpha) has   315 elements\n",
      "Group     4 (       Backbone) has   945 elements\n",
      "Group     5 (      MainChain) has  1261 elements\n",
      "Group     6 (   MainChain+Cb) has  1551 elements\n",
      "Group     7 (    MainChain+H) has  1565 elements\n",
      "Group     8 (      SideChain) has  3156 elements\n",
      "Group     9 (    SideChain-H) has  1107 elements\n",
      "Group    10 (    Prot-Masses) has  4721 elements\n",
      "Group    11 (    non-Protein) has 85698 elements\n",
      "Group    12 (          Water) has 85638 elements\n",
      "Group    13 (            SOL) has 85638 elements\n",
      "Group    14 (      non-Water) has  4781 elements\n",
      "Group    15 (            Ion) has    60 elements\n",
      "Group    16 (             NA) has    32 elements\n",
      "Group    17 (             CL) has    28 elements\n",
      "Group    18 ( Water_and_ions) has 85698 elements\n",
      "Select a group: trr version: GMX_trn_file (single precision)\n",
      "Last frame         10 time  100.000   \n",
      "\n",
      "GROMACS reminds you: \"Perl: The only language that looks the same before and after RSA encryption.\" (Keith Bostic)\n",
      "\n",
      "\n"
     ]
    },
    {
     "data": {
      "text/plain": [
       "0"
      ]
     },
     "execution_count": 34,
     "metadata": {},
     "output_type": "execute_result"
    }
   ],
   "source": [
    "# GMXRgyr: Computing Radius of Gyration to measure the protein compactness during the free MD simulation \n",
    "\n",
    "from biobb_analysis.gromacs.gmx_rgyr import gmx_rgyr\n",
    "\n",
    "# Create prop dict and inputs/outputs\n",
    "output_rgyr = pdbCode+'_rgyr.xvg'\n",
    "prop = {\n",
    "    'selection':  'Backbone'\n",
    "}\n",
    "\n",
    "# Create and launch bb\n",
    "gmx_rgyr(input_structure_path=output_gppmin_tpr,\n",
    "         input_traj_path=output_md_trr,\n",
    "         output_xvg_path=output_rgyr, \n",
    "          properties=prop)"
   ]
  },
  {
   "cell_type": "code",
   "execution_count": 35,
   "metadata": {},
   "outputs": [
    {
     "data": {
      "text/html": [
       "        <script type=\"text/javascript\">\n",
       "        window.PlotlyConfig = {MathJaxConfig: 'local'};\n",
       "        if (window.MathJax) {MathJax.Hub.Config({SVG: {font: \"STIX-Web\"}});}\n",
       "        if (typeof require !== 'undefined') {\n",
       "        require.undef(\"plotly\");\n",
       "        requirejs.config({\n",
       "            paths: {\n",
       "                'plotly': ['https://cdn.plot.ly/plotly-2.11.1.min']\n",
       "            }\n",
       "        });\n",
       "        require(['plotly'], function(Plotly) {\n",
       "            window._Plotly = Plotly;\n",
       "        });\n",
       "        }\n",
       "        </script>\n",
       "        "
      ]
     },
     "metadata": {},
     "output_type": "display_data"
    },
    {
     "data": {
      "application/vnd.plotly.v1+json": {
       "config": {
        "linkText": "Export to plot.ly",
        "plotlyServerURL": "https://plot.ly",
        "showLink": false
       },
       "data": [
        {
         "type": "scatter",
         "x": [
          0,
          10,
          20,
          30,
          40,
          50,
          60,
          70,
          80,
          90,
          100
         ],
         "y": [
          1.99302,
          2.00307,
          2.00754,
          2.01633,
          2.00156,
          2.02657,
          2.01329,
          2.0118,
          2.00842,
          2.01155,
          2.01205
         ]
        }
       ],
       "layout": {
        "template": {
         "data": {
          "bar": [
           {
            "error_x": {
             "color": "#2a3f5f"
            },
            "error_y": {
             "color": "#2a3f5f"
            },
            "marker": {
             "line": {
              "color": "#E5ECF6",
              "width": 0.5
             },
             "pattern": {
              "fillmode": "overlay",
              "size": 10,
              "solidity": 0.2
             }
            },
            "type": "bar"
           }
          ],
          "barpolar": [
           {
            "marker": {
             "line": {
              "color": "#E5ECF6",
              "width": 0.5
             },
             "pattern": {
              "fillmode": "overlay",
              "size": 10,
              "solidity": 0.2
             }
            },
            "type": "barpolar"
           }
          ],
          "carpet": [
           {
            "aaxis": {
             "endlinecolor": "#2a3f5f",
             "gridcolor": "white",
             "linecolor": "white",
             "minorgridcolor": "white",
             "startlinecolor": "#2a3f5f"
            },
            "baxis": {
             "endlinecolor": "#2a3f5f",
             "gridcolor": "white",
             "linecolor": "white",
             "minorgridcolor": "white",
             "startlinecolor": "#2a3f5f"
            },
            "type": "carpet"
           }
          ],
          "choropleth": [
           {
            "colorbar": {
             "outlinewidth": 0,
             "ticks": ""
            },
            "type": "choropleth"
           }
          ],
          "contour": [
           {
            "colorbar": {
             "outlinewidth": 0,
             "ticks": ""
            },
            "colorscale": [
             [
              0,
              "#0d0887"
             ],
             [
              0.1111111111111111,
              "#46039f"
             ],
             [
              0.2222222222222222,
              "#7201a8"
             ],
             [
              0.3333333333333333,
              "#9c179e"
             ],
             [
              0.4444444444444444,
              "#bd3786"
             ],
             [
              0.5555555555555556,
              "#d8576b"
             ],
             [
              0.6666666666666666,
              "#ed7953"
             ],
             [
              0.7777777777777778,
              "#fb9f3a"
             ],
             [
              0.8888888888888888,
              "#fdca26"
             ],
             [
              1,
              "#f0f921"
             ]
            ],
            "type": "contour"
           }
          ],
          "contourcarpet": [
           {
            "colorbar": {
             "outlinewidth": 0,
             "ticks": ""
            },
            "type": "contourcarpet"
           }
          ],
          "heatmap": [
           {
            "colorbar": {
             "outlinewidth": 0,
             "ticks": ""
            },
            "colorscale": [
             [
              0,
              "#0d0887"
             ],
             [
              0.1111111111111111,
              "#46039f"
             ],
             [
              0.2222222222222222,
              "#7201a8"
             ],
             [
              0.3333333333333333,
              "#9c179e"
             ],
             [
              0.4444444444444444,
              "#bd3786"
             ],
             [
              0.5555555555555556,
              "#d8576b"
             ],
             [
              0.6666666666666666,
              "#ed7953"
             ],
             [
              0.7777777777777778,
              "#fb9f3a"
             ],
             [
              0.8888888888888888,
              "#fdca26"
             ],
             [
              1,
              "#f0f921"
             ]
            ],
            "type": "heatmap"
           }
          ],
          "heatmapgl": [
           {
            "colorbar": {
             "outlinewidth": 0,
             "ticks": ""
            },
            "colorscale": [
             [
              0,
              "#0d0887"
             ],
             [
              0.1111111111111111,
              "#46039f"
             ],
             [
              0.2222222222222222,
              "#7201a8"
             ],
             [
              0.3333333333333333,
              "#9c179e"
             ],
             [
              0.4444444444444444,
              "#bd3786"
             ],
             [
              0.5555555555555556,
              "#d8576b"
             ],
             [
              0.6666666666666666,
              "#ed7953"
             ],
             [
              0.7777777777777778,
              "#fb9f3a"
             ],
             [
              0.8888888888888888,
              "#fdca26"
             ],
             [
              1,
              "#f0f921"
             ]
            ],
            "type": "heatmapgl"
           }
          ],
          "histogram": [
           {
            "marker": {
             "pattern": {
              "fillmode": "overlay",
              "size": 10,
              "solidity": 0.2
             }
            },
            "type": "histogram"
           }
          ],
          "histogram2d": [
           {
            "colorbar": {
             "outlinewidth": 0,
             "ticks": ""
            },
            "colorscale": [
             [
              0,
              "#0d0887"
             ],
             [
              0.1111111111111111,
              "#46039f"
             ],
             [
              0.2222222222222222,
              "#7201a8"
             ],
             [
              0.3333333333333333,
              "#9c179e"
             ],
             [
              0.4444444444444444,
              "#bd3786"
             ],
             [
              0.5555555555555556,
              "#d8576b"
             ],
             [
              0.6666666666666666,
              "#ed7953"
             ],
             [
              0.7777777777777778,
              "#fb9f3a"
             ],
             [
              0.8888888888888888,
              "#fdca26"
             ],
             [
              1,
              "#f0f921"
             ]
            ],
            "type": "histogram2d"
           }
          ],
          "histogram2dcontour": [
           {
            "colorbar": {
             "outlinewidth": 0,
             "ticks": ""
            },
            "colorscale": [
             [
              0,
              "#0d0887"
             ],
             [
              0.1111111111111111,
              "#46039f"
             ],
             [
              0.2222222222222222,
              "#7201a8"
             ],
             [
              0.3333333333333333,
              "#9c179e"
             ],
             [
              0.4444444444444444,
              "#bd3786"
             ],
             [
              0.5555555555555556,
              "#d8576b"
             ],
             [
              0.6666666666666666,
              "#ed7953"
             ],
             [
              0.7777777777777778,
              "#fb9f3a"
             ],
             [
              0.8888888888888888,
              "#fdca26"
             ],
             [
              1,
              "#f0f921"
             ]
            ],
            "type": "histogram2dcontour"
           }
          ],
          "mesh3d": [
           {
            "colorbar": {
             "outlinewidth": 0,
             "ticks": ""
            },
            "type": "mesh3d"
           }
          ],
          "parcoords": [
           {
            "line": {
             "colorbar": {
              "outlinewidth": 0,
              "ticks": ""
             }
            },
            "type": "parcoords"
           }
          ],
          "pie": [
           {
            "automargin": true,
            "type": "pie"
           }
          ],
          "scatter": [
           {
            "fillpattern": {
             "fillmode": "overlay",
             "size": 10,
             "solidity": 0.2
            },
            "type": "scatter"
           }
          ],
          "scatter3d": [
           {
            "line": {
             "colorbar": {
              "outlinewidth": 0,
              "ticks": ""
             }
            },
            "marker": {
             "colorbar": {
              "outlinewidth": 0,
              "ticks": ""
             }
            },
            "type": "scatter3d"
           }
          ],
          "scattercarpet": [
           {
            "marker": {
             "colorbar": {
              "outlinewidth": 0,
              "ticks": ""
             }
            },
            "type": "scattercarpet"
           }
          ],
          "scattergeo": [
           {
            "marker": {
             "colorbar": {
              "outlinewidth": 0,
              "ticks": ""
             }
            },
            "type": "scattergeo"
           }
          ],
          "scattergl": [
           {
            "marker": {
             "colorbar": {
              "outlinewidth": 0,
              "ticks": ""
             }
            },
            "type": "scattergl"
           }
          ],
          "scattermapbox": [
           {
            "marker": {
             "colorbar": {
              "outlinewidth": 0,
              "ticks": ""
             }
            },
            "type": "scattermapbox"
           }
          ],
          "scatterpolar": [
           {
            "marker": {
             "colorbar": {
              "outlinewidth": 0,
              "ticks": ""
             }
            },
            "type": "scatterpolar"
           }
          ],
          "scatterpolargl": [
           {
            "marker": {
             "colorbar": {
              "outlinewidth": 0,
              "ticks": ""
             }
            },
            "type": "scatterpolargl"
           }
          ],
          "scatterternary": [
           {
            "marker": {
             "colorbar": {
              "outlinewidth": 0,
              "ticks": ""
             }
            },
            "type": "scatterternary"
           }
          ],
          "surface": [
           {
            "colorbar": {
             "outlinewidth": 0,
             "ticks": ""
            },
            "colorscale": [
             [
              0,
              "#0d0887"
             ],
             [
              0.1111111111111111,
              "#46039f"
             ],
             [
              0.2222222222222222,
              "#7201a8"
             ],
             [
              0.3333333333333333,
              "#9c179e"
             ],
             [
              0.4444444444444444,
              "#bd3786"
             ],
             [
              0.5555555555555556,
              "#d8576b"
             ],
             [
              0.6666666666666666,
              "#ed7953"
             ],
             [
              0.7777777777777778,
              "#fb9f3a"
             ],
             [
              0.8888888888888888,
              "#fdca26"
             ],
             [
              1,
              "#f0f921"
             ]
            ],
            "type": "surface"
           }
          ],
          "table": [
           {
            "cells": {
             "fill": {
              "color": "#EBF0F8"
             },
             "line": {
              "color": "white"
             }
            },
            "header": {
             "fill": {
              "color": "#C8D4E3"
             },
             "line": {
              "color": "white"
             }
            },
            "type": "table"
           }
          ]
         },
         "layout": {
          "annotationdefaults": {
           "arrowcolor": "#2a3f5f",
           "arrowhead": 0,
           "arrowwidth": 1
          },
          "autotypenumbers": "strict",
          "coloraxis": {
           "colorbar": {
            "outlinewidth": 0,
            "ticks": ""
           }
          },
          "colorscale": {
           "diverging": [
            [
             0,
             "#8e0152"
            ],
            [
             0.1,
             "#c51b7d"
            ],
            [
             0.2,
             "#de77ae"
            ],
            [
             0.3,
             "#f1b6da"
            ],
            [
             0.4,
             "#fde0ef"
            ],
            [
             0.5,
             "#f7f7f7"
            ],
            [
             0.6,
             "#e6f5d0"
            ],
            [
             0.7,
             "#b8e186"
            ],
            [
             0.8,
             "#7fbc41"
            ],
            [
             0.9,
             "#4d9221"
            ],
            [
             1,
             "#276419"
            ]
           ],
           "sequential": [
            [
             0,
             "#0d0887"
            ],
            [
             0.1111111111111111,
             "#46039f"
            ],
            [
             0.2222222222222222,
             "#7201a8"
            ],
            [
             0.3333333333333333,
             "#9c179e"
            ],
            [
             0.4444444444444444,
             "#bd3786"
            ],
            [
             0.5555555555555556,
             "#d8576b"
            ],
            [
             0.6666666666666666,
             "#ed7953"
            ],
            [
             0.7777777777777778,
             "#fb9f3a"
            ],
            [
             0.8888888888888888,
             "#fdca26"
            ],
            [
             1,
             "#f0f921"
            ]
           ],
           "sequentialminus": [
            [
             0,
             "#0d0887"
            ],
            [
             0.1111111111111111,
             "#46039f"
            ],
            [
             0.2222222222222222,
             "#7201a8"
            ],
            [
             0.3333333333333333,
             "#9c179e"
            ],
            [
             0.4444444444444444,
             "#bd3786"
            ],
            [
             0.5555555555555556,
             "#d8576b"
            ],
            [
             0.6666666666666666,
             "#ed7953"
            ],
            [
             0.7777777777777778,
             "#fb9f3a"
            ],
            [
             0.8888888888888888,
             "#fdca26"
            ],
            [
             1,
             "#f0f921"
            ]
           ]
          },
          "colorway": [
           "#636efa",
           "#EF553B",
           "#00cc96",
           "#ab63fa",
           "#FFA15A",
           "#19d3f3",
           "#FF6692",
           "#B6E880",
           "#FF97FF",
           "#FECB52"
          ],
          "font": {
           "color": "#2a3f5f"
          },
          "geo": {
           "bgcolor": "white",
           "lakecolor": "white",
           "landcolor": "#E5ECF6",
           "showlakes": true,
           "showland": true,
           "subunitcolor": "white"
          },
          "hoverlabel": {
           "align": "left"
          },
          "hovermode": "closest",
          "mapbox": {
           "style": "light"
          },
          "paper_bgcolor": "white",
          "plot_bgcolor": "#E5ECF6",
          "polar": {
           "angularaxis": {
            "gridcolor": "white",
            "linecolor": "white",
            "ticks": ""
           },
           "bgcolor": "#E5ECF6",
           "radialaxis": {
            "gridcolor": "white",
            "linecolor": "white",
            "ticks": ""
           }
          },
          "scene": {
           "xaxis": {
            "backgroundcolor": "#E5ECF6",
            "gridcolor": "white",
            "gridwidth": 2,
            "linecolor": "white",
            "showbackground": true,
            "ticks": "",
            "zerolinecolor": "white"
           },
           "yaxis": {
            "backgroundcolor": "#E5ECF6",
            "gridcolor": "white",
            "gridwidth": 2,
            "linecolor": "white",
            "showbackground": true,
            "ticks": "",
            "zerolinecolor": "white"
           },
           "zaxis": {
            "backgroundcolor": "#E5ECF6",
            "gridcolor": "white",
            "gridwidth": 2,
            "linecolor": "white",
            "showbackground": true,
            "ticks": "",
            "zerolinecolor": "white"
           }
          },
          "shapedefaults": {
           "line": {
            "color": "#2a3f5f"
           }
          },
          "ternary": {
           "aaxis": {
            "gridcolor": "white",
            "linecolor": "white",
            "ticks": ""
           },
           "baxis": {
            "gridcolor": "white",
            "linecolor": "white",
            "ticks": ""
           },
           "bgcolor": "#E5ECF6",
           "caxis": {
            "gridcolor": "white",
            "linecolor": "white",
            "ticks": ""
           }
          },
          "title": {
           "x": 0.05
          },
          "xaxis": {
           "automargin": true,
           "gridcolor": "white",
           "linecolor": "white",
           "ticks": "",
           "title": {
            "standoff": 15
           },
           "zerolinecolor": "white",
           "zerolinewidth": 2
          },
          "yaxis": {
           "automargin": true,
           "gridcolor": "white",
           "linecolor": "white",
           "ticks": "",
           "title": {
            "standoff": 15
           },
           "zerolinecolor": "white",
           "zerolinewidth": 2
          }
         }
        },
        "title": {
         "text": "Radius of Gyration"
        },
        "xaxis": {
         "title": {
          "text": "Time (ps)"
         }
        },
        "yaxis": {
         "title": {
          "text": "Rgyr (nm)"
         }
        }
       }
      },
      "text/html": [
       "<div>                            <div id=\"ca9ae090-35c8-44c4-aa52-71b9ba3b826e\" class=\"plotly-graph-div\" style=\"height:525px; width:100%;\"></div>            <script type=\"text/javascript\">                require([\"plotly\"], function(Plotly) {                    window.PLOTLYENV=window.PLOTLYENV || {};                                    if (document.getElementById(\"ca9ae090-35c8-44c4-aa52-71b9ba3b826e\")) {                    Plotly.newPlot(                        \"ca9ae090-35c8-44c4-aa52-71b9ba3b826e\",                        [{\"x\":[0.0,10.0,20.0,30.0,40.0,50.0,60.0,70.0,80.0,90.0,100.0],\"y\":[1.99302,2.00307,2.00754,2.01633,2.00156,2.02657,2.01329,2.0118,2.00842,2.01155,2.01205],\"type\":\"scatter\"}],                        {\"template\":{\"data\":{\"barpolar\":[{\"marker\":{\"line\":{\"color\":\"#E5ECF6\",\"width\":0.5},\"pattern\":{\"fillmode\":\"overlay\",\"size\":10,\"solidity\":0.2}},\"type\":\"barpolar\"}],\"bar\":[{\"error_x\":{\"color\":\"#2a3f5f\"},\"error_y\":{\"color\":\"#2a3f5f\"},\"marker\":{\"line\":{\"color\":\"#E5ECF6\",\"width\":0.5},\"pattern\":{\"fillmode\":\"overlay\",\"size\":10,\"solidity\":0.2}},\"type\":\"bar\"}],\"carpet\":[{\"aaxis\":{\"endlinecolor\":\"#2a3f5f\",\"gridcolor\":\"white\",\"linecolor\":\"white\",\"minorgridcolor\":\"white\",\"startlinecolor\":\"#2a3f5f\"},\"baxis\":{\"endlinecolor\":\"#2a3f5f\",\"gridcolor\":\"white\",\"linecolor\":\"white\",\"minorgridcolor\":\"white\",\"startlinecolor\":\"#2a3f5f\"},\"type\":\"carpet\"}],\"choropleth\":[{\"colorbar\":{\"outlinewidth\":0,\"ticks\":\"\"},\"type\":\"choropleth\"}],\"contourcarpet\":[{\"colorbar\":{\"outlinewidth\":0,\"ticks\":\"\"},\"type\":\"contourcarpet\"}],\"contour\":[{\"colorbar\":{\"outlinewidth\":0,\"ticks\":\"\"},\"colorscale\":[[0.0,\"#0d0887\"],[0.1111111111111111,\"#46039f\"],[0.2222222222222222,\"#7201a8\"],[0.3333333333333333,\"#9c179e\"],[0.4444444444444444,\"#bd3786\"],[0.5555555555555556,\"#d8576b\"],[0.6666666666666666,\"#ed7953\"],[0.7777777777777778,\"#fb9f3a\"],[0.8888888888888888,\"#fdca26\"],[1.0,\"#f0f921\"]],\"type\":\"contour\"}],\"heatmapgl\":[{\"colorbar\":{\"outlinewidth\":0,\"ticks\":\"\"},\"colorscale\":[[0.0,\"#0d0887\"],[0.1111111111111111,\"#46039f\"],[0.2222222222222222,\"#7201a8\"],[0.3333333333333333,\"#9c179e\"],[0.4444444444444444,\"#bd3786\"],[0.5555555555555556,\"#d8576b\"],[0.6666666666666666,\"#ed7953\"],[0.7777777777777778,\"#fb9f3a\"],[0.8888888888888888,\"#fdca26\"],[1.0,\"#f0f921\"]],\"type\":\"heatmapgl\"}],\"heatmap\":[{\"colorbar\":{\"outlinewidth\":0,\"ticks\":\"\"},\"colorscale\":[[0.0,\"#0d0887\"],[0.1111111111111111,\"#46039f\"],[0.2222222222222222,\"#7201a8\"],[0.3333333333333333,\"#9c179e\"],[0.4444444444444444,\"#bd3786\"],[0.5555555555555556,\"#d8576b\"],[0.6666666666666666,\"#ed7953\"],[0.7777777777777778,\"#fb9f3a\"],[0.8888888888888888,\"#fdca26\"],[1.0,\"#f0f921\"]],\"type\":\"heatmap\"}],\"histogram2dcontour\":[{\"colorbar\":{\"outlinewidth\":0,\"ticks\":\"\"},\"colorscale\":[[0.0,\"#0d0887\"],[0.1111111111111111,\"#46039f\"],[0.2222222222222222,\"#7201a8\"],[0.3333333333333333,\"#9c179e\"],[0.4444444444444444,\"#bd3786\"],[0.5555555555555556,\"#d8576b\"],[0.6666666666666666,\"#ed7953\"],[0.7777777777777778,\"#fb9f3a\"],[0.8888888888888888,\"#fdca26\"],[1.0,\"#f0f921\"]],\"type\":\"histogram2dcontour\"}],\"histogram2d\":[{\"colorbar\":{\"outlinewidth\":0,\"ticks\":\"\"},\"colorscale\":[[0.0,\"#0d0887\"],[0.1111111111111111,\"#46039f\"],[0.2222222222222222,\"#7201a8\"],[0.3333333333333333,\"#9c179e\"],[0.4444444444444444,\"#bd3786\"],[0.5555555555555556,\"#d8576b\"],[0.6666666666666666,\"#ed7953\"],[0.7777777777777778,\"#fb9f3a\"],[0.8888888888888888,\"#fdca26\"],[1.0,\"#f0f921\"]],\"type\":\"histogram2d\"}],\"histogram\":[{\"marker\":{\"pattern\":{\"fillmode\":\"overlay\",\"size\":10,\"solidity\":0.2}},\"type\":\"histogram\"}],\"mesh3d\":[{\"colorbar\":{\"outlinewidth\":0,\"ticks\":\"\"},\"type\":\"mesh3d\"}],\"parcoords\":[{\"line\":{\"colorbar\":{\"outlinewidth\":0,\"ticks\":\"\"}},\"type\":\"parcoords\"}],\"pie\":[{\"automargin\":true,\"type\":\"pie\"}],\"scatter3d\":[{\"line\":{\"colorbar\":{\"outlinewidth\":0,\"ticks\":\"\"}},\"marker\":{\"colorbar\":{\"outlinewidth\":0,\"ticks\":\"\"}},\"type\":\"scatter3d\"}],\"scattercarpet\":[{\"marker\":{\"colorbar\":{\"outlinewidth\":0,\"ticks\":\"\"}},\"type\":\"scattercarpet\"}],\"scattergeo\":[{\"marker\":{\"colorbar\":{\"outlinewidth\":0,\"ticks\":\"\"}},\"type\":\"scattergeo\"}],\"scattergl\":[{\"marker\":{\"colorbar\":{\"outlinewidth\":0,\"ticks\":\"\"}},\"type\":\"scattergl\"}],\"scattermapbox\":[{\"marker\":{\"colorbar\":{\"outlinewidth\":0,\"ticks\":\"\"}},\"type\":\"scattermapbox\"}],\"scatterpolargl\":[{\"marker\":{\"colorbar\":{\"outlinewidth\":0,\"ticks\":\"\"}},\"type\":\"scatterpolargl\"}],\"scatterpolar\":[{\"marker\":{\"colorbar\":{\"outlinewidth\":0,\"ticks\":\"\"}},\"type\":\"scatterpolar\"}],\"scatter\":[{\"fillpattern\":{\"fillmode\":\"overlay\",\"size\":10,\"solidity\":0.2},\"type\":\"scatter\"}],\"scatterternary\":[{\"marker\":{\"colorbar\":{\"outlinewidth\":0,\"ticks\":\"\"}},\"type\":\"scatterternary\"}],\"surface\":[{\"colorbar\":{\"outlinewidth\":0,\"ticks\":\"\"},\"colorscale\":[[0.0,\"#0d0887\"],[0.1111111111111111,\"#46039f\"],[0.2222222222222222,\"#7201a8\"],[0.3333333333333333,\"#9c179e\"],[0.4444444444444444,\"#bd3786\"],[0.5555555555555556,\"#d8576b\"],[0.6666666666666666,\"#ed7953\"],[0.7777777777777778,\"#fb9f3a\"],[0.8888888888888888,\"#fdca26\"],[1.0,\"#f0f921\"]],\"type\":\"surface\"}],\"table\":[{\"cells\":{\"fill\":{\"color\":\"#EBF0F8\"},\"line\":{\"color\":\"white\"}},\"header\":{\"fill\":{\"color\":\"#C8D4E3\"},\"line\":{\"color\":\"white\"}},\"type\":\"table\"}]},\"layout\":{\"annotationdefaults\":{\"arrowcolor\":\"#2a3f5f\",\"arrowhead\":0,\"arrowwidth\":1},\"autotypenumbers\":\"strict\",\"coloraxis\":{\"colorbar\":{\"outlinewidth\":0,\"ticks\":\"\"}},\"colorscale\":{\"diverging\":[[0,\"#8e0152\"],[0.1,\"#c51b7d\"],[0.2,\"#de77ae\"],[0.3,\"#f1b6da\"],[0.4,\"#fde0ef\"],[0.5,\"#f7f7f7\"],[0.6,\"#e6f5d0\"],[0.7,\"#b8e186\"],[0.8,\"#7fbc41\"],[0.9,\"#4d9221\"],[1,\"#276419\"]],\"sequential\":[[0.0,\"#0d0887\"],[0.1111111111111111,\"#46039f\"],[0.2222222222222222,\"#7201a8\"],[0.3333333333333333,\"#9c179e\"],[0.4444444444444444,\"#bd3786\"],[0.5555555555555556,\"#d8576b\"],[0.6666666666666666,\"#ed7953\"],[0.7777777777777778,\"#fb9f3a\"],[0.8888888888888888,\"#fdca26\"],[1.0,\"#f0f921\"]],\"sequentialminus\":[[0.0,\"#0d0887\"],[0.1111111111111111,\"#46039f\"],[0.2222222222222222,\"#7201a8\"],[0.3333333333333333,\"#9c179e\"],[0.4444444444444444,\"#bd3786\"],[0.5555555555555556,\"#d8576b\"],[0.6666666666666666,\"#ed7953\"],[0.7777777777777778,\"#fb9f3a\"],[0.8888888888888888,\"#fdca26\"],[1.0,\"#f0f921\"]]},\"colorway\":[\"#636efa\",\"#EF553B\",\"#00cc96\",\"#ab63fa\",\"#FFA15A\",\"#19d3f3\",\"#FF6692\",\"#B6E880\",\"#FF97FF\",\"#FECB52\"],\"font\":{\"color\":\"#2a3f5f\"},\"geo\":{\"bgcolor\":\"white\",\"lakecolor\":\"white\",\"landcolor\":\"#E5ECF6\",\"showlakes\":true,\"showland\":true,\"subunitcolor\":\"white\"},\"hoverlabel\":{\"align\":\"left\"},\"hovermode\":\"closest\",\"mapbox\":{\"style\":\"light\"},\"paper_bgcolor\":\"white\",\"plot_bgcolor\":\"#E5ECF6\",\"polar\":{\"angularaxis\":{\"gridcolor\":\"white\",\"linecolor\":\"white\",\"ticks\":\"\"},\"bgcolor\":\"#E5ECF6\",\"radialaxis\":{\"gridcolor\":\"white\",\"linecolor\":\"white\",\"ticks\":\"\"}},\"scene\":{\"xaxis\":{\"backgroundcolor\":\"#E5ECF6\",\"gridcolor\":\"white\",\"gridwidth\":2,\"linecolor\":\"white\",\"showbackground\":true,\"ticks\":\"\",\"zerolinecolor\":\"white\"},\"yaxis\":{\"backgroundcolor\":\"#E5ECF6\",\"gridcolor\":\"white\",\"gridwidth\":2,\"linecolor\":\"white\",\"showbackground\":true,\"ticks\":\"\",\"zerolinecolor\":\"white\"},\"zaxis\":{\"backgroundcolor\":\"#E5ECF6\",\"gridcolor\":\"white\",\"gridwidth\":2,\"linecolor\":\"white\",\"showbackground\":true,\"ticks\":\"\",\"zerolinecolor\":\"white\"}},\"shapedefaults\":{\"line\":{\"color\":\"#2a3f5f\"}},\"ternary\":{\"aaxis\":{\"gridcolor\":\"white\",\"linecolor\":\"white\",\"ticks\":\"\"},\"baxis\":{\"gridcolor\":\"white\",\"linecolor\":\"white\",\"ticks\":\"\"},\"bgcolor\":\"#E5ECF6\",\"caxis\":{\"gridcolor\":\"white\",\"linecolor\":\"white\",\"ticks\":\"\"}},\"title\":{\"x\":0.05},\"xaxis\":{\"automargin\":true,\"gridcolor\":\"white\",\"linecolor\":\"white\",\"ticks\":\"\",\"title\":{\"standoff\":15},\"zerolinecolor\":\"white\",\"zerolinewidth\":2},\"yaxis\":{\"automargin\":true,\"gridcolor\":\"white\",\"linecolor\":\"white\",\"ticks\":\"\",\"title\":{\"standoff\":15},\"zerolinecolor\":\"white\",\"zerolinewidth\":2}}},\"title\":{\"text\":\"Radius of Gyration\"},\"xaxis\":{\"title\":{\"text\":\"Time (ps)\"}},\"yaxis\":{\"title\":{\"text\":\"Rgyr (nm)\"}}},                        {\"responsive\": true}                    ).then(function(){\n",
       "                            \n",
       "var gd = document.getElementById('ca9ae090-35c8-44c4-aa52-71b9ba3b826e');\n",
       "var x = new MutationObserver(function (mutations, observer) {{\n",
       "        var display = window.getComputedStyle(gd).display;\n",
       "        if (!display || display === 'none') {{\n",
       "            console.log([gd, 'removed!']);\n",
       "            Plotly.purge(gd);\n",
       "            observer.disconnect();\n",
       "        }}\n",
       "}});\n",
       "\n",
       "// Listen for the removal of the full notebook cells\n",
       "var notebookContainer = gd.closest('#notebook-container');\n",
       "if (notebookContainer) {{\n",
       "    x.observe(notebookContainer, {childList: true});\n",
       "}}\n",
       "\n",
       "// Listen for the clearing of the current output cell\n",
       "var outputEl = gd.closest('.output');\n",
       "if (outputEl) {{\n",
       "    x.observe(outputEl, {childList: true});\n",
       "}}\n",
       "\n",
       "                        })                };                });            </script>        </div>"
      ]
     },
     "metadata": {},
     "output_type": "display_data"
    }
   ],
   "source": [
    "import plotly\n",
    "import plotly.graph_objs as go\n",
    "\n",
    "# Read Rgyr data from file \n",
    "with open(output_rgyr,'r') as rgyr_file:\n",
    "    x,y = map(\n",
    "        list,\n",
    "        zip(*[\n",
    "            (float(line.split()[0]),float(line.split()[1]))\n",
    "            for line in rgyr_file \n",
    "            if not line.startswith((\"#\",\"@\")) \n",
    "        ])\n",
    "    )\n",
    "\n",
    "plotly.offline.init_notebook_mode(connected=True)\n",
    "\n",
    "fig = {\n",
    "    \"data\": [go.Scatter(x=x, y=y)],\n",
    "    \"layout\": go.Layout(title=\"Radius of Gyration\",\n",
    "                        xaxis=dict(title = \"Time (ps)\"),\n",
    "                        yaxis=dict(title = \"Rgyr (nm)\")\n",
    "                       )\n",
    "}\n",
    "\n",
    "plotly.offline.iplot(fig)"
   ]
  },
  {
   "cell_type": "markdown",
   "metadata": {},
   "source": [
    "<a id=\"post\"></a>\n",
    "***\n",
    "## Post-processing and Visualizing resulting 3D trajectory\n",
    "Post-processing and Visualizing the **protein system** MD setup **resulting trajectory** using **NGL**\n",
    "- [Step 1](#ppStep1): *Imaging* the resulting trajectory, **stripping out water molecules and ions** and **correcting periodicity issues**.\n",
    "- [Step 2](#ppStep2): Generating a *dry* structure, **removing water molecules and ions** from the final snapshot of the MD setup pipeline.\n",
    "- [Step 3](#ppStep3): Visualizing the *imaged* trajectory using the *dry* structure as a **topology**. \n",
    "***\n",
    "**Building Blocks** used:\n",
    " - [GMXImage](https://biobb-analysis.readthedocs.io/en/latest/gromacs.html#module-gromacs.gmx_image) from **biobb_analysis.gromacs.gmx_image** \n",
    " - [GMXTrjConvStr](https://biobb-analysis.readthedocs.io/en/latest/gromacs.html#module-gromacs.gmx_trjconv_str) from **biobb_analysis.gromacs.gmx_trjconv_str** \n",
    "***"
   ]
  },
  {
   "cell_type": "markdown",
   "metadata": {},
   "source": [
    "<a id=\"ppStep1\"></a>\n",
    "### Step 1: *Imaging* the resulting trajectory.\n",
    "Stripping out **water molecules and ions** and **correcting periodicity issues**  "
   ]
  },
  {
   "cell_type": "code",
   "execution_count": 36,
   "metadata": {},
   "outputs": [
    {
     "name": "stdout",
     "output_type": "stream",
     "text": [
      "2022-04-26 19:43:16,585 [MainThread  ] [INFO ]  Not using any container\n",
      "2022-04-26 19:43:16,916 [MainThread  ] [INFO ]  echo \"Protein\" \"Protein\" | gmx trjconv -f /home/ma/git/druglord/temp/6V23/6V23_md.trr -s /home/ma/git/druglord/temp/6V23/6V23_gppmd.tpr -fit none -o 6V23_imaged_traj.trr -center -pbc mol -ur compact\n",
      "\n",
      "2022-04-26 19:43:16,918 [MainThread  ] [INFO ]  Exit code 0\n",
      "\n",
      "2022-04-26 19:43:16,919 [MainThread  ] [INFO ]  Note that major changes are planned in future for trjconv, to improve usability and utility.Select group for centering\n",
      "Selected 1: 'Protein'\n",
      "Select group for output\n",
      "Selected 1: 'Protein'\n",
      "\n",
      "2022-04-26 19:43:16,920 [MainThread  ] [INFO ]                       :-) GROMACS - gmx trjconv, 2019.1 (-:\n",
      "\n",
      "                            GROMACS is written by:\n",
      "     Emile Apol      Rossen Apostolov      Paul Bauer     Herman J.C. Berendsen\n",
      "    Par Bjelkmar      Christian Blau   Viacheslav Bolnykh     Kevin Boyd    \n",
      " Aldert van Buuren   Rudi van Drunen     Anton Feenstra       Alan Gray     \n",
      "  Gerrit Groenhof     Anca Hamuraru    Vincent Hindriksen  M. Eric Irrgang  \n",
      "  Aleksei Iupinov   Christoph Junghans     Joe Jordan     Dimitrios Karkoulis\n",
      "    Peter Kasson        Jiri Kraus      Carsten Kutzner      Per Larsson    \n",
      "  Justin A. Lemkul    Viveca Lindahl    Magnus Lundborg     Erik Marklund   \n",
      "    Pascal Merz     Pieter Meulenhoff    Teemu Murtola       Szilard Pall   \n",
      "    Sander Pronk      Roland Schulz      Michael Shirts    Alexey Shvetsov  \n",
      "   Alfons Sijbers     Peter Tieleman      Jon Vincent      Teemu Virolainen \n",
      " Christian Wennberg    Maarten Wolf   \n",
      "                           and the project leaders:\n",
      "        Mark Abraham, Berk Hess, Erik Lindahl, and David van der Spoel\n",
      "\n",
      "Copyright (c) 1991-2000, University of Groningen, The Netherlands.\n",
      "Copyright (c) 2001-2018, The GROMACS development team at\n",
      "Uppsala University, Stockholm University and\n",
      "the Royal Institute of Technology, Sweden.\n",
      "check out http://www.gromacs.org for more information.\n",
      "\n",
      "GROMACS is free software; you can redistribute it and/or modify it\n",
      "under the terms of the GNU Lesser General Public License\n",
      "as published by the Free Software Foundation; either version 2.1\n",
      "of the License, or (at your option) any later version.\n",
      "\n",
      "GROMACS:      gmx trjconv, version 2019.1\n",
      "Executable:   /home/ma/miniconda3/envs/druglord/bin/gmx\n",
      "Data prefix:  /home/ma/miniconda3/envs/druglord\n",
      "Working dir:  /home/ma/git/druglord/temp/6V23\n",
      "Command line:\n",
      "  gmx trjconv -f /home/ma/git/druglord/temp/6V23/6V23_md.trr -s /home/ma/git/druglord/temp/6V23/6V23_gppmd.tpr -fit none -o 6V23_imaged_traj.trr -center -pbc mol -ur compact\n",
      "\n",
      "Will write trr: Trajectory in portable xdr format\n",
      "Reading file /home/ma/git/druglord/temp/6V23/6V23_gppmd.tpr, VERSION 2019.1 (single precision)\n",
      "Reading file /home/ma/git/druglord/temp/6V23/6V23_gppmd.tpr, VERSION 2019.1 (single precision)\n",
      "Group     0 (         System) has 90419 elements\n",
      "Group     1 (        Protein) has  4721 elements\n",
      "Group     2 (      Protein-H) has  2368 elements\n",
      "Group     3 (        C-alpha) has   315 elements\n",
      "Group     4 (       Backbone) has   945 elements\n",
      "Group     5 (      MainChain) has  1261 elements\n",
      "Group     6 (   MainChain+Cb) has  1551 elements\n",
      "Group     7 (    MainChain+H) has  1565 elements\n",
      "Group     8 (      SideChain) has  3156 elements\n",
      "Group     9 (    SideChain-H) has  1107 elements\n",
      "Group    10 (    Prot-Masses) has  4721 elements\n",
      "Group    11 (    non-Protein) has 85698 elements\n",
      "Group    12 (          Water) has 85638 elements\n",
      "Group    13 (            SOL) has 85638 elements\n",
      "Group    14 (      non-Water) has  4781 elements\n",
      "Group    15 (            Ion) has    60 elements\n",
      "Group    16 (             NA) has    32 elements\n",
      "Group    17 (             CL) has    28 elements\n",
      "Group    18 ( Water_and_ions) has 85698 elements\n",
      "Select a group: Group     0 (         System) has 90419 elements\n",
      "Group     1 (        Protein) has  4721 elements\n",
      "Group     2 (      Protein-H) has  2368 elements\n",
      "Group     3 (        C-alpha) has   315 elements\n",
      "Group     4 (       Backbone) has   945 elements\n",
      "Group     5 (      MainChain) has  1261 elements\n",
      "Group     6 (   MainChain+Cb) has  1551 elements\n",
      "Group     7 (    MainChain+H) has  1565 elements\n",
      "Group     8 (      SideChain) has  3156 elements\n",
      "Group     9 (    SideChain-H) has  1107 elements\n",
      "Group    10 (    Prot-Masses) has  4721 elements\n",
      "Group    11 (    non-Protein) has 85698 elements\n",
      "Group    12 (          Water) has 85638 elements\n",
      "Group    13 (            SOL) has 85638 elements\n",
      "Group    14 (      non-Water) has  4781 elements\n",
      "Group    15 (            Ion) has    60 elements\n",
      "Group    16 (             NA) has    32 elements\n",
      "Group    17 (             CL) has    28 elements\n",
      "Group    18 ( Water_and_ions) has 85698 elements\n",
      "Select a group: trr version: GMX_trn_file (single precision)\n",
      "Last frame         10 time  100.000    ->  frame     10 time  100.000      \n",
      "\n",
      "\n",
      "GROMACS reminds you: \"History has expired\" (PubMed Central)\n",
      "\n",
      "\n"
     ]
    },
    {
     "data": {
      "text/plain": [
       "0"
      ]
     },
     "execution_count": 36,
     "metadata": {},
     "output_type": "execute_result"
    }
   ],
   "source": [
    "# GMXImage: \"Imaging\" the resulting trajectory\n",
    "#           Removing water molecules and ions from the resulting structure\n",
    "from biobb_analysis.gromacs.gmx_image import gmx_image\n",
    "\n",
    "# Create prop dict and inputs/outputs\n",
    "output_imaged_traj = pdbCode+'_imaged_traj.trr'\n",
    "prop = {\n",
    "    'center_selection':  'Protein',\n",
    "    'output_selection': 'Protein',\n",
    "    'pbc' : 'mol',\n",
    "    'center' : True\n",
    "}\n",
    "\n",
    "# Create and launch bb\n",
    "gmx_image(input_traj_path=output_md_trr,\n",
    "         input_top_path=output_gppmd_tpr,\n",
    "         output_traj_path=output_imaged_traj, \n",
    "          properties=prop)"
   ]
  },
  {
   "cell_type": "markdown",
   "metadata": {},
   "source": [
    "<a id=\"ppStep2\"></a>\n",
    "### Step 2: Generating the output *dry* structure.\n",
    "**Removing water molecules and ions** from the resulting structure"
   ]
  },
  {
   "cell_type": "code",
   "execution_count": 37,
   "metadata": {},
   "outputs": [
    {
     "name": "stdout",
     "output_type": "stream",
     "text": [
      "2022-04-26 19:43:17,186 [MainThread  ] [INFO ]  Not using any container\n",
      "2022-04-26 19:43:17,557 [MainThread  ] [INFO ]  echo \"Protein\" | gmx trjconv -f /home/ma/git/druglord/temp/6V23/6V23_md.gro -s /home/ma/git/druglord/temp/6V23/6V23_gppmd.tpr -o 6V23_md_dry.gro\n",
      "\n",
      "2022-04-26 19:43:17,559 [MainThread  ] [INFO ]  Exit code 0\n",
      "\n",
      "2022-04-26 19:43:17,560 [MainThread  ] [INFO ]  Note that major changes are planned in future for trjconv, to improve usability and utility.Select group for output\n",
      "Selected 1: 'Protein'\n",
      "\n",
      "2022-04-26 19:43:17,561 [MainThread  ] [INFO ]                       :-) GROMACS - gmx trjconv, 2019.1 (-:\n",
      "\n",
      "                            GROMACS is written by:\n",
      "     Emile Apol      Rossen Apostolov      Paul Bauer     Herman J.C. Berendsen\n",
      "    Par Bjelkmar      Christian Blau   Viacheslav Bolnykh     Kevin Boyd    \n",
      " Aldert van Buuren   Rudi van Drunen     Anton Feenstra       Alan Gray     \n",
      "  Gerrit Groenhof     Anca Hamuraru    Vincent Hindriksen  M. Eric Irrgang  \n",
      "  Aleksei Iupinov   Christoph Junghans     Joe Jordan     Dimitrios Karkoulis\n",
      "    Peter Kasson        Jiri Kraus      Carsten Kutzner      Per Larsson    \n",
      "  Justin A. Lemkul    Viveca Lindahl    Magnus Lundborg     Erik Marklund   \n",
      "    Pascal Merz     Pieter Meulenhoff    Teemu Murtola       Szilard Pall   \n",
      "    Sander Pronk      Roland Schulz      Michael Shirts    Alexey Shvetsov  \n",
      "   Alfons Sijbers     Peter Tieleman      Jon Vincent      Teemu Virolainen \n",
      " Christian Wennberg    Maarten Wolf   \n",
      "                           and the project leaders:\n",
      "        Mark Abraham, Berk Hess, Erik Lindahl, and David van der Spoel\n",
      "\n",
      "Copyright (c) 1991-2000, University of Groningen, The Netherlands.\n",
      "Copyright (c) 2001-2018, The GROMACS development team at\n",
      "Uppsala University, Stockholm University and\n",
      "the Royal Institute of Technology, Sweden.\n",
      "check out http://www.gromacs.org for more information.\n",
      "\n",
      "GROMACS is free software; you can redistribute it and/or modify it\n",
      "under the terms of the GNU Lesser General Public License\n",
      "as published by the Free Software Foundation; either version 2.1\n",
      "of the License, or (at your option) any later version.\n",
      "\n",
      "GROMACS:      gmx trjconv, version 2019.1\n",
      "Executable:   /home/ma/miniconda3/envs/druglord/bin/gmx\n",
      "Data prefix:  /home/ma/miniconda3/envs/druglord\n",
      "Working dir:  /home/ma/git/druglord/temp/6V23\n",
      "Command line:\n",
      "  gmx trjconv -f /home/ma/git/druglord/temp/6V23/6V23_md.gro -s /home/ma/git/druglord/temp/6V23/6V23_gppmd.tpr -o 6V23_md_dry.gro\n",
      "\n",
      "Will write gro: Coordinate file in Gromos-87 format\n",
      "Reading file /home/ma/git/druglord/temp/6V23/6V23_gppmd.tpr, VERSION 2019.1 (single precision)\n",
      "Reading file /home/ma/git/druglord/temp/6V23/6V23_gppmd.tpr, VERSION 2019.1 (single precision)\n",
      "Group     0 (         System) has 90419 elements\n",
      "Group     1 (        Protein) has  4721 elements\n",
      "Group     2 (      Protein-H) has  2368 elements\n",
      "Group     3 (        C-alpha) has   315 elements\n",
      "Group     4 (       Backbone) has   945 elements\n",
      "Group     5 (      MainChain) has  1261 elements\n",
      "Group     6 (   MainChain+Cb) has  1551 elements\n",
      "Group     7 (    MainChain+H) has  1565 elements\n",
      "Group     8 (      SideChain) has  3156 elements\n",
      "Group     9 (    SideChain-H) has  1107 elements\n",
      "Group    10 (    Prot-Masses) has  4721 elements\n",
      "Group    11 (    non-Protein) has 85698 elements\n",
      "Group    12 (          Water) has 85638 elements\n",
      "Group    13 (            SOL) has 85638 elements\n",
      "Group    14 (      non-Water) has  4781 elements\n",
      "Group    15 (            Ion) has    60 elements\n",
      "Group    16 (             NA) has    32 elements\n",
      "Group    17 (             CL) has    28 elements\n",
      "Group    18 ( Water_and_ions) has 85698 elements\n",
      "Select a group: Reading frames from gro file 'Protein in water', 90419 atoms.\n",
      "Reading frame       0 time    0.000   \n",
      "Precision of /home/ma/git/druglord/temp/6V23/6V23_md.gro is 0.001 (nm)\n",
      "Last frame          0 time    0.000   \n",
      "\n",
      "\n",
      "GROMACS reminds you: \"Out Of Register Space (Ugh)\" (Vi)\n",
      "\n",
      "\n"
     ]
    },
    {
     "data": {
      "text/plain": [
       "0"
      ]
     },
     "execution_count": 37,
     "metadata": {},
     "output_type": "execute_result"
    }
   ],
   "source": [
    "# GMXTrjConvStr: Converting and/or manipulating a structure\n",
    "#                Removing water molecules and ions from the resulting structure\n",
    "#                The \"dry\" structure will be used as a topology to visualize \n",
    "#                the \"imaged dry\" trajectory generated in the previous step.\n",
    "from biobb_analysis.gromacs.gmx_trjconv_str import gmx_trjconv_str\n",
    "\n",
    "# Create prop dict and inputs/outputs\n",
    "output_dry_gro = pdbCode+'_md_dry.gro'\n",
    "prop = {\n",
    "    'selection':  'Protein'\n",
    "}\n",
    "\n",
    "# Create and launch bb\n",
    "gmx_trjconv_str(input_structure_path=output_md_gro,\n",
    "         input_top_path=output_gppmd_tpr,\n",
    "         output_str_path=output_dry_gro, \n",
    "          properties=prop)"
   ]
  },
  {
   "cell_type": "markdown",
   "metadata": {},
   "source": [
    "<a id=\"ppStep3\"></a>\n",
    "### Step 3: Visualizing the generated dehydrated trajectory.\n",
    "Using the **imaged trajectory** (output of the [Post-processing step 1](#ppStep1)) with the **dry structure** (output of the [Post-processing step 2](#ppStep2)) as a topology."
   ]
  },
  {
   "cell_type": "code",
   "execution_count": 38,
   "metadata": {},
   "outputs": [
    {
     "data": {
      "application/vnd.jupyter.widget-view+json": {
       "model_id": "7638516f53ea4bcb90f3575d4e5fb5cd",
       "version_major": 2,
       "version_minor": 0
      },
      "text/plain": [
       "NGLWidget(max_frame=10)"
      ]
     },
     "metadata": {},
     "output_type": "display_data"
    },
    {
     "data": {
      "application/vnd.jupyter.widget-view+json": {
       "model_id": "dcaefe1c2500413fb18ca8d43c91db35",
       "version_major": 2,
       "version_minor": 0
      },
      "text/plain": [
       "Tab(children=(Box(children=(Box(children=(Box(children=(Label(value='step'), IntSlider(value=1, min=-100)), la…"
      ]
     },
     "metadata": {},
     "output_type": "display_data"
    }
   ],
   "source": [
    "# Show trajectory\n",
    "view = nglview.show_simpletraj(nglview.SimpletrajTrajectory(output_imaged_traj, output_dry_gro), gui=True)\n",
    "view"
   ]
  },
  {
   "cell_type": "markdown",
   "metadata": {
    "variables": {
     "output_genion_top_zip": "1AKI_genion_top.zip",
     "output_gppmd_tpr": "1AKI_gppmd.tpr",
     "output_md_cpt": "1AKI_md.cpt",
     "output_md_gro": "1AKI_md.gro",
     "output_md_trr": "1AKI_md.trr",
     "output_rgyr": "1AKI_rgyr.xvg",
     "output_rms_exp": "1AKI_rms_exp.xvg",
     "output_rms_first": "1AKI_rms_first.xvg"
    }
   },
   "source": [
    "<a id=\"output\"></a>\n",
    "## Output files\n",
    "\n",
    "Important **Output files** generated:\n",
    " - {{output_md_gro}}: **Final structure** (snapshot) of the MD setup protocol.\n",
    " - {{output_md_trr}}: **Final trajectory** of the MD setup protocol.\n",
    " - {{output_md_cpt}}: **Final checkpoint file**, with information about the state of the simulation. It can be used to **restart** or **continue** a MD simulation.\n",
    " - {{output_gppmd_tpr}}: **Final tpr file**, GROMACS portable binary run input file. This file contains the starting structure of the **MD setup free MD simulation step**, together with the molecular topology and all the simulation parameters. It can be used to **extend** the simulation.\n",
    " - {{output_genion_top_zip}}: **Final topology** of the MD system. It is a compressed zip file including a **topology file** (.top) and a set of auxiliar **include topology** files (.itp).\n",
    "\n",
    "**Analysis** (MD setup check) output files generated:\n",
    " - {{output_rms_first}}: **Root Mean Square deviation (RMSd)** against **minimized and equilibrated structure** of the final **free MD run step**.\n",
    " - {{output_rms_exp}}: **Root Mean Square deviation (RMSd)** against **experimental structure** of the final **free MD run step**.\n",
    " - {{output_rgyr}}: **Radius of Gyration** of the final **free MD run step** of the **setup pipeline**.\n",
    " "
   ]
  },
  {
   "cell_type": "markdown",
   "metadata": {},
   "source": [
    "***\n",
    "<a id=\"questions\"></a>\n",
    "\n",
    "## Questions & Comments\n",
    "\n",
    "Questions, issues, suggestions and comments are really welcome!\n",
    "\n",
    "* GitHub issues:\n",
    "    * [https://github.com/bioexcel/biobb](https://github.com/bioexcel/biobb)\n",
    "\n",
    "* BioExcel forum:\n",
    "    * [https://ask.bioexcel.eu/c/BioExcel-Building-Blocks-library](https://ask.bioexcel.eu/c/BioExcel-Building-Blocks-library)\n"
   ]
  }
 ],
 "metadata": {
  "kernelspec": {
   "display_name": "Python 3",
   "language": "python",
   "name": "python3"
  },
  "language_info": {
   "codemirror_mode": {
    "name": "ipython",
    "version": 3
   },
   "file_extension": ".py",
   "mimetype": "text/x-python",
   "name": "python",
   "nbconvert_exporter": "python",
   "pygments_lexer": "ipython3",
   "version": "3.7.12"
  }
 },
 "nbformat": 4,
 "nbformat_minor": 2
}
