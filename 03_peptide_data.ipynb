{
 "cells": [
  {
   "cell_type": "code",
   "execution_count": 2,
   "metadata": {},
   "outputs": [],
   "source": [
    "import pandas as pd\n",
    "import numpy as np"
   ]
  },
  {
   "cell_type": "code",
   "execution_count": 3,
   "metadata": {},
   "outputs": [],
   "source": [
    "file_name = '/mnt/storage2/molmap_features/IEDB/IEDB_human_epitopes_profeat_des.csv'\n",
    "dataX = pd.read_csv(file_name)"
   ]
  },
  {
   "cell_type": "code",
   "execution_count": 4,
   "metadata": {},
   "outputs": [
    {
     "data": {
      "text/html": [
       "<div>\n",
       "<style scoped>\n",
       "    .dataframe tbody tr th:only-of-type {\n",
       "        vertical-align: middle;\n",
       "    }\n",
       "\n",
       "    .dataframe tbody tr th {\n",
       "        vertical-align: top;\n",
       "    }\n",
       "\n",
       "    .dataframe thead th {\n",
       "        text-align: right;\n",
       "    }\n",
       "</style>\n",
       "<table border=\"1\" class=\"dataframe\">\n",
       "  <thead>\n",
       "    <tr style=\"text-align: right;\">\n",
       "      <th></th>\n",
       "      <th>1</th>\n",
       "      <th>2</th>\n",
       "      <th>3</th>\n",
       "      <th>4</th>\n",
       "      <th>5</th>\n",
       "      <th>6</th>\n",
       "      <th>7</th>\n",
       "      <th>8</th>\n",
       "      <th>9</th>\n",
       "      <th>10</th>\n",
       "      <th>...</th>\n",
       "      <th>1087</th>\n",
       "      <th>1088</th>\n",
       "      <th>1089</th>\n",
       "      <th>1090</th>\n",
       "      <th>1091</th>\n",
       "      <th>1092</th>\n",
       "      <th>1093</th>\n",
       "      <th>1094</th>\n",
       "      <th>1095</th>\n",
       "      <th>1096</th>\n",
       "    </tr>\n",
       "  </thead>\n",
       "  <tbody>\n",
       "    <tr>\n",
       "      <th>0</th>\n",
       "      <td>1.0000</td>\n",
       "      <td>0.0000</td>\n",
       "      <td>0.0</td>\n",
       "      <td>0.0</td>\n",
       "      <td>0.0</td>\n",
       "      <td>0.000000</td>\n",
       "      <td>0.0</td>\n",
       "      <td>0.0</td>\n",
       "      <td>0.0</td>\n",
       "      <td>0.0000</td>\n",
       "      <td>...</td>\n",
       "      <td>0.512640</td>\n",
       "      <td>0.582634</td>\n",
       "      <td>0.514016</td>\n",
       "      <td>0.506384</td>\n",
       "      <td>0.556925</td>\n",
       "      <td>0.507065</td>\n",
       "      <td>0.199633</td>\n",
       "      <td>0.116693</td>\n",
       "      <td>0.334534</td>\n",
       "      <td>0.0</td>\n",
       "    </tr>\n",
       "    <tr>\n",
       "      <th>1</th>\n",
       "      <td>0.7778</td>\n",
       "      <td>0.0000</td>\n",
       "      <td>0.0</td>\n",
       "      <td>0.0</td>\n",
       "      <td>0.0</td>\n",
       "      <td>0.000000</td>\n",
       "      <td>0.0</td>\n",
       "      <td>0.0</td>\n",
       "      <td>0.0</td>\n",
       "      <td>0.1111</td>\n",
       "      <td>...</td>\n",
       "      <td>0.496890</td>\n",
       "      <td>0.482969</td>\n",
       "      <td>0.452348</td>\n",
       "      <td>0.385068</td>\n",
       "      <td>0.549749</td>\n",
       "      <td>0.461015</td>\n",
       "      <td>0.132176</td>\n",
       "      <td>0.094189</td>\n",
       "      <td>0.218451</td>\n",
       "      <td>0.0</td>\n",
       "    </tr>\n",
       "    <tr>\n",
       "      <th>2</th>\n",
       "      <td>0.5556</td>\n",
       "      <td>0.0000</td>\n",
       "      <td>0.0</td>\n",
       "      <td>0.0</td>\n",
       "      <td>0.0</td>\n",
       "      <td>0.124176</td>\n",
       "      <td>0.0</td>\n",
       "      <td>0.0</td>\n",
       "      <td>0.0</td>\n",
       "      <td>0.0000</td>\n",
       "      <td>...</td>\n",
       "      <td>0.517469</td>\n",
       "      <td>0.557328</td>\n",
       "      <td>0.575992</td>\n",
       "      <td>0.483680</td>\n",
       "      <td>0.551038</td>\n",
       "      <td>0.482151</td>\n",
       "      <td>0.149907</td>\n",
       "      <td>0.141303</td>\n",
       "      <td>0.165363</td>\n",
       "      <td>0.0</td>\n",
       "    </tr>\n",
       "    <tr>\n",
       "      <th>3</th>\n",
       "      <td>0.7778</td>\n",
       "      <td>0.0000</td>\n",
       "      <td>0.0</td>\n",
       "      <td>0.0</td>\n",
       "      <td>0.0</td>\n",
       "      <td>0.000000</td>\n",
       "      <td>0.0</td>\n",
       "      <td>0.0</td>\n",
       "      <td>0.0</td>\n",
       "      <td>0.1111</td>\n",
       "      <td>...</td>\n",
       "      <td>0.496567</td>\n",
       "      <td>0.482107</td>\n",
       "      <td>0.497899</td>\n",
       "      <td>0.419567</td>\n",
       "      <td>0.478458</td>\n",
       "      <td>0.351298</td>\n",
       "      <td>0.132176</td>\n",
       "      <td>0.094189</td>\n",
       "      <td>0.218451</td>\n",
       "      <td>0.0</td>\n",
       "    </tr>\n",
       "    <tr>\n",
       "      <th>4</th>\n",
       "      <td>0.5556</td>\n",
       "      <td>0.2222</td>\n",
       "      <td>0.0</td>\n",
       "      <td>0.0</td>\n",
       "      <td>0.0</td>\n",
       "      <td>0.000000</td>\n",
       "      <td>0.0</td>\n",
       "      <td>0.0</td>\n",
       "      <td>0.0</td>\n",
       "      <td>0.1111</td>\n",
       "      <td>...</td>\n",
       "      <td>0.526458</td>\n",
       "      <td>0.561298</td>\n",
       "      <td>0.525251</td>\n",
       "      <td>0.481343</td>\n",
       "      <td>0.564042</td>\n",
       "      <td>0.485438</td>\n",
       "      <td>0.127182</td>\n",
       "      <td>0.103315</td>\n",
       "      <td>0.185615</td>\n",
       "      <td>0.0</td>\n",
       "    </tr>\n",
       "  </tbody>\n",
       "</table>\n",
       "<p>5 rows × 1096 columns</p>\n",
       "</div>"
      ],
      "text/plain": [
       "        1       2    3    4    5         6    7    8    9      10  ...  \\\n",
       "0  1.0000  0.0000  0.0  0.0  0.0  0.000000  0.0  0.0  0.0  0.0000  ...   \n",
       "1  0.7778  0.0000  0.0  0.0  0.0  0.000000  0.0  0.0  0.0  0.1111  ...   \n",
       "2  0.5556  0.0000  0.0  0.0  0.0  0.124176  0.0  0.0  0.0  0.0000  ...   \n",
       "3  0.7778  0.0000  0.0  0.0  0.0  0.000000  0.0  0.0  0.0  0.1111  ...   \n",
       "4  0.5556  0.2222  0.0  0.0  0.0  0.000000  0.0  0.0  0.0  0.1111  ...   \n",
       "\n",
       "       1087      1088      1089      1090      1091      1092      1093  \\\n",
       "0  0.512640  0.582634  0.514016  0.506384  0.556925  0.507065  0.199633   \n",
       "1  0.496890  0.482969  0.452348  0.385068  0.549749  0.461015  0.132176   \n",
       "2  0.517469  0.557328  0.575992  0.483680  0.551038  0.482151  0.149907   \n",
       "3  0.496567  0.482107  0.497899  0.419567  0.478458  0.351298  0.132176   \n",
       "4  0.526458  0.561298  0.525251  0.481343  0.564042  0.485438  0.127182   \n",
       "\n",
       "       1094      1095  1096  \n",
       "0  0.116693  0.334534   0.0  \n",
       "1  0.094189  0.218451   0.0  \n",
       "2  0.141303  0.165363   0.0  \n",
       "3  0.094189  0.218451   0.0  \n",
       "4  0.103315  0.185615   0.0  \n",
       "\n",
       "[5 rows x 1096 columns]"
      ]
     },
     "execution_count": 4,
     "metadata": {},
     "output_type": "execute_result"
    }
   ],
   "source": [
    "dataX.head()"
   ]
  },
  {
   "cell_type": "code",
   "execution_count": 5,
   "metadata": {},
   "outputs": [
    {
     "data": {
      "text/plain": [
       "(1001249, 1096)"
      ]
     },
     "execution_count": 5,
     "metadata": {},
     "output_type": "execute_result"
    }
   ],
   "source": [
    "dataX.shape"
   ]
  },
  {
   "cell_type": "code",
   "execution_count": 6,
   "metadata": {},
   "outputs": [
    {
     "data": {
      "text/plain": [
       "Index(['1', '2', '3', '4', '5', '6', '7', '8', '9', '10',\n",
       "       ...\n",
       "       '1087', '1088', '1089', '1090', '1091', '1092', '1093', '1094', '1095',\n",
       "       '1096'],\n",
       "      dtype='object', length=1096)"
      ]
     },
     "execution_count": 6,
     "metadata": {},
     "output_type": "execute_result"
    }
   ],
   "source": [
    "dataX.columns"
   ]
  },
  {
   "cell_type": "code",
   "execution_count": 7,
   "metadata": {},
   "outputs": [
    {
     "data": {
      "text/plain": [
       "RangeIndex(start=0, stop=1001249, step=1)"
      ]
     },
     "execution_count": 7,
     "metadata": {},
     "output_type": "execute_result"
    }
   ],
   "source": [
    "dataX.index"
   ]
  },
  {
   "cell_type": "code",
   "execution_count": 6,
   "metadata": {},
   "outputs": [],
   "source": [
    "block_num = 16\n",
    "data_blocks = np.array_split(dataX.values, block_num, axis=1)"
   ]
  },
  {
   "cell_type": "code",
   "execution_count": 8,
   "metadata": {},
   "outputs": [],
   "source": [
    "data_block = data_blocks[0]"
   ]
  },
  {
   "cell_type": "code",
   "execution_count": 9,
   "metadata": {},
   "outputs": [],
   "source": [
    "x = (data_block[..., None] + data_block[:, None, :]) / 2\n"
   ]
  },
  {
   "cell_type": "code",
   "execution_count": 10,
   "metadata": {},
   "outputs": [],
   "source": [
    "x_spread = np.triu(x).reshape(len(dataX), -1)"
   ]
  },
  {
   "cell_type": "code",
   "execution_count": 11,
   "metadata": {},
   "outputs": [
    {
     "data": {
      "text/plain": [
       "(466539, 9409)"
      ]
     },
     "execution_count": 11,
     "metadata": {},
     "output_type": "execute_result"
    }
   ],
   "source": [
    "x_df = pd.DataFrame(x_spread, index=dataX.index)\n",
    "del x, x_spread\n",
    "x_df.shape\n"
   ]
  },
  {
   "cell_type": "code",
   "execution_count": 12,
   "metadata": {},
   "outputs": [
    {
     "data": {
      "text/plain": [
       "(466539, 4753)"
      ]
     },
     "execution_count": 12,
     "metadata": {},
     "output_type": "execute_result"
    }
   ],
   "source": [
    "x_df = x_df.loc[:, (x_df != 0).any(axis=0)]\n",
    "x_df.shape"
   ]
  },
  {
   "cell_type": "code",
   "execution_count": 14,
   "metadata": {},
   "outputs": [],
   "source": [
    "i = 1\n",
    "name = 'self_interact' + str(i) + '.pkl'\n",
    "x_df.to_pickle(name)"
   ]
  },
  {
   "cell_type": "code",
   "execution_count": 16,
   "metadata": {},
   "outputs": [
    {
     "name": "stdout",
     "output_type": "stream",
     "text": [
      "block 1 :\n",
      "\n"
     ]
    }
   ],
   "source": [
    "print('block', i, ':\\n')"
   ]
  },
  {
   "cell_type": "code",
   "execution_count": 19,
   "metadata": {},
   "outputs": [
    {
     "name": "stdout",
     "output_type": "stream",
     "text": [
      "block 0 :\n",
      "\n",
      "data shape: (466539, 9409)\n",
      "data shape, removing all zeros: (466539, 4753)\n",
      "block 0 saved\n",
      "\n",
      "block 1 :\n",
      "\n",
      "data shape: (466539, 9216)\n",
      "data shape, removing all zeros: (466539, 4656)\n",
      "block 1 saved\n",
      "\n",
      "block 2 :\n",
      "\n",
      "data shape: (466539, 9216)\n",
      "data shape, removing all zeros: (466539, 4656)\n",
      "block 2 saved\n",
      "\n",
      "block 3 :\n",
      "\n",
      "data shape: (466539, 9216)\n",
      "data shape, removing all zeros: (466539, 4656)\n",
      "block 3 saved\n",
      "\n",
      "block 4 :\n",
      "\n",
      "data shape: (466539, 9216)\n",
      "data shape, removing all zeros: (466539, 4656)\n",
      "block 4 saved\n",
      "\n",
      "block 5 :\n",
      "\n",
      "data shape: (466539, 9216)\n",
      "data shape, removing all zeros: (466539, 4656)\n",
      "block 5 saved\n",
      "\n",
      "block 6 :\n",
      "\n",
      "data shape: (466539, 9216)\n",
      "data shape, removing all zeros: (466539, 4656)\n",
      "block 6 saved\n",
      "\n",
      "block 7 :\n",
      "\n",
      "data shape: (466539, 9216)\n",
      "data shape, removing all zeros: (466539, 4656)\n",
      "block 7 saved\n",
      "\n",
      "block 8 :\n",
      "\n",
      "data shape: (466539, 9216)\n",
      "data shape, removing all zeros: (466539, 4656)\n",
      "block 8 saved\n",
      "\n",
      "block 9 :\n",
      "\n",
      "data shape: (466539, 9216)\n",
      "data shape, removing all zeros: (466539, 4656)\n",
      "block 9 saved\n",
      "\n",
      "block 10 :\n",
      "\n",
      "data shape: (466539, 9216)\n",
      "data shape, removing all zeros: (466539, 4656)\n",
      "block 10 saved\n",
      "\n",
      "block 11 :\n",
      "\n",
      "data shape: (466539, 9216)\n",
      "data shape, removing all zeros: (466539, 4656)\n",
      "block 11 saved\n",
      "\n",
      "block 12 :\n",
      "\n",
      "data shape: (466539, 9216)\n",
      "data shape, removing all zeros: (466539, 4656)\n",
      "block 12 saved\n",
      "\n",
      "block 13 :\n",
      "\n",
      "data shape: (466539, 9216)\n",
      "data shape, removing all zeros: (466539, 4656)\n",
      "block 13 saved\n",
      "\n",
      "block 14 :\n",
      "\n",
      "data shape: (466539, 9216)\n",
      "data shape, removing all zeros: (466539, 4656)\n",
      "block 14 saved\n",
      "\n",
      "block 15 :\n",
      "\n",
      "data shape: (466539, 9216)\n",
      "data shape, removing all zeros: (466539, 4656)\n",
      "block 15 saved\n",
      "\n"
     ]
    }
   ],
   "source": [
    "for i, data_block in enumerate(data_blocks):\n",
    "    x = (data_block[..., None] + data_block[:, None, :]) / 2\n",
    "    x_spread = np.triu(x).reshape(len(dataX), -1)\n",
    "    x_df = pd.DataFrame(x_spread, index=dataX.index)\n",
    "    del x, x_spread\n",
    "    print('block', i, ':')\n",
    "    print(\"data shape:\", x_df.shape)\n",
    "    x_df = x_df.loc[:, (x_df != 0).any(axis=0)]\n",
    "    print(\"data shape, removing all zeros:\", x_df.shape)\n",
    "    name = 'self_interact' + str(i) + '.pkl'\n",
    "    x_df.to_pickle(name)\n",
    "    print('block', i, 'saved')"
   ]
  }
 ],
 "metadata": {
  "interpreter": {
   "hash": "9d0865d041e67b53219329a2d317362ab3dabc3c39d758892df86351648cfb29"
  },
  "kernelspec": {
   "display_name": "Python 3.6.13 ('molmap')",
   "language": "python",
   "name": "python3"
  },
  "language_info": {
   "codemirror_mode": {
    "name": "ipython",
    "version": 3
   },
   "file_extension": ".py",
   "mimetype": "text/x-python",
   "name": "python",
   "nbconvert_exporter": "python",
   "pygments_lexer": "ipython3",
   "version": "3.7.13"
  },
  "orig_nbformat": 4
 },
 "nbformat": 4,
 "nbformat_minor": 2
}
