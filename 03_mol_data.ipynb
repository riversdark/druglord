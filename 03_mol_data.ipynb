{
 "cells": [
  {
   "cell_type": "code",
   "execution_count": 2,
   "metadata": {},
   "outputs": [],
   "source": [
    "import pandas as pd\n",
    "import numpy as np"
   ]
  },
  {
   "cell_type": "code",
   "execution_count": 3,
   "metadata": {},
   "outputs": [],
   "source": [
    "file_name = '/mnt/storage2/molmap_features/molecule/input/chembl_190w.csv'\n",
    "dataX = pd.read_csv(file_name, nrows=None, index_col=0, header=0)"
   ]
  },
  {
   "cell_type": "code",
   "execution_count": 4,
   "metadata": {},
   "outputs": [
    {
     "data": {
      "text/plain": [
       "(1914852, 1344)"
      ]
     },
     "execution_count": 4,
     "metadata": {},
     "output_type": "execute_result"
    }
   ],
   "source": [
    "dataX.shape"
   ]
  },
  {
   "cell_type": "code",
   "execution_count": 5,
   "metadata": {},
   "outputs": [],
   "source": [
    "dataX.to_pickle('data/mol_data.pkl')"
   ]
  },
  {
   "cell_type": "code",
   "execution_count": 6,
   "metadata": {},
   "outputs": [
    {
     "data": {
      "text/plain": [
       "Index(['MolWeight', 'MolExactWeight', 'MolAverageWeight', 'MolHeavyAtomWeight',\n",
       "       'MolFilterItLogS', 'MolSLogP', 'MolQedWeightsMax', 'MolQedWeightsMean',\n",
       "       'MolQedWeightsNone', 'MolRefractivity',\n",
       "       ...\n",
       "       'MIC2', 'MIC3', 'MIC4', 'MIC5', 'ZMIC0', 'ZMIC1', 'ZMIC2', 'ZMIC3',\n",
       "       'ZMIC4', 'ZMIC5'],\n",
       "      dtype='object', length=1344)"
      ]
     },
     "execution_count": 6,
     "metadata": {},
     "output_type": "execute_result"
    }
   ],
   "source": [
    "dataX.columns"
   ]
  },
  {
   "cell_type": "code",
   "execution_count": 7,
   "metadata": {},
   "outputs": [
    {
     "data": {
      "text/plain": [
       "Int64Index([      0,       1,       2,       3,       4,       5,       6,\n",
       "                  7,       8,       9,\n",
       "            ...\n",
       "            1914842, 1914843, 1914844, 1914845, 1914846, 1914847, 1914848,\n",
       "            1914849, 1914850, 1914851],\n",
       "           dtype='int64', length=1914852)"
      ]
     },
     "execution_count": 7,
     "metadata": {},
     "output_type": "execute_result"
    }
   ],
   "source": [
    "dataX.index"
   ]
  },
  {
   "cell_type": "code",
   "execution_count": 8,
   "metadata": {},
   "outputs": [
    {
     "data": {
      "text/html": [
       "<div>\n",
       "<style scoped>\n",
       "    .dataframe tbody tr th:only-of-type {\n",
       "        vertical-align: middle;\n",
       "    }\n",
       "\n",
       "    .dataframe tbody tr th {\n",
       "        vertical-align: top;\n",
       "    }\n",
       "\n",
       "    .dataframe thead th {\n",
       "        text-align: right;\n",
       "    }\n",
       "</style>\n",
       "<table border=\"1\" class=\"dataframe\">\n",
       "  <thead>\n",
       "    <tr style=\"text-align: right;\">\n",
       "      <th></th>\n",
       "      <th>MolWeight</th>\n",
       "      <th>MolExactWeight</th>\n",
       "      <th>MolAverageWeight</th>\n",
       "      <th>MolHeavyAtomWeight</th>\n",
       "      <th>MolFilterItLogS</th>\n",
       "      <th>MolSLogP</th>\n",
       "      <th>MolQedWeightsMax</th>\n",
       "      <th>MolQedWeightsMean</th>\n",
       "      <th>MolQedWeightsNone</th>\n",
       "      <th>MolRefractivity</th>\n",
       "      <th>...</th>\n",
       "      <th>MIC2</th>\n",
       "      <th>MIC3</th>\n",
       "      <th>MIC4</th>\n",
       "      <th>MIC5</th>\n",
       "      <th>ZMIC0</th>\n",
       "      <th>ZMIC1</th>\n",
       "      <th>ZMIC2</th>\n",
       "      <th>ZMIC3</th>\n",
       "      <th>ZMIC4</th>\n",
       "      <th>ZMIC5</th>\n",
       "    </tr>\n",
       "  </thead>\n",
       "  <tbody>\n",
       "    <tr>\n",
       "      <th>0</th>\n",
       "      <td>0.035425</td>\n",
       "      <td>0.035339</td>\n",
       "      <td>0.054092</td>\n",
       "      <td>0.034746</td>\n",
       "      <td>0.742423</td>\n",
       "      <td>0.308381</td>\n",
       "      <td>0.823080</td>\n",
       "      <td>0.815631</td>\n",
       "      <td>0.819611</td>\n",
       "      <td>0.046126</td>\n",
       "      <td>...</td>\n",
       "      <td>0.350931</td>\n",
       "      <td>0.294212</td>\n",
       "      <td>0.273191</td>\n",
       "      <td>0.274767</td>\n",
       "      <td>0.034388</td>\n",
       "      <td>0.025390</td>\n",
       "      <td>0.020750</td>\n",
       "      <td>0.019093</td>\n",
       "      <td>0.018087</td>\n",
       "      <td>0.017199</td>\n",
       "    </tr>\n",
       "    <tr>\n",
       "      <th>1</th>\n",
       "      <td>0.025311</td>\n",
       "      <td>0.025300</td>\n",
       "      <td>0.042304</td>\n",
       "      <td>0.023890</td>\n",
       "      <td>0.743334</td>\n",
       "      <td>0.318365</td>\n",
       "      <td>0.684874</td>\n",
       "      <td>0.651983</td>\n",
       "      <td>0.673101</td>\n",
       "      <td>0.041805</td>\n",
       "      <td>...</td>\n",
       "      <td>0.239417</td>\n",
       "      <td>0.208126</td>\n",
       "      <td>0.190075</td>\n",
       "      <td>0.190075</td>\n",
       "      <td>0.030123</td>\n",
       "      <td>0.026459</td>\n",
       "      <td>0.018441</td>\n",
       "      <td>0.014361</td>\n",
       "      <td>0.013937</td>\n",
       "      <td>0.014118</td>\n",
       "    </tr>\n",
       "    <tr>\n",
       "      <th>2</th>\n",
       "      <td>0.038161</td>\n",
       "      <td>0.038146</td>\n",
       "      <td>0.042358</td>\n",
       "      <td>0.036575</td>\n",
       "      <td>0.750144</td>\n",
       "      <td>0.308292</td>\n",
       "      <td>0.597227</td>\n",
       "      <td>0.567429</td>\n",
       "      <td>0.614256</td>\n",
       "      <td>0.059207</td>\n",
       "      <td>...</td>\n",
       "      <td>0.231488</td>\n",
       "      <td>0.207561</td>\n",
       "      <td>0.191273</td>\n",
       "      <td>0.195971</td>\n",
       "      <td>0.043272</td>\n",
       "      <td>0.045002</td>\n",
       "      <td>0.034209</td>\n",
       "      <td>0.026761</td>\n",
       "      <td>0.026101</td>\n",
       "      <td>0.025346</td>\n",
       "    </tr>\n",
       "    <tr>\n",
       "      <th>3</th>\n",
       "      <td>0.038062</td>\n",
       "      <td>0.037974</td>\n",
       "      <td>0.051918</td>\n",
       "      <td>0.037220</td>\n",
       "      <td>0.733973</td>\n",
       "      <td>0.317655</td>\n",
       "      <td>0.433179</td>\n",
       "      <td>0.356625</td>\n",
       "      <td>0.377048</td>\n",
       "      <td>0.052947</td>\n",
       "      <td>...</td>\n",
       "      <td>0.336352</td>\n",
       "      <td>0.286693</td>\n",
       "      <td>0.267268</td>\n",
       "      <td>0.270434</td>\n",
       "      <td>0.036771</td>\n",
       "      <td>0.029646</td>\n",
       "      <td>0.022972</td>\n",
       "      <td>0.020063</td>\n",
       "      <td>0.018483</td>\n",
       "      <td>0.017561</td>\n",
       "    </tr>\n",
       "    <tr>\n",
       "      <th>4</th>\n",
       "      <td>0.029462</td>\n",
       "      <td>0.029446</td>\n",
       "      <td>0.046682</td>\n",
       "      <td>0.028175</td>\n",
       "      <td>0.753683</td>\n",
       "      <td>0.308986</td>\n",
       "      <td>0.807268</td>\n",
       "      <td>0.826424</td>\n",
       "      <td>0.871983</td>\n",
       "      <td>0.044602</td>\n",
       "      <td>...</td>\n",
       "      <td>0.286877</td>\n",
       "      <td>0.240434</td>\n",
       "      <td>0.218974</td>\n",
       "      <td>0.218974</td>\n",
       "      <td>0.031095</td>\n",
       "      <td>0.022074</td>\n",
       "      <td>0.016405</td>\n",
       "      <td>0.014376</td>\n",
       "      <td>0.014169</td>\n",
       "      <td>0.014353</td>\n",
       "    </tr>\n",
       "  </tbody>\n",
       "</table>\n",
       "<p>5 rows × 1344 columns</p>\n",
       "</div>"
      ],
      "text/plain": [
       "   MolWeight  MolExactWeight  MolAverageWeight  MolHeavyAtomWeight  \\\n",
       "0   0.035425        0.035339          0.054092            0.034746   \n",
       "1   0.025311        0.025300          0.042304            0.023890   \n",
       "2   0.038161        0.038146          0.042358            0.036575   \n",
       "3   0.038062        0.037974          0.051918            0.037220   \n",
       "4   0.029462        0.029446          0.046682            0.028175   \n",
       "\n",
       "   MolFilterItLogS  MolSLogP  MolQedWeightsMax  MolQedWeightsMean  \\\n",
       "0         0.742423  0.308381          0.823080           0.815631   \n",
       "1         0.743334  0.318365          0.684874           0.651983   \n",
       "2         0.750144  0.308292          0.597227           0.567429   \n",
       "3         0.733973  0.317655          0.433179           0.356625   \n",
       "4         0.753683  0.308986          0.807268           0.826424   \n",
       "\n",
       "   MolQedWeightsNone  MolRefractivity  ...      MIC2      MIC3      MIC4  \\\n",
       "0           0.819611         0.046126  ...  0.350931  0.294212  0.273191   \n",
       "1           0.673101         0.041805  ...  0.239417  0.208126  0.190075   \n",
       "2           0.614256         0.059207  ...  0.231488  0.207561  0.191273   \n",
       "3           0.377048         0.052947  ...  0.336352  0.286693  0.267268   \n",
       "4           0.871983         0.044602  ...  0.286877  0.240434  0.218974   \n",
       "\n",
       "       MIC5     ZMIC0     ZMIC1     ZMIC2     ZMIC3     ZMIC4     ZMIC5  \n",
       "0  0.274767  0.034388  0.025390  0.020750  0.019093  0.018087  0.017199  \n",
       "1  0.190075  0.030123  0.026459  0.018441  0.014361  0.013937  0.014118  \n",
       "2  0.195971  0.043272  0.045002  0.034209  0.026761  0.026101  0.025346  \n",
       "3  0.270434  0.036771  0.029646  0.022972  0.020063  0.018483  0.017561  \n",
       "4  0.218974  0.031095  0.022074  0.016405  0.014376  0.014169  0.014353  \n",
       "\n",
       "[5 rows x 1344 columns]"
      ]
     },
     "execution_count": 8,
     "metadata": {},
     "output_type": "execute_result"
    }
   ],
   "source": [
    "dataX.head()"
   ]
  },
  {
   "cell_type": "code",
   "execution_count": null,
   "metadata": {},
   "outputs": [],
   "source": [
    "# import umap\n",
    "# import numpy as np\n",
    "# import pandas as pd\n",
    "# from lapjv import lapjv\n",
    "# from sklearn.metrics import pairwise_distances\n",
    "# from scipy.spatial.distance import squareform\n",
    "# from scipy.cluster.hierarchy import fcluster, linkage\n",
    "\n",
    "# #Data input\n",
    "# file = \"Descriptor_chembl\"\n",
    "# cluster_channels = 13\n",
    "# f_percentage = 1 #feature selection: (0,1], total number: 18532\n",
    "\n",
    "# dataX = pd.read_csv(\"chembl_190w.csv\", header = 0, index_col = 0)\n",
    "\n",
    "# #Feature variance sorting\n",
    "# VAR_list = np.var(dataX, axis = 0)\n",
    "# f_sorted = np.argsort(VAR_list)[::-1]\n",
    "# f_name = dataX.columns[f_sorted]\n",
    "\n",
    "# f_num = round(f_percentage * len(f_name))\n",
    "# dataX = dataX.reindex(columns = f_name[:f_num])\n",
    "\n",
    "# # Pairwise relationship calculation\n",
    "# x = dataX.values\n",
    "# x = (x[..., None] + x[:, None, :]) / 2\n",
    "# x = np.triu(x).reshape(len(dataX), -1)\n",
    "# dataX = pd.DataFrame(x, index=dataX.index)\n",
    "# del x\n",
    "# dataX = dataX.loc[:, (dataX != 0).any(axis=0)]\n",
    "# print(\"--Pairwise relationship calculation: Finish!\\n\")\n",
    "\n",
    "# #Pairwise distance calculation\n",
    "# dataX = dataX.replace([np.nan, np.inf, -np.inf], 0)\n",
    "# distance_matrix = pairwise_distances(dataX.T, metric = 'cosine')\n",
    "# print(\"--Pairwise distance calculation: Finish!\\n\")\n",
    "\n",
    "# #Dimension reduction\n",
    "# reducer = umap.UMAP(n_neighbors = 30, min_dist = 0.1, n_components = 2, metric = 'precomputed', random_state = 1)\n",
    "# embedding = reducer.fit_transform(distance_matrix)\n",
    "# print(\"--Dimension reduction: Finish!\\n\")\n",
    "\n",
    "# #Save the results\n",
    "# map_frame = pd.DataFrame(embedding, index = dataX.columns, columns = [\"umap_f1\",\"umap_f2\"])\n",
    "\n",
    "# #Channels split (Hierarchical Cluster)\n",
    "# print(\"--applying hierarchical clustering ...\\n\")\n",
    "# Z = linkage(squareform(distance_matrix, checks=False), 'complete')\n",
    "# labels = fcluster(Z, cluster_channels, criterion='maxclust')\n",
    "# map_frame[\"Subgroup\"] = labels\n",
    "\n",
    "# #Grid Assignment\n",
    "# N = len(dataX.columns)\n",
    "\n",
    "# size1 = int(np.ceil(np.sqrt(N)))\n",
    "# size2 = int(np.ceil(N/size1))\n",
    "# grid_size = (size1, size2)\n",
    "\n",
    "# grid = np.dstack(np.meshgrid(np.linspace(0, 1, size2), np.linspace(0, 1, size1))).reshape(-1, 2)\n",
    "# grid_map = grid[:N]\n",
    "# cost_matrix = pairwise_distances(grid_map, embedding, metric = \"sqeuclidean\").astype(np.float64)\n",
    "# cost_matrix = 100000 * (cost_matrix / cost_matrix.max())\n",
    "# row_asses, col_asses, lap_z = lapjv(cost_matrix)\n",
    "\n",
    "# #Feature assignment based on pairwise distance\n",
    "# map_frame = map_frame.reindex(dataX.columns[row_asses])\n",
    "# map_frame.to_csv('{}_2D_assigned_{}X{}_fmap_with_subgroup.csv'.format(file,size1,size2), na_rep='NA')\n",
    "# print(\"--Grid Assignment: Finish!\\n\")\n"
   ]
  },
  {
   "cell_type": "code",
   "execution_count": null,
   "metadata": {},
   "outputs": [],
   "source": [
    "block_num = 16\n",
    "data_blocks = np.array_split(dataX.values, block_num, axis=1)"
   ]
  },
  {
   "cell_type": "code",
   "execution_count": null,
   "metadata": {},
   "outputs": [],
   "source": [
    "data_block = data_blocks[0]"
   ]
  },
  {
   "cell_type": "code",
   "execution_count": null,
   "metadata": {},
   "outputs": [],
   "source": [
    "x = (data_block[..., None] + data_block[:, None, :]) / 2\n"
   ]
  },
  {
   "cell_type": "code",
   "execution_count": null,
   "metadata": {},
   "outputs": [],
   "source": [
    "x_spread = np.triu(x).reshape(len(dataX), -1)"
   ]
  },
  {
   "cell_type": "code",
   "execution_count": null,
   "metadata": {},
   "outputs": [],
   "source": [
    "x_df = pd.DataFrame(x_spread, index=dataX.index)\n",
    "del x, x_spread\n",
    "x_df.shape\n"
   ]
  },
  {
   "cell_type": "code",
   "execution_count": null,
   "metadata": {},
   "outputs": [],
   "source": [
    "x_df = x_df.loc[:, (x_df != 0).any(axis=0)]\n",
    "x_df.shape"
   ]
  },
  {
   "cell_type": "code",
   "execution_count": null,
   "metadata": {},
   "outputs": [],
   "source": [
    "i = 1\n",
    "name = 'self_interact' + str(i) + '.pkl'\n",
    "x_df.to_pickle(name)"
   ]
  },
  {
   "cell_type": "code",
   "execution_count": null,
   "metadata": {},
   "outputs": [],
   "source": [
    "print('block', i, ':\\n')"
   ]
  },
  {
   "cell_type": "code",
   "execution_count": null,
   "metadata": {},
   "outputs": [],
   "source": [
    "for i, data_block in enumerate(data_blocks):\n",
    "    x = (data_block[..., None] + data_block[:, None, :]) / 2\n",
    "    x_spread = np.triu(x).reshape(len(dataX), -1)\n",
    "    x_df = pd.DataFrame(x_spread, index=dataX.index)\n",
    "    del x, x_spread\n",
    "    print('block', i, ':')\n",
    "    print(\"data shape:\", x_df.shape)\n",
    "    x_df = x_df.loc[:, (x_df != 0).any(axis=0)]\n",
    "    print(\"data shape, removing all zeros:\", x_df.shape)\n",
    "    name = 'self_interact' + str(i) + '.pkl'\n",
    "    x_df.to_pickle(name)\n",
    "    print('block', i, 'saved')"
   ]
  }
 ],
 "metadata": {
  "interpreter": {
   "hash": "9d0865d041e67b53219329a2d317362ab3dabc3c39d758892df86351648cfb29"
  },
  "kernelspec": {
   "display_name": "Python 3.6.13 ('molmap')",
   "language": "python",
   "name": "python3"
  },
  "language_info": {
   "codemirror_mode": {
    "name": "ipython",
    "version": 3
   },
   "file_extension": ".py",
   "mimetype": "text/x-python",
   "name": "python",
   "nbconvert_exporter": "python",
   "pygments_lexer": "ipython3",
   "version": "3.7.13"
  },
  "orig_nbformat": 4
 },
 "nbformat": 4,
 "nbformat_minor": 2
}
