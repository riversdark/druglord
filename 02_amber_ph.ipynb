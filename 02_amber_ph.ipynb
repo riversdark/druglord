{
 "cells": [
  {
   "cell_type": "markdown",
   "metadata": {},
   "source": [
    "# AMBER Constant pH MD setup tutorial using BioExcel Building Blocks (biobb) \n",
    "#### Partly based on:\n",
    "- AMBER Advanced Tutorial 18: [Constant pH MD Example, Calculating pKas for titratable side chains in HEWL](https://ambermd.org/tutorials/advanced/tutorial18/index.htm) by Jason Swails and T. Dwight McGee Jr.\n",
    "- AMBER Advanced Tutorial 33: [Constant pH and Redox Potential MD Example: Predicting pH-dependent standard Redox Potential values](https://ambermd.org/tutorials/advanced/tutorial33/) by Vinícius Wilian D. Cruzeiro.\n",
    "- Modeling of pH sensors for CLN025 beta-hairpin by [Jordi Juárez](https://scholar.google.es/citations?user=hUCtxPwAAAAJ&hl=ca), [Barril Lab](http://www.ub.edu/bl/), University of Barcelona. \n",
    "- [Constant pH MD simulation tutorial of BPTI protein in implicit solvent](https://jialuyu.com/constant-ph-md-simulation-of-bpti/) by Wei Zhang, University of the Pacific Stockton.\n",
    "\n",
    "\n",
    "***\n",
    "This tutorial aims to illustrate the process of **setting up a simulation system** to run **constant pH** Molecular Dynamics simulations with **AMBER**, step by step, using the **BioExcel Building Blocks library (biobb)** wrapping the **AmberTools** utility from the **AMBER package**. The particular example used is the **Bovine Pancreatic Trypsin Inhibitor (BPTI)** protein (PDB code [6PTI](https://www.rcsb.org/structure/6PTI)). \n",
    "***\n"
   ]
  },
  {
   "cell_type": "markdown",
   "metadata": {},
   "source": [
    "<a id=\"input\"></a>\n",
    "## Input parameters\n",
    "**Input parameters** needed:\n",
    " - **pdbCode**: PDB code of the protein structure (e.g. 6PTI)"
   ]
  },
  {
   "cell_type": "code",
   "execution_count": 1,
   "metadata": {},
   "outputs": [
    {
     "data": {
      "application/vnd.jupyter.widget-view+json": {
       "model_id": "8932f9be6e4f4c63b5129c29c77aa62b",
       "version_major": 2,
       "version_minor": 0
      },
      "text/plain": []
     },
     "metadata": {},
     "output_type": "display_data"
    }
   ],
   "source": [
    "import nglview\n",
    "import ipywidgets\n",
    "import plotly\n",
    "from plotly import subplots\n",
    "import plotly.graph_objs as go\n",
    "\n",
    "pdbCode=\"6PTI\""
   ]
  },
  {
   "cell_type": "code",
   "execution_count": 4,
   "metadata": {},
   "outputs": [
    {
     "data": {
      "text/plain": [
       "'/home/ma/git/druglord/temp/6pti'"
      ]
     },
     "execution_count": 4,
     "metadata": {},
     "output_type": "execute_result"
    }
   ],
   "source": [
    "import os\n",
    "from pathlib import Path\n",
    "\n",
    "wd = 'temp/6pti'\n",
    "Path(wd).mkdir(exist_ok=True, parents=True)\n",
    "os.chdir(wd)\n",
    "os.getcwd()"
   ]
  },
  {
   "cell_type": "markdown",
   "metadata": {},
   "source": [
    "<a id=\"fetch\"></a>\n",
    "***\n",
    "## Fetching PDB structure\n",
    "Downloading **PDB structure** with the **protein molecule** from the RCSB PDB database.<br>\n",
    "Alternatively, a **PDB file** can be used as starting structure. <br>\n",
    "***"
   ]
  },
  {
   "cell_type": "code",
   "execution_count": 5,
   "metadata": {},
   "outputs": [
    {
     "name": "stdout",
     "output_type": "stream",
     "text": [
      "2022-05-27 14:10:19,697 [MainThread  ] [INFO ]  Downloading: 6pti from: https://www.ebi.ac.uk/pdbe/entry-files/download/pdb6pti.ent\n"
     ]
    },
    {
     "name": "stderr",
     "output_type": "stream",
     "text": [
      "/home/ma/miniconda3/envs/biobb/lib/python3.7/site-packages/urllib3/connectionpool.py:1050: InsecureRequestWarning: Unverified HTTPS request is being made to host 'www.ebi.ac.uk'. Adding certificate verification is strongly advised. See: https://urllib3.readthedocs.io/en/1.26.x/advanced-usage.html#ssl-warnings\n",
      "  InsecureRequestWarning,\n"
     ]
    },
    {
     "name": "stdout",
     "output_type": "stream",
     "text": [
      "2022-05-27 14:10:23,528 [MainThread  ] [INFO ]  Writting pdb to: 6PTI.pdb\n",
      "2022-05-27 14:10:23,529 [MainThread  ] [INFO ]  Filtering lines NOT starting with one of these words: ['ATOM', 'MODEL', 'ENDMDL']\n"
     ]
    },
    {
     "data": {
      "text/plain": [
       "0"
      ]
     },
     "execution_count": 5,
     "metadata": {},
     "output_type": "execute_result"
    }
   ],
   "source": [
    "# Import module\n",
    "from biobb_io.api.pdb import pdb\n",
    "\n",
    "# Create properties dict and inputs/outputs\n",
    "downloaded_pdb = pdbCode+'.pdb'\n",
    "\n",
    "prop = {\n",
    "    'pdb_code': pdbCode\n",
    "}\n",
    "\n",
    "#Create and launch bb\n",
    "pdb(output_pdb_path=downloaded_pdb,\n",
    "    properties=prop)"
   ]
  },
  {
   "cell_type": "markdown",
   "metadata": {},
   "source": [
    "<a id=\"vis3D\"></a>\n",
    "### Visualizing 3D structure\n",
    "Visualizing the downloaded/given **PDB structure** using **NGL**.  "
   ]
  },
  {
   "cell_type": "code",
   "execution_count": 6,
   "metadata": {
    "scrolled": true
   },
   "outputs": [
    {
     "data": {
      "application/vnd.jupyter.widget-view+json": {
       "model_id": "5e1518e035704cdeae33c1c6810f19bd",
       "version_major": 2,
       "version_minor": 0
      },
      "text/plain": [
       "NGLWidget()"
      ]
     },
     "metadata": {},
     "output_type": "display_data"
    }
   ],
   "source": [
    "# Show protein\n",
    "view = nglview.show_structure_file(downloaded_pdb)\n",
    "view.add_representation(repr_type='ball+stick', selection='all')\n",
    "view._remote_call('setSize', target='Widget', args=['','600px'])\n",
    "view"
   ]
  },
  {
   "cell_type": "markdown",
   "metadata": {},
   "source": [
    "<a id=\"pdb4amber\"></a>\n",
    "***\n",
    "## Preparing PDB file for AMBER\n",
    "Before starting a **protein MD setup**, it is always strongly recommended to take a look at the initial structure and try to identify important **properties** and also possible **issues**. These properties and issues can be serious, as for example the definition of **disulfide bridges**, the presence of a **non-standard aminoacids** or **ligands**, or **missing residues**. Other **properties** and **issues** might not be so serious, but they still need to be addressed before starting the **MD setup process**. **Missing hydrogen atoms**, presence of **alternate atomic location indicators** or **inserted residue codes** (see [PDB file format specification](https://www.wwpdb.org/documentation/file-format-content/format33/sect9.html#ATOM)) are examples of these not so crucial characteristics. Please visit the [AMBER tutorial: Building Protein Systems in Explicit Solvent](http://ambermd.org/tutorials/basic/tutorial7/index.php) for more examples. **AmberTools** utilities from **AMBER MD package** contain a tool able to analyse **PDB files** and clean them for further usage, especially with the **AmberTools LEaP program**: the **pdb4amber tool**. The next step of the workflow is running this tool to analyse our **input PDB structure**.<br>\n",
    "\n",
    "For the particular **BPTI** example, the most important features that are going to be used from the **pdb4amber** utility is the identification of **disulfide bridges** in the structure and the renaming of **ionizable residues** for our **constant pH** calculation. **Disulfide bridges** are marked changing the residue names **from CYS to CYX**, which is the code that **AMBER force fields** use to distinguish between cysteines forming or not forming **disulfide bridges**. This will be used in the following step to correctly form a **bond** between these cysteine residues. **Ionizable residues** are also marked changing the residue names, from the deprotonated form to the protonated one (e.g. **from ASN to AS4, from GLN to GL4, and from HIS to HIP**). **Cysteine, Lysine and Tyrosine** residue names are not changed as they are already in their protonated form at **phisiological pH** (pKa > 7.4). \n"
   ]
  },
  {
   "cell_type": "code",
   "execution_count": 7,
   "metadata": {},
   "outputs": [
    {
     "name": "stdout",
     "output_type": "stream",
     "text": [
      "2022-05-27 14:12:45,127 [MainThread  ] [INFO ]  Creating 56662ab2-b9d6-49b4-8d87-28c184ec6fef temporary folder\n",
      "2022-05-27 14:12:45,128 [MainThread  ] [INFO ]  Not using any container\n",
      "2022-05-27 14:12:45,130 [MainThread  ] [INFO ]  pdb4amber  -i 6PTI.pdb -o structure.pdb4amber.pdb --constantph \n",
      "\n",
      "2022-05-27 14:12:45,512 [MainThread  ] [INFO ]  Exit code 0\n",
      "\n",
      "2022-05-27 14:12:45,515 [MainThread  ] [INFO ]  \n",
      "==================================================\n",
      "Summary of pdb4amber for: 6PTI.pdb\n",
      "===================================================\n",
      "\n",
      "----------Chains\n",
      "The following (original) chains have been found:\n",
      "A\n",
      "\n",
      "---------- Alternate Locations (Original Residues!))\n",
      "\n",
      "The following residues had alternate locations:\n",
      "ARG_39\n",
      "ASP_50\n",
      "-----------Non-standard-resnames\n",
      "\n",
      "\n",
      "---------- Mising heavy atom(s)\n",
      "\n",
      "GLY_57 misses 3 heavy atom(s)\n",
      "The alternate coordinates have been discarded.\n",
      "Only the first occurrence for each atom was kept.\n",
      "\n",
      "2022-05-27 14:12:45,516 [MainThread  ] [INFO ]  Removed: ['56662ab2-b9d6-49b4-8d87-28c184ec6fef']\n"
     ]
    },
    {
     "data": {
      "text/plain": [
       "0"
      ]
     },
     "execution_count": 7,
     "metadata": {},
     "output_type": "execute_result"
    }
   ],
   "source": [
    "# Import module\n",
    "from biobb_amber.pdb4amber.pdb4amber_run import pdb4amber_run\n",
    "\n",
    "# Create prop dict and inputs/outputs\n",
    "output_pdb4amber_path = 'structure.pdb4amber.pdb'\n",
    "\n",
    "prop = {\n",
    "    'constant_pH' : True\n",
    "}\n",
    "\n",
    "# Create and launch bb\n",
    "pdb4amber_run(input_pdb_path=downloaded_pdb,\n",
    "             output_pdb_path=output_pdb4amber_path,\n",
    "             properties=prop)"
   ]
  },
  {
   "cell_type": "markdown",
   "metadata": {},
   "source": [
    "<a id=\"vis3D\"></a>\n",
    "### Visualizing 3D structure\n",
    "Visualizing the **PDB structure** with modified residue names for **ionizable residues** using **NGL**. **GL4 and AS4** residues are highlighted."
   ]
  },
  {
   "cell_type": "code",
   "execution_count": 8,
   "metadata": {},
   "outputs": [
    {
     "data": {
      "application/vnd.jupyter.widget-view+json": {
       "model_id": "2b293883193e46cfb8dbeb208b9083cb",
       "version_major": 2,
       "version_minor": 0
      },
      "text/plain": [
       "NGLWidget()"
      ]
     },
     "metadata": {},
     "output_type": "display_data"
    }
   ],
   "source": [
    "# Show protein\n",
    "view = nglview.show_structure_file(output_pdb4amber_path)\n",
    "view.add_representation(repr_type='ball+stick', selection='all')\n",
    "view.add_representation(repr_type='ball+stick', radius='0.5', selection='GL4 AS4')\n",
    "view._remote_call('setSize', target='Widget', args=['','600px'])\n",
    "view"
   ]
  },
  {
   "cell_type": "markdown",
   "metadata": {},
   "source": [
    "<a id=\"top\"></a>\n",
    "***\n",
    "## Create protein system topology\n",
    "**Building AMBER topology** corresponding to the **protein structure**.<br>\n",
    "\n",
    "The **force field** used in this tutorial is [**ff14SB**](https://doi.org/10.1021/acs.jctc.5b00255), an evolution of the **ff99SB** force field with improved accuracy of protein side chains and backbone parameters, and the [**constph**](https://doi.org/10.1002/jcc.20139) force field, including the **constant pH** parameters. **Water** molecules type used in this tutorial is [**tip3p**](https://doi.org/10.1021/jp003020w).<br>\n",
    "\n",
    "Generating three output files: \n",
    "- **AMBER structure** (PDB file)\n",
    "- **AMBER topology** (AMBER [Parmtop](https://ambermd.org/FileFormats.php#topology) file)\n",
    "- **AMBER coordinates** (AMBER [Coordinate/Restart](https://ambermd.org/FileFormats.php#restart) file) \n",
    "***\n",
    "**Building Blocks** used:\n",
    " - [leap_gen_top](https://biobb-amber.readthedocs.io/en/latest/leap.html#module-leap.leap_gen_top) from **biobb_amber.leap.leap_gen_top**\n",
    "***"
   ]
  },
  {
   "cell_type": "code",
   "execution_count": 9,
   "metadata": {},
   "outputs": [
    {
     "name": "stdout",
     "output_type": "stream",
     "text": [
      "2022-05-27 14:48:20,224 [MainThread  ] [INFO ]  Creating f3cd1596-fbed-46de-af3a-23f989da09c5 temporary folder\n",
      "2022-05-27 14:48:20,226 [MainThread  ] [INFO ]  Not using any container\n",
      "2022-05-27 14:48:20,227 [MainThread  ] [INFO ]  tleap  -f f3cd1596-fbed-46de-af3a-23f989da09c5/leap.in\n",
      "\n",
      "2022-05-27 14:48:20,443 [MainThread  ] [INFO ]  Exit code 0\n",
      "\n",
      "2022-05-27 14:48:20,445 [MainThread  ] [INFO ]  -I: Adding /home/ma/miniconda3/envs/biobb/dat/leap/prep to search path.\n",
      "-I: Adding /home/ma/miniconda3/envs/biobb/dat/leap/lib to search path.\n",
      "-I: Adding /home/ma/miniconda3/envs/biobb/dat/leap/parm to search path.\n",
      "-I: Adding /home/ma/miniconda3/envs/biobb/dat/leap/cmd to search path.\n",
      "-f: Source f3cd1596-fbed-46de-af3a-23f989da09c5/leap.in.\n",
      "\n",
      "Welcome to LEaP!\n",
      "(no leaprc in search path)\n",
      "Sourcing: ./f3cd1596-fbed-46de-af3a-23f989da09c5/leap.in\n",
      "----- Source: /home/ma/miniconda3/envs/biobb/dat/leap/cmd/leaprc.protein.ff14SB\n",
      "----- Source of /home/ma/miniconda3/envs/biobb/dat/leap/cmd/leaprc.protein.ff14SB done\n",
      "Log file: ./leap.log\n",
      "Loading parameters: /home/ma/miniconda3/envs/biobb/dat/leap/parm/parm10.dat\n",
      "Reading title:\n",
      "PARM99 + frcmod.ff99SB + frcmod.parmbsc0 + OL3 for RNA\n",
      "Loading parameters: /home/ma/miniconda3/envs/biobb/dat/leap/parm/frcmod.ff14SB\n",
      "Reading force field modification type file (frcmod)\n",
      "Reading title:\n",
      "ff14SB protein backbone and sidechain parameters\n",
      "Loading library: /home/ma/miniconda3/envs/biobb/dat/leap/lib/amino12.lib\n",
      "Loading library: /home/ma/miniconda3/envs/biobb/dat/leap/lib/aminoct12.lib\n",
      "Loading library: /home/ma/miniconda3/envs/biobb/dat/leap/lib/aminont12.lib\n",
      "----- Source: /home/ma/miniconda3/envs/biobb/dat/leap/cmd/leaprc.constph\n",
      "----- Source of /home/ma/miniconda3/envs/biobb/dat/leap/cmd/leaprc.constph done\n",
      "----- Source: /home/ma/miniconda3/envs/biobb/dat/leap/cmd/oldff/leaprc.ff10\n",
      "----- Source of /home/ma/miniconda3/envs/biobb/dat/leap/cmd/oldff/leaprc.ff10 done\n",
      "Log file: ./leap.log\n",
      "\n",
      "/home/ma/miniconda3/envs/biobb/bin/teLeap: Note.\n",
      "Skipping parm10.dat: already loaded\n",
      "Loading library: /home/ma/miniconda3/envs/biobb/dat/leap/lib/amino10.lib\n",
      "Loading library: /home/ma/miniconda3/envs/biobb/dat/leap/lib/aminoct10.lib\n",
      "Loading library: /home/ma/miniconda3/envs/biobb/dat/leap/lib/aminont10.lib\n",
      "Loading library: /home/ma/miniconda3/envs/biobb/dat/leap/lib/oldff/phosphoaa10.lib\n",
      "Loading library: /home/ma/miniconda3/envs/biobb/dat/leap/lib/nucleic10.lib\n",
      "Loading library: /home/ma/miniconda3/envs/biobb/dat/leap/lib/atomic_ions.lib\n",
      "Loading library: /home/ma/miniconda3/envs/biobb/dat/leap/lib/solvents.lib\n",
      "Substituting map 0ALA -> NALA  for  0ALA -> NALA\n",
      "Substituting map 1ALA -> CALA  for  1ALA -> CALA\n",
      "Substituting map 0ARG -> NARG  for  0ARG -> NARG\n",
      "Substituting map 1ARG -> CARG  for  1ARG -> CARG\n",
      "Substituting map 0ASN -> NASN  for  0ASN -> NASN\n",
      "Substituting map 1ASN -> CASN  for  1ASN -> CASN\n",
      "Substituting map 0ASP -> NASP  for  0ASP -> NASP\n",
      "Substituting map 1ASP -> CASP  for  1ASP -> CASP\n",
      "Substituting map 0CYS -> NCYS  for  0CYS -> NCYS\n",
      "Substituting map 1CYS -> CCYS  for  1CYS -> CCYS\n",
      "Substituting map 0CYX -> NCYX  for  0CYX -> NCYX\n",
      "Substituting map 1CYX -> CCYX  for  1CYX -> CCYX\n",
      "Substituting map 0GLN -> NGLN  for  0GLN -> NGLN\n",
      "Substituting map 1GLN -> CGLN  for  1GLN -> CGLN\n",
      "Substituting map 0GLU -> NGLU  for  0GLU -> NGLU\n",
      "Substituting map 1GLU -> CGLU  for  1GLU -> CGLU\n",
      "Substituting map 0GLY -> NGLY  for  0GLY -> NGLY\n",
      "Substituting map 1GLY -> CGLY  for  1GLY -> CGLY\n",
      "Substituting map 0HID -> NHID  for  0HID -> NHID\n",
      "Substituting map 1HID -> CHID  for  1HID -> CHID\n",
      "Substituting map 0HIE -> NHIE  for  0HIE -> NHIE\n",
      "Substituting map 1HIE -> CHIE  for  1HIE -> CHIE\n",
      "Substituting map 0HIP -> NHIP  for  0HIP -> NHIP\n",
      "Substituting map 1HIP -> CHIP  for  1HIP -> CHIP\n",
      "Substituting map 0ILE -> NILE  for  0ILE -> NILE\n",
      "Substituting map 1ILE -> CILE  for  1ILE -> CILE\n",
      "Substituting map 0LEU -> NLEU  for  0LEU -> NLEU\n",
      "Substituting map 1LEU -> CLEU  for  1LEU -> CLEU\n",
      "Substituting map 0LYS -> NLYS  for  0LYS -> NLYS\n",
      "Substituting map 1LYS -> CLYS  for  1LYS -> CLYS\n",
      "Substituting map 0MET -> NMET  for  0MET -> NMET\n",
      "Substituting map 1MET -> CMET  for  1MET -> CMET\n",
      "Substituting map 0PHE -> NPHE  for  0PHE -> NPHE\n",
      "Substituting map 1PHE -> CPHE  for  1PHE -> CPHE\n",
      "Substituting map 0PRO -> NPRO  for  0PRO -> NPRO\n",
      "Substituting map 1PRO -> CPRO  for  1PRO -> CPRO\n",
      "Substituting map 0SER -> NSER  for  0SER -> NSER\n",
      "Substituting map 1SER -> CSER  for  1SER -> CSER\n",
      "Substituting map 0THR -> NTHR  for  0THR -> NTHR\n",
      "Substituting map 1THR -> CTHR  for  1THR -> CTHR\n",
      "Substituting map 0TRP -> NTRP  for  0TRP -> NTRP\n",
      "Substituting map 1TRP -> CTRP  for  1TRP -> CTRP\n",
      "Substituting map 0TYR -> NTYR  for  0TYR -> NTYR\n",
      "Substituting map 1TYR -> CTYR  for  1TYR -> CTYR\n",
      "Substituting map 0VAL -> NVAL  for  0VAL -> NVAL\n",
      "Substituting map 1VAL -> CVAL  for  1VAL -> CVAL\n",
      "Substituting map 0HIS -> NHIS  for  0HIS -> NHIS\n",
      "Substituting map 1HIS -> CHIS  for  1HIS -> CHIS\n",
      "Loading library: /home/ma/miniconda3/envs/biobb/dat/leap/lib/constph.lib\n",
      "Loading library: /home/ma/miniconda3/envs/biobb/dat/leap/lib/all_prot_nucleic10.lib\n",
      "Loading library: /home/ma/miniconda3/envs/biobb/dat/leap/lib/cph_nucleic_caps.lib\n",
      "Loading parameters: /home/ma/miniconda3/envs/biobb/dat/leap/parm/frcmod.constph\n",
      "Reading force field modification type file (frcmod)\n",
      "Reading title:\n",
      "Force field modifcations for titrations\n",
      "Loading parameters: /home/ma/miniconda3/envs/biobb/dat/leap/parm/frcmod.protonated_nucleic\n",
      "Reading force field modification type file (frcmod)\n",
      "Reading title:\n",
      "Force field modifications for protonated nucleic acids\n",
      "Using H(N)-modified Bondi radii\n",
      "Loading PDB file: ./structure.pdb4amber.pdb\n",
      "  Added missing heavy atom: .R<CGLY 57>.A<CA 3>\n",
      "  Added missing heavy atom: .R<CGLY 57>.A<C 6>\n",
      "  Added missing heavy atom: .R<CGLY 57>.A<O 7>\n",
      "  Added missing heavy atom: .R<CGLY 57>.A<OXT 8>\n",
      "  total atoms in file: 445\n",
      "  Leap added 453 missing atoms according to residue templates:\n",
      "       4 Heavy\n",
      "       449 H / lone pairs\n",
      "Writing pdb file: structure.leap.pdb\n",
      "\n",
      "/home/ma/miniconda3/envs/biobb/bin/teLeap: Warning!\n",
      " Converting N-terminal residue name to PDB format: NARG -> ARG\n",
      "\n",
      "/home/ma/miniconda3/envs/biobb/bin/teLeap: Warning!\n",
      " Converting C-terminal residue name to PDB format: CGLY -> GLY\n",
      "Checking Unit.\n",
      "\n",
      "/home/ma/miniconda3/envs/biobb/bin/teLeap: Warning!\n",
      "The unperturbed charge of the unit (6.000000) is not zero.\n",
      "\n",
      "/home/ma/miniconda3/envs/biobb/bin/teLeap: Note.\n",
      "Ignoring the warning from Unit Checking.\n",
      "\n",
      "Building topology.\n",
      "Building atom parameters.\n",
      "Building bond parameters.\n",
      "Building angle parameters.\n",
      "Building proper torsion parameters.\n",
      "Building improper torsion parameters.\n",
      " total 205 improper torsions applied\n",
      "Building H-Bond parameters.\n",
      "Incorporating Non-Bonded adjustments.\n",
      "Not Marking per-residue atom chain types.\n",
      "Marking per-residue atom chain types.\n",
      "  (Residues lacking connect0/connect1 - \n",
      "   these don't have chain types marked:\n",
      "\n",
      "\tres\ttotal affected\n",
      "\n",
      "\tCGLY\t1\n",
      "\tNARG\t1\n",
      "  )\n",
      " (no restraints)\n",
      "\tQuit\n",
      "\n",
      "Exiting LEaP: Errors = 0; Warnings = 3; Notes = 2.\n",
      "\n",
      "2022-05-27 14:48:20,447 [MainThread  ] [INFO ]  Removed: ['f3cd1596-fbed-46de-af3a-23f989da09c5', 'leap.log']\n"
     ]
    },
    {
     "data": {
      "text/plain": [
       "0"
      ]
     },
     "execution_count": 9,
     "metadata": {},
     "output_type": "execute_result"
    }
   ],
   "source": [
    "# Import module\n",
    "from biobb_amber.leap.leap_gen_top import leap_gen_top\n",
    "\n",
    "# Create prop dict and inputs/outputs\n",
    "output_pdb_path = 'structure.leap.pdb'\n",
    "output_top_path = 'structure.leap.top'\n",
    "output_crd_path = 'structure.leap.crd'\n",
    "\n",
    "prop = {\n",
    "    \"forcefield\" : [\"protein.ff14SB\",\"constph\"]\n",
    "}\n",
    "\n",
    "# Create and launch bb\n",
    "leap_gen_top(input_pdb_path=output_pdb4amber_path,\n",
    "           output_pdb_path=output_pdb_path,\n",
    "           output_top_path=output_top_path,\n",
    "           output_crd_path=output_crd_path,\n",
    "           properties=prop)"
   ]
  },
  {
   "cell_type": "markdown",
   "metadata": {},
   "source": [
    "<a id=\"vis3D\"></a>\n",
    "### Visualizing 3D structure\n",
    "Visualizing the **PDB structure** after topology generation using **NGL**. Note the newly added **hydrogen atoms**, in particular, the ones for the highlighted protonated **ionizable residues** (GL4, AS4).  "
   ]
  },
  {
   "cell_type": "code",
   "execution_count": 10,
   "metadata": {},
   "outputs": [
    {
     "data": {
      "application/vnd.jupyter.widget-view+json": {
       "model_id": "a4f11cd6ad644d8eb09d9a496b173235",
       "version_major": 2,
       "version_minor": 0
      },
      "text/plain": [
       "NGLWidget()"
      ]
     },
     "metadata": {},
     "output_type": "display_data"
    }
   ],
   "source": [
    "# Show protein\n",
    "view = nglview.show_structure_file(output_pdb_path)\n",
    "view.add_representation(repr_type='ball+stick', selection='all')\n",
    "view.add_representation(repr_type='ball+stick', radius='0.3', selection='GL4 AS4')\n",
    "view._remote_call('setSize', target='Widget', args=['','600px'])\n",
    "view"
   ]
  },
  {
   "cell_type": "markdown",
   "metadata": {},
   "source": [
    "<a id=\"box\"></a>\n",
    "***\n",
    "## Create solvent box and solvating the system\n",
    "Define the unit cell for the **protein structure MD system** to fill it with water molecules.<br>\n",
    "A **truncated octahedron box** is used to define the unit cell, with a **distance from the structure to the box edge of 9.0 Angstroms**. <br>\n",
    "The solvent type used is the default **TIP3P** water model, a generic 3-point solvent model."
   ]
  },
  {
   "cell_type": "code",
   "execution_count": 11,
   "metadata": {},
   "outputs": [
    {
     "name": "stdout",
     "output_type": "stream",
     "text": [
      "2022-05-27 15:35:29,341 [MainThread  ] [INFO ]  Creating ca580b50-1f06-4b77-b74a-b8ccfa34baf1 temporary folder\n",
      "2022-05-27 15:35:29,344 [MainThread  ] [INFO ]  Not using any container\n",
      "2022-05-27 15:35:29,345 [MainThread  ] [INFO ]  tleap  -f ca580b50-1f06-4b77-b74a-b8ccfa34baf1/leap.in\n",
      "\n",
      "2022-05-27 15:35:29,776 [MainThread  ] [INFO ]  Exit code 0\n",
      "\n",
      "2022-05-27 15:35:29,778 [MainThread  ] [INFO ]  -I: Adding /home/ma/miniconda3/envs/biobb/dat/leap/prep to search path.\n",
      "-I: Adding /home/ma/miniconda3/envs/biobb/dat/leap/lib to search path.\n",
      "-I: Adding /home/ma/miniconda3/envs/biobb/dat/leap/parm to search path.\n",
      "-I: Adding /home/ma/miniconda3/envs/biobb/dat/leap/cmd to search path.\n",
      "-f: Source ca580b50-1f06-4b77-b74a-b8ccfa34baf1/leap.in.\n",
      "\n",
      "Welcome to LEaP!\n",
      "(no leaprc in search path)\n",
      "Sourcing: ./ca580b50-1f06-4b77-b74a-b8ccfa34baf1/leap.in\n",
      "----- Source: /home/ma/miniconda3/envs/biobb/dat/leap/cmd/leaprc.protein.ff14SB\n",
      "----- Source of /home/ma/miniconda3/envs/biobb/dat/leap/cmd/leaprc.protein.ff14SB done\n",
      "Log file: ./leap.log\n",
      "Loading parameters: /home/ma/miniconda3/envs/biobb/dat/leap/parm/parm10.dat\n",
      "Reading title:\n",
      "PARM99 + frcmod.ff99SB + frcmod.parmbsc0 + OL3 for RNA\n",
      "Loading parameters: /home/ma/miniconda3/envs/biobb/dat/leap/parm/frcmod.ff14SB\n",
      "Reading force field modification type file (frcmod)\n",
      "Reading title:\n",
      "ff14SB protein backbone and sidechain parameters\n",
      "Loading library: /home/ma/miniconda3/envs/biobb/dat/leap/lib/amino12.lib\n",
      "Loading library: /home/ma/miniconda3/envs/biobb/dat/leap/lib/aminoct12.lib\n",
      "Loading library: /home/ma/miniconda3/envs/biobb/dat/leap/lib/aminont12.lib\n",
      "----- Source: /home/ma/miniconda3/envs/biobb/dat/leap/cmd/leaprc.constph\n",
      "----- Source of /home/ma/miniconda3/envs/biobb/dat/leap/cmd/leaprc.constph done\n",
      "----- Source: /home/ma/miniconda3/envs/biobb/dat/leap/cmd/oldff/leaprc.ff10\n",
      "----- Source of /home/ma/miniconda3/envs/biobb/dat/leap/cmd/oldff/leaprc.ff10 done\n",
      "Log file: ./leap.log\n",
      "\n",
      "/home/ma/miniconda3/envs/biobb/bin/teLeap: Note.\n",
      "Skipping parm10.dat: already loaded\n",
      "Loading library: /home/ma/miniconda3/envs/biobb/dat/leap/lib/amino10.lib\n",
      "Loading library: /home/ma/miniconda3/envs/biobb/dat/leap/lib/aminoct10.lib\n",
      "Loading library: /home/ma/miniconda3/envs/biobb/dat/leap/lib/aminont10.lib\n",
      "Loading library: /home/ma/miniconda3/envs/biobb/dat/leap/lib/oldff/phosphoaa10.lib\n",
      "Loading library: /home/ma/miniconda3/envs/biobb/dat/leap/lib/nucleic10.lib\n",
      "Loading library: /home/ma/miniconda3/envs/biobb/dat/leap/lib/atomic_ions.lib\n",
      "Loading library: /home/ma/miniconda3/envs/biobb/dat/leap/lib/solvents.lib\n",
      "Substituting map 0ALA -> NALA  for  0ALA -> NALA\n",
      "Substituting map 1ALA -> CALA  for  1ALA -> CALA\n",
      "Substituting map 0ARG -> NARG  for  0ARG -> NARG\n",
      "Substituting map 1ARG -> CARG  for  1ARG -> CARG\n",
      "Substituting map 0ASN -> NASN  for  0ASN -> NASN\n",
      "Substituting map 1ASN -> CASN  for  1ASN -> CASN\n",
      "Substituting map 0ASP -> NASP  for  0ASP -> NASP\n",
      "Substituting map 1ASP -> CASP  for  1ASP -> CASP\n",
      "Substituting map 0CYS -> NCYS  for  0CYS -> NCYS\n",
      "Substituting map 1CYS -> CCYS  for  1CYS -> CCYS\n",
      "Substituting map 0CYX -> NCYX  for  0CYX -> NCYX\n",
      "Substituting map 1CYX -> CCYX  for  1CYX -> CCYX\n",
      "Substituting map 0GLN -> NGLN  for  0GLN -> NGLN\n",
      "Substituting map 1GLN -> CGLN  for  1GLN -> CGLN\n",
      "Substituting map 0GLU -> NGLU  for  0GLU -> NGLU\n",
      "Substituting map 1GLU -> CGLU  for  1GLU -> CGLU\n",
      "Substituting map 0GLY -> NGLY  for  0GLY -> NGLY\n",
      "Substituting map 1GLY -> CGLY  for  1GLY -> CGLY\n",
      "Substituting map 0HID -> NHID  for  0HID -> NHID\n",
      "Substituting map 1HID -> CHID  for  1HID -> CHID\n",
      "Substituting map 0HIE -> NHIE  for  0HIE -> NHIE\n",
      "Substituting map 1HIE -> CHIE  for  1HIE -> CHIE\n",
      "Substituting map 0HIP -> NHIP  for  0HIP -> NHIP\n",
      "Substituting map 1HIP -> CHIP  for  1HIP -> CHIP\n",
      "Substituting map 0ILE -> NILE  for  0ILE -> NILE\n",
      "Substituting map 1ILE -> CILE  for  1ILE -> CILE\n",
      "Substituting map 0LEU -> NLEU  for  0LEU -> NLEU\n",
      "Substituting map 1LEU -> CLEU  for  1LEU -> CLEU\n",
      "Substituting map 0LYS -> NLYS  for  0LYS -> NLYS\n",
      "Substituting map 1LYS -> CLYS  for  1LYS -> CLYS\n",
      "Substituting map 0MET -> NMET  for  0MET -> NMET\n",
      "Substituting map 1MET -> CMET  for  1MET -> CMET\n",
      "Substituting map 0PHE -> NPHE  for  0PHE -> NPHE\n",
      "Substituting map 1PHE -> CPHE  for  1PHE -> CPHE\n",
      "Substituting map 0PRO -> NPRO  for  0PRO -> NPRO\n",
      "Substituting map 1PRO -> CPRO  for  1PRO -> CPRO\n",
      "Substituting map 0SER -> NSER  for  0SER -> NSER\n",
      "Substituting map 1SER -> CSER  for  1SER -> CSER\n",
      "Substituting map 0THR -> NTHR  for  0THR -> NTHR\n",
      "Substituting map 1THR -> CTHR  for  1THR -> CTHR\n",
      "Substituting map 0TRP -> NTRP  for  0TRP -> NTRP\n",
      "Substituting map 1TRP -> CTRP  for  1TRP -> CTRP\n",
      "Substituting map 0TYR -> NTYR  for  0TYR -> NTYR\n",
      "Substituting map 1TYR -> CTYR  for  1TYR -> CTYR\n",
      "Substituting map 0VAL -> NVAL  for  0VAL -> NVAL\n",
      "Substituting map 1VAL -> CVAL  for  1VAL -> CVAL\n",
      "Substituting map 0HIS -> NHIS  for  0HIS -> NHIS\n",
      "Substituting map 1HIS -> CHIS  for  1HIS -> CHIS\n",
      "Loading library: /home/ma/miniconda3/envs/biobb/dat/leap/lib/constph.lib\n",
      "Loading library: /home/ma/miniconda3/envs/biobb/dat/leap/lib/all_prot_nucleic10.lib\n",
      "Loading library: /home/ma/miniconda3/envs/biobb/dat/leap/lib/cph_nucleic_caps.lib\n",
      "Loading parameters: /home/ma/miniconda3/envs/biobb/dat/leap/parm/frcmod.constph\n",
      "Reading force field modification type file (frcmod)\n",
      "Reading title:\n",
      "Force field modifcations for titrations\n",
      "Loading parameters: /home/ma/miniconda3/envs/biobb/dat/leap/parm/frcmod.protonated_nucleic\n",
      "Reading force field modification type file (frcmod)\n",
      "Reading title:\n",
      "Force field modifications for protonated nucleic acids\n",
      "Using H(N)-modified Bondi radii\n",
      "Loading parameters: /home/ma/miniconda3/envs/biobb/dat/leap/parm/frcmod.ionsjc_tip3p\n",
      "Reading force field modification type file (frcmod)\n",
      "Reading title:\n",
      "Monovalent ion parameters for Ewald and TIP3P water from Joung & Cheatham JPCB (2008)\n",
      "----- Source: /home/ma/miniconda3/envs/biobb/dat/leap/cmd/leaprc.water.tip3p\n",
      "----- Source of /home/ma/miniconda3/envs/biobb/dat/leap/cmd/leaprc.water.tip3p done\n",
      "Loading library: /home/ma/miniconda3/envs/biobb/dat/leap/lib/atomic_ions.lib\n",
      "Loading library: /home/ma/miniconda3/envs/biobb/dat/leap/lib/solvents.lib\n",
      "Loading parameters: /home/ma/miniconda3/envs/biobb/dat/leap/parm/frcmod.tip3p\n",
      "Reading force field modification type file (frcmod)\n",
      "Reading title:\n",
      "This is the additional/replacement parameter set for TIP3P water\n",
      "Loading parameters: /home/ma/miniconda3/envs/biobb/dat/leap/parm/frcmod.ions1lm_126_tip3p\n",
      "Reading force field modification type file (frcmod)\n",
      "Reading title:\n",
      "Li/Merz ion parameters of monovalent ions for TIP3P water model (12-6 normal usage set)\n",
      "Loading parameters: /home/ma/miniconda3/envs/biobb/dat/leap/parm/frcmod.ionsjc_tip3p\n",
      "Reading force field modification type file (frcmod)\n",
      "Reading title:\n",
      "Monovalent ion parameters for Ewald and TIP3P water from Joung & Cheatham JPCB (2008)\n",
      "Loading parameters: /home/ma/miniconda3/envs/biobb/dat/leap/parm/frcmod.ions234lm_126_tip3p\n",
      "Reading force field modification type file (frcmod)\n",
      "Reading title:\n",
      "Li/Merz ion parameters of divalent to tetravalent ions for TIP3P water model (12-6 normal usage set)\n",
      "Loading PDB file: ./structure.leap.pdb\n",
      "  total atoms in file: 898\n",
      "Scaling up box by a factor of 1.341887 to meet diagonal cut criterion\n",
      "  Solute vdw bounding box:              42.567 28.868 28.541\n",
      "  Total bounding box for atom centers:  66.721 66.721 66.721\n",
      "      (box expansion for 'iso' is  59.3%)\n",
      "  Solvent unit box:                     18.774 18.774 18.774\n",
      "  Volume: 155290.786 A^3 (oct)\n",
      "  Total mass 81301.116 amu,  Density 0.869 g/cc\n",
      "  Added 4154 residues.\n",
      "Writing pdb file: structure.solv.pdb\n",
      "   printing CRYST1 record to PDB file with box info\n",
      "\n",
      "/home/ma/miniconda3/envs/biobb/bin/teLeap: Warning!\n",
      " Converting N-terminal residue name to PDB format: NARG -> ARG\n",
      "\n",
      "/home/ma/miniconda3/envs/biobb/bin/teLeap: Warning!\n",
      " Converting C-terminal residue name to PDB format: CGLY -> GLY\n",
      "Checking Unit.\n",
      "\n",
      "/home/ma/miniconda3/envs/biobb/bin/teLeap: Warning!\n",
      "The unperturbed charge of the unit (6.000000) is not zero.\n",
      "\n",
      "/home/ma/miniconda3/envs/biobb/bin/teLeap: Note.\n",
      "Ignoring the warning from Unit Checking.\n",
      "\n",
      "Building topology.\n",
      "Building atom parameters.\n",
      "Building bond parameters.\n",
      "Building angle parameters.\n",
      "Building proper torsion parameters.\n",
      "Building improper torsion parameters.\n",
      " total 205 improper torsions applied\n",
      "Building H-Bond parameters.\n",
      "Incorporating Non-Bonded adjustments.\n",
      "Not Marking per-residue atom chain types.\n",
      "Marking per-residue atom chain types.\n",
      "  (Residues lacking connect0/connect1 - \n",
      "   these don't have chain types marked:\n",
      "\n",
      "\tres\ttotal affected\n",
      "\n",
      "\tCGLY\t1\n",
      "\tNARG\t1\n",
      "\tWAT\t4154\n",
      "  )\n",
      " (no restraints)\n",
      "\tQuit\n",
      "\n",
      "Exiting LEaP: Errors = 0; Warnings = 3; Notes = 2.\n",
      "\n",
      "2022-05-27 15:35:29,788 [MainThread  ] [INFO ]  Removed: ['ca580b50-1f06-4b77-b74a-b8ccfa34baf1', 'leap.log']\n"
     ]
    },
    {
     "data": {
      "text/plain": [
       "0"
      ]
     },
     "execution_count": 11,
     "metadata": {},
     "output_type": "execute_result"
    }
   ],
   "source": [
    "# Import module\n",
    "from biobb_amber.leap.leap_solvate import leap_solvate\n",
    "\n",
    "# Create prop dict and inputs/outputs\n",
    "output_solv_pdb_path = 'structure.solv.pdb'\n",
    "output_solv_top_path = 'structure.solv.parmtop'\n",
    "output_solv_crd_path = 'structure.solv.crd'\n",
    "\n",
    "prop = {\n",
    "    \"forcefield\" : [\"protein.ff14SB\",\"constph\"],\n",
    "    \"water_type\": \"TIP3PBOX\",\n",
    "    \"distance_to_molecule\": \"9.0\",  \n",
    "    \"box_type\": \"truncated_octahedron\"\n",
    "}\n",
    "\n",
    "# Create and launch bb\n",
    "leap_solvate(input_pdb_path=output_pdb_path,\n",
    "           output_pdb_path=output_solv_pdb_path,\n",
    "           output_top_path=output_solv_top_path,\n",
    "           output_crd_path=output_solv_crd_path,\n",
    "           properties=prop)"
   ]
  },
  {
   "cell_type": "markdown",
   "metadata": {},
   "source": [
    "<a id=\"vis3D\"></a>\n",
    "### Visualizing 3D structure\n",
    "Visualizing the solvated **PDB structure** using **NGL**.    "
   ]
  },
  {
   "cell_type": "code",
   "execution_count": 12,
   "metadata": {},
   "outputs": [
    {
     "data": {
      "application/vnd.jupyter.widget-view+json": {
       "model_id": "86b70ea0f3584572877e0d3a9cf39ecc",
       "version_major": 2,
       "version_minor": 0
      },
      "text/plain": [
       "NGLWidget()"
      ]
     },
     "metadata": {},
     "output_type": "display_data"
    }
   ],
   "source": [
    "# Show protein\n",
    "view = nglview.show_structure_file(output_solv_pdb_path)\n",
    "view.clear_representations()\n",
    "view.add_representation(repr_type='cartoon', selection='protein')\n",
    "view.add_representation(repr_type='ball+stick', selection='protein')\n",
    "view.add_representation(repr_type='line', selection='solvent')\n",
    "view._remote_call('setSize', target='Widget', args=['','600px'])\n",
    "view"
   ]
  },
  {
   "cell_type": "markdown",
   "metadata": {},
   "source": [
    "<a id=\"ions\"></a>\n",
    "## Adding ions\n",
    "\n",
    "**Neutralizing** the system and adding an additional **ionic concentration** using the **leap tool** from the **AMBER MD package**. <br/>\n",
    "Using **Sodium (Na+)** and **Chloride (Cl-)** counterions and an **additional ionic concentration** of 150mM.\n",
    "***\n",
    "**Building Blocks** used:\n",
    " - [leap_add_ions](https://biobb-amber.readthedocs.io/en/latest/leap.html#module-leap.leap_add_ions) from **biobb_amber.leap.leap_add_ions**\n",
    "***"
   ]
  },
  {
   "cell_type": "code",
   "execution_count": 13,
   "metadata": {},
   "outputs": [
    {
     "name": "stdout",
     "output_type": "stream",
     "text": [
      "2022-05-27 15:39:38,726 [MainThread  ] [INFO ]  Creating d7a3ec66-543a-4b8c-8685-e6c53e6019b8 temporary folder\n",
      "2022-05-27 15:39:38,779 [MainThread  ] [INFO ]  Not using any container\n",
      "2022-05-27 15:39:38,781 [MainThread  ] [INFO ]  tleap  -f d7a3ec66-543a-4b8c-8685-e6c53e6019b8/leap.in\n",
      "\n",
      "2022-05-27 15:39:39,424 [MainThread  ] [INFO ]  Exit code 0\n",
      "\n",
      "2022-05-27 15:39:39,426 [MainThread  ] [INFO ]  -I: Adding /home/ma/miniconda3/envs/biobb/dat/leap/prep to search path.\n",
      "-I: Adding /home/ma/miniconda3/envs/biobb/dat/leap/lib to search path.\n",
      "-I: Adding /home/ma/miniconda3/envs/biobb/dat/leap/parm to search path.\n",
      "-I: Adding /home/ma/miniconda3/envs/biobb/dat/leap/cmd to search path.\n",
      "-f: Source d7a3ec66-543a-4b8c-8685-e6c53e6019b8/leap.in.\n",
      "\n",
      "Welcome to LEaP!\n",
      "(no leaprc in search path)\n",
      "Sourcing: ./d7a3ec66-543a-4b8c-8685-e6c53e6019b8/leap.in\n",
      "----- Source: /home/ma/miniconda3/envs/biobb/dat/leap/cmd/leaprc.protein.ff14SB\n",
      "----- Source of /home/ma/miniconda3/envs/biobb/dat/leap/cmd/leaprc.protein.ff14SB done\n",
      "Log file: ./leap.log\n",
      "Loading parameters: /home/ma/miniconda3/envs/biobb/dat/leap/parm/parm10.dat\n",
      "Reading title:\n",
      "PARM99 + frcmod.ff99SB + frcmod.parmbsc0 + OL3 for RNA\n",
      "Loading parameters: /home/ma/miniconda3/envs/biobb/dat/leap/parm/frcmod.ff14SB\n",
      "Reading force field modification type file (frcmod)\n",
      "Reading title:\n",
      "ff14SB protein backbone and sidechain parameters\n",
      "Loading library: /home/ma/miniconda3/envs/biobb/dat/leap/lib/amino12.lib\n",
      "Loading library: /home/ma/miniconda3/envs/biobb/dat/leap/lib/aminoct12.lib\n",
      "Loading library: /home/ma/miniconda3/envs/biobb/dat/leap/lib/aminont12.lib\n",
      "----- Source: /home/ma/miniconda3/envs/biobb/dat/leap/cmd/leaprc.constph\n",
      "----- Source of /home/ma/miniconda3/envs/biobb/dat/leap/cmd/leaprc.constph done\n",
      "----- Source: /home/ma/miniconda3/envs/biobb/dat/leap/cmd/oldff/leaprc.ff10\n",
      "----- Source of /home/ma/miniconda3/envs/biobb/dat/leap/cmd/oldff/leaprc.ff10 done\n",
      "Log file: ./leap.log\n",
      "\n",
      "/home/ma/miniconda3/envs/biobb/bin/teLeap: Note.\n",
      "Skipping parm10.dat: already loaded\n",
      "Loading library: /home/ma/miniconda3/envs/biobb/dat/leap/lib/amino10.lib\n",
      "Loading library: /home/ma/miniconda3/envs/biobb/dat/leap/lib/aminoct10.lib\n",
      "Loading library: /home/ma/miniconda3/envs/biobb/dat/leap/lib/aminont10.lib\n",
      "Loading library: /home/ma/miniconda3/envs/biobb/dat/leap/lib/oldff/phosphoaa10.lib\n",
      "Loading library: /home/ma/miniconda3/envs/biobb/dat/leap/lib/nucleic10.lib\n",
      "Loading library: /home/ma/miniconda3/envs/biobb/dat/leap/lib/atomic_ions.lib\n",
      "Loading library: /home/ma/miniconda3/envs/biobb/dat/leap/lib/solvents.lib\n",
      "Substituting map 0ALA -> NALA  for  0ALA -> NALA\n",
      "Substituting map 1ALA -> CALA  for  1ALA -> CALA\n",
      "Substituting map 0ARG -> NARG  for  0ARG -> NARG\n",
      "Substituting map 1ARG -> CARG  for  1ARG -> CARG\n",
      "Substituting map 0ASN -> NASN  for  0ASN -> NASN\n",
      "Substituting map 1ASN -> CASN  for  1ASN -> CASN\n",
      "Substituting map 0ASP -> NASP  for  0ASP -> NASP\n",
      "Substituting map 1ASP -> CASP  for  1ASP -> CASP\n",
      "Substituting map 0CYS -> NCYS  for  0CYS -> NCYS\n",
      "Substituting map 1CYS -> CCYS  for  1CYS -> CCYS\n",
      "Substituting map 0CYX -> NCYX  for  0CYX -> NCYX\n",
      "Substituting map 1CYX -> CCYX  for  1CYX -> CCYX\n",
      "Substituting map 0GLN -> NGLN  for  0GLN -> NGLN\n",
      "Substituting map 1GLN -> CGLN  for  1GLN -> CGLN\n",
      "Substituting map 0GLU -> NGLU  for  0GLU -> NGLU\n",
      "Substituting map 1GLU -> CGLU  for  1GLU -> CGLU\n",
      "Substituting map 0GLY -> NGLY  for  0GLY -> NGLY\n",
      "Substituting map 1GLY -> CGLY  for  1GLY -> CGLY\n",
      "Substituting map 0HID -> NHID  for  0HID -> NHID\n",
      "Substituting map 1HID -> CHID  for  1HID -> CHID\n",
      "Substituting map 0HIE -> NHIE  for  0HIE -> NHIE\n",
      "Substituting map 1HIE -> CHIE  for  1HIE -> CHIE\n",
      "Substituting map 0HIP -> NHIP  for  0HIP -> NHIP\n",
      "Substituting map 1HIP -> CHIP  for  1HIP -> CHIP\n",
      "Substituting map 0ILE -> NILE  for  0ILE -> NILE\n",
      "Substituting map 1ILE -> CILE  for  1ILE -> CILE\n",
      "Substituting map 0LEU -> NLEU  for  0LEU -> NLEU\n",
      "Substituting map 1LEU -> CLEU  for  1LEU -> CLEU\n",
      "Substituting map 0LYS -> NLYS  for  0LYS -> NLYS\n",
      "Substituting map 1LYS -> CLYS  for  1LYS -> CLYS\n",
      "Substituting map 0MET -> NMET  for  0MET -> NMET\n",
      "Substituting map 1MET -> CMET  for  1MET -> CMET\n",
      "Substituting map 0PHE -> NPHE  for  0PHE -> NPHE\n",
      "Substituting map 1PHE -> CPHE  for  1PHE -> CPHE\n",
      "Substituting map 0PRO -> NPRO  for  0PRO -> NPRO\n",
      "Substituting map 1PRO -> CPRO  for  1PRO -> CPRO\n",
      "Substituting map 0SER -> NSER  for  0SER -> NSER\n",
      "Substituting map 1SER -> CSER  for  1SER -> CSER\n",
      "Substituting map 0THR -> NTHR  for  0THR -> NTHR\n",
      "Substituting map 1THR -> CTHR  for  1THR -> CTHR\n",
      "Substituting map 0TRP -> NTRP  for  0TRP -> NTRP\n",
      "Substituting map 1TRP -> CTRP  for  1TRP -> CTRP\n",
      "Substituting map 0TYR -> NTYR  for  0TYR -> NTYR\n",
      "Substituting map 1TYR -> CTYR  for  1TYR -> CTYR\n",
      "Substituting map 0VAL -> NVAL  for  0VAL -> NVAL\n",
      "Substituting map 1VAL -> CVAL  for  1VAL -> CVAL\n",
      "Substituting map 0HIS -> NHIS  for  0HIS -> NHIS\n",
      "Substituting map 1HIS -> CHIS  for  1HIS -> CHIS\n",
      "Loading library: /home/ma/miniconda3/envs/biobb/dat/leap/lib/constph.lib\n",
      "Loading library: /home/ma/miniconda3/envs/biobb/dat/leap/lib/all_prot_nucleic10.lib\n",
      "Loading library: /home/ma/miniconda3/envs/biobb/dat/leap/lib/cph_nucleic_caps.lib\n",
      "Loading parameters: /home/ma/miniconda3/envs/biobb/dat/leap/parm/frcmod.constph\n",
      "Reading force field modification type file (frcmod)\n",
      "Reading title:\n",
      "Force field modifcations for titrations\n",
      "Loading parameters: /home/ma/miniconda3/envs/biobb/dat/leap/parm/frcmod.protonated_nucleic\n",
      "Reading force field modification type file (frcmod)\n",
      "Reading title:\n",
      "Force field modifications for protonated nucleic acids\n",
      "Using H(N)-modified Bondi radii\n",
      "----- Source: /home/ma/miniconda3/envs/biobb/dat/leap/cmd/leaprc.water.tip3p\n",
      "----- Source of /home/ma/miniconda3/envs/biobb/dat/leap/cmd/leaprc.water.tip3p done\n",
      "Loading library: /home/ma/miniconda3/envs/biobb/dat/leap/lib/atomic_ions.lib\n",
      "Loading library: /home/ma/miniconda3/envs/biobb/dat/leap/lib/solvents.lib\n",
      "Loading parameters: /home/ma/miniconda3/envs/biobb/dat/leap/parm/frcmod.tip3p\n",
      "Reading force field modification type file (frcmod)\n",
      "Reading title:\n",
      "This is the additional/replacement parameter set for TIP3P water\n",
      "Loading parameters: /home/ma/miniconda3/envs/biobb/dat/leap/parm/frcmod.ions1lm_126_tip3p\n",
      "Reading force field modification type file (frcmod)\n",
      "Reading title:\n",
      "Li/Merz ion parameters of monovalent ions for TIP3P water model (12-6 normal usage set)\n",
      "Loading parameters: /home/ma/miniconda3/envs/biobb/dat/leap/parm/frcmod.ionsjc_tip3p\n",
      "Reading force field modification type file (frcmod)\n",
      "Reading title:\n",
      "Monovalent ion parameters for Ewald and TIP3P water from Joung & Cheatham JPCB (2008)\n",
      "Loading parameters: /home/ma/miniconda3/envs/biobb/dat/leap/parm/frcmod.ions234lm_126_tip3p\n",
      "Reading force field modification type file (frcmod)\n",
      "Reading title:\n",
      "Li/Merz ion parameters of divalent to tetravalent ions for TIP3P water model (12-6 normal usage set)\n",
      "Loading parameters: /home/ma/miniconda3/envs/biobb/dat/leap/parm/frcmod.ionsjc_tip3p\n",
      "Reading force field modification type file (frcmod)\n",
      "Reading title:\n",
      "Monovalent ion parameters for Ewald and TIP3P water from Joung & Cheatham JPCB (2008)\n",
      "Loading PDB file: ./structure.solv.pdb\n",
      "  total atoms in file: 13360\n",
      "6 Cl- ions required to neutralize.\n",
      "Adding 6 counter ions to \"mol\". 4148 solvent molecules will remain.\n",
      "0: Placed Cl- in mol at (5.66, -11.50, 21.90).\n",
      "0: Placed Cl- in mol at (28.35, -8.18, -2.61).\n",
      "0: Placed Cl- in mol at (-4.78, 14.69, 28.02).\n",
      "0: Placed Cl- in mol at (13.58, -13.55, 19.93).\n",
      "0: Placed Cl- in mol at (-11.33, -14.98, -8.97).\n",
      "0: Placed Cl- in mol at (3.79, 16.21, -13.30).\n",
      " 0.000000 0 1 0\n",
      "0 Na+ ion required to neutralize.\n",
      "Adding 3 counter ions to \"mol\". 4145 solvent molecules will remain.\n",
      "0: Placed Cl- in mol at (-13.35, 15.40, -0.06).\n",
      "0: Placed Cl- in mol at (24.06, -6.91, 22.01).\n",
      "0: Placed Cl- in mol at (-25.47, 0.41, -3.60).\n",
      "Adding 3 counter ions to \"mol\". 4142 solvent molecules will remain.\n",
      "0: Placed Na+ in mol at (-2.87, -2.92, 29.50).\n",
      "0: Placed Na+ in mol at (18.15, 14.57, 5.79).\n",
      "0: Placed Na+ in mol at (-20.62, 0.61, -0.07).\n",
      "Box dimensions:  61.141300 70.078600 71.738600\n",
      "Writing pdb file: structure.ions.pdb\n",
      "   printing CRYST1 record to PDB file with box info\n",
      "\n",
      "/home/ma/miniconda3/envs/biobb/bin/teLeap: Warning!\n",
      " Converting N-terminal residue name to PDB format: NARG -> ARG\n",
      "\n",
      "/home/ma/miniconda3/envs/biobb/bin/teLeap: Warning!\n",
      " Converting C-terminal residue name to PDB format: CGLY -> GLY\n",
      "Checking Unit.\n",
      "Building topology.\n",
      "Building atom parameters.\n",
      "Building bond parameters.\n",
      "Building angle parameters.\n",
      "Building proper torsion parameters.\n",
      "Building improper torsion parameters.\n",
      " total 205 improper torsions applied\n",
      "Building H-Bond parameters.\n",
      "Incorporating Non-Bonded adjustments.\n",
      "Not Marking per-residue atom chain types.\n",
      "Marking per-residue atom chain types.\n",
      "  (Residues lacking connect0/connect1 - \n",
      "   these don't have chain types marked:\n",
      "\n",
      "\tres\ttotal affected\n",
      "\n",
      "\tCGLY\t1\n",
      "\tNARG\t1\n",
      "\tWAT\t4142\n",
      "  )\n",
      " (no restraints)\n",
      "\tQuit\n",
      "\n",
      "Exiting LEaP: Errors = 0; Warnings = 2; Notes = 1.\n",
      "\n",
      "2022-05-27 15:39:39,428 [MainThread  ] [INFO ]  Fixing truncated octahedron Box in the topology and coordinates files\n",
      "2022-05-27 15:39:39,470 [MainThread  ] [INFO ]  Removed: ['d7a3ec66-543a-4b8c-8685-e6c53e6019b8', 'leap.log']\n"
     ]
    },
    {
     "data": {
      "text/plain": [
       "0"
      ]
     },
     "execution_count": 13,
     "metadata": {},
     "output_type": "execute_result"
    }
   ],
   "source": [
    "# Import module\n",
    "from biobb_amber.leap.leap_add_ions import leap_add_ions\n",
    "\n",
    "# Create prop dict and inputs/outputs\n",
    "output_ions_pdb_path = 'structure.ions.pdb'\n",
    "output_ions_top_path = 'structure.ions.parmtop'\n",
    "output_ions_crd_path = 'structure.ions.crd'\n",
    "\n",
    "prop = {\n",
    "    \"forcefield\" : [\"protein.ff14SB\",\"constph\"],\n",
    "    \"neutralise\" : True,\n",
    "    \"box_type\": \"truncated_octahedron\"\n",
    "}\n",
    "\n",
    "# Create and launch bb\n",
    "leap_add_ions(input_pdb_path=output_solv_pdb_path,\n",
    "           output_pdb_path=output_ions_pdb_path,\n",
    "           output_top_path=output_ions_top_path,\n",
    "           output_crd_path=output_ions_crd_path,\n",
    "           properties=prop)"
   ]
  },
  {
   "cell_type": "markdown",
   "metadata": {},
   "source": [
    "<a id=\"vis3D\"></a>\n",
    "### Visualizing 3D structure\n",
    "Visualizing the solvated **PDB structure** with the newly added **counterions** (highlighted) using **NGL**. "
   ]
  },
  {
   "cell_type": "code",
   "execution_count": 15,
   "metadata": {
    "scrolled": true
   },
   "outputs": [
    {
     "data": {
      "application/vnd.jupyter.widget-view+json": {
       "model_id": "c2e1e7e81f88487da6fe8de7a3ca3ef0",
       "version_major": 2,
       "version_minor": 0
      },
      "text/plain": [
       "NGLWidget()"
      ]
     },
     "metadata": {},
     "output_type": "display_data"
    }
   ],
   "source": [
    "# Show protein\n",
    "view = nglview.show_structure_file(output_ions_pdb_path)\n",
    "view.clear_representations()\n",
    "view.add_representation(repr_type='cartoon', selection='protein')\n",
    "view.add_representation(repr_type='ball+stick', selection='protein')\n",
    "view.add_representation(repr_type='line', selection='solvent')\n",
    "view.add_representation(repr_type='spacefill', selection='Cl-', color='green')\n",
    "view.add_representation(repr_type='spacefill', selection='Na+', color='blue')\n",
    "view._remote_call('setSize', target='Widget', args=['','600px'])\n",
    "view"
   ]
  },
  {
   "cell_type": "markdown",
   "metadata": {},
   "source": [
    "<a id=\"cpinutil1\"></a>\n",
    "## Generating the constant pH input file\n",
    "\n",
    "Generating the **constant pH** input file (***cpin file***) using the **cpinutil.py** program from the **AmberTools MD package**. This step is identifying which residues should be **titrated** during the course of the **MD simulation**. <br>\n",
    "In this particular example, the residues we are interested in **titrating** during the simulation are **Glutamates (GL4)**, **Aspartates (AS4)**, **Cysteines (CYS)**, **Lysines (LYS)** and **Tyrosines (TYR)** (the structure used in this example doesn't contain Histidine residues). \n",
    "\n",
    "***\n",
    "**Building Blocks** used:\n",
    " - [parmed_cpinutil](https://biobb-amber.readthedocs.io/en/latest/parmed.html#module-parmed.parmed_cpinutil) from **biobb_amber.parmed.parmed_cpinutil**\n",
    "***"
   ]
  },
  {
   "cell_type": "code",
   "execution_count": 16,
   "metadata": {},
   "outputs": [
    {
     "name": "stdout",
     "output_type": "stream",
     "text": [
      "2022-05-27 15:45:40,634 [MainThread  ] [INFO ]  Creating b8987399-093f-4ca6-87d2-bc2b4bc4120c temporary folder\n",
      "2022-05-27 15:45:40,635 [MainThread  ] [INFO ]  Creating command line with instructions and required arguments\n",
      "2022-05-27 15:45:40,636 [MainThread  ] [INFO ]  Not using any container\n",
      "2022-05-27 15:45:40,638 [MainThread  ] [INFO ]  cpinutil.py -p structure.ions.parmtop -o structure.cpin -igb 2 -system BPTI -resnames AS4 GL4 CYS LYS TYR -op structure.cpH.parmtop\n",
      "\n",
      "2022-05-27 15:45:41,983 [MainThread  ] [INFO ]  Exit code 0\n",
      "\n",
      "2022-05-27 15:45:41,986 [MainThread  ] [INFO ]  CPIN generation complete!\n",
      "\n",
      "2022-05-27 15:45:41,988 [MainThread  ] [INFO ]  Removed: ['b8987399-093f-4ca6-87d2-bc2b4bc4120c']\n"
     ]
    },
    {
     "data": {
      "text/plain": [
       "0"
      ]
     },
     "execution_count": 16,
     "metadata": {},
     "output_type": "execute_result"
    }
   ],
   "source": [
    "# Import module\n",
    "from biobb_amber.parmed.parmed_cpinutil import parmed_cpinutil\n",
    "\n",
    "# Create prop dict and inputs/outputs\n",
    "output_cpin_path = 'structure.cpin'\n",
    "output_top_cpin_path = 'structure.cpH.parmtop'\n",
    "\n",
    "prop = {\n",
    "    \"igb\" : 2,\n",
    "    \"resnames\": \"AS4 GL4 CYS LYS TYR\", # No Histidines in our structure\n",
    "    \"system\": \"BPTI\"\n",
    "}\n",
    "\n",
    "# Create and launch bb\n",
    "parmed_cpinutil(input_top_path=output_ions_top_path,\n",
    "           output_cpin_path=output_cpin_path,\n",
    "           output_top_path=output_top_cpin_path,\n",
    "           properties=prop)"
   ]
  },
  {
   "cell_type": "markdown",
   "metadata": {},
   "source": [
    "<a id=\"min\"></a>\n",
    "## Energetically minimize the system\n",
    "\n",
    "**Energetically minimize** the **system** (protein structure + solvent + ions) using the **sander tool** from the **AMBER MD package**. **Restraining backbone atoms** with a force constant of 10 Kcal/mol.$Å^{2}$ to their initial positions.\n",
    "\n",
    "- [Step 1](#emStep1): Energetically minimize the **system** through 500 minimization cycles.\n",
    "- [Step 2](#emStep2): Checking **energy minimization** results. Plotting energy by time during the **minimization** process. \n",
    "***\n",
    "**Building Blocks** used:\n",
    " - [sander_mdrun](https://biobb-amber.readthedocs.io/en/latest/sander.html#module-sander.sander_mdrun) from **biobb_amber.sander.sander_mdrun**\n",
    " - [process_minout](https://biobb-amber.readthedocs.io/en/latest/process.html#module-process.process_minout) from **biobb_amber.process.process_minout**\n",
    "***"
   ]
  },
  {
   "cell_type": "markdown",
   "metadata": {},
   "source": [
    "<a id=\"minv_1\"></a>\n",
    "### Step 1: Energetically minimize the system\n",
    "**System minimization**, applying **position restraints** (10 Kcal/mol.$Å^{2}$) to the **protein backbone atoms**."
   ]
  },
  {
   "cell_type": "code",
   "execution_count": 17,
   "metadata": {},
   "outputs": [
    {
     "name": "stdout",
     "output_type": "stream",
     "text": [
      "2022-05-27 15:50:31,866 [MainThread  ] [INFO ]  Creating 09c7d19f-b6ef-46ee-bb47-dcb18caa9e55 temporary folder\n",
      "2022-05-27 15:50:31,867 [MainThread  ] [INFO ]  Not using any container\n",
      "2022-05-27 15:50:31,868 [MainThread  ] [INFO ]  sander -O -i 09c7d19f-b6ef-46ee-bb47-dcb18caa9e55/sander.mdin -p structure.cpH.parmtop -c structure.ions.crd -r sander.cpH.rst -o sander.cpH.log -x sander.cpH.x -ref structure.ions.crd\n",
      "\n",
      "2022-05-27 15:52:04,113 [MainThread  ] [INFO ]  Exit code 0\n",
      "\n",
      "2022-05-27 15:52:04,115 [MainThread  ] [INFO ]  Removed: ['09c7d19f-b6ef-46ee-bb47-dcb18caa9e55', 'mdinfo']\n"
     ]
    },
    {
     "data": {
      "text/plain": [
       "0"
      ]
     },
     "execution_count": 17,
     "metadata": {},
     "output_type": "execute_result"
    }
   ],
   "source": [
    "# Import module\n",
    "from biobb_amber.sander.sander_mdrun import sander_mdrun\n",
    "\n",
    "# Create prop dict and inputs/outputs\n",
    "output_min_traj_path = 'sander.cpH.x'\n",
    "output_min_rst_path = 'sander.cpH.rst'\n",
    "output_min_log_path = 'sander.cpH.log'\n",
    "\n",
    "prop = {\n",
    "    \"simulation_type\" : \"minimization\",\n",
    "    \"mdin\" : { \n",
    "        'maxcyc' : 500,\n",
    "        'ntr' : 1,           # Turn on positional restraints\n",
    "        'restraint_wt' : 10,  # 10 kcal/mol/A**2 restraint force constant\n",
    "        'restraintmask' : '\\\"@CA,C,O,N\\\"' # Restraints on the backbone atoms only\n",
    "    }\n",
    "}\n",
    "\n",
    "# Create and launch bb\n",
    "sander_mdrun(input_top_path=output_top_cpin_path,\n",
    "            input_crd_path=output_ions_crd_path,\n",
    "            input_ref_path=output_ions_crd_path,\n",
    "            output_traj_path=output_min_traj_path,\n",
    "            output_rst_path=output_min_rst_path,\n",
    "            output_log_path=output_min_log_path,\n",
    "            properties=prop)"
   ]
  },
  {
   "cell_type": "markdown",
   "metadata": {},
   "source": [
    "<a id=\"emStep2\"></a>\n",
    "### Step 2: Checking Energy Minimization results\n",
    "Checking **energy minimization** results. Plotting **potential energy** along time during the **minimization process**."
   ]
  },
  {
   "cell_type": "code",
   "execution_count": 18,
   "metadata": {
    "scrolled": true
   },
   "outputs": [
    {
     "name": "stdout",
     "output_type": "stream",
     "text": [
      "2022-05-27 15:53:33,329 [MainThread  ] [INFO ]  Not using any container\n",
      "2022-05-27 15:53:33,331 [MainThread  ] [INFO ]  process_minout.perl  sander.cpH.log\n",
      "\n",
      "2022-05-27 15:53:33,359 [MainThread  ] [INFO ]  Exit code 0\n",
      "\n",
      "2022-05-27 15:53:33,361 [MainThread  ] [INFO ]  Processing sander output file (sander.cpH.log)...\n",
      "Processing step 50 of a possible 500...\n",
      "Processing step 100 of a possible 500...\n",
      "Processing step 150 of a possible 500...\n",
      "Processing step 200 of a possible 500...\n",
      "Processing step 250 of a possible 500...\n",
      "Processing step 300 of a possible 500...\n",
      "Processing step 350 of a possible 500...\n",
      "Processing step 400 of a possible 500...\n",
      "Processing step 450 of a possible 500...\n",
      "Processing step 500 of a possible 500...\n",
      "Processing step 500 of a possible 500...\n",
      "Starting output...\n",
      "Outputing summary.NSTEP\n",
      "Outputing summary.ENERGY\n",
      "Outputing summary.RMS\n",
      "Outputing summary.GMAX\n",
      "Outputing summary.NAME\n",
      "Outputing summary.NUMBER\n",
      "Outputing summary.BOND\n",
      "Outputing summary.ANGLE\n",
      "Outputing summary.DIHEDRAL\n",
      "Outputing summary.VDWAALS\n",
      "Outputing summary.EEL\n",
      "Outputing summary.HBOND\n",
      "Outputing summary.VDW14\n",
      "Outputing summary.EEL14\n",
      "Outputing summary.RESTRAINT\n",
      "\n",
      "2022-05-27 15:53:33,365 [MainThread  ] [INFO ]  Removed: [PosixPath('summary.NAME'), PosixPath('summary.VDWAALS'), PosixPath('summary.GMAX'), PosixPath('summary.EEL'), PosixPath('summary.NSTEP'), PosixPath('summary.HBOND'), PosixPath('summary.RESTRAINT'), PosixPath('summary.EEL14'), PosixPath('summary.BOND'), PosixPath('summary.RMS'), PosixPath('summary.ENERGY'), PosixPath('summary.NUMBER'), PosixPath('summary.VDW14'), PosixPath('summary.ANGLE'), PosixPath('summary.DIHEDRAL')]\n"
     ]
    },
    {
     "data": {
      "text/plain": [
       "0"
      ]
     },
     "execution_count": 18,
     "metadata": {},
     "output_type": "execute_result"
    }
   ],
   "source": [
    "# Import module\n",
    "from biobb_amber.process.process_minout import process_minout\n",
    "\n",
    "# Create prop dict and inputs/outputs\n",
    "output_h_min_dat_path = 'sander.min.energy.dat'\n",
    "\n",
    "prop = {\n",
    "    \"terms\" : ['ENERGY']\n",
    "}\n",
    "\n",
    "# Create and launch bb\n",
    "process_minout(input_log_path=output_min_log_path,\n",
    "            output_dat_path=output_h_min_dat_path,\n",
    "            properties=prop)"
   ]
  },
  {
   "cell_type": "code",
   "execution_count": 19,
   "metadata": {},
   "outputs": [
    {
     "data": {
      "text/html": [
       "        <script type=\"text/javascript\">\n",
       "        window.PlotlyConfig = {MathJaxConfig: 'local'};\n",
       "        if (window.MathJax && window.MathJax.Hub && window.MathJax.Hub.Config) {window.MathJax.Hub.Config({SVG: {font: \"STIX-Web\"}});}\n",
       "        if (typeof require !== 'undefined') {\n",
       "        require.undef(\"plotly\");\n",
       "        requirejs.config({\n",
       "            paths: {\n",
       "                'plotly': ['https://cdn.plot.ly/plotly-2.12.1.min']\n",
       "            }\n",
       "        });\n",
       "        require(['plotly'], function(Plotly) {\n",
       "            window._Plotly = Plotly;\n",
       "        });\n",
       "        }\n",
       "        </script>\n",
       "        "
      ]
     },
     "metadata": {},
     "output_type": "display_data"
    },
    {
     "data": {
      "application/vnd.plotly.v1+json": {
       "config": {
        "linkText": "Export to plot.ly",
        "plotlyServerURL": "https://plot.ly",
        "showLink": false
       },
       "data": [
        {
         "type": "scatter",
         "x": [
          1,
          50,
          100,
          150,
          200,
          250,
          300,
          350,
          400,
          450,
          500
         ],
         "y": [
          -13659,
          -44459,
          -46185,
          -46761,
          -47023,
          -47214,
          -47391,
          -47478,
          -47537,
          -47594,
          -47638
         ]
        }
       ],
       "layout": {
        "template": {
         "data": {
          "bar": [
           {
            "error_x": {
             "color": "#2a3f5f"
            },
            "error_y": {
             "color": "#2a3f5f"
            },
            "marker": {
             "line": {
              "color": "#E5ECF6",
              "width": 0.5
             },
             "pattern": {
              "fillmode": "overlay",
              "size": 10,
              "solidity": 0.2
             }
            },
            "type": "bar"
           }
          ],
          "barpolar": [
           {
            "marker": {
             "line": {
              "color": "#E5ECF6",
              "width": 0.5
             },
             "pattern": {
              "fillmode": "overlay",
              "size": 10,
              "solidity": 0.2
             }
            },
            "type": "barpolar"
           }
          ],
          "carpet": [
           {
            "aaxis": {
             "endlinecolor": "#2a3f5f",
             "gridcolor": "white",
             "linecolor": "white",
             "minorgridcolor": "white",
             "startlinecolor": "#2a3f5f"
            },
            "baxis": {
             "endlinecolor": "#2a3f5f",
             "gridcolor": "white",
             "linecolor": "white",
             "minorgridcolor": "white",
             "startlinecolor": "#2a3f5f"
            },
            "type": "carpet"
           }
          ],
          "choropleth": [
           {
            "colorbar": {
             "outlinewidth": 0,
             "ticks": ""
            },
            "type": "choropleth"
           }
          ],
          "contour": [
           {
            "colorbar": {
             "outlinewidth": 0,
             "ticks": ""
            },
            "colorscale": [
             [
              0,
              "#0d0887"
             ],
             [
              0.1111111111111111,
              "#46039f"
             ],
             [
              0.2222222222222222,
              "#7201a8"
             ],
             [
              0.3333333333333333,
              "#9c179e"
             ],
             [
              0.4444444444444444,
              "#bd3786"
             ],
             [
              0.5555555555555556,
              "#d8576b"
             ],
             [
              0.6666666666666666,
              "#ed7953"
             ],
             [
              0.7777777777777778,
              "#fb9f3a"
             ],
             [
              0.8888888888888888,
              "#fdca26"
             ],
             [
              1,
              "#f0f921"
             ]
            ],
            "type": "contour"
           }
          ],
          "contourcarpet": [
           {
            "colorbar": {
             "outlinewidth": 0,
             "ticks": ""
            },
            "type": "contourcarpet"
           }
          ],
          "heatmap": [
           {
            "colorbar": {
             "outlinewidth": 0,
             "ticks": ""
            },
            "colorscale": [
             [
              0,
              "#0d0887"
             ],
             [
              0.1111111111111111,
              "#46039f"
             ],
             [
              0.2222222222222222,
              "#7201a8"
             ],
             [
              0.3333333333333333,
              "#9c179e"
             ],
             [
              0.4444444444444444,
              "#bd3786"
             ],
             [
              0.5555555555555556,
              "#d8576b"
             ],
             [
              0.6666666666666666,
              "#ed7953"
             ],
             [
              0.7777777777777778,
              "#fb9f3a"
             ],
             [
              0.8888888888888888,
              "#fdca26"
             ],
             [
              1,
              "#f0f921"
             ]
            ],
            "type": "heatmap"
           }
          ],
          "heatmapgl": [
           {
            "colorbar": {
             "outlinewidth": 0,
             "ticks": ""
            },
            "colorscale": [
             [
              0,
              "#0d0887"
             ],
             [
              0.1111111111111111,
              "#46039f"
             ],
             [
              0.2222222222222222,
              "#7201a8"
             ],
             [
              0.3333333333333333,
              "#9c179e"
             ],
             [
              0.4444444444444444,
              "#bd3786"
             ],
             [
              0.5555555555555556,
              "#d8576b"
             ],
             [
              0.6666666666666666,
              "#ed7953"
             ],
             [
              0.7777777777777778,
              "#fb9f3a"
             ],
             [
              0.8888888888888888,
              "#fdca26"
             ],
             [
              1,
              "#f0f921"
             ]
            ],
            "type": "heatmapgl"
           }
          ],
          "histogram": [
           {
            "marker": {
             "pattern": {
              "fillmode": "overlay",
              "size": 10,
              "solidity": 0.2
             }
            },
            "type": "histogram"
           }
          ],
          "histogram2d": [
           {
            "colorbar": {
             "outlinewidth": 0,
             "ticks": ""
            },
            "colorscale": [
             [
              0,
              "#0d0887"
             ],
             [
              0.1111111111111111,
              "#46039f"
             ],
             [
              0.2222222222222222,
              "#7201a8"
             ],
             [
              0.3333333333333333,
              "#9c179e"
             ],
             [
              0.4444444444444444,
              "#bd3786"
             ],
             [
              0.5555555555555556,
              "#d8576b"
             ],
             [
              0.6666666666666666,
              "#ed7953"
             ],
             [
              0.7777777777777778,
              "#fb9f3a"
             ],
             [
              0.8888888888888888,
              "#fdca26"
             ],
             [
              1,
              "#f0f921"
             ]
            ],
            "type": "histogram2d"
           }
          ],
          "histogram2dcontour": [
           {
            "colorbar": {
             "outlinewidth": 0,
             "ticks": ""
            },
            "colorscale": [
             [
              0,
              "#0d0887"
             ],
             [
              0.1111111111111111,
              "#46039f"
             ],
             [
              0.2222222222222222,
              "#7201a8"
             ],
             [
              0.3333333333333333,
              "#9c179e"
             ],
             [
              0.4444444444444444,
              "#bd3786"
             ],
             [
              0.5555555555555556,
              "#d8576b"
             ],
             [
              0.6666666666666666,
              "#ed7953"
             ],
             [
              0.7777777777777778,
              "#fb9f3a"
             ],
             [
              0.8888888888888888,
              "#fdca26"
             ],
             [
              1,
              "#f0f921"
             ]
            ],
            "type": "histogram2dcontour"
           }
          ],
          "mesh3d": [
           {
            "colorbar": {
             "outlinewidth": 0,
             "ticks": ""
            },
            "type": "mesh3d"
           }
          ],
          "parcoords": [
           {
            "line": {
             "colorbar": {
              "outlinewidth": 0,
              "ticks": ""
             }
            },
            "type": "parcoords"
           }
          ],
          "pie": [
           {
            "automargin": true,
            "type": "pie"
           }
          ],
          "scatter": [
           {
            "fillpattern": {
             "fillmode": "overlay",
             "size": 10,
             "solidity": 0.2
            },
            "type": "scatter"
           }
          ],
          "scatter3d": [
           {
            "line": {
             "colorbar": {
              "outlinewidth": 0,
              "ticks": ""
             }
            },
            "marker": {
             "colorbar": {
              "outlinewidth": 0,
              "ticks": ""
             }
            },
            "type": "scatter3d"
           }
          ],
          "scattercarpet": [
           {
            "marker": {
             "colorbar": {
              "outlinewidth": 0,
              "ticks": ""
             }
            },
            "type": "scattercarpet"
           }
          ],
          "scattergeo": [
           {
            "marker": {
             "colorbar": {
              "outlinewidth": 0,
              "ticks": ""
             }
            },
            "type": "scattergeo"
           }
          ],
          "scattergl": [
           {
            "marker": {
             "colorbar": {
              "outlinewidth": 0,
              "ticks": ""
             }
            },
            "type": "scattergl"
           }
          ],
          "scattermapbox": [
           {
            "marker": {
             "colorbar": {
              "outlinewidth": 0,
              "ticks": ""
             }
            },
            "type": "scattermapbox"
           }
          ],
          "scatterpolar": [
           {
            "marker": {
             "colorbar": {
              "outlinewidth": 0,
              "ticks": ""
             }
            },
            "type": "scatterpolar"
           }
          ],
          "scatterpolargl": [
           {
            "marker": {
             "colorbar": {
              "outlinewidth": 0,
              "ticks": ""
             }
            },
            "type": "scatterpolargl"
           }
          ],
          "scatterternary": [
           {
            "marker": {
             "colorbar": {
              "outlinewidth": 0,
              "ticks": ""
             }
            },
            "type": "scatterternary"
           }
          ],
          "surface": [
           {
            "colorbar": {
             "outlinewidth": 0,
             "ticks": ""
            },
            "colorscale": [
             [
              0,
              "#0d0887"
             ],
             [
              0.1111111111111111,
              "#46039f"
             ],
             [
              0.2222222222222222,
              "#7201a8"
             ],
             [
              0.3333333333333333,
              "#9c179e"
             ],
             [
              0.4444444444444444,
              "#bd3786"
             ],
             [
              0.5555555555555556,
              "#d8576b"
             ],
             [
              0.6666666666666666,
              "#ed7953"
             ],
             [
              0.7777777777777778,
              "#fb9f3a"
             ],
             [
              0.8888888888888888,
              "#fdca26"
             ],
             [
              1,
              "#f0f921"
             ]
            ],
            "type": "surface"
           }
          ],
          "table": [
           {
            "cells": {
             "fill": {
              "color": "#EBF0F8"
             },
             "line": {
              "color": "white"
             }
            },
            "header": {
             "fill": {
              "color": "#C8D4E3"
             },
             "line": {
              "color": "white"
             }
            },
            "type": "table"
           }
          ]
         },
         "layout": {
          "annotationdefaults": {
           "arrowcolor": "#2a3f5f",
           "arrowhead": 0,
           "arrowwidth": 1
          },
          "autotypenumbers": "strict",
          "coloraxis": {
           "colorbar": {
            "outlinewidth": 0,
            "ticks": ""
           }
          },
          "colorscale": {
           "diverging": [
            [
             0,
             "#8e0152"
            ],
            [
             0.1,
             "#c51b7d"
            ],
            [
             0.2,
             "#de77ae"
            ],
            [
             0.3,
             "#f1b6da"
            ],
            [
             0.4,
             "#fde0ef"
            ],
            [
             0.5,
             "#f7f7f7"
            ],
            [
             0.6,
             "#e6f5d0"
            ],
            [
             0.7,
             "#b8e186"
            ],
            [
             0.8,
             "#7fbc41"
            ],
            [
             0.9,
             "#4d9221"
            ],
            [
             1,
             "#276419"
            ]
           ],
           "sequential": [
            [
             0,
             "#0d0887"
            ],
            [
             0.1111111111111111,
             "#46039f"
            ],
            [
             0.2222222222222222,
             "#7201a8"
            ],
            [
             0.3333333333333333,
             "#9c179e"
            ],
            [
             0.4444444444444444,
             "#bd3786"
            ],
            [
             0.5555555555555556,
             "#d8576b"
            ],
            [
             0.6666666666666666,
             "#ed7953"
            ],
            [
             0.7777777777777778,
             "#fb9f3a"
            ],
            [
             0.8888888888888888,
             "#fdca26"
            ],
            [
             1,
             "#f0f921"
            ]
           ],
           "sequentialminus": [
            [
             0,
             "#0d0887"
            ],
            [
             0.1111111111111111,
             "#46039f"
            ],
            [
             0.2222222222222222,
             "#7201a8"
            ],
            [
             0.3333333333333333,
             "#9c179e"
            ],
            [
             0.4444444444444444,
             "#bd3786"
            ],
            [
             0.5555555555555556,
             "#d8576b"
            ],
            [
             0.6666666666666666,
             "#ed7953"
            ],
            [
             0.7777777777777778,
             "#fb9f3a"
            ],
            [
             0.8888888888888888,
             "#fdca26"
            ],
            [
             1,
             "#f0f921"
            ]
           ]
          },
          "colorway": [
           "#636efa",
           "#EF553B",
           "#00cc96",
           "#ab63fa",
           "#FFA15A",
           "#19d3f3",
           "#FF6692",
           "#B6E880",
           "#FF97FF",
           "#FECB52"
          ],
          "font": {
           "color": "#2a3f5f"
          },
          "geo": {
           "bgcolor": "white",
           "lakecolor": "white",
           "landcolor": "#E5ECF6",
           "showlakes": true,
           "showland": true,
           "subunitcolor": "white"
          },
          "hoverlabel": {
           "align": "left"
          },
          "hovermode": "closest",
          "mapbox": {
           "style": "light"
          },
          "paper_bgcolor": "white",
          "plot_bgcolor": "#E5ECF6",
          "polar": {
           "angularaxis": {
            "gridcolor": "white",
            "linecolor": "white",
            "ticks": ""
           },
           "bgcolor": "#E5ECF6",
           "radialaxis": {
            "gridcolor": "white",
            "linecolor": "white",
            "ticks": ""
           }
          },
          "scene": {
           "xaxis": {
            "backgroundcolor": "#E5ECF6",
            "gridcolor": "white",
            "gridwidth": 2,
            "linecolor": "white",
            "showbackground": true,
            "ticks": "",
            "zerolinecolor": "white"
           },
           "yaxis": {
            "backgroundcolor": "#E5ECF6",
            "gridcolor": "white",
            "gridwidth": 2,
            "linecolor": "white",
            "showbackground": true,
            "ticks": "",
            "zerolinecolor": "white"
           },
           "zaxis": {
            "backgroundcolor": "#E5ECF6",
            "gridcolor": "white",
            "gridwidth": 2,
            "linecolor": "white",
            "showbackground": true,
            "ticks": "",
            "zerolinecolor": "white"
           }
          },
          "shapedefaults": {
           "line": {
            "color": "#2a3f5f"
           }
          },
          "ternary": {
           "aaxis": {
            "gridcolor": "white",
            "linecolor": "white",
            "ticks": ""
           },
           "baxis": {
            "gridcolor": "white",
            "linecolor": "white",
            "ticks": ""
           },
           "bgcolor": "#E5ECF6",
           "caxis": {
            "gridcolor": "white",
            "linecolor": "white",
            "ticks": ""
           }
          },
          "title": {
           "x": 0.05
          },
          "xaxis": {
           "automargin": true,
           "gridcolor": "white",
           "linecolor": "white",
           "ticks": "",
           "title": {
            "standoff": 15
           },
           "zerolinecolor": "white",
           "zerolinewidth": 2
          },
          "yaxis": {
           "automargin": true,
           "gridcolor": "white",
           "linecolor": "white",
           "ticks": "",
           "title": {
            "standoff": 15
           },
           "zerolinecolor": "white",
           "zerolinewidth": 2
          }
         }
        },
        "title": {
         "text": "Energy Minimization"
        },
        "xaxis": {
         "title": {
          "text": "Energy Minimization Step"
         }
        },
        "yaxis": {
         "title": {
          "text": "Potential Energy kcal/mol"
         }
        }
       }
      },
      "text/html": [
       "<div>                            <div id=\"d1f5a3fb-fa55-4dfa-888a-a2313df2edab\" class=\"plotly-graph-div\" style=\"height:525px; width:100%;\"></div>            <script type=\"text/javascript\">                require([\"plotly\"], function(Plotly) {                    window.PLOTLYENV=window.PLOTLYENV || {};                                    if (document.getElementById(\"d1f5a3fb-fa55-4dfa-888a-a2313df2edab\")) {                    Plotly.newPlot(                        \"d1f5a3fb-fa55-4dfa-888a-a2313df2edab\",                        [{\"x\":[1.0,50.0,100.0,150.0,200.0,250.0,300.0,350.0,400.0,450.0,500.0],\"y\":[-13659.0,-44459.0,-46185.0,-46761.0,-47023.0,-47214.0,-47391.0,-47478.0,-47537.0,-47594.0,-47638.0],\"type\":\"scatter\"}],                        {\"template\":{\"data\":{\"barpolar\":[{\"marker\":{\"line\":{\"color\":\"#E5ECF6\",\"width\":0.5},\"pattern\":{\"fillmode\":\"overlay\",\"size\":10,\"solidity\":0.2}},\"type\":\"barpolar\"}],\"bar\":[{\"error_x\":{\"color\":\"#2a3f5f\"},\"error_y\":{\"color\":\"#2a3f5f\"},\"marker\":{\"line\":{\"color\":\"#E5ECF6\",\"width\":0.5},\"pattern\":{\"fillmode\":\"overlay\",\"size\":10,\"solidity\":0.2}},\"type\":\"bar\"}],\"carpet\":[{\"aaxis\":{\"endlinecolor\":\"#2a3f5f\",\"gridcolor\":\"white\",\"linecolor\":\"white\",\"minorgridcolor\":\"white\",\"startlinecolor\":\"#2a3f5f\"},\"baxis\":{\"endlinecolor\":\"#2a3f5f\",\"gridcolor\":\"white\",\"linecolor\":\"white\",\"minorgridcolor\":\"white\",\"startlinecolor\":\"#2a3f5f\"},\"type\":\"carpet\"}],\"choropleth\":[{\"colorbar\":{\"outlinewidth\":0,\"ticks\":\"\"},\"type\":\"choropleth\"}],\"contourcarpet\":[{\"colorbar\":{\"outlinewidth\":0,\"ticks\":\"\"},\"type\":\"contourcarpet\"}],\"contour\":[{\"colorbar\":{\"outlinewidth\":0,\"ticks\":\"\"},\"colorscale\":[[0.0,\"#0d0887\"],[0.1111111111111111,\"#46039f\"],[0.2222222222222222,\"#7201a8\"],[0.3333333333333333,\"#9c179e\"],[0.4444444444444444,\"#bd3786\"],[0.5555555555555556,\"#d8576b\"],[0.6666666666666666,\"#ed7953\"],[0.7777777777777778,\"#fb9f3a\"],[0.8888888888888888,\"#fdca26\"],[1.0,\"#f0f921\"]],\"type\":\"contour\"}],\"heatmapgl\":[{\"colorbar\":{\"outlinewidth\":0,\"ticks\":\"\"},\"colorscale\":[[0.0,\"#0d0887\"],[0.1111111111111111,\"#46039f\"],[0.2222222222222222,\"#7201a8\"],[0.3333333333333333,\"#9c179e\"],[0.4444444444444444,\"#bd3786\"],[0.5555555555555556,\"#d8576b\"],[0.6666666666666666,\"#ed7953\"],[0.7777777777777778,\"#fb9f3a\"],[0.8888888888888888,\"#fdca26\"],[1.0,\"#f0f921\"]],\"type\":\"heatmapgl\"}],\"heatmap\":[{\"colorbar\":{\"outlinewidth\":0,\"ticks\":\"\"},\"colorscale\":[[0.0,\"#0d0887\"],[0.1111111111111111,\"#46039f\"],[0.2222222222222222,\"#7201a8\"],[0.3333333333333333,\"#9c179e\"],[0.4444444444444444,\"#bd3786\"],[0.5555555555555556,\"#d8576b\"],[0.6666666666666666,\"#ed7953\"],[0.7777777777777778,\"#fb9f3a\"],[0.8888888888888888,\"#fdca26\"],[1.0,\"#f0f921\"]],\"type\":\"heatmap\"}],\"histogram2dcontour\":[{\"colorbar\":{\"outlinewidth\":0,\"ticks\":\"\"},\"colorscale\":[[0.0,\"#0d0887\"],[0.1111111111111111,\"#46039f\"],[0.2222222222222222,\"#7201a8\"],[0.3333333333333333,\"#9c179e\"],[0.4444444444444444,\"#bd3786\"],[0.5555555555555556,\"#d8576b\"],[0.6666666666666666,\"#ed7953\"],[0.7777777777777778,\"#fb9f3a\"],[0.8888888888888888,\"#fdca26\"],[1.0,\"#f0f921\"]],\"type\":\"histogram2dcontour\"}],\"histogram2d\":[{\"colorbar\":{\"outlinewidth\":0,\"ticks\":\"\"},\"colorscale\":[[0.0,\"#0d0887\"],[0.1111111111111111,\"#46039f\"],[0.2222222222222222,\"#7201a8\"],[0.3333333333333333,\"#9c179e\"],[0.4444444444444444,\"#bd3786\"],[0.5555555555555556,\"#d8576b\"],[0.6666666666666666,\"#ed7953\"],[0.7777777777777778,\"#fb9f3a\"],[0.8888888888888888,\"#fdca26\"],[1.0,\"#f0f921\"]],\"type\":\"histogram2d\"}],\"histogram\":[{\"marker\":{\"pattern\":{\"fillmode\":\"overlay\",\"size\":10,\"solidity\":0.2}},\"type\":\"histogram\"}],\"mesh3d\":[{\"colorbar\":{\"outlinewidth\":0,\"ticks\":\"\"},\"type\":\"mesh3d\"}],\"parcoords\":[{\"line\":{\"colorbar\":{\"outlinewidth\":0,\"ticks\":\"\"}},\"type\":\"parcoords\"}],\"pie\":[{\"automargin\":true,\"type\":\"pie\"}],\"scatter3d\":[{\"line\":{\"colorbar\":{\"outlinewidth\":0,\"ticks\":\"\"}},\"marker\":{\"colorbar\":{\"outlinewidth\":0,\"ticks\":\"\"}},\"type\":\"scatter3d\"}],\"scattercarpet\":[{\"marker\":{\"colorbar\":{\"outlinewidth\":0,\"ticks\":\"\"}},\"type\":\"scattercarpet\"}],\"scattergeo\":[{\"marker\":{\"colorbar\":{\"outlinewidth\":0,\"ticks\":\"\"}},\"type\":\"scattergeo\"}],\"scattergl\":[{\"marker\":{\"colorbar\":{\"outlinewidth\":0,\"ticks\":\"\"}},\"type\":\"scattergl\"}],\"scattermapbox\":[{\"marker\":{\"colorbar\":{\"outlinewidth\":0,\"ticks\":\"\"}},\"type\":\"scattermapbox\"}],\"scatterpolargl\":[{\"marker\":{\"colorbar\":{\"outlinewidth\":0,\"ticks\":\"\"}},\"type\":\"scatterpolargl\"}],\"scatterpolar\":[{\"marker\":{\"colorbar\":{\"outlinewidth\":0,\"ticks\":\"\"}},\"type\":\"scatterpolar\"}],\"scatter\":[{\"fillpattern\":{\"fillmode\":\"overlay\",\"size\":10,\"solidity\":0.2},\"type\":\"scatter\"}],\"scatterternary\":[{\"marker\":{\"colorbar\":{\"outlinewidth\":0,\"ticks\":\"\"}},\"type\":\"scatterternary\"}],\"surface\":[{\"colorbar\":{\"outlinewidth\":0,\"ticks\":\"\"},\"colorscale\":[[0.0,\"#0d0887\"],[0.1111111111111111,\"#46039f\"],[0.2222222222222222,\"#7201a8\"],[0.3333333333333333,\"#9c179e\"],[0.4444444444444444,\"#bd3786\"],[0.5555555555555556,\"#d8576b\"],[0.6666666666666666,\"#ed7953\"],[0.7777777777777778,\"#fb9f3a\"],[0.8888888888888888,\"#fdca26\"],[1.0,\"#f0f921\"]],\"type\":\"surface\"}],\"table\":[{\"cells\":{\"fill\":{\"color\":\"#EBF0F8\"},\"line\":{\"color\":\"white\"}},\"header\":{\"fill\":{\"color\":\"#C8D4E3\"},\"line\":{\"color\":\"white\"}},\"type\":\"table\"}]},\"layout\":{\"annotationdefaults\":{\"arrowcolor\":\"#2a3f5f\",\"arrowhead\":0,\"arrowwidth\":1},\"autotypenumbers\":\"strict\",\"coloraxis\":{\"colorbar\":{\"outlinewidth\":0,\"ticks\":\"\"}},\"colorscale\":{\"diverging\":[[0,\"#8e0152\"],[0.1,\"#c51b7d\"],[0.2,\"#de77ae\"],[0.3,\"#f1b6da\"],[0.4,\"#fde0ef\"],[0.5,\"#f7f7f7\"],[0.6,\"#e6f5d0\"],[0.7,\"#b8e186\"],[0.8,\"#7fbc41\"],[0.9,\"#4d9221\"],[1,\"#276419\"]],\"sequential\":[[0.0,\"#0d0887\"],[0.1111111111111111,\"#46039f\"],[0.2222222222222222,\"#7201a8\"],[0.3333333333333333,\"#9c179e\"],[0.4444444444444444,\"#bd3786\"],[0.5555555555555556,\"#d8576b\"],[0.6666666666666666,\"#ed7953\"],[0.7777777777777778,\"#fb9f3a\"],[0.8888888888888888,\"#fdca26\"],[1.0,\"#f0f921\"]],\"sequentialminus\":[[0.0,\"#0d0887\"],[0.1111111111111111,\"#46039f\"],[0.2222222222222222,\"#7201a8\"],[0.3333333333333333,\"#9c179e\"],[0.4444444444444444,\"#bd3786\"],[0.5555555555555556,\"#d8576b\"],[0.6666666666666666,\"#ed7953\"],[0.7777777777777778,\"#fb9f3a\"],[0.8888888888888888,\"#fdca26\"],[1.0,\"#f0f921\"]]},\"colorway\":[\"#636efa\",\"#EF553B\",\"#00cc96\",\"#ab63fa\",\"#FFA15A\",\"#19d3f3\",\"#FF6692\",\"#B6E880\",\"#FF97FF\",\"#FECB52\"],\"font\":{\"color\":\"#2a3f5f\"},\"geo\":{\"bgcolor\":\"white\",\"lakecolor\":\"white\",\"landcolor\":\"#E5ECF6\",\"showlakes\":true,\"showland\":true,\"subunitcolor\":\"white\"},\"hoverlabel\":{\"align\":\"left\"},\"hovermode\":\"closest\",\"mapbox\":{\"style\":\"light\"},\"paper_bgcolor\":\"white\",\"plot_bgcolor\":\"#E5ECF6\",\"polar\":{\"angularaxis\":{\"gridcolor\":\"white\",\"linecolor\":\"white\",\"ticks\":\"\"},\"bgcolor\":\"#E5ECF6\",\"radialaxis\":{\"gridcolor\":\"white\",\"linecolor\":\"white\",\"ticks\":\"\"}},\"scene\":{\"xaxis\":{\"backgroundcolor\":\"#E5ECF6\",\"gridcolor\":\"white\",\"gridwidth\":2,\"linecolor\":\"white\",\"showbackground\":true,\"ticks\":\"\",\"zerolinecolor\":\"white\"},\"yaxis\":{\"backgroundcolor\":\"#E5ECF6\",\"gridcolor\":\"white\",\"gridwidth\":2,\"linecolor\":\"white\",\"showbackground\":true,\"ticks\":\"\",\"zerolinecolor\":\"white\"},\"zaxis\":{\"backgroundcolor\":\"#E5ECF6\",\"gridcolor\":\"white\",\"gridwidth\":2,\"linecolor\":\"white\",\"showbackground\":true,\"ticks\":\"\",\"zerolinecolor\":\"white\"}},\"shapedefaults\":{\"line\":{\"color\":\"#2a3f5f\"}},\"ternary\":{\"aaxis\":{\"gridcolor\":\"white\",\"linecolor\":\"white\",\"ticks\":\"\"},\"baxis\":{\"gridcolor\":\"white\",\"linecolor\":\"white\",\"ticks\":\"\"},\"bgcolor\":\"#E5ECF6\",\"caxis\":{\"gridcolor\":\"white\",\"linecolor\":\"white\",\"ticks\":\"\"}},\"title\":{\"x\":0.05},\"xaxis\":{\"automargin\":true,\"gridcolor\":\"white\",\"linecolor\":\"white\",\"ticks\":\"\",\"title\":{\"standoff\":15},\"zerolinecolor\":\"white\",\"zerolinewidth\":2},\"yaxis\":{\"automargin\":true,\"gridcolor\":\"white\",\"linecolor\":\"white\",\"ticks\":\"\",\"title\":{\"standoff\":15},\"zerolinecolor\":\"white\",\"zerolinewidth\":2}}},\"title\":{\"text\":\"Energy Minimization\"},\"xaxis\":{\"title\":{\"text\":\"Energy Minimization Step\"}},\"yaxis\":{\"title\":{\"text\":\"Potential Energy kcal/mol\"}}},                        {\"responsive\": true}                    ).then(function(){\n",
       "                            \n",
       "var gd = document.getElementById('d1f5a3fb-fa55-4dfa-888a-a2313df2edab');\n",
       "var x = new MutationObserver(function (mutations, observer) {{\n",
       "        var display = window.getComputedStyle(gd).display;\n",
       "        if (!display || display === 'none') {{\n",
       "            console.log([gd, 'removed!']);\n",
       "            Plotly.purge(gd);\n",
       "            observer.disconnect();\n",
       "        }}\n",
       "}});\n",
       "\n",
       "// Listen for the removal of the full notebook cells\n",
       "var notebookContainer = gd.closest('#notebook-container');\n",
       "if (notebookContainer) {{\n",
       "    x.observe(notebookContainer, {childList: true});\n",
       "}}\n",
       "\n",
       "// Listen for the clearing of the current output cell\n",
       "var outputEl = gd.closest('.output');\n",
       "if (outputEl) {{\n",
       "    x.observe(outputEl, {childList: true});\n",
       "}}\n",
       "\n",
       "                        })                };                });            </script>        </div>"
      ]
     },
     "metadata": {},
     "output_type": "display_data"
    }
   ],
   "source": [
    "# Read data from file and filter energy values higher than 1000 Kj/mol^-1\n",
    "with open(output_h_min_dat_path,'r') as energy_file:\n",
    "    x,y = map(\n",
    "        list,\n",
    "        zip(*[\n",
    "            (float(line.split()[0]),float(line.split()[1]))\n",
    "            for line in energy_file \n",
    "            if not line.startswith((\"#\",\"@\")) \n",
    "            if float(line.split()[1]) < 1000 \n",
    "        ])\n",
    "    )\n",
    "\n",
    "plotly.offline.init_notebook_mode(connected=True)\n",
    "\n",
    "fig = {\n",
    "    \"data\": [go.Scatter(x=x, y=y)],\n",
    "    \"layout\": go.Layout(title=\"Energy Minimization\",\n",
    "                        xaxis=dict(title = \"Energy Minimization Step\"),\n",
    "                        yaxis=dict(title = \"Potential Energy kcal/mol\")\n",
    "                       )\n",
    "}\n",
    "\n",
    "plotly.offline.iplot(fig)"
   ]
  },
  {
   "cell_type": "markdown",
   "metadata": {},
   "source": [
    "<a id=\"heating\"></a>\n",
    "## Heating the system\n",
    "\n",
    "**Warming up** the **prepared system** using the **sander tool** from the **AMBER MD package**. Going from 0 to the desired **temperature**, in this particular example, 300K. **Protein backbone atoms restrained** (force constant of 2 Kcal/mol). Length 5ps.\n",
    "***\n",
    "- [Step 1](#heatStep1): Warming up the **system** through 500 MD steps.\n",
    "- [Step 2](#heatStep2): Checking results for the **system warming up**. Plotting **temperature** along time during the **heating** process. \n",
    "***\n",
    "**Building Blocks** used:\n",
    " - [sander_mdrun](https://biobb-amber.readthedocs.io/en/latest/sander.html#module-sander.sander_mdrun) from **biobb_amber.sander.sander_mdrun**\n",
    " - [process_mdout](https://biobb-amber.readthedocs.io/en/latest/process.html#module-process.process_mdout) from **biobb_amber.process.process_mdout**\n",
    "***"
   ]
  },
  {
   "cell_type": "markdown",
   "metadata": {},
   "source": [
    "<a id=\"heatStep1\"></a>\n",
    "### Step 1: Warming up the system\n",
    "The **heat** type of the **simulation_type property** contains the main default parameters to run a **system warming up**:\n",
    "\n",
    "-  imin = 0;&nbsp;&nbsp;&nbsp;      Run MD (no minimization)\n",
    "-  ntx = 5;&nbsp;&nbsp;&nbsp;       Read initial coords and vels from restart file\n",
    "-  cut = 10.0;&nbsp;&nbsp;&nbsp;    Cutoff for non bonded interactions in Angstroms\n",
    "-  ntr = 0;&nbsp;&nbsp;&nbsp;       No restrained atoms\n",
    "-  ntc = 2;&nbsp;&nbsp;&nbsp;       SHAKE for constraining length of bonds involving Hydrogen atoms\n",
    "-  ntf = 2;&nbsp;&nbsp;&nbsp;       Bond interactions involving H omitted\n",
    "-  ntt = 3;&nbsp;&nbsp;&nbsp;       Constant temperature using Langevin dynamics\n",
    "-  ig = -1;&nbsp;&nbsp;&nbsp;       Seed for pseudo-random number generator\n",
    "-  ioutfm = 1;&nbsp;&nbsp;&nbsp;    Write trajectory in netcdf format\n",
    "-  iwrap = 1;&nbsp;&nbsp;&nbsp;     Wrap coords into primary box\n",
    "-  nstlim = 5000;&nbsp;&nbsp;&nbsp; Number of MD steps \n",
    "-  dt = 0.002;&nbsp;&nbsp;&nbsp;    Time step (in ps)\n",
    "-  tempi = 0.0;&nbsp;&nbsp;&nbsp;   Initial temperature (0 K)\n",
    "-  temp0 = 300.0;&nbsp;&nbsp;&nbsp; Final temperature (300 K)\n",
    "-  irest = 0;&nbsp;&nbsp;&nbsp;     No restart from previous simulation\n",
    "-  ntb = 1;&nbsp;&nbsp;&nbsp;       Periodic boundary conditions at constant volume\n",
    "-  gamma_ln = 1.0;&nbsp;&nbsp;&nbsp;   Collision frequency for Langevin dynamics (in 1/ps)\n",
    "\n",
    "In this particular example, the **heating** of the system is done in **2500 steps** (5ps) and is going **from 0K to 300K** (note that the number of steps has been reduced in this tutorial, for the sake of time). "
   ]
  },
  {
   "cell_type": "code",
   "execution_count": 20,
   "metadata": {},
   "outputs": [
    {
     "name": "stdout",
     "output_type": "stream",
     "text": [
      "2022-05-27 16:29:12,777 [MainThread  ] [INFO ]  Creating 2f5688ce-7cb0-4aca-8aba-4d44e419d381 temporary folder\n",
      "2022-05-27 16:29:12,779 [MainThread  ] [INFO ]  Not using any container\n",
      "2022-05-27 16:29:12,780 [MainThread  ] [INFO ]  sander -O -i 2f5688ce-7cb0-4aca-8aba-4d44e419d381/sander.mdin -p structure.cpH.parmtop -c sander.cpH.rst -r sander.heat.rst -o sander.heat.log -x sander.heat.netcdf -ref sander.cpH.rst\n",
      "\n",
      "2022-05-27 16:38:54,362 [MainThread  ] [INFO ]  Exit code 0\n",
      "\n",
      "2022-05-27 16:38:54,366 [MainThread  ] [INFO ]  Removed: ['2f5688ce-7cb0-4aca-8aba-4d44e419d381', 'mdinfo']\n"
     ]
    },
    {
     "data": {
      "text/plain": [
       "0"
      ]
     },
     "execution_count": 20,
     "metadata": {},
     "output_type": "execute_result"
    }
   ],
   "source": [
    "# Import module\n",
    "from biobb_amber.sander.sander_mdrun import sander_mdrun\n",
    "\n",
    "# Create prop dict and inputs/outputs\n",
    "output_heat_traj_path = 'sander.heat.netcdf'\n",
    "output_heat_rst_path = 'sander.heat.rst'\n",
    "output_heat_log_path = 'sander.heat.log'\n",
    "\n",
    "prop = {\n",
    "    \"simulation_type\" : \"heat\",\n",
    "    \"mdin\" : { \n",
    "        'nstlim' : 2500,     # Reducing the number of steps for the sake of time (5ps)\n",
    "        'ntr' : 1,           # Turn on positional restraints\n",
    "        'restraintmask' : '\\\"@CA,C,O,N\\\"',         # Restraining protein backbone atoms\n",
    "        'restraint_wt' : 2.0                       # With a force constant of 2 Kcal/mol*A2\n",
    "    }\n",
    "}\n",
    "\n",
    "# Create and launch bb\n",
    "sander_mdrun(input_top_path=output_top_cpin_path,\n",
    "            input_crd_path=output_min_rst_path,\n",
    "            input_ref_path=output_min_rst_path,\n",
    "            output_traj_path=output_heat_traj_path,\n",
    "            output_rst_path=output_heat_rst_path,\n",
    "            output_log_path=output_heat_log_path,\n",
    "            properties=prop)"
   ]
  },
  {
   "cell_type": "markdown",
   "metadata": {},
   "source": [
    "<a id=\"heatStep2\"></a>\n",
    "### Step 2: Checking results from the system warming up\n",
    "Checking **system warming up** output. Plotting **temperature** along time during the **heating process**."
   ]
  },
  {
   "cell_type": "code",
   "execution_count": null,
   "metadata": {
    "scrolled": true
   },
   "outputs": [],
   "source": [
    "# Import module\n",
    "from biobb_amber.process.process_mdout import process_mdout\n",
    "\n",
    "# Create prop dict and inputs/outputs\n",
    "output_dat_heat_path = 'sander.md.temp.dat'\n",
    "\n",
    "prop = {\n",
    "    \"terms\" : ['TEMP']\n",
    "}\n",
    "\n",
    "# Create and launch bb\n",
    "process_mdout(input_log_path=output_heat_log_path,\n",
    "            output_dat_path=output_dat_heat_path,\n",
    "            properties=prop)"
   ]
  },
  {
   "cell_type": "code",
   "execution_count": null,
   "metadata": {},
   "outputs": [],
   "source": [
    "#Read data from file and filter energy values higher than 1000 Kj/mol^-1\n",
    "with open(output_dat_heat_path,'r') as energy_file:\n",
    "    x,y = map(\n",
    "        list,\n",
    "        zip(*[\n",
    "            (float(line.split()[0]),float(line.split()[1]))\n",
    "            for line in energy_file \n",
    "            if not line.startswith((\"#\",\"@\")) \n",
    "            if float(line.split()[1]) < 1000 \n",
    "        ])\n",
    "    )\n",
    "\n",
    "plotly.offline.init_notebook_mode(connected=True)\n",
    "\n",
    "fig = {\n",
    "    \"data\": [go.Scatter(x=x, y=y)],\n",
    "    \"layout\": go.Layout(title=\"Heating process\",\n",
    "                        xaxis=dict(title = \"Heating Step (ps)\"),\n",
    "                        yaxis=dict(title = \"Temperature (K)\")\n",
    "                       )\n",
    "}\n",
    "\n",
    "plotly.offline.iplot(fig)"
   ]
  },
  {
   "cell_type": "markdown",
   "metadata": {},
   "source": [
    "<a id=\"nvt\"></a>\n",
    "***\n",
    "## Equilibrate the system (NVT)\n",
    "Equilibrate the **protein system** in **NVT ensemble** (constant Number of particles, Volume and Temperature). Protein **backbone atoms** will be restrained using position restraining forces: movement is permitted, but only after overcoming a substantial energy penalty. \n",
    "\n",
    "- [Step 1](#eqNVTStep1): Equilibrate the **protein system** with **NVT** ensemble.\n",
    "- [Step 2](#eqNVTStep2): Checking **NVT Equilibration** results. Plotting **system temperature** by time during the **NVT equilibration** process.  \n",
    "***\n",
    "**Building Blocks** used:\n",
    " - [sander_mdrun](https://biobb-amber.readthedocs.io/en/latest/sander.html#module-sander.sander_mdrun) from **biobb_amber.sander.sander_mdrun**\n",
    " - [process_mdout](https://biobb-amber.readthedocs.io/en/latest/process.html#module-process.process_mdout) from **biobb_amber.process.process_mdout** \n",
    "***"
   ]
  },
  {
   "cell_type": "markdown",
   "metadata": {},
   "source": [
    "<a id=\"eqNVTStep1\"></a>\n",
    "### Step 1: Equilibrating the system (NVT)\n",
    "The **nvt** type of the **simulation_type property** contains the main default parameters to run a **system equilibration in NVT ensemble**:\n",
    "\n",
    "-  imin = 0;&nbsp;&nbsp;&nbsp;      Run MD (no minimization)\n",
    "-  ntx = 5;&nbsp;&nbsp;&nbsp;       Read initial coords and vels from restart file\n",
    "-  cut = 10.0;&nbsp;&nbsp;&nbsp;    Cutoff for non bonded interactions in Angstroms\n",
    "-  ntr = 0;&nbsp;&nbsp;&nbsp;       No restrained atoms\n",
    "-  ntc = 2;&nbsp;&nbsp;&nbsp;       SHAKE for constraining length of bonds involving Hydrogen atoms\n",
    "-  ntf = 2;&nbsp;&nbsp;&nbsp;       Bond interactions involving H omitted\n",
    "-  ntt = 3;&nbsp;&nbsp;&nbsp;       Constant temperature using Langevin dynamics\n",
    "-  ig = -1;&nbsp;&nbsp;&nbsp;       Seed for pseudo-random number generator\n",
    "-  ioutfm = 1;&nbsp;&nbsp;&nbsp;    Write trajectory in netcdf format\n",
    "-  iwrap = 1;&nbsp;&nbsp;&nbsp;     Wrap coords into primary box\n",
    "-  nstlim = 5000;&nbsp;&nbsp;&nbsp; Number of MD steps \n",
    "-  dt = 0.002;&nbsp;&nbsp;&nbsp;    Time step (in ps)\n",
    "-  irest = 1;&nbsp;&nbsp;&nbsp;     Restart previous simulation\n",
    "-  ntb = 1;&nbsp;&nbsp;&nbsp;       Periodic boundary conditions at constant volume\n",
    "-  gamma_ln = 5.0;&nbsp;&nbsp;&nbsp;   Collision frequency for Langevin dynamics (in 1/ps)\n",
    "\n",
    "In this particular example, the **NVT equilibration** of the system is done in **500 steps** (note that the number of steps has been reduced in this tutorial, for the sake of time). "
   ]
  },
  {
   "cell_type": "code",
   "execution_count": null,
   "metadata": {},
   "outputs": [],
   "source": [
    "# Import module\n",
    "from biobb_amber.sander.sander_mdrun import sander_mdrun\n",
    "\n",
    "# Create prop dict and inputs/outputs\n",
    "output_nvt_traj_path = 'sander.nvt.netcdf'\n",
    "output_nvt_rst_path = 'sander.nvt.rst'\n",
    "output_nvt_log_path = 'sander.nvt.log'\n",
    "\n",
    "prop = {\n",
    "    \"simulation_type\" : 'nvt',\n",
    "    \"mdin\" : { \n",
    "        'nstlim' : 500,      # Reducing the number of steps for the sake of time (1ps)\n",
    "        'ntr' : 1,           # Turn on positional restraints\n",
    "        'restraintmask' : '\\\"@CA,C,O,N\\\"',         # Restraining protein backbone atoms\n",
    "        'restraint_wt' : 0.1                       # With a force constant of 0.1 Kcal/mol*A2\n",
    "    }\n",
    "}\n",
    "\n",
    "# Create and launch bb\n",
    "sander_mdrun(input_top_path=output_top_cpin_path,\n",
    "            input_crd_path=output_heat_rst_path,\n",
    "            input_ref_path=output_heat_rst_path,\n",
    "            output_traj_path=output_nvt_traj_path,\n",
    "            output_rst_path=output_nvt_rst_path,\n",
    "            output_log_path=output_nvt_log_path,\n",
    "            properties=prop)"
   ]
  },
  {
   "cell_type": "markdown",
   "metadata": {},
   "source": [
    "<a id=\"eqNVTStep2\"></a>\n",
    "### Step 2: Checking NVT Equilibration results\n",
    "Checking **NVT Equilibration** results. Plotting **system temperature** by time during the NVT equilibration process. "
   ]
  },
  {
   "cell_type": "code",
   "execution_count": null,
   "metadata": {
    "scrolled": true
   },
   "outputs": [],
   "source": [
    "# Import module\n",
    "from biobb_amber.process.process_mdout import process_mdout\n",
    "\n",
    "# Create prop dict and inputs/outputs\n",
    "output_dat_nvt_path = 'sander.md.nvt.temp.dat'\n",
    "\n",
    "prop = {\n",
    "    \"terms\" : ['TEMP']\n",
    "}\n",
    "\n",
    "# Create and launch bb\n",
    "process_mdout(input_log_path=output_nvt_log_path,\n",
    "            output_dat_path=output_dat_nvt_path,\n",
    "            properties=prop)"
   ]
  },
  {
   "cell_type": "code",
   "execution_count": null,
   "metadata": {},
   "outputs": [],
   "source": [
    "#Read data from file and filter energy values higher than 1000 Kj/mol^-1\n",
    "with open(output_dat_nvt_path,'r') as energy_file:\n",
    "    x,y = map(\n",
    "        list,\n",
    "        zip(*[\n",
    "            (float(line.split()[0]),float(line.split()[1]))\n",
    "            for line in energy_file \n",
    "            if not line.startswith((\"#\",\"@\")) \n",
    "            if float(line.split()[1]) < 1000 \n",
    "        ])\n",
    "    )\n",
    "\n",
    "plotly.offline.init_notebook_mode(connected=True)\n",
    "\n",
    "fig = {\n",
    "    \"data\": [go.Scatter(x=x, y=y)],\n",
    "    \"layout\": go.Layout(title=\"NVT equilibration\",\n",
    "                        xaxis=dict(title = \"Equilibration Step (ps)\"),\n",
    "                        yaxis=dict(title = \"Temperature (K)\")\n",
    "                       )\n",
    "}\n",
    "\n",
    "plotly.offline.iplot(fig)"
   ]
  },
  {
   "cell_type": "markdown",
   "metadata": {},
   "source": [
    "<a id=\"npt\"></a>\n",
    "***\n",
    "## Equilibrate the system (NPT)\n",
    "Equilibrate the **protein system** in **NPT ensemble** (constant Number of particles, Pressure and Temperature). Protein **backbone atoms** will be restrained using position restraining forces: movement is permitted, but only after overcoming a substantial energy penalty. \n",
    "\n",
    "- [Step 1](#eqNPTStep1): Equilibrate the **protein system** with **NPT** ensemble.\n",
    "- [Step 2](#eqNPTStep2): Checking **NPT Equilibration** results. Plotting **system pressure and density** by time during the **NVT equilibration** process.  \n",
    "***\n",
    "**Building Blocks** used:\n",
    " - [sander_mdrun](https://biobb-amber.readthedocs.io/en/latest/sander.html#module-sander.sander_mdrun) from **biobb_amber.sander.sander_mdrun**\n",
    " - [process_mdout](https://biobb-amber.readthedocs.io/en/latest/process.html#module-process.process_mdout) from **biobb_amber.process.process_mdout** \n",
    "***"
   ]
  },
  {
   "cell_type": "markdown",
   "metadata": {},
   "source": [
    "<a id=\"eqNPTStep1\"></a>\n",
    "### Step 1: Equilibrating the system (NPT)\n",
    "The **npt** type of the **simulation_type property** contains the main default parameters to run a **system equilibration in NPT ensemble**:\n",
    "\n",
    "-  imin = 0;&nbsp;&nbsp;&nbsp;      Run MD (no minimization)\n",
    "-  ntx = 5;&nbsp;&nbsp;&nbsp;       Read initial coords and vels from restart file\n",
    "-  cut = 10.0;&nbsp;&nbsp;&nbsp;    Cutoff for non bonded interactions in Angstroms\n",
    "-  ntr = 0;&nbsp;&nbsp;&nbsp;       No restrained atoms\n",
    "-  ntc = 2;&nbsp;&nbsp;&nbsp;       SHAKE for constraining length of bonds involving Hydrogen atoms\n",
    "-  ntf = 2;&nbsp;&nbsp;&nbsp;       Bond interactions involving H omitted\n",
    "-  ntt = 3;&nbsp;&nbsp;&nbsp;       Constant temperature using Langevin dynamics\n",
    "-  ig = -1;&nbsp;&nbsp;&nbsp;       Seed for pseudo-random number generator\n",
    "-  ioutfm = 1;&nbsp;&nbsp;&nbsp;    Write trajectory in netcdf format\n",
    "-  iwrap = 1;&nbsp;&nbsp;&nbsp;     Wrap coords into primary box\n",
    "-  nstlim = 5000;&nbsp;&nbsp;&nbsp; Number of MD steps \n",
    "-  dt = 0.002;&nbsp;&nbsp;&nbsp;    Time step (in ps)\n",
    "-  irest = 1;&nbsp;&nbsp;&nbsp;     Restart previous simulation\n",
    "-  gamma_ln = 5.0;&nbsp;&nbsp;&nbsp;   Collision frequency for Langevin dynamics (in 1/ps)\n",
    "-  pres0 = 1.0;&nbsp;&nbsp;&nbsp;   Reference pressure\n",
    "-  ntp = 1;&nbsp;&nbsp;&nbsp;       Constant pressure dynamics: md with isotropic position scaling\n",
    "-  taup = 2.0;&nbsp;&nbsp;&nbsp;    Pressure relaxation time (in ps)\n",
    "\n",
    "In this particular example, the **NPT equilibration** of the system is done in **500 steps** (note that the number of steps has been reduced in this tutorial, for the sake of time). "
   ]
  },
  {
   "cell_type": "code",
   "execution_count": null,
   "metadata": {},
   "outputs": [],
   "source": [
    "# Import module\n",
    "from biobb_amber.sander.sander_mdrun import sander_mdrun\n",
    "\n",
    "# Create prop dict and inputs/outputs\n",
    "output_npt_traj_path = 'sander.npt.netcdf'\n",
    "output_npt_rst_path = 'sander.npt.rst'\n",
    "output_npt_log_path = 'sander.npt.log'\n",
    "\n",
    "prop = {\n",
    "    \"simulation_type\" : 'npt',\n",
    "    \"mdin\" : { \n",
    "        'nstlim' : 500,      # Reducing the number of steps for the sake of time (1ps)\n",
    "        'ntr' : 1,           # Turn on positional restraints\n",
    "        'restraintmask' : '\\\"@CA,C,O,N\\\"',         # Restraining protein backbone atoms\n",
    "        'restraint_wt' : 0.1                       # With a force constant of 0.1 Kcal/mol*A2\n",
    "    }\n",
    "}\n",
    "\n",
    "# Create and launch bb\n",
    "sander_mdrun(input_top_path=output_top_cpin_path,\n",
    "            input_crd_path=output_nvt_rst_path,\n",
    "            input_ref_path=output_nvt_rst_path,\n",
    "            output_traj_path=output_npt_traj_path,\n",
    "            output_rst_path=output_npt_rst_path,\n",
    "            output_log_path=output_npt_log_path,\n",
    "            properties=prop)"
   ]
  },
  {
   "cell_type": "markdown",
   "metadata": {},
   "source": [
    "<a id=\"eqNPTStep2\"></a>\n",
    "### Step 2: Checking NPT Equilibration results\n",
    "Checking **NPT Equilibration** results. Plotting **system pressure and density** by time during the **NPT equilibration** process. "
   ]
  },
  {
   "cell_type": "code",
   "execution_count": null,
   "metadata": {
    "scrolled": true
   },
   "outputs": [],
   "source": [
    "# Import module\n",
    "from biobb_amber.process.process_mdout import process_mdout\n",
    "\n",
    "# Create prop dict and inputs/outputs\n",
    "output_dat_npt_path = 'sander.md.npt.dat'\n",
    "\n",
    "prop = {\n",
    "    \"terms\" : ['PRES','DENSITY']\n",
    "}\n",
    "\n",
    "# Create and launch bb\n",
    "process_mdout(input_log_path=output_npt_log_path,\n",
    "            output_dat_path=output_dat_npt_path,\n",
    "            properties=prop)"
   ]
  },
  {
   "cell_type": "code",
   "execution_count": null,
   "metadata": {},
   "outputs": [],
   "source": [
    "# Read pressure and density data from file \n",
    "with open(output_dat_npt_path,'r') as pd_file:\n",
    "    x,y,z = map(\n",
    "        list,\n",
    "        zip(*[\n",
    "            (float(line.split()[0]),float(line.split()[1]),float(line.split()[2]))\n",
    "            for line in pd_file \n",
    "            if not line.startswith((\"#\",\"@\")) \n",
    "        ])\n",
    "    )\n",
    "\n",
    "plotly.offline.init_notebook_mode(connected=True)\n",
    "\n",
    "trace1 = go.Scatter(\n",
    "    x=x,y=y\n",
    ")\n",
    "trace2 = go.Scatter(\n",
    "    x=x,y=z\n",
    ")\n",
    "\n",
    "fig = subplots.make_subplots(rows=1, cols=2, print_grid=False)\n",
    "\n",
    "fig.append_trace(trace1, 1, 1)\n",
    "fig.append_trace(trace2, 1, 2)\n",
    "\n",
    "fig['layout']['xaxis1'].update(title='Time (ps)')\n",
    "fig['layout']['xaxis2'].update(title='Time (ps)')\n",
    "fig['layout']['yaxis1'].update(title='Pressure (bar)')\n",
    "fig['layout']['yaxis2'].update(title='Density (Kg*m^-3)')\n",
    "\n",
    "fig['layout'].update(title='Pressure and Density during NPT Equilibration')\n",
    "fig['layout'].update(showlegend=False)\n",
    "\n",
    "plotly.offline.iplot(fig)"
   ]
  },
  {
   "cell_type": "markdown",
   "metadata": {},
   "source": [
    "<a id=\"free\"></a>\n",
    "***\n",
    "## Constant pH Molecular Dynamics Simulation\n",
    "Upon completion of the **two equilibration phases (NVT and NPT)**, the system is now well-equilibrated at the desired temperature and pressure. The **position restraints** can now be released. The last step of the **protein** MD setup is a short, **free MD simulation**, to ensure the robustness of the system. \n",
    "- [Step 1](#mdStep1): Run short MD simulation of the **protein system**.\n",
    "- [Step 2](#mdStep2): Checking results for the final step of the setup process, the **free MD run**. Plotting **Root Mean Square deviation (RMSd)** and **Radius of Gyration (Rgyr)** by time during the **free MD run** step.\n",
    "***\n",
    "**Building Blocks** used:\n",
    " - [sander_mdrun](https://biobb-amber.readthedocs.io/en/latest/sander.html#module-sander.sander_mdrun) from **biobb_amber.sander.sander_mdrun**\n",
    " - [process_mdout](https://biobb-amber.readthedocs.io/en/latest/process.html#module-process.process_mdout) from **biobb_amber.process.process_mdout** \n",
    " - [cpptraj_rms](https://biobb-analysis.readthedocs.io/en/latest/ambertools.html#module-ambertools.cpptraj_rms) from **biobb_analysis.cpptraj.cpptraj_rms**\n",
    " - [cpptraj_rgyr](https://biobb-analysis.readthedocs.io/en/latest/ambertools.html#module-ambertools.cpptraj_rgyr) from **biobb_analysis.cpptraj.cpptraj_rgyr**\n",
    "***"
   ]
  },
  {
   "cell_type": "markdown",
   "metadata": {},
   "source": [
    "<a id=\"mdStep1\"></a>\n",
    "### Step 1: Creating portable binary run file to run a Constant pH MD simulation\n",
    "\n",
    "The **free** type of the **simulation_type property** contains the main default parameters to run an **unrestrained MD simulation**:\n",
    "\n",
    "-  imin = 0;&nbsp;&nbsp;&nbsp;      Run MD (no minimization)\n",
    "-  ntx = 5;&nbsp;&nbsp;&nbsp;       Read initial coords and vels from restart file\n",
    "-  cut = 10.0;&nbsp;&nbsp;&nbsp;    Cutoff for non bonded interactions in Angstroms\n",
    "-  ntr = 0;&nbsp;&nbsp;&nbsp;       No restrained atoms\n",
    "-  ntc = 2;&nbsp;&nbsp;&nbsp;       SHAKE for constraining length of bonds involving Hydrogen atoms\n",
    "-  ntf = 2;&nbsp;&nbsp;&nbsp;       Bond interactions involving H omitted\n",
    "-  ntt = 3;&nbsp;&nbsp;&nbsp;       Constant temperature using Langevin dynamics\n",
    "-  ig = -1;&nbsp;&nbsp;&nbsp;       Seed for pseudo-random number generator\n",
    "-  ioutfm = 1;&nbsp;&nbsp;&nbsp;    Write trajectory in netcdf format\n",
    "-  iwrap = 1;&nbsp;&nbsp;&nbsp;     Wrap coords into primary box\n",
    "-  nstlim = 5000;&nbsp;&nbsp;&nbsp; Number of MD steps \n",
    "-  dt = 0.002;&nbsp;&nbsp;&nbsp;    Time step (in ps)\n",
    "\n",
    "In this particular example, a short, **5ps-length** simulation (2500 steps) is run, for the sake of time. \n",
    "\n",
    "On top of these parameters, we will include the **constant pH** specific properties:\n",
    "\n",
    "- icnstph = 2;&nbsp;&nbsp;&nbsp;       Turn on constant pH for explicit solvent\n",
    "- saltcon = 0.1;&nbsp;&nbsp;&nbsp;     Use the salt concentration CpHMD was parameterized for\n",
    "- ntcnstph = 100;&nbsp;&nbsp;&nbsp;    Protonation state change attempt every 100 steps\n",
    "- ntrelax = 100;&nbsp;&nbsp;&nbsp;     Number of relaxation steps after a successful protonation state change\n",
    "- solvph = 7.0;&nbsp;&nbsp;&nbsp;      Solvent pH\n"
   ]
  },
  {
   "cell_type": "code",
   "execution_count": null,
   "metadata": {},
   "outputs": [],
   "source": [
    "# Import module\n",
    "from biobb_amber.sander.sander_mdrun import sander_mdrun\n",
    "\n",
    "# Create prop dict and inputs/outputs\n",
    "output_pH_traj_path = 'sander.pH.netcdf'\n",
    "output_pH_rst_path = 'sander.pH.rst'\n",
    "output_pH_cpout_path = 'sander.pH.cpout'\n",
    "output_pH_cprst_path = 'sander.pH.cprst'\n",
    "output_pH_log_path = 'sander.pH.log'\n",
    "output_pH_mdinfo_path = 'sander.pH.mdinfo'\n",
    "\n",
    "prop = {\n",
    "    \"simulation_type\" : 'free',\n",
    "    \"mdin\" : { \n",
    "        'nstlim' : 2500,     # Reducing the number of steps for the sake of time (5ps)\n",
    "        'ntwx' : 500,        # Print coords to trajectory every 500 steps (1 ps)\n",
    "        'icnstph' : 2,       # Turn on constant pH for explicit solvent\n",
    "        'saltcon' : 0.1,     # Use the salt concentration CpHMD was parameterized for\n",
    "        'ntcnstph' : 100,    # Protonation state change attempt every 100 steps\n",
    "        'ntrelax' : 100,     # Number of relaxation steps after a successful protonation state change\n",
    "        'solvph' : 7.0,      # Solvent pH\n",
    "#        'solvph' : 3.0,       # Acid pH\n",
    "#        'solvph' : 10.0,      # Basic (alkaline) pH\n",
    "    }\n",
    "}\n",
    "\n",
    "# Create and launch bb\n",
    "sander_mdrun(input_top_path=output_top_cpin_path,\n",
    "            input_crd_path=output_npt_rst_path,\n",
    "            input_cpin_path=output_cpin_path,\n",
    "            output_traj_path=output_pH_traj_path,\n",
    "            output_rst_path=output_pH_rst_path,\n",
    "            output_cpout_path=output_pH_cpout_path,\n",
    "            output_cprst_path=output_pH_cprst_path,\n",
    "            output_log_path=output_pH_log_path,\n",
    "            output_mdinfo_path=output_pH_mdinfo_path,\n",
    "            properties=prop)"
   ]
  },
  {
   "cell_type": "markdown",
   "metadata": {},
   "source": [
    "<a id=\"mdStep2\"></a>\n",
    "### Step 2: Checking constant pH MD simulation results\n",
    "\n",
    "**Protonation states** that are sampled throughout the course of the **constant pH** simulations are written to a **cpout-formatted file**. The program **cphstats** can be used to parse this **cpout file** and extract the **predicted pKa values** along different parameters: \n",
    "\n",
    "- The difference between the predicted pKa and the system pH (**Offset**)\n",
    "- The predicted pKa (**Pred**)\n",
    "- The fraction of time the residue spends protonated (**Frac Prot**)\n",
    "- The number of accpeted protonations state transitions (**Transitions**)\n",
    "- The sum of the fractional protonations (**Average total molecular protonation**)\n",
    "\n",
    "An additional **population** file is generated, containing the populations of every state for every **titratable residue**, the fraction of snapshots that the system spent in each state for each residue."
   ]
  },
  {
   "cell_type": "code",
   "execution_count": null,
   "metadata": {},
   "outputs": [],
   "source": [
    "# Import module\n",
    "from biobb_amber.cphstats.cphstats_run import cphstats_run\n",
    "\n",
    "# Create prop dict and inputs/outputs\n",
    "output_pH_dat_path = 'cphstats.pH.dat'\n",
    "output_pH_pop_path = 'cphstats.pH.pop.dat'\n",
    "\n",
    "prop = {\n",
    "    'verbose' : True,\n",
    "    'running_avg_window' : 1\n",
    "}\n",
    "\n",
    "# Create and launch bb\n",
    "cphstats_run(input_cpin_path=output_cpin_path,\n",
    "            input_cpout_path=output_pH_cpout_path,\n",
    "            output_dat_path=output_pH_dat_path,\n",
    "            output_population_path=output_pH_pop_path,\n",
    "            properties=prop)"
   ]
  },
  {
   "cell_type": "markdown",
   "metadata": {},
   "source": [
    "### Last Remarks\n",
    "\n",
    "When checking the information from the **predicted pKa values** cphstats.pH.dat and the **state population** cphstats.pH.pop.dat coming from the **constant pH** simulation at physiological pH (~7), you will find that no different states other than the major species appear during the simulation. Try to re-run the **constant pH** simulation again, modifying the pH parameter, using acid (<7) or basic (>7) pH and analyse again the results of the checking (cphstats) step.  \n",
    "\n",
    "An additional recommended and useful study is to repeat the **constant pH** simulation done in the previous step with different pH values (typically from 0 to 14), and then use the output **deprotonated fractions** for each residue as a function of the pH to plot **titration curves**. See the [AMBER tutorial nº18](https://ambermd.org/tutorials/advanced/tutorial18/section4.htm) or [AMBER tutorial nº33](https://ambermd.org/tutorials/advanced/tutorial33/section4.htm) for more information."
   ]
  },
  {
   "cell_type": "markdown",
   "metadata": {
    "variables": {
     "output_pH_dat_path": "<p><strong>NameError</strong>: name &#39;output_pH_dat_path&#39; is not defined</p>\n",
     "output_pH_pop_path": "<p><strong>NameError</strong>: name &#39;output_pH_pop_path&#39; is not defined</p>\n"
    }
   },
   "source": [
    "<a id=\"output\"></a>\n",
    "## Output files\n",
    "\n",
    "Important **Output files** generated:\n",
    " - {{output_pH_dat_path}}: **Predicted pKa values** extracted from the constant pH MD simulation.   \n",
    " - {{output_pH_pop_path}}: **Populations** of every state for every **titratable residue**, fraction of snapshots that the system spent in each state for each residue."
   ]
  },
  {
   "cell_type": "markdown",
   "metadata": {},
   "source": [
    "***\n",
    "<a id=\"questions\"></a>\n",
    "\n",
    "## Questions & Comments\n",
    "\n",
    "Questions, issues, suggestions and comments are really welcome!\n",
    "\n",
    "* GitHub issues:\n",
    "    * [https://github.com/bioexcel/biobb](https://github.com/bioexcel/biobb)\n",
    "\n",
    "* BioExcel forum:\n",
    "    * [https://ask.bioexcel.eu/c/BioExcel-Building-Blocks-library](https://ask.bioexcel.eu/c/BioExcel-Building-Blocks-library)\n"
   ]
  }
 ],
 "metadata": {
  "interpreter": {
   "hash": "190382cb07b8fbf9aba80abbbb7a3faa80668ccc8156d900704755fb9a6230d5"
  },
  "kernelspec": {
   "display_name": "Python 3.7.12 ('biobb')",
   "language": "python",
   "name": "python3"
  },
  "language_info": {
   "codemirror_mode": {
    "name": "ipython",
    "version": 3
   },
   "file_extension": ".py",
   "mimetype": "text/x-python",
   "name": "python",
   "nbconvert_exporter": "python",
   "pygments_lexer": "ipython3",
   "version": "3.7.12"
  }
 },
 "nbformat": 4,
 "nbformat_minor": 2
}
