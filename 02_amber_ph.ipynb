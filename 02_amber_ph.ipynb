{
 "cells": [
  {
   "cell_type": "markdown",
   "metadata": {},
   "source": [
    "# AMBER Constant pH MD setup tutorial using BioExcel Building Blocks (biobb) \n",
    "#### Partly based on:\n",
    "- AMBER Advanced Tutorial 18: [Constant pH MD Example, Calculating pKas for titratable side chains in HEWL](https://ambermd.org/tutorials/advanced/tutorial18/index.htm) by Jason Swails and T. Dwight McGee Jr.\n",
    "- AMBER Advanced Tutorial 33: [Constant pH and Redox Potential MD Example: Predicting pH-dependent standard Redox Potential values](https://ambermd.org/tutorials/advanced/tutorial33/) by Vinícius Wilian D. Cruzeiro.\n",
    "- Modeling of pH sensors for CLN025 beta-hairpin by [Jordi Juárez](https://scholar.google.es/citations?user=hUCtxPwAAAAJ&hl=ca), [Barril Lab](http://www.ub.edu/bl/), University of Barcelona. \n",
    "- [Constant pH MD simulation tutorial of BPTI protein in implicit solvent](https://jialuyu.com/constant-ph-md-simulation-of-bpti/) by Wei Zhang, University of the Pacific Stockton.\n",
    "***\n",
    "This tutorial aims to illustrate the process of **setting up a simulation system** to run **constant pH** Molecular Dynamics simulations with **AMBER**, step by step, using the **BioExcel Building Blocks library (biobb)** wrapping the **AmberTools** utility from the **AMBER package**. The particular example used is the **Bovine Pancreatic Trypsin Inhibitor (BPTI)** protein (PDB code [6PTI](https://www.rcsb.org/structure/6PTI)). \n",
    "***\n",
    "\n",
    "## Settings\n",
    "\n",
    "### Biobb modules used\n",
    "\n",
    " - [biobb_io](https://github.com/bioexcel/biobb_io): Tools to fetch biomolecular data from public databases.\n",
    " - [biobb_amber](https://github.com/bioexcel/biobb_amber): Tools to setup and run Molecular Dynamics simulations with AmberTools.\n",
    " \n",
    "### Auxiliar libraries used\n",
    "\n",
    " - [nb_conda_kernels](https://github.com/Anaconda-Platform/nb_conda_kernels): Enables a Jupyter Notebook or JupyterLab application in one conda environment to access kernels for Python, R, and other languages found in other environments.\n",
    " - [nglview](http://nglviewer.org/#nglview): Jupyter/IPython widget to interactively view molecular structures and trajectories in notebooks.\n",
    " - [ipywidgets](https://github.com/jupyter-widgets/ipywidgets): Interactive HTML widgets for Jupyter notebooks and the IPython kernel.\n",
    " - [plotly](https://plot.ly/python/offline/): Python interactive graphing library integrated in Jupyter notebooks.\n",
    " - [simpletraj](https://github.com/arose/simpletraj): Lightweight coordinate-only trajectory reader based on code from GROMACS, MDAnalysis and VMD.\n",
    "\n",
    "### Conda Installation and Launch\n",
    "\n",
    "```console\n",
    "git clone https://github.com/bioexcel/biobb_wf_amber_md_setup.git\n",
    "cd biobb_wf_amber_md_setup\n",
    "conda env create -f conda_env/environment.yml\n",
    "conda activate biobb_AMBER_MDsetup_tutorials\n",
    "jupyter-nbextension enable --py --user widgetsnbextension\n",
    "jupyter-nbextension enable --py --user nglview\n",
    "jupyter-notebook biobb_wf_amber_md_setup/notebooks/mdsetup_ph/biobb_amber_CpHMD_notebook.ipynb\n",
    "``` \n",
    "\n",
    "***\n",
    "## Pipeline steps\n",
    " 1. [Input Parameters](#input)\n",
    " 2. [Fetching the PDB structure](#fetch)\n",
    " 3. [Preparing the PDB file for Amber](#pdb4amber)\n",
    " 4. [Create Protein System Topology](#top)\n",
    " 5. [Create Solvent Box and Solvating the System](#box)\n",
    " 6. [Adding Ions](#ions)\n",
    " 7. [Generating the constant pH input file](#cpinutil1)\n",
    " 8. [Energetically Minimize the System](#min)\n",
    " 9. [Heating the System](#heating)\n",
    " 10. [Equilibrate the System (NVT)](#nvt)\n",
    " 11. [Equilibrate the System (NPT)](#npt)\n",
    " 12. [Constant pH Molecular Dynamics Simulation](#free)\n",
    " 13. [Output Files](#output)\n",
    " 14. [Questions & Comments](#questions)\n",
    " \n",
    "***\n",
    "<img src=\"https://bioexcel.eu/wp-content/uploads/2019/04/Bioexcell_logo_1080px_transp.png\" alt=\"Bioexcel2 logo\"\n",
    "\ttitle=\"Bioexcel2 logo\" width=\"400\" />\n",
    "***\n"
   ]
  },
  {
   "cell_type": "markdown",
   "metadata": {},
   "source": [
    "<a id=\"input\"></a>\n",
    "## Input parameters\n",
    "**Input parameters** needed:\n",
    " - **pdbCode**: PDB code of the protein structure (e.g. 6PTI)"
   ]
  },
  {
   "cell_type": "code",
   "execution_count": null,
   "metadata": {},
   "outputs": [],
   "source": [
    "import nglview\n",
    "import ipywidgets\n",
    "import plotly\n",
    "from plotly import subplots\n",
    "import plotly.graph_objs as go\n",
    "\n",
    "pdbCode=\"6PTI\""
   ]
  },
  {
   "cell_type": "markdown",
   "metadata": {},
   "source": [
    "<a id=\"fetch\"></a>\n",
    "***\n",
    "## Fetching PDB structure\n",
    "Downloading **PDB structure** with the **protein molecule** from the RCSB PDB database.<br>\n",
    "Alternatively, a **PDB file** can be used as starting structure. <br>\n",
    "***\n",
    "**Building Blocks** used:\n",
    " - [pdb](https://biobb-io.readthedocs.io/en/latest/api.html#module-api.pdb) from **biobb_io.api.pdb**\n",
    "***"
   ]
  },
  {
   "cell_type": "code",
   "execution_count": null,
   "metadata": {},
   "outputs": [],
   "source": [
    "# Import module\n",
    "from biobb_io.api.pdb import pdb\n",
    "\n",
    "# Create properties dict and inputs/outputs\n",
    "downloaded_pdb = pdbCode+'.pdb'\n",
    "\n",
    "prop = {\n",
    "    'pdb_code': pdbCode\n",
    "}\n",
    "\n",
    "#Create and launch bb\n",
    "pdb(output_pdb_path=downloaded_pdb,\n",
    "    properties=prop)"
   ]
  },
  {
   "cell_type": "markdown",
   "metadata": {},
   "source": [
    "<a id=\"vis3D\"></a>\n",
    "### Visualizing 3D structure\n",
    "Visualizing the downloaded/given **PDB structure** using **NGL**.  "
   ]
  },
  {
   "cell_type": "code",
   "execution_count": null,
   "metadata": {
    "scrolled": true
   },
   "outputs": [],
   "source": [
    "# Show protein\n",
    "view = nglview.show_structure_file(downloaded_pdb)\n",
    "view.add_representation(repr_type='ball+stick', selection='all')\n",
    "view._remote_call('setSize', target='Widget', args=['','600px'])\n",
    "view"
   ]
  },
  {
   "cell_type": "markdown",
   "metadata": {},
   "source": [
    "<a id=\"pdb4amber\"></a>\n",
    "***\n",
    "## Preparing PDB file for AMBER\n",
    "Before starting a **protein MD setup**, it is always strongly recommended to take a look at the initial structure and try to identify important **properties** and also possible **issues**. These properties and issues can be serious, as for example the definition of **disulfide bridges**, the presence of a **non-standard aminoacids** or **ligands**, or **missing residues**. Other **properties** and **issues** might not be so serious, but they still need to be addressed before starting the **MD setup process**. **Missing hydrogen atoms**, presence of **alternate atomic location indicators** or **inserted residue codes** (see [PDB file format specification](https://www.wwpdb.org/documentation/file-format-content/format33/sect9.html#ATOM)) are examples of these not so crucial characteristics. Please visit the [AMBER tutorial: Building Protein Systems in Explicit Solvent](http://ambermd.org/tutorials/basic/tutorial7/index.php) for more examples. **AmberTools** utilities from **AMBER MD package** contain a tool able to analyse **PDB files** and clean them for further usage, especially with the **AmberTools LEaP program**: the **pdb4amber tool**. The next step of the workflow is running this tool to analyse our **input PDB structure**.<br>\n",
    "\n",
    "For the particular **BPTI** example, the most important features that are going to be used from the **pdb4amber** utility is the identification of **disulfide bridges** in the structure and the renaming of **ionizable residues** for our **constant pH** calculation. **Disulfide bridges** are marked changing the residue names **from CYS to CYX**, which is the code that **AMBER force fields** use to distinguish between cysteines forming or not forming **disulfide bridges**. This will be used in the following step to correctly form a **bond** between these cysteine residues. **Ionizable residues** are also marked changing the residue names, from the deprotonated form to the protonated one (e.g. **from ASN to AS4, from GLN to GL4, and from HIS to HIP**). **Cysteine, Lysine and Tyrosine** residue names are not changed as they are already in their protonated form at **phisiological pH** (pKa > 7.4). \n",
    "\n",
    "\n",
    "***\n",
    "**Building Blocks** used:\n",
    " - [pdb4amber_run](https://biobb-amber.readthedocs.io/en/latest/pdb4amber.html#pdb4amber-pdb4amber-run-module) from **biobb_amber.pdb4amber.pdb4amber_run**\n",
    "***"
   ]
  },
  {
   "cell_type": "code",
   "execution_count": null,
   "metadata": {},
   "outputs": [],
   "source": [
    "# Import module\n",
    "from biobb_amber.pdb4amber.pdb4amber_run import pdb4amber_run\n",
    "\n",
    "# Create prop dict and inputs/outputs\n",
    "output_pdb4amber_path = 'structure.pdb4amber.pdb'\n",
    "\n",
    "prop = {\n",
    "    'constant_pH' : True\n",
    "}\n",
    "\n",
    "# Create and launch bb\n",
    "pdb4amber_run(input_pdb_path=downloaded_pdb,\n",
    "             output_pdb_path=output_pdb4amber_path,\n",
    "             properties=prop)"
   ]
  },
  {
   "cell_type": "markdown",
   "metadata": {},
   "source": [
    "<a id=\"vis3D\"></a>\n",
    "### Visualizing 3D structure\n",
    "Visualizing the **PDB structure** with modified residue names for **ionizable residues** using **NGL**. **GL4 and AS4** residues are highlighted."
   ]
  },
  {
   "cell_type": "code",
   "execution_count": null,
   "metadata": {},
   "outputs": [],
   "source": [
    "# Show protein\n",
    "view = nglview.show_structure_file(output_pdb4amber_path)\n",
    "view.add_representation(repr_type='ball+stick', selection='all')\n",
    "view.add_representation(repr_type='ball+stick', radius='0.5', selection='GL4 AS4')\n",
    "view._remote_call('setSize', target='Widget', args=['','600px'])\n",
    "view"
   ]
  },
  {
   "cell_type": "markdown",
   "metadata": {},
   "source": [
    "<a id=\"top\"></a>\n",
    "***\n",
    "## Create protein system topology\n",
    "**Building AMBER topology** corresponding to the **protein structure**.<br>\n",
    "\n",
    "The **force field** used in this tutorial is [**ff14SB**](https://doi.org/10.1021/acs.jctc.5b00255), an evolution of the **ff99SB** force field with improved accuracy of protein side chains and backbone parameters, and the [**constph**](https://doi.org/10.1002/jcc.20139) force field, including the **constant pH** parameters. **Water** molecules type used in this tutorial is [**tip3p**](https://doi.org/10.1021/jp003020w).<br>\n",
    "\n",
    "Generating three output files: \n",
    "- **AMBER structure** (PDB file)\n",
    "- **AMBER topology** (AMBER [Parmtop](https://ambermd.org/FileFormats.php#topology) file)\n",
    "- **AMBER coordinates** (AMBER [Coordinate/Restart](https://ambermd.org/FileFormats.php#restart) file) \n",
    "***\n",
    "**Building Blocks** used:\n",
    " - [leap_gen_top](https://biobb-amber.readthedocs.io/en/latest/leap.html#module-leap.leap_gen_top) from **biobb_amber.leap.leap_gen_top**\n",
    "***"
   ]
  },
  {
   "cell_type": "code",
   "execution_count": null,
   "metadata": {},
   "outputs": [],
   "source": [
    "# Import module\n",
    "from biobb_amber.leap.leap_gen_top import leap_gen_top\n",
    "\n",
    "# Create prop dict and inputs/outputs\n",
    "output_pdb_path = 'structure.leap.pdb'\n",
    "output_top_path = 'structure.leap.top'\n",
    "output_crd_path = 'structure.leap.crd'\n",
    "\n",
    "prop = {\n",
    "    \"forcefield\" : [\"protein.ff14SB\",\"constph\"]\n",
    "}\n",
    "\n",
    "# Create and launch bb\n",
    "leap_gen_top(input_pdb_path=output_pdb4amber_path,\n",
    "           output_pdb_path=output_pdb_path,\n",
    "           output_top_path=output_top_path,\n",
    "           output_crd_path=output_crd_path,\n",
    "           properties=prop)"
   ]
  },
  {
   "cell_type": "markdown",
   "metadata": {},
   "source": [
    "<a id=\"vis3D\"></a>\n",
    "### Visualizing 3D structure\n",
    "Visualizing the **PDB structure** after topology generation using **NGL**. Note the newly added **hydrogen atoms**, in particular, the ones for the highlighted protonated **ionizable residues** (GL4, AS4).  "
   ]
  },
  {
   "cell_type": "code",
   "execution_count": null,
   "metadata": {},
   "outputs": [],
   "source": [
    "# Show protein\n",
    "view = nglview.show_structure_file(output_pdb_path)\n",
    "view.add_representation(repr_type='ball+stick', selection='all')\n",
    "view.add_representation(repr_type='ball+stick', radius='0.3', selection='GL4 AS4')\n",
    "view._remote_call('setSize', target='Widget', args=['','600px'])\n",
    "view"
   ]
  },
  {
   "cell_type": "markdown",
   "metadata": {},
   "source": [
    "<a id=\"box\"></a>\n",
    "***\n",
    "## Create solvent box and solvating the system\n",
    "Define the unit cell for the **protein structure MD system** to fill it with water molecules.<br>\n",
    "A **truncated octahedron box** is used to define the unit cell, with a **distance from the structure to the box edge of 9.0 Angstroms**. <br>\n",
    "The solvent type used is the default **TIP3P** water model, a generic 3-point solvent model.\n",
    "***\n",
    "**Building Blocks** used:\n",
    " - [leap_solvate](https://biobb-amber.readthedocs.io/en/latest/leap.html#module-leap.leap_solvate) from **biobb_amber.leap.leap_solvate** \n",
    "***"
   ]
  },
  {
   "cell_type": "code",
   "execution_count": null,
   "metadata": {},
   "outputs": [],
   "source": [
    "# Import module\n",
    "from biobb_amber.leap.leap_solvate import leap_solvate\n",
    "\n",
    "# Create prop dict and inputs/outputs\n",
    "output_solv_pdb_path = 'structure.solv.pdb'\n",
    "output_solv_top_path = 'structure.solv.parmtop'\n",
    "output_solv_crd_path = 'structure.solv.crd'\n",
    "\n",
    "prop = {\n",
    "    \"forcefield\" : [\"protein.ff14SB\",\"constph\"],\n",
    "    \"water_type\": \"TIP3PBOX\",\n",
    "    \"distance_to_molecule\": \"9.0\",  \n",
    "    \"box_type\": \"truncated_octahedron\"\n",
    "}\n",
    "\n",
    "# Create and launch bb\n",
    "leap_solvate(input_pdb_path=output_pdb_path,\n",
    "           output_pdb_path=output_solv_pdb_path,\n",
    "           output_top_path=output_solv_top_path,\n",
    "           output_crd_path=output_solv_crd_path,\n",
    "           properties=prop)"
   ]
  },
  {
   "cell_type": "markdown",
   "metadata": {},
   "source": [
    "<a id=\"vis3D\"></a>\n",
    "### Visualizing 3D structure\n",
    "Visualizing the solvated **PDB structure** using **NGL**.    "
   ]
  },
  {
   "cell_type": "code",
   "execution_count": null,
   "metadata": {},
   "outputs": [],
   "source": [
    "# Show protein\n",
    "view = nglview.show_structure_file(output_solv_pdb_path)\n",
    "view.clear_representations()\n",
    "view.add_representation(repr_type='cartoon', selection='protein')\n",
    "view.add_representation(repr_type='ball+stick', selection='protein')\n",
    "view.add_representation(repr_type='line', selection='solvent')\n",
    "view._remote_call('setSize', target='Widget', args=['','600px'])\n",
    "view"
   ]
  },
  {
   "cell_type": "markdown",
   "metadata": {},
   "source": [
    "<a id=\"ions\"></a>\n",
    "## Adding ions\n",
    "\n",
    "**Neutralizing** the system and adding an additional **ionic concentration** using the **leap tool** from the **AMBER MD package**. <br/>\n",
    "Using **Sodium (Na+)** and **Chloride (Cl-)** counterions and an **additional ionic concentration** of 150mM.\n",
    "***\n",
    "**Building Blocks** used:\n",
    " - [leap_add_ions](https://biobb-amber.readthedocs.io/en/latest/leap.html#module-leap.leap_add_ions) from **biobb_amber.leap.leap_add_ions**\n",
    "***"
   ]
  },
  {
   "cell_type": "code",
   "execution_count": null,
   "metadata": {},
   "outputs": [],
   "source": [
    "# Import module\n",
    "from biobb_amber.leap.leap_add_ions import leap_add_ions\n",
    "\n",
    "# Create prop dict and inputs/outputs\n",
    "output_ions_pdb_path = 'structure.ions.pdb'\n",
    "output_ions_top_path = 'structure.ions.parmtop'\n",
    "output_ions_crd_path = 'structure.ions.crd'\n",
    "\n",
    "prop = {\n",
    "    \"forcefield\" : [\"protein.ff14SB\",\"constph\"],\n",
    "    \"neutralise\" : True,\n",
    "    \"box_type\": \"truncated_octahedron\"\n",
    "}\n",
    "\n",
    "# Create and launch bb\n",
    "leap_add_ions(input_pdb_path=output_solv_pdb_path,\n",
    "           output_pdb_path=output_ions_pdb_path,\n",
    "           output_top_path=output_ions_top_path,\n",
    "           output_crd_path=output_ions_crd_path,\n",
    "           properties=prop)"
   ]
  },
  {
   "cell_type": "markdown",
   "metadata": {},
   "source": [
    "<a id=\"vis3D\"></a>\n",
    "### Visualizing 3D structure\n",
    "Visualizing the solvated **PDB structure** with the newly added **counterions** (highlighted) using **NGL**. "
   ]
  },
  {
   "cell_type": "code",
   "execution_count": null,
   "metadata": {
    "scrolled": true
   },
   "outputs": [],
   "source": [
    "# Show protein\n",
    "view = nglview.show_structure_file(output_ions_pdb_path)\n",
    "view.clear_representations()\n",
    "view.add_representation(repr_type='cartoon', selection='protein')\n",
    "view.add_representation(repr_type='ball+stick', selection='protein')\n",
    "view.add_representation(repr_type='line', selection='solvent')\n",
    "view.add_representation(repr_type='spacefill', selection='Cl- Na+', color='green')\n",
    "view._remote_call('setSize', target='Widget', args=['','600px'])\n",
    "view"
   ]
  },
  {
   "cell_type": "markdown",
   "metadata": {},
   "source": [
    "<a id=\"cpinutil1\"></a>\n",
    "## Generating the constant pH input file\n",
    "\n",
    "Generating the **constant pH** input file (***cpin file***) using the **cpinutil.py** program from the **AmberTools MD package**. This step is identifying which residues should be **titrated** during the course of the **MD simulation**. <br>\n",
    "In this particular example, the residues we are interested in **titrating** during the simulation are **Glutamates (GL4)**, **Aspartates (AS4)**, **Cysteines (CYS)**, **Lysines (LYS)** and **Tyrosines (TYR)** (the structure used in this example doesn't contain Histidine residues). \n",
    "\n",
    "***\n",
    "**Building Blocks** used:\n",
    " - [parmed_cpinutil](https://biobb-amber.readthedocs.io/en/latest/parmed.html#module-parmed.parmed_cpinutil) from **biobb_amber.parmed.parmed_cpinutil**\n",
    "***"
   ]
  },
  {
   "cell_type": "code",
   "execution_count": null,
   "metadata": {},
   "outputs": [],
   "source": [
    "# Import module\n",
    "from biobb_amber.parmed.parmed_cpinutil import parmed_cpinutil\n",
    "\n",
    "# Create prop dict and inputs/outputs\n",
    "output_cpin_path = 'structure.cpin'\n",
    "output_top_cpin_path = 'structure.cpH.parmtop'\n",
    "\n",
    "prop = {\n",
    "    \"igb\" : 2,\n",
    "    \"resnames\": \"AS4 GL4 CYS LYS TYR\", # No Histidines in our structure\n",
    "    \"system\": \"BPTI\"\n",
    "}\n",
    "\n",
    "# Create and launch bb\n",
    "parmed_cpinutil(input_top_path=output_ions_top_path,\n",
    "           output_cpin_path=output_cpin_path,\n",
    "           output_top_path=output_top_cpin_path,\n",
    "           properties=prop)"
   ]
  },
  {
   "cell_type": "markdown",
   "metadata": {},
   "source": [
    "<a id=\"min\"></a>\n",
    "## Energetically minimize the system\n",
    "\n",
    "**Energetically minimize** the **system** (protein structure + solvent + ions) using the **sander tool** from the **AMBER MD package**. **Restraining backbone atoms** with a force constant of 10 Kcal/mol.$Å^{2}$ to their initial positions.\n",
    "\n",
    "- [Step 1](#emStep1): Energetically minimize the **system** through 500 minimization cycles.\n",
    "- [Step 2](#emStep2): Checking **energy minimization** results. Plotting energy by time during the **minimization** process. \n",
    "***\n",
    "**Building Blocks** used:\n",
    " - [sander_mdrun](https://biobb-amber.readthedocs.io/en/latest/sander.html#module-sander.sander_mdrun) from **biobb_amber.sander.sander_mdrun**\n",
    " - [process_minout](https://biobb-amber.readthedocs.io/en/latest/process.html#module-process.process_minout) from **biobb_amber.process.process_minout**\n",
    "***"
   ]
  },
  {
   "cell_type": "markdown",
   "metadata": {},
   "source": [
    "<a id=\"minv_1\"></a>\n",
    "### Step 1: Energetically minimize the system\n",
    "**System minimization**, applying **position restraints** (10 Kcal/mol.$Å^{2}$) to the **protein backbone atoms**."
   ]
  },
  {
   "cell_type": "code",
   "execution_count": null,
   "metadata": {},
   "outputs": [],
   "source": [
    "# Import module\n",
    "from biobb_amber.sander.sander_mdrun import sander_mdrun\n",
    "\n",
    "# Create prop dict and inputs/outputs\n",
    "output_min_traj_path = 'sander.cpH.x'\n",
    "output_min_rst_path = 'sander.cpH.rst'\n",
    "output_min_log_path = 'sander.cpH.log'\n",
    "\n",
    "prop = {\n",
    "    \"simulation_type\" : \"minimization\",\n",
    "    \"mdin\" : { \n",
    "        'maxcyc' : 500,\n",
    "        'ntr' : 1,           # Turn on positional restraints\n",
    "        'restraint_wt' : 10,  # 10 kcal/mol/A**2 restraint force constant\n",
    "        'restraintmask' : '\\\"@CA,C,O,N\\\"' # Restraints on the backbone atoms only\n",
    "    }\n",
    "}\n",
    "\n",
    "# Create and launch bb\n",
    "sander_mdrun(input_top_path=output_top_cpin_path,\n",
    "            input_crd_path=output_ions_crd_path,\n",
    "            input_ref_path=output_ions_crd_path,\n",
    "            output_traj_path=output_min_traj_path,\n",
    "            output_rst_path=output_min_rst_path,\n",
    "            output_log_path=output_min_log_path,\n",
    "            properties=prop)"
   ]
  },
  {
   "cell_type": "markdown",
   "metadata": {},
   "source": [
    "<a id=\"emStep2\"></a>\n",
    "### Step 2: Checking Energy Minimization results\n",
    "Checking **energy minimization** results. Plotting **potential energy** along time during the **minimization process**."
   ]
  },
  {
   "cell_type": "code",
   "execution_count": null,
   "metadata": {
    "scrolled": true
   },
   "outputs": [],
   "source": [
    "# Import module\n",
    "from biobb_amber.process.process_minout import process_minout\n",
    "\n",
    "# Create prop dict and inputs/outputs\n",
    "output_h_min_dat_path = 'sander.min.energy.dat'\n",
    "\n",
    "prop = {\n",
    "    \"terms\" : ['ENERGY']\n",
    "}\n",
    "\n",
    "# Create and launch bb\n",
    "process_minout(input_log_path=output_min_log_path,\n",
    "            output_dat_path=output_h_min_dat_path,\n",
    "            properties=prop)"
   ]
  },
  {
   "cell_type": "code",
   "execution_count": null,
   "metadata": {},
   "outputs": [],
   "source": [
    "# Read data from file and filter energy values higher than 1000 Kj/mol^-1\n",
    "with open(output_h_min_dat_path,'r') as energy_file:\n",
    "    x,y = map(\n",
    "        list,\n",
    "        zip(*[\n",
    "            (float(line.split()[0]),float(line.split()[1]))\n",
    "            for line in energy_file \n",
    "            if not line.startswith((\"#\",\"@\")) \n",
    "            if float(line.split()[1]) < 1000 \n",
    "        ])\n",
    "    )\n",
    "\n",
    "plotly.offline.init_notebook_mode(connected=True)\n",
    "\n",
    "fig = {\n",
    "    \"data\": [go.Scatter(x=x, y=y)],\n",
    "    \"layout\": go.Layout(title=\"Energy Minimization\",\n",
    "                        xaxis=dict(title = \"Energy Minimization Step\"),\n",
    "                        yaxis=dict(title = \"Potential Energy kcal/mol\")\n",
    "                       )\n",
    "}\n",
    "\n",
    "plotly.offline.iplot(fig)"
   ]
  },
  {
   "cell_type": "markdown",
   "metadata": {},
   "source": [
    "<a id=\"heating\"></a>\n",
    "## Heating the system\n",
    "\n",
    "**Warming up** the **prepared system** using the **sander tool** from the **AMBER MD package**. Going from 0 to the desired **temperature**, in this particular example, 300K. **Protein backbone atoms restrained** (force constant of 2 Kcal/mol). Length 5ps.\n",
    "***\n",
    "- [Step 1](#heatStep1): Warming up the **system** through 500 MD steps.\n",
    "- [Step 2](#heatStep2): Checking results for the **system warming up**. Plotting **temperature** along time during the **heating** process. \n",
    "***\n",
    "**Building Blocks** used:\n",
    " - [sander_mdrun](https://biobb-amber.readthedocs.io/en/latest/sander.html#module-sander.sander_mdrun) from **biobb_amber.sander.sander_mdrun**\n",
    " - [process_mdout](https://biobb-amber.readthedocs.io/en/latest/process.html#module-process.process_mdout) from **biobb_amber.process.process_mdout**\n",
    "***"
   ]
  },
  {
   "cell_type": "markdown",
   "metadata": {},
   "source": [
    "<a id=\"heatStep1\"></a>\n",
    "### Step 1: Warming up the system\n",
    "The **heat** type of the **simulation_type property** contains the main default parameters to run a **system warming up**:\n",
    "\n",
    "-  imin = 0;&nbsp;&nbsp;&nbsp;      Run MD (no minimization)\n",
    "-  ntx = 5;&nbsp;&nbsp;&nbsp;       Read initial coords and vels from restart file\n",
    "-  cut = 10.0;&nbsp;&nbsp;&nbsp;    Cutoff for non bonded interactions in Angstroms\n",
    "-  ntr = 0;&nbsp;&nbsp;&nbsp;       No restrained atoms\n",
    "-  ntc = 2;&nbsp;&nbsp;&nbsp;       SHAKE for constraining length of bonds involving Hydrogen atoms\n",
    "-  ntf = 2;&nbsp;&nbsp;&nbsp;       Bond interactions involving H omitted\n",
    "-  ntt = 3;&nbsp;&nbsp;&nbsp;       Constant temperature using Langevin dynamics\n",
    "-  ig = -1;&nbsp;&nbsp;&nbsp;       Seed for pseudo-random number generator\n",
    "-  ioutfm = 1;&nbsp;&nbsp;&nbsp;    Write trajectory in netcdf format\n",
    "-  iwrap = 1;&nbsp;&nbsp;&nbsp;     Wrap coords into primary box\n",
    "-  nstlim = 5000;&nbsp;&nbsp;&nbsp; Number of MD steps \n",
    "-  dt = 0.002;&nbsp;&nbsp;&nbsp;    Time step (in ps)\n",
    "-  tempi = 0.0;&nbsp;&nbsp;&nbsp;   Initial temperature (0 K)\n",
    "-  temp0 = 300.0;&nbsp;&nbsp;&nbsp; Final temperature (300 K)\n",
    "-  irest = 0;&nbsp;&nbsp;&nbsp;     No restart from previous simulation\n",
    "-  ntb = 1;&nbsp;&nbsp;&nbsp;       Periodic boundary conditions at constant volume\n",
    "-  gamma_ln = 1.0;&nbsp;&nbsp;&nbsp;   Collision frequency for Langevin dynamics (in 1/ps)\n",
    "\n",
    "In this particular example, the **heating** of the system is done in **2500 steps** (5ps) and is going **from 0K to 300K** (note that the number of steps has been reduced in this tutorial, for the sake of time). "
   ]
  },
  {
   "cell_type": "code",
   "execution_count": null,
   "metadata": {},
   "outputs": [],
   "source": [
    "# Import module\n",
    "from biobb_amber.sander.sander_mdrun import sander_mdrun\n",
    "\n",
    "# Create prop dict and inputs/outputs\n",
    "output_heat_traj_path = 'sander.heat.netcdf'\n",
    "output_heat_rst_path = 'sander.heat.rst'\n",
    "output_heat_log_path = 'sander.heat.log'\n",
    "\n",
    "prop = {\n",
    "    \"simulation_type\" : \"heat\",\n",
    "    \"mdin\" : { \n",
    "        'nstlim' : 2500,     # Reducing the number of steps for the sake of time (5ps)\n",
    "        'ntr' : 1,           # Turn on positional restraints\n",
    "        'restraintmask' : '\\\"@CA,C,O,N\\\"',         # Restraining protein backbone atoms\n",
    "        'restraint_wt' : 2.0                       # With a force constant of 2 Kcal/mol*A2\n",
    "    }\n",
    "}\n",
    "\n",
    "# Create and launch bb\n",
    "sander_mdrun(input_top_path=output_top_cpin_path,\n",
    "            input_crd_path=output_min_rst_path,\n",
    "            input_ref_path=output_min_rst_path,\n",
    "            output_traj_path=output_heat_traj_path,\n",
    "            output_rst_path=output_heat_rst_path,\n",
    "            output_log_path=output_heat_log_path,\n",
    "            properties=prop)"
   ]
  },
  {
   "cell_type": "markdown",
   "metadata": {},
   "source": [
    "<a id=\"heatStep2\"></a>\n",
    "### Step 2: Checking results from the system warming up\n",
    "Checking **system warming up** output. Plotting **temperature** along time during the **heating process**."
   ]
  },
  {
   "cell_type": "code",
   "execution_count": null,
   "metadata": {
    "scrolled": true
   },
   "outputs": [],
   "source": [
    "# Import module\n",
    "from biobb_amber.process.process_mdout import process_mdout\n",
    "\n",
    "# Create prop dict and inputs/outputs\n",
    "output_dat_heat_path = 'sander.md.temp.dat'\n",
    "\n",
    "prop = {\n",
    "    \"terms\" : ['TEMP']\n",
    "}\n",
    "\n",
    "# Create and launch bb\n",
    "process_mdout(input_log_path=output_heat_log_path,\n",
    "            output_dat_path=output_dat_heat_path,\n",
    "            properties=prop)"
   ]
  },
  {
   "cell_type": "code",
   "execution_count": null,
   "metadata": {},
   "outputs": [],
   "source": [
    "#Read data from file and filter energy values higher than 1000 Kj/mol^-1\n",
    "with open(output_dat_heat_path,'r') as energy_file:\n",
    "    x,y = map(\n",
    "        list,\n",
    "        zip(*[\n",
    "            (float(line.split()[0]),float(line.split()[1]))\n",
    "            for line in energy_file \n",
    "            if not line.startswith((\"#\",\"@\")) \n",
    "            if float(line.split()[1]) < 1000 \n",
    "        ])\n",
    "    )\n",
    "\n",
    "plotly.offline.init_notebook_mode(connected=True)\n",
    "\n",
    "fig = {\n",
    "    \"data\": [go.Scatter(x=x, y=y)],\n",
    "    \"layout\": go.Layout(title=\"Heating process\",\n",
    "                        xaxis=dict(title = \"Heating Step (ps)\"),\n",
    "                        yaxis=dict(title = \"Temperature (K)\")\n",
    "                       )\n",
    "}\n",
    "\n",
    "plotly.offline.iplot(fig)"
   ]
  },
  {
   "cell_type": "markdown",
   "metadata": {},
   "source": [
    "<a id=\"nvt\"></a>\n",
    "***\n",
    "## Equilibrate the system (NVT)\n",
    "Equilibrate the **protein system** in **NVT ensemble** (constant Number of particles, Volume and Temperature). Protein **backbone atoms** will be restrained using position restraining forces: movement is permitted, but only after overcoming a substantial energy penalty. \n",
    "\n",
    "- [Step 1](#eqNVTStep1): Equilibrate the **protein system** with **NVT** ensemble.\n",
    "- [Step 2](#eqNVTStep2): Checking **NVT Equilibration** results. Plotting **system temperature** by time during the **NVT equilibration** process.  \n",
    "***\n",
    "**Building Blocks** used:\n",
    " - [sander_mdrun](https://biobb-amber.readthedocs.io/en/latest/sander.html#module-sander.sander_mdrun) from **biobb_amber.sander.sander_mdrun**\n",
    " - [process_mdout](https://biobb-amber.readthedocs.io/en/latest/process.html#module-process.process_mdout) from **biobb_amber.process.process_mdout** \n",
    "***"
   ]
  },
  {
   "cell_type": "markdown",
   "metadata": {},
   "source": [
    "<a id=\"eqNVTStep1\"></a>\n",
    "### Step 1: Equilibrating the system (NVT)\n",
    "The **nvt** type of the **simulation_type property** contains the main default parameters to run a **system equilibration in NVT ensemble**:\n",
    "\n",
    "-  imin = 0;&nbsp;&nbsp;&nbsp;      Run MD (no minimization)\n",
    "-  ntx = 5;&nbsp;&nbsp;&nbsp;       Read initial coords and vels from restart file\n",
    "-  cut = 10.0;&nbsp;&nbsp;&nbsp;    Cutoff for non bonded interactions in Angstroms\n",
    "-  ntr = 0;&nbsp;&nbsp;&nbsp;       No restrained atoms\n",
    "-  ntc = 2;&nbsp;&nbsp;&nbsp;       SHAKE for constraining length of bonds involving Hydrogen atoms\n",
    "-  ntf = 2;&nbsp;&nbsp;&nbsp;       Bond interactions involving H omitted\n",
    "-  ntt = 3;&nbsp;&nbsp;&nbsp;       Constant temperature using Langevin dynamics\n",
    "-  ig = -1;&nbsp;&nbsp;&nbsp;       Seed for pseudo-random number generator\n",
    "-  ioutfm = 1;&nbsp;&nbsp;&nbsp;    Write trajectory in netcdf format\n",
    "-  iwrap = 1;&nbsp;&nbsp;&nbsp;     Wrap coords into primary box\n",
    "-  nstlim = 5000;&nbsp;&nbsp;&nbsp; Number of MD steps \n",
    "-  dt = 0.002;&nbsp;&nbsp;&nbsp;    Time step (in ps)\n",
    "-  irest = 1;&nbsp;&nbsp;&nbsp;     Restart previous simulation\n",
    "-  ntb = 1;&nbsp;&nbsp;&nbsp;       Periodic boundary conditions at constant volume\n",
    "-  gamma_ln = 5.0;&nbsp;&nbsp;&nbsp;   Collision frequency for Langevin dynamics (in 1/ps)\n",
    "\n",
    "In this particular example, the **NVT equilibration** of the system is done in **500 steps** (note that the number of steps has been reduced in this tutorial, for the sake of time). "
   ]
  },
  {
   "cell_type": "code",
   "execution_count": null,
   "metadata": {},
   "outputs": [],
   "source": [
    "# Import module\n",
    "from biobb_amber.sander.sander_mdrun import sander_mdrun\n",
    "\n",
    "# Create prop dict and inputs/outputs\n",
    "output_nvt_traj_path = 'sander.nvt.netcdf'\n",
    "output_nvt_rst_path = 'sander.nvt.rst'\n",
    "output_nvt_log_path = 'sander.nvt.log'\n",
    "\n",
    "prop = {\n",
    "    \"simulation_type\" : 'nvt',\n",
    "    \"mdin\" : { \n",
    "        'nstlim' : 500,      # Reducing the number of steps for the sake of time (1ps)\n",
    "        'ntr' : 1,           # Turn on positional restraints\n",
    "        'restraintmask' : '\\\"@CA,C,O,N\\\"',         # Restraining protein backbone atoms\n",
    "        'restraint_wt' : 0.1                       # With a force constant of 0.1 Kcal/mol*A2\n",
    "    }\n",
    "}\n",
    "\n",
    "# Create and launch bb\n",
    "sander_mdrun(input_top_path=output_top_cpin_path,\n",
    "            input_crd_path=output_heat_rst_path,\n",
    "            input_ref_path=output_heat_rst_path,\n",
    "            output_traj_path=output_nvt_traj_path,\n",
    "            output_rst_path=output_nvt_rst_path,\n",
    "            output_log_path=output_nvt_log_path,\n",
    "            properties=prop)"
   ]
  },
  {
   "cell_type": "markdown",
   "metadata": {},
   "source": [
    "<a id=\"eqNVTStep2\"></a>\n",
    "### Step 2: Checking NVT Equilibration results\n",
    "Checking **NVT Equilibration** results. Plotting **system temperature** by time during the NVT equilibration process. "
   ]
  },
  {
   "cell_type": "code",
   "execution_count": null,
   "metadata": {
    "scrolled": true
   },
   "outputs": [],
   "source": [
    "# Import module\n",
    "from biobb_amber.process.process_mdout import process_mdout\n",
    "\n",
    "# Create prop dict and inputs/outputs\n",
    "output_dat_nvt_path = 'sander.md.nvt.temp.dat'\n",
    "\n",
    "prop = {\n",
    "    \"terms\" : ['TEMP']\n",
    "}\n",
    "\n",
    "# Create and launch bb\n",
    "process_mdout(input_log_path=output_nvt_log_path,\n",
    "            output_dat_path=output_dat_nvt_path,\n",
    "            properties=prop)"
   ]
  },
  {
   "cell_type": "code",
   "execution_count": null,
   "metadata": {},
   "outputs": [],
   "source": [
    "#Read data from file and filter energy values higher than 1000 Kj/mol^-1\n",
    "with open(output_dat_nvt_path,'r') as energy_file:\n",
    "    x,y = map(\n",
    "        list,\n",
    "        zip(*[\n",
    "            (float(line.split()[0]),float(line.split()[1]))\n",
    "            for line in energy_file \n",
    "            if not line.startswith((\"#\",\"@\")) \n",
    "            if float(line.split()[1]) < 1000 \n",
    "        ])\n",
    "    )\n",
    "\n",
    "plotly.offline.init_notebook_mode(connected=True)\n",
    "\n",
    "fig = {\n",
    "    \"data\": [go.Scatter(x=x, y=y)],\n",
    "    \"layout\": go.Layout(title=\"NVT equilibration\",\n",
    "                        xaxis=dict(title = \"Equilibration Step (ps)\"),\n",
    "                        yaxis=dict(title = \"Temperature (K)\")\n",
    "                       )\n",
    "}\n",
    "\n",
    "plotly.offline.iplot(fig)"
   ]
  },
  {
   "cell_type": "markdown",
   "metadata": {},
   "source": [
    "<a id=\"npt\"></a>\n",
    "***\n",
    "## Equilibrate the system (NPT)\n",
    "Equilibrate the **protein system** in **NPT ensemble** (constant Number of particles, Pressure and Temperature). Protein **backbone atoms** will be restrained using position restraining forces: movement is permitted, but only after overcoming a substantial energy penalty. \n",
    "\n",
    "- [Step 1](#eqNPTStep1): Equilibrate the **protein system** with **NPT** ensemble.\n",
    "- [Step 2](#eqNPTStep2): Checking **NPT Equilibration** results. Plotting **system pressure and density** by time during the **NVT equilibration** process.  \n",
    "***\n",
    "**Building Blocks** used:\n",
    " - [sander_mdrun](https://biobb-amber.readthedocs.io/en/latest/sander.html#module-sander.sander_mdrun) from **biobb_amber.sander.sander_mdrun**\n",
    " - [process_mdout](https://biobb-amber.readthedocs.io/en/latest/process.html#module-process.process_mdout) from **biobb_amber.process.process_mdout** \n",
    "***"
   ]
  },
  {
   "cell_type": "markdown",
   "metadata": {},
   "source": [
    "<a id=\"eqNPTStep1\"></a>\n",
    "### Step 1: Equilibrating the system (NPT)\n",
    "The **npt** type of the **simulation_type property** contains the main default parameters to run a **system equilibration in NPT ensemble**:\n",
    "\n",
    "-  imin = 0;&nbsp;&nbsp;&nbsp;      Run MD (no minimization)\n",
    "-  ntx = 5;&nbsp;&nbsp;&nbsp;       Read initial coords and vels from restart file\n",
    "-  cut = 10.0;&nbsp;&nbsp;&nbsp;    Cutoff for non bonded interactions in Angstroms\n",
    "-  ntr = 0;&nbsp;&nbsp;&nbsp;       No restrained atoms\n",
    "-  ntc = 2;&nbsp;&nbsp;&nbsp;       SHAKE for constraining length of bonds involving Hydrogen atoms\n",
    "-  ntf = 2;&nbsp;&nbsp;&nbsp;       Bond interactions involving H omitted\n",
    "-  ntt = 3;&nbsp;&nbsp;&nbsp;       Constant temperature using Langevin dynamics\n",
    "-  ig = -1;&nbsp;&nbsp;&nbsp;       Seed for pseudo-random number generator\n",
    "-  ioutfm = 1;&nbsp;&nbsp;&nbsp;    Write trajectory in netcdf format\n",
    "-  iwrap = 1;&nbsp;&nbsp;&nbsp;     Wrap coords into primary box\n",
    "-  nstlim = 5000;&nbsp;&nbsp;&nbsp; Number of MD steps \n",
    "-  dt = 0.002;&nbsp;&nbsp;&nbsp;    Time step (in ps)\n",
    "-  irest = 1;&nbsp;&nbsp;&nbsp;     Restart previous simulation\n",
    "-  gamma_ln = 5.0;&nbsp;&nbsp;&nbsp;   Collision frequency for Langevin dynamics (in 1/ps)\n",
    "-  pres0 = 1.0;&nbsp;&nbsp;&nbsp;   Reference pressure\n",
    "-  ntp = 1;&nbsp;&nbsp;&nbsp;       Constant pressure dynamics: md with isotropic position scaling\n",
    "-  taup = 2.0;&nbsp;&nbsp;&nbsp;    Pressure relaxation time (in ps)\n",
    "\n",
    "In this particular example, the **NPT equilibration** of the system is done in **500 steps** (note that the number of steps has been reduced in this tutorial, for the sake of time). "
   ]
  },
  {
   "cell_type": "code",
   "execution_count": null,
   "metadata": {},
   "outputs": [],
   "source": [
    "# Import module\n",
    "from biobb_amber.sander.sander_mdrun import sander_mdrun\n",
    "\n",
    "# Create prop dict and inputs/outputs\n",
    "output_npt_traj_path = 'sander.npt.netcdf'\n",
    "output_npt_rst_path = 'sander.npt.rst'\n",
    "output_npt_log_path = 'sander.npt.log'\n",
    "\n",
    "prop = {\n",
    "    \"simulation_type\" : 'npt',\n",
    "    \"mdin\" : { \n",
    "        'nstlim' : 500,      # Reducing the number of steps for the sake of time (1ps)\n",
    "        'ntr' : 1,           # Turn on positional restraints\n",
    "        'restraintmask' : '\\\"@CA,C,O,N\\\"',         # Restraining protein backbone atoms\n",
    "        'restraint_wt' : 0.1                       # With a force constant of 0.1 Kcal/mol*A2\n",
    "    }\n",
    "}\n",
    "\n",
    "# Create and launch bb\n",
    "sander_mdrun(input_top_path=output_top_cpin_path,\n",
    "            input_crd_path=output_nvt_rst_path,\n",
    "            input_ref_path=output_nvt_rst_path,\n",
    "            output_traj_path=output_npt_traj_path,\n",
    "            output_rst_path=output_npt_rst_path,\n",
    "            output_log_path=output_npt_log_path,\n",
    "            properties=prop)"
   ]
  },
  {
   "cell_type": "markdown",
   "metadata": {},
   "source": [
    "<a id=\"eqNPTStep2\"></a>\n",
    "### Step 2: Checking NPT Equilibration results\n",
    "Checking **NPT Equilibration** results. Plotting **system pressure and density** by time during the **NPT equilibration** process. "
   ]
  },
  {
   "cell_type": "code",
   "execution_count": null,
   "metadata": {
    "scrolled": true
   },
   "outputs": [],
   "source": [
    "# Import module\n",
    "from biobb_amber.process.process_mdout import process_mdout\n",
    "\n",
    "# Create prop dict and inputs/outputs\n",
    "output_dat_npt_path = 'sander.md.npt.dat'\n",
    "\n",
    "prop = {\n",
    "    \"terms\" : ['PRES','DENSITY']\n",
    "}\n",
    "\n",
    "# Create and launch bb\n",
    "process_mdout(input_log_path=output_npt_log_path,\n",
    "            output_dat_path=output_dat_npt_path,\n",
    "            properties=prop)"
   ]
  },
  {
   "cell_type": "code",
   "execution_count": null,
   "metadata": {},
   "outputs": [],
   "source": [
    "# Read pressure and density data from file \n",
    "with open(output_dat_npt_path,'r') as pd_file:\n",
    "    x,y,z = map(\n",
    "        list,\n",
    "        zip(*[\n",
    "            (float(line.split()[0]),float(line.split()[1]),float(line.split()[2]))\n",
    "            for line in pd_file \n",
    "            if not line.startswith((\"#\",\"@\")) \n",
    "        ])\n",
    "    )\n",
    "\n",
    "plotly.offline.init_notebook_mode(connected=True)\n",
    "\n",
    "trace1 = go.Scatter(\n",
    "    x=x,y=y\n",
    ")\n",
    "trace2 = go.Scatter(\n",
    "    x=x,y=z\n",
    ")\n",
    "\n",
    "fig = subplots.make_subplots(rows=1, cols=2, print_grid=False)\n",
    "\n",
    "fig.append_trace(trace1, 1, 1)\n",
    "fig.append_trace(trace2, 1, 2)\n",
    "\n",
    "fig['layout']['xaxis1'].update(title='Time (ps)')\n",
    "fig['layout']['xaxis2'].update(title='Time (ps)')\n",
    "fig['layout']['yaxis1'].update(title='Pressure (bar)')\n",
    "fig['layout']['yaxis2'].update(title='Density (Kg*m^-3)')\n",
    "\n",
    "fig['layout'].update(title='Pressure and Density during NPT Equilibration')\n",
    "fig['layout'].update(showlegend=False)\n",
    "\n",
    "plotly.offline.iplot(fig)"
   ]
  },
  {
   "cell_type": "markdown",
   "metadata": {},
   "source": [
    "<a id=\"free\"></a>\n",
    "***\n",
    "## Constant pH Molecular Dynamics Simulation\n",
    "Upon completion of the **two equilibration phases (NVT and NPT)**, the system is now well-equilibrated at the desired temperature and pressure. The **position restraints** can now be released. The last step of the **protein** MD setup is a short, **free MD simulation**, to ensure the robustness of the system. \n",
    "- [Step 1](#mdStep1): Run short MD simulation of the **protein system**.\n",
    "- [Step 2](#mdStep2): Checking results for the final step of the setup process, the **free MD run**. Plotting **Root Mean Square deviation (RMSd)** and **Radius of Gyration (Rgyr)** by time during the **free MD run** step.\n",
    "***\n",
    "**Building Blocks** used:\n",
    " - [sander_mdrun](https://biobb-amber.readthedocs.io/en/latest/sander.html#module-sander.sander_mdrun) from **biobb_amber.sander.sander_mdrun**\n",
    " - [process_mdout](https://biobb-amber.readthedocs.io/en/latest/process.html#module-process.process_mdout) from **biobb_amber.process.process_mdout** \n",
    " - [cpptraj_rms](https://biobb-analysis.readthedocs.io/en/latest/ambertools.html#module-ambertools.cpptraj_rms) from **biobb_analysis.cpptraj.cpptraj_rms**\n",
    " - [cpptraj_rgyr](https://biobb-analysis.readthedocs.io/en/latest/ambertools.html#module-ambertools.cpptraj_rgyr) from **biobb_analysis.cpptraj.cpptraj_rgyr**\n",
    "***"
   ]
  },
  {
   "cell_type": "markdown",
   "metadata": {},
   "source": [
    "<a id=\"mdStep1\"></a>\n",
    "### Step 1: Creating portable binary run file to run a Constant pH MD simulation\n",
    "\n",
    "The **free** type of the **simulation_type property** contains the main default parameters to run an **unrestrained MD simulation**:\n",
    "\n",
    "-  imin = 0;&nbsp;&nbsp;&nbsp;      Run MD (no minimization)\n",
    "-  ntx = 5;&nbsp;&nbsp;&nbsp;       Read initial coords and vels from restart file\n",
    "-  cut = 10.0;&nbsp;&nbsp;&nbsp;    Cutoff for non bonded interactions in Angstroms\n",
    "-  ntr = 0;&nbsp;&nbsp;&nbsp;       No restrained atoms\n",
    "-  ntc = 2;&nbsp;&nbsp;&nbsp;       SHAKE for constraining length of bonds involving Hydrogen atoms\n",
    "-  ntf = 2;&nbsp;&nbsp;&nbsp;       Bond interactions involving H omitted\n",
    "-  ntt = 3;&nbsp;&nbsp;&nbsp;       Constant temperature using Langevin dynamics\n",
    "-  ig = -1;&nbsp;&nbsp;&nbsp;       Seed for pseudo-random number generator\n",
    "-  ioutfm = 1;&nbsp;&nbsp;&nbsp;    Write trajectory in netcdf format\n",
    "-  iwrap = 1;&nbsp;&nbsp;&nbsp;     Wrap coords into primary box\n",
    "-  nstlim = 5000;&nbsp;&nbsp;&nbsp; Number of MD steps \n",
    "-  dt = 0.002;&nbsp;&nbsp;&nbsp;    Time step (in ps)\n",
    "\n",
    "In this particular example, a short, **5ps-length** simulation (2500 steps) is run, for the sake of time. \n",
    "\n",
    "On top of these parameters, we will include the **constant pH** specific properties:\n",
    "\n",
    "- icnstph = 2;&nbsp;&nbsp;&nbsp;       Turn on constant pH for explicit solvent\n",
    "- saltcon = 0.1;&nbsp;&nbsp;&nbsp;     Use the salt concentration CpHMD was parameterized for\n",
    "- ntcnstph = 100;&nbsp;&nbsp;&nbsp;    Protonation state change attempt every 100 steps\n",
    "- ntrelax = 100;&nbsp;&nbsp;&nbsp;     Number of relaxation steps after a successful protonation state change\n",
    "- solvph = 7.0;&nbsp;&nbsp;&nbsp;      Solvent pH\n"
   ]
  },
  {
   "cell_type": "code",
   "execution_count": null,
   "metadata": {},
   "outputs": [],
   "source": [
    "# Import module\n",
    "from biobb_amber.sander.sander_mdrun import sander_mdrun\n",
    "\n",
    "# Create prop dict and inputs/outputs\n",
    "output_pH_traj_path = 'sander.pH.netcdf'\n",
    "output_pH_rst_path = 'sander.pH.rst'\n",
    "output_pH_cpout_path = 'sander.pH.cpout'\n",
    "output_pH_cprst_path = 'sander.pH.cprst'\n",
    "output_pH_log_path = 'sander.pH.log'\n",
    "output_pH_mdinfo_path = 'sander.pH.mdinfo'\n",
    "\n",
    "prop = {\n",
    "    \"simulation_type\" : 'free',\n",
    "    \"mdin\" : { \n",
    "        'nstlim' : 2500,     # Reducing the number of steps for the sake of time (5ps)\n",
    "        'ntwx' : 500,        # Print coords to trajectory every 500 steps (1 ps)\n",
    "        'icnstph' : 2,       # Turn on constant pH for explicit solvent\n",
    "        'saltcon' : 0.1,     # Use the salt concentration CpHMD was parameterized for\n",
    "        'ntcnstph' : 100,    # Protonation state change attempt every 100 steps\n",
    "        'ntrelax' : 100,     # Number of relaxation steps after a successful protonation state change\n",
    "        'solvph' : 7.0,      # Solvent pH\n",
    "#        'solvph' : 3.0,       # Acid pH\n",
    "#        'solvph' : 10.0,      # Basic (alkaline) pH\n",
    "    }\n",
    "}\n",
    "\n",
    "# Create and launch bb\n",
    "sander_mdrun(input_top_path=output_top_cpin_path,\n",
    "            input_crd_path=output_npt_rst_path,\n",
    "            input_cpin_path=output_cpin_path,\n",
    "            output_traj_path=output_pH_traj_path,\n",
    "            output_rst_path=output_pH_rst_path,\n",
    "            output_cpout_path=output_pH_cpout_path,\n",
    "            output_cprst_path=output_pH_cprst_path,\n",
    "            output_log_path=output_pH_log_path,\n",
    "            output_mdinfo_path=output_pH_mdinfo_path,\n",
    "            properties=prop)"
   ]
  },
  {
   "cell_type": "markdown",
   "metadata": {},
   "source": [
    "<a id=\"mdStep2\"></a>\n",
    "### Step 2: Checking constant pH MD simulation results\n",
    "\n",
    "**Protonation states** that are sampled throughout the course of the **constant pH** simulations are written to a **cpout-formatted file**. The program **cphstats** can be used to parse this **cpout file** and extract the **predicted pKa values** along different parameters: \n",
    "\n",
    "- The difference between the predicted pKa and the system pH (**Offset**)\n",
    "- The predicted pKa (**Pred**)\n",
    "- The fraction of time the residue spends protonated (**Frac Prot**)\n",
    "- The number of accpeted protonations state transitions (**Transitions**)\n",
    "- The sum of the fractional protonations (**Average total molecular protonation**)\n",
    "\n",
    "An additional **population** file is generated, containing the populations of every state for every **titratable residue**, the fraction of snapshots that the system spent in each state for each residue."
   ]
  },
  {
   "cell_type": "code",
   "execution_count": null,
   "metadata": {},
   "outputs": [],
   "source": [
    "# Import module\n",
    "from biobb_amber.cphstats.cphstats_run import cphstats_run\n",
    "\n",
    "# Create prop dict and inputs/outputs\n",
    "output_pH_dat_path = 'cphstats.pH.dat'\n",
    "output_pH_pop_path = 'cphstats.pH.pop.dat'\n",
    "\n",
    "prop = {\n",
    "    'verbose' : True,\n",
    "    'running_avg_window' : 1\n",
    "}\n",
    "\n",
    "# Create and launch bb\n",
    "cphstats_run(input_cpin_path=output_cpin_path,\n",
    "            input_cpout_path=output_pH_cpout_path,\n",
    "            output_dat_path=output_pH_dat_path,\n",
    "            output_population_path=output_pH_pop_path,\n",
    "            properties=prop)"
   ]
  },
  {
   "cell_type": "markdown",
   "metadata": {},
   "source": [
    "### Last Remarks\n",
    "\n",
    "When checking the information from the **predicted pKa values** cphstats.pH.dat and the **state population** cphstats.pH.pop.dat coming from the **constant pH** simulation at physiological pH (~7), you will find that no different states other than the major species appear during the simulation. Try to re-run the **constant pH** simulation again, modifying the pH parameter, using acid (<7) or basic (>7) pH and analyse again the results of the checking (cphstats) step.  \n",
    "\n",
    "An additional recommended and useful study is to repeat the **constant pH** simulation done in the previous step with different pH values (typically from 0 to 14), and then use the output **deprotonated fractions** for each residue as a function of the pH to plot **titration curves**. See the [AMBER tutorial nº18](https://ambermd.org/tutorials/advanced/tutorial18/section4.htm) or [AMBER tutorial nº33](https://ambermd.org/tutorials/advanced/tutorial33/section4.htm) for more information."
   ]
  },
  {
   "cell_type": "markdown",
   "metadata": {
    "variables": {
     "output_pH_dat_path": "<p><strong>NameError</strong>: name &#39;output_pH_dat_path&#39; is not defined</p>\n",
     "output_pH_pop_path": "<p><strong>NameError</strong>: name &#39;output_pH_pop_path&#39; is not defined</p>\n"
    }
   },
   "source": [
    "<a id=\"output\"></a>\n",
    "## Output files\n",
    "\n",
    "Important **Output files** generated:\n",
    " - {{output_pH_dat_path}}: **Predicted pKa values** extracted from the constant pH MD simulation.   \n",
    " - {{output_pH_pop_path}}: **Populations** of every state for every **titratable residue**, fraction of snapshots that the system spent in each state for each residue."
   ]
  },
  {
   "cell_type": "markdown",
   "metadata": {},
   "source": [
    "***\n",
    "<a id=\"questions\"></a>\n",
    "\n",
    "## Questions & Comments\n",
    "\n",
    "Questions, issues, suggestions and comments are really welcome!\n",
    "\n",
    "* GitHub issues:\n",
    "    * [https://github.com/bioexcel/biobb](https://github.com/bioexcel/biobb)\n",
    "\n",
    "* BioExcel forum:\n",
    "    * [https://ask.bioexcel.eu/c/BioExcel-Building-Blocks-library](https://ask.bioexcel.eu/c/BioExcel-Building-Blocks-library)\n"
   ]
  }
 ],
 "metadata": {
  "kernelspec": {
   "display_name": "Python 3",
   "language": "python",
   "name": "python3"
  },
  "language_info": {
   "codemirror_mode": {
    "name": "ipython",
    "version": 3
   },
   "file_extension": ".py",
   "mimetype": "text/x-python",
   "name": "python",
   "nbconvert_exporter": "python",
   "pygments_lexer": "ipython3",
   "version": "3.7.6"
  }
 },
 "nbformat": 4,
 "nbformat_minor": 2
}
