{
 "cells": [
  {
   "cell_type": "code",
   "execution_count": 1,
   "metadata": {},
   "outputs": [],
   "source": [
    "import pandas as pd\n",
    "import numpy as np"
   ]
  },
  {
   "cell_type": "code",
   "execution_count": 2,
   "metadata": {},
   "outputs": [],
   "source": [
    "file_name = '/mnt/storage2/molmap_features/protein/input/swissprot_propy_scaled.pkl'\n",
    "dataX = pd.read_pickle(file_name)"
   ]
  },
  {
   "cell_type": "code",
   "execution_count": 3,
   "metadata": {},
   "outputs": [
    {
     "data": {
      "text/plain": [
       "(466539, 1537)"
      ]
     },
     "execution_count": 3,
     "metadata": {},
     "output_type": "execute_result"
    }
   ],
   "source": [
    "dataX.shape"
   ]
  },
  {
   "cell_type": "code",
   "execution_count": 3,
   "metadata": {},
   "outputs": [
    {
     "data": {
      "text/plain": [
       "Index(['A', 'R', 'N', 'D', 'C', 'E', 'Q', 'G', 'H', 'I',\n",
       "       ...\n",
       "       'QSOgrant41', 'QSOgrant42', 'QSOgrant43', 'QSOgrant44', 'QSOgrant45',\n",
       "       'QSOgrant46', 'QSOgrant47', 'QSOgrant48', 'QSOgrant49', 'QSOgrant50'],\n",
       "      dtype='object', length=1537)"
      ]
     },
     "execution_count": 3,
     "metadata": {},
     "output_type": "execute_result"
    }
   ],
   "source": [
    "dataX.columns"
   ]
  },
  {
   "cell_type": "code",
   "execution_count": 4,
   "metadata": {},
   "outputs": [],
   "source": [
    "idx = dataX.index"
   ]
  },
  {
   "cell_type": "code",
   "execution_count": 6,
   "metadata": {},
   "outputs": [],
   "source": [
    "block_num = 16\n",
    "data_blocks = np.array_split(dataX.values, block_num, axis=1)"
   ]
  },
  {
   "cell_type": "code",
   "execution_count": 8,
   "metadata": {},
   "outputs": [],
   "source": [
    "data_block = data_blocks[0]"
   ]
  },
  {
   "cell_type": "code",
   "execution_count": 9,
   "metadata": {},
   "outputs": [],
   "source": [
    "x = (data_block[..., None] + data_block[:, None, :]) / 2\n"
   ]
  },
  {
   "cell_type": "code",
   "execution_count": 10,
   "metadata": {},
   "outputs": [],
   "source": [
    "x_spread = np.triu(x).reshape(len(dataX), -1)"
   ]
  },
  {
   "cell_type": "code",
   "execution_count": 11,
   "metadata": {},
   "outputs": [
    {
     "data": {
      "text/plain": [
       "(466539, 9409)"
      ]
     },
     "execution_count": 11,
     "metadata": {},
     "output_type": "execute_result"
    }
   ],
   "source": [
    "x_df = pd.DataFrame(x_spread, index=dataX.index)\n",
    "del x, x_spread\n",
    "x_df.shape\n"
   ]
  },
  {
   "cell_type": "code",
   "execution_count": 12,
   "metadata": {},
   "outputs": [
    {
     "data": {
      "text/plain": [
       "(466539, 4753)"
      ]
     },
     "execution_count": 12,
     "metadata": {},
     "output_type": "execute_result"
    }
   ],
   "source": [
    "x_df = x_df.loc[:, (x_df != 0).any(axis=0)]\n",
    "x_df.shape"
   ]
  },
  {
   "cell_type": "code",
   "execution_count": 14,
   "metadata": {},
   "outputs": [],
   "source": [
    "i = 1\n",
    "name = 'self_interact' + str(i) + '.pkl'\n",
    "x_df.to_pickle(name)"
   ]
  },
  {
   "cell_type": "code",
   "execution_count": 16,
   "metadata": {},
   "outputs": [
    {
     "name": "stdout",
     "output_type": "stream",
     "text": [
      "block 1 :\n",
      "\n"
     ]
    }
   ],
   "source": [
    "print('block', i, ':\\n')"
   ]
  },
  {
   "cell_type": "code",
   "execution_count": 19,
   "metadata": {},
   "outputs": [
    {
     "name": "stdout",
     "output_type": "stream",
     "text": [
      "block 0 :\n",
      "\n",
      "data shape: (466539, 9409)\n",
      "data shape, removing all zeros: (466539, 4753)\n",
      "block 0 saved\n",
      "\n",
      "block 1 :\n",
      "\n",
      "data shape: (466539, 9216)\n",
      "data shape, removing all zeros: (466539, 4656)\n",
      "block 1 saved\n",
      "\n",
      "block 2 :\n",
      "\n",
      "data shape: (466539, 9216)\n",
      "data shape, removing all zeros: (466539, 4656)\n",
      "block 2 saved\n",
      "\n",
      "block 3 :\n",
      "\n",
      "data shape: (466539, 9216)\n",
      "data shape, removing all zeros: (466539, 4656)\n",
      "block 3 saved\n",
      "\n",
      "block 4 :\n",
      "\n",
      "data shape: (466539, 9216)\n",
      "data shape, removing all zeros: (466539, 4656)\n",
      "block 4 saved\n",
      "\n",
      "block 5 :\n",
      "\n",
      "data shape: (466539, 9216)\n",
      "data shape, removing all zeros: (466539, 4656)\n",
      "block 5 saved\n",
      "\n",
      "block 6 :\n",
      "\n",
      "data shape: (466539, 9216)\n",
      "data shape, removing all zeros: (466539, 4656)\n",
      "block 6 saved\n",
      "\n",
      "block 7 :\n",
      "\n",
      "data shape: (466539, 9216)\n",
      "data shape, removing all zeros: (466539, 4656)\n",
      "block 7 saved\n",
      "\n",
      "block 8 :\n",
      "\n",
      "data shape: (466539, 9216)\n",
      "data shape, removing all zeros: (466539, 4656)\n",
      "block 8 saved\n",
      "\n",
      "block 9 :\n",
      "\n",
      "data shape: (466539, 9216)\n",
      "data shape, removing all zeros: (466539, 4656)\n",
      "block 9 saved\n",
      "\n",
      "block 10 :\n",
      "\n",
      "data shape: (466539, 9216)\n",
      "data shape, removing all zeros: (466539, 4656)\n",
      "block 10 saved\n",
      "\n",
      "block 11 :\n",
      "\n",
      "data shape: (466539, 9216)\n",
      "data shape, removing all zeros: (466539, 4656)\n",
      "block 11 saved\n",
      "\n",
      "block 12 :\n",
      "\n",
      "data shape: (466539, 9216)\n",
      "data shape, removing all zeros: (466539, 4656)\n",
      "block 12 saved\n",
      "\n",
      "block 13 :\n",
      "\n",
      "data shape: (466539, 9216)\n",
      "data shape, removing all zeros: (466539, 4656)\n",
      "block 13 saved\n",
      "\n",
      "block 14 :\n",
      "\n",
      "data shape: (466539, 9216)\n",
      "data shape, removing all zeros: (466539, 4656)\n",
      "block 14 saved\n",
      "\n",
      "block 15 :\n",
      "\n",
      "data shape: (466539, 9216)\n",
      "data shape, removing all zeros: (466539, 4656)\n",
      "block 15 saved\n",
      "\n"
     ]
    }
   ],
   "source": [
    "for i, data_block in enumerate(data_blocks):\n",
    "    x = (data_block[..., None] + data_block[:, None, :]) / 2\n",
    "    x_spread = np.triu(x).reshape(len(dataX), -1)\n",
    "    x_df = pd.DataFrame(x_spread, index=dataX.index)\n",
    "    del x, x_spread\n",
    "    print('block', i, ':')\n",
    "    print(\"data shape:\", x_df.shape)\n",
    "    x_df = x_df.loc[:, (x_df != 0).any(axis=0)]\n",
    "    print(\"data shape, removing all zeros:\", x_df.shape)\n",
    "    name = 'self_interact' + str(i) + '.pkl'\n",
    "    x_df.to_pickle(name)\n",
    "    print('block', i, 'saved')"
   ]
  }
 ],
 "metadata": {
  "interpreter": {
   "hash": "9d0865d041e67b53219329a2d317362ab3dabc3c39d758892df86351648cfb29"
  },
  "kernelspec": {
   "display_name": "Python 3.6.13 ('molmap')",
   "language": "python",
   "name": "python3"
  },
  "language_info": {
   "codemirror_mode": {
    "name": "ipython",
    "version": 3
   },
   "file_extension": ".py",
   "mimetype": "text/x-python",
   "name": "python",
   "nbconvert_exporter": "python",
   "pygments_lexer": "ipython3",
   "version": "3.7.13"
  },
  "orig_nbformat": 4
 },
 "nbformat": 4,
 "nbformat_minor": 2
}
